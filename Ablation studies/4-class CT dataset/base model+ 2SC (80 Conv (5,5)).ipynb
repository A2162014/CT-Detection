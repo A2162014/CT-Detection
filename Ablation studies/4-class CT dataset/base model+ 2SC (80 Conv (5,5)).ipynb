{
  "nbformat": 4,
  "nbformat_minor": 0,
  "metadata": {
    "colab": {
      "provenance": [],
      "gpuType": "T4"
    },
    "kernelspec": {
      "name": "python3",
      "display_name": "Python 3"
    },
    "language_info": {
      "name": "python"
    },
    "accelerator": "GPU"
  },
  "cells": [
    {
      "cell_type": "code",
      "execution_count": null,
      "metadata": {
        "id": "sJXG6UVRSg-V"
      },
      "outputs": [],
      "source": []
    },
    {
      "cell_type": "code",
      "execution_count": null,
      "metadata": {
        "id": "GitBDng_36xV"
      },
      "outputs": [],
      "source": [
        "import zipfile"
      ]
    },
    {
      "cell_type": "code",
      "execution_count": null,
      "metadata": {
        "id": "z3FHA2tYbNfx"
      },
      "outputs": [],
      "source": [
        "import os\n",
        "import random\n",
        "import zipfile\n",
        "from sklearn.model_selection import train_test_split\n",
        "import shutil\n",
        "import numpy as np\n",
        "import pandas as pd\n",
        "import matplotlib.pyplot as plt\n",
        "import seaborn as sn\n",
        "import skimage.io\n",
        "import keras.backend as K\n",
        "import tensorflow as tf\n",
        "from tensorflow.keras.models import Sequential, Model\n",
        "from tensorflow.keras.layers import Conv2D, MaxPooling2D, Flatten, Dense, Dropout, BatchNormalization, Activation , GlobalAveragePooling2D ,DepthwiseConv2D ,Input ,Add ,Concatenate\n",
        "from tensorflow.keras.optimizers import Adam\n",
        "from tensorflow.keras.layers import ReLU, LeakyReLU\n",
        "from tensorflow.keras.losses import CategoricalCrossentropy\n",
        "from tensorflow.keras.metrics import Accuracy\n",
        "from tensorflow.keras.preprocessing.image import ImageDataGenerator\n",
        "from tensorflow.keras.callbacks import ReduceLROnPlateau, ModelCheckpoint, EarlyStopping , LearningRateScheduler\n",
        "from sklearn.metrics import confusion_matrix, accuracy_score"
      ]
    },
    {
      "cell_type": "code",
      "execution_count": null,
      "metadata": {
        "colab": {
          "base_uri": "https://localhost:8080/"
        },
        "id": "PvNXi8K2K1HO",
        "outputId": "bad537bc-f031-4c92-c8da-5ebedd7efa48"
      },
      "outputs": [
        {
          "output_type": "stream",
          "name": "stdout",
          "text": [
            "Requirement already satisfied: tensorflow-addons==0.17.1 in /usr/local/lib/python3.10/dist-packages (0.17.1)\n",
            "Requirement already satisfied: packaging in /usr/local/lib/python3.10/dist-packages (from tensorflow-addons==0.17.1) (24.1)\n",
            "Requirement already satisfied: typeguard>=2.7 in /usr/local/lib/python3.10/dist-packages (from tensorflow-addons==0.17.1) (4.3.0)\n",
            "Requirement already satisfied: typing-extensions>=4.10.0 in /usr/local/lib/python3.10/dist-packages (from typeguard>=2.7->tensorflow-addons==0.17.1) (4.12.2)\n"
          ]
        }
      ],
      "source": [
        "!pip install tensorflow-addons==0.17.1\n",
        "import tensorflow_addons as tfa"
      ]
    },
    {
      "cell_type": "markdown",
      "metadata": {
        "id": "PO_UpS4vaBi8"
      },
      "source": [
        "Try 3"
      ]
    },
    {
      "cell_type": "code",
      "execution_count": null,
      "metadata": {
        "id": "QyN8qV0huMwD"
      },
      "outputs": [],
      "source": [
        "zip_path = \"/content/drive/MyDrive/Colab Notebooks/Lung Cancer dataset 1 /Copy of train.zip\"  # Path to the ZIP file\n",
        "extracted_path = \"/content/chest_ctscan_images\"  # Path to extract the files\n",
        "with zipfile.ZipFile(zip_path, 'r') as zip_ref:\n",
        "    zip_ref.extractall(extracted_path)"
      ]
    },
    {
      "cell_type": "code",
      "execution_count": null,
      "metadata": {
        "id": "TwEwT2nCuPYv"
      },
      "outputs": [],
      "source": [
        "train_dir = os.path.join(extracted_path, \"train\")\n",
        "valid_dir = \"/content/chest_ctscan_images/valid\"\n",
        "test_dir = \"/content/chest_ctscan_images/test\""
      ]
    },
    {
      "cell_type": "code",
      "execution_count": null,
      "metadata": {
        "id": "cUjh_ksquT_w"
      },
      "outputs": [],
      "source": [
        "# Create a validation set from a portion of the training set\n",
        "def create_validation_set(source_dir, validation_dir, validation_ratio=0.2):\n",
        "    if not os.path.exists(validation_dir):\n",
        "        os.makedirs(validation_dir)\n",
        "\n",
        "    for class_name in os.listdir(source_dir):\n",
        "        class_source_path = os.path.join(source_dir, class_name)\n",
        "        class_valid_path = os.path.join(validation_dir, class_name)\n",
        "\n",
        "        if not os.path.exists(class_valid_path):\n",
        "            os.makedirs(class_valid_path)\n",
        "\n",
        "        all_files = os.listdir(class_source_path)\n",
        "        train_files, valid_files = train_test_split(all_files, test_size=validation_ratio, random_state=42)\n",
        "\n",
        "        for file in valid_files:\n",
        "            shutil.move(os.path.join(class_source_path, file), os.path.join(class_valid_path, file))\n",
        "\n",
        "create_validation_set(train_dir, valid_dir, validation_ratio=0.2)  # Split 20% for validation\n"
      ]
    },
    {
      "cell_type": "code",
      "execution_count": null,
      "metadata": {
        "id": "xPSkhXLkn0-0"
      },
      "outputs": [],
      "source": [
        "# Example code to create a test set from a portion of the training set\n",
        "def create_test_set(source_dir, test_dir, test_ratio=0.1):\n",
        "    # Create test directory if it doesn't exist\n",
        "    if not os.path.exists(test_dir):\n",
        "        os.makedirs(test_dir)\n",
        "\n",
        "    for class_name in os.listdir(source_dir):\n",
        "        class_source_path = os.path.join(source_dir, class_name)\n",
        "        class_test_path = os.path.join(test_dir, class_name)\n",
        "\n",
        "        if not os.path.exists(class_test_path):\n",
        "            os.makedirs(class_test_path)\n",
        "\n",
        "        all_files = os.listdir(class_source_path)\n",
        "        train_files, test_files = train_test_split(all_files, test_size=test_ratio, random_state=42)\n",
        "\n",
        "        for file in test_files:\n",
        "            shutil.move(os.path.join(class_source_path, file), os.path.join(class_test_path, file))\n",
        "\n",
        "create_test_set(train_dir, test_dir, test_ratio=0.18)  # Split 10% for test\n"
      ]
    },
    {
      "cell_type": "code",
      "execution_count": null,
      "metadata": {
        "id": "OBHrYqxLuU5C"
      },
      "outputs": [],
      "source": [
        "train_datagen = ImageDataGenerator(\n",
        "    # rescale=1.0/255,\n",
        "    # rotation_range=20,\n",
        "    # width_shift_range=0.2,\n",
        "    # height_shift_range=0.2,\n",
        "    # shear_range=0.2,\n",
        "    # zoom_range=0.2,\n",
        "    # horizontal_flip=True\n",
        ")"
      ]
    },
    {
      "cell_type": "code",
      "execution_count": null,
      "metadata": {
        "id": "5OZi-BPsuYkQ"
      },
      "outputs": [],
      "source": [
        "valid_datagen = ImageDataGenerator()\n",
        "test_datagen = ImageDataGenerator()"
      ]
    },
    {
      "cell_type": "code",
      "execution_count": null,
      "metadata": {
        "id": "s58bw8FiuczT",
        "colab": {
          "base_uri": "https://localhost:8080/"
        },
        "outputId": "01a2528e-cb2c-4e04-f4e2-5b81f40e14ff"
      },
      "outputs": [
        {
          "output_type": "stream",
          "name": "stdout",
          "text": [
            "Found 654 images belonging to 4 classes.\n"
          ]
        }
      ],
      "source": [
        "train_generator = train_datagen.flow_from_directory(\n",
        "    train_dir,\n",
        "    target_size=(224,224),\n",
        "    batch_size=16,\n",
        "    class_mode='categorical'\n",
        ")"
      ]
    },
    {
      "cell_type": "code",
      "execution_count": null,
      "metadata": {
        "id": "_VAT1nn6ufRV",
        "colab": {
          "base_uri": "https://localhost:8080/"
        },
        "outputId": "974b20dd-4996-4caa-cbc6-2811ba476b5c"
      },
      "outputs": [
        {
          "output_type": "stream",
          "name": "stdout",
          "text": [
            "Found 201 images belonging to 4 classes.\n"
          ]
        }
      ],
      "source": [
        "validation_generator = valid_datagen.flow_from_directory(\n",
        "    valid_dir,\n",
        "    target_size=(224,224),\n",
        "    batch_size=16,\n",
        "    class_mode='categorical'\n",
        ")"
      ]
    },
    {
      "cell_type": "code",
      "execution_count": null,
      "metadata": {
        "id": "79higThAuhq_",
        "colab": {
          "base_uri": "https://localhost:8080/"
        },
        "outputId": "468dee13-f8fa-4f98-ca9a-5ecac367c94b"
      },
      "outputs": [
        {
          "output_type": "stream",
          "name": "stdout",
          "text": [
            "Found 145 images belonging to 4 classes.\n"
          ]
        }
      ],
      "source": [
        "test_generator = test_datagen.flow_from_directory(\n",
        "    test_dir,\n",
        "    target_size=(224,224),\n",
        "    batch_size=16,\n",
        "    class_mode='categorical'\n",
        ")"
      ]
    },
    {
      "cell_type": "code",
      "execution_count": null,
      "metadata": {
        "id": "wJy_CEHicRgM"
      },
      "outputs": [],
      "source": [
        "os.makedirs(test_dir, exist_ok=True)\n"
      ]
    },
    {
      "cell_type": "code",
      "execution_count": null,
      "metadata": {
        "id": "d4p9qKimcXnV",
        "colab": {
          "base_uri": "https://localhost:8080/"
        },
        "outputId": "e4986a6b-adcc-475b-bb90-7ce895acd4e2"
      },
      "outputs": [
        {
          "output_type": "stream",
          "name": "stdout",
          "text": [
            "Number of files in test directory: 4\n"
          ]
        }
      ],
      "source": [
        "# Example to list files in the test directory\n",
        "test_files = os.listdir(test_dir)\n",
        "print(\"Number of files in test directory:\", len(test_files))"
      ]
    },
    {
      "cell_type": "code",
      "execution_count": null,
      "metadata": {
        "id": "gL6e9ixdcBKR",
        "colab": {
          "base_uri": "https://localhost:8080/"
        },
        "outputId": "e52907cd-fba0-42d9-8739-65f3bcf33004"
      },
      "outputs": [
        {
          "output_type": "stream",
          "name": "stdout",
          "text": [
            "Test directory: /content/chest_ctscan_images/test\n"
          ]
        }
      ],
      "source": [
        "print(\"Test directory:\", test_dir)\n"
      ]
    },
    {
      "cell_type": "code",
      "execution_count": null,
      "metadata": {
        "id": "JVXysXnmD-9z"
      },
      "outputs": [],
      "source": [
        "def f1_score(y_true, y_pred):\n",
        "    true_positives = K.sum(K.round(K.clip(y_true * y_pred, 0, 1)))\n",
        "    possible_positives = K.sum(K.round(K.clip(y_true, 0, 1)))\n",
        "    predicted_positives = K.sum(K.round(K.clip(y_pred, 0, 1)))\n",
        "    precision = true_positives / (predicted_positives + K.epsilon())\n",
        "    recall = true_positives / (possible_positives + K.epsilon())\n",
        "    f1_val = 2 * (precision * recall) / (precision + recall + K.epsilon())\n",
        "    return f1_val"
      ]
    },
    {
      "cell_type": "code",
      "execution_count": null,
      "metadata": {
        "id": "aJPN14HlEZe-"
      },
      "outputs": [],
      "source": [
        "METRICS = [\n",
        "    tf.keras.metrics.CategoricalAccuracy(name='accuracy'),\n",
        "    tf.keras.metrics.Precision(name='precision'),\n",
        "    tf.keras.metrics.Recall(name='recall'),\n",
        "    tf.keras.metrics.AUC(name='auc'),\n",
        "    tfa.metrics.F1Score(num_classes=4, average=\"micro\", name='f1_score')\n",
        "]"
      ]
    },
    {
      "cell_type": "code",
      "execution_count": null,
      "metadata": {
        "id": "12YY2jVQaBjB",
        "colab": {
          "base_uri": "https://localhost:8080/"
        },
        "outputId": "21a89876-7f2b-4dcf-9aa8-0f42ca272b95"
      },
      "outputs": [
        {
          "output_type": "stream",
          "name": "stdout",
          "text": [
            "Model: \"model_6\"\n",
            "__________________________________________________________________________________________________\n",
            " Layer (type)                Output Shape                 Param #   Connected to                  \n",
            "==================================================================================================\n",
            " input_7 (InputLayer)        [(None, 224, 224, 3)]        0         []                            \n",
            "                                                                                                  \n",
            " conv2d_60 (Conv2D)          (None, 224, 224, 32)         896       ['input_7[0][0]']             \n",
            "                                                                                                  \n",
            " batch_normalization_60 (Ba  (None, 224, 224, 32)         128       ['conv2d_60[0][0]']           \n",
            " tchNormalization)                                                                                \n",
            "                                                                                                  \n",
            " max_pooling2d_36 (MaxPooli  (None, 112, 112, 32)         0         ['batch_normalization_60[0][0]\n",
            " ng2D)                                                              ']                            \n",
            "                                                                                                  \n",
            " conv2d_61 (Conv2D)          (None, 112, 112, 64)         18496     ['max_pooling2d_36[0][0]']    \n",
            "                                                                                                  \n",
            " batch_normalization_61 (Ba  (None, 112, 112, 64)         256       ['conv2d_61[0][0]']           \n",
            " tchNormalization)                                                                                \n",
            "                                                                                                  \n",
            " max_pooling2d_37 (MaxPooli  (None, 56, 56, 64)           0         ['batch_normalization_61[0][0]\n",
            " ng2D)                                                              ']                            \n",
            "                                                                                                  \n",
            " conv2d_62 (Conv2D)          (None, 56, 56, 96)           55392     ['max_pooling2d_37[0][0]']    \n",
            "                                                                                                  \n",
            " batch_normalization_62 (Ba  (None, 56, 56, 96)           384       ['conv2d_62[0][0]']           \n",
            " tchNormalization)                                                                                \n",
            "                                                                                                  \n",
            " max_pooling2d_38 (MaxPooli  (None, 28, 28, 96)           0         ['batch_normalization_62[0][0]\n",
            " ng2D)                                                              ']                            \n",
            "                                                                                                  \n",
            " depthwise_conv2d_54 (Depth  (None, 28, 28, 96)           960       ['max_pooling2d_38[0][0]']    \n",
            " wiseConv2D)                                                                                      \n",
            "                                                                                                  \n",
            " conv2d_63 (Conv2D)          (None, 28, 28, 128)          110720    ['depthwise_conv2d_54[0][0]'] \n",
            "                                                                                                  \n",
            " batch_normalization_63 (Ba  (None, 28, 28, 128)          512       ['conv2d_63[0][0]']           \n",
            " tchNormalization)                                                                                \n",
            "                                                                                                  \n",
            " conv2d_64 (Conv2D)          (None, 28, 28, 64)           8256      ['batch_normalization_63[0][0]\n",
            "                                                                    ']                            \n",
            "                                                                                                  \n",
            " conv2d_65 (Conv2D)          (None, 28, 28, 160)          92320     ['conv2d_64[0][0]']           \n",
            "                                                                                                  \n",
            " batch_normalization_64 (Ba  (None, 28, 28, 160)          640       ['conv2d_65[0][0]']           \n",
            " tchNormalization)                                                                                \n",
            "                                                                                                  \n",
            " depthwise_conv2d_55 (Depth  (None, 28, 28, 160)          1600      ['batch_normalization_64[0][0]\n",
            " wiseConv2D)                                                        ']                            \n",
            "                                                                                                  \n",
            " depthwise_conv2d_56 (Depth  (None, 28, 28, 160)          1600      ['depthwise_conv2d_55[0][0]'] \n",
            " wiseConv2D)                                                                                      \n",
            "                                                                                                  \n",
            " concatenate_12 (Concatenat  (None, 28, 28, 256)          0         ['depthwise_conv2d_56[0][0]', \n",
            " e)                                                                  'max_pooling2d_38[0][0]']    \n",
            "                                                                                                  \n",
            " max_pooling2d_39 (MaxPooli  (None, 14, 14, 256)          0         ['concatenate_12[0][0]']      \n",
            " ng2D)                                                                                            \n",
            "                                                                                                  \n",
            " depthwise_conv2d_57 (Depth  (None, 14, 14, 256)          2560      ['max_pooling2d_39[0][0]']    \n",
            " wiseConv2D)                                                                                      \n",
            "                                                                                                  \n",
            " conv2d_66 (Conv2D)          (None, 14, 14, 192)          442560    ['depthwise_conv2d_57[0][0]'] \n",
            "                                                                                                  \n",
            " batch_normalization_65 (Ba  (None, 14, 14, 192)          768       ['conv2d_66[0][0]']           \n",
            " tchNormalization)                                                                                \n",
            "                                                                                                  \n",
            " conv2d_67 (Conv2D)          (None, 14, 14, 96)           18528     ['batch_normalization_65[0][0]\n",
            "                                                                    ']                            \n",
            "                                                                                                  \n",
            " depthwise_conv2d_60 (Depth  (None, 24, 24, 64)           1664      ['conv2d_64[0][0]']           \n",
            " wiseConv2D)                                                                                      \n",
            "                                                                                                  \n",
            " conv2d_68 (Conv2D)          (None, 14, 14, 224)          193760    ['conv2d_67[0][0]']           \n",
            "                                                                                                  \n",
            " conv2d_69 (Conv2D)          (None, 20, 20, 80)           128080    ['depthwise_conv2d_60[0][0]'] \n",
            "                                                                                                  \n",
            " batch_normalization_66 (Ba  (None, 14, 14, 224)          896       ['conv2d_68[0][0]']           \n",
            " tchNormalization)                                                                                \n",
            "                                                                                                  \n",
            " batch_normalization_68 (Ba  (None, 20, 20, 80)           320       ['conv2d_69[0][0]']           \n",
            " tchNormalization)                                                                                \n",
            "                                                                                                  \n",
            " depthwise_conv2d_58 (Depth  (None, 14, 14, 224)          2240      ['batch_normalization_66[0][0]\n",
            " wiseConv2D)                                                        ']                            \n",
            "                                                                                                  \n",
            " max_pooling2d_41 (MaxPooli  (None, 10, 10, 80)           0         ['batch_normalization_68[0][0]\n",
            " ng2D)                                                              ']                            \n",
            "                                                                                                  \n",
            " depthwise_conv2d_59 (Depth  (None, 14, 14, 224)          2240      ['depthwise_conv2d_58[0][0]'] \n",
            " wiseConv2D)                                                                                      \n",
            "                                                                                                  \n",
            " depthwise_conv2d_61 (Depth  (None, 6, 6, 80)             2080      ['max_pooling2d_41[0][0]']    \n",
            " wiseConv2D)                                                                                      \n",
            "                                                                                                  \n",
            " max_pooling2d_40 (MaxPooli  (None, 7, 7, 224)            0         ['depthwise_conv2d_59[0][0]'] \n",
            " ng2D)                                                                                            \n",
            "                                                                                                  \n",
            " depthwise_conv2d_62 (Depth  (None, 2, 2, 80)             2080      ['depthwise_conv2d_61[0][0]'] \n",
            " wiseConv2D)                                                                                      \n",
            "                                                                                                  \n",
            " batch_normalization_67 (Ba  (None, 7, 7, 224)            896       ['max_pooling2d_40[0][0]']    \n",
            " tchNormalization)                                                                                \n",
            "                                                                                                  \n",
            " batch_normalization_69 (Ba  (None, 2, 2, 80)             320       ['depthwise_conv2d_62[0][0]'] \n",
            " tchNormalization)                                                                                \n",
            "                                                                                                  \n",
            " global_average_pooling2d_1  (None, 224)                  0         ['batch_normalization_67[0][0]\n",
            " 2 (GlobalAveragePooling2D)                                         ']                            \n",
            "                                                                                                  \n",
            " global_average_pooling2d_1  (None, 80)                   0         ['batch_normalization_69[0][0]\n",
            " 3 (GlobalAveragePooling2D)                                         ']                            \n",
            "                                                                                                  \n",
            " concatenate_13 (Concatenat  (None, 304)                  0         ['global_average_pooling2d_12[\n",
            " e)                                                                 0][0]',                       \n",
            "                                                                     'global_average_pooling2d_13[\n",
            "                                                                    0][0]']                       \n",
            "                                                                                                  \n",
            " dense_6 (Dense)             (None, 4)                    1220      ['concatenate_13[0][0]']      \n",
            "                                                                                                  \n",
            "==================================================================================================\n",
            "Total params: 1092372 (4.17 MB)\n",
            "Trainable params: 1089812 (4.16 MB)\n",
            "Non-trainable params: 2560 (10.00 KB)\n",
            "__________________________________________________________________________________________________\n"
          ]
        }
      ],
      "source": [
        "# Define the input\n",
        "input_layer = Input(shape=(224, 224, 3))\n",
        "\n",
        "# Block 1\n",
        "x = Conv2D(32, (3,3), activation='relu', padding='same')(input_layer)\n",
        "x = BatchNormalization()(x)\n",
        "x = MaxPooling2D((2, 2))(x)\n",
        "\n",
        "# Block 2\n",
        "x = Conv2D(64, (3,3), activation='relu', padding='same')(x)\n",
        "x = BatchNormalization()(x)\n",
        "x = MaxPooling2D((2, 2))(x)\n",
        "\n",
        "# Block 3\n",
        "block3_output = Conv2D(96, (3,3), activation='relu', padding='same')(x)\n",
        "block3_output = BatchNormalization()(block3_output)\n",
        "block3_output = MaxPooling2D((2, 2))(block3_output)\n",
        "\n",
        "# Block 4\n",
        "x = DepthwiseConv2D(kernel_size=(3, 3), padding='same', activation='relu')(block3_output)\n",
        "x = Conv2D(128, (3, 3), activation='relu', padding='same')(x)\n",
        "x = BatchNormalization()(x)\n",
        "block4_branch = Conv2D(64, (1,1), activation='relu', padding='same')(x)\n",
        "x = Conv2D(160, (3, 3), activation='relu', padding='same')(block4_branch)\n",
        "x = BatchNormalization()(x)\n",
        "x = DepthwiseConv2D(kernel_size=(3, 3), padding='same', activation='relu')(x)\n",
        "block4_output = DepthwiseConv2D(kernel_size=(3, 3), padding='same', activation='relu')(x)\n",
        "\n",
        "x = Concatenate()([block4_output, block3_output])\n",
        "x = MaxPooling2D((2, 2))(x)\n",
        "\n",
        "# Block 5\n",
        "x = DepthwiseConv2D(kernel_size=(3, 3), padding='same', activation='relu')(x)\n",
        "x = Conv2D(192, (3,3), activation='relu', padding='same')(x)\n",
        "x = BatchNormalization()(x)\n",
        "x = Conv2D(96, (1,1), activation='relu', padding='same')(x)\n",
        "x = Conv2D(224, (3,3), activation='relu', padding='same')(x)\n",
        "x = BatchNormalization()(x)\n",
        "x = DepthwiseConv2D(kernel_size=(3, 3), padding='same', activation='relu')(x)\n",
        "x = DepthwiseConv2D(kernel_size=(3, 3), padding='same', activation='relu')(x)\n",
        "\n",
        "# MaxPooling before Block 6\n",
        "main_branch_output = MaxPooling2D((2, 2))(x)\n",
        "main_branch_output = BatchNormalization()(main_branch_output)\n",
        "\n",
        "parallel_branch = DepthwiseConv2D(kernel_size=(5,5) ,activation='relu')(block4_branch)\n",
        "parallel_branch = Conv2D(80, (5,5), activation='relu')(parallel_branch)\n",
        "parallel_branch = BatchNormalization()(parallel_branch)\n",
        "parallel_branch = MaxPooling2D((2, 2))(parallel_branch)\n",
        "parallel_branch = DepthwiseConv2D(kernel_size=(5,5) ,activation='relu')(parallel_branch)\n",
        "parallel_branch = DepthwiseConv2D(kernel_size=(5,5),activation='relu')(parallel_branch)\n",
        "parallel_branch = BatchNormalization()(parallel_branch)\n",
        "\n",
        "main_branch_gap = GlobalAveragePooling2D()(main_branch_output)\n",
        "parallel_branch_gap = GlobalAveragePooling2D()(parallel_branch)\n",
        "\n",
        "# Concatenate the GAP outputs\n",
        "x = Concatenate()([main_branch_gap, parallel_branch_gap])\n",
        "output_layer = Dense(4, activation='softmax')(x)\n",
        "\n",
        "# Define the model\n",
        "model = Model(inputs=input_layer, outputs=output_layer)\n",
        "\n",
        "# Print the model summary\n",
        "model.summary()"
      ]
    },
    {
      "cell_type": "code",
      "source": [],
      "metadata": {
        "id": "kIpnFMMF2scs"
      },
      "execution_count": null,
      "outputs": []
    },
    {
      "cell_type": "code",
      "execution_count": null,
      "metadata": {
        "id": "CMtjjQwmaBjC"
      },
      "outputs": [],
      "source": [
        "model.compile(\n",
        "    loss=\"categorical_crossentropy\",\n",
        "    optimizer=Adam(learning_rate=0.0005),\n",
        "    metrics=METRICS\n",
        ")"
      ]
    },
    {
      "cell_type": "code",
      "source": [
        "def lr_schedule(epoch,learning_rate):\n",
        "  if epoch <7:\n",
        "    return learning_rate\n",
        "  else:\n",
        "    return 0.95*learning_rate\n",
        "\n",
        "lr_scheduler = LearningRateScheduler(lr_schedule)"
      ],
      "metadata": {
        "id": "rjxAVMVM24Mr"
      },
      "execution_count": null,
      "outputs": []
    },
    {
      "cell_type": "code",
      "execution_count": null,
      "metadata": {
        "id": "jD_QCXEUaBjC"
      },
      "outputs": [],
      "source": [
        "# print(\"Length of train_dataset:\", len(train_dataset))\n",
        "# print(\"Length of valid_dataset:\", len(valid_dataset))"
      ]
    },
    {
      "cell_type": "code",
      "execution_count": null,
      "metadata": {
        "id": "9Zjmg5poaBjC"
      },
      "outputs": [],
      "source": [
        "callbacks = [\n",
        "    ModelCheckpoint(\"best_model.keras\", monitor=\"val_accuracy\", save_best_only=True, verbose=1)#,\n",
        "    # EarlyStopping(monitor=\"val_loss\", patience=10, verbose=1, restore_best_weights=True)\n",
        "]"
      ]
    },
    {
      "cell_type": "code",
      "execution_count": null,
      "metadata": {
        "id": "zgcn2wlOaBjD",
        "colab": {
          "base_uri": "https://localhost:8080/"
        },
        "outputId": "3d8721c6-d502-4805-81ef-5296fd166683"
      },
      "outputs": [
        {
          "output_type": "stream",
          "name": "stdout",
          "text": [
            "Epoch 1/35\n",
            "41/41 [==============================] - ETA: 0s - loss: 0.9940 - accuracy: 0.5688 - precision: 0.8063 - recall: 0.2355 - auc: 0.8336 - f1_score: 0.5688\n",
            "Epoch 1: val_accuracy improved from -inf to 0.33831, saving model to best_model.keras\n",
            "41/41 [==============================] - 15s 156ms/step - loss: 0.9940 - accuracy: 0.5688 - precision: 0.8063 - recall: 0.2355 - auc: 0.8336 - f1_score: 0.5688 - val_loss: 1.3683 - val_accuracy: 0.3383 - val_precision: 0.0000e+00 - val_recall: 0.0000e+00 - val_auc: 0.6095 - val_f1_score: 0.3383 - lr: 5.0000e-04\n",
            "Epoch 2/35\n",
            "41/41 [==============================] - ETA: 0s - loss: 0.7095 - accuracy: 0.7309 - precision: 0.8431 - recall: 0.5505 - auc: 0.9245 - f1_score: 0.7309\n",
            "Epoch 2: val_accuracy did not improve from 0.33831\n",
            "41/41 [==============================] - 5s 114ms/step - loss: 0.7095 - accuracy: 0.7309 - precision: 0.8431 - recall: 0.5505 - auc: 0.9245 - f1_score: 0.7309 - val_loss: 1.3613 - val_accuracy: 0.3383 - val_precision: 0.0000e+00 - val_recall: 0.0000e+00 - val_auc: 0.6184 - val_f1_score: 0.3383 - lr: 5.0000e-04\n",
            "Epoch 3/35\n",
            "41/41 [==============================] - ETA: 0s - loss: 0.4453 - accuracy: 0.8884 - precision: 0.9201 - recall: 0.7920 - auc: 0.9761 - f1_score: 0.8884\n",
            "Epoch 3: val_accuracy did not improve from 0.33831\n",
            "41/41 [==============================] - 6s 144ms/step - loss: 0.4453 - accuracy: 0.8884 - precision: 0.9201 - recall: 0.7920 - auc: 0.9761 - f1_score: 0.8884 - val_loss: 1.3621 - val_accuracy: 0.3383 - val_precision: 0.0000e+00 - val_recall: 0.0000e+00 - val_auc: 0.6270 - val_f1_score: 0.3383 - lr: 5.0000e-04\n",
            "Epoch 4/35\n",
            "41/41 [==============================] - ETA: 0s - loss: 0.2365 - accuracy: 0.9480 - precision: 0.9648 - recall: 0.9220 - auc: 0.9933 - f1_score: 0.9480\n",
            "Epoch 4: val_accuracy did not improve from 0.33831\n",
            "41/41 [==============================] - 5s 117ms/step - loss: 0.2365 - accuracy: 0.9480 - precision: 0.9648 - recall: 0.9220 - auc: 0.9933 - f1_score: 0.9480 - val_loss: 1.3630 - val_accuracy: 0.3383 - val_precision: 0.0000e+00 - val_recall: 0.0000e+00 - val_auc: 0.6398 - val_f1_score: 0.3383 - lr: 5.0000e-04\n",
            "Epoch 5/35\n",
            "41/41 [==============================] - ETA: 0s - loss: 0.1300 - accuracy: 0.9725 - precision: 0.9829 - recall: 0.9648 - auc: 0.9986 - f1_score: 0.9725\n",
            "Epoch 5: val_accuracy did not improve from 0.33831\n",
            "41/41 [==============================] - 6s 134ms/step - loss: 0.1300 - accuracy: 0.9725 - precision: 0.9829 - recall: 0.9648 - auc: 0.9986 - f1_score: 0.9725 - val_loss: 1.3499 - val_accuracy: 0.3383 - val_precision: 0.0000e+00 - val_recall: 0.0000e+00 - val_auc: 0.6665 - val_f1_score: 0.3383 - lr: 5.0000e-04\n",
            "Epoch 6/35\n",
            "41/41 [==============================] - ETA: 0s - loss: 0.1093 - accuracy: 0.9755 - precision: 0.9783 - recall: 0.9648 - auc: 0.9990 - f1_score: 0.9755\n",
            "Epoch 6: val_accuracy improved from 0.33831 to 0.47264, saving model to best_model.keras\n",
            "41/41 [==============================] - 5s 120ms/step - loss: 0.1093 - accuracy: 0.9755 - precision: 0.9783 - recall: 0.9648 - auc: 0.9990 - f1_score: 0.9755 - val_loss: 1.3232 - val_accuracy: 0.4726 - val_precision: 0.0000e+00 - val_recall: 0.0000e+00 - val_auc: 0.7180 - val_f1_score: 0.4726 - lr: 5.0000e-04\n",
            "Epoch 7/35\n",
            "41/41 [==============================] - ETA: 0s - loss: 0.0546 - accuracy: 0.9924 - precision: 0.9923 - recall: 0.9893 - auc: 0.9999 - f1_score: 0.9924\n",
            "Epoch 7: val_accuracy did not improve from 0.47264\n",
            "41/41 [==============================] - 7s 167ms/step - loss: 0.0546 - accuracy: 0.9924 - precision: 0.9923 - recall: 0.9893 - auc: 0.9999 - f1_score: 0.9924 - val_loss: 1.2742 - val_accuracy: 0.3731 - val_precision: 0.0000e+00 - val_recall: 0.0000e+00 - val_auc: 0.7077 - val_f1_score: 0.3731 - lr: 5.0000e-04\n",
            "Epoch 8/35\n",
            "41/41 [==============================] - ETA: 0s - loss: 0.0412 - accuracy: 0.9939 - precision: 0.9939 - recall: 0.9939 - auc: 0.9999 - f1_score: 0.9939\n",
            "Epoch 8: val_accuracy did not improve from 0.47264\n",
            "41/41 [==============================] - 5s 113ms/step - loss: 0.0412 - accuracy: 0.9939 - precision: 0.9939 - recall: 0.9939 - auc: 0.9999 - f1_score: 0.9939 - val_loss: 1.2062 - val_accuracy: 0.4577 - val_precision: 0.0000e+00 - val_recall: 0.0000e+00 - val_auc: 0.7635 - val_f1_score: 0.4577 - lr: 4.7500e-04\n",
            "Epoch 9/35\n",
            "41/41 [==============================] - ETA: 0s - loss: 0.0214 - accuracy: 1.0000 - precision: 1.0000 - recall: 0.9985 - auc: 1.0000 - f1_score: 1.0000\n",
            "Epoch 9: val_accuracy did not improve from 0.47264\n",
            "41/41 [==============================] - 5s 118ms/step - loss: 0.0214 - accuracy: 1.0000 - precision: 1.0000 - recall: 0.9985 - auc: 1.0000 - f1_score: 1.0000 - val_loss: 1.0907 - val_accuracy: 0.4080 - val_precision: 0.9722 - val_recall: 0.1741 - val_auc: 0.7943 - val_f1_score: 0.4080 - lr: 4.5125e-04\n",
            "Epoch 10/35\n",
            "41/41 [==============================] - ETA: 0s - loss: 0.0093 - accuracy: 1.0000 - precision: 1.0000 - recall: 1.0000 - auc: 1.0000 - f1_score: 1.0000\n",
            "Epoch 10: val_accuracy improved from 0.47264 to 0.66667, saving model to best_model.keras\n",
            "41/41 [==============================] - 6s 147ms/step - loss: 0.0093 - accuracy: 1.0000 - precision: 1.0000 - recall: 1.0000 - auc: 1.0000 - f1_score: 1.0000 - val_loss: 0.8979 - val_accuracy: 0.6667 - val_precision: 0.9375 - val_recall: 0.2985 - val_auc: 0.9140 - val_f1_score: 0.6667 - lr: 4.2869e-04\n",
            "Epoch 11/35\n",
            "41/41 [==============================] - ETA: 0s - loss: 0.0076 - accuracy: 1.0000 - precision: 1.0000 - recall: 1.0000 - auc: 1.0000 - f1_score: 1.0000\n",
            "Epoch 11: val_accuracy improved from 0.66667 to 0.69154, saving model to best_model.keras\n",
            "41/41 [==============================] - 5s 119ms/step - loss: 0.0076 - accuracy: 1.0000 - precision: 1.0000 - recall: 1.0000 - auc: 1.0000 - f1_score: 1.0000 - val_loss: 0.7783 - val_accuracy: 0.6915 - val_precision: 0.8687 - val_recall: 0.4279 - val_auc: 0.9231 - val_f1_score: 0.6915 - lr: 4.0725e-04\n",
            "Epoch 12/35\n",
            "41/41 [==============================] - ETA: 0s - loss: 0.0075 - accuracy: 1.0000 - precision: 1.0000 - recall: 1.0000 - auc: 1.0000 - f1_score: 1.0000\n",
            "Epoch 12: val_accuracy improved from 0.69154 to 0.86567, saving model to best_model.keras\n",
            "41/41 [==============================] - 6s 147ms/step - loss: 0.0075 - accuracy: 1.0000 - precision: 1.0000 - recall: 1.0000 - auc: 1.0000 - f1_score: 1.0000 - val_loss: 0.5492 - val_accuracy: 0.8657 - val_precision: 0.9067 - val_recall: 0.6766 - val_auc: 0.9699 - val_f1_score: 0.8657 - lr: 3.8689e-04\n",
            "Epoch 13/35\n",
            "41/41 [==============================] - ETA: 0s - loss: 0.0130 - accuracy: 1.0000 - precision: 1.0000 - recall: 1.0000 - auc: 1.0000 - f1_score: 1.0000\n",
            "Epoch 13: val_accuracy improved from 0.86567 to 0.92537, saving model to best_model.keras\n",
            "41/41 [==============================] - 5s 120ms/step - loss: 0.0130 - accuracy: 1.0000 - precision: 1.0000 - recall: 1.0000 - auc: 1.0000 - f1_score: 1.0000 - val_loss: 0.3633 - val_accuracy: 0.9254 - val_precision: 0.9620 - val_recall: 0.8806 - val_auc: 0.9890 - val_f1_score: 0.9254 - lr: 3.6755e-04\n",
            "Epoch 14/35\n",
            "41/41 [==============================] - ETA: 0s - loss: 0.0062 - accuracy: 1.0000 - precision: 1.0000 - recall: 1.0000 - auc: 1.0000 - f1_score: 1.0000\n",
            "Epoch 14: val_accuracy improved from 0.92537 to 0.94030, saving model to best_model.keras\n",
            "41/41 [==============================] - 5s 123ms/step - loss: 0.0062 - accuracy: 1.0000 - precision: 1.0000 - recall: 1.0000 - auc: 1.0000 - f1_score: 1.0000 - val_loss: 0.2430 - val_accuracy: 0.9403 - val_precision: 0.9536 - val_recall: 0.9204 - val_auc: 0.9908 - val_f1_score: 0.9403 - lr: 3.4917e-04\n",
            "Epoch 15/35\n",
            "41/41 [==============================] - ETA: 0s - loss: 0.0069 - accuracy: 1.0000 - precision: 1.0000 - recall: 1.0000 - auc: 1.0000 - f1_score: 1.0000\n",
            "Epoch 15: val_accuracy did not improve from 0.94030\n",
            "41/41 [==============================] - 6s 140ms/step - loss: 0.0069 - accuracy: 1.0000 - precision: 1.0000 - recall: 1.0000 - auc: 1.0000 - f1_score: 1.0000 - val_loss: 0.2521 - val_accuracy: 0.9204 - val_precision: 0.9388 - val_recall: 0.9154 - val_auc: 0.9865 - val_f1_score: 0.9204 - lr: 3.3171e-04\n",
            "Epoch 16/35\n",
            "41/41 [==============================] - ETA: 0s - loss: 0.0078 - accuracy: 1.0000 - precision: 1.0000 - recall: 1.0000 - auc: 1.0000 - f1_score: 1.0000\n",
            "Epoch 16: val_accuracy improved from 0.94030 to 0.95522, saving model to best_model.keras\n",
            "41/41 [==============================] - 5s 120ms/step - loss: 0.0078 - accuracy: 1.0000 - precision: 1.0000 - recall: 1.0000 - auc: 1.0000 - f1_score: 1.0000 - val_loss: 0.1772 - val_accuracy: 0.9552 - val_precision: 0.9598 - val_recall: 0.9502 - val_auc: 0.9921 - val_f1_score: 0.9552 - lr: 3.1512e-04\n",
            "Epoch 17/35\n",
            "41/41 [==============================] - ETA: 0s - loss: 0.0042 - accuracy: 1.0000 - precision: 1.0000 - recall: 1.0000 - auc: 1.0000 - f1_score: 1.0000\n",
            "Epoch 17: val_accuracy did not improve from 0.95522\n",
            "41/41 [==============================] - 6s 142ms/step - loss: 0.0042 - accuracy: 1.0000 - precision: 1.0000 - recall: 1.0000 - auc: 1.0000 - f1_score: 1.0000 - val_loss: 0.2038 - val_accuracy: 0.9453 - val_precision: 0.9596 - val_recall: 0.9453 - val_auc: 0.9881 - val_f1_score: 0.9453 - lr: 2.9937e-04\n",
            "Epoch 18/35\n",
            "41/41 [==============================] - ETA: 0s - loss: 0.0111 - accuracy: 0.9985 - precision: 1.0000 - recall: 0.9954 - auc: 1.0000 - f1_score: 0.9985\n",
            "Epoch 18: val_accuracy did not improve from 0.95522\n",
            "41/41 [==============================] - 5s 113ms/step - loss: 0.0111 - accuracy: 0.9985 - precision: 1.0000 - recall: 0.9954 - auc: 1.0000 - f1_score: 0.9985 - val_loss: 0.2042 - val_accuracy: 0.9353 - val_precision: 0.9436 - val_recall: 0.9154 - val_auc: 0.9876 - val_f1_score: 0.9353 - lr: 2.8440e-04\n",
            "Epoch 19/35\n",
            "41/41 [==============================] - ETA: 0s - loss: 0.0034 - accuracy: 1.0000 - precision: 1.0000 - recall: 1.0000 - auc: 1.0000 - f1_score: 1.0000\n",
            "Epoch 19: val_accuracy did not improve from 0.95522\n",
            "41/41 [==============================] - 5s 112ms/step - loss: 0.0034 - accuracy: 1.0000 - precision: 1.0000 - recall: 1.0000 - auc: 1.0000 - f1_score: 1.0000 - val_loss: 0.1837 - val_accuracy: 0.9403 - val_precision: 0.9444 - val_recall: 0.9303 - val_auc: 0.9904 - val_f1_score: 0.9403 - lr: 2.7018e-04\n",
            "Epoch 20/35\n",
            "41/41 [==============================] - ETA: 0s - loss: 0.0036 - accuracy: 1.0000 - precision: 1.0000 - recall: 1.0000 - auc: 1.0000 - f1_score: 1.0000\n",
            "Epoch 20: val_accuracy did not improve from 0.95522\n",
            "41/41 [==============================] - 6s 145ms/step - loss: 0.0036 - accuracy: 1.0000 - precision: 1.0000 - recall: 1.0000 - auc: 1.0000 - f1_score: 1.0000 - val_loss: 0.1681 - val_accuracy: 0.9502 - val_precision: 0.9550 - val_recall: 0.9502 - val_auc: 0.9918 - val_f1_score: 0.9502 - lr: 2.5667e-04\n",
            "Epoch 21/35\n",
            "41/41 [==============================] - ETA: 0s - loss: 0.0046 - accuracy: 1.0000 - precision: 1.0000 - recall: 1.0000 - auc: 1.0000 - f1_score: 1.0000\n",
            "Epoch 21: val_accuracy did not improve from 0.95522\n",
            "41/41 [==============================] - 5s 114ms/step - loss: 0.0046 - accuracy: 1.0000 - precision: 1.0000 - recall: 1.0000 - auc: 1.0000 - f1_score: 1.0000 - val_loss: 0.4899 - val_accuracy: 0.8408 - val_precision: 0.8528 - val_recall: 0.8358 - val_auc: 0.9660 - val_f1_score: 0.8408 - lr: 2.4384e-04\n",
            "Epoch 22/35\n",
            "41/41 [==============================] - ETA: 0s - loss: 0.0035 - accuracy: 1.0000 - precision: 1.0000 - recall: 1.0000 - auc: 1.0000 - f1_score: 1.0000\n",
            "Epoch 22: val_accuracy did not improve from 0.95522\n",
            "41/41 [==============================] - 5s 125ms/step - loss: 0.0035 - accuracy: 1.0000 - precision: 1.0000 - recall: 1.0000 - auc: 1.0000 - f1_score: 1.0000 - val_loss: 0.2026 - val_accuracy: 0.9552 - val_precision: 0.9548 - val_recall: 0.9453 - val_auc: 0.9911 - val_f1_score: 0.9552 - lr: 2.3165e-04\n",
            "Epoch 23/35\n",
            "41/41 [==============================] - ETA: 0s - loss: 0.0030 - accuracy: 1.0000 - precision: 1.0000 - recall: 1.0000 - auc: 1.0000 - f1_score: 1.0000\n",
            "Epoch 23: val_accuracy did not improve from 0.95522\n",
            "41/41 [==============================] - 5s 128ms/step - loss: 0.0030 - accuracy: 1.0000 - precision: 1.0000 - recall: 1.0000 - auc: 1.0000 - f1_score: 1.0000 - val_loss: 0.2560 - val_accuracy: 0.9502 - val_precision: 0.9495 - val_recall: 0.9353 - val_auc: 0.9863 - val_f1_score: 0.9502 - lr: 2.2006e-04\n",
            "Epoch 24/35\n",
            "41/41 [==============================] - ETA: 0s - loss: 0.0040 - accuracy: 1.0000 - precision: 1.0000 - recall: 1.0000 - auc: 1.0000 - f1_score: 1.0000\n",
            "Epoch 24: val_accuracy did not improve from 0.95522\n",
            "41/41 [==============================] - 5s 113ms/step - loss: 0.0040 - accuracy: 1.0000 - precision: 1.0000 - recall: 1.0000 - auc: 1.0000 - f1_score: 1.0000 - val_loss: 0.1775 - val_accuracy: 0.9552 - val_precision: 0.9552 - val_recall: 0.9552 - val_auc: 0.9917 - val_f1_score: 0.9552 - lr: 2.0906e-04\n",
            "Epoch 25/35\n",
            "41/41 [==============================] - ETA: 0s - loss: 0.0018 - accuracy: 1.0000 - precision: 1.0000 - recall: 1.0000 - auc: 1.0000 - f1_score: 1.0000\n",
            "Epoch 25: val_accuracy did not improve from 0.95522\n",
            "41/41 [==============================] - 6s 142ms/step - loss: 0.0018 - accuracy: 1.0000 - precision: 1.0000 - recall: 1.0000 - auc: 1.0000 - f1_score: 1.0000 - val_loss: 0.1820 - val_accuracy: 0.9502 - val_precision: 0.9502 - val_recall: 0.9502 - val_auc: 0.9919 - val_f1_score: 0.9502 - lr: 1.9861e-04\n",
            "Epoch 26/35\n",
            "41/41 [==============================] - ETA: 0s - loss: 0.0022 - accuracy: 1.0000 - precision: 1.0000 - recall: 1.0000 - auc: 1.0000 - f1_score: 1.0000\n",
            "Epoch 26: val_accuracy did not improve from 0.95522\n",
            "41/41 [==============================] - 5s 114ms/step - loss: 0.0022 - accuracy: 1.0000 - precision: 1.0000 - recall: 1.0000 - auc: 1.0000 - f1_score: 1.0000 - val_loss: 0.1934 - val_accuracy: 0.9453 - val_precision: 0.9453 - val_recall: 0.9453 - val_auc: 0.9915 - val_f1_score: 0.9453 - lr: 1.8868e-04\n",
            "Epoch 27/35\n",
            "41/41 [==============================] - ETA: 0s - loss: 0.0021 - accuracy: 1.0000 - precision: 1.0000 - recall: 1.0000 - auc: 1.0000 - f1_score: 1.0000\n",
            "Epoch 27: val_accuracy did not improve from 0.95522\n",
            "41/41 [==============================] - 5s 120ms/step - loss: 0.0021 - accuracy: 1.0000 - precision: 1.0000 - recall: 1.0000 - auc: 1.0000 - f1_score: 1.0000 - val_loss: 0.2276 - val_accuracy: 0.9453 - val_precision: 0.9453 - val_recall: 0.9453 - val_auc: 0.9877 - val_f1_score: 0.9453 - lr: 1.7924e-04\n",
            "Epoch 28/35\n",
            "41/41 [==============================] - ETA: 0s - loss: 0.0025 - accuracy: 1.0000 - precision: 1.0000 - recall: 1.0000 - auc: 1.0000 - f1_score: 1.0000\n",
            "Epoch 28: val_accuracy did not improve from 0.95522\n",
            "41/41 [==============================] - 6s 140ms/step - loss: 0.0025 - accuracy: 1.0000 - precision: 1.0000 - recall: 1.0000 - auc: 1.0000 - f1_score: 1.0000 - val_loss: 0.2017 - val_accuracy: 0.9502 - val_precision: 0.9500 - val_recall: 0.9453 - val_auc: 0.9908 - val_f1_score: 0.9502 - lr: 1.7028e-04\n",
            "Epoch 29/35\n",
            "41/41 [==============================] - ETA: 0s - loss: 0.0012 - accuracy: 1.0000 - precision: 1.0000 - recall: 1.0000 - auc: 1.0000 - f1_score: 1.0000\n",
            "Epoch 29: val_accuracy did not improve from 0.95522\n",
            "41/41 [==============================] - 5s 121ms/step - loss: 0.0012 - accuracy: 1.0000 - precision: 1.0000 - recall: 1.0000 - auc: 1.0000 - f1_score: 1.0000 - val_loss: 0.1886 - val_accuracy: 0.9552 - val_precision: 0.9552 - val_recall: 0.9552 - val_auc: 0.9918 - val_f1_score: 0.9552 - lr: 1.6177e-04\n",
            "Epoch 30/35\n",
            "41/41 [==============================] - ETA: 0s - loss: 8.7125e-04 - accuracy: 1.0000 - precision: 1.0000 - recall: 1.0000 - auc: 1.0000 - f1_score: 1.0000\n",
            "Epoch 30: val_accuracy did not improve from 0.95522\n",
            "41/41 [==============================] - 6s 142ms/step - loss: 8.7125e-04 - accuracy: 1.0000 - precision: 1.0000 - recall: 1.0000 - auc: 1.0000 - f1_score: 1.0000 - val_loss: 0.1898 - val_accuracy: 0.9552 - val_precision: 0.9552 - val_recall: 0.9552 - val_auc: 0.9918 - val_f1_score: 0.9552 - lr: 1.5368e-04\n",
            "Epoch 31/35\n",
            "41/41 [==============================] - ETA: 0s - loss: 7.9727e-04 - accuracy: 1.0000 - precision: 1.0000 - recall: 1.0000 - auc: 1.0000 - f1_score: 1.0000\n",
            "Epoch 31: val_accuracy did not improve from 0.95522\n",
            "41/41 [==============================] - 5s 114ms/step - loss: 7.9727e-04 - accuracy: 1.0000 - precision: 1.0000 - recall: 1.0000 - auc: 1.0000 - f1_score: 1.0000 - val_loss: 0.1881 - val_accuracy: 0.9552 - val_precision: 0.9552 - val_recall: 0.9552 - val_auc: 0.9918 - val_f1_score: 0.9552 - lr: 1.4599e-04\n",
            "Epoch 32/35\n",
            "41/41 [==============================] - ETA: 0s - loss: 0.0010 - accuracy: 1.0000 - precision: 1.0000 - recall: 1.0000 - auc: 1.0000 - f1_score: 1.0000\n",
            "Epoch 32: val_accuracy did not improve from 0.95522\n",
            "41/41 [==============================] - 5s 114ms/step - loss: 0.0010 - accuracy: 1.0000 - precision: 1.0000 - recall: 1.0000 - auc: 1.0000 - f1_score: 1.0000 - val_loss: 0.1896 - val_accuracy: 0.9552 - val_precision: 0.9552 - val_recall: 0.9552 - val_auc: 0.9918 - val_f1_score: 0.9552 - lr: 1.3869e-04\n",
            "Epoch 33/35\n",
            "41/41 [==============================] - ETA: 0s - loss: 0.0046 - accuracy: 1.0000 - precision: 1.0000 - recall: 1.0000 - auc: 1.0000 - f1_score: 1.0000\n",
            "Epoch 33: val_accuracy did not improve from 0.95522\n",
            "41/41 [==============================] - 6s 147ms/step - loss: 0.0046 - accuracy: 1.0000 - precision: 1.0000 - recall: 1.0000 - auc: 1.0000 - f1_score: 1.0000 - val_loss: 0.2099 - val_accuracy: 0.9552 - val_precision: 0.9598 - val_recall: 0.9502 - val_auc: 0.9888 - val_f1_score: 0.9552 - lr: 1.3176e-04\n",
            "Epoch 34/35\n",
            "41/41 [==============================] - ETA: 0s - loss: 0.0023 - accuracy: 1.0000 - precision: 1.0000 - recall: 1.0000 - auc: 1.0000 - f1_score: 1.0000\n",
            "Epoch 34: val_accuracy did not improve from 0.95522\n",
            "41/41 [==============================] - 5s 112ms/step - loss: 0.0023 - accuracy: 1.0000 - precision: 1.0000 - recall: 1.0000 - auc: 1.0000 - f1_score: 1.0000 - val_loss: 0.1938 - val_accuracy: 0.9502 - val_precision: 0.9502 - val_recall: 0.9502 - val_auc: 0.9914 - val_f1_score: 0.9502 - lr: 1.2517e-04\n",
            "Epoch 35/35\n",
            "41/41 [==============================] - ETA: 0s - loss: 0.0015 - accuracy: 1.0000 - precision: 1.0000 - recall: 1.0000 - auc: 1.0000 - f1_score: 1.0000\n",
            "Epoch 35: val_accuracy did not improve from 0.95522\n",
            "41/41 [==============================] - 5s 119ms/step - loss: 0.0015 - accuracy: 1.0000 - precision: 1.0000 - recall: 1.0000 - auc: 1.0000 - f1_score: 1.0000 - val_loss: 0.2086 - val_accuracy: 0.9552 - val_precision: 0.9600 - val_recall: 0.9552 - val_auc: 0.9881 - val_f1_score: 0.9552 - lr: 1.1891e-04\n"
          ]
        }
      ],
      "source": [
        "history = model.fit(\n",
        "    train_generator,\n",
        "    validation_data=validation_generator,\n",
        "    epochs=35,\n",
        "    callbacks=[callbacks, lr_scheduler],\n",
        "        verbose=1\n",
        "    #  , class_weight=class_weights\n",
        ")"
      ]
    },
    {
      "cell_type": "code",
      "execution_count": null,
      "metadata": {
        "id": "kE8Q1PqGaBjD",
        "colab": {
          "base_uri": "https://localhost:8080/",
          "height": 431
        },
        "outputId": "1856d470-99b5-4fe3-d9e5-b69ecb7d234b"
      },
      "outputs": [
        {
          "output_type": "display_data",
          "data": {
            "text/plain": [
              "<Figure size 2200x500 with 5 Axes>"
            ],
            "image/png": "[encoded data removed]"
          },
          "metadata": {}
        }
      ],
      "source": [
        "def Train_Val_Plot(acc, val_acc, loss, val_loss, auc, val_auc, precision, val_precision, f1, val_f1):\n",
        "\n",
        "    fig, (ax1, ax2, ax3, ax4, ax5) = plt.subplots(1, 5, figsize=(22, 5))\n",
        "    fig.suptitle(\" MODEL'S METRICS VISUALIZATION \")\n",
        "\n",
        "    # Rescale the y-axis for accuracy, auc, precision, and f1\n",
        "    rescale_factor = 0  # Adjust this factor to control the rescaling\n",
        "\n",
        "    ax1.plot(range(1, len(acc) + 1), acc)\n",
        "    ax1.plot(range(1, len(val_acc) + 1), val_acc)\n",
        "    ax1.set_title('History of Accuracy')\n",
        "    ax1.set_xlabel('Epochs')\n",
        "    ax1.set_ylabel('Accuracy')\n",
        "    ax1.set_ylim([0, 1.0])\n",
        "    ax1.legend(['training', 'validation'])\n",
        "\n",
        "    ax2.plot(range(1, len(loss) + 1), loss)\n",
        "    ax2.plot(range(1, len(val_loss) + 1), val_loss)\n",
        "    ax2.set_title('History of Loss')\n",
        "    ax2.set_xlabel('Epochs')\n",
        "    ax2.set_ylabel('Loss')\n",
        "    ax2.legend(['training', 'validation'])\n",
        "\n",
        "    ax3.plot(range(1, len(auc) + 1), auc)\n",
        "    ax3.plot(range(1, len(val_auc) + 1), val_auc)\n",
        "    ax3.set_title('History of AUC')\n",
        "    ax3.set_xlabel('Epochs')\n",
        "    ax3.set_ylabel('AUC')\n",
        "    ax3.set_ylim([rescale_factor, 1.0])\n",
        "    ax3.legend(['training', 'validation'])\n",
        "\n",
        "    ax4.plot(range(1, len(precision) + 1), precision)\n",
        "    ax4.plot(range(1, len(val_precision) + 1), val_precision)\n",
        "    ax4.set_title('History of Precision')\n",
        "    ax4.set_xlabel('Epochs')\n",
        "    ax4.set_ylabel('Precision')\n",
        "    ax4.set_ylim([rescale_factor, 1.0])\n",
        "    ax4.legend(['training', 'validation'])\n",
        "\n",
        "    ax5.plot(range(1, len(f1) + 1), f1)\n",
        "    ax5.plot(range(1, len(val_f1) + 1), val_f1)\n",
        "    ax5.set_title('History of F1-score')\n",
        "    ax5.set_xlabel('Epochs')\n",
        "    ax5.set_ylabel('F1 score')\n",
        "    ax5.set_ylim([rescale_factor, 1.0])\n",
        "    ax5.legend(['training', 'validation'])\n",
        "\n",
        "    plt.show()\n",
        "\n",
        "# Example usage:\n",
        "Train_Val_Plot(history.history['accuracy'], history.history['val_accuracy'],\n",
        "               history.history['loss'], history.history['val_loss']\n",
        "               ,\n",
        "               history.history['auc'], history.history['val_auc'],\n",
        "               history.history['precision'], history.history['val_precision'],\n",
        "               history.history['f1_score'], history.history['val_f1_score'])\n"
      ]
    },
    {
      "cell_type": "code",
      "execution_count": null,
      "metadata": {
        "id": "utE8sko2aBjD",
        "colab": {
          "base_uri": "https://localhost:8080/"
        },
        "outputId": "9c3137b6-5ed8-49c3-d527-1626e1c635d4"
      },
      "outputs": [
        {
          "output_type": "stream",
          "name": "stdout",
          "text": [
            "10/10 [==============================] - 1s 104ms/step - loss: 0.2703 - accuracy: 0.9172 - precision: 0.9236 - recall: 0.9172 - auc: 0.9893 - f1_score: 0.9172\n"
          ]
        },
        {
          "output_type": "execute_result",
          "data": {
            "text/plain": [
              "[0.2702505588531494,\n",
              " 0.9172413945198059,\n",
              " 0.9236111044883728,\n",
              " 0.9172413945198059,\n",
              " 0.9892983436584473,\n",
              " 0.9172413945198059]"
            ]
          },
          "metadata": {},
          "execution_count": 198
        }
      ],
      "source": [
        "model.evaluate(test_generator)"
      ]
    }
  ]
}