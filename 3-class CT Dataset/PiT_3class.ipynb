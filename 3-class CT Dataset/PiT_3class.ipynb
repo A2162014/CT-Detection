{
 "cells": [
  {
   "cell_type": "code",
   "execution_count": 1,
   "id": "b7a90d82",
   "metadata": {
    "execution": {
     "iopub.execute_input": "2025-03-29T17:27:57.038080Z",
     "iopub.status.busy": "2025-03-29T17:27:57.037825Z",
     "iopub.status.idle": "2025-03-29T17:28:07.945935Z",
     "shell.execute_reply": "2025-03-29T17:28:07.944875Z"
    },
    "papermill": {
     "duration": 10.918115,
     "end_time": "2025-03-29T17:28:07.948035",
     "exception": false,
     "start_time": "2025-03-29T17:27:57.029920",
     "status": "completed"
    },
    "tags": []
   },
   "outputs": [
    {
     "name": "stdout",
     "output_type": "stream",
     "text": [
      "Collecting git+https://github.com/rwightman/pytorch-image-models.git\r\n",
      "  Cloning https://github.com/rwightman/pytorch-image-models.git to /tmp/pip-req-build-bwsto8mv\r\n",
      "  Running command git clone --filter=blob:none --quiet https://github.com/rwightman/pytorch-image-models.git /tmp/pip-req-build-bwsto8mv\r\n",
      "  Resolved https://github.com/rwightman/pytorch-image-models.git to commit e44f14d7d2f557b9f3add82ee4f1ed2beefbb30d\r\n",
      "  Installing build dependencies ... \u001b[?25l\u001b[?25hdone\r\n",
      "  Getting requirements to build wheel ... \u001b[?25l\u001b[?25hdone\r\n",
      "  Preparing metadata (pyproject.toml) ... \u001b[?25l\u001b[?25hdone\r\n",
      "Requirement already satisfied: torch in /usr/local/lib/python3.10/dist-packages (from timm==1.0.15) (2.5.1+cu121)\r\n",
      "Requirement already satisfied: torchvision in /usr/local/lib/python3.10/dist-packages (from timm==1.0.15) (0.20.1+cu121)\r\n",
      "Requirement already satisfied: pyyaml in /usr/local/lib/python3.10/dist-packages (from timm==1.0.15) (6.0.2)\r\n",
      "Requirement already satisfied: huggingface_hub in /usr/local/lib/python3.10/dist-packages (from timm==1.0.15) (0.29.0)\r\n",
      "Requirement already satisfied: safetensors in /usr/local/lib/python3.10/dist-packages (from timm==1.0.15) (0.4.5)\r\n",
      "Requirement already satisfied: filelock in /usr/local/lib/python3.10/dist-packages (from huggingface_hub->timm==1.0.15) (3.17.0)\r\n",
      "Requirement already satisfied: fsspec>=2023.5.0 in /usr/local/lib/python3.10/dist-packages (from huggingface_hub->timm==1.0.15) (2024.12.0)\r\n",
      "Requirement already satisfied: packaging>=20.9 in /usr/local/lib/python3.10/dist-packages (from huggingface_hub->timm==1.0.15) (24.2)\r\n",
      "Requirement already satisfied: requests in /usr/local/lib/python3.10/dist-packages (from huggingface_hub->timm==1.0.15) (2.32.3)\r\n",
      "Requirement already satisfied: tqdm>=4.42.1 in /usr/local/lib/python3.10/dist-packages (from huggingface_hub->timm==1.0.15) (4.67.1)\r\n",
      "Requirement already satisfied: typing-extensions>=3.7.4.3 in /usr/local/lib/python3.10/dist-packages (from huggingface_hub->timm==1.0.15) (4.12.2)\r\n",
      "Requirement already satisfied: networkx in /usr/local/lib/python3.10/dist-packages (from torch->timm==1.0.15) (3.4.2)\r\n",
      "Requirement already satisfied: jinja2 in /usr/local/lib/python3.10/dist-packages (from torch->timm==1.0.15) (3.1.4)\r\n",
      "Requirement already satisfied: sympy==1.13.1 in /usr/local/lib/python3.10/dist-packages (from torch->timm==1.0.15) (1.13.1)\r\n",
      "Requirement already satisfied: mpmath<1.4,>=1.1.0 in /usr/local/lib/python3.10/dist-packages (from sympy==1.13.1->torch->timm==1.0.15) (1.3.0)\r\n",
      "Requirement already satisfied: numpy in /usr/local/lib/python3.10/dist-packages (from torchvision->timm==1.0.15) (1.26.4)\r\n",
      "Requirement already satisfied: pillow!=8.3.*,>=5.3.0 in /usr/local/lib/python3.10/dist-packages (from torchvision->timm==1.0.15) (11.0.0)\r\n",
      "Requirement already satisfied: MarkupSafe>=2.0 in /usr/local/lib/python3.10/dist-packages (from jinja2->torch->timm==1.0.15) (3.0.2)\r\n",
      "Requirement already satisfied: mkl_fft in /usr/local/lib/python3.10/dist-packages (from numpy->torchvision->timm==1.0.15) (1.3.8)\r\n",
      "Requirement already satisfied: mkl_random in /usr/local/lib/python3.10/dist-packages (from numpy->torchvision->timm==1.0.15) (1.2.4)\r\n",
      "Requirement already satisfied: mkl_umath in /usr/local/lib/python3.10/dist-packages (from numpy->torchvision->timm==1.0.15) (0.1.1)\r\n",
      "Requirement already satisfied: mkl in /usr/local/lib/python3.10/dist-packages (from numpy->torchvision->timm==1.0.15) (2025.0.1)\r\n",
      "Requirement already satisfied: tbb4py in /usr/local/lib/python3.10/dist-packages (from numpy->torchvision->timm==1.0.15) (2022.0.0)\r\n",
      "Requirement already satisfied: mkl-service in /usr/local/lib/python3.10/dist-packages (from numpy->torchvision->timm==1.0.15) (2.4.1)\r\n",
      "Requirement already satisfied: charset-normalizer<4,>=2 in /usr/local/lib/python3.10/dist-packages (from requests->huggingface_hub->timm==1.0.15) (3.4.1)\r\n",
      "Requirement already satisfied: idna<4,>=2.5 in /usr/local/lib/python3.10/dist-packages (from requests->huggingface_hub->timm==1.0.15) (3.10)\r\n",
      "Requirement already satisfied: urllib3<3,>=1.21.1 in /usr/local/lib/python3.10/dist-packages (from requests->huggingface_hub->timm==1.0.15) (2.3.0)\r\n",
      "Requirement already satisfied: certifi>=2017.4.17 in /usr/local/lib/python3.10/dist-packages (from requests->huggingface_hub->timm==1.0.15) (2025.1.31)\r\n",
      "Requirement already satisfied: intel-openmp>=2024 in /usr/local/lib/python3.10/dist-packages (from mkl->numpy->torchvision->timm==1.0.15) (2024.2.0)\r\n",
      "Requirement already satisfied: tbb==2022.* in /usr/local/lib/python3.10/dist-packages (from mkl->numpy->torchvision->timm==1.0.15) (2022.0.0)\r\n",
      "Requirement already satisfied: tcmlib==1.* in /usr/local/lib/python3.10/dist-packages (from tbb==2022.*->mkl->numpy->torchvision->timm==1.0.15) (1.2.0)\r\n",
      "Requirement already satisfied: intel-cmplr-lib-rt in /usr/local/lib/python3.10/dist-packages (from mkl_umath->numpy->torchvision->timm==1.0.15) (2024.2.0)\r\n",
      "Requirement already satisfied: intel-cmplr-lib-ur==2024.2.0 in /usr/local/lib/python3.10/dist-packages (from intel-openmp>=2024->mkl->numpy->torchvision->timm==1.0.15) (2024.2.0)\r\n",
      "Building wheels for collected packages: timm\r\n",
      "  Building wheel for timm (pyproject.toml) ... \u001b[?25l\u001b[?25hdone\r\n",
      "  Created wheel for timm: filename=timm-1.0.15-py3-none-any.whl size=2361373 sha256=5a3dc460c24e322ecc7fd1f3e3eb112423ddee320cb059cc1956fbc9731748ef\r\n",
      "  Stored in directory: /tmp/pip-ephem-wheel-cache-3ql1yagx/wheels/ed/07/8c/d16ff40e1a6ab5eff4240181152d83e10a933e1973397a1fec\r\n",
      "Successfully built timm\r\n",
      "Installing collected packages: timm\r\n",
      "  Attempting uninstall: timm\r\n",
      "    Found existing installation: timm 1.0.12\r\n",
      "    Uninstalling timm-1.0.12:\r\n",
      "      Successfully uninstalled timm-1.0.12\r\n",
      "Successfully installed timm-1.0.15\r\n"
     ]
    }
   ],
   "source": [
    "!pip install git+https://github.com/rwightman/pytorch-image-models.git"
   ]
  },
  {
   "cell_type": "code",
   "execution_count": 2,
   "id": "5db10de5",
   "metadata": {
    "execution": {
     "iopub.execute_input": "2025-03-29T17:28:07.963465Z",
     "iopub.status.busy": "2025-03-29T17:28:07.963209Z",
     "iopub.status.idle": "2025-03-29T17:28:07.966369Z",
     "shell.execute_reply": "2025-03-29T17:28:07.965842Z"
    },
    "papermill": {
     "duration": 0.011927,
     "end_time": "2025-03-29T17:28:07.967549",
     "exception": false,
     "start_time": "2025-03-29T17:28:07.955622",
     "status": "completed"
    },
    "tags": []
   },
   "outputs": [],
   "source": [
    "import zipfile"
   ]
  },
  {
   "cell_type": "code",
   "execution_count": 3,
   "id": "bb4eb649",
   "metadata": {
    "execution": {
     "iopub.execute_input": "2025-03-29T17:28:07.981933Z",
     "iopub.status.busy": "2025-03-29T17:28:07.981737Z",
     "iopub.status.idle": "2025-03-29T17:28:19.803264Z",
     "shell.execute_reply": "2025-03-29T17:28:19.802559Z"
    },
    "papermill": {
     "duration": 11.830268,
     "end_time": "2025-03-29T17:28:19.804753",
     "exception": false,
     "start_time": "2025-03-29T17:28:07.974485",
     "status": "completed"
    },
    "tags": []
   },
   "outputs": [],
   "source": [
    "from torch.utils.data import Dataset, DataLoader\n",
    "from torchvision.datasets import ImageFolder\n",
    "from torchvision import transforms\n",
    "from torchvision import models\n",
    "import torch\n",
    "from tqdm.auto import tqdm\n",
    "import numpy as np\n",
    "import os\n",
    "import sys\n",
    "import cv2\n",
    "import glob\n",
    "import math\n",
    "import time\n",
    "import timm\n",
    "import torch\n",
    "import random\n",
    "import pandas as pd\n",
    "import seaborn as sns\n",
    "from tqdm import tqdm\n",
    "from pathlib import Path\n",
    "from torch import nn, optim\n",
    "from torchinfo import summary\n",
    "from tabulate import tabulate\n",
    "from datetime import timedelta\n",
    "from functools import lru_cache\n",
    "import torch.nn.functional as F\n",
    "import matplotlib.pyplot as plt\n",
    "from collections import Counter\n",
    "import matplotlib.image as mpimg\n",
    "from torchvision import transforms\n",
    "from PIL import Image, ImageEnhance\n",
    "from joblib import Parallel, delayed\n",
    "import torchvision.transforms as transforms\n",
    "from torchvision.datasets import ImageFolder\n",
    "from torch.optim.lr_scheduler import LambdaLR\n",
    "from sklearn.preprocessing import LabelEncoder\n",
    "from torchvision.transforms import Resize, ToTensor\n",
    "from torch.utils.data import DataLoader, random_split\n",
    "from sklearn.model_selection import train_test_split\n",
    "from sklearn.metrics import (\n",
    "    accuracy_score, precision_score, recall_score, f1_score, roc_auc_score,\n",
    "    matthews_corrcoef, confusion_matrix, classification_report\n",
    ")"
   ]
  },
  {
   "cell_type": "code",
   "execution_count": 4,
   "id": "eb24ca9d",
   "metadata": {
    "execution": {
     "iopub.execute_input": "2025-03-29T17:28:19.820007Z",
     "iopub.status.busy": "2025-03-29T17:28:19.819591Z",
     "iopub.status.idle": "2025-03-29T17:28:30.969344Z",
     "shell.execute_reply": "2025-03-29T17:28:30.968385Z"
    },
    "papermill": {
     "duration": 11.159102,
     "end_time": "2025-03-29T17:28:30.971253",
     "exception": false,
     "start_time": "2025-03-29T17:28:19.812151",
     "status": "completed"
    },
    "tags": []
   },
   "outputs": [
    {
     "name": "stderr",
     "output_type": "stream",
     "text": [
      "<ipython-input-4-4528556261de>:17: DeprecationWarning: `import kerastuner` is deprecated, please use `import keras_tuner`.\n",
      "  from kerastuner import RandomSearch\n"
     ]
    }
   ],
   "source": [
    "import seaborn as sns\n",
    "import numpy as np \n",
    "import pandas as pd \n",
    "import cv2\n",
    "import matplotlib.pyplot as plt \n",
    "import os\n",
    "from tensorflow.keras.preprocessing.image import ImageDataGenerator\n",
    "import tensorflow as tf\n",
    "import keras\n",
    "import pandas as pd\n",
    "import numpy as np\n",
    "import tensorflow as tf\n",
    "from tensorflow import keras\n",
    "from tensorflow.keras.models import Sequential\n",
    "from tensorflow.keras.layers import Dense,Conv2D\n",
    "from tensorflow.keras.optimizers import Adam \n",
    "from kerastuner import RandomSearch\n",
    "import os\n",
    "import numpy as np\n",
    "import torch\n",
    "import glob\n",
    "import torch.nn as nn\n",
    "from torchvision.transforms import transforms\n",
    "from torch.utils.data import DataLoader\n",
    "from torch.optim import Adam\n",
    "from torch.autograd import Variable\n",
    "import torchvision\n",
    "import pathlib\n",
    "import pandas as pd\n",
    "import numpy as np\n",
    "from skimage.io import imread\n",
    "import matplotlib.pyplot as plt\n",
    "%matplotlib inline\n",
    "from sklearn.model_selection import train_test_split\n",
    "from sklearn.metrics import accuracy_score\n",
    "from tqdm import tqdm\n",
    "import torch\n",
    "from torch.autograd import Variable\n",
    "from torch.nn import Linear, ReLU, CrossEntropyLoss, Sequential, Conv2d, MaxPool2d, Module, Softmax, BatchNorm2d, Dropout\n",
    "from torch.optim import Adam, SGD\n",
    "import warnings\n",
    "warnings.filterwarnings(\"ignore\")"
   ]
  },
  {
   "cell_type": "code",
   "execution_count": 5,
   "id": "a85841a8",
   "metadata": {
    "execution": {
     "iopub.execute_input": "2025-03-29T17:28:30.989021Z",
     "iopub.status.busy": "2025-03-29T17:28:30.988466Z",
     "iopub.status.idle": "2025-03-29T17:28:30.992372Z",
     "shell.execute_reply": "2025-03-29T17:28:30.991568Z"
    },
    "papermill": {
     "duration": 0.013312,
     "end_time": "2025-03-29T17:28:30.993566",
     "exception": false,
     "start_time": "2025-03-29T17:28:30.980254",
     "status": "completed"
    },
    "tags": []
   },
   "outputs": [],
   "source": [
    "transform = transforms.Compose([transforms.Resize((224, 224)), transforms.ToTensor()])"
   ]
  },
  {
   "cell_type": "code",
   "execution_count": 6,
   "id": "9b2eec29",
   "metadata": {
    "execution": {
     "iopub.execute_input": "2025-03-29T17:28:31.008267Z",
     "iopub.status.busy": "2025-03-29T17:28:31.008048Z",
     "iopub.status.idle": "2025-03-29T17:28:34.219875Z",
     "shell.execute_reply": "2025-03-29T17:28:34.218670Z"
    },
    "papermill": {
     "duration": 3.220772,
     "end_time": "2025-03-29T17:28:34.221522",
     "exception": false,
     "start_time": "2025-03-29T17:28:31.000750",
     "status": "completed"
    },
    "tags": []
   },
   "outputs": [
    {
     "name": "stdout",
     "output_type": "stream",
     "text": [
      "Requirement already satisfied: gdown in /usr/local/lib/python3.10/dist-packages (5.2.0)\r\n",
      "Requirement already satisfied: beautifulsoup4 in /usr/local/lib/python3.10/dist-packages (from gdown) (4.12.3)\r\n",
      "Requirement already satisfied: filelock in /usr/local/lib/python3.10/dist-packages (from gdown) (3.17.0)\r\n",
      "Requirement already satisfied: requests[socks] in /usr/local/lib/python3.10/dist-packages (from gdown) (2.32.3)\r\n",
      "Requirement already satisfied: tqdm in /usr/local/lib/python3.10/dist-packages (from gdown) (4.67.1)\r\n",
      "Requirement already satisfied: soupsieve>1.2 in /usr/local/lib/python3.10/dist-packages (from beautifulsoup4->gdown) (2.6)\r\n",
      "Requirement already satisfied: charset-normalizer<4,>=2 in /usr/local/lib/python3.10/dist-packages (from requests[socks]->gdown) (3.4.1)\r\n",
      "Requirement already satisfied: idna<4,>=2.5 in /usr/local/lib/python3.10/dist-packages (from requests[socks]->gdown) (3.10)\r\n",
      "Requirement already satisfied: urllib3<3,>=1.21.1 in /usr/local/lib/python3.10/dist-packages (from requests[socks]->gdown) (2.3.0)\r\n",
      "Requirement already satisfied: certifi>=2017.4.17 in /usr/local/lib/python3.10/dist-packages (from requests[socks]->gdown) (2025.1.31)\r\n",
      "Requirement already satisfied: PySocks!=1.5.7,>=1.5.6 in /usr/local/lib/python3.10/dist-packages (from requests[socks]->gdown) (1.7.1)\r\n"
     ]
    }
   ],
   "source": [
    "!pip install gdown"
   ]
  },
  {
   "cell_type": "code",
   "execution_count": 7,
   "id": "3fb7bb77",
   "metadata": {
    "execution": {
     "iopub.execute_input": "2025-03-29T17:28:34.237038Z",
     "iopub.status.busy": "2025-03-29T17:28:34.236762Z",
     "iopub.status.idle": "2025-03-29T17:28:34.240388Z",
     "shell.execute_reply": "2025-03-29T17:28:34.239559Z"
    },
    "papermill": {
     "duration": 0.012688,
     "end_time": "2025-03-29T17:28:34.241717",
     "exception": false,
     "start_time": "2025-03-29T17:28:34.229029",
     "status": "completed"
    },
    "tags": []
   },
   "outputs": [],
   "source": [
    "# !gdown \"https://drive.google.com/uc?id=1QAkYNXInCNX35b2lI8dXHFvVjor9AIVk\""
   ]
  },
  {
   "cell_type": "code",
   "execution_count": 8,
   "id": "50f9877d",
   "metadata": {
    "execution": {
     "iopub.execute_input": "2025-03-29T17:28:34.256754Z",
     "iopub.status.busy": "2025-03-29T17:28:34.256513Z",
     "iopub.status.idle": "2025-03-29T17:28:34.259234Z",
     "shell.execute_reply": "2025-03-29T17:28:34.258626Z"
    },
    "papermill": {
     "duration": 0.011426,
     "end_time": "2025-03-29T17:28:34.260340",
     "exception": false,
     "start_time": "2025-03-29T17:28:34.248914",
     "status": "completed"
    },
    "tags": []
   },
   "outputs": [],
   "source": [
    "# zip_path = \"/kaggle/working/Copy of Copy of train.zip\"  # Path to the ZIP file\n",
    "# extracted_path = \"/kaggle/working/chest_ctscan_images\"  # Path to extract the files\n",
    "# with zipfile.ZipFile(zip_path, 'r') as zip_ref:\n",
    "#     zip_ref.extractall(extracted_path)"
   ]
  },
  {
   "cell_type": "code",
   "execution_count": 9,
   "id": "cd35ee6c",
   "metadata": {
    "execution": {
     "iopub.execute_input": "2025-03-29T17:28:34.274992Z",
     "iopub.status.busy": "2025-03-29T17:28:34.274785Z",
     "iopub.status.idle": "2025-03-29T17:28:34.277367Z",
     "shell.execute_reply": "2025-03-29T17:28:34.276788Z"
    },
    "papermill": {
     "duration": 0.011146,
     "end_time": "2025-03-29T17:28:34.278510",
     "exception": false,
     "start_time": "2025-03-29T17:28:34.267364",
     "status": "completed"
    },
    "tags": []
   },
   "outputs": [],
   "source": [
    "# train_dir = \"/kaggle/working/chest_ctscan_images/train\"\n",
    "# valid_dir = \"/kaggle/working/chest_ctscan_images/valid\"\n",
    "# test_dir = \"/kaggle/working/chest_ctscan_images/test\""
   ]
  },
  {
   "cell_type": "code",
   "execution_count": 10,
   "id": "338647d2",
   "metadata": {
    "execution": {
     "iopub.execute_input": "2025-03-29T17:28:34.293882Z",
     "iopub.status.busy": "2025-03-29T17:28:34.293641Z",
     "iopub.status.idle": "2025-03-29T17:28:34.296470Z",
     "shell.execute_reply": "2025-03-29T17:28:34.295878Z"
    },
    "papermill": {
     "duration": 0.011916,
     "end_time": "2025-03-29T17:28:34.297558",
     "exception": false,
     "start_time": "2025-03-29T17:28:34.285642",
     "status": "completed"
    },
    "tags": []
   },
   "outputs": [],
   "source": [
    "# source_dir  = \"/kaggle/input/iqothnccd-lung-cancer-dataset/The IQ-OTHNCCD lung cancer dataset/The IQ-OTHNCCD lung cancer dataset\""
   ]
  },
  {
   "cell_type": "code",
   "execution_count": 11,
   "id": "ad1a2d63",
   "metadata": {
    "execution": {
     "iopub.execute_input": "2025-03-29T17:28:34.312134Z",
     "iopub.status.busy": "2025-03-29T17:28:34.311934Z",
     "iopub.status.idle": "2025-03-29T17:28:34.314780Z",
     "shell.execute_reply": "2025-03-29T17:28:34.314179Z"
    },
    "papermill": {
     "duration": 0.01142,
     "end_time": "2025-03-29T17:28:34.315985",
     "exception": false,
     "start_time": "2025-03-29T17:28:34.304565",
     "status": "completed"
    },
    "tags": []
   },
   "outputs": [],
   "source": [
    "import shutil\n",
    "from sklearn.model_selection import train_test_split"
   ]
  },
  {
   "cell_type": "code",
   "execution_count": 12,
   "id": "a1cbf5ce",
   "metadata": {
    "execution": {
     "iopub.execute_input": "2025-03-29T17:28:34.330456Z",
     "iopub.status.busy": "2025-03-29T17:28:34.330259Z",
     "iopub.status.idle": "2025-03-29T17:28:34.333030Z",
     "shell.execute_reply": "2025-03-29T17:28:34.332423Z"
    },
    "papermill": {
     "duration": 0.011428,
     "end_time": "2025-03-29T17:28:34.334277",
     "exception": false,
     "start_time": "2025-03-29T17:28:34.322849",
     "status": "completed"
    },
    "tags": []
   },
   "outputs": [],
   "source": [
    "# # Create a validation set from a portion of the training set\n",
    "# def create_validation_set(source_dir, validation_dir, validation_ratio=0.2):\n",
    "#     if not os.path.exists(validation_dir):\n",
    "#         os.makedirs(validation_dir)\n",
    "\n",
    "#     for class_name in os.listdir(source_dir):\n",
    "#         class_source_path = os.path.join(source_dir, class_name)\n",
    "#         class_valid_path = os.path.join(validation_dir, class_name)\n",
    "\n",
    "#         if not os.path.exists(class_valid_path):\n",
    "#             os.makedirs(class_valid_path)\n",
    "\n",
    "#         all_files = os.listdir(class_source_path)\n",
    "#         train_files, valid_files = train_test_split(all_files, test_size=validation_ratio, random_state=42)\n",
    "\n",
    "#         for file in valid_files:\n",
    "#             shutil.move(os.path.join(class_source_path, file), os.path.join(class_valid_path, file))\n",
    "\n",
    "# create_validation_set(train_dir, valid_dir, validation_ratio=0.2)  # Split 20% for validation"
   ]
  },
  {
   "cell_type": "code",
   "execution_count": 13,
   "id": "c700c611",
   "metadata": {
    "execution": {
     "iopub.execute_input": "2025-03-29T17:28:34.349457Z",
     "iopub.status.busy": "2025-03-29T17:28:34.349260Z",
     "iopub.status.idle": "2025-03-29T17:28:34.351990Z",
     "shell.execute_reply": "2025-03-29T17:28:34.351413Z"
    },
    "papermill": {
     "duration": 0.011409,
     "end_time": "2025-03-29T17:28:34.353191",
     "exception": false,
     "start_time": "2025-03-29T17:28:34.341782",
     "status": "completed"
    },
    "tags": []
   },
   "outputs": [],
   "source": [
    "# # Example code to create a test set from a portion of the training set\n",
    "# def create_test_set(source_dir, test_dir, test_ratio=0.1):\n",
    "#     # Create test directory if it doesn't exist\n",
    "#     if not os.path.exists(test_dir):\n",
    "#         os.makedirs(test_dir)\n",
    "\n",
    "#     for class_name in os.listdir(source_dir):\n",
    "#         class_source_path = os.path.join(source_dir, class_name)\n",
    "#         class_test_path = os.path.join(test_dir, class_name)\n",
    "\n",
    "#         if not os.path.exists(class_test_path):\n",
    "#             os.makedirs(class_test_path)\n",
    "\n",
    "#         all_files = os.listdir(class_source_path)\n",
    "#         train_files, test_files = train_test_split(all_files, test_size=test_ratio, random_state=42)\n",
    "\n",
    "#         for file in test_files:\n",
    "#             shutil.move(os.path.join(class_source_path, file), os.path.join(class_test_path, file))\n",
    "\n",
    "# create_test_set(train_dir, test_dir, test_ratio=0.18)  # Split 10% for test"
   ]
  },
  {
   "cell_type": "code",
   "execution_count": 14,
   "id": "24009572",
   "metadata": {
    "execution": {
     "iopub.execute_input": "2025-03-29T17:28:34.367864Z",
     "iopub.status.busy": "2025-03-29T17:28:34.367616Z",
     "iopub.status.idle": "2025-03-29T17:28:42.181541Z",
     "shell.execute_reply": "2025-03-29T17:28:42.180511Z"
    },
    "papermill": {
     "duration": 7.822903,
     "end_time": "2025-03-29T17:28:42.183080",
     "exception": false,
     "start_time": "2025-03-29T17:28:34.360177",
     "status": "completed"
    },
    "tags": []
   },
   "outputs": [
    {
     "name": "stdout",
     "output_type": "stream",
     "text": [
      "Dataset successfully split into train, valid, and test sets.\n"
     ]
    }
   ],
   "source": [
    "def split_dataset(source_dir, output_dir, train_ratio=0.7, valid_ratio=0.2):\n",
    "    \"\"\"\n",
    "    Splits data into train, validation, and test sets.\n",
    "    \n",
    "    Parameters:\n",
    "    - source_dir: Path to the source dataset directory.\n",
    "    - output_dir: Path to the output directory for train, valid, and test sets.\n",
    "    - train_ratio: Proportion of data to allocate to training.\n",
    "    - valid_ratio: Proportion of data to allocate to validation.\n",
    "    \n",
    "    Remaining proportion will be allocated to the test set.\n",
    "    \"\"\"\n",
    "    if not os.path.exists(source_dir):\n",
    "        raise FileNotFoundError(f\"Source directory not found: {source_dir}\")\n",
    "    if not os.path.exists(output_dir):\n",
    "        os.makedirs(output_dir)\n",
    "\n",
    "    # Create train, valid, and test directories\n",
    "    train_dir = os.path.join(output_dir, 'train')\n",
    "    valid_dir = os.path.join(output_dir, 'valid')\n",
    "    test_dir = os.path.join(output_dir, 'test')\n",
    "\n",
    "    for dir_path in [train_dir, valid_dir, test_dir]:\n",
    "        if not os.path.exists(dir_path):\n",
    "            os.makedirs(dir_path)\n",
    "\n",
    "    # Iterate over classes\n",
    "    for class_name in os.listdir(source_dir):\n",
    "        class_source_path = os.path.join(source_dir, class_name)\n",
    "        if not os.path.isdir(class_source_path):\n",
    "            continue\n",
    "        \n",
    "        files = os.listdir(class_source_path)\n",
    "        train_files, temp_files = train_test_split(files, test_size=(1 - train_ratio), random_state=42)\n",
    "        valid_files, test_files = train_test_split(temp_files, test_size=(1 - valid_ratio / (1 - train_ratio)), random_state=42)\n",
    "\n",
    "        # Create class subdirectories in train, valid, and test\n",
    "        for split_dir, split_files in zip([train_dir, valid_dir, test_dir], [train_files, valid_files, test_files]):\n",
    "            class_split_path = os.path.join(split_dir, class_name)\n",
    "            if not os.path.exists(class_split_path):\n",
    "                os.makedirs(class_split_path)\n",
    "\n",
    "            # Copy files to respective directories\n",
    "            for file in split_files:\n",
    "                shutil.copy2(os.path.join(class_source_path, file), os.path.join(class_split_path, file))\n",
    "\n",
    "    print(\"Dataset successfully split into train, valid, and test sets.\")\n",
    "\n",
    "# Example usage\n",
    "source_dir = '/kaggle/input/ct-scan-data/The IQ-OTHNCCD lung cancer dataset/The IQ-OTHNCCD lung cancer dataset'\n",
    "output_dir = '/kaggle/working/split_dataset'\n",
    "\n",
    "split_dataset(source_dir, output_dir, train_ratio=0.7, valid_ratio=0.2)\n"
   ]
  },
  {
   "cell_type": "code",
   "execution_count": 15,
   "id": "cc6bfeaa",
   "metadata": {
    "execution": {
     "iopub.execute_input": "2025-03-29T17:28:42.198433Z",
     "iopub.status.busy": "2025-03-29T17:28:42.198187Z",
     "iopub.status.idle": "2025-03-29T17:28:42.201725Z",
     "shell.execute_reply": "2025-03-29T17:28:42.200905Z"
    },
    "papermill": {
     "duration": 0.012307,
     "end_time": "2025-03-29T17:28:42.202936",
     "exception": false,
     "start_time": "2025-03-29T17:28:42.190629",
     "status": "completed"
    },
    "tags": []
   },
   "outputs": [],
   "source": [
    "train_datagen = ImageDataGenerator()"
   ]
  },
  {
   "cell_type": "code",
   "execution_count": 16,
   "id": "69d1906e",
   "metadata": {
    "execution": {
     "iopub.execute_input": "2025-03-29T17:28:42.217536Z",
     "iopub.status.busy": "2025-03-29T17:28:42.217305Z",
     "iopub.status.idle": "2025-03-29T17:28:42.220376Z",
     "shell.execute_reply": "2025-03-29T17:28:42.219767Z"
    },
    "papermill": {
     "duration": 0.011707,
     "end_time": "2025-03-29T17:28:42.221577",
     "exception": false,
     "start_time": "2025-03-29T17:28:42.209870",
     "status": "completed"
    },
    "tags": []
   },
   "outputs": [],
   "source": [
    "valid_datagen = ImageDataGenerator()\n",
    "test_datagen = ImageDataGenerator()"
   ]
  },
  {
   "cell_type": "code",
   "execution_count": 17,
   "id": "ec7aba0f",
   "metadata": {
    "execution": {
     "iopub.execute_input": "2025-03-29T17:28:42.236241Z",
     "iopub.status.busy": "2025-03-29T17:28:42.236037Z",
     "iopub.status.idle": "2025-03-29T17:28:42.256598Z",
     "shell.execute_reply": "2025-03-29T17:28:42.256036Z"
    },
    "papermill": {
     "duration": 0.029152,
     "end_time": "2025-03-29T17:28:42.257793",
     "exception": false,
     "start_time": "2025-03-29T17:28:42.228641",
     "status": "completed"
    },
    "tags": []
   },
   "outputs": [
    {
     "name": "stdout",
     "output_type": "stream",
     "text": [
      "Found 766 images belonging to 3 classes.\n"
     ]
    }
   ],
   "source": [
    "train_generator = train_datagen.flow_from_directory(\n",
    "    \"/kaggle/working/split_dataset/train\",\n",
    "    target_size=(224,224),\n",
    "    batch_size=8,\n",
    "    class_mode='categorical'\n",
    ")"
   ]
  },
  {
   "cell_type": "code",
   "execution_count": 18,
   "id": "29b00c18",
   "metadata": {
    "execution": {
     "iopub.execute_input": "2025-03-29T17:28:42.272984Z",
     "iopub.status.busy": "2025-03-29T17:28:42.272772Z",
     "iopub.status.idle": "2025-03-29T17:28:42.283531Z",
     "shell.execute_reply": "2025-03-29T17:28:42.282766Z"
    },
    "papermill": {
     "duration": 0.0196,
     "end_time": "2025-03-29T17:28:42.284669",
     "exception": false,
     "start_time": "2025-03-29T17:28:42.265069",
     "status": "completed"
    },
    "tags": []
   },
   "outputs": [
    {
     "name": "stdout",
     "output_type": "stream",
     "text": [
      "Found 219 images belonging to 3 classes.\n"
     ]
    }
   ],
   "source": [
    "validation_generator = valid_datagen.flow_from_directory(\n",
    "    \"/kaggle/working/split_dataset/valid\",\n",
    "    target_size=(224,224),\n",
    "    batch_size=8,\n",
    "    class_mode='categorical'\n",
    ")"
   ]
  },
  {
   "cell_type": "code",
   "execution_count": 19,
   "id": "ee44ed3d",
   "metadata": {
    "execution": {
     "iopub.execute_input": "2025-03-29T17:28:42.299752Z",
     "iopub.status.busy": "2025-03-29T17:28:42.299513Z",
     "iopub.status.idle": "2025-03-29T17:28:42.308606Z",
     "shell.execute_reply": "2025-03-29T17:28:42.307828Z"
    },
    "papermill": {
     "duration": 0.017831,
     "end_time": "2025-03-29T17:28:42.309782",
     "exception": false,
     "start_time": "2025-03-29T17:28:42.291951",
     "status": "completed"
    },
    "tags": []
   },
   "outputs": [
    {
     "name": "stdout",
     "output_type": "stream",
     "text": [
      "Found 112 images belonging to 3 classes.\n"
     ]
    }
   ],
   "source": [
    "test_generator = test_datagen.flow_from_directory(\n",
    "    \"/kaggle/working/split_dataset/test\",\n",
    "    target_size=(224,224),\n",
    "    batch_size=8,\n",
    "    class_mode='categorical'\n",
    ")"
   ]
  },
  {
   "cell_type": "code",
   "execution_count": 20,
   "id": "06c1eee0",
   "metadata": {
    "execution": {
     "iopub.execute_input": "2025-03-29T17:28:42.324942Z",
     "iopub.status.busy": "2025-03-29T17:28:42.324711Z",
     "iopub.status.idle": "2025-03-29T17:28:42.333603Z",
     "shell.execute_reply": "2025-03-29T17:28:42.332775Z"
    },
    "papermill": {
     "duration": 0.017812,
     "end_time": "2025-03-29T17:28:42.334896",
     "exception": false,
     "start_time": "2025-03-29T17:28:42.317084",
     "status": "completed"
    },
    "tags": []
   },
   "outputs": [],
   "source": [
    "from torch.utils.data import DataLoader\n",
    "from torchvision import datasets, transforms\n",
    "\n",
    "# Define transformations for data\n",
    "transform = transforms.Compose([\n",
    "    transforms.Resize((224, 224)),\n",
    "    transforms.ToTensor()\n",
    "])\n",
    "train_dataset = datasets.ImageFolder(root='/kaggle/working/split_dataset/train', transform=transform)\n",
    "val_dataset = datasets.ImageFolder(root='/kaggle/working/split_dataset/valid', transform=transform)\n",
    "test_dataset = datasets.ImageFolder(root='/kaggle/working/split_dataset/test', transform=transform)\n",
    "\n",
    "# Initialize DataLoaders\n",
    "train_loader = DataLoader(train_dataset, batch_size=64, shuffle=True, num_workers=4)\n",
    "val_loader = DataLoader(val_dataset, batch_size=64, shuffle=False, num_workers=4)\n",
    "test_loader = DataLoader(test_dataset, batch_size=64, shuffle=False, num_workers=4)\n"
   ]
  },
  {
   "cell_type": "code",
   "execution_count": 21,
   "id": "753ea32f",
   "metadata": {
    "execution": {
     "iopub.execute_input": "2025-03-29T17:28:42.349871Z",
     "iopub.status.busy": "2025-03-29T17:28:42.349623Z",
     "iopub.status.idle": "2025-03-29T17:28:42.352790Z",
     "shell.execute_reply": "2025-03-29T17:28:42.351983Z"
    },
    "papermill": {
     "duration": 0.01201,
     "end_time": "2025-03-29T17:28:42.354072",
     "exception": false,
     "start_time": "2025-03-29T17:28:42.342062",
     "status": "completed"
    },
    "tags": []
   },
   "outputs": [],
   "source": [
    "device = torch.device('cuda')\n"
   ]
  },
  {
   "cell_type": "code",
   "execution_count": 22,
   "id": "aedc0ce0",
   "metadata": {
    "execution": {
     "iopub.execute_input": "2025-03-29T17:28:42.368998Z",
     "iopub.status.busy": "2025-03-29T17:28:42.368778Z",
     "iopub.status.idle": "2025-03-29T17:28:42.374240Z",
     "shell.execute_reply": "2025-03-29T17:28:42.373438Z"
    },
    "papermill": {
     "duration": 0.014277,
     "end_time": "2025-03-29T17:28:42.375563",
     "exception": false,
     "start_time": "2025-03-29T17:28:42.361286",
     "status": "completed"
    },
    "tags": []
   },
   "outputs": [
    {
     "data": {
      "text/plain": [
       "device(type='cuda')"
      ]
     },
     "execution_count": 22,
     "metadata": {},
     "output_type": "execute_result"
    }
   ],
   "source": [
    "device"
   ]
  },
  {
   "cell_type": "code",
   "execution_count": 23,
   "id": "4e5ceb99",
   "metadata": {
    "execution": {
     "iopub.execute_input": "2025-03-29T17:28:42.390642Z",
     "iopub.status.busy": "2025-03-29T17:28:42.390415Z",
     "iopub.status.idle": "2025-03-29T17:28:43.828527Z",
     "shell.execute_reply": "2025-03-29T17:28:43.827657Z"
    },
    "papermill": {
     "duration": 1.447163,
     "end_time": "2025-03-29T17:28:43.829997",
     "exception": false,
     "start_time": "2025-03-29T17:28:42.382834",
     "status": "completed"
    },
    "tags": []
   },
   "outputs": [
    {
     "data": {
      "application/vnd.jupyter.widget-view+json": {
       "model_id": "2a684891b3664fa7b4b734d88939929a",
       "version_major": 2,
       "version_minor": 0
      },
      "text/plain": [
       "model.safetensors:   0%|          | 0.00/19.4M [00:00<?, ?B/s]"
      ]
     },
     "metadata": {},
     "output_type": "display_data"
    },
    {
     "data": {
      "text/plain": [
       "====================================================================================================\n",
       "Layer (type:depth-idx)                             Output Shape              Param #\n",
       "====================================================================================================\n",
       "PoolingVisionTransformer                           [1, 3]                    46,720\n",
       "├─ConvEmbedding: 1-1                               [64, 27, 27]              --\n",
       "│    └─Conv2d: 2-1                                 [64, 27, 27]              49,216\n",
       "├─Dropout: 1-2                                     [1, 64, 27, 27]           --\n",
       "├─SequentialTuple: 1-3                             [1, 256, 7, 7]            --\n",
       "│    └─Transformer: 2-2                            [1, 64, 27, 27]           --\n",
       "│    │    └─Identity: 3-1                          [1, 730, 64]              --\n",
       "│    │    └─Sequential: 3-2                        [1, 730, 64]              99,968\n",
       "│    └─Transformer: 2-3                            [1, 128, 14, 14]          --\n",
       "│    │    └─Pooling: 3-3                           [1, 128, 14, 14]          9,600\n",
       "│    │    └─Identity: 3-4                          [1, 197, 128]             --\n",
       "│    │    └─Sequential: 3-5                        [1, 197, 128]             1,189,632\n",
       "│    └─Transformer: 2-4                            [1, 256, 7, 7]            --\n",
       "│    │    └─Pooling: 3-6                           [1, 256, 7, 7]            35,584\n",
       "│    │    └─Identity: 3-7                          [1, 50, 256]              --\n",
       "│    │    └─Sequential: 3-8                        [1, 50, 256]              3,159,040\n",
       "├─LayerNorm: 1-4                                   [1, 1, 256]               512\n",
       "├─Dropout: 1-5                                     [1, 256]                  --\n",
       "├─Linear: 1-6                                      [1, 3]                    771\n",
       "====================================================================================================\n",
       "Total params: 4,591,043\n",
       "Trainable params: 4,591,043\n",
       "Non-trainable params: 0\n",
       "Total mult-adds (M): 89.91\n",
       "====================================================================================================\n",
       "Input size (MB): 0.60\n",
       "Forward/backward pass size (MB): 26.72\n",
       "Params size (MB): 18.18\n",
       "Estimated Total Size (MB): 45.50\n",
       "===================================================================================================="
      ]
     },
     "execution_count": 23,
     "metadata": {},
     "output_type": "execute_result"
    }
   ],
   "source": [
    "num_classes = 3\n",
    "\n",
    "# Create the model\n",
    "model = timm.create_model('pit_ti_224', pretrained=True)\n",
    "\n",
    "# Modify the model's output head\n",
    "model.head = torch.nn.Linear(model.head.in_features, num_classes)\n",
    "\n",
    "# Move the model to the specified device\n",
    "model.to(device)\n",
    "\n",
    "# Print the model summary\n",
    "summary(model, (3, 224, 224))  #"
   ]
  },
  {
   "cell_type": "code",
   "execution_count": 24,
   "id": "1bf47ce0",
   "metadata": {
    "execution": {
     "iopub.execute_input": "2025-03-29T17:28:43.846199Z",
     "iopub.status.busy": "2025-03-29T17:28:43.845979Z",
     "iopub.status.idle": "2025-03-29T17:28:43.852375Z",
     "shell.execute_reply": "2025-03-29T17:28:43.851750Z"
    },
    "papermill": {
     "duration": 0.015522,
     "end_time": "2025-03-29T17:28:43.853414",
     "exception": false,
     "start_time": "2025-03-29T17:28:43.837892",
     "status": "completed"
    },
    "tags": []
   },
   "outputs": [],
   "source": [
    "def custom_metrics(y_pred, y_true, loss):\n",
    "    \"\"\"\n",
    "    Calculate custom evaluation metrics for multiclass classification.\n",
    "\n",
    "    Args:\n",
    "        y_pred (Tensor): Predicted probabilities for each class.\n",
    "        y_true (Tensor): True labels.\n",
    "        loss (float): Loss value.\n",
    "\n",
    "    Returns:\n",
    "        dict: Dictionary containing computed metrics.\n",
    "    \"\"\"\n",
    "    # Calculate predicted class labels\n",
    "    y_pred_classes = torch.argmax(y_pred, dim=1)\n",
    "\n",
    "    # Calculate accuracy using predicted and true labels\n",
    "    y_true_numpy = y_true.cpu().numpy()\n",
    "    y_pred_classes_numpy = y_pred_classes.cpu().numpy()\n",
    "    accuracy = accuracy_score(y_true_numpy, y_pred_classes_numpy)\n",
    "\n",
    "    # Calculate precision, recall, and F1-score\n",
    "    precision = precision_score(y_true_numpy, y_pred_classes_numpy, average='weighted')\n",
    "    recall = recall_score(y_true_numpy, y_pred_classes_numpy, average='weighted')\n",
    "    f1 = f1_score(y_true_numpy, y_pred_classes_numpy, average='weighted')\n",
    "\n",
    "    # Compute confusion matrix for multiclass classification\n",
    "    cm = confusion_matrix(y_true_numpy, y_pred_classes_numpy)\n",
    "    \n",
    "    # Calculate specificity, sensitivity, and MCC for multiclass classification\n",
    "    tn = cm[0, 0]\n",
    "    fp = cm[0, 1:].sum()\n",
    "    fn = cm[1:, 0].sum()\n",
    "    tp = cm[1:, 1:].sum()\n",
    "\n",
    "    specificity = tn / (tn + fp)\n",
    "    sensitivity = tp / (tp + fn)\n",
    "\n",
    "    mcc = matthews_corrcoef(y_true_numpy, y_pred_classes_numpy)\n",
    "\n",
    "    # Calculate AUC for each class\n",
    "    num_classes = y_pred.shape[1]\n",
    "    auc_scores = []\n",
    "\n",
    "    for class_idx in range(num_classes):\n",
    "        class_y_true = (y_true_numpy == class_idx).astype(np.float32)\n",
    "        class_y_pred = y_pred[:, class_idx].cpu().numpy()\n",
    "        auc_score = roc_auc_score(class_y_true, class_y_pred)\n",
    "        auc_scores.append(auc_score)\n",
    "\n",
    "    # Average AUC across classes\n",
    "    auc_avg = np.mean(auc_scores)\n",
    "\n",
    "    # Create a dictionary to store metrics\n",
    "    metrics = {\n",
    "        \"loss\": loss,\n",
    "        \"accuracy\": accuracy,\n",
    "        \"precision\": precision,\n",
    "        \"recall\": recall,\n",
    "        \"f1_score\": f1,\n",
    "        \"auc\": auc_avg,\n",
    "    }\n",
    "\n",
    "    return metrics"
   ]
  },
  {
   "cell_type": "code",
   "execution_count": 25,
   "id": "3a867f01",
   "metadata": {
    "execution": {
     "iopub.execute_input": "2025-03-29T17:28:43.869197Z",
     "iopub.status.busy": "2025-03-29T17:28:43.868961Z",
     "iopub.status.idle": "2025-03-29T17:28:43.873593Z",
     "shell.execute_reply": "2025-03-29T17:28:43.872833Z"
    },
    "papermill": {
     "duration": 0.0138,
     "end_time": "2025-03-29T17:28:43.874815",
     "exception": false,
     "start_time": "2025-03-29T17:28:43.861015",
     "status": "completed"
    },
    "tags": []
   },
   "outputs": [],
   "source": [
    "# Define the loss function and optimizer\n",
    "from torch.optim.lr_scheduler import StepLR\n",
    "\n",
    "# scheduler = StepLR(optimizer, step_size=8, gamma=0.95)\n",
    "\n",
    "LR = 0.0005\n",
    "BATCH_SIZE = 8\n",
    "\n",
    "optimizer = torch.optim.Adam(model.parameters(), lr = LR)\n",
    "\n",
    "criterion = torch.nn.CrossEntropyLoss() \n",
    "# criterion_DRW = torch.nn.CrossEntropyLoss(weight = weight)\n"
   ]
  },
  {
   "cell_type": "code",
   "execution_count": 26,
   "id": "d4909bbc",
   "metadata": {
    "execution": {
     "iopub.execute_input": "2025-03-29T17:28:43.890898Z",
     "iopub.status.busy": "2025-03-29T17:28:43.890648Z",
     "iopub.status.idle": "2025-03-29T17:30:20.241806Z",
     "shell.execute_reply": "2025-03-29T17:30:20.240629Z"
    },
    "papermill": {
     "duration": 96.360795,
     "end_time": "2025-03-29T17:30:20.243439",
     "exception": false,
     "start_time": "2025-03-29T17:28:43.882644",
     "status": "completed"
    },
    "tags": []
   },
   "outputs": [
    {
     "name": "stderr",
     "output_type": "stream",
     "text": [
      "Training Model - Epoch [1/25]: 100%|██████████| 12/12 [00:03<00:00,  3.61it/s]\n"
     ]
    },
    {
     "name": "stdout",
     "output_type": "stream",
     "text": [
      "Metrics - loss: 1.0663, accuracy: 0.3995, precision: 0.3830, recall: 0.3995, f1_score: 0.3894, auc: 0.4811\n"
     ]
    },
    {
     "name": "stderr",
     "output_type": "stream",
     "text": [
      "Validating Model: 100%|██████████| 4/4 [00:00<00:00,  4.42it/s]\n"
     ]
    },
    {
     "name": "stdout",
     "output_type": "stream",
     "text": [
      "Metrics - loss: 0.9500, accuracy: 0.5114, precision: 0.2615, recall: 0.5114, f1_score: 0.3461, auc: 0.5643\n"
     ]
    },
    {
     "name": "stderr",
     "output_type": "stream",
     "text": [
      "Training Model - Epoch [2/25]: 100%|██████████| 12/12 [00:02<00:00,  4.20it/s]\n"
     ]
    },
    {
     "name": "stdout",
     "output_type": "stream",
     "text": [
      "Metrics - loss: 0.9666, accuracy: 0.5117, precision: 0.2619, recall: 0.5117, f1_score: 0.3465, auc: 0.4748\n"
     ]
    },
    {
     "name": "stderr",
     "output_type": "stream",
     "text": [
      "Validating Model: 100%|██████████| 4/4 [00:00<00:00,  4.55it/s]\n"
     ]
    },
    {
     "name": "stdout",
     "output_type": "stream",
     "text": [
      "Metrics - loss: 1.0094, accuracy: 0.5114, precision: 0.2615, recall: 0.5114, f1_score: 0.3461, auc: 0.6538\n"
     ]
    },
    {
     "name": "stderr",
     "output_type": "stream",
     "text": [
      "Training Model - Epoch [3/25]: 100%|██████████| 12/12 [00:03<00:00,  3.59it/s]\n"
     ]
    },
    {
     "name": "stdout",
     "output_type": "stream",
     "text": [
      "Metrics - loss: 0.9721, accuracy: 0.4608, precision: 0.3994, recall: 0.4608, f1_score: 0.4245, auc: 0.5065\n"
     ]
    },
    {
     "name": "stderr",
     "output_type": "stream",
     "text": [
      "Validating Model: 100%|██████████| 4/4 [00:00<00:00,  4.37it/s]\n"
     ]
    },
    {
     "name": "stdout",
     "output_type": "stream",
     "text": [
      "Metrics - loss: 1.0589, accuracy: 0.5114, precision: 0.2615, recall: 0.5114, f1_score: 0.3461, auc: 0.6798\n"
     ]
    },
    {
     "name": "stderr",
     "output_type": "stream",
     "text": [
      "Training Model - Epoch [4/25]: 100%|██████████| 12/12 [00:02<00:00,  4.26it/s]\n"
     ]
    },
    {
     "name": "stdout",
     "output_type": "stream",
     "text": [
      "Metrics - loss: 0.9731, accuracy: 0.4595, precision: 0.3980, recall: 0.4595, f1_score: 0.4228, auc: 0.4907\n"
     ]
    },
    {
     "name": "stderr",
     "output_type": "stream",
     "text": [
      "Validating Model: 100%|██████████| 4/4 [00:00<00:00,  4.43it/s]\n"
     ]
    },
    {
     "name": "stdout",
     "output_type": "stream",
     "text": [
      "Metrics - loss: 0.9888, accuracy: 0.5114, precision: 0.2615, recall: 0.5114, f1_score: 0.3461, auc: 0.6975\n"
     ]
    },
    {
     "name": "stderr",
     "output_type": "stream",
     "text": [
      "Training Model - Epoch [5/25]: 100%|██████████| 12/12 [00:02<00:00,  4.10it/s]\n"
     ]
    },
    {
     "name": "stdout",
     "output_type": "stream",
     "text": [
      "Metrics - loss: 0.9584, accuracy: 0.5117, precision: 0.2619, recall: 0.5117, f1_score: 0.3465, auc: 0.5054\n"
     ]
    },
    {
     "name": "stderr",
     "output_type": "stream",
     "text": [
      "Validating Model: 100%|██████████| 4/4 [00:00<00:00,  4.55it/s]\n"
     ]
    },
    {
     "name": "stdout",
     "output_type": "stream",
     "text": [
      "Metrics - loss: 0.9550, accuracy: 0.5114, precision: 0.2615, recall: 0.5114, f1_score: 0.3461, auc: 0.7020\n"
     ]
    },
    {
     "name": "stderr",
     "output_type": "stream",
     "text": [
      "Training Model - Epoch [6/25]: 100%|██████████| 12/12 [00:02<00:00,  4.27it/s]\n"
     ]
    },
    {
     "name": "stdout",
     "output_type": "stream",
     "text": [
      "Metrics - loss: 0.9524, accuracy: 0.5117, precision: 0.2619, recall: 0.5117, f1_score: 0.3465, auc: 0.5187\n"
     ]
    },
    {
     "name": "stderr",
     "output_type": "stream",
     "text": [
      "Validating Model: 100%|██████████| 4/4 [00:00<00:00,  4.62it/s]\n"
     ]
    },
    {
     "name": "stdout",
     "output_type": "stream",
     "text": [
      "Metrics - loss: 0.9449, accuracy: 0.5114, precision: 0.2615, recall: 0.5114, f1_score: 0.3461, auc: 0.6601\n"
     ]
    },
    {
     "name": "stderr",
     "output_type": "stream",
     "text": [
      "Training Model - Epoch [7/25]: 100%|██████████| 12/12 [00:02<00:00,  4.21it/s]\n"
     ]
    },
    {
     "name": "stdout",
     "output_type": "stream",
     "text": [
      "Metrics - loss: 0.9479, accuracy: 0.5000, precision: 0.3830, recall: 0.5000, f1_score: 0.3645, auc: 0.5223\n"
     ]
    },
    {
     "name": "stderr",
     "output_type": "stream",
     "text": [
      "Validating Model: 100%|██████████| 4/4 [00:00<00:00,  4.27it/s]\n"
     ]
    },
    {
     "name": "stdout",
     "output_type": "stream",
     "text": [
      "Metrics - loss: 0.9425, accuracy: 0.5114, precision: 0.2615, recall: 0.5114, f1_score: 0.3461, auc: 0.5828\n"
     ]
    },
    {
     "name": "stderr",
     "output_type": "stream",
     "text": [
      "Training Model - Epoch [8/25]: 100%|██████████| 12/12 [00:02<00:00,  4.18it/s]\n"
     ]
    },
    {
     "name": "stdout",
     "output_type": "stream",
     "text": [
      "Metrics - loss: 0.9368, accuracy: 0.5039, precision: 0.4168, recall: 0.5039, f1_score: 0.3924, auc: 0.5312\n"
     ]
    },
    {
     "name": "stderr",
     "output_type": "stream",
     "text": [
      "Validating Model: 100%|██████████| 4/4 [00:00<00:00,  4.33it/s]\n"
     ]
    },
    {
     "name": "stdout",
     "output_type": "stream",
     "text": [
      "Metrics - loss: 0.9349, accuracy: 0.5114, precision: 0.2615, recall: 0.5114, f1_score: 0.3461, auc: 0.6974\n"
     ]
    },
    {
     "name": "stderr",
     "output_type": "stream",
     "text": [
      "Training Model - Epoch [9/25]: 100%|██████████| 12/12 [00:02<00:00,  4.27it/s]\n"
     ]
    },
    {
     "name": "stdout",
     "output_type": "stream",
     "text": [
      "Metrics - loss: 0.9309, accuracy: 0.4739, precision: 0.4219, recall: 0.4739, f1_score: 0.4464, auc: 0.5263\n"
     ]
    },
    {
     "name": "stderr",
     "output_type": "stream",
     "text": [
      "Validating Model: 100%|██████████| 4/4 [00:00<00:00,  4.49it/s]\n"
     ]
    },
    {
     "name": "stdout",
     "output_type": "stream",
     "text": [
      "Metrics - loss: 0.9780, accuracy: 0.5114, precision: 0.2615, recall: 0.5114, f1_score: 0.3461, auc: 0.7072\n"
     ]
    },
    {
     "name": "stderr",
     "output_type": "stream",
     "text": [
      "Training Model - Epoch [10/25]: 100%|██████████| 12/12 [00:02<00:00,  4.18it/s]\n"
     ]
    },
    {
     "name": "stdout",
     "output_type": "stream",
     "text": [
      "Metrics - loss: 0.9265, accuracy: 0.4896, precision: 0.4246, recall: 0.4896, f1_score: 0.4491, auc: 0.5545\n"
     ]
    },
    {
     "name": "stderr",
     "output_type": "stream",
     "text": [
      "Validating Model: 100%|██████████| 4/4 [00:00<00:00,  4.64it/s]\n"
     ]
    },
    {
     "name": "stdout",
     "output_type": "stream",
     "text": [
      "Metrics - loss: 0.9263, accuracy: 0.5114, precision: 0.2615, recall: 0.5114, f1_score: 0.3461, auc: 0.7399\n"
     ]
    },
    {
     "name": "stderr",
     "output_type": "stream",
     "text": [
      "Training Model - Epoch [11/25]: 100%|██████████| 12/12 [00:02<00:00,  4.07it/s]\n"
     ]
    },
    {
     "name": "stdout",
     "output_type": "stream",
     "text": [
      "Metrics - loss: 0.9112, accuracy: 0.5209, precision: 0.6020, recall: 0.5209, f1_score: 0.3686, auc: 0.5783\n"
     ]
    },
    {
     "name": "stderr",
     "output_type": "stream",
     "text": [
      "Validating Model: 100%|██████████| 4/4 [00:00<00:00,  4.02it/s]\n"
     ]
    },
    {
     "name": "stdout",
     "output_type": "stream",
     "text": [
      "Metrics - loss: 0.9092, accuracy: 0.4247, precision: 0.6619, recall: 0.4247, f1_score: 0.2993, auc: 0.7515\n"
     ]
    },
    {
     "name": "stderr",
     "output_type": "stream",
     "text": [
      "Training Model - Epoch [12/25]: 100%|██████████| 12/12 [00:02<00:00,  4.18it/s]\n"
     ]
    },
    {
     "name": "stdout",
     "output_type": "stream",
     "text": [
      "Metrics - loss: 0.9214, accuracy: 0.4830, precision: 0.4192, recall: 0.4830, f1_score: 0.4438, auc: 0.5416\n"
     ]
    },
    {
     "name": "stderr",
     "output_type": "stream",
     "text": [
      "Validating Model: 100%|██████████| 4/4 [00:00<00:00,  4.66it/s]\n"
     ]
    },
    {
     "name": "stdout",
     "output_type": "stream",
     "text": [
      "Metrics - loss: 0.9098, accuracy: 0.5753, precision: 0.6138, recall: 0.5753, f1_score: 0.4709, auc: 0.6517\n"
     ]
    },
    {
     "name": "stderr",
     "output_type": "stream",
     "text": [
      "Training Model - Epoch [13/25]: 100%|██████████| 12/12 [00:02<00:00,  4.15it/s]\n"
     ]
    },
    {
     "name": "stdout",
     "output_type": "stream",
     "text": [
      "Metrics - loss: 0.9100, accuracy: 0.5352, precision: 0.5480, recall: 0.5352, f1_score: 0.3991, auc: 0.5722\n"
     ]
    },
    {
     "name": "stderr",
     "output_type": "stream",
     "text": [
      "Validating Model: 100%|██████████| 4/4 [00:00<00:00,  4.66it/s]\n"
     ]
    },
    {
     "name": "stdout",
     "output_type": "stream",
     "text": [
      "Metrics - loss: 0.9267, accuracy: 0.5205, precision: 0.6430, recall: 0.5205, f1_score: 0.3660, auc: 0.7385\n"
     ]
    },
    {
     "name": "stderr",
     "output_type": "stream",
     "text": [
      "Training Model - Epoch [14/25]: 100%|██████████| 12/12 [00:02<00:00,  4.26it/s]\n"
     ]
    },
    {
     "name": "stdout",
     "output_type": "stream",
     "text": [
      "Metrics - loss: 0.9183, accuracy: 0.5131, precision: 0.4390, recall: 0.5131, f1_score: 0.4382, auc: 0.5554\n"
     ]
    },
    {
     "name": "stderr",
     "output_type": "stream",
     "text": [
      "Validating Model: 100%|██████████| 4/4 [00:00<00:00,  4.34it/s]\n"
     ]
    },
    {
     "name": "stdout",
     "output_type": "stream",
     "text": [
      "Metrics - loss: 0.8977, accuracy: 0.5799, precision: 0.5501, recall: 0.5799, f1_score: 0.5073, auc: 0.6350\n"
     ]
    },
    {
     "name": "stderr",
     "output_type": "stream",
     "text": [
      "Training Model - Epoch [15/25]: 100%|██████████| 12/12 [00:02<00:00,  4.14it/s]\n"
     ]
    },
    {
     "name": "stdout",
     "output_type": "stream",
     "text": [
      "Metrics - loss: 0.8811, accuracy: 0.5627, precision: 0.4962, recall: 0.5627, f1_score: 0.5095, auc: 0.6236\n"
     ]
    },
    {
     "name": "stderr",
     "output_type": "stream",
     "text": [
      "Validating Model: 100%|██████████| 4/4 [00:00<00:00,  4.66it/s]\n"
     ]
    },
    {
     "name": "stdout",
     "output_type": "stream",
     "text": [
      "Metrics - loss: 3.2002, accuracy: 0.5936, precision: 0.6289, recall: 0.5936, f1_score: 0.5008, auc: 0.6665\n"
     ]
    },
    {
     "name": "stderr",
     "output_type": "stream",
     "text": [
      "Training Model - Epoch [16/25]: 100%|██████████| 12/12 [00:02<00:00,  4.20it/s]\n"
     ]
    },
    {
     "name": "stdout",
     "output_type": "stream",
     "text": [
      "Metrics - loss: 1.1343, accuracy: 0.5091, precision: 0.4364, recall: 0.5091, f1_score: 0.4391, auc: 0.5398\n"
     ]
    },
    {
     "name": "stderr",
     "output_type": "stream",
     "text": [
      "Validating Model: 100%|██████████| 4/4 [00:00<00:00,  4.65it/s]\n"
     ]
    },
    {
     "name": "stdout",
     "output_type": "stream",
     "text": [
      "Metrics - loss: 0.9458, accuracy: 0.5114, precision: 0.2615, recall: 0.5114, f1_score: 0.3461, auc: 0.7559\n"
     ]
    },
    {
     "name": "stderr",
     "output_type": "stream",
     "text": [
      "Training Model - Epoch [17/25]: 100%|██████████| 12/12 [00:02<00:00,  4.14it/s]\n"
     ]
    },
    {
     "name": "stdout",
     "output_type": "stream",
     "text": [
      "Metrics - loss: 0.9600, accuracy: 0.4791, precision: 0.3864, recall: 0.4791, f1_score: 0.4002, auc: 0.5222\n"
     ]
    },
    {
     "name": "stderr",
     "output_type": "stream",
     "text": [
      "Validating Model: 100%|██████████| 4/4 [00:00<00:00,  4.43it/s]\n"
     ]
    },
    {
     "name": "stdout",
     "output_type": "stream",
     "text": [
      "Metrics - loss: 0.9453, accuracy: 0.5114, precision: 0.2615, recall: 0.5114, f1_score: 0.3461, auc: 0.7117\n"
     ]
    },
    {
     "name": "stderr",
     "output_type": "stream",
     "text": [
      "Training Model - Epoch [18/25]: 100%|██████████| 12/12 [00:02<00:00,  4.12it/s]\n"
     ]
    },
    {
     "name": "stdout",
     "output_type": "stream",
     "text": [
      "Metrics - loss: 0.9644, accuracy: 0.4700, precision: 0.4059, recall: 0.4700, f1_score: 0.4308, auc: 0.5062\n"
     ]
    },
    {
     "name": "stderr",
     "output_type": "stream",
     "text": [
      "Validating Model: 100%|██████████| 4/4 [00:00<00:00,  4.63it/s]\n"
     ]
    },
    {
     "name": "stdout",
     "output_type": "stream",
     "text": [
      "Metrics - loss: 0.9846, accuracy: 0.5114, precision: 0.2615, recall: 0.5114, f1_score: 0.3461, auc: 0.7147\n"
     ]
    },
    {
     "name": "stderr",
     "output_type": "stream",
     "text": [
      "Training Model - Epoch [19/25]: 100%|██████████| 12/12 [00:02<00:00,  4.20it/s]\n"
     ]
    },
    {
     "name": "stdout",
     "output_type": "stream",
     "text": [
      "Metrics - loss: 0.9556, accuracy: 0.4817, precision: 0.4078, recall: 0.4817, f1_score: 0.4261, auc: 0.5240\n"
     ]
    },
    {
     "name": "stderr",
     "output_type": "stream",
     "text": [
      "Validating Model: 100%|██████████| 4/4 [00:00<00:00,  4.13it/s]\n"
     ]
    },
    {
     "name": "stdout",
     "output_type": "stream",
     "text": [
      "Metrics - loss: 0.9680, accuracy: 0.5114, precision: 0.2615, recall: 0.5114, f1_score: 0.3461, auc: 0.6979\n"
     ]
    },
    {
     "name": "stderr",
     "output_type": "stream",
     "text": [
      "Training Model - Epoch [20/25]: 100%|██████████| 12/12 [00:03<00:00,  3.90it/s]\n"
     ]
    },
    {
     "name": "stdout",
     "output_type": "stream",
     "text": [
      "Metrics - loss: 0.9508, accuracy: 0.5117, precision: 0.2619, recall: 0.5117, f1_score: 0.3465, auc: 0.5090\n"
     ]
    },
    {
     "name": "stderr",
     "output_type": "stream",
     "text": [
      "Validating Model: 100%|██████████| 4/4 [00:00<00:00,  4.05it/s]\n"
     ]
    },
    {
     "name": "stdout",
     "output_type": "stream",
     "text": [
      "Metrics - loss: 0.9531, accuracy: 0.5114, precision: 0.2615, recall: 0.5114, f1_score: 0.3461, auc: 0.7000\n"
     ]
    },
    {
     "name": "stderr",
     "output_type": "stream",
     "text": [
      "Training Model - Epoch [21/25]: 100%|██████████| 12/12 [00:02<00:00,  4.23it/s]\n"
     ]
    },
    {
     "name": "stdout",
     "output_type": "stream",
     "text": [
      "Metrics - loss: 0.9375, accuracy: 0.5117, precision: 0.2619, recall: 0.5117, f1_score: 0.3465, auc: 0.5673\n"
     ]
    },
    {
     "name": "stderr",
     "output_type": "stream",
     "text": [
      "Validating Model: 100%|██████████| 4/4 [00:00<00:00,  4.65it/s]\n"
     ]
    },
    {
     "name": "stdout",
     "output_type": "stream",
     "text": [
      "Metrics - loss: 0.9912, accuracy: 0.5114, precision: 0.2615, recall: 0.5114, f1_score: 0.3461, auc: 0.6873\n"
     ]
    },
    {
     "name": "stderr",
     "output_type": "stream",
     "text": [
      "Training Model - Epoch [22/25]: 100%|██████████| 12/12 [00:02<00:00,  4.21it/s]\n"
     ]
    },
    {
     "name": "stdout",
     "output_type": "stream",
     "text": [
      "Metrics - loss: 0.9362, accuracy: 0.4974, precision: 0.4382, recall: 0.4974, f1_score: 0.4644, auc: 0.5447\n"
     ]
    },
    {
     "name": "stderr",
     "output_type": "stream",
     "text": [
      "Validating Model: 100%|██████████| 4/4 [00:00<00:00,  4.72it/s]\n"
     ]
    },
    {
     "name": "stdout",
     "output_type": "stream",
     "text": [
      "Metrics - loss: 0.9421, accuracy: 0.5114, precision: 0.2615, recall: 0.5114, f1_score: 0.3461, auc: 0.7032\n"
     ]
    },
    {
     "name": "stderr",
     "output_type": "stream",
     "text": [
      "Training Model - Epoch [23/25]: 100%|██████████| 12/12 [00:02<00:00,  4.15it/s]\n"
     ]
    },
    {
     "name": "stdout",
     "output_type": "stream",
     "text": [
      "Metrics - loss: 0.9177, accuracy: 0.4922, precision: 0.4350, recall: 0.4922, f1_score: 0.4614, auc: 0.5610\n"
     ]
    },
    {
     "name": "stderr",
     "output_type": "stream",
     "text": [
      "Validating Model: 100%|██████████| 4/4 [00:00<00:00,  4.47it/s]\n"
     ]
    },
    {
     "name": "stdout",
     "output_type": "stream",
     "text": [
      "Metrics - loss: 0.9379, accuracy: 0.5114, precision: 0.2615, recall: 0.5114, f1_score: 0.3461, auc: 0.6729\n"
     ]
    },
    {
     "name": "stderr",
     "output_type": "stream",
     "text": [
      "Training Model - Epoch [24/25]: 100%|██████████| 12/12 [00:02<00:00,  4.22it/s]\n"
     ]
    },
    {
     "name": "stdout",
     "output_type": "stream",
     "text": [
      "Metrics - loss: 0.9215, accuracy: 0.5013, precision: 0.4220, recall: 0.5013, f1_score: 0.4219, auc: 0.5462\n"
     ]
    },
    {
     "name": "stderr",
     "output_type": "stream",
     "text": [
      "Validating Model: 100%|██████████| 4/4 [00:00<00:00,  4.53it/s]\n"
     ]
    },
    {
     "name": "stdout",
     "output_type": "stream",
     "text": [
      "Metrics - loss: 0.9044, accuracy: 0.4247, precision: 0.6619, recall: 0.4247, f1_score: 0.2993, auc: 0.6576\n"
     ]
    },
    {
     "name": "stderr",
     "output_type": "stream",
     "text": [
      "Training Model - Epoch [25/25]: 100%|██████████| 12/12 [00:02<00:00,  4.26it/s]\n"
     ]
    },
    {
     "name": "stdout",
     "output_type": "stream",
     "text": [
      "Metrics - loss: 0.9105, accuracy: 0.5131, precision: 0.4373, recall: 0.5131, f1_score: 0.4384, auc: 0.5775\n"
     ]
    },
    {
     "name": "stderr",
     "output_type": "stream",
     "text": [
      "Validating Model: 100%|██████████| 4/4 [00:00<00:00,  4.39it/s]"
     ]
    },
    {
     "name": "stdout",
     "output_type": "stream",
     "text": [
      "Metrics - loss: 0.9121, accuracy: 0.5114, precision: 0.2615, recall: 0.5114, f1_score: 0.3461, auc: 0.6796\n",
      "Total Training Time: 0:01:13.111522\n",
      "Total Validation Time: 0:00:22.615261\n",
      "Average Training Time per Epoch: 0:00:02.924461\n",
      "Average Validation Time per Epoch: 0:00:00.904610\n"
     ]
    },
    {
     "name": "stderr",
     "output_type": "stream",
     "text": [
      "\n"
     ]
    }
   ],
   "source": [
    "total_epochs = 25\n",
    "\n",
    "# Initialize lists to store metric values for each epoch\n",
    "metric_names = [\"loss\", \"accuracy\", \"precision\", \"recall\", \"f1_score\", \"auc\"]\n",
    "train_metrics_history = {metric_name: [] for metric_name in metric_names}\n",
    "val_metrics_history = {metric_name: [] for metric_name in metric_names}\n",
    "\n",
    "# Training and validation loop\n",
    "total_training_time = 0.0\n",
    "total_validation_time = 0.0\n",
    "\n",
    "for epoch in range(total_epochs):\n",
    "    start_time = time.time()\n",
    "    \n",
    "    # Training phase\n",
    "    model.train()\n",
    "    total_loss = 0.0\n",
    "    all_predictions = []\n",
    "    all_targets = []\n",
    "\n",
    "    for batch_idx, (data, targets) in enumerate(tqdm(train_loader, desc=f\"Training Model - Epoch [{epoch + 1}/{total_epochs}]\")):\n",
    "        data = data.to(device)\n",
    "        targets = targets.to(device)\n",
    "\n",
    "        optimizer.zero_grad()\n",
    "        outputs = model(data)\n",
    "        loss = criterion(outputs, targets)\n",
    "        loss.backward()\n",
    "        optimizer.step()\n",
    "\n",
    "        total_loss += loss.item()\n",
    "\n",
    "        all_predictions.extend(torch.softmax(outputs, dim=1).cpu().detach().numpy())\n",
    "        all_targets.extend(targets.cpu().numpy())\n",
    "\n",
    "    end_time = time.time()\n",
    "    epoch_training_time = end_time - start_time\n",
    "    total_training_time += epoch_training_time\n",
    "    average_loss = total_loss / len(train_loader)\n",
    "\n",
    "    all_predictions = np.array(all_predictions)\n",
    "    all_targets = np.array(all_targets)\n",
    "\n",
    "    train_metrics = custom_metrics(torch.tensor(all_predictions), torch.tensor(all_targets), average_loss)\n",
    "\n",
    "    # Print training metrics in one line\n",
    "    training_metrics_line = \"Metrics - \"\n",
    "    for metric_name, metric_value in train_metrics.items():\n",
    "        if metric_name == 'auc':\n",
    "            training_metrics_line += f\"{metric_name}: {metric_value:.4f}\"\n",
    "        else:\n",
    "            training_metrics_line += f\"{metric_name}: {metric_value:.4f}, \"\n",
    "\n",
    "    print(f\"{training_metrics_line}\")\n",
    "\n",
    "    for metric_name in metric_names:\n",
    "        train_metrics_history[metric_name].append(train_metrics[metric_name])\n",
    "\n",
    "    # Validation phase\n",
    "    model.eval()\n",
    "    total_loss = 0.0\n",
    "    all_predictions = []\n",
    "    all_targets = []\n",
    "\n",
    "    start_time = time.time()\n",
    "\n",
    "    with torch.no_grad():\n",
    "        for batch_idx, (data, targets) in enumerate(tqdm(val_loader, desc=\"Validating Model: \")):\n",
    "            data = data.to(device)\n",
    "            targets = targets.to(device)\n",
    "\n",
    "            outputs = model(data)\n",
    "            loss = criterion(outputs, targets)\n",
    "            total_loss += loss.item()\n",
    "\n",
    "            all_predictions.extend(torch.softmax(outputs, dim=1).cpu().detach().numpy())\n",
    "            all_targets.extend(targets.cpu().numpy())\n",
    "\n",
    "    end_time = time.time()\n",
    "    epoch_validation_time = end_time - start_time\n",
    "    total_validation_time += epoch_validation_time\n",
    "    average_loss = total_loss / len(val_loader)\n",
    "\n",
    "    all_predictions = np.array(all_predictions)\n",
    "    all_targets = np.array(all_targets)\n",
    "\n",
    "    val_metrics = custom_metrics(torch.tensor(all_predictions), torch.tensor(all_targets), average_loss)\n",
    "\n",
    "    # Print validation metrics in one line\n",
    "    validation_metrics_line = \"Metrics - \"\n",
    "    for metric_name, metric_value in val_metrics.items():\n",
    "        if metric_name == 'auc':\n",
    "            validation_metrics_line += f\"{metric_name}: {metric_value:.4f}\"\n",
    "        else:\n",
    "            validation_metrics_line += f\"{metric_name}: {metric_value:.4f}, \"\n",
    "\n",
    "    print(f\"{validation_metrics_line}\")\n",
    "    \n",
    "    for metric_name in metric_names:\n",
    "        val_metrics_history[metric_name].append(val_metrics[metric_name])\n",
    "    \n",
    "#     scheduler.step()\n",
    "\n",
    "# Calculate and display total time taken for training and validation\n",
    "print(f\"Total Training Time: {str(timedelta(seconds=total_training_time))}\")\n",
    "print(f\"Total Validation Time: {str(timedelta(seconds=total_validation_time))}\")\n",
    "\n",
    "# Calculate and display average time taken per epoch for training and validation\n",
    "avg_training_time_per_epoch = total_training_time / total_epochs\n",
    "avg_validation_time_per_epoch = total_validation_time / total_epochs\n",
    "print(f\"Average Training Time per Epoch: {str(timedelta(seconds=avg_training_time_per_epoch))}\")\n",
    "print(f\"Average Validation Time per Epoch: {str(timedelta(seconds=avg_validation_time_per_epoch))}\")"
   ]
  },
  {
   "cell_type": "code",
   "execution_count": 27,
   "id": "5137c97c",
   "metadata": {
    "execution": {
     "iopub.execute_input": "2025-03-29T17:30:20.305974Z",
     "iopub.status.busy": "2025-03-29T17:30:20.305710Z",
     "iopub.status.idle": "2025-03-29T17:30:21.017340Z",
     "shell.execute_reply": "2025-03-29T17:30:21.016285Z"
    },
    "papermill": {
     "duration": 0.744342,
     "end_time": "2025-03-29T17:30:21.018617",
     "exception": false,
     "start_time": "2025-03-29T17:30:20.274275",
     "status": "completed"
    },
    "tags": []
   },
   "outputs": [
    {
     "name": "stderr",
     "output_type": "stream",
     "text": [
      "Testing Model: 100%|██████████| 2/2 [00:00<00:00,  2.93it/s]"
     ]
    },
    {
     "name": "stdout",
     "output_type": "stream",
     "text": [
      "Metrics - loss: 0.9092, accuracy: 0.5089, precision: 0.2590, recall: 0.5089, f1_score: 0.3433, auc: 0.6885\n"
     ]
    },
    {
     "name": "stderr",
     "output_type": "stream",
     "text": [
      "\n"
     ]
    }
   ],
   "source": [
    "# Testing loop\n",
    "model.eval()\n",
    "total_loss = 0.0\n",
    "all_predictions = []\n",
    "all_targets = []\n",
    "\n",
    "with torch.no_grad():\n",
    "    # Wrap the testing data loader with tqdm for a progress bar\n",
    "    for batch_idx, (data, targets) in enumerate(tqdm(test_loader, desc=\"Testing Model\")):\n",
    "        data = data.to(device)\n",
    "        targets = targets.to(device)\n",
    "\n",
    "        outputs = model(data)\n",
    "        loss = criterion(outputs, targets)\n",
    "        total_loss += loss.item()\n",
    "\n",
    "        # Store predictions and targets for metrics\n",
    "        all_predictions.extend(outputs.detach().cpu().numpy())\n",
    "        all_targets.extend(targets.detach().cpu().numpy())\n",
    "\n",
    "# Convert lists to NumPy arrays before creating PyTorch tensors\n",
    "all_predictions = np.array(all_predictions)\n",
    "all_targets = np.array(all_targets)\n",
    "\n",
    "average_loss = total_loss / len(test_loader)\n",
    "test_metrics = custom_metrics(torch.tensor(all_predictions), torch.tensor(all_targets), average_loss)\n",
    "\n",
    "# Print testing metrics in one line\n",
    "testing_metrics_line = \"Metrics - \"\n",
    "for metric_name, metric_value in test_metrics.items():\n",
    "    if metric_name == 'auc':\n",
    "        testing_metrics_line += f\"{metric_name}: {metric_value:.4f}\"\n",
    "    else:\n",
    "        testing_metrics_line += f\"{metric_name}: {metric_value:.4f}, \"\n",
    "\n",
    "print(f\"{testing_metrics_line}\")"
   ]
  },
  {
   "cell_type": "code",
   "execution_count": 28,
   "id": "49d92470",
   "metadata": {
    "execution": {
     "iopub.execute_input": "2025-03-29T17:30:21.081281Z",
     "iopub.status.busy": "2025-03-29T17:30:21.081040Z",
     "iopub.status.idle": "2025-03-29T17:30:22.674269Z",
     "shell.execute_reply": "2025-03-29T17:30:22.673371Z"
    },
    "papermill": {
     "duration": 1.62922,
     "end_time": "2025-03-29T17:30:22.678656",
     "exception": false,
     "start_time": "2025-03-29T17:30:21.049436",
     "status": "completed"
    },
    "tags": []
   },
   "outputs": [
    {
     "data": {
      "image/png": "[encoded data removed]",
      "text/plain": [
       "<Figure size 1000x3600 with 6 Axes>"
      ]
     },
     "metadata": {},
     "output_type": "display_data"
    }
   ],
   "source": [
    "def plot_metrics(train_metrics_history, val_metrics_history, metric_names):\n",
    "    \"\"\"\n",
    "    Plots the given metrics for the training and validation sets.\n",
    "\n",
    "    Args:\n",
    "        train_metrics_history: a dictionary containing training metrics history\n",
    "        val_metrics_history: a dictionary containing validation metrics history\n",
    "        metric_names: a list of strings representing the names of the metrics to plot\n",
    "\n",
    "    Returns:\n",
    "        None\n",
    "    \"\"\"\n",
    "    num_metrics = len(metric_names)\n",
    "    num_epochs = len(train_metrics_history[metric_names[0]])\n",
    "\n",
    "    figure, axes = plt.subplots(num_metrics, figsize=(10, 6 * num_metrics))\n",
    "\n",
    "    rng = range(1, num_epochs + 1)\n",
    "\n",
    "    for ax, metric_name in zip(axes, metric_names):\n",
    "        train_metric = train_metrics_history[metric_name]\n",
    "        val_metric = val_metrics_history[metric_name]\n",
    "\n",
    "        ax.plot(rng, train_metric, label=\"Training\")\n",
    "        ax.plot(rng, val_metric, label=\"Validation\")\n",
    "        ax.legend()\n",
    "        ax.set_xlabel(\"Epochs\")\n",
    "\n",
    "        if metric_name in (\"auc\", \"mcc\"):\n",
    "            ax.set_ylabel(metric_name.upper())\n",
    "            ax.set_title(metric_name.upper() + \" vs Epochs\")\n",
    "        else:\n",
    "            ax.set_ylabel(metric_name.capitalize())\n",
    "            ax.set_title(metric_name.capitalize() + \" vs Epochs\")\n",
    "\n",
    "        max_metric = max(max(train_metric), max(val_metric))\n",
    "        min_metric = min(min(train_metric), min(val_metric))\n",
    "        y_max = math.ceil(max_metric)\n",
    "\n",
    "        if min_metric > 0 or max_metric > 1:\n",
    "            ax.set_ylim(0, y_max)\n",
    "        else:\n",
    "            ax.set_ylim(min_metric, y_max)\n",
    "\n",
    "        ax.grid(True, linestyle='--', alpha=0.5)\n",
    "        ax.set_xlim(1, num_epochs)\n",
    "\n",
    "    plt.tight_layout()\n",
    "    plt.show()\n",
    "\n",
    "plot_metrics(train_metrics_history, val_metrics_history, metric_names)"
   ]
  },
  {
   "cell_type": "code",
   "execution_count": 29,
   "id": "3b0e406b",
   "metadata": {
    "execution": {
     "iopub.execute_input": "2025-03-29T17:30:22.752473Z",
     "iopub.status.busy": "2025-03-29T17:30:22.752190Z",
     "iopub.status.idle": "2025-03-29T17:30:22.943315Z",
     "shell.execute_reply": "2025-03-29T17:30:22.942506Z"
    },
    "papermill": {
     "duration": 0.229177,
     "end_time": "2025-03-29T17:30:22.944582",
     "exception": false,
     "start_time": "2025-03-29T17:30:22.715405",
     "status": "completed"
    },
    "tags": []
   },
   "outputs": [
    {
     "data": {
      "image/png": "[encoded data removed]",
      "text/plain": [
       "<Figure size 800x600 with 2 Axes>"
      ]
     },
     "metadata": {},
     "output_type": "display_data"
    }
   ],
   "source": [
    "import numpy as np\n",
    "import matplotlib.pyplot as plt\n",
    "import seaborn as sns\n",
    "from sklearn.metrics import confusion_matrix\n",
    "\n",
    "# Convert the softmax/logit outputs to predicted labels by taking the argmax\n",
    "predicted_labels = np.argmax(all_predictions, axis=1)\n",
    "\n",
    "# Compute confusion matrix\n",
    "conf_matrix = confusion_matrix(all_targets, predicted_labels)\n",
    "\n",
    "classes = ['bengin', 'malignant', 'normal']  \n",
    "# Plot confusion matrix using seaborn's heatmap\n",
    "plt.figure(figsize=(8, 6))\n",
    "sns.heatmap(conf_matrix, annot=True, fmt='d', cmap='Blues', xticklabels=classes, yticklabels=classes)\n",
    "plt.xlabel('Predicted Labels')\n",
    "plt.ylabel('True Labels')\n",
    "plt.title('Confusion Matrix')\n",
    "plt.show()\n"
   ]
  },
  {
   "cell_type": "code",
   "execution_count": null,
   "id": "e0a47394",
   "metadata": {
    "papermill": {
     "duration": 0.03621,
     "end_time": "2025-03-29T17:30:23.019843",
     "exception": false,
     "start_time": "2025-03-29T17:30:22.983633",
     "status": "completed"
    },
    "tags": []
   },
   "outputs": [],
   "source": []
  }
 ],
 "metadata": {
  "kaggle": {
   "accelerator": "gpu",
   "dataSources": [
    {
     "datasetId": 6406827,
     "sourceId": 10346551,
     "sourceType": "datasetVersion"
    }
   ],
   "isGpuEnabled": true,
   "isInternetEnabled": true,
   "language": "python",
   "sourceType": "notebook"
  },
  "kernelspec": {
   "display_name": "Python 3",
   "language": "python",
   "name": "python3"
  },
  "language_info": {
   "codemirror_mode": {
    "name": "ipython",
    "version": 3
   },
   "file_extension": ".py",
   "mimetype": "text/x-python",
   "name": "python",
   "nbconvert_exporter": "python",
   "pygments_lexer": "ipython3",
   "version": "3.10.12"
  },
  "papermill": {
   "default_parameters": {},
   "duration": 151.920162,
   "end_time": "2025-03-29T17:30:26.379727",
   "environment_variables": {},
   "exception": null,
   "input_path": "__notebook__.ipynb",
   "output_path": "__notebook__.ipynb",
   "parameters": {},
   "start_time": "2025-03-29T17:27:54.459565",
   "version": "2.6.0"
  },
  "widgets": {
   "application/vnd.jupyter.widget-state+json": {
    "state": {
     "2a684891b3664fa7b4b734d88939929a": {
      "model_module": "@jupyter-widgets/controls",
      "model_module_version": "2.0.0",
      "model_name": "HBoxModel",
      "state": {
       "_dom_classes": [],
       "_model_module": "@jupyter-widgets/controls",
       "_model_module_version": "2.0.0",
       "_model_name": "HBoxModel",
       "_view_count": null,
       "_view_module": "@jupyter-widgets/controls",
       "_view_module_version": "2.0.0",
       "_view_name": "HBoxView",
       "box_style": "",
       "children": [
        "IPY_MODEL_41dd911899674ddab6598e279286cba0",
        "IPY_MODEL_d08ff00c716b4dc3a9ed3a9e896228c8",
        "IPY_MODEL_5fda5dc187c148c69d2df851497c9636"
       ],
       "layout": "IPY_MODEL_eb33307c147541dab02e53a22a27dd91",
       "tabbable": null,
       "tooltip": null
      }
     },
     "2a96b914c07b46a39c94c8091c830fcb": {
      "model_module": "@jupyter-widgets/base",
      "model_module_version": "2.0.0",
      "model_name": "LayoutModel",
      "state": {
       "_model_module": "@jupyter-widgets/base",
       "_model_module_version": "2.0.0",
       "_model_name": "LayoutModel",
       "_view_count": null,
       "_view_module": "@jupyter-widgets/base",
       "_view_module_version": "2.0.0",
       "_view_name": "LayoutView",
       "align_content": null,
       "align_items": null,
       "align_self": null,
       "border_bottom": null,
       "border_left": null,
       "border_right": null,
       "border_top": null,
       "bottom": null,
       "display": null,
       "flex": null,
       "flex_flow": null,
       "grid_area": null,
       "grid_auto_columns": null,
       "grid_auto_flow": null,
       "grid_auto_rows": null,
       "grid_column": null,
       "grid_gap": null,
       "grid_row": null,
       "grid_template_areas": null,
       "grid_template_columns": null,
       "grid_template_rows": null,
       "height": null,
       "justify_content": null,
       "justify_items": null,
       "left": null,
       "margin": null,
       "max_height": null,
       "max_width": null,
       "min_height": null,
       "min_width": null,
       "object_fit": null,
       "object_position": null,
       "order": null,
       "overflow": null,
       "padding": null,
       "right": null,
       "top": null,
       "visibility": null,
       "width": null
      }
     },
     "3fffc09283924f7c92f9bbc04a2dd8f7": {
      "model_module": "@jupyter-widgets/base",
      "model_module_version": "2.0.0",
      "model_name": "LayoutModel",
      "state": {
       "_model_module": "@jupyter-widgets/base",
       "_model_module_version": "2.0.0",
       "_model_name": "LayoutModel",
       "_view_count": null,
       "_view_module": "@jupyter-widgets/base",
       "_view_module_version": "2.0.0",
       "_view_name": "LayoutView",
       "align_content": null,
       "align_items": null,
       "align_self": null,
       "border_bottom": null,
       "border_left": null,
       "border_right": null,
       "border_top": null,
       "bottom": null,
       "display": null,
       "flex": null,
       "flex_flow": null,
       "grid_area": null,
       "grid_auto_columns": null,
       "grid_auto_flow": null,
       "grid_auto_rows": null,
       "grid_column": null,
       "grid_gap": null,
       "grid_row": null,
       "grid_template_areas": null,
       "grid_template_columns": null,
       "grid_template_rows": null,
       "height": null,
       "justify_content": null,
       "justify_items": null,
       "left": null,
       "margin": null,
       "max_height": null,
       "max_width": null,
       "min_height": null,
       "min_width": null,
       "object_fit": null,
       "object_position": null,
       "order": null,
       "overflow": null,
       "padding": null,
       "right": null,
       "top": null,
       "visibility": null,
       "width": null
      }
     },
     "41dd911899674ddab6598e279286cba0": {
      "model_module": "@jupyter-widgets/controls",
      "model_module_version": "2.0.0",
      "model_name": "HTMLModel",
      "state": {
       "_dom_classes": [],
       "_model_module": "@jupyter-widgets/controls",
       "_model_module_version": "2.0.0",
       "_model_name": "HTMLModel",
       "_view_count": null,
       "_view_module": "@jupyter-widgets/controls",
       "_view_module_version": "2.0.0",
       "_view_name": "HTMLView",
       "description": "",
       "description_allow_html": false,
       "layout": "IPY_MODEL_2a96b914c07b46a39c94c8091c830fcb",
       "placeholder": "​",
       "style": "IPY_MODEL_d34c8be209a54957b030e66f9930c9b8",
       "tabbable": null,
       "tooltip": null,
       "value": "model.safetensors: 100%"
      }
     },
     "4c47ec9ee5f74a6fa05f6aecff58f735": {
      "model_module": "@jupyter-widgets/controls",
      "model_module_version": "2.0.0",
      "model_name": "HTMLStyleModel",
      "state": {
       "_model_module": "@jupyter-widgets/controls",
       "_model_module_version": "2.0.0",
       "_model_name": "HTMLStyleModel",
       "_view_count": null,
       "_view_module": "@jupyter-widgets/base",
       "_view_module_version": "2.0.0",
       "_view_name": "StyleView",
       "background": null,
       "description_width": "",
       "font_size": null,
       "text_color": null
      }
     },
     "5fda5dc187c148c69d2df851497c9636": {
      "model_module": "@jupyter-widgets/controls",
      "model_module_version": "2.0.0",
      "model_name": "HTMLModel",
      "state": {
       "_dom_classes": [],
       "_model_module": "@jupyter-widgets/controls",
       "_model_module_version": "2.0.0",
       "_model_name": "HTMLModel",
       "_view_count": null,
       "_view_module": "@jupyter-widgets/controls",
       "_view_module_version": "2.0.0",
       "_view_name": "HTMLView",
       "description": "",
       "description_allow_html": false,
       "layout": "IPY_MODEL_6af3b51bdef34a629f06cc2ec5dc52f1",
       "placeholder": "​",
       "style": "IPY_MODEL_4c47ec9ee5f74a6fa05f6aecff58f735",
       "tabbable": null,
       "tooltip": null,
       "value": " 19.4M/19.4M [00:00&lt;00:00, 92.8MB/s]"
      }
     },
     "6af3b51bdef34a629f06cc2ec5dc52f1": {
      "model_module": "@jupyter-widgets/base",
      "model_module_version": "2.0.0",
      "model_name": "LayoutModel",
      "state": {
       "_model_module": "@jupyter-widgets/base",
       "_model_module_version": "2.0.0",
       "_model_name": "LayoutModel",
       "_view_count": null,
       "_view_module": "@jupyter-widgets/base",
       "_view_module_version": "2.0.0",
       "_view_name": "LayoutView",
       "align_content": null,
       "align_items": null,
       "align_self": null,
       "border_bottom": null,
       "border_left": null,
       "border_right": null,
       "border_top": null,
       "bottom": null,
       "display": null,
       "flex": null,
       "flex_flow": null,
       "grid_area": null,
       "grid_auto_columns": null,
       "grid_auto_flow": null,
       "grid_auto_rows": null,
       "grid_column": null,
       "grid_gap": null,
       "grid_row": null,
       "grid_template_areas": null,
       "grid_template_columns": null,
       "grid_template_rows": null,
       "height": null,
       "justify_content": null,
       "justify_items": null,
       "left": null,
       "margin": null,
       "max_height": null,
       "max_width": null,
       "min_height": null,
       "min_width": null,
       "object_fit": null,
       "object_position": null,
       "order": null,
       "overflow": null,
       "padding": null,
       "right": null,
       "top": null,
       "visibility": null,
       "width": null
      }
     },
     "d08ff00c716b4dc3a9ed3a9e896228c8": {
      "model_module": "@jupyter-widgets/controls",
      "model_module_version": "2.0.0",
      "model_name": "FloatProgressModel",
      "state": {
       "_dom_classes": [],
       "_model_module": "@jupyter-widgets/controls",
       "_model_module_version": "2.0.0",
       "_model_name": "FloatProgressModel",
       "_view_count": null,
       "_view_module": "@jupyter-widgets/controls",
       "_view_module_version": "2.0.0",
       "_view_name": "ProgressView",
       "bar_style": "success",
       "description": "",
       "description_allow_html": false,
       "layout": "IPY_MODEL_3fffc09283924f7c92f9bbc04a2dd8f7",
       "max": 19405582.0,
       "min": 0.0,
       "orientation": "horizontal",
       "style": "IPY_MODEL_fb8b6b84acb84741bf2ea8b9b62d3501",
       "tabbable": null,
       "tooltip": null,
       "value": 19405582.0
      }
     },
     "d34c8be209a54957b030e66f9930c9b8": {
      "model_module": "@jupyter-widgets/controls",
      "model_module_version": "2.0.0",
      "model_name": "HTMLStyleModel",
      "state": {
       "_model_module": "@jupyter-widgets/controls",
       "_model_module_version": "2.0.0",
       "_model_name": "HTMLStyleModel",
       "_view_count": null,
       "_view_module": "@jupyter-widgets/base",
       "_view_module_version": "2.0.0",
       "_view_name": "StyleView",
       "background": null,
       "description_width": "",
       "font_size": null,
       "text_color": null
      }
     },
     "eb33307c147541dab02e53a22a27dd91": {
      "model_module": "@jupyter-widgets/base",
      "model_module_version": "2.0.0",
      "model_name": "LayoutModel",
      "state": {
       "_model_module": "@jupyter-widgets/base",
       "_model_module_version": "2.0.0",
       "_model_name": "LayoutModel",
       "_view_count": null,
       "_view_module": "@jupyter-widgets/base",
       "_view_module_version": "2.0.0",
       "_view_name": "LayoutView",
       "align_content": null,
       "align_items": null,
       "align_self": null,
       "border_bottom": null,
       "border_left": null,
       "border_right": null,
       "border_top": null,
       "bottom": null,
       "display": null,
       "flex": null,
       "flex_flow": null,
       "grid_area": null,
       "grid_auto_columns": null,
       "grid_auto_flow": null,
       "grid_auto_rows": null,
       "grid_column": null,
       "grid_gap": null,
       "grid_row": null,
       "grid_template_areas": null,
       "grid_template_columns": null,
       "grid_template_rows": null,
       "height": null,
       "justify_content": null,
       "justify_items": null,
       "left": null,
       "margin": null,
       "max_height": null,
       "max_width": null,
       "min_height": null,
       "min_width": null,
       "object_fit": null,
       "object_position": null,
       "order": null,
       "overflow": null,
       "padding": null,
       "right": null,
       "top": null,
       "visibility": null,
       "width": null
      }
     },
     "fb8b6b84acb84741bf2ea8b9b62d3501": {
      "model_module": "@jupyter-widgets/controls",
      "model_module_version": "2.0.0",
      "model_name": "ProgressStyleModel",
      "state": {
       "_model_module": "@jupyter-widgets/controls",
       "_model_module_version": "2.0.0",
       "_model_name": "ProgressStyleModel",
       "_view_count": null,
       "_view_module": "@jupyter-widgets/base",
       "_view_module_version": "2.0.0",
       "_view_name": "StyleView",
       "bar_color": null,
       "description_width": ""
      }
     }
    },
    "version_major": 2,
    "version_minor": 0
   }
  }
 },
 "nbformat": 4,
 "nbformat_minor": 5
}
