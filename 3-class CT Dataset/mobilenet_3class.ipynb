{
 "cells": [
  {
   "cell_type": "code",
   "execution_count": 1,
   "id": "67a47bb5",
   "metadata": {
    "execution": {
     "iopub.execute_input": "2024-12-27T05:44:46.838167Z",
     "iopub.status.busy": "2024-12-27T05:44:46.837791Z",
     "iopub.status.idle": "2024-12-27T05:44:47.177285Z",
     "shell.execute_reply": "2024-12-27T05:44:47.176504Z"
    },
    "id": "vEOfs7HCDSNK",
    "outputId": "bd074747-44a5-45ca-fe66-3c826bd465d6",
    "papermill": {
     "duration": 0.348071,
     "end_time": "2024-12-27T05:44:47.178784",
     "exception": false,
     "start_time": "2024-12-27T05:44:46.830713",
     "status": "completed"
    },
    "tags": []
   },
   "outputs": [
    {
     "name": "stdout",
     "output_type": "stream",
     "text": [
      "The virtual environment was not created successfully because ensurepip is not\r\n",
      "available.  On Debian/Ubuntu systems, you need to install the python3-venv\r\n",
      "package using the following command.\r\n",
      "\r\n",
      "    apt install python3.10-venv\r\n",
      "\r\n",
      "You may need to use sudo with that command.  After installing the python3-venv\r\n",
      "package, recreate your virtual environment.\r\n",
      "\r\n",
      "Failing command: /kaggle/working/clean_env/bin/python3\r\n",
      "\r\n",
      "/bin/bash: line 1: clean_env/bin/activate: No such file or directory\r\n"
     ]
    }
   ],
   "source": [
    "!python3 -m venv clean_env\n",
    "!source clean_env/bin/activate  # Activate the environment"
   ]
  },
  {
   "cell_type": "code",
   "execution_count": 2,
   "id": "2e687253",
   "metadata": {
    "execution": {
     "iopub.execute_input": "2024-12-27T05:44:47.188836Z",
     "iopub.status.busy": "2024-12-27T05:44:47.188614Z",
     "iopub.status.idle": "2024-12-27T05:45:58.877377Z",
     "shell.execute_reply": "2024-12-27T05:45:58.876373Z"
    },
    "id": "ybL5Ldy84Ilt",
    "outputId": "e1dd61b9-614c-4540-8e43-d8f5d98e5dd2",
    "papermill": {
     "duration": 71.695419,
     "end_time": "2024-12-27T05:45:58.879009",
     "exception": false,
     "start_time": "2024-12-27T05:44:47.183590",
     "status": "completed"
    },
    "tags": []
   },
   "outputs": [
    {
     "name": "stdout",
     "output_type": "stream",
     "text": [
      "Found existing installation: tensorflow 2.17.0\r\n",
      "Uninstalling tensorflow-2.17.0:\r\n",
      "  Successfully uninstalled tensorflow-2.17.0\r\n",
      "\u001b[33mWARNING: Skipping tensorflow-addons as it is not installed.\u001b[0m\u001b[33m\r\n",
      "\u001b[0mFound existing installation: keras 3.4.1\r\n",
      "Uninstalling keras-3.4.1:\r\n",
      "  Successfully uninstalled keras-3.4.1\r\n",
      "Collecting tensorflow==2.9.0\r\n",
      "  Downloading tensorflow-2.9.0-cp310-cp310-manylinux_2_17_x86_64.manylinux2014_x86_64.whl.metadata (3.0 kB)\r\n",
      "Collecting keras==2.9.0\r\n",
      "  Downloading keras-2.9.0-py2.py3-none-any.whl.metadata (1.3 kB)\r\n",
      "Collecting tensorflow-addons==0.18.0\r\n",
      "  Downloading tensorflow_addons-0.18.0-cp310-cp310-manylinux_2_17_x86_64.manylinux2014_x86_64.whl.metadata (1.8 kB)\r\n",
      "Requirement already satisfied: absl-py>=1.0.0 in /usr/local/lib/python3.10/dist-packages (from tensorflow==2.9.0) (1.4.0)\r\n",
      "Requirement already satisfied: astunparse>=1.6.0 in /usr/local/lib/python3.10/dist-packages (from tensorflow==2.9.0) (1.6.3)\r\n",
      "Collecting flatbuffers<2,>=1.12 (from tensorflow==2.9.0)\r\n",
      "  Downloading flatbuffers-1.12-py2.py3-none-any.whl.metadata (872 bytes)\r\n",
      "Collecting gast<=0.4.0,>=0.2.1 (from tensorflow==2.9.0)\r\n",
      "  Downloading gast-0.4.0-py3-none-any.whl.metadata (1.1 kB)\r\n",
      "Requirement already satisfied: google-pasta>=0.1.1 in /usr/local/lib/python3.10/dist-packages (from tensorflow==2.9.0) (0.2.0)\r\n",
      "Requirement already satisfied: grpcio<2.0,>=1.24.3 in /usr/local/lib/python3.10/dist-packages (from tensorflow==2.9.0) (1.64.1)\r\n",
      "Requirement already satisfied: h5py>=2.9.0 in /usr/local/lib/python3.10/dist-packages (from tensorflow==2.9.0) (3.11.0)\r\n",
      "Collecting keras-preprocessing>=1.1.1 (from tensorflow==2.9.0)\r\n",
      "  Downloading Keras_Preprocessing-1.1.2-py2.py3-none-any.whl.metadata (1.9 kB)\r\n",
      "Requirement already satisfied: libclang>=13.0.0 in /usr/local/lib/python3.10/dist-packages (from tensorflow==2.9.0) (18.1.1)\r\n",
      "Requirement already satisfied: numpy>=1.20 in /usr/local/lib/python3.10/dist-packages (from tensorflow==2.9.0) (1.26.4)\r\n",
      "Requirement already satisfied: opt-einsum>=2.3.2 in /usr/local/lib/python3.10/dist-packages (from tensorflow==2.9.0) (3.3.0)\r\n",
      "Requirement already satisfied: packaging in /usr/local/lib/python3.10/dist-packages (from tensorflow==2.9.0) (24.1)\r\n",
      "Requirement already satisfied: protobuf>=3.9.2 in /usr/local/lib/python3.10/dist-packages (from tensorflow==2.9.0) (3.20.3)\r\n",
      "Requirement already satisfied: setuptools in /usr/local/lib/python3.10/dist-packages (from tensorflow==2.9.0) (71.0.4)\r\n",
      "Requirement already satisfied: six>=1.12.0 in /usr/local/lib/python3.10/dist-packages (from tensorflow==2.9.0) (1.16.0)\r\n",
      "Collecting tensorboard<2.10,>=2.9 (from tensorflow==2.9.0)\r\n",
      "  Downloading tensorboard-2.9.1-py3-none-any.whl.metadata (1.9 kB)\r\n",
      "Requirement already satisfied: tensorflow-io-gcs-filesystem>=0.23.1 in /usr/local/lib/python3.10/dist-packages (from tensorflow==2.9.0) (0.37.1)\r\n",
      "Collecting tensorflow-estimator<2.10.0,>=2.9.0rc0 (from tensorflow==2.9.0)\r\n",
      "  Downloading tensorflow_estimator-2.9.0-py2.py3-none-any.whl.metadata (1.3 kB)\r\n",
      "Requirement already satisfied: termcolor>=1.1.0 in /usr/local/lib/python3.10/dist-packages (from tensorflow==2.9.0) (2.4.0)\r\n",
      "Requirement already satisfied: typing-extensions>=3.6.6 in /usr/local/lib/python3.10/dist-packages (from tensorflow==2.9.0) (4.12.2)\r\n",
      "Requirement already satisfied: wrapt>=1.11.0 in /usr/local/lib/python3.10/dist-packages (from tensorflow==2.9.0) (1.16.0)\r\n",
      "Requirement already satisfied: typeguard>=2.7 in /usr/local/lib/python3.10/dist-packages (from tensorflow-addons==0.18.0) (4.3.0)\r\n",
      "Requirement already satisfied: wheel<1.0,>=0.23.0 in /usr/local/lib/python3.10/dist-packages (from astunparse>=1.6.0->tensorflow==2.9.0) (0.44.0)\r\n",
      "Requirement already satisfied: google-auth<3,>=1.6.3 in /usr/local/lib/python3.10/dist-packages (from tensorboard<2.10,>=2.9->tensorflow==2.9.0) (2.27.0)\r\n",
      "Collecting google-auth-oauthlib<0.5,>=0.4.1 (from tensorboard<2.10,>=2.9->tensorflow==2.9.0)\r\n",
      "  Downloading google_auth_oauthlib-0.4.6-py2.py3-none-any.whl.metadata (2.7 kB)\r\n",
      "Requirement already satisfied: markdown>=2.6.8 in /usr/local/lib/python3.10/dist-packages (from tensorboard<2.10,>=2.9->tensorflow==2.9.0) (3.7)\r\n",
      "Collecting protobuf>=3.9.2 (from tensorflow==2.9.0)\r\n",
      "  Downloading protobuf-3.19.6-cp310-cp310-manylinux_2_17_x86_64.manylinux2014_x86_64.whl.metadata (787 bytes)\r\n",
      "Requirement already satisfied: requests<3,>=2.21.0 in /usr/local/lib/python3.10/dist-packages (from tensorboard<2.10,>=2.9->tensorflow==2.9.0) (2.32.3)\r\n",
      "Collecting tensorboard-data-server<0.7.0,>=0.6.0 (from tensorboard<2.10,>=2.9->tensorflow==2.9.0)\r\n",
      "  Downloading tensorboard_data_server-0.6.1-py3-none-manylinux2010_x86_64.whl.metadata (1.1 kB)\r\n",
      "Collecting tensorboard-plugin-wit>=1.6.0 (from tensorboard<2.10,>=2.9->tensorflow==2.9.0)\r\n",
      "  Downloading tensorboard_plugin_wit-1.8.1-py3-none-any.whl.metadata (873 bytes)\r\n",
      "Requirement already satisfied: werkzeug>=1.0.1 in /usr/local/lib/python3.10/dist-packages (from tensorboard<2.10,>=2.9->tensorflow==2.9.0) (3.0.4)\r\n",
      "Requirement already satisfied: cachetools<6.0,>=2.0.0 in /usr/local/lib/python3.10/dist-packages (from google-auth<3,>=1.6.3->tensorboard<2.10,>=2.9->tensorflow==2.9.0) (5.5.0)\r\n",
      "Requirement already satisfied: pyasn1-modules>=0.2.1 in /usr/local/lib/python3.10/dist-packages (from google-auth<3,>=1.6.3->tensorboard<2.10,>=2.9->tensorflow==2.9.0) (0.4.1)\r\n",
      "Requirement already satisfied: rsa<5,>=3.1.4 in /usr/local/lib/python3.10/dist-packages (from google-auth<3,>=1.6.3->tensorboard<2.10,>=2.9->tensorflow==2.9.0) (4.9)\r\n",
      "Requirement already satisfied: requests-oauthlib>=0.7.0 in /usr/local/lib/python3.10/dist-packages (from google-auth-oauthlib<0.5,>=0.4.1->tensorboard<2.10,>=2.9->tensorflow==2.9.0) (1.3.1)\r\n",
      "Requirement already satisfied: charset-normalizer<4,>=2 in /usr/local/lib/python3.10/dist-packages (from requests<3,>=2.21.0->tensorboard<2.10,>=2.9->tensorflow==2.9.0) (3.3.2)\r\n",
      "Requirement already satisfied: idna<4,>=2.5 in /usr/local/lib/python3.10/dist-packages (from requests<3,>=2.21.0->tensorboard<2.10,>=2.9->tensorflow==2.9.0) (3.10)\r\n",
      "Requirement already satisfied: urllib3<3,>=1.21.1 in /usr/local/lib/python3.10/dist-packages (from requests<3,>=2.21.0->tensorboard<2.10,>=2.9->tensorflow==2.9.0) (2.2.3)\r\n",
      "Requirement already satisfied: certifi>=2017.4.17 in /usr/local/lib/python3.10/dist-packages (from requests<3,>=2.21.0->tensorboard<2.10,>=2.9->tensorflow==2.9.0) (2024.8.30)\r\n",
      "Requirement already satisfied: MarkupSafe>=2.1.1 in /usr/local/lib/python3.10/dist-packages (from werkzeug>=1.0.1->tensorboard<2.10,>=2.9->tensorflow==2.9.0) (2.1.5)\r\n",
      "Requirement already satisfied: pyasn1<0.7.0,>=0.4.6 in /usr/local/lib/python3.10/dist-packages (from pyasn1-modules>=0.2.1->google-auth<3,>=1.6.3->tensorboard<2.10,>=2.9->tensorflow==2.9.0) (0.6.1)\r\n",
      "Requirement already satisfied: oauthlib>=3.0.0 in /usr/local/lib/python3.10/dist-packages (from requests-oauthlib>=0.7.0->google-auth-oauthlib<0.5,>=0.4.1->tensorboard<2.10,>=2.9->tensorflow==2.9.0) (3.2.2)\r\n",
      "Downloading tensorflow-2.9.0-cp310-cp310-manylinux_2_17_x86_64.manylinux2014_x86_64.whl (511.7 MB)\r\n",
      "\u001b[2K   \u001b[90m━━━━━━━━━━━━━━━━━━━━━━━━━━━━━━━━━━━━━━━━\u001b[0m \u001b[32m511.7/511.7 MB\u001b[0m \u001b[31m3.3 MB/s\u001b[0m eta \u001b[36m0:00:00\u001b[0m\r\n",
      "\u001b[?25hDownloading keras-2.9.0-py2.py3-none-any.whl (1.6 MB)\r\n",
      "\u001b[2K   \u001b[90m━━━━━━━━━━━━━━━━━━━━━━━━━━━━━━━━━━━━━━━━\u001b[0m \u001b[32m1.6/1.6 MB\u001b[0m \u001b[31m65.3 MB/s\u001b[0m eta \u001b[36m0:00:00\u001b[0m\r\n",
      "\u001b[?25hDownloading tensorflow_addons-0.18.0-cp310-cp310-manylinux_2_17_x86_64.manylinux2014_x86_64.whl (1.1 MB)\r\n",
      "\u001b[2K   \u001b[90m━━━━━━━━━━━━━━━━━━━━━━━━━━━━━━━━━━━━━━━━\u001b[0m \u001b[32m1.1/1.1 MB\u001b[0m \u001b[31m47.6 MB/s\u001b[0m eta \u001b[36m0:00:00\u001b[0m\r\n",
      "\u001b[?25hDownloading flatbuffers-1.12-py2.py3-none-any.whl (15 kB)\r\n",
      "Downloading gast-0.4.0-py3-none-any.whl (9.8 kB)\r\n",
      "Downloading Keras_Preprocessing-1.1.2-py2.py3-none-any.whl (42 kB)\r\n",
      "\u001b[2K   \u001b[90m━━━━━━━━━━━━━━━━━━━━━━━━━━━━━━━━━━━━━━━━\u001b[0m \u001b[32m42.6/42.6 kB\u001b[0m \u001b[31m2.0 MB/s\u001b[0m eta \u001b[36m0:00:00\u001b[0m\r\n",
      "\u001b[?25hDownloading tensorboard-2.9.1-py3-none-any.whl (5.8 MB)\r\n",
      "\u001b[2K   \u001b[90m━━━━━━━━━━━━━━━━━━━━━━━━━━━━━━━━━━━━━━━━\u001b[0m \u001b[32m5.8/5.8 MB\u001b[0m \u001b[31m96.1 MB/s\u001b[0m eta \u001b[36m0:00:00\u001b[0m\r\n",
      "\u001b[?25hDownloading protobuf-3.19.6-cp310-cp310-manylinux_2_17_x86_64.manylinux2014_x86_64.whl (1.1 MB)\r\n",
      "\u001b[2K   \u001b[90m━━━━━━━━━━━━━━━━━━━━━━━━━━━━━━━━━━━━━━━━\u001b[0m \u001b[32m1.1/1.1 MB\u001b[0m \u001b[31m45.9 MB/s\u001b[0m eta \u001b[36m0:00:00\u001b[0m\r\n",
      "\u001b[?25hDownloading tensorflow_estimator-2.9.0-py2.py3-none-any.whl (438 kB)\r\n",
      "\u001b[2K   \u001b[90m━━━━━━━━━━━━━━━━━━━━━━━━━━━━━━━━━━━━━━━━\u001b[0m \u001b[32m438.7/438.7 kB\u001b[0m \u001b[31m26.2 MB/s\u001b[0m eta \u001b[36m0:00:00\u001b[0m\r\n",
      "\u001b[?25hDownloading google_auth_oauthlib-0.4.6-py2.py3-none-any.whl (18 kB)\r\n",
      "Downloading tensorboard_data_server-0.6.1-py3-none-manylinux2010_x86_64.whl (4.9 MB)\r\n",
      "\u001b[2K   \u001b[90m━━━━━━━━━━━━━━━━━━━━━━━━━━━━━━━━━━━━━━━━\u001b[0m \u001b[32m4.9/4.9 MB\u001b[0m \u001b[31m91.1 MB/s\u001b[0m eta \u001b[36m0:00:00\u001b[0m\r\n",
      "\u001b[?25hDownloading tensorboard_plugin_wit-1.8.1-py3-none-any.whl (781 kB)\r\n",
      "\u001b[2K   \u001b[90m━━━━━━━━━━━━━━━━━━━━━━━━━━━━━━━━━━━━━━━━\u001b[0m \u001b[32m781.3/781.3 kB\u001b[0m \u001b[31m38.6 MB/s\u001b[0m eta \u001b[36m0:00:00\u001b[0m\r\n",
      "\u001b[?25hInstalling collected packages: tensorboard-plugin-wit, keras, flatbuffers, tensorflow-estimator, tensorboard-data-server, protobuf, keras-preprocessing, gast, tensorflow-addons, google-auth-oauthlib, tensorboard, tensorflow\r\n",
      "  Attempting uninstall: flatbuffers\r\n",
      "    Found existing installation: flatbuffers 24.3.25\r\n",
      "    Uninstalling flatbuffers-24.3.25:\r\n",
      "      Successfully uninstalled flatbuffers-24.3.25\r\n",
      "  Attempting uninstall: tensorboard-data-server\r\n",
      "    Found existing installation: tensorboard-data-server 0.7.2\r\n",
      "    Uninstalling tensorboard-data-server-0.7.2:\r\n",
      "      Successfully uninstalled tensorboard-data-server-0.7.2\r\n",
      "  Attempting uninstall: protobuf\r\n",
      "    Found existing installation: protobuf 3.20.3\r\n",
      "    Uninstalling protobuf-3.20.3:\r\n",
      "      Successfully uninstalled protobuf-3.20.3\r\n",
      "  Attempting uninstall: gast\r\n",
      "    Found existing installation: gast 0.6.0\r\n",
      "    Uninstalling gast-0.6.0:\r\n",
      "      Successfully uninstalled gast-0.6.0\r\n",
      "  Attempting uninstall: google-auth-oauthlib\r\n",
      "    Found existing installation: google-auth-oauthlib 1.2.1\r\n",
      "    Uninstalling google-auth-oauthlib-1.2.1:\r\n",
      "      Successfully uninstalled google-auth-oauthlib-1.2.1\r\n",
      "  Attempting uninstall: tensorboard\r\n",
      "    Found existing installation: tensorboard 2.17.0\r\n",
      "    Uninstalling tensorboard-2.17.0:\r\n",
      "      Successfully uninstalled tensorboard-2.17.0\r\n",
      "\u001b[31mERROR: pip's dependency resolver does not currently take into account all the packages that are installed. This behaviour is the source of the following dependency conflicts.\r\n",
      "cudf-cu12 24.4.1 requires protobuf<5,>=3.20, but you have protobuf 3.19.6 which is incompatible.\r\n",
      "cudf-cu12 24.4.1 requires pyarrow<15.0.0a0,>=14.0.1, but you have pyarrow 18.1.0 which is incompatible.\r\n",
      "google-cloud-aiplatform 1.67.1 requires protobuf!=4.21.0,!=4.21.1,!=4.21.2,!=4.21.3,!=4.21.4,!=4.21.5,<6.0.0dev,>=3.20.2, but you have protobuf 3.19.6 which is incompatible.\r\n",
      "google-cloud-bigquery-connection 1.15.5 requires protobuf!=4.21.0,!=4.21.1,!=4.21.2,!=4.21.3,!=4.21.4,!=4.21.5,<6.0.0dev,>=3.20.2, but you have protobuf 3.19.6 which is incompatible.\r\n",
      "google-cloud-bigtable 2.26.0 requires google-api-core[grpc]<3.0.0dev,>=2.16.0, but you have google-api-core 1.34.1 which is incompatible.\r\n",
      "google-cloud-bigtable 2.26.0 requires protobuf!=4.21.0,!=4.21.1,!=4.21.2,!=4.21.3,!=4.21.4,!=4.21.5,<6.0.0dev,>=3.20.2, but you have protobuf 3.19.6 which is incompatible.\r\n",
      "google-cloud-functions 1.16.5 requires protobuf!=4.21.0,!=4.21.1,!=4.21.2,!=4.21.3,!=4.21.4,!=4.21.5,<6.0.0dev,>=3.20.2, but you have protobuf 3.19.6 which is incompatible.\r\n",
      "google-cloud-iam 2.15.2 requires protobuf!=4.21.0,!=4.21.1,!=4.21.2,!=4.21.3,!=4.21.4,!=4.21.5,<6.0.0dev,>=3.20.2, but you have protobuf 3.19.6 which is incompatible.\r\n",
      "google-cloud-language 2.13.4 requires protobuf!=4.21.0,!=4.21.1,!=4.21.2,!=4.21.3,!=4.21.4,!=4.21.5,<6.0.0dev,>=3.20.2, but you have protobuf 3.19.6 which is incompatible.\r\n",
      "google-cloud-pubsub 2.23.1 requires protobuf!=4.21.0,!=4.21.1,!=4.21.2,!=4.21.3,!=4.21.4,!=4.21.5,<6.0.0dev,>=3.20.2, but you have protobuf 3.19.6 which is incompatible.\r\n",
      "google-cloud-resource-manager 1.12.5 requires protobuf!=4.21.0,!=4.21.1,!=4.21.2,!=4.21.3,!=4.21.4,!=4.21.5,<6.0.0dev,>=3.20.2, but you have protobuf 3.19.6 which is incompatible.\r\n",
      "google-cloud-videointelligence 2.15.0 requires protobuf!=4.21.0,!=4.21.1,!=4.21.2,!=4.21.3,!=4.21.4,!=4.21.5,<6.0.0dev,>=3.20.2, but you have protobuf 3.19.6 which is incompatible.\r\n",
      "google-cloud-vision 3.9.0 requires protobuf!=4.21.0,!=4.21.1,!=4.21.2,!=4.21.3,!=4.21.4,!=4.21.5,<6.0.0dev,>=3.20.2, but you have protobuf 3.19.6 which is incompatible.\r\n",
      "googleapis-common-protos 1.65.0 requires protobuf!=3.20.0,!=3.20.1,!=4.21.1,!=4.21.2,!=4.21.3,!=4.21.4,!=4.21.5,<6.0.0.dev0,>=3.20.2, but you have protobuf 3.19.6 which is incompatible.\r\n",
      "grpc-google-iam-v1 0.13.1 requires protobuf!=4.21.1,!=4.21.2,!=4.21.3,!=4.21.4,!=4.21.5,<6.0.0dev,>=3.20.2, but you have protobuf 3.19.6 which is incompatible.\r\n",
      "onnx 1.17.0 requires protobuf>=3.20.2, but you have protobuf 3.19.6 which is incompatible.\r\n",
      "pandas-gbq 0.23.1 requires google-api-core<3.0.0dev,>=2.10.2, but you have google-api-core 1.34.1 which is incompatible.\r\n",
      "pandas-gbq 0.23.1 requires google-auth-oauthlib>=0.7.0, but you have google-auth-oauthlib 0.4.6 which is incompatible.\r\n",
      "tensorflow-datasets 4.9.6 requires protobuf>=3.20, but you have protobuf 3.19.6 which is incompatible.\r\n",
      "tensorflow-decision-forests 1.10.0 requires tensorflow==2.17.0, but you have tensorflow 2.9.0 which is incompatible.\r\n",
      "tensorflow-metadata 1.15.0 requires protobuf<4.21,>=3.20.3; python_version < \"3.11\", but you have protobuf 3.19.6 which is incompatible.\r\n",
      "tensorflow-text 2.17.0 requires tensorflow<2.18,>=2.17.0, but you have tensorflow 2.9.0 which is incompatible.\r\n",
      "tf-keras 2.17.0 requires tensorflow<2.18,>=2.17, but you have tensorflow 2.9.0 which is incompatible.\u001b[0m\u001b[31m\r\n",
      "\u001b[0mSuccessfully installed flatbuffers-1.12 gast-0.4.0 google-auth-oauthlib-0.4.6 keras-2.9.0 keras-preprocessing-1.1.2 protobuf-3.19.6 tensorboard-2.9.1 tensorboard-data-server-0.6.1 tensorboard-plugin-wit-1.8.1 tensorflow-2.9.0 tensorflow-addons-0.18.0 tensorflow-estimator-2.9.0\r\n"
     ]
    }
   ],
   "source": [
    "!pip uninstall tensorflow tensorflow-addons keras -y\n",
    "!pip install tensorflow==2.9.0 keras==2.9.0 tensorflow-addons==0.18.0\n"
   ]
  },
  {
   "cell_type": "code",
   "execution_count": 3,
   "id": "0c913970",
   "metadata": {
    "execution": {
     "iopub.execute_input": "2024-12-27T05:45:58.903973Z",
     "iopub.status.busy": "2024-12-27T05:45:58.903732Z",
     "iopub.status.idle": "2024-12-27T05:45:58.907384Z",
     "shell.execute_reply": "2024-12-27T05:45:58.906562Z"
    },
    "id": "GitBDng_36xV",
    "papermill": {
     "duration": 0.017319,
     "end_time": "2024-12-27T05:45:58.908558",
     "exception": false,
     "start_time": "2024-12-27T05:45:58.891239",
     "status": "completed"
    },
    "tags": []
   },
   "outputs": [],
   "source": [
    "import zipfile"
   ]
  },
  {
   "cell_type": "code",
   "execution_count": 4,
   "id": "fa91edfa",
   "metadata": {
    "execution": {
     "iopub.execute_input": "2024-12-27T05:45:58.933262Z",
     "iopub.status.busy": "2024-12-27T05:45:58.932980Z",
     "iopub.status.idle": "2024-12-27T05:46:04.887767Z",
     "shell.execute_reply": "2024-12-27T05:46:04.887055Z"
    },
    "id": "z3FHA2tYbNfx",
    "papermill": {
     "duration": 5.968572,
     "end_time": "2024-12-27T05:46:04.889386",
     "exception": false,
     "start_time": "2024-12-27T05:45:58.920814",
     "status": "completed"
    },
    "tags": []
   },
   "outputs": [],
   "source": [
    "import zipfile\n",
    "import os\n",
    "import random\n",
    "import shutil\n",
    "import numpy as np\n",
    "import pandas as pd\n",
    "import matplotlib.pyplot as plt\n",
    "import seaborn as sns\n",
    "import skimage.io\n",
    "import keras.backend as K\n",
    "import tensorflow as tf\n",
    "import tensorflow_addons as tfa\n",
    "from tensorflow.keras.models import Sequential, Model\n",
    "from tensorflow.keras.applications import(InceptionV3, MobileNetV2, DenseNet121, ResNet50, EfficientNetV2B0, Xception)\n",
    "from tensorflow.keras.layers import (Conv2D, MaxPooling2D, Flatten, Dense, Dropout,BatchNormalization, Activation, GlobalAveragePooling2D,DepthwiseConv2D, Input, Add, Concatenate)\n",
    "from tensorflow.keras.optimizers import Adam\n",
    "from tensorflow.keras.losses import CategoricalCrossentropy\n",
    "from tensorflow.keras.preprocessing.image import ImageDataGenerator\n",
    "from tensorflow.keras.callbacks import ReduceLROnPlateau, ModelCheckpoint, EarlyStopping, LearningRateScheduler\n",
    "from sklearn.metrics import confusion_matrix, classification_report, accuracy_score\n",
    "from sklearn.model_selection import train_test_split\n",
    "from tensorflow.keras.utils import plot_model\n",
    "from IPython.display import Image\n"
   ]
  },
  {
   "cell_type": "markdown",
   "id": "37b9281e",
   "metadata": {
    "id": "PO_UpS4vaBi8",
    "papermill": {
     "duration": 0.011837,
     "end_time": "2024-12-27T05:46:04.913648",
     "exception": false,
     "start_time": "2024-12-27T05:46:04.901811",
     "status": "completed"
    },
    "tags": []
   },
   "source": [
    "Try 3"
   ]
  },
  {
   "cell_type": "code",
   "execution_count": 5,
   "id": "ceb26108",
   "metadata": {
    "execution": {
     "iopub.execute_input": "2024-12-27T05:46:04.937998Z",
     "iopub.status.busy": "2024-12-27T05:46:04.937511Z",
     "iopub.status.idle": "2024-12-27T05:46:04.940568Z",
     "shell.execute_reply": "2024-12-27T05:46:04.939940Z"
    },
    "id": "QyN8qV0huMwD",
    "papermill": {
     "duration": 0.016448,
     "end_time": "2024-12-27T05:46:04.941739",
     "exception": false,
     "start_time": "2024-12-27T05:46:04.925291",
     "status": "completed"
    },
    "tags": []
   },
   "outputs": [],
   "source": [
    "# zip_path = \"/content/drive/MyDrive/iq-oth.zip\"  # Path to the ZIP file\n",
    "# extracted_path = \"/content/chest_ctscan_images\"  # Path to extract the files\n",
    "# with zipfile.ZipFile(zip_path, 'r') as zip_ref:\n",
    "#     zip_ref.extractall(extracted_path)"
   ]
  },
  {
   "cell_type": "code",
   "execution_count": 6,
   "id": "c76db618",
   "metadata": {
    "execution": {
     "iopub.execute_input": "2024-12-27T05:46:04.965656Z",
     "iopub.status.busy": "2024-12-27T05:46:04.965441Z",
     "iopub.status.idle": "2024-12-27T05:46:04.968487Z",
     "shell.execute_reply": "2024-12-27T05:46:04.967856Z"
    },
    "id": "psN1jH926Z7t",
    "papermill": {
     "duration": 0.01617,
     "end_time": "2024-12-27T05:46:04.969573",
     "exception": false,
     "start_time": "2024-12-27T05:46:04.953403",
     "status": "completed"
    },
    "tags": []
   },
   "outputs": [],
   "source": [
    "main_dir = \"/kaggle/input/iq-oth/The IQ-OTHNCCD lung cancer dataset/The IQ-OTHNCCD lung cancer dataset\""
   ]
  },
  {
   "cell_type": "code",
   "execution_count": 7,
   "id": "acfcab0c",
   "metadata": {
    "execution": {
     "iopub.execute_input": "2024-12-27T05:46:04.993374Z",
     "iopub.status.busy": "2024-12-27T05:46:04.993104Z",
     "iopub.status.idle": "2024-12-27T05:46:04.996094Z",
     "shell.execute_reply": "2024-12-27T05:46:04.995512Z"
    },
    "id": "TwEwT2nCuPYv",
    "papermill": {
     "duration": 0.016212,
     "end_time": "2024-12-27T05:46:04.997273",
     "exception": false,
     "start_time": "2024-12-27T05:46:04.981061",
     "status": "completed"
    },
    "tags": []
   },
   "outputs": [],
   "source": [
    "train_dir = \"/kaggle/working/ct-scan/train\"\n",
    "valid_dir = \"/kaggle/working/ct-scan/valid\"\n",
    "test_dir = \"/kaggle/working/ct-scan/test\""
   ]
  },
  {
   "cell_type": "code",
   "execution_count": 8,
   "id": "d4d0a526",
   "metadata": {
    "execution": {
     "iopub.execute_input": "2024-12-27T05:46:05.021276Z",
     "iopub.status.busy": "2024-12-27T05:46:05.021016Z",
     "iopub.status.idle": "2024-12-27T05:46:11.225070Z",
     "shell.execute_reply": "2024-12-27T05:46:11.224398Z"
    },
    "id": "cUjh_ksquT_w",
    "papermill": {
     "duration": 6.217749,
     "end_time": "2024-12-27T05:46:11.226668",
     "exception": false,
     "start_time": "2024-12-27T05:46:05.008919",
     "status": "completed"
    },
    "tags": []
   },
   "outputs": [],
   "source": [
    "def split_data(source_dir, train_dir, valid_dir, test_dir, train_ratio=0.7, valid_ratio=0.2, test_ratio=0.1):\n",
    "\n",
    "    for class_name in os.listdir(source_dir):\n",
    "        class_source_path = os.path.join(source_dir, class_name)\n",
    "        class_train_path = os.path.join(train_dir, class_name)\n",
    "        class_valid_path = os.path.join(valid_dir, class_name)\n",
    "        class_test_path = os.path.join(test_dir, class_name)\n",
    "\n",
    "        # Create subdirectories for each class if they don't exist\n",
    "        os.makedirs(class_train_path, exist_ok=True)\n",
    "        os.makedirs(class_valid_path, exist_ok=True)\n",
    "        os.makedirs(class_test_path, exist_ok=True)\n",
    "\n",
    "        all_files = os.listdir(class_source_path)\n",
    "        random.shuffle(all_files)  # Shuffle the files randomly\n",
    "\n",
    "        # Calculate split indices\n",
    "        train_end = int(len(all_files) * train_ratio)\n",
    "        valid_end = train_end + int(len(all_files) * valid_ratio)\n",
    "\n",
    "        # Split the files\n",
    "        train_files = all_files[:train_end]\n",
    "        valid_files = all_files[train_end:valid_end]\n",
    "        test_files = all_files[valid_end:]\n",
    "\n",
    "        # Move files to respective directories\n",
    "        for file in train_files:\n",
    "            shutil.copy(os.path.join(class_source_path, file), os.path.join(class_train_path, file))\n",
    "        for file in valid_files:\n",
    "            shutil.copy(os.path.join(class_source_path, file), os.path.join(class_valid_path, file))\n",
    "        for file in test_files:\n",
    "            shutil.copy(os.path.join(class_source_path, file), os.path.join(class_test_path, file))\n",
    "\n",
    "\n",
    "# Call the function to split the data\n",
    "split_data(main_dir, train_dir, valid_dir, test_dir)"
   ]
  },
  {
   "cell_type": "code",
   "execution_count": 9,
   "id": "13759fbf",
   "metadata": {
    "execution": {
     "iopub.execute_input": "2024-12-27T05:46:11.252830Z",
     "iopub.status.busy": "2024-12-27T05:46:11.252596Z",
     "iopub.status.idle": "2024-12-27T05:46:11.255784Z",
     "shell.execute_reply": "2024-12-27T05:46:11.255184Z"
    },
    "id": "OBHrYqxLuU5C",
    "papermill": {
     "duration": 0.016632,
     "end_time": "2024-12-27T05:46:11.256904",
     "exception": false,
     "start_time": "2024-12-27T05:46:11.240272",
     "status": "completed"
    },
    "tags": []
   },
   "outputs": [],
   "source": [
    "train_datagen = ImageDataGenerator(\n",
    "    # rescale=1.0/255,\n",
    "    # rotation_range=20,\n",
    "    # width_shift_range=0.2,\n",
    "    # height_shift_range=0.2,\n",
    "    # shear_range=0.2,\n",
    "    # zoom_range=0.2,\n",
    "    # horizontal_flip=True\n",
    ")"
   ]
  },
  {
   "cell_type": "code",
   "execution_count": 10,
   "id": "8af0f474",
   "metadata": {
    "execution": {
     "iopub.execute_input": "2024-12-27T05:46:11.280851Z",
     "iopub.status.busy": "2024-12-27T05:46:11.280647Z",
     "iopub.status.idle": "2024-12-27T05:46:11.283677Z",
     "shell.execute_reply": "2024-12-27T05:46:11.283029Z"
    },
    "id": "5OZi-BPsuYkQ",
    "papermill": {
     "duration": 0.016241,
     "end_time": "2024-12-27T05:46:11.284810",
     "exception": false,
     "start_time": "2024-12-27T05:46:11.268569",
     "status": "completed"
    },
    "tags": []
   },
   "outputs": [],
   "source": [
    "valid_datagen = ImageDataGenerator()\n",
    "test_datagen = ImageDataGenerator()"
   ]
  },
  {
   "cell_type": "code",
   "execution_count": 11,
   "id": "3caf85b4",
   "metadata": {
    "execution": {
     "iopub.execute_input": "2024-12-27T05:46:11.312075Z",
     "iopub.status.busy": "2024-12-27T05:46:11.311865Z",
     "iopub.status.idle": "2024-12-27T05:46:11.341082Z",
     "shell.execute_reply": "2024-12-27T05:46:11.339584Z"
    },
    "id": "s58bw8FiuczT",
    "outputId": "7aadd13e-a4ca-42d6-c4e1-8a8c09885c90",
    "papermill": {
     "duration": 0.046606,
     "end_time": "2024-12-27T05:46:11.343043",
     "exception": false,
     "start_time": "2024-12-27T05:46:11.296437",
     "status": "completed"
    },
    "tags": []
   },
   "outputs": [
    {
     "name": "stdout",
     "output_type": "stream",
     "text": [
      "Found 767 images belonging to 3 classes.\n"
     ]
    }
   ],
   "source": [
    "train_generator = train_datagen.flow_from_directory(\n",
    "    train_dir,\n",
    "    target_size=(224,224),\n",
    "    batch_size=16,\n",
    "    class_mode='categorical'\n",
    ")"
   ]
  },
  {
   "cell_type": "code",
   "execution_count": 12,
   "id": "6d578215",
   "metadata": {
    "execution": {
     "iopub.execute_input": "2024-12-27T05:46:11.379267Z",
     "iopub.status.busy": "2024-12-27T05:46:11.378963Z",
     "iopub.status.idle": "2024-12-27T05:46:11.394728Z",
     "shell.execute_reply": "2024-12-27T05:46:11.393632Z"
    },
    "id": "_VAT1nn6ufRV",
    "outputId": "e94fa4a2-fb97-4b45-9ffa-1de86e63561c",
    "papermill": {
     "duration": 0.03468,
     "end_time": "2024-12-27T05:46:11.396148",
     "exception": false,
     "start_time": "2024-12-27T05:46:11.361468",
     "status": "completed"
    },
    "tags": []
   },
   "outputs": [
    {
     "name": "stdout",
     "output_type": "stream",
     "text": [
      "Found 219 images belonging to 3 classes.\n"
     ]
    }
   ],
   "source": [
    "validation_generator = valid_datagen.flow_from_directory(\n",
    "    valid_dir,\n",
    "    target_size=(224,224),\n",
    "    batch_size=16,\n",
    "    class_mode='categorical'\n",
    ")"
   ]
  },
  {
   "cell_type": "code",
   "execution_count": 13,
   "id": "7c121473",
   "metadata": {
    "execution": {
     "iopub.execute_input": "2024-12-27T05:46:11.425420Z",
     "iopub.status.busy": "2024-12-27T05:46:11.425191Z",
     "iopub.status.idle": "2024-12-27T05:46:11.433777Z",
     "shell.execute_reply": "2024-12-27T05:46:11.433074Z"
    },
    "id": "79higThAuhq_",
    "outputId": "0195383a-337c-4a15-f3a4-1ae961e06629",
    "papermill": {
     "duration": 0.022186,
     "end_time": "2024-12-27T05:46:11.435000",
     "exception": false,
     "start_time": "2024-12-27T05:46:11.412814",
     "status": "completed"
    },
    "tags": []
   },
   "outputs": [
    {
     "name": "stdout",
     "output_type": "stream",
     "text": [
      "Found 111 images belonging to 3 classes.\n"
     ]
    }
   ],
   "source": [
    "test_generator = test_datagen.flow_from_directory(\n",
    "    test_dir,\n",
    "    target_size=(224,224),\n",
    "    batch_size=16,\n",
    "    class_mode='categorical'\n",
    ")"
   ]
  },
  {
   "cell_type": "code",
   "execution_count": 14,
   "id": "c4701d52",
   "metadata": {
    "execution": {
     "iopub.execute_input": "2024-12-27T05:46:11.459757Z",
     "iopub.status.busy": "2024-12-27T05:46:11.459555Z",
     "iopub.status.idle": "2024-12-27T05:46:11.462877Z",
     "shell.execute_reply": "2024-12-27T05:46:11.462064Z"
    },
    "id": "wJy_CEHicRgM",
    "papermill": {
     "duration": 0.017013,
     "end_time": "2024-12-27T05:46:11.464004",
     "exception": false,
     "start_time": "2024-12-27T05:46:11.446991",
     "status": "completed"
    },
    "tags": []
   },
   "outputs": [],
   "source": [
    "os.makedirs(test_dir, exist_ok=True)\n"
   ]
  },
  {
   "cell_type": "code",
   "execution_count": 15,
   "id": "d534cfa3",
   "metadata": {
    "execution": {
     "iopub.execute_input": "2024-12-27T05:46:11.488674Z",
     "iopub.status.busy": "2024-12-27T05:46:11.488474Z",
     "iopub.status.idle": "2024-12-27T05:46:11.492573Z",
     "shell.execute_reply": "2024-12-27T05:46:11.491905Z"
    },
    "id": "d4p9qKimcXnV",
    "outputId": "f03bfaf9-2fd8-470d-e955-f41f5a9dab9e",
    "papermill": {
     "duration": 0.017678,
     "end_time": "2024-12-27T05:46:11.493750",
     "exception": false,
     "start_time": "2024-12-27T05:46:11.476072",
     "status": "completed"
    },
    "tags": []
   },
   "outputs": [
    {
     "name": "stdout",
     "output_type": "stream",
     "text": [
      "Number of files in test directory: 3\n"
     ]
    }
   ],
   "source": [
    "# Example to list files in the test directory\n",
    "test_files = os.listdir(test_dir)\n",
    "print(\"Number of files in test directory:\", len(test_files))"
   ]
  },
  {
   "cell_type": "code",
   "execution_count": 16,
   "id": "b673f1be",
   "metadata": {
    "execution": {
     "iopub.execute_input": "2024-12-27T05:46:11.519017Z",
     "iopub.status.busy": "2024-12-27T05:46:11.518796Z",
     "iopub.status.idle": "2024-12-27T05:46:11.522698Z",
     "shell.execute_reply": "2024-12-27T05:46:11.521922Z"
    },
    "id": "gL6e9ixdcBKR",
    "outputId": "a8260ec8-6a70-4ef9-a8cb-b21399ad5a8d",
    "papermill": {
     "duration": 0.018006,
     "end_time": "2024-12-27T05:46:11.523810",
     "exception": false,
     "start_time": "2024-12-27T05:46:11.505804",
     "status": "completed"
    },
    "tags": []
   },
   "outputs": [
    {
     "name": "stdout",
     "output_type": "stream",
     "text": [
      "Test directory: /kaggle/working/ct-scan/test\n"
     ]
    }
   ],
   "source": [
    "print(\"Test directory:\", test_dir)\n"
   ]
  },
  {
   "cell_type": "code",
   "execution_count": 17,
   "id": "cb35709f",
   "metadata": {
    "execution": {
     "iopub.execute_input": "2024-12-27T05:46:11.548690Z",
     "iopub.status.busy": "2024-12-27T05:46:11.548493Z",
     "iopub.status.idle": "2024-12-27T05:46:11.552352Z",
     "shell.execute_reply": "2024-12-27T05:46:11.551720Z"
    },
    "id": "JVXysXnmD-9z",
    "papermill": {
     "duration": 0.017715,
     "end_time": "2024-12-27T05:46:11.553576",
     "exception": false,
     "start_time": "2024-12-27T05:46:11.535861",
     "status": "completed"
    },
    "tags": []
   },
   "outputs": [],
   "source": [
    "def f1_score(y_true, y_pred):\n",
    "    true_positives = K.sum(K.round(K.clip(y_true * y_pred, 0, 1)))\n",
    "    possible_positives = K.sum(K.round(K.clip(y_true, 0, 1)))\n",
    "    predicted_positives = K.sum(K.round(K.clip(y_pred, 0, 1)))\n",
    "    precision = true_positives / (predicted_positives + K.epsilon())\n",
    "    recall = true_positives / (possible_positives + K.epsilon())\n",
    "    f1_val = 2 * (precision * recall) / (precision + recall + K.epsilon())\n",
    "    return f1_val"
   ]
  },
  {
   "cell_type": "code",
   "execution_count": 18,
   "id": "b4afb345",
   "metadata": {
    "execution": {
     "iopub.execute_input": "2024-12-27T05:46:11.578395Z",
     "iopub.status.busy": "2024-12-27T05:46:11.578184Z",
     "iopub.status.idle": "2024-12-27T05:46:12.008338Z",
     "shell.execute_reply": "2024-12-27T05:46:12.007613Z"
    },
    "id": "aJPN14HlEZe-",
    "papermill": {
     "duration": 0.444202,
     "end_time": "2024-12-27T05:46:12.009859",
     "exception": false,
     "start_time": "2024-12-27T05:46:11.565657",
     "status": "completed"
    },
    "tags": []
   },
   "outputs": [],
   "source": [
    "METRICS = [\n",
    "    tf.keras.metrics.CategoricalAccuracy(name='accuracy'),\n",
    "    tf.keras.metrics.Precision(name='precision'),\n",
    "    tf.keras.metrics.Recall(name='recall'),\n",
    "    tf.keras.metrics.AUC(name='auc'),\n",
    "    tfa.metrics.F1Score(num_classes=3, average=\"micro\", name='f1_score')\n",
    "]"
   ]
  },
  {
   "cell_type": "code",
   "execution_count": 19,
   "id": "2ec070ed",
   "metadata": {
    "execution": {
     "iopub.execute_input": "2024-12-27T05:46:12.036115Z",
     "iopub.status.busy": "2024-12-27T05:46:12.035883Z",
     "iopub.status.idle": "2024-12-27T05:46:13.023653Z",
     "shell.execute_reply": "2024-12-27T05:46:13.022940Z"
    },
    "id": "3pu77guMwmjn",
    "outputId": "db96ba0b-7a93-4303-ca9c-96d5d0010d27",
    "papermill": {
     "duration": 1.002172,
     "end_time": "2024-12-27T05:46:13.025070",
     "exception": false,
     "start_time": "2024-12-27T05:46:12.022898",
     "status": "completed"
    },
    "tags": []
   },
   "outputs": [
    {
     "name": "stdout",
     "output_type": "stream",
     "text": [
      "Downloading data from https://storage.googleapis.com/tensorflow/keras-applications/mobilenet_v2/mobilenet_v2_weights_tf_dim_ordering_tf_kernels_1.0_224_no_top.h5\n",
      "9406464/9406464 [==============================] - 0s 0us/step\n"
     ]
    }
   ],
   "source": [
    "base_model = tf.keras.applications.MobileNetV2(input_shape=(224,224,3),include_top=False,weights=\"imagenet\")"
   ]
  },
  {
   "cell_type": "code",
   "execution_count": 20,
   "id": "8a7c079b",
   "metadata": {
    "execution": {
     "iopub.execute_input": "2024-12-27T05:46:13.051660Z",
     "iopub.status.busy": "2024-12-27T05:46:13.051419Z",
     "iopub.status.idle": "2024-12-27T05:46:13.054618Z",
     "shell.execute_reply": "2024-12-27T05:46:13.053968Z"
    },
    "id": "aSsNkIQCwpXA",
    "papermill": {
     "duration": 0.01744,
     "end_time": "2024-12-27T05:46:13.055874",
     "exception": false,
     "start_time": "2024-12-27T05:46:13.038434",
     "status": "completed"
    },
    "tags": []
   },
   "outputs": [],
   "source": [
    "total_layers = len(base_model.layers)"
   ]
  },
  {
   "cell_type": "code",
   "execution_count": 21,
   "id": "1b659a10",
   "metadata": {
    "execution": {
     "iopub.execute_input": "2024-12-27T05:46:13.081610Z",
     "iopub.status.busy": "2024-12-27T05:46:13.081400Z",
     "iopub.status.idle": "2024-12-27T05:46:13.084395Z",
     "shell.execute_reply": "2024-12-27T05:46:13.083727Z"
    },
    "id": "Ff-9hCJ3wts6",
    "papermill": {
     "duration": 0.016945,
     "end_time": "2024-12-27T05:46:13.085578",
     "exception": false,
     "start_time": "2024-12-27T05:46:13.068633",
     "status": "completed"
    },
    "tags": []
   },
   "outputs": [],
   "source": [
    "num_layers_to_freeze = 0"
   ]
  },
  {
   "cell_type": "code",
   "execution_count": 22,
   "id": "57953ff0",
   "metadata": {
    "execution": {
     "iopub.execute_input": "2024-12-27T05:46:13.110919Z",
     "iopub.status.busy": "2024-12-27T05:46:13.110716Z",
     "iopub.status.idle": "2024-12-27T05:46:13.113791Z",
     "shell.execute_reply": "2024-12-27T05:46:13.113189Z"
    },
    "id": "sKFHPjmTwu3K",
    "papermill": {
     "duration": 0.016992,
     "end_time": "2024-12-27T05:46:13.114948",
     "exception": false,
     "start_time": "2024-12-27T05:46:13.097956",
     "status": "completed"
    },
    "tags": []
   },
   "outputs": [],
   "source": [
    "for layer in base_model.layers[:num_layers_to_freeze]:\n",
    "    layer.trainable = True"
   ]
  },
  {
   "cell_type": "code",
   "execution_count": 23,
   "id": "93ef057d",
   "metadata": {
    "execution": {
     "iopub.execute_input": "2024-12-27T05:46:13.140523Z",
     "iopub.status.busy": "2024-12-27T05:46:13.140315Z",
     "iopub.status.idle": "2024-12-27T05:46:13.160915Z",
     "shell.execute_reply": "2024-12-27T05:46:13.159547Z"
    },
    "id": "h7_3xPFowxTo",
    "outputId": "4df73297-1e89-4884-aaf0-4ec506792941",
    "papermill": {
     "duration": 0.034843,
     "end_time": "2024-12-27T05:46:13.162363",
     "exception": false,
     "start_time": "2024-12-27T05:46:13.127520",
     "status": "completed"
    },
    "tags": []
   },
   "outputs": [
    {
     "name": "stdout",
     "output_type": "stream",
     "text": [
      "Layer 0: input_1, Trainable: True\n",
      "Layer 1: Conv1, Trainable: True\n",
      "Layer 2: bn_Conv1, Trainable: True\n",
      "Layer 3: Conv1_relu, Trainable: True\n",
      "Layer 4: expanded_conv_depthwise, Trainable: True\n",
      "Layer 5: expanded_conv_depthwise_BN, Trainable: True\n",
      "Layer 6: expanded_conv_depthwise_relu, Trainable: True\n",
      "Layer 7: expanded_conv_project, Trainable: True\n",
      "Layer 8: expanded_conv_project_BN, Trainable: True\n",
      "Layer 9: block_1_expand, Trainable: True\n",
      "Layer 10: block_1_expand_BN, Trainable: True\n",
      "Layer 11: block_1_expand_relu, Trainable: True\n",
      "Layer 12: block_1_pad, Trainable: True\n",
      "Layer 13: block_1_depthwise, Trainable: True\n",
      "Layer 14: block_1_depthwise_BN, Trainable: True\n",
      "Layer 15: block_1_depthwise_relu, Trainable: True\n",
      "Layer 16: block_1_project, Trainable: True\n",
      "Layer 17: block_1_project_BN, Trainable: True\n",
      "Layer 18: block_2_expand, Trainable: True\n",
      "Layer 19: block_2_expand_BN, Trainable: True\n",
      "Layer 20: block_2_expand_relu, Trainable: True\n",
      "Layer 21: block_2_depthwise, Trainable: True\n",
      "Layer 22: block_2_depthwise_BN, Trainable: True\n",
      "Layer 23: block_2_depthwise_relu, Trainable: True\n",
      "Layer 24: block_2_project, Trainable: True\n",
      "Layer 25: block_2_project_BN, Trainable: True\n",
      "Layer 26: block_2_add, Trainable: True\n",
      "Layer 27: block_3_expand, Trainable: True\n",
      "Layer 28: block_3_expand_BN, Trainable: True\n",
      "Layer 29: block_3_expand_relu, Trainable: True\n",
      "Layer 30: block_3_pad, Trainable: True\n",
      "Layer 31: block_3_depthwise, Trainable: True\n",
      "Layer 32: block_3_depthwise_BN, Trainable: True\n",
      "Layer 33: block_3_depthwise_relu, Trainable: True\n",
      "Layer 34: block_3_project, Trainable: True\n",
      "Layer 35: block_3_project_BN, Trainable: True\n",
      "Layer 36: block_4_expand, Trainable: True\n",
      "Layer 37: block_4_expand_BN, Trainable: True\n",
      "Layer 38: block_4_expand_relu, Trainable: True\n",
      "Layer 39: block_4_depthwise, Trainable: True\n",
      "Layer 40: block_4_depthwise_BN, Trainable: True\n",
      "Layer 41: block_4_depthwise_relu, Trainable: True\n",
      "Layer 42: block_4_project, Trainable: True\n",
      "Layer 43: block_4_project_BN, Trainable: True\n",
      "Layer 44: block_4_add, Trainable: True\n",
      "Layer 45: block_5_expand, Trainable: True\n",
      "Layer 46: block_5_expand_BN, Trainable: True\n",
      "Layer 47: block_5_expand_relu, Trainable: True\n",
      "Layer 48: block_5_depthwise, Trainable: True\n",
      "Layer 49: block_5_depthwise_BN, Trainable: True\n",
      "Layer 50: block_5_depthwise_relu, Trainable: True\n",
      "Layer 51: block_5_project, Trainable: True\n",
      "Layer 52: block_5_project_BN, Trainable: True\n",
      "Layer 53: block_5_add, Trainable: True\n",
      "Layer 54: block_6_expand, Trainable: True\n",
      "Layer 55: block_6_expand_BN, Trainable: True\n",
      "Layer 56: block_6_expand_relu, Trainable: True\n",
      "Layer 57: block_6_pad, Trainable: True\n",
      "Layer 58: block_6_depthwise, Trainable: True\n",
      "Layer 59: block_6_depthwise_BN, Trainable: True\n",
      "Layer 60: block_6_depthwise_relu, Trainable: True\n",
      "Layer 61: block_6_project, Trainable: True\n",
      "Layer 62: block_6_project_BN, Trainable: True\n",
      "Layer 63: block_7_expand, Trainable: True\n",
      "Layer 64: block_7_expand_BN, Trainable: True\n",
      "Layer 65: block_7_expand_relu, Trainable: True\n",
      "Layer 66: block_7_depthwise, Trainable: True\n",
      "Layer 67: block_7_depthwise_BN, Trainable: True\n",
      "Layer 68: block_7_depthwise_relu, Trainable: True\n",
      "Layer 69: block_7_project, Trainable: True\n",
      "Layer 70: block_7_project_BN, Trainable: True\n",
      "Layer 71: block_7_add, Trainable: True\n",
      "Layer 72: block_8_expand, Trainable: True\n",
      "Layer 73: block_8_expand_BN, Trainable: True\n",
      "Layer 74: block_8_expand_relu, Trainable: True\n",
      "Layer 75: block_8_depthwise, Trainable: True\n",
      "Layer 76: block_8_depthwise_BN, Trainable: True\n",
      "Layer 77: block_8_depthwise_relu, Trainable: True\n",
      "Layer 78: block_8_project, Trainable: True\n",
      "Layer 79: block_8_project_BN, Trainable: True\n",
      "Layer 80: block_8_add, Trainable: True\n",
      "Layer 81: block_9_expand, Trainable: True\n",
      "Layer 82: block_9_expand_BN, Trainable: True\n",
      "Layer 83: block_9_expand_relu, Trainable: True\n",
      "Layer 84: block_9_depthwise, Trainable: True\n",
      "Layer 85: block_9_depthwise_BN, Trainable: True\n",
      "Layer 86: block_9_depthwise_relu, Trainable: True\n",
      "Layer 87: block_9_project, Trainable: True\n",
      "Layer 88: block_9_project_BN, Trainable: True\n",
      "Layer 89: block_9_add, Trainable: True\n",
      "Layer 90: block_10_expand, Trainable: True\n",
      "Layer 91: block_10_expand_BN, Trainable: True\n",
      "Layer 92: block_10_expand_relu, Trainable: True\n",
      "Layer 93: block_10_depthwise, Trainable: True\n",
      "Layer 94: block_10_depthwise_BN, Trainable: True\n",
      "Layer 95: block_10_depthwise_relu, Trainable: True\n",
      "Layer 96: block_10_project, Trainable: True\n",
      "Layer 97: block_10_project_BN, Trainable: True\n",
      "Layer 98: block_11_expand, Trainable: True\n",
      "Layer 99: block_11_expand_BN, Trainable: True\n",
      "Layer 100: block_11_expand_relu, Trainable: True\n",
      "Layer 101: block_11_depthwise, Trainable: True\n",
      "Layer 102: block_11_depthwise_BN, Trainable: True\n",
      "Layer 103: block_11_depthwise_relu, Trainable: True\n",
      "Layer 104: block_11_project, Trainable: True\n",
      "Layer 105: block_11_project_BN, Trainable: True\n",
      "Layer 106: block_11_add, Trainable: True\n",
      "Layer 107: block_12_expand, Trainable: True\n",
      "Layer 108: block_12_expand_BN, Trainable: True\n",
      "Layer 109: block_12_expand_relu, Trainable: True\n",
      "Layer 110: block_12_depthwise, Trainable: True\n",
      "Layer 111: block_12_depthwise_BN, Trainable: True\n",
      "Layer 112: block_12_depthwise_relu, Trainable: True\n",
      "Layer 113: block_12_project, Trainable: True\n",
      "Layer 114: block_12_project_BN, Trainable: True\n",
      "Layer 115: block_12_add, Trainable: True\n",
      "Layer 116: block_13_expand, Trainable: True\n",
      "Layer 117: block_13_expand_BN, Trainable: True\n",
      "Layer 118: block_13_expand_relu, Trainable: True\n",
      "Layer 119: block_13_pad, Trainable: True\n",
      "Layer 120: block_13_depthwise, Trainable: True\n",
      "Layer 121: block_13_depthwise_BN, Trainable: True\n",
      "Layer 122: block_13_depthwise_relu, Trainable: True\n",
      "Layer 123: block_13_project, Trainable: True\n",
      "Layer 124: block_13_project_BN, Trainable: True\n",
      "Layer 125: block_14_expand, Trainable: True\n",
      "Layer 126: block_14_expand_BN, Trainable: True\n",
      "Layer 127: block_14_expand_relu, Trainable: True\n",
      "Layer 128: block_14_depthwise, Trainable: True\n",
      "Layer 129: block_14_depthwise_BN, Trainable: True\n",
      "Layer 130: block_14_depthwise_relu, Trainable: True\n",
      "Layer 131: block_14_project, Trainable: True\n",
      "Layer 132: block_14_project_BN, Trainable: True\n",
      "Layer 133: block_14_add, Trainable: True\n",
      "Layer 134: block_15_expand, Trainable: True\n",
      "Layer 135: block_15_expand_BN, Trainable: True\n",
      "Layer 136: block_15_expand_relu, Trainable: True\n",
      "Layer 137: block_15_depthwise, Trainable: True\n",
      "Layer 138: block_15_depthwise_BN, Trainable: True\n",
      "Layer 139: block_15_depthwise_relu, Trainable: True\n",
      "Layer 140: block_15_project, Trainable: True\n",
      "Layer 141: block_15_project_BN, Trainable: True\n",
      "Layer 142: block_15_add, Trainable: True\n",
      "Layer 143: block_16_expand, Trainable: True\n",
      "Layer 144: block_16_expand_BN, Trainable: True\n",
      "Layer 145: block_16_expand_relu, Trainable: True\n",
      "Layer 146: block_16_depthwise, Trainable: True\n",
      "Layer 147: block_16_depthwise_BN, Trainable: True\n",
      "Layer 148: block_16_depthwise_relu, Trainable: True\n",
      "Layer 149: block_16_project, Trainable: True\n",
      "Layer 150: block_16_project_BN, Trainable: True\n",
      "Layer 151: Conv_1, Trainable: True\n",
      "Layer 152: Conv_1_bn, Trainable: True\n",
      "Layer 153: out_relu, Trainable: True\n"
     ]
    }
   ],
   "source": [
    "for i, layer in enumerate(base_model.layers):\n",
    "    print(f\"Layer {i}: {layer.name}, Trainable: {layer.trainable}\")"
   ]
  },
  {
   "cell_type": "code",
   "execution_count": 24,
   "id": "84f7a908",
   "metadata": {
    "execution": {
     "iopub.execute_input": "2024-12-27T05:46:13.188351Z",
     "iopub.status.busy": "2024-12-27T05:46:13.188079Z",
     "iopub.status.idle": "2024-12-27T05:46:13.575914Z",
     "shell.execute_reply": "2024-12-27T05:46:13.575035Z"
    },
    "id": "le6O7kGIw6h6",
    "outputId": "2817dbec-62eb-45cf-9994-5613dd869bd2",
    "papermill": {
     "duration": 0.402245,
     "end_time": "2024-12-27T05:46:13.577298",
     "exception": false,
     "start_time": "2024-12-27T05:46:13.175053",
     "status": "completed"
    },
    "tags": []
   },
   "outputs": [
    {
     "name": "stdout",
     "output_type": "stream",
     "text": [
      "Model: \"sequential\"\n",
      "_________________________________________________________________\n",
      " Layer (type)                Output Shape              Param #   \n",
      "=================================================================\n",
      " mobilenetv2_1.00_224 (Funct  (None, 7, 7, 1280)       2257984   \n",
      " ional)                                                          \n",
      "                                                                 \n",
      " flatten (Flatten)           (None, 62720)             0         \n",
      "                                                                 \n",
      " dense (Dense)               (None, 3)                 188163    \n",
      "                                                                 \n",
      "=================================================================\n",
      "Total params: 2,446,147\n",
      "Trainable params: 2,412,035\n",
      "Non-trainable params: 34,112\n",
      "_________________________________________________________________\n"
     ]
    }
   ],
   "source": [
    "model = Sequential([\n",
    "    base_model,\n",
    "    Flatten(),\n",
    "    Dense(3, activation='softmax')\n",
    "])\n",
    "model.summary()"
   ]
  },
  {
   "cell_type": "code",
   "execution_count": 25,
   "id": "1265c383",
   "metadata": {
    "execution": {
     "iopub.execute_input": "2024-12-27T05:46:13.605369Z",
     "iopub.status.busy": "2024-12-27T05:46:13.605063Z",
     "iopub.status.idle": "2024-12-27T05:46:13.828638Z",
     "shell.execute_reply": "2024-12-27T05:46:13.827806Z"
    },
    "id": "kIpnFMMF2scs",
    "outputId": "12ed09a6-e767-4211-daf8-ac45ffbaeca2",
    "papermill": {
     "duration": 0.238788,
     "end_time": "2024-12-27T05:46:13.829929",
     "exception": false,
     "start_time": "2024-12-27T05:46:13.591141",
     "status": "completed"
    },
    "tags": []
   },
   "outputs": [
    {
     "data": {
      "image/png": "[encoded data removed]",
      "text/plain": [
       "<IPython.core.display.Image object>"
      ]
     },
     "execution_count": 25,
     "metadata": {},
     "output_type": "execute_result"
    }
   ],
   "source": [
    "from tensorflow.keras.utils import plot_model\n",
    "from IPython.display import Image\n",
    "plot_model(model, to_file='convnet.png', show_shapes=True,show_layer_names=True)\n",
    "Image(filename='convnet.png')"
   ]
  },
  {
   "cell_type": "code",
   "execution_count": 26,
   "id": "7667c501",
   "metadata": {
    "execution": {
     "iopub.execute_input": "2024-12-27T05:46:13.859758Z",
     "iopub.status.busy": "2024-12-27T05:46:13.859484Z",
     "iopub.status.idle": "2024-12-27T05:46:13.872877Z",
     "shell.execute_reply": "2024-12-27T05:46:13.872078Z"
    },
    "id": "CMtjjQwmaBjC",
    "papermill": {
     "duration": 0.029345,
     "end_time": "2024-12-27T05:46:13.874220",
     "exception": false,
     "start_time": "2024-12-27T05:46:13.844875",
     "status": "completed"
    },
    "tags": []
   },
   "outputs": [],
   "source": [
    "model.compile(\n",
    "    loss=\"categorical_crossentropy\",\n",
    "    optimizer=Adam(learning_rate=0.0005),\n",
    "    metrics=METRICS\n",
    ")"
   ]
  },
  {
   "cell_type": "code",
   "execution_count": 27,
   "id": "cdc0bcde",
   "metadata": {
    "execution": {
     "iopub.execute_input": "2024-12-27T05:46:13.903679Z",
     "iopub.status.busy": "2024-12-27T05:46:13.903464Z",
     "iopub.status.idle": "2024-12-27T05:46:13.906792Z",
     "shell.execute_reply": "2024-12-27T05:46:13.906193Z"
    },
    "id": "9Zjmg5poaBjC",
    "papermill": {
     "duration": 0.019542,
     "end_time": "2024-12-27T05:46:13.908027",
     "exception": false,
     "start_time": "2024-12-27T05:46:13.888485",
     "status": "completed"
    },
    "tags": []
   },
   "outputs": [],
   "source": [
    "callbacks = [\n",
    "    ModelCheckpoint(\"best_model.keras\", monitor=\"val_accuracy\", save_best_only=True, verbose=1),\n",
    "    EarlyStopping(monitor=\"val_loss\", patience=5, verbose=1, restore_best_weights=True)\n",
    "]"
   ]
  },
  {
   "cell_type": "code",
   "execution_count": 28,
   "id": "d1f7b398",
   "metadata": {
    "execution": {
     "iopub.execute_input": "2024-12-27T05:46:13.937261Z",
     "iopub.status.busy": "2024-12-27T05:46:13.937017Z",
     "iopub.status.idle": "2024-12-27T05:57:36.070629Z",
     "shell.execute_reply": "2024-12-27T05:57:36.069860Z"
    },
    "id": "zgcn2wlOaBjD",
    "outputId": "3847af9f-0cc6-453c-fdf3-9bf4f82c2f62",
    "papermill": {
     "duration": 682.149602,
     "end_time": "2024-12-27T05:57:36.071829",
     "exception": false,
     "start_time": "2024-12-27T05:46:13.922227",
     "status": "completed"
    },
    "tags": []
   },
   "outputs": [
    {
     "name": "stdout",
     "output_type": "stream",
     "text": [
      "Epoch 1/35\n",
      "48/48 [==============================] - ETA: 0s - loss: 0.8194 - accuracy: 0.8422 - precision: 0.8474 - recall: 0.8396 - auc: 0.9387 - f1_score: 0.8422\n",
      "Epoch 1: val_accuracy improved from -inf to 0.37900, saving model to best_model.keras\n",
      "48/48 [==============================] - 82s 2s/step - loss: 0.8194 - accuracy: 0.8422 - precision: 0.8474 - recall: 0.8396 - auc: 0.9387 - f1_score: 0.8422 - val_loss: 19.2462 - val_accuracy: 0.3790 - val_precision: 0.3790 - val_recall: 0.3790 - val_auc: 0.5342 - val_f1_score: 0.3790\n",
      "Epoch 2/35\n",
      "48/48 [==============================] - ETA: 0s - loss: 0.2441 - accuracy: 0.9205 - precision: 0.9228 - recall: 0.9192 - auc: 0.9855 - f1_score: 0.9205\n",
      "Epoch 2: val_accuracy did not improve from 0.37900\n",
      "48/48 [==============================] - 75s 2s/step - loss: 0.2441 - accuracy: 0.9205 - precision: 0.9228 - recall: 0.9192 - auc: 0.9855 - f1_score: 0.9205 - val_loss: 24.1859 - val_accuracy: 0.3790 - val_precision: 0.3790 - val_recall: 0.3790 - val_auc: 0.5342 - val_f1_score: 0.3790\n",
      "Epoch 3/35\n",
      "48/48 [==============================] - ETA: 0s - loss: 0.1498 - accuracy: 0.9570 - precision: 0.9606 - recall: 0.9544 - auc: 0.9924 - f1_score: 0.9570\n",
      "Epoch 3: val_accuracy improved from 0.37900 to 0.39269, saving model to best_model.keras\n",
      "48/48 [==============================] - 76s 2s/step - loss: 0.1498 - accuracy: 0.9570 - precision: 0.9606 - recall: 0.9544 - auc: 0.9924 - f1_score: 0.9570 - val_loss: 13.9087 - val_accuracy: 0.3927 - val_precision: 0.3927 - val_recall: 0.3927 - val_auc: 0.5452 - val_f1_score: 0.3927\n",
      "Epoch 4/35\n",
      "48/48 [==============================] - ETA: 0s - loss: 0.0901 - accuracy: 0.9752 - precision: 0.9752 - recall: 0.9752 - auc: 0.9956 - f1_score: 0.9752\n",
      "Epoch 4: val_accuracy improved from 0.39269 to 0.42466, saving model to best_model.keras\n",
      "48/48 [==============================] - 75s 2s/step - loss: 0.0901 - accuracy: 0.9752 - precision: 0.9752 - recall: 0.9752 - auc: 0.9956 - f1_score: 0.9752 - val_loss: 9.6951 - val_accuracy: 0.4247 - val_precision: 0.4247 - val_recall: 0.4247 - val_auc: 0.5999 - val_f1_score: 0.4247\n",
      "Epoch 5/35\n",
      "48/48 [==============================] - ETA: 0s - loss: 0.2072 - accuracy: 0.9413 - precision: 0.9450 - recall: 0.9400 - auc: 0.9898 - f1_score: 0.9413\n",
      "Epoch 5: val_accuracy did not improve from 0.42466\n",
      "48/48 [==============================] - 75s 2s/step - loss: 0.2072 - accuracy: 0.9413 - precision: 0.9450 - recall: 0.9400 - auc: 0.9898 - f1_score: 0.9413 - val_loss: 20.0999 - val_accuracy: 0.3790 - val_precision: 0.3790 - val_recall: 0.3790 - val_auc: 0.5342 - val_f1_score: 0.3790\n",
      "Epoch 6/35\n",
      "48/48 [==============================] - ETA: 0s - loss: 0.1250 - accuracy: 0.9687 - precision: 0.9700 - recall: 0.9687 - auc: 0.9939 - f1_score: 0.9687\n",
      "Epoch 6: val_accuracy did not improve from 0.42466\n",
      "48/48 [==============================] - 74s 2s/step - loss: 0.1250 - accuracy: 0.9687 - precision: 0.9700 - recall: 0.9687 - auc: 0.9939 - f1_score: 0.9687 - val_loss: 20.9302 - val_accuracy: 0.3790 - val_precision: 0.3790 - val_recall: 0.3790 - val_auc: 0.5342 - val_f1_score: 0.3790\n",
      "Epoch 7/35\n",
      "48/48 [==============================] - ETA: 0s - loss: 0.2101 - accuracy: 0.9596 - precision: 0.9608 - recall: 0.9583 - auc: 0.9871 - f1_score: 0.9596\n",
      "Epoch 7: val_accuracy improved from 0.42466 to 0.58904, saving model to best_model.keras\n",
      "48/48 [==============================] - 75s 2s/step - loss: 0.2101 - accuracy: 0.9596 - precision: 0.9608 - recall: 0.9583 - auc: 0.9871 - f1_score: 0.9596 - val_loss: 14.8115 - val_accuracy: 0.5890 - val_precision: 0.5890 - val_recall: 0.5890 - val_auc: 0.6973 - val_f1_score: 0.5890\n",
      "Epoch 8/35\n",
      "48/48 [==============================] - ETA: 0s - loss: 0.0729 - accuracy: 0.9713 - precision: 0.9725 - recall: 0.9687 - auc: 0.9968 - f1_score: 0.9713\n",
      "Epoch 8: val_accuracy improved from 0.58904 to 0.61187, saving model to best_model.keras\n",
      "48/48 [==============================] - 76s 2s/step - loss: 0.0729 - accuracy: 0.9713 - precision: 0.9725 - recall: 0.9687 - auc: 0.9968 - f1_score: 0.9713 - val_loss: 16.1014 - val_accuracy: 0.6119 - val_precision: 0.6119 - val_recall: 0.6119 - val_auc: 0.7106 - val_f1_score: 0.6119\n",
      "Epoch 9/35\n",
      "48/48 [==============================] - ETA: 0s - loss: 0.0163 - accuracy: 0.9948 - precision: 0.9948 - recall: 0.9948 - auc: 0.9999 - f1_score: 0.9948\n",
      "Epoch 9: val_accuracy did not improve from 0.61187\n",
      "Restoring model weights from the end of the best epoch: 4.\n",
      "48/48 [==============================] - 75s 2s/step - loss: 0.0163 - accuracy: 0.9948 - precision: 0.9948 - recall: 0.9948 - auc: 0.9999 - f1_score: 0.9948 - val_loss: 13.2561 - val_accuracy: 0.5799 - val_precision: 0.5799 - val_recall: 0.5799 - val_auc: 0.6869 - val_f1_score: 0.5799\n",
      "Epoch 9: early stopping\n"
     ]
    }
   ],
   "source": [
    "history = model.fit(\n",
    "    train_generator,\n",
    "    validation_data=validation_generator,\n",
    "    epochs=35,\n",
    "    callbacks=callbacks,\n",
    "        verbose=1\n",
    "    #  , class_weight=class_weights\n",
    ")"
   ]
  },
  {
   "cell_type": "code",
   "execution_count": 29,
   "id": "61e1e162",
   "metadata": {
    "execution": {
     "iopub.execute_input": "2024-12-27T05:57:36.143059Z",
     "iopub.status.busy": "2024-12-27T05:57:36.142816Z",
     "iopub.status.idle": "2024-12-27T05:57:36.919554Z",
     "shell.execute_reply": "2024-12-27T05:57:36.918687Z"
    },
    "id": "kE8Q1PqGaBjD",
    "papermill": {
     "duration": 0.814269,
     "end_time": "2024-12-27T05:57:36.921275",
     "exception": false,
     "start_time": "2024-12-27T05:57:36.107006",
     "status": "completed"
    },
    "tags": []
   },
   "outputs": [
    {
     "data": {
      "image/png": "[encoded data removed]",
      "text/plain": [
       "<Figure size 2200x500 with 5 Axes>"
      ]
     },
     "metadata": {},
     "output_type": "display_data"
    }
   ],
   "source": [
    "def Train_Val_Plot(acc, val_acc, loss, val_loss, auc, val_auc, precision, val_precision, f1, val_f1):\n",
    "\n",
    "    fig, (ax1, ax2, ax3, ax4, ax5) = plt.subplots(1, 5, figsize=(22, 5))\n",
    "    fig.suptitle(\" MODEL'S METRICS VISUALIZATION \")\n",
    "\n",
    "    # Rescale the y-axis for accuracy, auc, precision, and f1\n",
    "    rescale_factor = 0  # Adjust this factor to control the rescaling\n",
    "\n",
    "    ax1.plot(range(1, len(acc) + 1), acc)\n",
    "    ax1.plot(range(1, len(val_acc) + 1), val_acc)\n",
    "    ax1.set_title('History of Accuracy')\n",
    "    ax1.set_xlabel('Epochs')\n",
    "    ax1.set_ylabel('Accuracy')\n",
    "    ax1.set_ylim([0, 1.0])\n",
    "    ax1.legend(['training', 'validation'])\n",
    "\n",
    "    ax2.plot(range(1, len(loss) + 1), loss)\n",
    "    ax2.plot(range(1, len(val_loss) + 1), val_loss)\n",
    "    ax2.set_title('History of Loss')\n",
    "    ax2.set_xlabel('Epochs')\n",
    "    ax2.set_ylabel('Loss')\n",
    "    ax2.legend(['training', 'validation'])\n",
    "\n",
    "    ax3.plot(range(1, len(auc) + 1), auc)\n",
    "    ax3.plot(range(1, len(val_auc) + 1), val_auc)\n",
    "    ax3.set_title('History of AUC')\n",
    "    ax3.set_xlabel('Epochs')\n",
    "    ax3.set_ylabel('AUC')\n",
    "    ax3.set_ylim([rescale_factor, 1.0])\n",
    "    ax3.legend(['training', 'validation'])\n",
    "\n",
    "    ax4.plot(range(1, len(precision) + 1), precision)\n",
    "    ax4.plot(range(1, len(val_precision) + 1), val_precision)\n",
    "    ax4.set_title('History of Precision')\n",
    "    ax4.set_xlabel('Epochs')\n",
    "    ax4.set_ylabel('Precision')\n",
    "    ax4.set_ylim([rescale_factor, 1.0])\n",
    "    ax4.legend(['training', 'validation'])\n",
    "\n",
    "    ax5.plot(range(1, len(f1) + 1), f1)\n",
    "    ax5.plot(range(1, len(val_f1) + 1), val_f1)\n",
    "    ax5.set_title('History of F1-score')\n",
    "    ax5.set_xlabel('Epochs')\n",
    "    ax5.set_ylabel('F1 score')\n",
    "    ax5.set_ylim([rescale_factor, 1.0])\n",
    "    ax5.legend(['training', 'validation'])\n",
    "\n",
    "    plt.show()\n",
    "\n",
    "# Example usage:\n",
    "Train_Val_Plot(history.history['accuracy'], history.history['val_accuracy'],\n",
    "               history.history['loss'], history.history['val_loss']\n",
    "               ,\n",
    "               history.history['auc'], history.history['val_auc'],\n",
    "               history.history['precision'], history.history['val_precision'],\n",
    "               history.history['f1_score'], history.history['val_f1_score'])\n"
   ]
  },
  {
   "cell_type": "code",
   "execution_count": 30,
   "id": "952b7687",
   "metadata": {
    "execution": {
     "iopub.execute_input": "2024-12-27T05:57:36.995718Z",
     "iopub.status.busy": "2024-12-27T05:57:36.995432Z",
     "iopub.status.idle": "2024-12-27T05:57:39.175696Z",
     "shell.execute_reply": "2024-12-27T05:57:39.174908Z"
    },
    "id": "utE8sko2aBjD",
    "papermill": {
     "duration": 2.218623,
     "end_time": "2024-12-27T05:57:39.176958",
     "exception": false,
     "start_time": "2024-12-27T05:57:36.958335",
     "status": "completed"
    },
    "tags": []
   },
   "outputs": [
    {
     "name": "stdout",
     "output_type": "stream",
     "text": [
      "7/7 [==============================] - 2s 257ms/step - loss: 7.6077 - accuracy: 0.5045 - precision: 0.5045 - recall: 0.5045 - auc: 0.6486 - f1_score: 0.5045\n"
     ]
    },
    {
     "data": {
      "text/plain": [
       "[7.607693672180176,\n",
       " 0.5045045018196106,\n",
       " 0.5045045018196106,\n",
       " 0.5045045018196106,\n",
       " 0.6486283540725708,\n",
       " 0.5045045018196106]"
      ]
     },
     "execution_count": 30,
     "metadata": {},
     "output_type": "execute_result"
    }
   ],
   "source": [
    "model.evaluate(test_generator)"
   ]
  },
  {
   "cell_type": "code",
   "execution_count": 31,
   "id": "b67910bd",
   "metadata": {
    "execution": {
     "iopub.execute_input": "2024-12-27T05:57:39.253812Z",
     "iopub.status.busy": "2024-12-27T05:57:39.253562Z",
     "iopub.status.idle": "2024-12-27T05:57:44.621229Z",
     "shell.execute_reply": "2024-12-27T05:57:44.620206Z"
    },
    "id": "z0kvictcppHg",
    "papermill": {
     "duration": 5.406441,
     "end_time": "2024-12-27T05:57:44.622682",
     "exception": false,
     "start_time": "2024-12-27T05:57:39.216241",
     "status": "completed"
    },
    "tags": []
   },
   "outputs": [
    {
     "name": "stdout",
     "output_type": "stream",
     "text": [
      "7/7 [==============================] - 4s 560ms/step\n",
      "              precision    recall  f1-score   support\n",
      "\n",
      "           0       0.00      0.00      0.00        24\n",
      "           1       1.00      0.09      0.16       112\n",
      "           2       0.40      1.00      0.57        83\n",
      "\n",
      "    accuracy                           0.42       219\n",
      "   macro avg       0.47      0.36      0.24       219\n",
      "weighted avg       0.66      0.42      0.30       219\n",
      "\n"
     ]
    },
    {
     "name": "stderr",
     "output_type": "stream",
     "text": [
      "/usr/local/lib/python3.10/dist-packages/sklearn/metrics/_classification.py:1344: UndefinedMetricWarning: Precision and F-score are ill-defined and being set to 0.0 in labels with no predicted samples. Use `zero_division` parameter to control this behavior.\n",
      "  _warn_prf(average, modifier, msg_start, len(result))\n",
      "/usr/local/lib/python3.10/dist-packages/sklearn/metrics/_classification.py:1344: UndefinedMetricWarning: Precision and F-score are ill-defined and being set to 0.0 in labels with no predicted samples. Use `zero_division` parameter to control this behavior.\n",
      "  _warn_prf(average, modifier, msg_start, len(result))\n",
      "/usr/local/lib/python3.10/dist-packages/sklearn/metrics/_classification.py:1344: UndefinedMetricWarning: Precision and F-score are ill-defined and being set to 0.0 in labels with no predicted samples. Use `zero_division` parameter to control this behavior.\n",
      "  _warn_prf(average, modifier, msg_start, len(result))\n"
     ]
    }
   ],
   "source": [
    "# Load the test dataset\n",
    "X_test, y_test = [], []\n",
    "for i in range(len(validation_generator)):\n",
    "    batch_X, batch_y = validation_generator[i]\n",
    "    X_test.append(batch_X)\n",
    "    y_test.append(batch_y)\n",
    "X_test = np.concatenate(X_test)\n",
    "y_test = np.concatenate(y_test)\n",
    "\n",
    "# Make predictions on the test set\n",
    "y_pred = model.predict(X_test)\n",
    "\n",
    "# Convert the one-hot encoded predictions to class labels\n",
    "y_pred_classes = np.argmax(y_pred, axis=1)\n",
    "\n",
    "# Convert the one-hot encoded true labels to class labels\n",
    "y_true_classes = np.argmax(y_test, axis=1)\n",
    "\n",
    "# Create a classification report\n",
    "report = classification_report(y_true_classes, y_pred_classes)\n",
    "\n",
    "print(report)"
   ]
  },
  {
   "cell_type": "code",
   "execution_count": 32,
   "id": "4188ff08",
   "metadata": {
    "execution": {
     "iopub.execute_input": "2024-12-27T05:57:44.698463Z",
     "iopub.status.busy": "2024-12-27T05:57:44.698187Z",
     "iopub.status.idle": "2024-12-27T05:57:44.950743Z",
     "shell.execute_reply": "2024-12-27T05:57:44.949872Z"
    },
    "id": "1oDQrOfqpz_i",
    "papermill": {
     "duration": 0.291215,
     "end_time": "2024-12-27T05:57:44.951991",
     "exception": false,
     "start_time": "2024-12-27T05:57:44.660776",
     "status": "completed"
    },
    "tags": []
   },
   "outputs": [
    {
     "data": {
      "image/png": "[encoded data removed]",
      "text/plain": [
       "<Figure size 800x600 with 2 Axes>"
      ]
     },
     "metadata": {},
     "output_type": "display_data"
    }
   ],
   "source": [
    "\n",
    "class_names = ['bengin', 'malignant', 'normal']\n",
    "# Create a confusion matrix\n",
    "cm = confusion_matrix(y_true_classes, y_pred_classes)\n",
    "\n",
    "# Plotting the Confusion Matrix\n",
    "plt.figure(figsize=(8, 6))\n",
    "sns.heatmap(cm, annot=True, fmt='d', cmap='Blues', xticklabels=class_names, yticklabels=class_names)\n",
    "plt.xlabel('Predicted')\n",
    "plt.ylabel('True')\n",
    "plt.title('Confusion Matrix')\n",
    "plt.show()\n"
   ]
  }
 ],
 "metadata": {
  "accelerator": "TPU",
  "colab": {
   "gpuType": "V28",
   "provenance": []
  },
  "kaggle": {
   "accelerator": "gpu",
   "dataSources": [
    {
     "datasetId": 6379787,
     "sourceId": 10306236,
     "sourceType": "datasetVersion"
    }
   ],
   "isGpuEnabled": true,
   "isInternetEnabled": true,
   "language": "python",
   "sourceType": "notebook"
  },
  "kernelspec": {
   "display_name": "Python 3",
   "name": "python3"
  },
  "language_info": {
   "codemirror_mode": {
    "name": "ipython",
    "version": 3
   },
   "file_extension": ".py",
   "mimetype": "text/x-python",
   "name": "python",
   "nbconvert_exporter": "python",
   "pygments_lexer": "ipython3",
   "version": "3.10.12"
  },
  "papermill": {
   "default_parameters": {},
   "duration": 782.119148,
   "end_time": "2024-12-27T05:57:46.812116",
   "environment_variables": {},
   "exception": null,
   "input_path": "__notebook__.ipynb",
   "output_path": "__notebook__.ipynb",
   "parameters": {},
   "start_time": "2024-12-27T05:44:44.692968",
   "version": "2.6.0"
  }
 },
 "nbformat": 4,
 "nbformat_minor": 5
}
