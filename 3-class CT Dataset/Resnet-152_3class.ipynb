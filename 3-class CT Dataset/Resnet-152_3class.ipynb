{
 "cells": [
  {
   "cell_type": "code",
   "execution_count": 1,
   "id": "aec14b9a",
   "metadata": {
    "execution": {
     "iopub.execute_input": "2025-01-01T09:02:55.231509Z",
     "iopub.status.busy": "2025-01-01T09:02:55.231211Z",
     "iopub.status.idle": "2025-01-01T09:04:17.996749Z",
     "shell.execute_reply": "2025-01-01T09:04:17.995794Z"
    },
    "papermill": {
     "duration": 82.775125,
     "end_time": "2025-01-01T09:04:17.998423",
     "exception": false,
     "start_time": "2025-01-01T09:02:55.223298",
     "status": "completed"
    },
    "tags": []
   },
   "outputs": [
    {
     "name": "stdout",
     "output_type": "stream",
     "text": [
      "Found existing installation: tensorflow 2.17.0\r\n",
      "Uninstalling tensorflow-2.17.0:\r\n",
      "  Successfully uninstalled tensorflow-2.17.0\r\n",
      "\u001b[33mWARNING: Skipping tensorflow-addons as it is not installed.\u001b[0m\u001b[33m\r\n",
      "\u001b[0mFound existing installation: keras 3.4.1\r\n",
      "Uninstalling keras-3.4.1:\r\n",
      "  Successfully uninstalled keras-3.4.1\r\n",
      "Collecting tensorflow==2.9.0\r\n",
      "  Downloading tensorflow-2.9.0-cp310-cp310-manylinux_2_17_x86_64.manylinux2014_x86_64.whl.metadata (3.0 kB)\r\n",
      "Collecting keras==2.9.0\r\n",
      "  Downloading keras-2.9.0-py2.py3-none-any.whl.metadata (1.3 kB)\r\n",
      "Collecting tensorflow-addons==0.18.0\r\n",
      "  Downloading tensorflow_addons-0.18.0-cp310-cp310-manylinux_2_17_x86_64.manylinux2014_x86_64.whl.metadata (1.8 kB)\r\n",
      "Requirement already satisfied: absl-py>=1.0.0 in /usr/local/lib/python3.10/dist-packages (from tensorflow==2.9.0) (1.4.0)\r\n",
      "Requirement already satisfied: astunparse>=1.6.0 in /usr/local/lib/python3.10/dist-packages (from tensorflow==2.9.0) (1.6.3)\r\n",
      "Collecting flatbuffers<2,>=1.12 (from tensorflow==2.9.0)\r\n",
      "  Downloading flatbuffers-1.12-py2.py3-none-any.whl.metadata (872 bytes)\r\n",
      "Collecting gast<=0.4.0,>=0.2.1 (from tensorflow==2.9.0)\r\n",
      "  Downloading gast-0.4.0-py3-none-any.whl.metadata (1.1 kB)\r\n",
      "Requirement already satisfied: google-pasta>=0.1.1 in /usr/local/lib/python3.10/dist-packages (from tensorflow==2.9.0) (0.2.0)\r\n",
      "Requirement already satisfied: grpcio<2.0,>=1.24.3 in /usr/local/lib/python3.10/dist-packages (from tensorflow==2.9.0) (1.64.1)\r\n",
      "Requirement already satisfied: h5py>=2.9.0 in /usr/local/lib/python3.10/dist-packages (from tensorflow==2.9.0) (3.11.0)\r\n",
      "Collecting keras-preprocessing>=1.1.1 (from tensorflow==2.9.0)\r\n",
      "  Downloading Keras_Preprocessing-1.1.2-py2.py3-none-any.whl.metadata (1.9 kB)\r\n",
      "Requirement already satisfied: libclang>=13.0.0 in /usr/local/lib/python3.10/dist-packages (from tensorflow==2.9.0) (18.1.1)\r\n",
      "Requirement already satisfied: numpy>=1.20 in /usr/local/lib/python3.10/dist-packages (from tensorflow==2.9.0) (1.26.4)\r\n",
      "Requirement already satisfied: opt-einsum>=2.3.2 in /usr/local/lib/python3.10/dist-packages (from tensorflow==2.9.0) (3.3.0)\r\n",
      "Requirement already satisfied: packaging in /usr/local/lib/python3.10/dist-packages (from tensorflow==2.9.0) (24.1)\r\n",
      "Requirement already satisfied: protobuf>=3.9.2 in /usr/local/lib/python3.10/dist-packages (from tensorflow==2.9.0) (3.20.3)\r\n",
      "Requirement already satisfied: setuptools in /usr/local/lib/python3.10/dist-packages (from tensorflow==2.9.0) (71.0.4)\r\n",
      "Requirement already satisfied: six>=1.12.0 in /usr/local/lib/python3.10/dist-packages (from tensorflow==2.9.0) (1.16.0)\r\n",
      "Collecting tensorboard<2.10,>=2.9 (from tensorflow==2.9.0)\r\n",
      "  Downloading tensorboard-2.9.1-py3-none-any.whl.metadata (1.9 kB)\r\n",
      "Requirement already satisfied: tensorflow-io-gcs-filesystem>=0.23.1 in /usr/local/lib/python3.10/dist-packages (from tensorflow==2.9.0) (0.37.1)\r\n",
      "Collecting tensorflow-estimator<2.10.0,>=2.9.0rc0 (from tensorflow==2.9.0)\r\n",
      "  Downloading tensorflow_estimator-2.9.0-py2.py3-none-any.whl.metadata (1.3 kB)\r\n",
      "Requirement already satisfied: termcolor>=1.1.0 in /usr/local/lib/python3.10/dist-packages (from tensorflow==2.9.0) (2.4.0)\r\n",
      "Requirement already satisfied: typing-extensions>=3.6.6 in /usr/local/lib/python3.10/dist-packages (from tensorflow==2.9.0) (4.12.2)\r\n",
      "Requirement already satisfied: wrapt>=1.11.0 in /usr/local/lib/python3.10/dist-packages (from tensorflow==2.9.0) (1.16.0)\r\n",
      "Requirement already satisfied: typeguard>=2.7 in /usr/local/lib/python3.10/dist-packages (from tensorflow-addons==0.18.0) (4.3.0)\r\n",
      "Requirement already satisfied: wheel<1.0,>=0.23.0 in /usr/local/lib/python3.10/dist-packages (from astunparse>=1.6.0->tensorflow==2.9.0) (0.44.0)\r\n",
      "Requirement already satisfied: google-auth<3,>=1.6.3 in /usr/local/lib/python3.10/dist-packages (from tensorboard<2.10,>=2.9->tensorflow==2.9.0) (2.27.0)\r\n",
      "Collecting google-auth-oauthlib<0.5,>=0.4.1 (from tensorboard<2.10,>=2.9->tensorflow==2.9.0)\r\n",
      "  Downloading google_auth_oauthlib-0.4.6-py2.py3-none-any.whl.metadata (2.7 kB)\r\n",
      "Requirement already satisfied: markdown>=2.6.8 in /usr/local/lib/python3.10/dist-packages (from tensorboard<2.10,>=2.9->tensorflow==2.9.0) (3.7)\r\n",
      "Collecting protobuf>=3.9.2 (from tensorflow==2.9.0)\r\n",
      "  Downloading protobuf-3.19.6-cp310-cp310-manylinux_2_17_x86_64.manylinux2014_x86_64.whl.metadata (787 bytes)\r\n",
      "Requirement already satisfied: requests<3,>=2.21.0 in /usr/local/lib/python3.10/dist-packages (from tensorboard<2.10,>=2.9->tensorflow==2.9.0) (2.32.3)\r\n",
      "Collecting tensorboard-data-server<0.7.0,>=0.6.0 (from tensorboard<2.10,>=2.9->tensorflow==2.9.0)\r\n",
      "  Downloading tensorboard_data_server-0.6.1-py3-none-manylinux2010_x86_64.whl.metadata (1.1 kB)\r\n",
      "Collecting tensorboard-plugin-wit>=1.6.0 (from tensorboard<2.10,>=2.9->tensorflow==2.9.0)\r\n",
      "  Downloading tensorboard_plugin_wit-1.8.1-py3-none-any.whl.metadata (873 bytes)\r\n",
      "Requirement already satisfied: werkzeug>=1.0.1 in /usr/local/lib/python3.10/dist-packages (from tensorboard<2.10,>=2.9->tensorflow==2.9.0) (3.0.4)\r\n",
      "Requirement already satisfied: cachetools<6.0,>=2.0.0 in /usr/local/lib/python3.10/dist-packages (from google-auth<3,>=1.6.3->tensorboard<2.10,>=2.9->tensorflow==2.9.0) (5.5.0)\r\n",
      "Requirement already satisfied: pyasn1-modules>=0.2.1 in /usr/local/lib/python3.10/dist-packages (from google-auth<3,>=1.6.3->tensorboard<2.10,>=2.9->tensorflow==2.9.0) (0.4.1)\r\n",
      "Requirement already satisfied: rsa<5,>=3.1.4 in /usr/local/lib/python3.10/dist-packages (from google-auth<3,>=1.6.3->tensorboard<2.10,>=2.9->tensorflow==2.9.0) (4.9)\r\n",
      "Requirement already satisfied: requests-oauthlib>=0.7.0 in /usr/local/lib/python3.10/dist-packages (from google-auth-oauthlib<0.5,>=0.4.1->tensorboard<2.10,>=2.9->tensorflow==2.9.0) (1.3.1)\r\n",
      "Requirement already satisfied: charset-normalizer<4,>=2 in /usr/local/lib/python3.10/dist-packages (from requests<3,>=2.21.0->tensorboard<2.10,>=2.9->tensorflow==2.9.0) (3.3.2)\r\n",
      "Requirement already satisfied: idna<4,>=2.5 in /usr/local/lib/python3.10/dist-packages (from requests<3,>=2.21.0->tensorboard<2.10,>=2.9->tensorflow==2.9.0) (3.10)\r\n",
      "Requirement already satisfied: urllib3<3,>=1.21.1 in /usr/local/lib/python3.10/dist-packages (from requests<3,>=2.21.0->tensorboard<2.10,>=2.9->tensorflow==2.9.0) (2.2.3)\r\n",
      "Requirement already satisfied: certifi>=2017.4.17 in /usr/local/lib/python3.10/dist-packages (from requests<3,>=2.21.0->tensorboard<2.10,>=2.9->tensorflow==2.9.0) (2024.8.30)\r\n",
      "Requirement already satisfied: MarkupSafe>=2.1.1 in /usr/local/lib/python3.10/dist-packages (from werkzeug>=1.0.1->tensorboard<2.10,>=2.9->tensorflow==2.9.0) (2.1.5)\r\n",
      "Requirement already satisfied: pyasn1<0.7.0,>=0.4.6 in /usr/local/lib/python3.10/dist-packages (from pyasn1-modules>=0.2.1->google-auth<3,>=1.6.3->tensorboard<2.10,>=2.9->tensorflow==2.9.0) (0.6.1)\r\n",
      "Requirement already satisfied: oauthlib>=3.0.0 in /usr/local/lib/python3.10/dist-packages (from requests-oauthlib>=0.7.0->google-auth-oauthlib<0.5,>=0.4.1->tensorboard<2.10,>=2.9->tensorflow==2.9.0) (3.2.2)\r\n",
      "Downloading tensorflow-2.9.0-cp310-cp310-manylinux_2_17_x86_64.manylinux2014_x86_64.whl (511.7 MB)\r\n",
      "\u001b[2K   \u001b[90m━━━━━━━━━━━━━━━━━━━━━━━━━━━━━━━━━━━━━━━━\u001b[0m \u001b[32m511.7/511.7 MB\u001b[0m \u001b[31m3.3 MB/s\u001b[0m eta \u001b[36m0:00:00\u001b[0m\r\n",
      "\u001b[?25hDownloading keras-2.9.0-py2.py3-none-any.whl (1.6 MB)\r\n",
      "\u001b[2K   \u001b[90m━━━━━━━━━━━━━━━━━━━━━━━━━━━━━━━━━━━━━━━━\u001b[0m \u001b[32m1.6/1.6 MB\u001b[0m \u001b[31m62.2 MB/s\u001b[0m eta \u001b[36m0:00:00\u001b[0m\r\n",
      "\u001b[?25hDownloading tensorflow_addons-0.18.0-cp310-cp310-manylinux_2_17_x86_64.manylinux2014_x86_64.whl (1.1 MB)\r\n",
      "\u001b[2K   \u001b[90m━━━━━━━━━━━━━━━━━━━━━━━━━━━━━━━━━━━━━━━━\u001b[0m \u001b[32m1.1/1.1 MB\u001b[0m \u001b[31m54.3 MB/s\u001b[0m eta \u001b[36m0:00:00\u001b[0m\r\n",
      "\u001b[?25hDownloading flatbuffers-1.12-py2.py3-none-any.whl (15 kB)\r\n",
      "Downloading gast-0.4.0-py3-none-any.whl (9.8 kB)\r\n",
      "Downloading Keras_Preprocessing-1.1.2-py2.py3-none-any.whl (42 kB)\r\n",
      "\u001b[2K   \u001b[90m━━━━━━━━━━━━━━━━━━━━━━━━━━━━━━━━━━━━━━━━\u001b[0m \u001b[32m42.6/42.6 kB\u001b[0m \u001b[31m2.7 MB/s\u001b[0m eta \u001b[36m0:00:00\u001b[0m\r\n",
      "\u001b[?25hDownloading tensorboard-2.9.1-py3-none-any.whl (5.8 MB)\r\n",
      "\u001b[2K   \u001b[90m━━━━━━━━━━━━━━━━━━━━━━━━━━━━━━━━━━━━━━━━\u001b[0m \u001b[32m5.8/5.8 MB\u001b[0m \u001b[31m106.7 MB/s\u001b[0m eta \u001b[36m0:00:00\u001b[0m\r\n",
      "\u001b[?25hDownloading protobuf-3.19.6-cp310-cp310-manylinux_2_17_x86_64.manylinux2014_x86_64.whl (1.1 MB)\r\n",
      "\u001b[2K   \u001b[90m━━━━━━━━━━━━━━━━━━━━━━━━━━━━━━━━━━━━━━━━\u001b[0m \u001b[32m1.1/1.1 MB\u001b[0m \u001b[31m56.9 MB/s\u001b[0m eta \u001b[36m0:00:00\u001b[0m\r\n",
      "\u001b[?25hDownloading tensorflow_estimator-2.9.0-py2.py3-none-any.whl (438 kB)\r\n",
      "\u001b[2K   \u001b[90m━━━━━━━━━━━━━━━━━━━━━━━━━━━━━━━━━━━━━━━━\u001b[0m \u001b[32m438.7/438.7 kB\u001b[0m \u001b[31m28.5 MB/s\u001b[0m eta \u001b[36m0:00:00\u001b[0m\r\n",
      "\u001b[?25hDownloading google_auth_oauthlib-0.4.6-py2.py3-none-any.whl (18 kB)\r\n",
      "Downloading tensorboard_data_server-0.6.1-py3-none-manylinux2010_x86_64.whl (4.9 MB)\r\n",
      "\u001b[2K   \u001b[90m━━━━━━━━━━━━━━━━━━━━━━━━━━━━━━━━━━━━━━━━\u001b[0m \u001b[32m4.9/4.9 MB\u001b[0m \u001b[31m81.6 MB/s\u001b[0m eta \u001b[36m0:00:00\u001b[0m\r\n",
      "\u001b[?25hDownloading tensorboard_plugin_wit-1.8.1-py3-none-any.whl (781 kB)\r\n",
      "\u001b[2K   \u001b[90m━━━━━━━━━━━━━━━━━━━━━━━━━━━━━━━━━━━━━━━━\u001b[0m \u001b[32m781.3/781.3 kB\u001b[0m \u001b[31m48.3 MB/s\u001b[0m eta \u001b[36m0:00:00\u001b[0m\r\n",
      "\u001b[?25hInstalling collected packages: tensorboard-plugin-wit, keras, flatbuffers, tensorflow-estimator, tensorboard-data-server, protobuf, keras-preprocessing, gast, tensorflow-addons, google-auth-oauthlib, tensorboard, tensorflow\r\n",
      "  Attempting uninstall: flatbuffers\r\n",
      "    Found existing installation: flatbuffers 24.3.25\r\n",
      "    Uninstalling flatbuffers-24.3.25:\r\n",
      "      Successfully uninstalled flatbuffers-24.3.25\r\n",
      "  Attempting uninstall: tensorboard-data-server\r\n",
      "    Found existing installation: tensorboard-data-server 0.7.2\r\n",
      "    Uninstalling tensorboard-data-server-0.7.2:\r\n",
      "      Successfully uninstalled tensorboard-data-server-0.7.2\r\n",
      "  Attempting uninstall: protobuf\r\n",
      "    Found existing installation: protobuf 3.20.3\r\n",
      "    Uninstalling protobuf-3.20.3:\r\n",
      "      Successfully uninstalled protobuf-3.20.3\r\n",
      "  Attempting uninstall: gast\r\n",
      "    Found existing installation: gast 0.6.0\r\n",
      "    Uninstalling gast-0.6.0:\r\n",
      "      Successfully uninstalled gast-0.6.0\r\n",
      "  Attempting uninstall: google-auth-oauthlib\r\n",
      "    Found existing installation: google-auth-oauthlib 1.2.1\r\n",
      "    Uninstalling google-auth-oauthlib-1.2.1:\r\n",
      "      Successfully uninstalled google-auth-oauthlib-1.2.1\r\n",
      "  Attempting uninstall: tensorboard\r\n",
      "    Found existing installation: tensorboard 2.17.0\r\n",
      "    Uninstalling tensorboard-2.17.0:\r\n",
      "      Successfully uninstalled tensorboard-2.17.0\r\n",
      "\u001b[31mERROR: pip's dependency resolver does not currently take into account all the packages that are installed. This behaviour is the source of the following dependency conflicts.\r\n",
      "cudf-cu12 24.4.1 requires protobuf<5,>=3.20, but you have protobuf 3.19.6 which is incompatible.\r\n",
      "cudf-cu12 24.4.1 requires pyarrow<15.0.0a0,>=14.0.1, but you have pyarrow 18.1.0 which is incompatible.\r\n",
      "google-cloud-aiplatform 1.67.1 requires protobuf!=4.21.0,!=4.21.1,!=4.21.2,!=4.21.3,!=4.21.4,!=4.21.5,<6.0.0dev,>=3.20.2, but you have protobuf 3.19.6 which is incompatible.\r\n",
      "google-cloud-bigquery-connection 1.15.5 requires protobuf!=4.21.0,!=4.21.1,!=4.21.2,!=4.21.3,!=4.21.4,!=4.21.5,<6.0.0dev,>=3.20.2, but you have protobuf 3.19.6 which is incompatible.\r\n",
      "google-cloud-bigtable 2.26.0 requires google-api-core[grpc]<3.0.0dev,>=2.16.0, but you have google-api-core 1.34.1 which is incompatible.\r\n",
      "google-cloud-bigtable 2.26.0 requires protobuf!=4.21.0,!=4.21.1,!=4.21.2,!=4.21.3,!=4.21.4,!=4.21.5,<6.0.0dev,>=3.20.2, but you have protobuf 3.19.6 which is incompatible.\r\n",
      "google-cloud-functions 1.16.5 requires protobuf!=4.21.0,!=4.21.1,!=4.21.2,!=4.21.3,!=4.21.4,!=4.21.5,<6.0.0dev,>=3.20.2, but you have protobuf 3.19.6 which is incompatible.\r\n",
      "google-cloud-iam 2.15.2 requires protobuf!=4.21.0,!=4.21.1,!=4.21.2,!=4.21.3,!=4.21.4,!=4.21.5,<6.0.0dev,>=3.20.2, but you have protobuf 3.19.6 which is incompatible.\r\n",
      "google-cloud-language 2.13.4 requires protobuf!=4.21.0,!=4.21.1,!=4.21.2,!=4.21.3,!=4.21.4,!=4.21.5,<6.0.0dev,>=3.20.2, but you have protobuf 3.19.6 which is incompatible.\r\n",
      "google-cloud-pubsub 2.23.1 requires protobuf!=4.21.0,!=4.21.1,!=4.21.2,!=4.21.3,!=4.21.4,!=4.21.5,<6.0.0dev,>=3.20.2, but you have protobuf 3.19.6 which is incompatible.\r\n",
      "google-cloud-resource-manager 1.12.5 requires protobuf!=4.21.0,!=4.21.1,!=4.21.2,!=4.21.3,!=4.21.4,!=4.21.5,<6.0.0dev,>=3.20.2, but you have protobuf 3.19.6 which is incompatible.\r\n",
      "google-cloud-videointelligence 2.15.0 requires protobuf!=4.21.0,!=4.21.1,!=4.21.2,!=4.21.3,!=4.21.4,!=4.21.5,<6.0.0dev,>=3.20.2, but you have protobuf 3.19.6 which is incompatible.\r\n",
      "google-cloud-vision 3.9.0 requires protobuf!=4.21.0,!=4.21.1,!=4.21.2,!=4.21.3,!=4.21.4,!=4.21.5,<6.0.0dev,>=3.20.2, but you have protobuf 3.19.6 which is incompatible.\r\n",
      "googleapis-common-protos 1.65.0 requires protobuf!=3.20.0,!=3.20.1,!=4.21.1,!=4.21.2,!=4.21.3,!=4.21.4,!=4.21.5,<6.0.0.dev0,>=3.20.2, but you have protobuf 3.19.6 which is incompatible.\r\n",
      "grpc-google-iam-v1 0.13.1 requires protobuf!=4.21.1,!=4.21.2,!=4.21.3,!=4.21.4,!=4.21.5,<6.0.0dev,>=3.20.2, but you have protobuf 3.19.6 which is incompatible.\r\n",
      "onnx 1.17.0 requires protobuf>=3.20.2, but you have protobuf 3.19.6 which is incompatible.\r\n",
      "pandas-gbq 0.23.1 requires google-api-core<3.0.0dev,>=2.10.2, but you have google-api-core 1.34.1 which is incompatible.\r\n",
      "pandas-gbq 0.23.1 requires google-auth-oauthlib>=0.7.0, but you have google-auth-oauthlib 0.4.6 which is incompatible.\r\n",
      "tensorflow-datasets 4.9.6 requires protobuf>=3.20, but you have protobuf 3.19.6 which is incompatible.\r\n",
      "tensorflow-decision-forests 1.10.0 requires tensorflow==2.17.0, but you have tensorflow 2.9.0 which is incompatible.\r\n",
      "tensorflow-metadata 1.15.0 requires protobuf<4.21,>=3.20.3; python_version < \"3.11\", but you have protobuf 3.19.6 which is incompatible.\r\n",
      "tensorflow-text 2.17.0 requires tensorflow<2.18,>=2.17.0, but you have tensorflow 2.9.0 which is incompatible.\r\n",
      "tf-keras 2.17.0 requires tensorflow<2.18,>=2.17, but you have tensorflow 2.9.0 which is incompatible.\u001b[0m\u001b[31m\r\n",
      "\u001b[0mSuccessfully installed flatbuffers-1.12 gast-0.4.0 google-auth-oauthlib-0.4.6 keras-2.9.0 keras-preprocessing-1.1.2 protobuf-3.19.6 tensorboard-2.9.1 tensorboard-data-server-0.6.1 tensorboard-plugin-wit-1.8.1 tensorflow-2.9.0 tensorflow-addons-0.18.0 tensorflow-estimator-2.9.0\r\n"
     ]
    }
   ],
   "source": [
    "!pip uninstall tensorflow tensorflow-addons keras -y\n",
    "!pip install tensorflow==2.9.0 keras==2.9.0 tensorflow-addons==0.18.0"
   ]
  },
  {
   "cell_type": "code",
   "execution_count": 2,
   "id": "b1d9c555",
   "metadata": {
    "execution": {
     "iopub.execute_input": "2025-01-01T09:04:18.050826Z",
     "iopub.status.busy": "2025-01-01T09:04:18.050490Z",
     "iopub.status.idle": "2025-01-01T09:04:18.054109Z",
     "shell.execute_reply": "2025-01-01T09:04:18.053445Z"
    },
    "id": "GitBDng_36xV",
    "papermill": {
     "duration": 0.031122,
     "end_time": "2025-01-01T09:04:18.055302",
     "exception": false,
     "start_time": "2025-01-01T09:04:18.024180",
     "status": "completed"
    },
    "tags": []
   },
   "outputs": [],
   "source": [
    "import zipfile"
   ]
  },
  {
   "cell_type": "code",
   "execution_count": 3,
   "id": "38b3d802",
   "metadata": {
    "execution": {
     "iopub.execute_input": "2025-01-01T09:04:18.105586Z",
     "iopub.status.busy": "2025-01-01T09:04:18.105337Z",
     "iopub.status.idle": "2025-01-01T09:04:24.411309Z",
     "shell.execute_reply": "2025-01-01T09:04:24.410625Z"
    },
    "id": "z3FHA2tYbNfx",
    "papermill": {
     "duration": 6.333306,
     "end_time": "2025-01-01T09:04:24.413053",
     "exception": false,
     "start_time": "2025-01-01T09:04:18.079747",
     "status": "completed"
    },
    "tags": []
   },
   "outputs": [],
   "source": [
    "import zipfile\n",
    "import os\n",
    "import random\n",
    "import shutil\n",
    "import numpy as np\n",
    "import pandas as pd\n",
    "import matplotlib.pyplot as plt\n",
    "import seaborn as sns\n",
    "import skimage.io\n",
    "import keras.backend as K\n",
    "import tensorflow as tf\n",
    "import tensorflow_addons as tfa\n",
    "from tensorflow.keras.models import Sequential, Model\n",
    "from tensorflow.keras.applications import(ResNet152)\n",
    "from tensorflow.keras.layers import (Conv2D, MaxPooling2D, Flatten, Dense, Dropout,BatchNormalization, Activation, GlobalAveragePooling2D,DepthwiseConv2D, Input, Add, Concatenate)\n",
    "from tensorflow.keras.optimizers import Adam\n",
    "from tensorflow.keras.losses import CategoricalCrossentropy\n",
    "from tensorflow.keras.preprocessing.image import ImageDataGenerator\n",
    "from tensorflow.keras.callbacks import ReduceLROnPlateau, ModelCheckpoint, EarlyStopping, LearningRateScheduler\n",
    "from sklearn.metrics import confusion_matrix, classification_report, accuracy_score\n",
    "from sklearn.model_selection import train_test_split\n",
    "from tensorflow.keras.utils import plot_model\n",
    "from IPython.display import Image"
   ]
  },
  {
   "cell_type": "code",
   "execution_count": 4,
   "id": "89837c67",
   "metadata": {
    "execution": {
     "iopub.execute_input": "2025-01-01T09:04:24.471419Z",
     "iopub.status.busy": "2025-01-01T09:04:24.470932Z",
     "iopub.status.idle": "2025-01-01T09:04:24.474338Z",
     "shell.execute_reply": "2025-01-01T09:04:24.473729Z"
    },
    "id": "PvNXi8K2K1HO",
    "outputId": "0c010c6f-f28d-4e73-c264-2907fcf418ad",
    "papermill": {
     "duration": 0.036137,
     "end_time": "2025-01-01T09:04:24.475603",
     "exception": false,
     "start_time": "2025-01-01T09:04:24.439466",
     "status": "completed"
    },
    "tags": []
   },
   "outputs": [],
   "source": [
    "main_dir = \"/kaggle/input/ctscan/The IQ-OTHNCCD lung cancer dataset/The IQ-OTHNCCD lung cancer dataset\""
   ]
  },
  {
   "cell_type": "markdown",
   "id": "7adba36f",
   "metadata": {
    "id": "PO_UpS4vaBi8",
    "papermill": {
     "duration": 0.024039,
     "end_time": "2025-01-01T09:04:24.525166",
     "exception": false,
     "start_time": "2025-01-01T09:04:24.501127",
     "status": "completed"
    },
    "tags": []
   },
   "source": [
    "Try 3"
   ]
  },
  {
   "cell_type": "code",
   "execution_count": 5,
   "id": "fe52db94",
   "metadata": {
    "execution": {
     "iopub.execute_input": "2025-01-01T09:04:24.575734Z",
     "iopub.status.busy": "2025-01-01T09:04:24.575466Z",
     "iopub.status.idle": "2025-01-01T09:04:24.578338Z",
     "shell.execute_reply": "2025-01-01T09:04:24.577714Z"
    },
    "id": "QyN8qV0huMwD",
    "papermill": {
     "duration": 0.029438,
     "end_time": "2025-01-01T09:04:24.579496",
     "exception": false,
     "start_time": "2025-01-01T09:04:24.550058",
     "status": "completed"
    },
    "tags": []
   },
   "outputs": [],
   "source": [
    "# zip_path = \"/content/drive/MyDrive/train.zip\"  # Path to the ZIP file\n",
    "# extracted_path = \"/content/chest_ctscan_images\"  # Path to extract the files\n",
    "# with zipfile.ZipFile(zip_path, 'r') as zip_ref:\n",
    "#     zip_ref.extractall(extracted_path)"
   ]
  },
  {
   "cell_type": "code",
   "execution_count": 6,
   "id": "ea2f3c56",
   "metadata": {
    "execution": {
     "iopub.execute_input": "2025-01-01T09:04:24.629213Z",
     "iopub.status.busy": "2025-01-01T09:04:24.629010Z",
     "iopub.status.idle": "2025-01-01T09:04:24.631943Z",
     "shell.execute_reply": "2025-01-01T09:04:24.631328Z"
    },
    "id": "TwEwT2nCuPYv",
    "papermill": {
     "duration": 0.028785,
     "end_time": "2025-01-01T09:04:24.633060",
     "exception": false,
     "start_time": "2025-01-01T09:04:24.604275",
     "status": "completed"
    },
    "tags": []
   },
   "outputs": [],
   "source": [
    "train_dir = \"/kaggle/working/ct-scan/train\"\n",
    "valid_dir = \"/kaggle/working/ct-scan/valid\"\n",
    "test_dir = \"/kaggle/working/ct-scan/test\""
   ]
  },
  {
   "cell_type": "code",
   "execution_count": 7,
   "id": "36ab4504",
   "metadata": {
    "execution": {
     "iopub.execute_input": "2025-01-01T09:04:24.689512Z",
     "iopub.status.busy": "2025-01-01T09:04:24.689293Z",
     "iopub.status.idle": "2025-01-01T09:04:38.871311Z",
     "shell.execute_reply": "2025-01-01T09:04:38.870309Z"
    },
    "id": "cUjh_ksquT_w",
    "papermill": {
     "duration": 14.208969,
     "end_time": "2025-01-01T09:04:38.872930",
     "exception": false,
     "start_time": "2025-01-01T09:04:24.663961",
     "status": "completed"
    },
    "tags": []
   },
   "outputs": [],
   "source": [
    "def split_data(source_dir, train_dir, valid_dir, test_dir, train_ratio=0.7, valid_ratio=0.2, test_ratio=0.1):\n",
    "\n",
    "    for class_name in os.listdir(source_dir):\n",
    "        class_source_path = os.path.join(source_dir, class_name)\n",
    "        class_train_path = os.path.join(train_dir, class_name)\n",
    "        class_valid_path = os.path.join(valid_dir, class_name)\n",
    "        class_test_path = os.path.join(test_dir, class_name)\n",
    "\n",
    "        # Create subdirectories for each class if they don't exist\n",
    "        os.makedirs(class_train_path, exist_ok=True)\n",
    "        os.makedirs(class_valid_path, exist_ok=True)\n",
    "        os.makedirs(class_test_path, exist_ok=True)\n",
    "\n",
    "        all_files = os.listdir(class_source_path)\n",
    "        random.shuffle(all_files)  # Shuffle the files randomly\n",
    "\n",
    "        # Calculate split indices\n",
    "        train_end = int(len(all_files) * train_ratio)\n",
    "        valid_end = train_end + int(len(all_files) * valid_ratio)\n",
    "\n",
    "        # Split the files\n",
    "        train_files = all_files[:train_end]\n",
    "        valid_files = all_files[train_end:valid_end]\n",
    "        test_files = all_files[valid_end:]\n",
    "\n",
    "        # Move files to respective directories\n",
    "        for file in train_files:\n",
    "            shutil.copy(os.path.join(class_source_path, file), os.path.join(class_train_path, file))\n",
    "        for file in valid_files:\n",
    "            shutil.copy(os.path.join(class_source_path, file), os.path.join(class_valid_path, file))\n",
    "        for file in test_files:\n",
    "            shutil.copy(os.path.join(class_source_path, file), os.path.join(class_test_path, file))\n",
    "\n",
    "\n",
    "# Call the function to split the data\n",
    "split_data(main_dir, train_dir, valid_dir, test_dir)\n"
   ]
  },
  {
   "cell_type": "code",
   "execution_count": 8,
   "id": "2ed2b535",
   "metadata": {
    "execution": {
     "iopub.execute_input": "2025-01-01T09:04:38.923549Z",
     "iopub.status.busy": "2025-01-01T09:04:38.923175Z",
     "iopub.status.idle": "2025-01-01T09:04:38.926588Z",
     "shell.execute_reply": "2025-01-01T09:04:38.925919Z"
    },
    "id": "OBHrYqxLuU5C",
    "papermill": {
     "duration": 0.029645,
     "end_time": "2025-01-01T09:04:38.927715",
     "exception": false,
     "start_time": "2025-01-01T09:04:38.898070",
     "status": "completed"
    },
    "tags": []
   },
   "outputs": [],
   "source": [
    "train_datagen = ImageDataGenerator(\n",
    "    # rescale=1.0/255,\n",
    "    # rotation_range=20,\n",
    "    # width_shift_range=0.2,\n",
    "    # height_shift_range=0.2,\n",
    "    # shear_range=0.2,\n",
    "    # zoom_range=0.2,\n",
    "    # horizontal_flip=True\n",
    ")"
   ]
  },
  {
   "cell_type": "code",
   "execution_count": 9,
   "id": "0e1aa0c6",
   "metadata": {
    "execution": {
     "iopub.execute_input": "2025-01-01T09:04:38.977375Z",
     "iopub.status.busy": "2025-01-01T09:04:38.977131Z",
     "iopub.status.idle": "2025-01-01T09:04:38.980229Z",
     "shell.execute_reply": "2025-01-01T09:04:38.979598Z"
    },
    "id": "5OZi-BPsuYkQ",
    "papermill": {
     "duration": 0.02912,
     "end_time": "2025-01-01T09:04:38.981372",
     "exception": false,
     "start_time": "2025-01-01T09:04:38.952252",
     "status": "completed"
    },
    "tags": []
   },
   "outputs": [],
   "source": [
    "valid_datagen = ImageDataGenerator()\n",
    "test_datagen = ImageDataGenerator()"
   ]
  },
  {
   "cell_type": "code",
   "execution_count": 10,
   "id": "9b578d8f",
   "metadata": {
    "execution": {
     "iopub.execute_input": "2025-01-01T09:04:39.030771Z",
     "iopub.status.busy": "2025-01-01T09:04:39.030502Z",
     "iopub.status.idle": "2025-01-01T09:04:39.049151Z",
     "shell.execute_reply": "2025-01-01T09:04:39.048421Z"
    },
    "id": "s58bw8FiuczT",
    "outputId": "0b4e8e12-df6e-4d75-c8a1-b43e8af4c3b9",
    "papermill": {
     "duration": 0.044608,
     "end_time": "2025-01-01T09:04:39.050389",
     "exception": false,
     "start_time": "2025-01-01T09:04:39.005781",
     "status": "completed"
    },
    "tags": []
   },
   "outputs": [
    {
     "name": "stdout",
     "output_type": "stream",
     "text": [
      "Found 767 images belonging to 3 classes.\n"
     ]
    }
   ],
   "source": [
    "train_generator = train_datagen.flow_from_directory(\n",
    "    train_dir,\n",
    "    target_size=(224,224),\n",
    "    batch_size=16,\n",
    "    class_mode='categorical'\n",
    ")"
   ]
  },
  {
   "cell_type": "code",
   "execution_count": 11,
   "id": "3f22d775",
   "metadata": {
    "execution": {
     "iopub.execute_input": "2025-01-01T09:04:39.100022Z",
     "iopub.status.busy": "2025-01-01T09:04:39.099753Z",
     "iopub.status.idle": "2025-01-01T09:04:39.110396Z",
     "shell.execute_reply": "2025-01-01T09:04:39.109632Z"
    },
    "id": "_VAT1nn6ufRV",
    "outputId": "e8f77135-dfc8-4fd3-889d-4b39744ae2bc",
    "papermill": {
     "duration": 0.036983,
     "end_time": "2025-01-01T09:04:39.111694",
     "exception": false,
     "start_time": "2025-01-01T09:04:39.074711",
     "status": "completed"
    },
    "tags": []
   },
   "outputs": [
    {
     "name": "stdout",
     "output_type": "stream",
     "text": [
      "Found 219 images belonging to 3 classes.\n"
     ]
    }
   ],
   "source": [
    "validation_generator = valid_datagen.flow_from_directory(\n",
    "    valid_dir,\n",
    "    target_size=(224,224),\n",
    "    batch_size=16,\n",
    "    class_mode='categorical'\n",
    ")"
   ]
  },
  {
   "cell_type": "code",
   "execution_count": 12,
   "id": "f928ad06",
   "metadata": {
    "execution": {
     "iopub.execute_input": "2025-01-01T09:04:39.162253Z",
     "iopub.status.busy": "2025-01-01T09:04:39.161994Z",
     "iopub.status.idle": "2025-01-01T09:04:39.171330Z",
     "shell.execute_reply": "2025-01-01T09:04:39.170434Z"
    },
    "id": "79higThAuhq_",
    "outputId": "afdce9f4-bff7-4890-9b32-95d0622b21b9",
    "papermill": {
     "duration": 0.036243,
     "end_time": "2025-01-01T09:04:39.172655",
     "exception": false,
     "start_time": "2025-01-01T09:04:39.136412",
     "status": "completed"
    },
    "tags": []
   },
   "outputs": [
    {
     "name": "stdout",
     "output_type": "stream",
     "text": [
      "Found 111 images belonging to 3 classes.\n"
     ]
    }
   ],
   "source": [
    "test_generator = test_datagen.flow_from_directory(\n",
    "    test_dir,\n",
    "    target_size=(224,224),\n",
    "    batch_size=16,\n",
    "    class_mode='categorical'\n",
    ")"
   ]
  },
  {
   "cell_type": "code",
   "execution_count": 13,
   "id": "f15398f5",
   "metadata": {
    "execution": {
     "iopub.execute_input": "2025-01-01T09:04:39.222980Z",
     "iopub.status.busy": "2025-01-01T09:04:39.222708Z",
     "iopub.status.idle": "2025-01-01T09:04:39.226125Z",
     "shell.execute_reply": "2025-01-01T09:04:39.225503Z"
    },
    "id": "wJy_CEHicRgM",
    "papermill": {
     "duration": 0.029895,
     "end_time": "2025-01-01T09:04:39.227319",
     "exception": false,
     "start_time": "2025-01-01T09:04:39.197424",
     "status": "completed"
    },
    "tags": []
   },
   "outputs": [],
   "source": [
    "os.makedirs(test_dir, exist_ok=True)\n"
   ]
  },
  {
   "cell_type": "code",
   "execution_count": 14,
   "id": "38f1723a",
   "metadata": {
    "execution": {
     "iopub.execute_input": "2025-01-01T09:04:39.278891Z",
     "iopub.status.busy": "2025-01-01T09:04:39.278625Z",
     "iopub.status.idle": "2025-01-01T09:04:39.283096Z",
     "shell.execute_reply": "2025-01-01T09:04:39.282429Z"
    },
    "id": "d4p9qKimcXnV",
    "outputId": "97916518-cf80-4ced-a4c2-aa3a587752ad",
    "papermill": {
     "duration": 0.030645,
     "end_time": "2025-01-01T09:04:39.284284",
     "exception": false,
     "start_time": "2025-01-01T09:04:39.253639",
     "status": "completed"
    },
    "tags": []
   },
   "outputs": [
    {
     "name": "stdout",
     "output_type": "stream",
     "text": [
      "Number of files in test directory: 3\n"
     ]
    }
   ],
   "source": [
    "# Example to list files in the test directory\n",
    "test_files = os.listdir(test_dir)\n",
    "print(\"Number of files in test directory:\", len(test_files))"
   ]
  },
  {
   "cell_type": "code",
   "execution_count": 15,
   "id": "ab2840a1",
   "metadata": {
    "execution": {
     "iopub.execute_input": "2025-01-01T09:04:39.334482Z",
     "iopub.status.busy": "2025-01-01T09:04:39.334270Z",
     "iopub.status.idle": "2025-01-01T09:04:39.338104Z",
     "shell.execute_reply": "2025-01-01T09:04:39.337204Z"
    },
    "id": "gL6e9ixdcBKR",
    "outputId": "ed7f17d2-5f2d-484b-cfa9-996b9c5048d4",
    "papermill": {
     "duration": 0.030078,
     "end_time": "2025-01-01T09:04:39.339306",
     "exception": false,
     "start_time": "2025-01-01T09:04:39.309228",
     "status": "completed"
    },
    "tags": []
   },
   "outputs": [
    {
     "name": "stdout",
     "output_type": "stream",
     "text": [
      "Test directory: /kaggle/working/ct-scan/test\n"
     ]
    }
   ],
   "source": [
    "print(\"Test directory:\", test_dir)\n"
   ]
  },
  {
   "cell_type": "code",
   "execution_count": 16,
   "id": "952dcf01",
   "metadata": {
    "execution": {
     "iopub.execute_input": "2025-01-01T09:04:39.389521Z",
     "iopub.status.busy": "2025-01-01T09:04:39.389257Z",
     "iopub.status.idle": "2025-01-01T09:04:39.393927Z",
     "shell.execute_reply": "2025-01-01T09:04:39.393304Z"
    },
    "id": "JVXysXnmD-9z",
    "papermill": {
     "duration": 0.031018,
     "end_time": "2025-01-01T09:04:39.395088",
     "exception": false,
     "start_time": "2025-01-01T09:04:39.364070",
     "status": "completed"
    },
    "tags": []
   },
   "outputs": [],
   "source": [
    "def f1_score(y_true, y_pred):\n",
    "    true_positives = K.sum(K.round(K.clip(y_true * y_pred, 0, 1)))\n",
    "    possible_positives = K.sum(K.round(K.clip(y_true, 0, 1)))\n",
    "    predicted_positives = K.sum(K.round(K.clip(y_pred, 0, 1)))\n",
    "    precision = true_positives / (predicted_positives + K.epsilon())\n",
    "    recall = true_positives / (possible_positives + K.epsilon())\n",
    "    f1_val = 2 * (precision * recall) / (precision + recall + K.epsilon())\n",
    "    return f1_val"
   ]
  },
  {
   "cell_type": "code",
   "execution_count": 17,
   "id": "3aeb4d3c",
   "metadata": {
    "execution": {
     "iopub.execute_input": "2025-01-01T09:04:39.446206Z",
     "iopub.status.busy": "2025-01-01T09:04:39.445987Z",
     "iopub.status.idle": "2025-01-01T09:04:39.873291Z",
     "shell.execute_reply": "2025-01-01T09:04:39.872598Z"
    },
    "id": "aJPN14HlEZe-",
    "papermill": {
     "duration": 0.454436,
     "end_time": "2025-01-01T09:04:39.874875",
     "exception": false,
     "start_time": "2025-01-01T09:04:39.420439",
     "status": "completed"
    },
    "tags": []
   },
   "outputs": [],
   "source": [
    "METRICS = [\n",
    "    tf.keras.metrics.CategoricalAccuracy(name='accuracy'),\n",
    "    tf.keras.metrics.Precision(name='precision'),\n",
    "    tf.keras.metrics.Recall(name='recall'),\n",
    "    tf.keras.metrics.AUC(name='auc'),\n",
    "    tfa.metrics.F1Score(num_classes=3, average=\"micro\", name='f1_score')\n",
    "]"
   ]
  },
  {
   "cell_type": "code",
   "execution_count": 18,
   "id": "5af98cc9",
   "metadata": {
    "execution": {
     "iopub.execute_input": "2025-01-01T09:04:39.939040Z",
     "iopub.status.busy": "2025-01-01T09:04:39.938725Z",
     "iopub.status.idle": "2025-01-01T09:04:55.117818Z",
     "shell.execute_reply": "2025-01-01T09:04:55.117096Z"
    },
    "id": "3pu77guMwmjn",
    "outputId": "b20c3b68-b8f7-4d74-89ec-61bf0d8c7850",
    "papermill": {
     "duration": 15.218057,
     "end_time": "2025-01-01T09:04:55.119367",
     "exception": false,
     "start_time": "2025-01-01T09:04:39.901310",
     "status": "completed"
    },
    "tags": []
   },
   "outputs": [
    {
     "name": "stdout",
     "output_type": "stream",
     "text": [
      "Downloading data from https://storage.googleapis.com/tensorflow/keras-applications/resnet/resnet152_weights_tf_dim_ordering_tf_kernels_notop.h5\n",
      "234698864/234698864 [==============================] - 10s 0us/step\n"
     ]
    }
   ],
   "source": [
    "base_model = tf.keras.applications.ResNet152(input_shape=(224,224,3),include_top=False,weights=\"imagenet\")"
   ]
  },
  {
   "cell_type": "code",
   "execution_count": 19,
   "id": "c91f7785",
   "metadata": {
    "execution": {
     "iopub.execute_input": "2025-01-01T09:04:55.187330Z",
     "iopub.status.busy": "2025-01-01T09:04:55.187002Z",
     "iopub.status.idle": "2025-01-01T09:04:55.190815Z",
     "shell.execute_reply": "2025-01-01T09:04:55.190106Z"
    },
    "id": "aSsNkIQCwpXA",
    "papermill": {
     "duration": 0.040527,
     "end_time": "2025-01-01T09:04:55.192001",
     "exception": false,
     "start_time": "2025-01-01T09:04:55.151474",
     "status": "completed"
    },
    "tags": []
   },
   "outputs": [],
   "source": [
    "total_layers = len(base_model.layers)"
   ]
  },
  {
   "cell_type": "code",
   "execution_count": 20,
   "id": "0fb7ee4b",
   "metadata": {
    "execution": {
     "iopub.execute_input": "2025-01-01T09:04:55.254466Z",
     "iopub.status.busy": "2025-01-01T09:04:55.254157Z",
     "iopub.status.idle": "2025-01-01T09:04:55.257636Z",
     "shell.execute_reply": "2025-01-01T09:04:55.256959Z"
    },
    "id": "Ff-9hCJ3wts6",
    "papermill": {
     "duration": 0.035707,
     "end_time": "2025-01-01T09:04:55.258806",
     "exception": false,
     "start_time": "2025-01-01T09:04:55.223099",
     "status": "completed"
    },
    "tags": []
   },
   "outputs": [],
   "source": [
    "num_layers_to_freeze = 0"
   ]
  },
  {
   "cell_type": "code",
   "execution_count": 21,
   "id": "d349ca1b",
   "metadata": {
    "execution": {
     "iopub.execute_input": "2025-01-01T09:04:55.322144Z",
     "iopub.status.busy": "2025-01-01T09:04:55.321907Z",
     "iopub.status.idle": "2025-01-01T09:04:55.325885Z",
     "shell.execute_reply": "2025-01-01T09:04:55.325048Z"
    },
    "id": "sKFHPjmTwu3K",
    "papermill": {
     "duration": 0.036543,
     "end_time": "2025-01-01T09:04:55.327136",
     "exception": false,
     "start_time": "2025-01-01T09:04:55.290593",
     "status": "completed"
    },
    "tags": []
   },
   "outputs": [],
   "source": [
    "for layer in base_model.layers[:num_layers_to_freeze]:\n",
    "    layer.trainable = True"
   ]
  },
  {
   "cell_type": "code",
   "execution_count": 22,
   "id": "3b174242",
   "metadata": {
    "execution": {
     "iopub.execute_input": "2025-01-01T09:04:55.388958Z",
     "iopub.status.busy": "2025-01-01T09:04:55.388649Z",
     "iopub.status.idle": "2025-01-01T09:04:55.448550Z",
     "shell.execute_reply": "2025-01-01T09:04:55.447710Z"
    },
    "id": "h7_3xPFowxTo",
    "outputId": "ed02b10f-90eb-43de-ffee-e5f24321b980",
    "papermill": {
     "duration": 0.09301,
     "end_time": "2025-01-01T09:04:55.450400",
     "exception": false,
     "start_time": "2025-01-01T09:04:55.357390",
     "status": "completed"
    },
    "tags": []
   },
   "outputs": [
    {
     "name": "stdout",
     "output_type": "stream",
     "text": [
      "Layer 0: input_1, Trainable: True\n",
      "Layer 1: conv1_pad, Trainable: True\n",
      "Layer 2: conv1_conv, Trainable: True\n",
      "Layer 3: conv1_bn, Trainable: True\n",
      "Layer 4: conv1_relu, Trainable: True\n",
      "Layer 5: pool1_pad, Trainable: True\n",
      "Layer 6: pool1_pool, Trainable: True\n",
      "Layer 7: conv2_block1_1_conv, Trainable: True\n",
      "Layer 8: conv2_block1_1_bn, Trainable: True\n",
      "Layer 9: conv2_block1_1_relu, Trainable: True\n",
      "Layer 10: conv2_block1_2_conv, Trainable: True\n",
      "Layer 11: conv2_block1_2_bn, Trainable: True\n",
      "Layer 12: conv2_block1_2_relu, Trainable: True\n",
      "Layer 13: conv2_block1_0_conv, Trainable: True\n",
      "Layer 14: conv2_block1_3_conv, Trainable: True\n",
      "Layer 15: conv2_block1_0_bn, Trainable: True\n",
      "Layer 16: conv2_block1_3_bn, Trainable: True\n",
      "Layer 17: conv2_block1_add, Trainable: True\n",
      "Layer 18: conv2_block1_out, Trainable: True\n",
      "Layer 19: conv2_block2_1_conv, Trainable: True\n",
      "Layer 20: conv2_block2_1_bn, Trainable: True\n",
      "Layer 21: conv2_block2_1_relu, Trainable: True\n",
      "Layer 22: conv2_block2_2_conv, Trainable: True\n",
      "Layer 23: conv2_block2_2_bn, Trainable: True\n",
      "Layer 24: conv2_block2_2_relu, Trainable: True\n",
      "Layer 25: conv2_block2_3_conv, Trainable: True\n",
      "Layer 26: conv2_block2_3_bn, Trainable: True\n",
      "Layer 27: conv2_block2_add, Trainable: True\n",
      "Layer 28: conv2_block2_out, Trainable: True\n",
      "Layer 29: conv2_block3_1_conv, Trainable: True\n",
      "Layer 30: conv2_block3_1_bn, Trainable: True\n",
      "Layer 31: conv2_block3_1_relu, Trainable: True\n",
      "Layer 32: conv2_block3_2_conv, Trainable: True\n",
      "Layer 33: conv2_block3_2_bn, Trainable: True\n",
      "Layer 34: conv2_block3_2_relu, Trainable: True\n",
      "Layer 35: conv2_block3_3_conv, Trainable: True\n",
      "Layer 36: conv2_block3_3_bn, Trainable: True\n",
      "Layer 37: conv2_block3_add, Trainable: True\n",
      "Layer 38: conv2_block3_out, Trainable: True\n",
      "Layer 39: conv3_block1_1_conv, Trainable: True\n",
      "Layer 40: conv3_block1_1_bn, Trainable: True\n",
      "Layer 41: conv3_block1_1_relu, Trainable: True\n",
      "Layer 42: conv3_block1_2_conv, Trainable: True\n",
      "Layer 43: conv3_block1_2_bn, Trainable: True\n",
      "Layer 44: conv3_block1_2_relu, Trainable: True\n",
      "Layer 45: conv3_block1_0_conv, Trainable: True\n",
      "Layer 46: conv3_block1_3_conv, Trainable: True\n",
      "Layer 47: conv3_block1_0_bn, Trainable: True\n",
      "Layer 48: conv3_block1_3_bn, Trainable: True\n",
      "Layer 49: conv3_block1_add, Trainable: True\n",
      "Layer 50: conv3_block1_out, Trainable: True\n",
      "Layer 51: conv3_block2_1_conv, Trainable: True\n",
      "Layer 52: conv3_block2_1_bn, Trainable: True\n",
      "Layer 53: conv3_block2_1_relu, Trainable: True\n",
      "Layer 54: conv3_block2_2_conv, Trainable: True\n",
      "Layer 55: conv3_block2_2_bn, Trainable: True\n",
      "Layer 56: conv3_block2_2_relu, Trainable: True\n",
      "Layer 57: conv3_block2_3_conv, Trainable: True\n",
      "Layer 58: conv3_block2_3_bn, Trainable: True\n",
      "Layer 59: conv3_block2_add, Trainable: True\n",
      "Layer 60: conv3_block2_out, Trainable: True\n",
      "Layer 61: conv3_block3_1_conv, Trainable: True\n",
      "Layer 62: conv3_block3_1_bn, Trainable: True\n",
      "Layer 63: conv3_block3_1_relu, Trainable: True\n",
      "Layer 64: conv3_block3_2_conv, Trainable: True\n",
      "Layer 65: conv3_block3_2_bn, Trainable: True\n",
      "Layer 66: conv3_block3_2_relu, Trainable: True\n",
      "Layer 67: conv3_block3_3_conv, Trainable: True\n",
      "Layer 68: conv3_block3_3_bn, Trainable: True\n",
      "Layer 69: conv3_block3_add, Trainable: True\n",
      "Layer 70: conv3_block3_out, Trainable: True\n",
      "Layer 71: conv3_block4_1_conv, Trainable: True\n",
      "Layer 72: conv3_block4_1_bn, Trainable: True\n",
      "Layer 73: conv3_block4_1_relu, Trainable: True\n",
      "Layer 74: conv3_block4_2_conv, Trainable: True\n",
      "Layer 75: conv3_block4_2_bn, Trainable: True\n",
      "Layer 76: conv3_block4_2_relu, Trainable: True\n",
      "Layer 77: conv3_block4_3_conv, Trainable: True\n",
      "Layer 78: conv3_block4_3_bn, Trainable: True\n",
      "Layer 79: conv3_block4_add, Trainable: True\n",
      "Layer 80: conv3_block4_out, Trainable: True\n",
      "Layer 81: conv3_block5_1_conv, Trainable: True\n",
      "Layer 82: conv3_block5_1_bn, Trainable: True\n",
      "Layer 83: conv3_block5_1_relu, Trainable: True\n",
      "Layer 84: conv3_block5_2_conv, Trainable: True\n",
      "Layer 85: conv3_block5_2_bn, Trainable: True\n",
      "Layer 86: conv3_block5_2_relu, Trainable: True\n",
      "Layer 87: conv3_block5_3_conv, Trainable: True\n",
      "Layer 88: conv3_block5_3_bn, Trainable: True\n",
      "Layer 89: conv3_block5_add, Trainable: True\n",
      "Layer 90: conv3_block5_out, Trainable: True\n",
      "Layer 91: conv3_block6_1_conv, Trainable: True\n",
      "Layer 92: conv3_block6_1_bn, Trainable: True\n",
      "Layer 93: conv3_block6_1_relu, Trainable: True\n",
      "Layer 94: conv3_block6_2_conv, Trainable: True\n",
      "Layer 95: conv3_block6_2_bn, Trainable: True\n",
      "Layer 96: conv3_block6_2_relu, Trainable: True\n",
      "Layer 97: conv3_block6_3_conv, Trainable: True\n",
      "Layer 98: conv3_block6_3_bn, Trainable: True\n",
      "Layer 99: conv3_block6_add, Trainable: True\n",
      "Layer 100: conv3_block6_out, Trainable: True\n",
      "Layer 101: conv3_block7_1_conv, Trainable: True\n",
      "Layer 102: conv3_block7_1_bn, Trainable: True\n",
      "Layer 103: conv3_block7_1_relu, Trainable: True\n",
      "Layer 104: conv3_block7_2_conv, Trainable: True\n",
      "Layer 105: conv3_block7_2_bn, Trainable: True\n",
      "Layer 106: conv3_block7_2_relu, Trainable: True\n",
      "Layer 107: conv3_block7_3_conv, Trainable: True\n",
      "Layer 108: conv3_block7_3_bn, Trainable: True\n",
      "Layer 109: conv3_block7_add, Trainable: True\n",
      "Layer 110: conv3_block7_out, Trainable: True\n",
      "Layer 111: conv3_block8_1_conv, Trainable: True\n",
      "Layer 112: conv3_block8_1_bn, Trainable: True\n",
      "Layer 113: conv3_block8_1_relu, Trainable: True\n",
      "Layer 114: conv3_block8_2_conv, Trainable: True\n",
      "Layer 115: conv3_block8_2_bn, Trainable: True\n",
      "Layer 116: conv3_block8_2_relu, Trainable: True\n",
      "Layer 117: conv3_block8_3_conv, Trainable: True\n",
      "Layer 118: conv3_block8_3_bn, Trainable: True\n",
      "Layer 119: conv3_block8_add, Trainable: True\n",
      "Layer 120: conv3_block8_out, Trainable: True\n",
      "Layer 121: conv4_block1_1_conv, Trainable: True\n",
      "Layer 122: conv4_block1_1_bn, Trainable: True\n",
      "Layer 123: conv4_block1_1_relu, Trainable: True\n",
      "Layer 124: conv4_block1_2_conv, Trainable: True\n",
      "Layer 125: conv4_block1_2_bn, Trainable: True\n",
      "Layer 126: conv4_block1_2_relu, Trainable: True\n",
      "Layer 127: conv4_block1_0_conv, Trainable: True\n",
      "Layer 128: conv4_block1_3_conv, Trainable: True\n",
      "Layer 129: conv4_block1_0_bn, Trainable: True\n",
      "Layer 130: conv4_block1_3_bn, Trainable: True\n",
      "Layer 131: conv4_block1_add, Trainable: True\n",
      "Layer 132: conv4_block1_out, Trainable: True\n",
      "Layer 133: conv4_block2_1_conv, Trainable: True\n",
      "Layer 134: conv4_block2_1_bn, Trainable: True\n",
      "Layer 135: conv4_block2_1_relu, Trainable: True\n",
      "Layer 136: conv4_block2_2_conv, Trainable: True\n",
      "Layer 137: conv4_block2_2_bn, Trainable: True\n",
      "Layer 138: conv4_block2_2_relu, Trainable: True\n",
      "Layer 139: conv4_block2_3_conv, Trainable: True\n",
      "Layer 140: conv4_block2_3_bn, Trainable: True\n",
      "Layer 141: conv4_block2_add, Trainable: True\n",
      "Layer 142: conv4_block2_out, Trainable: True\n",
      "Layer 143: conv4_block3_1_conv, Trainable: True\n",
      "Layer 144: conv4_block3_1_bn, Trainable: True\n",
      "Layer 145: conv4_block3_1_relu, Trainable: True\n",
      "Layer 146: conv4_block3_2_conv, Trainable: True\n",
      "Layer 147: conv4_block3_2_bn, Trainable: True\n",
      "Layer 148: conv4_block3_2_relu, Trainable: True\n",
      "Layer 149: conv4_block3_3_conv, Trainable: True\n",
      "Layer 150: conv4_block3_3_bn, Trainable: True\n",
      "Layer 151: conv4_block3_add, Trainable: True\n",
      "Layer 152: conv4_block3_out, Trainable: True\n",
      "Layer 153: conv4_block4_1_conv, Trainable: True\n",
      "Layer 154: conv4_block4_1_bn, Trainable: True\n",
      "Layer 155: conv4_block4_1_relu, Trainable: True\n",
      "Layer 156: conv4_block4_2_conv, Trainable: True\n",
      "Layer 157: conv4_block4_2_bn, Trainable: True\n",
      "Layer 158: conv4_block4_2_relu, Trainable: True\n",
      "Layer 159: conv4_block4_3_conv, Trainable: True\n",
      "Layer 160: conv4_block4_3_bn, Trainable: True\n",
      "Layer 161: conv4_block4_add, Trainable: True\n",
      "Layer 162: conv4_block4_out, Trainable: True\n",
      "Layer 163: conv4_block5_1_conv, Trainable: True\n",
      "Layer 164: conv4_block5_1_bn, Trainable: True\n",
      "Layer 165: conv4_block5_1_relu, Trainable: True\n",
      "Layer 166: conv4_block5_2_conv, Trainable: True\n",
      "Layer 167: conv4_block5_2_bn, Trainable: True\n",
      "Layer 168: conv4_block5_2_relu, Trainable: True\n",
      "Layer 169: conv4_block5_3_conv, Trainable: True\n",
      "Layer 170: conv4_block5_3_bn, Trainable: True\n",
      "Layer 171: conv4_block5_add, Trainable: True\n",
      "Layer 172: conv4_block5_out, Trainable: True\n",
      "Layer 173: conv4_block6_1_conv, Trainable: True\n",
      "Layer 174: conv4_block6_1_bn, Trainable: True\n",
      "Layer 175: conv4_block6_1_relu, Trainable: True\n",
      "Layer 176: conv4_block6_2_conv, Trainable: True\n",
      "Layer 177: conv4_block6_2_bn, Trainable: True\n",
      "Layer 178: conv4_block6_2_relu, Trainable: True\n",
      "Layer 179: conv4_block6_3_conv, Trainable: True\n",
      "Layer 180: conv4_block6_3_bn, Trainable: True\n",
      "Layer 181: conv4_block6_add, Trainable: True\n",
      "Layer 182: conv4_block6_out, Trainable: True\n",
      "Layer 183: conv4_block7_1_conv, Trainable: True\n",
      "Layer 184: conv4_block7_1_bn, Trainable: True\n",
      "Layer 185: conv4_block7_1_relu, Trainable: True\n",
      "Layer 186: conv4_block7_2_conv, Trainable: True\n",
      "Layer 187: conv4_block7_2_bn, Trainable: True\n",
      "Layer 188: conv4_block7_2_relu, Trainable: True\n",
      "Layer 189: conv4_block7_3_conv, Trainable: True\n",
      "Layer 190: conv4_block7_3_bn, Trainable: True\n",
      "Layer 191: conv4_block7_add, Trainable: True\n",
      "Layer 192: conv4_block7_out, Trainable: True\n",
      "Layer 193: conv4_block8_1_conv, Trainable: True\n",
      "Layer 194: conv4_block8_1_bn, Trainable: True\n",
      "Layer 195: conv4_block8_1_relu, Trainable: True\n",
      "Layer 196: conv4_block8_2_conv, Trainable: True\n",
      "Layer 197: conv4_block8_2_bn, Trainable: True\n",
      "Layer 198: conv4_block8_2_relu, Trainable: True\n",
      "Layer 199: conv4_block8_3_conv, Trainable: True\n",
      "Layer 200: conv4_block8_3_bn, Trainable: True\n",
      "Layer 201: conv4_block8_add, Trainable: True\n",
      "Layer 202: conv4_block8_out, Trainable: True\n",
      "Layer 203: conv4_block9_1_conv, Trainable: True\n",
      "Layer 204: conv4_block9_1_bn, Trainable: True\n",
      "Layer 205: conv4_block9_1_relu, Trainable: True\n",
      "Layer 206: conv4_block9_2_conv, Trainable: True\n",
      "Layer 207: conv4_block9_2_bn, Trainable: True\n",
      "Layer 208: conv4_block9_2_relu, Trainable: True\n",
      "Layer 209: conv4_block9_3_conv, Trainable: True\n",
      "Layer 210: conv4_block9_3_bn, Trainable: True\n",
      "Layer 211: conv4_block9_add, Trainable: True\n",
      "Layer 212: conv4_block9_out, Trainable: True\n",
      "Layer 213: conv4_block10_1_conv, Trainable: True\n",
      "Layer 214: conv4_block10_1_bn, Trainable: True\n",
      "Layer 215: conv4_block10_1_relu, Trainable: True\n",
      "Layer 216: conv4_block10_2_conv, Trainable: True\n",
      "Layer 217: conv4_block10_2_bn, Trainable: True\n",
      "Layer 218: conv4_block10_2_relu, Trainable: True\n",
      "Layer 219: conv4_block10_3_conv, Trainable: True\n",
      "Layer 220: conv4_block10_3_bn, Trainable: True\n",
      "Layer 221: conv4_block10_add, Trainable: True\n",
      "Layer 222: conv4_block10_out, Trainable: True\n",
      "Layer 223: conv4_block11_1_conv, Trainable: True\n",
      "Layer 224: conv4_block11_1_bn, Trainable: True\n",
      "Layer 225: conv4_block11_1_relu, Trainable: True\n",
      "Layer 226: conv4_block11_2_conv, Trainable: True\n",
      "Layer 227: conv4_block11_2_bn, Trainable: True\n",
      "Layer 228: conv4_block11_2_relu, Trainable: True\n",
      "Layer 229: conv4_block11_3_conv, Trainable: True\n",
      "Layer 230: conv4_block11_3_bn, Trainable: True\n",
      "Layer 231: conv4_block11_add, Trainable: True\n",
      "Layer 232: conv4_block11_out, Trainable: True\n",
      "Layer 233: conv4_block12_1_conv, Trainable: True\n",
      "Layer 234: conv4_block12_1_bn, Trainable: True\n",
      "Layer 235: conv4_block12_1_relu, Trainable: True\n",
      "Layer 236: conv4_block12_2_conv, Trainable: True\n",
      "Layer 237: conv4_block12_2_bn, Trainable: True\n",
      "Layer 238: conv4_block12_2_relu, Trainable: True\n",
      "Layer 239: conv4_block12_3_conv, Trainable: True\n",
      "Layer 240: conv4_block12_3_bn, Trainable: True\n",
      "Layer 241: conv4_block12_add, Trainable: True\n",
      "Layer 242: conv4_block12_out, Trainable: True\n",
      "Layer 243: conv4_block13_1_conv, Trainable: True\n",
      "Layer 244: conv4_block13_1_bn, Trainable: True\n",
      "Layer 245: conv4_block13_1_relu, Trainable: True\n",
      "Layer 246: conv4_block13_2_conv, Trainable: True\n",
      "Layer 247: conv4_block13_2_bn, Trainable: True\n",
      "Layer 248: conv4_block13_2_relu, Trainable: True\n",
      "Layer 249: conv4_block13_3_conv, Trainable: True\n",
      "Layer 250: conv4_block13_3_bn, Trainable: True\n",
      "Layer 251: conv4_block13_add, Trainable: True\n",
      "Layer 252: conv4_block13_out, Trainable: True\n",
      "Layer 253: conv4_block14_1_conv, Trainable: True\n",
      "Layer 254: conv4_block14_1_bn, Trainable: True\n",
      "Layer 255: conv4_block14_1_relu, Trainable: True\n",
      "Layer 256: conv4_block14_2_conv, Trainable: True\n",
      "Layer 257: conv4_block14_2_bn, Trainable: True\n",
      "Layer 258: conv4_block14_2_relu, Trainable: True\n",
      "Layer 259: conv4_block14_3_conv, Trainable: True\n",
      "Layer 260: conv4_block14_3_bn, Trainable: True\n",
      "Layer 261: conv4_block14_add, Trainable: True\n",
      "Layer 262: conv4_block14_out, Trainable: True\n",
      "Layer 263: conv4_block15_1_conv, Trainable: True\n",
      "Layer 264: conv4_block15_1_bn, Trainable: True\n",
      "Layer 265: conv4_block15_1_relu, Trainable: True\n",
      "Layer 266: conv4_block15_2_conv, Trainable: True\n",
      "Layer 267: conv4_block15_2_bn, Trainable: True\n",
      "Layer 268: conv4_block15_2_relu, Trainable: True\n",
      "Layer 269: conv4_block15_3_conv, Trainable: True\n",
      "Layer 270: conv4_block15_3_bn, Trainable: True\n",
      "Layer 271: conv4_block15_add, Trainable: True\n",
      "Layer 272: conv4_block15_out, Trainable: True\n",
      "Layer 273: conv4_block16_1_conv, Trainable: True\n",
      "Layer 274: conv4_block16_1_bn, Trainable: True\n",
      "Layer 275: conv4_block16_1_relu, Trainable: True\n",
      "Layer 276: conv4_block16_2_conv, Trainable: True\n",
      "Layer 277: conv4_block16_2_bn, Trainable: True\n",
      "Layer 278: conv4_block16_2_relu, Trainable: True\n",
      "Layer 279: conv4_block16_3_conv, Trainable: True\n",
      "Layer 280: conv4_block16_3_bn, Trainable: True\n",
      "Layer 281: conv4_block16_add, Trainable: True\n",
      "Layer 282: conv4_block16_out, Trainable: True\n",
      "Layer 283: conv4_block17_1_conv, Trainable: True\n",
      "Layer 284: conv4_block17_1_bn, Trainable: True\n",
      "Layer 285: conv4_block17_1_relu, Trainable: True\n",
      "Layer 286: conv4_block17_2_conv, Trainable: True\n",
      "Layer 287: conv4_block17_2_bn, Trainable: True\n",
      "Layer 288: conv4_block17_2_relu, Trainable: True\n",
      "Layer 289: conv4_block17_3_conv, Trainable: True\n",
      "Layer 290: conv4_block17_3_bn, Trainable: True\n",
      "Layer 291: conv4_block17_add, Trainable: True\n",
      "Layer 292: conv4_block17_out, Trainable: True\n",
      "Layer 293: conv4_block18_1_conv, Trainable: True\n",
      "Layer 294: conv4_block18_1_bn, Trainable: True\n",
      "Layer 295: conv4_block18_1_relu, Trainable: True\n",
      "Layer 296: conv4_block18_2_conv, Trainable: True\n",
      "Layer 297: conv4_block18_2_bn, Trainable: True\n",
      "Layer 298: conv4_block18_2_relu, Trainable: True\n",
      "Layer 299: conv4_block18_3_conv, Trainable: True\n",
      "Layer 300: conv4_block18_3_bn, Trainable: True\n",
      "Layer 301: conv4_block18_add, Trainable: True\n",
      "Layer 302: conv4_block18_out, Trainable: True\n",
      "Layer 303: conv4_block19_1_conv, Trainable: True\n",
      "Layer 304: conv4_block19_1_bn, Trainable: True\n",
      "Layer 305: conv4_block19_1_relu, Trainable: True\n",
      "Layer 306: conv4_block19_2_conv, Trainable: True\n",
      "Layer 307: conv4_block19_2_bn, Trainable: True\n",
      "Layer 308: conv4_block19_2_relu, Trainable: True\n",
      "Layer 309: conv4_block19_3_conv, Trainable: True\n",
      "Layer 310: conv4_block19_3_bn, Trainable: True\n",
      "Layer 311: conv4_block19_add, Trainable: True\n",
      "Layer 312: conv4_block19_out, Trainable: True\n",
      "Layer 313: conv4_block20_1_conv, Trainable: True\n",
      "Layer 314: conv4_block20_1_bn, Trainable: True\n",
      "Layer 315: conv4_block20_1_relu, Trainable: True\n",
      "Layer 316: conv4_block20_2_conv, Trainable: True\n",
      "Layer 317: conv4_block20_2_bn, Trainable: True\n",
      "Layer 318: conv4_block20_2_relu, Trainable: True\n",
      "Layer 319: conv4_block20_3_conv, Trainable: True\n",
      "Layer 320: conv4_block20_3_bn, Trainable: True\n",
      "Layer 321: conv4_block20_add, Trainable: True\n",
      "Layer 322: conv4_block20_out, Trainable: True\n",
      "Layer 323: conv4_block21_1_conv, Trainable: True\n",
      "Layer 324: conv4_block21_1_bn, Trainable: True\n",
      "Layer 325: conv4_block21_1_relu, Trainable: True\n",
      "Layer 326: conv4_block21_2_conv, Trainable: True\n",
      "Layer 327: conv4_block21_2_bn, Trainable: True\n",
      "Layer 328: conv4_block21_2_relu, Trainable: True\n",
      "Layer 329: conv4_block21_3_conv, Trainable: True\n",
      "Layer 330: conv4_block21_3_bn, Trainable: True\n",
      "Layer 331: conv4_block21_add, Trainable: True\n",
      "Layer 332: conv4_block21_out, Trainable: True\n",
      "Layer 333: conv4_block22_1_conv, Trainable: True\n",
      "Layer 334: conv4_block22_1_bn, Trainable: True\n",
      "Layer 335: conv4_block22_1_relu, Trainable: True\n",
      "Layer 336: conv4_block22_2_conv, Trainable: True\n",
      "Layer 337: conv4_block22_2_bn, Trainable: True\n",
      "Layer 338: conv4_block22_2_relu, Trainable: True\n",
      "Layer 339: conv4_block22_3_conv, Trainable: True\n",
      "Layer 340: conv4_block22_3_bn, Trainable: True\n",
      "Layer 341: conv4_block22_add, Trainable: True\n",
      "Layer 342: conv4_block22_out, Trainable: True\n",
      "Layer 343: conv4_block23_1_conv, Trainable: True\n",
      "Layer 344: conv4_block23_1_bn, Trainable: True\n",
      "Layer 345: conv4_block23_1_relu, Trainable: True\n",
      "Layer 346: conv4_block23_2_conv, Trainable: True\n",
      "Layer 347: conv4_block23_2_bn, Trainable: True\n",
      "Layer 348: conv4_block23_2_relu, Trainable: True\n",
      "Layer 349: conv4_block23_3_conv, Trainable: True\n",
      "Layer 350: conv4_block23_3_bn, Trainable: True\n",
      "Layer 351: conv4_block23_add, Trainable: True\n",
      "Layer 352: conv4_block23_out, Trainable: True\n",
      "Layer 353: conv4_block24_1_conv, Trainable: True\n",
      "Layer 354: conv4_block24_1_bn, Trainable: True\n",
      "Layer 355: conv4_block24_1_relu, Trainable: True\n",
      "Layer 356: conv4_block24_2_conv, Trainable: True\n",
      "Layer 357: conv4_block24_2_bn, Trainable: True\n",
      "Layer 358: conv4_block24_2_relu, Trainable: True\n",
      "Layer 359: conv4_block24_3_conv, Trainable: True\n",
      "Layer 360: conv4_block24_3_bn, Trainable: True\n",
      "Layer 361: conv4_block24_add, Trainable: True\n",
      "Layer 362: conv4_block24_out, Trainable: True\n",
      "Layer 363: conv4_block25_1_conv, Trainable: True\n",
      "Layer 364: conv4_block25_1_bn, Trainable: True\n",
      "Layer 365: conv4_block25_1_relu, Trainable: True\n",
      "Layer 366: conv4_block25_2_conv, Trainable: True\n",
      "Layer 367: conv4_block25_2_bn, Trainable: True\n",
      "Layer 368: conv4_block25_2_relu, Trainable: True\n",
      "Layer 369: conv4_block25_3_conv, Trainable: True\n",
      "Layer 370: conv4_block25_3_bn, Trainable: True\n",
      "Layer 371: conv4_block25_add, Trainable: True\n",
      "Layer 372: conv4_block25_out, Trainable: True\n",
      "Layer 373: conv4_block26_1_conv, Trainable: True\n",
      "Layer 374: conv4_block26_1_bn, Trainable: True\n",
      "Layer 375: conv4_block26_1_relu, Trainable: True\n",
      "Layer 376: conv4_block26_2_conv, Trainable: True\n",
      "Layer 377: conv4_block26_2_bn, Trainable: True\n",
      "Layer 378: conv4_block26_2_relu, Trainable: True\n",
      "Layer 379: conv4_block26_3_conv, Trainable: True\n",
      "Layer 380: conv4_block26_3_bn, Trainable: True\n",
      "Layer 381: conv4_block26_add, Trainable: True\n",
      "Layer 382: conv4_block26_out, Trainable: True\n",
      "Layer 383: conv4_block27_1_conv, Trainable: True\n",
      "Layer 384: conv4_block27_1_bn, Trainable: True\n",
      "Layer 385: conv4_block27_1_relu, Trainable: True\n",
      "Layer 386: conv4_block27_2_conv, Trainable: True\n",
      "Layer 387: conv4_block27_2_bn, Trainable: True\n",
      "Layer 388: conv4_block27_2_relu, Trainable: True\n",
      "Layer 389: conv4_block27_3_conv, Trainable: True\n",
      "Layer 390: conv4_block27_3_bn, Trainable: True\n",
      "Layer 391: conv4_block27_add, Trainable: True\n",
      "Layer 392: conv4_block27_out, Trainable: True\n",
      "Layer 393: conv4_block28_1_conv, Trainable: True\n",
      "Layer 394: conv4_block28_1_bn, Trainable: True\n",
      "Layer 395: conv4_block28_1_relu, Trainable: True\n",
      "Layer 396: conv4_block28_2_conv, Trainable: True\n",
      "Layer 397: conv4_block28_2_bn, Trainable: True\n",
      "Layer 398: conv4_block28_2_relu, Trainable: True\n",
      "Layer 399: conv4_block28_3_conv, Trainable: True\n",
      "Layer 400: conv4_block28_3_bn, Trainable: True\n",
      "Layer 401: conv4_block28_add, Trainable: True\n",
      "Layer 402: conv4_block28_out, Trainable: True\n",
      "Layer 403: conv4_block29_1_conv, Trainable: True\n",
      "Layer 404: conv4_block29_1_bn, Trainable: True\n",
      "Layer 405: conv4_block29_1_relu, Trainable: True\n",
      "Layer 406: conv4_block29_2_conv, Trainable: True\n",
      "Layer 407: conv4_block29_2_bn, Trainable: True\n",
      "Layer 408: conv4_block29_2_relu, Trainable: True\n",
      "Layer 409: conv4_block29_3_conv, Trainable: True\n",
      "Layer 410: conv4_block29_3_bn, Trainable: True\n",
      "Layer 411: conv4_block29_add, Trainable: True\n",
      "Layer 412: conv4_block29_out, Trainable: True\n",
      "Layer 413: conv4_block30_1_conv, Trainable: True\n",
      "Layer 414: conv4_block30_1_bn, Trainable: True\n",
      "Layer 415: conv4_block30_1_relu, Trainable: True\n",
      "Layer 416: conv4_block30_2_conv, Trainable: True\n",
      "Layer 417: conv4_block30_2_bn, Trainable: True\n",
      "Layer 418: conv4_block30_2_relu, Trainable: True\n",
      "Layer 419: conv4_block30_3_conv, Trainable: True\n",
      "Layer 420: conv4_block30_3_bn, Trainable: True\n",
      "Layer 421: conv4_block30_add, Trainable: True\n",
      "Layer 422: conv4_block30_out, Trainable: True\n",
      "Layer 423: conv4_block31_1_conv, Trainable: True\n",
      "Layer 424: conv4_block31_1_bn, Trainable: True\n",
      "Layer 425: conv4_block31_1_relu, Trainable: True\n",
      "Layer 426: conv4_block31_2_conv, Trainable: True\n",
      "Layer 427: conv4_block31_2_bn, Trainable: True\n",
      "Layer 428: conv4_block31_2_relu, Trainable: True\n",
      "Layer 429: conv4_block31_3_conv, Trainable: True\n",
      "Layer 430: conv4_block31_3_bn, Trainable: True\n",
      "Layer 431: conv4_block31_add, Trainable: True\n",
      "Layer 432: conv4_block31_out, Trainable: True\n",
      "Layer 433: conv4_block32_1_conv, Trainable: True\n",
      "Layer 434: conv4_block32_1_bn, Trainable: True\n",
      "Layer 435: conv4_block32_1_relu, Trainable: True\n",
      "Layer 436: conv4_block32_2_conv, Trainable: True\n",
      "Layer 437: conv4_block32_2_bn, Trainable: True\n",
      "Layer 438: conv4_block32_2_relu, Trainable: True\n",
      "Layer 439: conv4_block32_3_conv, Trainable: True\n",
      "Layer 440: conv4_block32_3_bn, Trainable: True\n",
      "Layer 441: conv4_block32_add, Trainable: True\n",
      "Layer 442: conv4_block32_out, Trainable: True\n",
      "Layer 443: conv4_block33_1_conv, Trainable: True\n",
      "Layer 444: conv4_block33_1_bn, Trainable: True\n",
      "Layer 445: conv4_block33_1_relu, Trainable: True\n",
      "Layer 446: conv4_block33_2_conv, Trainable: True\n",
      "Layer 447: conv4_block33_2_bn, Trainable: True\n",
      "Layer 448: conv4_block33_2_relu, Trainable: True\n",
      "Layer 449: conv4_block33_3_conv, Trainable: True\n",
      "Layer 450: conv4_block33_3_bn, Trainable: True\n",
      "Layer 451: conv4_block33_add, Trainable: True\n",
      "Layer 452: conv4_block33_out, Trainable: True\n",
      "Layer 453: conv4_block34_1_conv, Trainable: True\n",
      "Layer 454: conv4_block34_1_bn, Trainable: True\n",
      "Layer 455: conv4_block34_1_relu, Trainable: True\n",
      "Layer 456: conv4_block34_2_conv, Trainable: True\n",
      "Layer 457: conv4_block34_2_bn, Trainable: True\n",
      "Layer 458: conv4_block34_2_relu, Trainable: True\n",
      "Layer 459: conv4_block34_3_conv, Trainable: True\n",
      "Layer 460: conv4_block34_3_bn, Trainable: True\n",
      "Layer 461: conv4_block34_add, Trainable: True\n",
      "Layer 462: conv4_block34_out, Trainable: True\n",
      "Layer 463: conv4_block35_1_conv, Trainable: True\n",
      "Layer 464: conv4_block35_1_bn, Trainable: True\n",
      "Layer 465: conv4_block35_1_relu, Trainable: True\n",
      "Layer 466: conv4_block35_2_conv, Trainable: True\n",
      "Layer 467: conv4_block35_2_bn, Trainable: True\n",
      "Layer 468: conv4_block35_2_relu, Trainable: True\n",
      "Layer 469: conv4_block35_3_conv, Trainable: True\n",
      "Layer 470: conv4_block35_3_bn, Trainable: True\n",
      "Layer 471: conv4_block35_add, Trainable: True\n",
      "Layer 472: conv4_block35_out, Trainable: True\n",
      "Layer 473: conv4_block36_1_conv, Trainable: True\n",
      "Layer 474: conv4_block36_1_bn, Trainable: True\n",
      "Layer 475: conv4_block36_1_relu, Trainable: True\n",
      "Layer 476: conv4_block36_2_conv, Trainable: True\n",
      "Layer 477: conv4_block36_2_bn, Trainable: True\n",
      "Layer 478: conv4_block36_2_relu, Trainable: True\n",
      "Layer 479: conv4_block36_3_conv, Trainable: True\n",
      "Layer 480: conv4_block36_3_bn, Trainable: True\n",
      "Layer 481: conv4_block36_add, Trainable: True\n",
      "Layer 482: conv4_block36_out, Trainable: True\n",
      "Layer 483: conv5_block1_1_conv, Trainable: True\n",
      "Layer 484: conv5_block1_1_bn, Trainable: True\n",
      "Layer 485: conv5_block1_1_relu, Trainable: True\n",
      "Layer 486: conv5_block1_2_conv, Trainable: True\n",
      "Layer 487: conv5_block1_2_bn, Trainable: True\n",
      "Layer 488: conv5_block1_2_relu, Trainable: True\n",
      "Layer 489: conv5_block1_0_conv, Trainable: True\n",
      "Layer 490: conv5_block1_3_conv, Trainable: True\n",
      "Layer 491: conv5_block1_0_bn, Trainable: True\n",
      "Layer 492: conv5_block1_3_bn, Trainable: True\n",
      "Layer 493: conv5_block1_add, Trainable: True\n",
      "Layer 494: conv5_block1_out, Trainable: True\n",
      "Layer 495: conv5_block2_1_conv, Trainable: True\n",
      "Layer 496: conv5_block2_1_bn, Trainable: True\n",
      "Layer 497: conv5_block2_1_relu, Trainable: True\n",
      "Layer 498: conv5_block2_2_conv, Trainable: True\n",
      "Layer 499: conv5_block2_2_bn, Trainable: True\n",
      "Layer 500: conv5_block2_2_relu, Trainable: True\n",
      "Layer 501: conv5_block2_3_conv, Trainable: True\n",
      "Layer 502: conv5_block2_3_bn, Trainable: True\n",
      "Layer 503: conv5_block2_add, Trainable: True\n",
      "Layer 504: conv5_block2_out, Trainable: True\n",
      "Layer 505: conv5_block3_1_conv, Trainable: True\n",
      "Layer 506: conv5_block3_1_bn, Trainable: True\n",
      "Layer 507: conv5_block3_1_relu, Trainable: True\n",
      "Layer 508: conv5_block3_2_conv, Trainable: True\n",
      "Layer 509: conv5_block3_2_bn, Trainable: True\n",
      "Layer 510: conv5_block3_2_relu, Trainable: True\n",
      "Layer 511: conv5_block3_3_conv, Trainable: True\n",
      "Layer 512: conv5_block3_3_bn, Trainable: True\n",
      "Layer 513: conv5_block3_add, Trainable: True\n",
      "Layer 514: conv5_block3_out, Trainable: True\n"
     ]
    }
   ],
   "source": [
    "for i, layer in enumerate(base_model.layers):\n",
    "    print(f\"Layer {i}: {layer.name}, Trainable: {layer.trainable}\")"
   ]
  },
  {
   "cell_type": "code",
   "execution_count": 23,
   "id": "854c3d20",
   "metadata": {
    "execution": {
     "iopub.execute_input": "2025-01-01T09:04:55.514486Z",
     "iopub.status.busy": "2025-01-01T09:04:55.514175Z",
     "iopub.status.idle": "2025-01-01T09:04:56.989765Z",
     "shell.execute_reply": "2025-01-01T09:04:56.988864Z"
    },
    "id": "le6O7kGIw6h6",
    "outputId": "1b5f6921-ccdf-44b4-efb9-197f8cb27b59",
    "papermill": {
     "duration": 1.508145,
     "end_time": "2025-01-01T09:04:56.991140",
     "exception": false,
     "start_time": "2025-01-01T09:04:55.482995",
     "status": "completed"
    },
    "tags": []
   },
   "outputs": [
    {
     "name": "stdout",
     "output_type": "stream",
     "text": [
      "Model: \"sequential\"\n",
      "_________________________________________________________________\n",
      " Layer (type)                Output Shape              Param #   \n",
      "=================================================================\n",
      " resnet152 (Functional)      (None, 7, 7, 2048)        58370944  \n",
      "                                                                 \n",
      " flatten (Flatten)           (None, 100352)            0         \n",
      "                                                                 \n",
      " dense (Dense)               (None, 512)               51380736  \n",
      "                                                                 \n",
      " dense_1 (Dense)             (None, 3)                 1539      \n",
      "                                                                 \n",
      "=================================================================\n",
      "Total params: 109,753,219\n",
      "Trainable params: 109,601,795\n",
      "Non-trainable params: 151,424\n",
      "_________________________________________________________________\n"
     ]
    }
   ],
   "source": [
    "model = Sequential([\n",
    "    base_model,\n",
    "    Flatten(),\n",
    "    Dense(512, activation='relu'),\n",
    "    Dense(3, activation='softmax')\n",
    "])\n",
    "model.summary()"
   ]
  },
  {
   "cell_type": "code",
   "execution_count": 24,
   "id": "4d0f37b0",
   "metadata": {
    "execution": {
     "iopub.execute_input": "2025-01-01T09:04:57.056193Z",
     "iopub.status.busy": "2025-01-01T09:04:57.055951Z",
     "iopub.status.idle": "2025-01-01T09:04:57.276036Z",
     "shell.execute_reply": "2025-01-01T09:04:57.275273Z"
    },
    "id": "kIpnFMMF2scs",
    "outputId": "9af7fcc7-91d8-4b9e-9011-b3ee37a5828f",
    "papermill": {
     "duration": 0.253769,
     "end_time": "2025-01-01T09:04:57.277383",
     "exception": false,
     "start_time": "2025-01-01T09:04:57.023614",
     "status": "completed"
    },
    "tags": []
   },
   "outputs": [
    {
     "data": {
      "image/png": "[encoded data removed]",
      "text/plain": [
       "<IPython.core.display.Image object>"
      ]
     },
     "execution_count": 24,
     "metadata": {},
     "output_type": "execute_result"
    }
   ],
   "source": [
    "from tensorflow.keras.utils import plot_model\n",
    "from IPython.display import Image\n",
    "plot_model(model, to_file='convnet.png', show_shapes=True,show_layer_names=True)\n",
    "Image(filename='convnet.png')"
   ]
  },
  {
   "cell_type": "code",
   "execution_count": 25,
   "id": "71a37008",
   "metadata": {
    "execution": {
     "iopub.execute_input": "2025-01-01T09:04:57.388017Z",
     "iopub.status.busy": "2025-01-01T09:04:57.387698Z",
     "iopub.status.idle": "2025-01-01T09:04:57.405316Z",
     "shell.execute_reply": "2025-01-01T09:04:57.404678Z"
    },
    "id": "CMtjjQwmaBjC",
    "papermill": {
     "duration": 0.052164,
     "end_time": "2025-01-01T09:04:57.406608",
     "exception": false,
     "start_time": "2025-01-01T09:04:57.354444",
     "status": "completed"
    },
    "tags": []
   },
   "outputs": [],
   "source": [
    "model.compile(\n",
    "    loss=\"categorical_crossentropy\",\n",
    "    optimizer=Adam(learning_rate=0.0005),\n",
    "    metrics=METRICS\n",
    ")"
   ]
  },
  {
   "cell_type": "code",
   "execution_count": 26,
   "id": "71beafd0",
   "metadata": {
    "execution": {
     "iopub.execute_input": "2025-01-01T09:04:57.472301Z",
     "iopub.status.busy": "2025-01-01T09:04:57.472061Z",
     "iopub.status.idle": "2025-01-01T09:04:57.475370Z",
     "shell.execute_reply": "2025-01-01T09:04:57.474783Z"
    },
    "id": "9Zjmg5poaBjC",
    "papermill": {
     "duration": 0.037836,
     "end_time": "2025-01-01T09:04:57.476714",
     "exception": false,
     "start_time": "2025-01-01T09:04:57.438878",
     "status": "completed"
    },
    "tags": []
   },
   "outputs": [],
   "source": [
    "callbacks = [\n",
    "    ModelCheckpoint(\"best_model.keras\", monitor=\"val_accuracy\", save_best_only=True, verbose=1),\n",
    "    EarlyStopping(monitor=\"val_loss\", patience=5, verbose=1, restore_best_weights=True)\n",
    "]"
   ]
  },
  {
   "cell_type": "code",
   "execution_count": 27,
   "id": "2152821b",
   "metadata": {
    "execution": {
     "iopub.execute_input": "2025-01-01T09:04:57.541646Z",
     "iopub.status.busy": "2025-01-01T09:04:57.541379Z",
     "iopub.status.idle": "2025-01-01T10:15:25.459074Z",
     "shell.execute_reply": "2025-01-01T10:15:25.458272Z"
    },
    "id": "zgcn2wlOaBjD",
    "outputId": "fa3efbc9-d76d-4952-d404-0948c58ffe5d",
    "papermill": {
     "duration": 4227.951669,
     "end_time": "2025-01-01T10:15:25.460375",
     "exception": false,
     "start_time": "2025-01-01T09:04:57.508706",
     "status": "completed"
    },
    "tags": []
   },
   "outputs": [
    {
     "name": "stdout",
     "output_type": "stream",
     "text": [
      "Epoch 1/35\n",
      "48/48 [==============================] - ETA: 0s - loss: 3.9447 - accuracy: 0.7484 - precision: 0.7743 - recall: 0.7379 - auc: 0.8737 - f1_score: 0.7484 \n",
      "Epoch 1: val_accuracy improved from -inf to 0.51142, saving model to best_model.keras\n",
      "48/48 [==============================] - 539s 11s/step - loss: 3.9447 - accuracy: 0.7484 - precision: 0.7743 - recall: 0.7379 - auc: 0.8737 - f1_score: 0.7484 - val_loss: 597977.5625 - val_accuracy: 0.5114 - val_precision: 0.5114 - val_recall: 0.5114 - val_auc: 0.6336 - val_f1_score: 0.5114\n",
      "Epoch 2/35\n",
      "48/48 [==============================] - ETA: 0s - loss: 0.3611 - accuracy: 0.8553 - precision: 0.8760 - recall: 0.8292 - auc: 0.9658 - f1_score: 0.8553\n",
      "Epoch 2: val_accuracy improved from 0.51142 to 0.56621, saving model to best_model.keras\n",
      "48/48 [==============================] - 507s 11s/step - loss: 0.3611 - accuracy: 0.8553 - precision: 0.8760 - recall: 0.8292 - auc: 0.9658 - f1_score: 0.8553 - val_loss: 6898.8687 - val_accuracy: 0.5662 - val_precision: 0.5688 - val_recall: 0.5662 - val_auc: 0.6766 - val_f1_score: 0.5662\n",
      "Epoch 3/35\n",
      "48/48 [==============================] - ETA: 0s - loss: 0.2546 - accuracy: 0.9231 - precision: 0.9262 - recall: 0.9166 - auc: 0.9848 - f1_score: 0.9231 \n",
      "Epoch 3: val_accuracy improved from 0.56621 to 0.84932, saving model to best_model.keras\n",
      "48/48 [==============================] - 526s 11s/step - loss: 0.2546 - accuracy: 0.9231 - precision: 0.9262 - recall: 0.9166 - auc: 0.9848 - f1_score: 0.9231 - val_loss: 0.3225 - val_accuracy: 0.8493 - val_precision: 0.8605 - val_recall: 0.8447 - val_auc: 0.9709 - val_f1_score: 0.8493\n",
      "Epoch 4/35\n",
      "48/48 [==============================] - ETA: 0s - loss: 0.1862 - accuracy: 0.9270 - precision: 0.9375 - recall: 0.9192 - auc: 0.9901 - f1_score: 0.9270 \n",
      "Epoch 4: val_accuracy did not improve from 0.84932\n",
      "48/48 [==============================] - 510s 11s/step - loss: 0.1862 - accuracy: 0.9270 - precision: 0.9375 - recall: 0.9192 - auc: 0.9901 - f1_score: 0.9270 - val_loss: 4.7663 - val_accuracy: 0.8402 - val_precision: 0.8387 - val_recall: 0.8311 - val_auc: 0.9199 - val_f1_score: 0.8402\n",
      "Epoch 5/35\n",
      "48/48 [==============================] - ETA: 0s - loss: 0.0531 - accuracy: 0.9844 - precision: 0.9856 - recall: 0.9844 - auc: 0.9973 - f1_score: 0.9844\n",
      "Epoch 5: val_accuracy did not improve from 0.84932\n",
      "48/48 [==============================] - 505s 11s/step - loss: 0.0531 - accuracy: 0.9844 - precision: 0.9856 - recall: 0.9844 - auc: 0.9973 - f1_score: 0.9844 - val_loss: 1.1291 - val_accuracy: 0.6438 - val_precision: 0.6419 - val_recall: 0.6301 - val_auc: 0.8393 - val_f1_score: 0.6438\n",
      "Epoch 6/35\n",
      "48/48 [==============================] - ETA: 0s - loss: 1.1752 - accuracy: 0.8722 - precision: 0.9098 - recall: 0.8149 - auc: 0.9598 - f1_score: 0.8722 \n",
      "Epoch 6: val_accuracy did not improve from 0.84932\n",
      "48/48 [==============================] - 526s 11s/step - loss: 1.1752 - accuracy: 0.8722 - precision: 0.9098 - recall: 0.8149 - auc: 0.9598 - f1_score: 0.8722 - val_loss: 1027664832.0000 - val_accuracy: 0.4384 - val_precision: 0.4384 - val_recall: 0.4384 - val_auc: 0.5788 - val_f1_score: 0.4384\n",
      "Epoch 7/35\n",
      "48/48 [==============================] - ETA: 0s - loss: 0.3639 - accuracy: 0.8683 - precision: 0.8845 - recall: 0.8188 - auc: 0.9646 - f1_score: 0.8683 \n",
      "Epoch 7: val_accuracy did not improve from 0.84932\n",
      "48/48 [==============================] - 533s 11s/step - loss: 0.3639 - accuracy: 0.8683 - precision: 0.8845 - recall: 0.8188 - auc: 0.9646 - f1_score: 0.8683 - val_loss: 46171.2539 - val_accuracy: 0.5753 - val_precision: 0.5753 - val_recall: 0.5753 - val_auc: 0.6815 - val_f1_score: 0.5753\n",
      "Epoch 8/35\n",
      "48/48 [==============================] - ETA: 0s - loss: 0.3530 - accuracy: 0.9231 - precision: 0.9272 - recall: 0.9140 - auc: 0.9852 - f1_score: 0.9231 \n",
      "Epoch 8: val_accuracy did not improve from 0.84932\n",
      "Restoring model weights from the end of the best epoch: 3.\n",
      "48/48 [==============================] - 525s 11s/step - loss: 0.3530 - accuracy: 0.9231 - precision: 0.9272 - recall: 0.9140 - auc: 0.9852 - f1_score: 0.9231 - val_loss: 1926.3895 - val_accuracy: 0.6712 - val_precision: 0.6743 - val_recall: 0.6712 - val_auc: 0.7584 - val_f1_score: 0.6712\n",
      "Epoch 8: early stopping\n"
     ]
    }
   ],
   "source": [
    "history = model.fit(\n",
    "    train_generator,\n",
    "    validation_data=validation_generator,\n",
    "    epochs=35,\n",
    "    callbacks=callbacks,\n",
    "        verbose=1\n",
    "    #  , class_weight=class_weights\n",
    ")"
   ]
  },
  {
   "cell_type": "code",
   "execution_count": 28,
   "id": "17c45aee",
   "metadata": {
    "execution": {
     "iopub.execute_input": "2025-01-01T10:15:25.567230Z",
     "iopub.status.busy": "2025-01-01T10:15:25.566933Z",
     "iopub.status.idle": "2025-01-01T10:15:26.347741Z",
     "shell.execute_reply": "2025-01-01T10:15:26.346893Z"
    },
    "id": "kE8Q1PqGaBjD",
    "outputId": "b4c14aa5-47ff-41cd-9c98-6da9b78bc4c6",
    "papermill": {
     "duration": 0.836217,
     "end_time": "2025-01-01T10:15:26.349694",
     "exception": false,
     "start_time": "2025-01-01T10:15:25.513477",
     "status": "completed"
    },
    "tags": []
   },
   "outputs": [
    {
     "data": {
      "image/png": "[encoded data removed]",
      "text/plain": [
       "<Figure size 2200x500 with 5 Axes>"
      ]
     },
     "metadata": {},
     "output_type": "display_data"
    }
   ],
   "source": [
    "def Train_Val_Plot(acc, val_acc, loss, val_loss, auc, val_auc, precision, val_precision, f1, val_f1):\n",
    "\n",
    "    fig, (ax1, ax2, ax3, ax4, ax5) = plt.subplots(1, 5, figsize=(22, 5))\n",
    "    fig.suptitle(\" MODEL'S METRICS VISUALIZATION \")\n",
    "\n",
    "    # Rescale the y-axis for accuracy, auc, precision, and f1\n",
    "    rescale_factor = 0  # Adjust this factor to control the rescaling\n",
    "\n",
    "    ax1.plot(range(1, len(acc) + 1), acc)\n",
    "    ax1.plot(range(1, len(val_acc) + 1), val_acc)\n",
    "    ax1.set_title('History of Accuracy')\n",
    "    ax1.set_xlabel('Epochs')\n",
    "    ax1.set_ylabel('Accuracy')\n",
    "    ax1.set_ylim([0, 1.0])\n",
    "    ax1.legend(['training', 'validation'])\n",
    "\n",
    "    ax2.plot(range(1, len(loss) + 1), loss)\n",
    "    ax2.plot(range(1, len(val_loss) + 1), val_loss)\n",
    "    ax2.set_title('History of Loss')\n",
    "    ax2.set_xlabel('Epochs')\n",
    "    ax2.set_ylabel('Loss')\n",
    "    ax2.legend(['training', 'validation'])\n",
    "\n",
    "    ax3.plot(range(1, len(auc) + 1), auc)\n",
    "    ax3.plot(range(1, len(val_auc) + 1), val_auc)\n",
    "    ax3.set_title('History of AUC')\n",
    "    ax3.set_xlabel('Epochs')\n",
    "    ax3.set_ylabel('AUC')\n",
    "    ax3.set_ylim([rescale_factor, 1.0])\n",
    "    ax3.legend(['training', 'validation'])\n",
    "\n",
    "    ax4.plot(range(1, len(precision) + 1), precision)\n",
    "    ax4.plot(range(1, len(val_precision) + 1), val_precision)\n",
    "    ax4.set_title('History of Precision')\n",
    "    ax4.set_xlabel('Epochs')\n",
    "    ax4.set_ylabel('Precision')\n",
    "    ax4.set_ylim([rescale_factor, 1.0])\n",
    "    ax4.legend(['training', 'validation'])\n",
    "\n",
    "    ax5.plot(range(1, len(f1) + 1), f1)\n",
    "    ax5.plot(range(1, len(val_f1) + 1), val_f1)\n",
    "    ax5.set_title('History of F1-score')\n",
    "    ax5.set_xlabel('Epochs')\n",
    "    ax5.set_ylabel('F1 score')\n",
    "    ax5.set_ylim([rescale_factor, 1.0])\n",
    "    ax5.legend(['training', 'validation'])\n",
    "\n",
    "    plt.show()\n",
    "\n",
    "# Example usage:\n",
    "Train_Val_Plot(history.history['accuracy'], history.history['val_accuracy'],\n",
    "               history.history['loss'], history.history['val_loss']\n",
    "               ,\n",
    "               history.history['auc'], history.history['val_auc'],\n",
    "               history.history['precision'], history.history['val_precision'],\n",
    "               history.history['f1_score'], history.history['val_f1_score'])\n"
   ]
  },
  {
   "cell_type": "code",
   "execution_count": 29,
   "id": "c0daf4d4",
   "metadata": {
    "execution": {
     "iopub.execute_input": "2025-01-01T10:15:26.458882Z",
     "iopub.status.busy": "2025-01-01T10:15:26.458618Z",
     "iopub.status.idle": "2025-01-01T10:15:40.377107Z",
     "shell.execute_reply": "2025-01-01T10:15:40.376404Z"
    },
    "id": "utE8sko2aBjD",
    "outputId": "04829192-5720-4a0c-fc6a-73eca54ae392",
    "papermill": {
     "duration": 13.97353,
     "end_time": "2025-01-01T10:15:40.378349",
     "exception": false,
     "start_time": "2025-01-01T10:15:26.404819",
     "status": "completed"
    },
    "tags": []
   },
   "outputs": [
    {
     "name": "stdout",
     "output_type": "stream",
     "text": [
      "7/7 [==============================] - 14s 2s/step - loss: 0.2717 - accuracy: 0.8739 - precision: 0.8796 - recall: 0.8559 - auc: 0.9805 - f1_score: 0.8739\n"
     ]
    },
    {
     "data": {
      "text/plain": [
       "[0.2716889977455139,\n",
       " 0.8738738894462585,\n",
       " 0.8796296119689941,\n",
       " 0.8558558821678162,\n",
       " 0.9805413484573364,\n",
       " 0.8738739490509033]"
      ]
     },
     "execution_count": 29,
     "metadata": {},
     "output_type": "execute_result"
    }
   ],
   "source": [
    "model.evaluate(test_generator)"
   ]
  },
  {
   "cell_type": "code",
   "execution_count": 30,
   "id": "f79ab85a",
   "metadata": {
    "execution": {
     "iopub.execute_input": "2025-01-01T10:15:40.541603Z",
     "iopub.status.busy": "2025-01-01T10:15:40.541260Z",
     "iopub.status.idle": "2025-01-01T10:16:12.832488Z",
     "shell.execute_reply": "2025-01-01T10:16:12.831560Z"
    },
    "id": "z0kvictcppHg",
    "outputId": "f8682a16-2be9-4d99-9227-5652f2bbba23",
    "papermill": {
     "duration": 32.393244,
     "end_time": "2025-01-01T10:16:12.879499",
     "exception": false,
     "start_time": "2025-01-01T10:15:40.486255",
     "status": "completed"
    },
    "tags": []
   },
   "outputs": [
    {
     "name": "stdout",
     "output_type": "stream",
     "text": [
      "7/7 [==============================] - 32s 4s/step\n",
      "              precision    recall  f1-score   support\n",
      "\n",
      "           0       1.00      0.29      0.45        24\n",
      "           1       0.94      0.90      0.92       112\n",
      "           2       0.75      0.94      0.83        83\n",
      "\n",
      "    accuracy                           0.85       219\n",
      "   macro avg       0.90      0.71      0.73       219\n",
      "weighted avg       0.87      0.85      0.84       219\n",
      "\n"
     ]
    }
   ],
   "source": [
    "# Load the test dataset\n",
    "X_test, y_test = [], []\n",
    "for i in range(len(validation_generator)):\n",
    "    batch_X, batch_y = validation_generator[i]\n",
    "    X_test.append(batch_X)\n",
    "    y_test.append(batch_y)\n",
    "X_test = np.concatenate(X_test)\n",
    "y_test = np.concatenate(y_test)\n",
    "\n",
    "# Make predictions on the test set\n",
    "y_pred = model.predict(X_test)\n",
    "\n",
    "# Convert the one-hot encoded predictions to class labels\n",
    "y_pred_classes = np.argmax(y_pred, axis=1)\n",
    "\n",
    "# Convert the one-hot encoded true labels to class labels\n",
    "y_true_classes = np.argmax(y_test, axis=1)\n",
    "\n",
    "# Create a classification report\n",
    "report = classification_report(y_true_classes, y_pred_classes)\n",
    "\n",
    "print(report)"
   ]
  },
  {
   "cell_type": "code",
   "execution_count": 31,
   "id": "349d9bd0",
   "metadata": {
    "execution": {
     "iopub.execute_input": "2025-01-01T10:16:12.988321Z",
     "iopub.status.busy": "2025-01-01T10:16:12.988032Z",
     "iopub.status.idle": "2025-01-01T10:16:13.250224Z",
     "shell.execute_reply": "2025-01-01T10:16:13.249396Z"
    },
    "id": "1oDQrOfqpz_i",
    "outputId": "d5668cc9-77de-4b0a-d85d-0f88316a1eb9",
    "papermill": {
     "duration": 0.318268,
     "end_time": "2025-01-01T10:16:13.251588",
     "exception": false,
     "start_time": "2025-01-01T10:16:12.933320",
     "status": "completed"
    },
    "tags": []
   },
   "outputs": [
    {
     "data": {
      "image/png": "[encoded data removed]",
      "text/plain": [
       "<Figure size 800x600 with 2 Axes>"
      ]
     },
     "metadata": {},
     "output_type": "display_data"
    }
   ],
   "source": [
    "# Correct the variable names\n",
    "cm = confusion_matrix(y_true_classes, y_pred_classes)\n",
    "\n",
    "# Plot the confusion matrix\n",
    "class_names = ['benign', 'malignant', 'normal']\n",
    "\n",
    "plt.figure(figsize=(8, 6))\n",
    "sns.heatmap(cm, annot=True, fmt='d', cmap='Blues', xticklabels=class_names, yticklabels=class_names)\n",
    "plt.xlabel('Predicted')\n",
    "plt.ylabel('True')\n",
    "plt.title('Confusion Matrix')\n",
    "plt.show()"
   ]
  }
 ],
 "metadata": {
  "accelerator": "GPU",
  "colab": {
   "gpuType": "T4",
   "provenance": []
  },
  "kaggle": {
   "accelerator": "gpu",
   "dataSources": [
    {
     "datasetId": 6403482,
     "sourceId": 10341051,
     "sourceType": "datasetVersion"
    }
   ],
   "dockerImageVersionId": 30823,
   "isGpuEnabled": true,
   "isInternetEnabled": true,
   "language": "python",
   "sourceType": "notebook"
  },
  "kernelspec": {
   "display_name": "Python 3",
   "language": "python",
   "name": "python3"
  },
  "language_info": {
   "codemirror_mode": {
    "name": "ipython",
    "version": 3
   },
   "file_extension": ".py",
   "mimetype": "text/x-python",
   "name": "python",
   "nbconvert_exporter": "python",
   "pygments_lexer": "ipython3",
   "version": "3.10.12"
  },
  "papermill": {
   "default_parameters": {},
   "duration": 4403.389808,
   "end_time": "2025-01-01T10:16:16.516601",
   "environment_variables": {},
   "exception": null,
   "input_path": "__notebook__.ipynb",
   "output_path": "__notebook__.ipynb",
   "parameters": {},
   "start_time": "2025-01-01T09:02:53.126793",
   "version": "2.6.0"
  }
 },
 "nbformat": 4,
 "nbformat_minor": 5
}
