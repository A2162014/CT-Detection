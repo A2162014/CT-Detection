{
 "cells": [
  {
   "cell_type": "code",
   "execution_count": 1,
   "id": "485399c8",
   "metadata": {
    "execution": {
     "iopub.execute_input": "2024-12-27T06:18:35.245565Z",
     "iopub.status.busy": "2024-12-27T06:18:35.245197Z",
     "iopub.status.idle": "2024-12-27T06:18:35.593418Z",
     "shell.execute_reply": "2024-12-27T06:18:35.592574Z"
    },
    "id": "vEOfs7HCDSNK",
    "outputId": "bd074747-44a5-45ca-fe66-3c826bd465d6",
    "papermill": {
     "duration": 0.355824,
     "end_time": "2024-12-27T06:18:35.595020",
     "exception": false,
     "start_time": "2024-12-27T06:18:35.239196",
     "status": "completed"
    },
    "tags": []
   },
   "outputs": [
    {
     "name": "stdout",
     "output_type": "stream",
     "text": [
      "The virtual environment was not created successfully because ensurepip is not\r\n",
      "available.  On Debian/Ubuntu systems, you need to install the python3-venv\r\n",
      "package using the following command.\r\n",
      "\r\n",
      "    apt install python3.10-venv\r\n",
      "\r\n",
      "You may need to use sudo with that command.  After installing the python3-venv\r\n",
      "package, recreate your virtual environment.\r\n",
      "\r\n",
      "Failing command: /kaggle/working/clean_env/bin/python3\r\n",
      "\r\n",
      "/bin/bash: line 1: clean_env/bin/activate: No such file or directory\r\n"
     ]
    }
   ],
   "source": [
    "!python3 -m venv clean_env\n",
    "!source clean_env/bin/activate  # Activate the environment"
   ]
  },
  {
   "cell_type": "code",
   "execution_count": 2,
   "id": "9f809fcb",
   "metadata": {
    "execution": {
     "iopub.execute_input": "2024-12-27T06:18:35.605219Z",
     "iopub.status.busy": "2024-12-27T06:18:35.604985Z",
     "iopub.status.idle": "2024-12-27T06:20:11.496618Z",
     "shell.execute_reply": "2024-12-27T06:20:11.495242Z"
    },
    "id": "ybL5Ldy84Ilt",
    "outputId": "e1dd61b9-614c-4540-8e43-d8f5d98e5dd2",
    "papermill": {
     "duration": 95.899634,
     "end_time": "2024-12-27T06:20:11.499598",
     "exception": false,
     "start_time": "2024-12-27T06:18:35.599964",
     "status": "completed"
    },
    "tags": []
   },
   "outputs": [
    {
     "name": "stdout",
     "output_type": "stream",
     "text": [
      "Found existing installation: tensorflow 2.17.0\r\n",
      "Uninstalling tensorflow-2.17.0:\r\n",
      "  Successfully uninstalled tensorflow-2.17.0\r\n",
      "\u001b[33mWARNING: Skipping tensorflow-addons as it is not installed.\u001b[0m\u001b[33m\r\n",
      "\u001b[0mFound existing installation: keras 3.4.1\r\n",
      "Uninstalling keras-3.4.1:\r\n",
      "  Successfully uninstalled keras-3.4.1\r\n",
      "Collecting tensorflow==2.9.0\r\n",
      "  Downloading tensorflow-2.9.0-cp310-cp310-manylinux_2_17_x86_64.manylinux2014_x86_64.whl.metadata (3.0 kB)\r\n",
      "Collecting keras==2.9.0\r\n",
      "  Downloading keras-2.9.0-py2.py3-none-any.whl.metadata (1.3 kB)\r\n",
      "Collecting tensorflow-addons==0.18.0\r\n",
      "  Downloading tensorflow_addons-0.18.0-cp310-cp310-manylinux_2_17_x86_64.manylinux2014_x86_64.whl.metadata (1.8 kB)\r\n",
      "Requirement already satisfied: absl-py>=1.0.0 in /usr/local/lib/python3.10/dist-packages (from tensorflow==2.9.0) (1.4.0)\r\n",
      "Requirement already satisfied: astunparse>=1.6.0 in /usr/local/lib/python3.10/dist-packages (from tensorflow==2.9.0) (1.6.3)\r\n",
      "Collecting flatbuffers<2,>=1.12 (from tensorflow==2.9.0)\r\n",
      "  Downloading flatbuffers-1.12-py2.py3-none-any.whl.metadata (872 bytes)\r\n",
      "Collecting gast<=0.4.0,>=0.2.1 (from tensorflow==2.9.0)\r\n",
      "  Downloading gast-0.4.0-py3-none-any.whl.metadata (1.1 kB)\r\n",
      "Requirement already satisfied: google-pasta>=0.1.1 in /usr/local/lib/python3.10/dist-packages (from tensorflow==2.9.0) (0.2.0)\r\n",
      "Requirement already satisfied: grpcio<2.0,>=1.24.3 in /usr/local/lib/python3.10/dist-packages (from tensorflow==2.9.0) (1.64.1)\r\n",
      "Requirement already satisfied: h5py>=2.9.0 in /usr/local/lib/python3.10/dist-packages (from tensorflow==2.9.0) (3.11.0)\r\n",
      "Collecting keras-preprocessing>=1.1.1 (from tensorflow==2.9.0)\r\n",
      "  Downloading Keras_Preprocessing-1.1.2-py2.py3-none-any.whl.metadata (1.9 kB)\r\n",
      "Requirement already satisfied: libclang>=13.0.0 in /usr/local/lib/python3.10/dist-packages (from tensorflow==2.9.0) (18.1.1)\r\n",
      "Requirement already satisfied: numpy>=1.20 in /usr/local/lib/python3.10/dist-packages (from tensorflow==2.9.0) (1.26.4)\r\n",
      "Requirement already satisfied: opt-einsum>=2.3.2 in /usr/local/lib/python3.10/dist-packages (from tensorflow==2.9.0) (3.3.0)\r\n",
      "Requirement already satisfied: packaging in /usr/local/lib/python3.10/dist-packages (from tensorflow==2.9.0) (24.1)\r\n",
      "Requirement already satisfied: protobuf>=3.9.2 in /usr/local/lib/python3.10/dist-packages (from tensorflow==2.9.0) (3.20.3)\r\n",
      "Requirement already satisfied: setuptools in /usr/local/lib/python3.10/dist-packages (from tensorflow==2.9.0) (71.0.4)\r\n",
      "Requirement already satisfied: six>=1.12.0 in /usr/local/lib/python3.10/dist-packages (from tensorflow==2.9.0) (1.16.0)\r\n",
      "Collecting tensorboard<2.10,>=2.9 (from tensorflow==2.9.0)\r\n",
      "  Downloading tensorboard-2.9.1-py3-none-any.whl.metadata (1.9 kB)\r\n",
      "Requirement already satisfied: tensorflow-io-gcs-filesystem>=0.23.1 in /usr/local/lib/python3.10/dist-packages (from tensorflow==2.9.0) (0.37.1)\r\n",
      "Collecting tensorflow-estimator<2.10.0,>=2.9.0rc0 (from tensorflow==2.9.0)\r\n",
      "  Downloading tensorflow_estimator-2.9.0-py2.py3-none-any.whl.metadata (1.3 kB)\r\n",
      "Requirement already satisfied: termcolor>=1.1.0 in /usr/local/lib/python3.10/dist-packages (from tensorflow==2.9.0) (2.4.0)\r\n",
      "Requirement already satisfied: typing-extensions>=3.6.6 in /usr/local/lib/python3.10/dist-packages (from tensorflow==2.9.0) (4.12.2)\r\n",
      "Requirement already satisfied: wrapt>=1.11.0 in /usr/local/lib/python3.10/dist-packages (from tensorflow==2.9.0) (1.16.0)\r\n",
      "Requirement already satisfied: typeguard>=2.7 in /usr/local/lib/python3.10/dist-packages (from tensorflow-addons==0.18.0) (4.3.0)\r\n",
      "Requirement already satisfied: wheel<1.0,>=0.23.0 in /usr/local/lib/python3.10/dist-packages (from astunparse>=1.6.0->tensorflow==2.9.0) (0.44.0)\r\n",
      "Requirement already satisfied: google-auth<3,>=1.6.3 in /usr/local/lib/python3.10/dist-packages (from tensorboard<2.10,>=2.9->tensorflow==2.9.0) (2.27.0)\r\n",
      "Collecting google-auth-oauthlib<0.5,>=0.4.1 (from tensorboard<2.10,>=2.9->tensorflow==2.9.0)\r\n",
      "  Downloading google_auth_oauthlib-0.4.6-py2.py3-none-any.whl.metadata (2.7 kB)\r\n",
      "Requirement already satisfied: markdown>=2.6.8 in /usr/local/lib/python3.10/dist-packages (from tensorboard<2.10,>=2.9->tensorflow==2.9.0) (3.7)\r\n",
      "Collecting protobuf>=3.9.2 (from tensorflow==2.9.0)\r\n",
      "  Downloading protobuf-3.19.6-cp310-cp310-manylinux_2_17_x86_64.manylinux2014_x86_64.whl.metadata (787 bytes)\r\n",
      "Requirement already satisfied: requests<3,>=2.21.0 in /usr/local/lib/python3.10/dist-packages (from tensorboard<2.10,>=2.9->tensorflow==2.9.0) (2.32.3)\r\n",
      "Collecting tensorboard-data-server<0.7.0,>=0.6.0 (from tensorboard<2.10,>=2.9->tensorflow==2.9.0)\r\n",
      "  Downloading tensorboard_data_server-0.6.1-py3-none-manylinux2010_x86_64.whl.metadata (1.1 kB)\r\n",
      "Collecting tensorboard-plugin-wit>=1.6.0 (from tensorboard<2.10,>=2.9->tensorflow==2.9.0)\r\n",
      "  Downloading tensorboard_plugin_wit-1.8.1-py3-none-any.whl.metadata (873 bytes)\r\n",
      "Requirement already satisfied: werkzeug>=1.0.1 in /usr/local/lib/python3.10/dist-packages (from tensorboard<2.10,>=2.9->tensorflow==2.9.0) (3.0.4)\r\n",
      "Requirement already satisfied: cachetools<6.0,>=2.0.0 in /usr/local/lib/python3.10/dist-packages (from google-auth<3,>=1.6.3->tensorboard<2.10,>=2.9->tensorflow==2.9.0) (5.5.0)\r\n",
      "Requirement already satisfied: pyasn1-modules>=0.2.1 in /usr/local/lib/python3.10/dist-packages (from google-auth<3,>=1.6.3->tensorboard<2.10,>=2.9->tensorflow==2.9.0) (0.4.1)\r\n",
      "Requirement already satisfied: rsa<5,>=3.1.4 in /usr/local/lib/python3.10/dist-packages (from google-auth<3,>=1.6.3->tensorboard<2.10,>=2.9->tensorflow==2.9.0) (4.9)\r\n",
      "Requirement already satisfied: requests-oauthlib>=0.7.0 in /usr/local/lib/python3.10/dist-packages (from google-auth-oauthlib<0.5,>=0.4.1->tensorboard<2.10,>=2.9->tensorflow==2.9.0) (1.3.1)\r\n",
      "Requirement already satisfied: charset-normalizer<4,>=2 in /usr/local/lib/python3.10/dist-packages (from requests<3,>=2.21.0->tensorboard<2.10,>=2.9->tensorflow==2.9.0) (3.3.2)\r\n",
      "Requirement already satisfied: idna<4,>=2.5 in /usr/local/lib/python3.10/dist-packages (from requests<3,>=2.21.0->tensorboard<2.10,>=2.9->tensorflow==2.9.0) (3.10)\r\n",
      "Requirement already satisfied: urllib3<3,>=1.21.1 in /usr/local/lib/python3.10/dist-packages (from requests<3,>=2.21.0->tensorboard<2.10,>=2.9->tensorflow==2.9.0) (2.2.3)\r\n",
      "Requirement already satisfied: certifi>=2017.4.17 in /usr/local/lib/python3.10/dist-packages (from requests<3,>=2.21.0->tensorboard<2.10,>=2.9->tensorflow==2.9.0) (2024.8.30)\r\n",
      "Requirement already satisfied: MarkupSafe>=2.1.1 in /usr/local/lib/python3.10/dist-packages (from werkzeug>=1.0.1->tensorboard<2.10,>=2.9->tensorflow==2.9.0) (2.1.5)\r\n",
      "Requirement already satisfied: pyasn1<0.7.0,>=0.4.6 in /usr/local/lib/python3.10/dist-packages (from pyasn1-modules>=0.2.1->google-auth<3,>=1.6.3->tensorboard<2.10,>=2.9->tensorflow==2.9.0) (0.6.1)\r\n",
      "Requirement already satisfied: oauthlib>=3.0.0 in /usr/local/lib/python3.10/dist-packages (from requests-oauthlib>=0.7.0->google-auth-oauthlib<0.5,>=0.4.1->tensorboard<2.10,>=2.9->tensorflow==2.9.0) (3.2.2)\r\n",
      "Downloading tensorflow-2.9.0-cp310-cp310-manylinux_2_17_x86_64.manylinux2014_x86_64.whl (511.7 MB)\r\n",
      "\u001b[2K   \u001b[90m━━━━━━━━━━━━━━━━━━━━━━━━━━━━━━━━━━━━━━━━\u001b[0m \u001b[32m511.7/511.7 MB\u001b[0m \u001b[31m1.9 MB/s\u001b[0m eta \u001b[36m0:00:00\u001b[0m\r\n",
      "\u001b[?25hDownloading keras-2.9.0-py2.py3-none-any.whl (1.6 MB)\r\n",
      "\u001b[2K   \u001b[90m━━━━━━━━━━━━━━━━━━━━━━━━━━━━━━━━━━━━━━━━\u001b[0m \u001b[32m1.6/1.6 MB\u001b[0m \u001b[31m1.4 MB/s\u001b[0m eta \u001b[36m0:00:00\u001b[0m\r\n",
      "\u001b[?25hDownloading tensorflow_addons-0.18.0-cp310-cp310-manylinux_2_17_x86_64.manylinux2014_x86_64.whl (1.1 MB)\r\n",
      "\u001b[2K   \u001b[90m━━━━━━━━━━━━━━━━━━━━━━━━━━━━━━━━━━━━━━━━\u001b[0m \u001b[32m1.1/1.1 MB\u001b[0m \u001b[31m54.8 MB/s\u001b[0m eta \u001b[36m0:00:00\u001b[0m\r\n",
      "\u001b[?25hDownloading flatbuffers-1.12-py2.py3-none-any.whl (15 kB)\r\n",
      "Downloading gast-0.4.0-py3-none-any.whl (9.8 kB)\r\n",
      "Downloading Keras_Preprocessing-1.1.2-py2.py3-none-any.whl (42 kB)\r\n",
      "\u001b[2K   \u001b[90m━━━━━━━━━━━━━━━━━━━━━━━━━━━━━━━━━━━━━━━━\u001b[0m \u001b[32m42.6/42.6 kB\u001b[0m \u001b[31m2.7 MB/s\u001b[0m eta \u001b[36m0:00:00\u001b[0m\r\n",
      "\u001b[?25hDownloading tensorboard-2.9.1-py3-none-any.whl (5.8 MB)\r\n",
      "\u001b[2K   \u001b[90m━━━━━━━━━━━━━━━━━━━━━━━━━━━━━━━━━━━━━━━━\u001b[0m \u001b[32m5.8/5.8 MB\u001b[0m \u001b[31m103.8 MB/s\u001b[0m eta \u001b[36m0:00:00\u001b[0m\r\n",
      "\u001b[?25hDownloading protobuf-3.19.6-cp310-cp310-manylinux_2_17_x86_64.manylinux2014_x86_64.whl (1.1 MB)\r\n",
      "\u001b[2K   \u001b[90m━━━━━━━━━━━━━━━━━━━━━━━━━━━━━━━━━━━━━━━━\u001b[0m \u001b[32m1.1/1.1 MB\u001b[0m \u001b[31m49.2 MB/s\u001b[0m eta \u001b[36m0:00:00\u001b[0m\r\n",
      "\u001b[?25hDownloading tensorflow_estimator-2.9.0-py2.py3-none-any.whl (438 kB)\r\n",
      "\u001b[2K   \u001b[90m━━━━━━━━━━━━━━━━━━━━━━━━━━━━━━━━━━━━━━━━\u001b[0m \u001b[32m438.7/438.7 kB\u001b[0m \u001b[31m25.9 MB/s\u001b[0m eta \u001b[36m0:00:00\u001b[0m\r\n",
      "\u001b[?25hDownloading google_auth_oauthlib-0.4.6-py2.py3-none-any.whl (18 kB)\r\n",
      "Downloading tensorboard_data_server-0.6.1-py3-none-manylinux2010_x86_64.whl (4.9 MB)\r\n",
      "\u001b[2K   \u001b[90m━━━━━━━━━━━━━━━━━━━━━━━━━━━━━━━━━━━━━━━━\u001b[0m \u001b[32m4.9/4.9 MB\u001b[0m \u001b[31m61.3 MB/s\u001b[0m eta \u001b[36m0:00:00\u001b[0m\r\n",
      "\u001b[?25hDownloading tensorboard_plugin_wit-1.8.1-py3-none-any.whl (781 kB)\r\n",
      "\u001b[2K   \u001b[90m━━━━━━━━━━━━━━━━━━━━━━━━━━━━━━━━━━━━━━━━\u001b[0m \u001b[32m781.3/781.3 kB\u001b[0m \u001b[31m46.9 MB/s\u001b[0m eta \u001b[36m0:00:00\u001b[0m\r\n",
      "\u001b[?25hInstalling collected packages: tensorboard-plugin-wit, keras, flatbuffers, tensorflow-estimator, tensorboard-data-server, protobuf, keras-preprocessing, gast, tensorflow-addons, google-auth-oauthlib, tensorboard, tensorflow\r\n",
      "  Attempting uninstall: flatbuffers\r\n",
      "    Found existing installation: flatbuffers 24.3.25\r\n",
      "    Uninstalling flatbuffers-24.3.25:\r\n",
      "      Successfully uninstalled flatbuffers-24.3.25\r\n",
      "  Attempting uninstall: tensorboard-data-server\r\n",
      "    Found existing installation: tensorboard-data-server 0.7.2\r\n",
      "    Uninstalling tensorboard-data-server-0.7.2:\r\n",
      "      Successfully uninstalled tensorboard-data-server-0.7.2\r\n",
      "  Attempting uninstall: protobuf\r\n",
      "    Found existing installation: protobuf 3.20.3\r\n",
      "    Uninstalling protobuf-3.20.3:\r\n",
      "      Successfully uninstalled protobuf-3.20.3\r\n",
      "  Attempting uninstall: gast\r\n",
      "    Found existing installation: gast 0.6.0\r\n",
      "    Uninstalling gast-0.6.0:\r\n",
      "      Successfully uninstalled gast-0.6.0\r\n",
      "  Attempting uninstall: google-auth-oauthlib\r\n",
      "    Found existing installation: google-auth-oauthlib 1.2.1\r\n",
      "    Uninstalling google-auth-oauthlib-1.2.1:\r\n",
      "      Successfully uninstalled google-auth-oauthlib-1.2.1\r\n",
      "  Attempting uninstall: tensorboard\r\n",
      "    Found existing installation: tensorboard 2.17.0\r\n",
      "    Uninstalling tensorboard-2.17.0:\r\n",
      "      Successfully uninstalled tensorboard-2.17.0\r\n",
      "\u001b[31mERROR: pip's dependency resolver does not currently take into account all the packages that are installed. This behaviour is the source of the following dependency conflicts.\r\n",
      "cudf-cu12 24.4.1 requires protobuf<5,>=3.20, but you have protobuf 3.19.6 which is incompatible.\r\n",
      "cudf-cu12 24.4.1 requires pyarrow<15.0.0a0,>=14.0.1, but you have pyarrow 18.1.0 which is incompatible.\r\n",
      "google-cloud-aiplatform 1.67.1 requires protobuf!=4.21.0,!=4.21.1,!=4.21.2,!=4.21.3,!=4.21.4,!=4.21.5,<6.0.0dev,>=3.20.2, but you have protobuf 3.19.6 which is incompatible.\r\n",
      "google-cloud-bigquery-connection 1.15.5 requires protobuf!=4.21.0,!=4.21.1,!=4.21.2,!=4.21.3,!=4.21.4,!=4.21.5,<6.0.0dev,>=3.20.2, but you have protobuf 3.19.6 which is incompatible.\r\n",
      "google-cloud-bigtable 2.26.0 requires google-api-core[grpc]<3.0.0dev,>=2.16.0, but you have google-api-core 1.34.1 which is incompatible.\r\n",
      "google-cloud-bigtable 2.26.0 requires protobuf!=4.21.0,!=4.21.1,!=4.21.2,!=4.21.3,!=4.21.4,!=4.21.5,<6.0.0dev,>=3.20.2, but you have protobuf 3.19.6 which is incompatible.\r\n",
      "google-cloud-functions 1.16.5 requires protobuf!=4.21.0,!=4.21.1,!=4.21.2,!=4.21.3,!=4.21.4,!=4.21.5,<6.0.0dev,>=3.20.2, but you have protobuf 3.19.6 which is incompatible.\r\n",
      "google-cloud-iam 2.15.2 requires protobuf!=4.21.0,!=4.21.1,!=4.21.2,!=4.21.3,!=4.21.4,!=4.21.5,<6.0.0dev,>=3.20.2, but you have protobuf 3.19.6 which is incompatible.\r\n",
      "google-cloud-language 2.13.4 requires protobuf!=4.21.0,!=4.21.1,!=4.21.2,!=4.21.3,!=4.21.4,!=4.21.5,<6.0.0dev,>=3.20.2, but you have protobuf 3.19.6 which is incompatible.\r\n",
      "google-cloud-pubsub 2.23.1 requires protobuf!=4.21.0,!=4.21.1,!=4.21.2,!=4.21.3,!=4.21.4,!=4.21.5,<6.0.0dev,>=3.20.2, but you have protobuf 3.19.6 which is incompatible.\r\n",
      "google-cloud-resource-manager 1.12.5 requires protobuf!=4.21.0,!=4.21.1,!=4.21.2,!=4.21.3,!=4.21.4,!=4.21.5,<6.0.0dev,>=3.20.2, but you have protobuf 3.19.6 which is incompatible.\r\n",
      "google-cloud-videointelligence 2.15.0 requires protobuf!=4.21.0,!=4.21.1,!=4.21.2,!=4.21.3,!=4.21.4,!=4.21.5,<6.0.0dev,>=3.20.2, but you have protobuf 3.19.6 which is incompatible.\r\n",
      "google-cloud-vision 3.9.0 requires protobuf!=4.21.0,!=4.21.1,!=4.21.2,!=4.21.3,!=4.21.4,!=4.21.5,<6.0.0dev,>=3.20.2, but you have protobuf 3.19.6 which is incompatible.\r\n",
      "googleapis-common-protos 1.65.0 requires protobuf!=3.20.0,!=3.20.1,!=4.21.1,!=4.21.2,!=4.21.3,!=4.21.4,!=4.21.5,<6.0.0.dev0,>=3.20.2, but you have protobuf 3.19.6 which is incompatible.\r\n",
      "grpc-google-iam-v1 0.13.1 requires protobuf!=4.21.1,!=4.21.2,!=4.21.3,!=4.21.4,!=4.21.5,<6.0.0dev,>=3.20.2, but you have protobuf 3.19.6 which is incompatible.\r\n",
      "onnx 1.17.0 requires protobuf>=3.20.2, but you have protobuf 3.19.6 which is incompatible.\r\n",
      "pandas-gbq 0.23.1 requires google-api-core<3.0.0dev,>=2.10.2, but you have google-api-core 1.34.1 which is incompatible.\r\n",
      "pandas-gbq 0.23.1 requires google-auth-oauthlib>=0.7.0, but you have google-auth-oauthlib 0.4.6 which is incompatible.\r\n",
      "tensorflow-datasets 4.9.6 requires protobuf>=3.20, but you have protobuf 3.19.6 which is incompatible.\r\n",
      "tensorflow-decision-forests 1.10.0 requires tensorflow==2.17.0, but you have tensorflow 2.9.0 which is incompatible.\r\n",
      "tensorflow-metadata 1.15.0 requires protobuf<4.21,>=3.20.3; python_version < \"3.11\", but you have protobuf 3.19.6 which is incompatible.\r\n",
      "tensorflow-text 2.17.0 requires tensorflow<2.18,>=2.17.0, but you have tensorflow 2.9.0 which is incompatible.\r\n",
      "tf-keras 2.17.0 requires tensorflow<2.18,>=2.17, but you have tensorflow 2.9.0 which is incompatible.\u001b[0m\u001b[31m\r\n",
      "\u001b[0mSuccessfully installed flatbuffers-1.12 gast-0.4.0 google-auth-oauthlib-0.4.6 keras-2.9.0 keras-preprocessing-1.1.2 protobuf-3.19.6 tensorboard-2.9.1 tensorboard-data-server-0.6.1 tensorboard-plugin-wit-1.8.1 tensorflow-2.9.0 tensorflow-addons-0.18.0 tensorflow-estimator-2.9.0\r\n"
     ]
    }
   ],
   "source": [
    "!pip uninstall tensorflow tensorflow-addons keras -y\n",
    "!pip install tensorflow==2.9.0 keras==2.9.0 tensorflow-addons==0.18.0\n"
   ]
  },
  {
   "cell_type": "code",
   "execution_count": 3,
   "id": "2ea4ac0e",
   "metadata": {
    "execution": {
     "iopub.execute_input": "2024-12-27T06:20:11.587158Z",
     "iopub.status.busy": "2024-12-27T06:20:11.586822Z",
     "iopub.status.idle": "2024-12-27T06:20:11.591303Z",
     "shell.execute_reply": "2024-12-27T06:20:11.590275Z"
    },
    "id": "GitBDng_36xV",
    "papermill": {
     "duration": 0.039487,
     "end_time": "2024-12-27T06:20:11.592867",
     "exception": false,
     "start_time": "2024-12-27T06:20:11.553380",
     "status": "completed"
    },
    "tags": []
   },
   "outputs": [],
   "source": [
    "import zipfile"
   ]
  },
  {
   "cell_type": "code",
   "execution_count": 4,
   "id": "79685ab7",
   "metadata": {
    "execution": {
     "iopub.execute_input": "2024-12-27T06:20:11.677835Z",
     "iopub.status.busy": "2024-12-27T06:20:11.677306Z",
     "iopub.status.idle": "2024-12-27T06:20:17.780221Z",
     "shell.execute_reply": "2024-12-27T06:20:17.779446Z"
    },
    "id": "z3FHA2tYbNfx",
    "papermill": {
     "duration": 6.152041,
     "end_time": "2024-12-27T06:20:17.781835",
     "exception": false,
     "start_time": "2024-12-27T06:20:11.629794",
     "status": "completed"
    },
    "tags": []
   },
   "outputs": [],
   "source": [
    "import zipfile\n",
    "import os\n",
    "import random\n",
    "import shutil\n",
    "import numpy as np\n",
    "import pandas as pd\n",
    "import matplotlib.pyplot as plt\n",
    "import seaborn as sns\n",
    "import skimage.io\n",
    "import keras.backend as K\n",
    "import tensorflow as tf\n",
    "import tensorflow_addons as tfa\n",
    "from tensorflow.keras.models import Sequential, Model\n",
    "from tensorflow.keras.applications import(InceptionV3, MobileNetV2, DenseNet121, ResNet50, EfficientNetV2B0, Xception)\n",
    "from tensorflow.keras.layers import (Conv2D, MaxPooling2D, Flatten, Dense, Dropout,BatchNormalization, Activation, GlobalAveragePooling2D,DepthwiseConv2D, Input, Add, Concatenate)\n",
    "from tensorflow.keras.optimizers import Adam\n",
    "from tensorflow.keras.losses import CategoricalCrossentropy\n",
    "from tensorflow.keras.preprocessing.image import ImageDataGenerator\n",
    "from tensorflow.keras.callbacks import ReduceLROnPlateau, ModelCheckpoint, EarlyStopping, LearningRateScheduler\n",
    "from sklearn.metrics import confusion_matrix, classification_report, accuracy_score\n",
    "from sklearn.model_selection import train_test_split\n",
    "from tensorflow.keras.utils import plot_model\n",
    "from IPython.display import Image\n"
   ]
  },
  {
   "cell_type": "markdown",
   "id": "10192db3",
   "metadata": {
    "id": "PO_UpS4vaBi8",
    "papermill": {
     "duration": 0.032241,
     "end_time": "2024-12-27T06:20:17.852196",
     "exception": false,
     "start_time": "2024-12-27T06:20:17.819955",
     "status": "completed"
    },
    "tags": []
   },
   "source": [
    "Try 3"
   ]
  },
  {
   "cell_type": "code",
   "execution_count": 5,
   "id": "c986ddfa",
   "metadata": {
    "execution": {
     "iopub.execute_input": "2024-12-27T06:20:17.917827Z",
     "iopub.status.busy": "2024-12-27T06:20:17.916980Z",
     "iopub.status.idle": "2024-12-27T06:20:17.921780Z",
     "shell.execute_reply": "2024-12-27T06:20:17.920932Z"
    },
    "id": "QyN8qV0huMwD",
    "papermill": {
     "duration": 0.03948,
     "end_time": "2024-12-27T06:20:17.923621",
     "exception": false,
     "start_time": "2024-12-27T06:20:17.884141",
     "status": "completed"
    },
    "tags": []
   },
   "outputs": [],
   "source": [
    "# zip_path = \"/content/drive/MyDrive/iq-oth.zip\"  # Path to the ZIP file\n",
    "# extracted_path = \"/content/chest_ctscan_images\"  # Path to extract the files\n",
    "# with zipfile.ZipFile(zip_path, 'r') as zip_ref:\n",
    "#     zip_ref.extractall(extracted_path)"
   ]
  },
  {
   "cell_type": "code",
   "execution_count": 6,
   "id": "f361ad4d",
   "metadata": {
    "execution": {
     "iopub.execute_input": "2024-12-27T06:20:17.989343Z",
     "iopub.status.busy": "2024-12-27T06:20:17.989007Z",
     "iopub.status.idle": "2024-12-27T06:20:17.992624Z",
     "shell.execute_reply": "2024-12-27T06:20:17.991778Z"
    },
    "id": "psN1jH926Z7t",
    "papermill": {
     "duration": 0.036096,
     "end_time": "2024-12-27T06:20:17.993964",
     "exception": false,
     "start_time": "2024-12-27T06:20:17.957868",
     "status": "completed"
    },
    "tags": []
   },
   "outputs": [],
   "source": [
    "main_dir = \"/kaggle/input/iq-oth/The IQ-OTHNCCD lung cancer dataset/The IQ-OTHNCCD lung cancer dataset\""
   ]
  },
  {
   "cell_type": "code",
   "execution_count": 7,
   "id": "a34e7208",
   "metadata": {
    "execution": {
     "iopub.execute_input": "2024-12-27T06:20:18.056537Z",
     "iopub.status.busy": "2024-12-27T06:20:18.056137Z",
     "iopub.status.idle": "2024-12-27T06:20:18.059898Z",
     "shell.execute_reply": "2024-12-27T06:20:18.059057Z"
    },
    "id": "TwEwT2nCuPYv",
    "papermill": {
     "duration": 0.03649,
     "end_time": "2024-12-27T06:20:18.061253",
     "exception": false,
     "start_time": "2024-12-27T06:20:18.024763",
     "status": "completed"
    },
    "tags": []
   },
   "outputs": [],
   "source": [
    "train_dir = \"/kaggle/working/ct-scan/train\"\n",
    "valid_dir = \"/kaggle/working/ct-scan/valid\"\n",
    "test_dir = \"/kaggle/working/ct-scan/test\""
   ]
  },
  {
   "cell_type": "code",
   "execution_count": 8,
   "id": "4098c468",
   "metadata": {
    "execution": {
     "iopub.execute_input": "2024-12-27T06:20:18.125026Z",
     "iopub.status.busy": "2024-12-27T06:20:18.124701Z",
     "iopub.status.idle": "2024-12-27T06:20:28.628200Z",
     "shell.execute_reply": "2024-12-27T06:20:28.627493Z"
    },
    "id": "cUjh_ksquT_w",
    "papermill": {
     "duration": 10.536844,
     "end_time": "2024-12-27T06:20:28.629678",
     "exception": false,
     "start_time": "2024-12-27T06:20:18.092834",
     "status": "completed"
    },
    "tags": []
   },
   "outputs": [],
   "source": [
    "def split_data(source_dir, train_dir, valid_dir, test_dir, train_ratio=0.7, valid_ratio=0.2, test_ratio=0.1):\n",
    "\n",
    "    for class_name in os.listdir(source_dir):\n",
    "        class_source_path = os.path.join(source_dir, class_name)\n",
    "        class_train_path = os.path.join(train_dir, class_name)\n",
    "        class_valid_path = os.path.join(valid_dir, class_name)\n",
    "        class_test_path = os.path.join(test_dir, class_name)\n",
    "\n",
    "        # Create subdirectories for each class if they don't exist\n",
    "        os.makedirs(class_train_path, exist_ok=True)\n",
    "        os.makedirs(class_valid_path, exist_ok=True)\n",
    "        os.makedirs(class_test_path, exist_ok=True)\n",
    "\n",
    "        all_files = os.listdir(class_source_path)\n",
    "        random.shuffle(all_files)  # Shuffle the files randomly\n",
    "\n",
    "        # Calculate split indices\n",
    "        train_end = int(len(all_files) * train_ratio)\n",
    "        valid_end = train_end + int(len(all_files) * valid_ratio)\n",
    "\n",
    "        # Split the files\n",
    "        train_files = all_files[:train_end]\n",
    "        valid_files = all_files[train_end:valid_end]\n",
    "        test_files = all_files[valid_end:]\n",
    "\n",
    "        # Move files to respective directories\n",
    "        for file in train_files:\n",
    "            shutil.copy(os.path.join(class_source_path, file), os.path.join(class_train_path, file))\n",
    "        for file in valid_files:\n",
    "            shutil.copy(os.path.join(class_source_path, file), os.path.join(class_valid_path, file))\n",
    "        for file in test_files:\n",
    "            shutil.copy(os.path.join(class_source_path, file), os.path.join(class_test_path, file))\n",
    "\n",
    "\n",
    "# Call the function to split the data\n",
    "split_data(main_dir, train_dir, valid_dir, test_dir)"
   ]
  },
  {
   "cell_type": "code",
   "execution_count": 9,
   "id": "cad58e68",
   "metadata": {
    "execution": {
     "iopub.execute_input": "2024-12-27T06:20:28.691783Z",
     "iopub.status.busy": "2024-12-27T06:20:28.691431Z",
     "iopub.status.idle": "2024-12-27T06:20:28.694866Z",
     "shell.execute_reply": "2024-12-27T06:20:28.694181Z"
    },
    "id": "OBHrYqxLuU5C",
    "papermill": {
     "duration": 0.035638,
     "end_time": "2024-12-27T06:20:28.696073",
     "exception": false,
     "start_time": "2024-12-27T06:20:28.660435",
     "status": "completed"
    },
    "tags": []
   },
   "outputs": [],
   "source": [
    "train_datagen = ImageDataGenerator(\n",
    "    # rescale=1.0/255,\n",
    "    # rotation_range=20,\n",
    "    # width_shift_range=0.2,\n",
    "    # height_shift_range=0.2,\n",
    "    # shear_range=0.2,\n",
    "    # zoom_range=0.2,\n",
    "    # horizontal_flip=True\n",
    ")"
   ]
  },
  {
   "cell_type": "code",
   "execution_count": 10,
   "id": "726a6188",
   "metadata": {
    "execution": {
     "iopub.execute_input": "2024-12-27T06:20:28.758590Z",
     "iopub.status.busy": "2024-12-27T06:20:28.758244Z",
     "iopub.status.idle": "2024-12-27T06:20:28.761564Z",
     "shell.execute_reply": "2024-12-27T06:20:28.760923Z"
    },
    "id": "5OZi-BPsuYkQ",
    "papermill": {
     "duration": 0.035834,
     "end_time": "2024-12-27T06:20:28.762785",
     "exception": false,
     "start_time": "2024-12-27T06:20:28.726951",
     "status": "completed"
    },
    "tags": []
   },
   "outputs": [],
   "source": [
    "valid_datagen = ImageDataGenerator()\n",
    "test_datagen = ImageDataGenerator()"
   ]
  },
  {
   "cell_type": "code",
   "execution_count": 11,
   "id": "3adeefa9",
   "metadata": {
    "execution": {
     "iopub.execute_input": "2024-12-27T06:20:28.825467Z",
     "iopub.status.busy": "2024-12-27T06:20:28.825124Z",
     "iopub.status.idle": "2024-12-27T06:20:28.844923Z",
     "shell.execute_reply": "2024-12-27T06:20:28.843880Z"
    },
    "id": "s58bw8FiuczT",
    "outputId": "7aadd13e-a4ca-42d6-c4e1-8a8c09885c90",
    "papermill": {
     "duration": 0.053092,
     "end_time": "2024-12-27T06:20:28.846403",
     "exception": false,
     "start_time": "2024-12-27T06:20:28.793311",
     "status": "completed"
    },
    "tags": []
   },
   "outputs": [
    {
     "name": "stdout",
     "output_type": "stream",
     "text": [
      "Found 767 images belonging to 3 classes.\n"
     ]
    }
   ],
   "source": [
    "train_generator = train_datagen.flow_from_directory(\n",
    "    train_dir,\n",
    "    target_size=(224,224),\n",
    "    batch_size=16,\n",
    "    class_mode='categorical'\n",
    ")"
   ]
  },
  {
   "cell_type": "code",
   "execution_count": 12,
   "id": "b25a7448",
   "metadata": {
    "execution": {
     "iopub.execute_input": "2024-12-27T06:20:28.910985Z",
     "iopub.status.busy": "2024-12-27T06:20:28.910637Z",
     "iopub.status.idle": "2024-12-27T06:20:28.921893Z",
     "shell.execute_reply": "2024-12-27T06:20:28.921132Z"
    },
    "id": "_VAT1nn6ufRV",
    "outputId": "e94fa4a2-fb97-4b45-9ffa-1de86e63561c",
    "papermill": {
     "duration": 0.044705,
     "end_time": "2024-12-27T06:20:28.923208",
     "exception": false,
     "start_time": "2024-12-27T06:20:28.878503",
     "status": "completed"
    },
    "tags": []
   },
   "outputs": [
    {
     "name": "stdout",
     "output_type": "stream",
     "text": [
      "Found 219 images belonging to 3 classes.\n"
     ]
    }
   ],
   "source": [
    "validation_generator = valid_datagen.flow_from_directory(\n",
    "    valid_dir,\n",
    "    target_size=(224,224),\n",
    "    batch_size=16,\n",
    "    class_mode='categorical'\n",
    ")"
   ]
  },
  {
   "cell_type": "code",
   "execution_count": 13,
   "id": "bfdc5733",
   "metadata": {
    "execution": {
     "iopub.execute_input": "2024-12-27T06:20:28.985626Z",
     "iopub.status.busy": "2024-12-27T06:20:28.985251Z",
     "iopub.status.idle": "2024-12-27T06:20:28.995349Z",
     "shell.execute_reply": "2024-12-27T06:20:28.994408Z"
    },
    "id": "79higThAuhq_",
    "outputId": "0195383a-337c-4a15-f3a4-1ae961e06629",
    "papermill": {
     "duration": 0.042607,
     "end_time": "2024-12-27T06:20:28.996705",
     "exception": false,
     "start_time": "2024-12-27T06:20:28.954098",
     "status": "completed"
    },
    "tags": []
   },
   "outputs": [
    {
     "name": "stdout",
     "output_type": "stream",
     "text": [
      "Found 111 images belonging to 3 classes.\n"
     ]
    }
   ],
   "source": [
    "test_generator = test_datagen.flow_from_directory(\n",
    "    test_dir,\n",
    "    target_size=(224,224),\n",
    "    batch_size=16,\n",
    "    class_mode='categorical'\n",
    ")"
   ]
  },
  {
   "cell_type": "code",
   "execution_count": 14,
   "id": "3c0a52e7",
   "metadata": {
    "execution": {
     "iopub.execute_input": "2024-12-27T06:20:29.059750Z",
     "iopub.status.busy": "2024-12-27T06:20:29.059395Z",
     "iopub.status.idle": "2024-12-27T06:20:29.063309Z",
     "shell.execute_reply": "2024-12-27T06:20:29.062487Z"
    },
    "id": "wJy_CEHicRgM",
    "papermill": {
     "duration": 0.036741,
     "end_time": "2024-12-27T06:20:29.064687",
     "exception": false,
     "start_time": "2024-12-27T06:20:29.027946",
     "status": "completed"
    },
    "tags": []
   },
   "outputs": [],
   "source": [
    "os.makedirs(test_dir, exist_ok=True)\n"
   ]
  },
  {
   "cell_type": "code",
   "execution_count": 15,
   "id": "23bf50d5",
   "metadata": {
    "execution": {
     "iopub.execute_input": "2024-12-27T06:20:29.127059Z",
     "iopub.status.busy": "2024-12-27T06:20:29.126763Z",
     "iopub.status.idle": "2024-12-27T06:20:29.131348Z",
     "shell.execute_reply": "2024-12-27T06:20:29.130462Z"
    },
    "id": "d4p9qKimcXnV",
    "outputId": "f03bfaf9-2fd8-470d-e955-f41f5a9dab9e",
    "papermill": {
     "duration": 0.036954,
     "end_time": "2024-12-27T06:20:29.132635",
     "exception": false,
     "start_time": "2024-12-27T06:20:29.095681",
     "status": "completed"
    },
    "tags": []
   },
   "outputs": [
    {
     "name": "stdout",
     "output_type": "stream",
     "text": [
      "Number of files in test directory: 3\n"
     ]
    }
   ],
   "source": [
    "# Example to list files in the test directory\n",
    "test_files = os.listdir(test_dir)\n",
    "print(\"Number of files in test directory:\", len(test_files))"
   ]
  },
  {
   "cell_type": "code",
   "execution_count": 16,
   "id": "67bb9508",
   "metadata": {
    "execution": {
     "iopub.execute_input": "2024-12-27T06:20:29.195896Z",
     "iopub.status.busy": "2024-12-27T06:20:29.195587Z",
     "iopub.status.idle": "2024-12-27T06:20:29.199941Z",
     "shell.execute_reply": "2024-12-27T06:20:29.199013Z"
    },
    "id": "gL6e9ixdcBKR",
    "outputId": "a8260ec8-6a70-4ef9-a8cb-b21399ad5a8d",
    "papermill": {
     "duration": 0.037522,
     "end_time": "2024-12-27T06:20:29.201307",
     "exception": false,
     "start_time": "2024-12-27T06:20:29.163785",
     "status": "completed"
    },
    "tags": []
   },
   "outputs": [
    {
     "name": "stdout",
     "output_type": "stream",
     "text": [
      "Test directory: /kaggle/working/ct-scan/test\n"
     ]
    }
   ],
   "source": [
    "print(\"Test directory:\", test_dir)\n"
   ]
  },
  {
   "cell_type": "code",
   "execution_count": 17,
   "id": "fa353e91",
   "metadata": {
    "execution": {
     "iopub.execute_input": "2024-12-27T06:20:29.263639Z",
     "iopub.status.busy": "2024-12-27T06:20:29.263265Z",
     "iopub.status.idle": "2024-12-27T06:20:29.267998Z",
     "shell.execute_reply": "2024-12-27T06:20:29.267192Z"
    },
    "id": "JVXysXnmD-9z",
    "papermill": {
     "duration": 0.037309,
     "end_time": "2024-12-27T06:20:29.269188",
     "exception": false,
     "start_time": "2024-12-27T06:20:29.231879",
     "status": "completed"
    },
    "tags": []
   },
   "outputs": [],
   "source": [
    "def f1_score(y_true, y_pred):\n",
    "    true_positives = K.sum(K.round(K.clip(y_true * y_pred, 0, 1)))\n",
    "    possible_positives = K.sum(K.round(K.clip(y_true, 0, 1)))\n",
    "    predicted_positives = K.sum(K.round(K.clip(y_pred, 0, 1)))\n",
    "    precision = true_positives / (predicted_positives + K.epsilon())\n",
    "    recall = true_positives / (possible_positives + K.epsilon())\n",
    "    f1_val = 2 * (precision * recall) / (precision + recall + K.epsilon())\n",
    "    return f1_val"
   ]
  },
  {
   "cell_type": "code",
   "execution_count": 18,
   "id": "2afa46a4",
   "metadata": {
    "execution": {
     "iopub.execute_input": "2024-12-27T06:20:29.332327Z",
     "iopub.status.busy": "2024-12-27T06:20:29.331989Z",
     "iopub.status.idle": "2024-12-27T06:20:29.755017Z",
     "shell.execute_reply": "2024-12-27T06:20:29.754302Z"
    },
    "id": "aJPN14HlEZe-",
    "papermill": {
     "duration": 0.456027,
     "end_time": "2024-12-27T06:20:29.756569",
     "exception": false,
     "start_time": "2024-12-27T06:20:29.300542",
     "status": "completed"
    },
    "tags": []
   },
   "outputs": [],
   "source": [
    "METRICS = [\n",
    "    tf.keras.metrics.CategoricalAccuracy(name='accuracy'),\n",
    "    tf.keras.metrics.Precision(name='precision'),\n",
    "    tf.keras.metrics.Recall(name='recall'),\n",
    "    tf.keras.metrics.AUC(name='auc'),\n",
    "    tfa.metrics.F1Score(num_classes=3, average=\"micro\", name='f1_score')\n",
    "]"
   ]
  },
  {
   "cell_type": "code",
   "execution_count": 19,
   "id": "1acb4863",
   "metadata": {
    "execution": {
     "iopub.execute_input": "2024-12-27T06:20:29.820057Z",
     "iopub.status.busy": "2024-12-27T06:20:29.819727Z",
     "iopub.status.idle": "2024-12-27T06:20:34.452158Z",
     "shell.execute_reply": "2024-12-27T06:20:34.451445Z"
    },
    "id": "3pu77guMwmjn",
    "outputId": "db96ba0b-7a93-4303-ca9c-96d5d0010d27",
    "papermill": {
     "duration": 4.665969,
     "end_time": "2024-12-27T06:20:34.453787",
     "exception": false,
     "start_time": "2024-12-27T06:20:29.787818",
     "status": "completed"
    },
    "tags": []
   },
   "outputs": [
    {
     "name": "stdout",
     "output_type": "stream",
     "text": [
      "Downloading data from https://storage.googleapis.com/tensorflow/keras-applications/inception_v3/inception_v3_weights_tf_dim_ordering_tf_kernels_notop.h5\n",
      "87910968/87910968 [==============================] - 3s 0us/step\n"
     ]
    }
   ],
   "source": [
    "base_model = tf.keras.applications.InceptionV3(input_shape=(224,224,3),include_top=False,weights=\"imagenet\")"
   ]
  },
  {
   "cell_type": "code",
   "execution_count": 20,
   "id": "37e37920",
   "metadata": {
    "execution": {
     "iopub.execute_input": "2024-12-27T06:20:34.565508Z",
     "iopub.status.busy": "2024-12-27T06:20:34.565165Z",
     "iopub.status.idle": "2024-12-27T06:20:34.568978Z",
     "shell.execute_reply": "2024-12-27T06:20:34.568319Z"
    },
    "id": "aSsNkIQCwpXA",
    "papermill": {
     "duration": 0.039039,
     "end_time": "2024-12-27T06:20:34.570301",
     "exception": false,
     "start_time": "2024-12-27T06:20:34.531262",
     "status": "completed"
    },
    "tags": []
   },
   "outputs": [],
   "source": [
    "total_layers = len(base_model.layers)"
   ]
  },
  {
   "cell_type": "code",
   "execution_count": 21,
   "id": "695bc572",
   "metadata": {
    "execution": {
     "iopub.execute_input": "2024-12-27T06:20:34.638863Z",
     "iopub.status.busy": "2024-12-27T06:20:34.638465Z",
     "iopub.status.idle": "2024-12-27T06:20:34.642188Z",
     "shell.execute_reply": "2024-12-27T06:20:34.641302Z"
    },
    "id": "Ff-9hCJ3wts6",
    "papermill": {
     "duration": 0.038356,
     "end_time": "2024-12-27T06:20:34.643430",
     "exception": false,
     "start_time": "2024-12-27T06:20:34.605074",
     "status": "completed"
    },
    "tags": []
   },
   "outputs": [],
   "source": [
    "num_layers_to_freeze = 0"
   ]
  },
  {
   "cell_type": "code",
   "execution_count": 22,
   "id": "a818aaf0",
   "metadata": {
    "execution": {
     "iopub.execute_input": "2024-12-27T06:20:34.710625Z",
     "iopub.status.busy": "2024-12-27T06:20:34.710253Z",
     "iopub.status.idle": "2024-12-27T06:20:34.714410Z",
     "shell.execute_reply": "2024-12-27T06:20:34.713561Z"
    },
    "id": "sKFHPjmTwu3K",
    "papermill": {
     "duration": 0.038975,
     "end_time": "2024-12-27T06:20:34.715755",
     "exception": false,
     "start_time": "2024-12-27T06:20:34.676780",
     "status": "completed"
    },
    "tags": []
   },
   "outputs": [],
   "source": [
    "for layer in base_model.layers[:num_layers_to_freeze]:\n",
    "    layer.trainable = True"
   ]
  },
  {
   "cell_type": "code",
   "execution_count": 23,
   "id": "88799c75",
   "metadata": {
    "execution": {
     "iopub.execute_input": "2024-12-27T06:20:34.783027Z",
     "iopub.status.busy": "2024-12-27T06:20:34.782700Z",
     "iopub.status.idle": "2024-12-27T06:20:34.821173Z",
     "shell.execute_reply": "2024-12-27T06:20:34.820200Z"
    },
    "id": "h7_3xPFowxTo",
    "outputId": "4df73297-1e89-4884-aaf0-4ec506792941",
    "papermill": {
     "duration": 0.074385,
     "end_time": "2024-12-27T06:20:34.823216",
     "exception": false,
     "start_time": "2024-12-27T06:20:34.748831",
     "status": "completed"
    },
    "tags": []
   },
   "outputs": [
    {
     "name": "stdout",
     "output_type": "stream",
     "text": [
      "Layer 0: input_1, Trainable: True\n",
      "Layer 1: conv2d, Trainable: True\n",
      "Layer 2: batch_normalization, Trainable: True\n",
      "Layer 3: activation, Trainable: True\n",
      "Layer 4: conv2d_1, Trainable: True\n",
      "Layer 5: batch_normalization_1, Trainable: True\n",
      "Layer 6: activation_1, Trainable: True\n",
      "Layer 7: conv2d_2, Trainable: True\n",
      "Layer 8: batch_normalization_2, Trainable: True\n",
      "Layer 9: activation_2, Trainable: True\n",
      "Layer 10: max_pooling2d, Trainable: True\n",
      "Layer 11: conv2d_3, Trainable: True\n",
      "Layer 12: batch_normalization_3, Trainable: True\n",
      "Layer 13: activation_3, Trainable: True\n",
      "Layer 14: conv2d_4, Trainable: True\n",
      "Layer 15: batch_normalization_4, Trainable: True\n",
      "Layer 16: activation_4, Trainable: True\n",
      "Layer 17: max_pooling2d_1, Trainable: True\n",
      "Layer 18: conv2d_8, Trainable: True\n",
      "Layer 19: batch_normalization_8, Trainable: True\n",
      "Layer 20: activation_8, Trainable: True\n",
      "Layer 21: conv2d_6, Trainable: True\n",
      "Layer 22: conv2d_9, Trainable: True\n",
      "Layer 23: batch_normalization_6, Trainable: True\n",
      "Layer 24: batch_normalization_9, Trainable: True\n",
      "Layer 25: activation_6, Trainable: True\n",
      "Layer 26: activation_9, Trainable: True\n",
      "Layer 27: average_pooling2d, Trainable: True\n",
      "Layer 28: conv2d_5, Trainable: True\n",
      "Layer 29: conv2d_7, Trainable: True\n",
      "Layer 30: conv2d_10, Trainable: True\n",
      "Layer 31: conv2d_11, Trainable: True\n",
      "Layer 32: batch_normalization_5, Trainable: True\n",
      "Layer 33: batch_normalization_7, Trainable: True\n",
      "Layer 34: batch_normalization_10, Trainable: True\n",
      "Layer 35: batch_normalization_11, Trainable: True\n",
      "Layer 36: activation_5, Trainable: True\n",
      "Layer 37: activation_7, Trainable: True\n",
      "Layer 38: activation_10, Trainable: True\n",
      "Layer 39: activation_11, Trainable: True\n",
      "Layer 40: mixed0, Trainable: True\n",
      "Layer 41: conv2d_15, Trainable: True\n",
      "Layer 42: batch_normalization_15, Trainable: True\n",
      "Layer 43: activation_15, Trainable: True\n",
      "Layer 44: conv2d_13, Trainable: True\n",
      "Layer 45: conv2d_16, Trainable: True\n",
      "Layer 46: batch_normalization_13, Trainable: True\n",
      "Layer 47: batch_normalization_16, Trainable: True\n",
      "Layer 48: activation_13, Trainable: True\n",
      "Layer 49: activation_16, Trainable: True\n",
      "Layer 50: average_pooling2d_1, Trainable: True\n",
      "Layer 51: conv2d_12, Trainable: True\n",
      "Layer 52: conv2d_14, Trainable: True\n",
      "Layer 53: conv2d_17, Trainable: True\n",
      "Layer 54: conv2d_18, Trainable: True\n",
      "Layer 55: batch_normalization_12, Trainable: True\n",
      "Layer 56: batch_normalization_14, Trainable: True\n",
      "Layer 57: batch_normalization_17, Trainable: True\n",
      "Layer 58: batch_normalization_18, Trainable: True\n",
      "Layer 59: activation_12, Trainable: True\n",
      "Layer 60: activation_14, Trainable: True\n",
      "Layer 61: activation_17, Trainable: True\n",
      "Layer 62: activation_18, Trainable: True\n",
      "Layer 63: mixed1, Trainable: True\n",
      "Layer 64: conv2d_22, Trainable: True\n",
      "Layer 65: batch_normalization_22, Trainable: True\n",
      "Layer 66: activation_22, Trainable: True\n",
      "Layer 67: conv2d_20, Trainable: True\n",
      "Layer 68: conv2d_23, Trainable: True\n",
      "Layer 69: batch_normalization_20, Trainable: True\n",
      "Layer 70: batch_normalization_23, Trainable: True\n",
      "Layer 71: activation_20, Trainable: True\n",
      "Layer 72: activation_23, Trainable: True\n",
      "Layer 73: average_pooling2d_2, Trainable: True\n",
      "Layer 74: conv2d_19, Trainable: True\n",
      "Layer 75: conv2d_21, Trainable: True\n",
      "Layer 76: conv2d_24, Trainable: True\n",
      "Layer 77: conv2d_25, Trainable: True\n",
      "Layer 78: batch_normalization_19, Trainable: True\n",
      "Layer 79: batch_normalization_21, Trainable: True\n",
      "Layer 80: batch_normalization_24, Trainable: True\n",
      "Layer 81: batch_normalization_25, Trainable: True\n",
      "Layer 82: activation_19, Trainable: True\n",
      "Layer 83: activation_21, Trainable: True\n",
      "Layer 84: activation_24, Trainable: True\n",
      "Layer 85: activation_25, Trainable: True\n",
      "Layer 86: mixed2, Trainable: True\n",
      "Layer 87: conv2d_27, Trainable: True\n",
      "Layer 88: batch_normalization_27, Trainable: True\n",
      "Layer 89: activation_27, Trainable: True\n",
      "Layer 90: conv2d_28, Trainable: True\n",
      "Layer 91: batch_normalization_28, Trainable: True\n",
      "Layer 92: activation_28, Trainable: True\n",
      "Layer 93: conv2d_26, Trainable: True\n",
      "Layer 94: conv2d_29, Trainable: True\n",
      "Layer 95: batch_normalization_26, Trainable: True\n",
      "Layer 96: batch_normalization_29, Trainable: True\n",
      "Layer 97: activation_26, Trainable: True\n",
      "Layer 98: activation_29, Trainable: True\n",
      "Layer 99: max_pooling2d_2, Trainable: True\n",
      "Layer 100: mixed3, Trainable: True\n",
      "Layer 101: conv2d_34, Trainable: True\n",
      "Layer 102: batch_normalization_34, Trainable: True\n",
      "Layer 103: activation_34, Trainable: True\n",
      "Layer 104: conv2d_35, Trainable: True\n",
      "Layer 105: batch_normalization_35, Trainable: True\n",
      "Layer 106: activation_35, Trainable: True\n",
      "Layer 107: conv2d_31, Trainable: True\n",
      "Layer 108: conv2d_36, Trainable: True\n",
      "Layer 109: batch_normalization_31, Trainable: True\n",
      "Layer 110: batch_normalization_36, Trainable: True\n",
      "Layer 111: activation_31, Trainable: True\n",
      "Layer 112: activation_36, Trainable: True\n",
      "Layer 113: conv2d_32, Trainable: True\n",
      "Layer 114: conv2d_37, Trainable: True\n",
      "Layer 115: batch_normalization_32, Trainable: True\n",
      "Layer 116: batch_normalization_37, Trainable: True\n",
      "Layer 117: activation_32, Trainable: True\n",
      "Layer 118: activation_37, Trainable: True\n",
      "Layer 119: average_pooling2d_3, Trainable: True\n",
      "Layer 120: conv2d_30, Trainable: True\n",
      "Layer 121: conv2d_33, Trainable: True\n",
      "Layer 122: conv2d_38, Trainable: True\n",
      "Layer 123: conv2d_39, Trainable: True\n",
      "Layer 124: batch_normalization_30, Trainable: True\n",
      "Layer 125: batch_normalization_33, Trainable: True\n",
      "Layer 126: batch_normalization_38, Trainable: True\n",
      "Layer 127: batch_normalization_39, Trainable: True\n",
      "Layer 128: activation_30, Trainable: True\n",
      "Layer 129: activation_33, Trainable: True\n",
      "Layer 130: activation_38, Trainable: True\n",
      "Layer 131: activation_39, Trainable: True\n",
      "Layer 132: mixed4, Trainable: True\n",
      "Layer 133: conv2d_44, Trainable: True\n",
      "Layer 134: batch_normalization_44, Trainable: True\n",
      "Layer 135: activation_44, Trainable: True\n",
      "Layer 136: conv2d_45, Trainable: True\n",
      "Layer 137: batch_normalization_45, Trainable: True\n",
      "Layer 138: activation_45, Trainable: True\n",
      "Layer 139: conv2d_41, Trainable: True\n",
      "Layer 140: conv2d_46, Trainable: True\n",
      "Layer 141: batch_normalization_41, Trainable: True\n",
      "Layer 142: batch_normalization_46, Trainable: True\n",
      "Layer 143: activation_41, Trainable: True\n",
      "Layer 144: activation_46, Trainable: True\n",
      "Layer 145: conv2d_42, Trainable: True\n",
      "Layer 146: conv2d_47, Trainable: True\n",
      "Layer 147: batch_normalization_42, Trainable: True\n",
      "Layer 148: batch_normalization_47, Trainable: True\n",
      "Layer 149: activation_42, Trainable: True\n",
      "Layer 150: activation_47, Trainable: True\n",
      "Layer 151: average_pooling2d_4, Trainable: True\n",
      "Layer 152: conv2d_40, Trainable: True\n",
      "Layer 153: conv2d_43, Trainable: True\n",
      "Layer 154: conv2d_48, Trainable: True\n",
      "Layer 155: conv2d_49, Trainable: True\n",
      "Layer 156: batch_normalization_40, Trainable: True\n",
      "Layer 157: batch_normalization_43, Trainable: True\n",
      "Layer 158: batch_normalization_48, Trainable: True\n",
      "Layer 159: batch_normalization_49, Trainable: True\n",
      "Layer 160: activation_40, Trainable: True\n",
      "Layer 161: activation_43, Trainable: True\n",
      "Layer 162: activation_48, Trainable: True\n",
      "Layer 163: activation_49, Trainable: True\n",
      "Layer 164: mixed5, Trainable: True\n",
      "Layer 165: conv2d_54, Trainable: True\n",
      "Layer 166: batch_normalization_54, Trainable: True\n",
      "Layer 167: activation_54, Trainable: True\n",
      "Layer 168: conv2d_55, Trainable: True\n",
      "Layer 169: batch_normalization_55, Trainable: True\n",
      "Layer 170: activation_55, Trainable: True\n",
      "Layer 171: conv2d_51, Trainable: True\n",
      "Layer 172: conv2d_56, Trainable: True\n",
      "Layer 173: batch_normalization_51, Trainable: True\n",
      "Layer 174: batch_normalization_56, Trainable: True\n",
      "Layer 175: activation_51, Trainable: True\n",
      "Layer 176: activation_56, Trainable: True\n",
      "Layer 177: conv2d_52, Trainable: True\n",
      "Layer 178: conv2d_57, Trainable: True\n",
      "Layer 179: batch_normalization_52, Trainable: True\n",
      "Layer 180: batch_normalization_57, Trainable: True\n",
      "Layer 181: activation_52, Trainable: True\n",
      "Layer 182: activation_57, Trainable: True\n",
      "Layer 183: average_pooling2d_5, Trainable: True\n",
      "Layer 184: conv2d_50, Trainable: True\n",
      "Layer 185: conv2d_53, Trainable: True\n",
      "Layer 186: conv2d_58, Trainable: True\n",
      "Layer 187: conv2d_59, Trainable: True\n",
      "Layer 188: batch_normalization_50, Trainable: True\n",
      "Layer 189: batch_normalization_53, Trainable: True\n",
      "Layer 190: batch_normalization_58, Trainable: True\n",
      "Layer 191: batch_normalization_59, Trainable: True\n",
      "Layer 192: activation_50, Trainable: True\n",
      "Layer 193: activation_53, Trainable: True\n",
      "Layer 194: activation_58, Trainable: True\n",
      "Layer 195: activation_59, Trainable: True\n",
      "Layer 196: mixed6, Trainable: True\n",
      "Layer 197: conv2d_64, Trainable: True\n",
      "Layer 198: batch_normalization_64, Trainable: True\n",
      "Layer 199: activation_64, Trainable: True\n",
      "Layer 200: conv2d_65, Trainable: True\n",
      "Layer 201: batch_normalization_65, Trainable: True\n",
      "Layer 202: activation_65, Trainable: True\n",
      "Layer 203: conv2d_61, Trainable: True\n",
      "Layer 204: conv2d_66, Trainable: True\n",
      "Layer 205: batch_normalization_61, Trainable: True\n",
      "Layer 206: batch_normalization_66, Trainable: True\n",
      "Layer 207: activation_61, Trainable: True\n",
      "Layer 208: activation_66, Trainable: True\n",
      "Layer 209: conv2d_62, Trainable: True\n",
      "Layer 210: conv2d_67, Trainable: True\n",
      "Layer 211: batch_normalization_62, Trainable: True\n",
      "Layer 212: batch_normalization_67, Trainable: True\n",
      "Layer 213: activation_62, Trainable: True\n",
      "Layer 214: activation_67, Trainable: True\n",
      "Layer 215: average_pooling2d_6, Trainable: True\n",
      "Layer 216: conv2d_60, Trainable: True\n",
      "Layer 217: conv2d_63, Trainable: True\n",
      "Layer 218: conv2d_68, Trainable: True\n",
      "Layer 219: conv2d_69, Trainable: True\n",
      "Layer 220: batch_normalization_60, Trainable: True\n",
      "Layer 221: batch_normalization_63, Trainable: True\n",
      "Layer 222: batch_normalization_68, Trainable: True\n",
      "Layer 223: batch_normalization_69, Trainable: True\n",
      "Layer 224: activation_60, Trainable: True\n",
      "Layer 225: activation_63, Trainable: True\n",
      "Layer 226: activation_68, Trainable: True\n",
      "Layer 227: activation_69, Trainable: True\n",
      "Layer 228: mixed7, Trainable: True\n",
      "Layer 229: conv2d_72, Trainable: True\n",
      "Layer 230: batch_normalization_72, Trainable: True\n",
      "Layer 231: activation_72, Trainable: True\n",
      "Layer 232: conv2d_73, Trainable: True\n",
      "Layer 233: batch_normalization_73, Trainable: True\n",
      "Layer 234: activation_73, Trainable: True\n",
      "Layer 235: conv2d_70, Trainable: True\n",
      "Layer 236: conv2d_74, Trainable: True\n",
      "Layer 237: batch_normalization_70, Trainable: True\n",
      "Layer 238: batch_normalization_74, Trainable: True\n",
      "Layer 239: activation_70, Trainable: True\n",
      "Layer 240: activation_74, Trainable: True\n",
      "Layer 241: conv2d_71, Trainable: True\n",
      "Layer 242: conv2d_75, Trainable: True\n",
      "Layer 243: batch_normalization_71, Trainable: True\n",
      "Layer 244: batch_normalization_75, Trainable: True\n",
      "Layer 245: activation_71, Trainable: True\n",
      "Layer 246: activation_75, Trainable: True\n",
      "Layer 247: max_pooling2d_3, Trainable: True\n",
      "Layer 248: mixed8, Trainable: True\n",
      "Layer 249: conv2d_80, Trainable: True\n",
      "Layer 250: batch_normalization_80, Trainable: True\n",
      "Layer 251: activation_80, Trainable: True\n",
      "Layer 252: conv2d_77, Trainable: True\n",
      "Layer 253: conv2d_81, Trainable: True\n",
      "Layer 254: batch_normalization_77, Trainable: True\n",
      "Layer 255: batch_normalization_81, Trainable: True\n",
      "Layer 256: activation_77, Trainable: True\n",
      "Layer 257: activation_81, Trainable: True\n",
      "Layer 258: conv2d_78, Trainable: True\n",
      "Layer 259: conv2d_79, Trainable: True\n",
      "Layer 260: conv2d_82, Trainable: True\n",
      "Layer 261: conv2d_83, Trainable: True\n",
      "Layer 262: average_pooling2d_7, Trainable: True\n",
      "Layer 263: conv2d_76, Trainable: True\n",
      "Layer 264: batch_normalization_78, Trainable: True\n",
      "Layer 265: batch_normalization_79, Trainable: True\n",
      "Layer 266: batch_normalization_82, Trainable: True\n",
      "Layer 267: batch_normalization_83, Trainable: True\n",
      "Layer 268: conv2d_84, Trainable: True\n",
      "Layer 269: batch_normalization_76, Trainable: True\n",
      "Layer 270: activation_78, Trainable: True\n",
      "Layer 271: activation_79, Trainable: True\n",
      "Layer 272: activation_82, Trainable: True\n",
      "Layer 273: activation_83, Trainable: True\n",
      "Layer 274: batch_normalization_84, Trainable: True\n",
      "Layer 275: activation_76, Trainable: True\n",
      "Layer 276: mixed9_0, Trainable: True\n",
      "Layer 277: concatenate, Trainable: True\n",
      "Layer 278: activation_84, Trainable: True\n",
      "Layer 279: mixed9, Trainable: True\n",
      "Layer 280: conv2d_89, Trainable: True\n",
      "Layer 281: batch_normalization_89, Trainable: True\n",
      "Layer 282: activation_89, Trainable: True\n",
      "Layer 283: conv2d_86, Trainable: True\n",
      "Layer 284: conv2d_90, Trainable: True\n",
      "Layer 285: batch_normalization_86, Trainable: True\n",
      "Layer 286: batch_normalization_90, Trainable: True\n",
      "Layer 287: activation_86, Trainable: True\n",
      "Layer 288: activation_90, Trainable: True\n",
      "Layer 289: conv2d_87, Trainable: True\n",
      "Layer 290: conv2d_88, Trainable: True\n",
      "Layer 291: conv2d_91, Trainable: True\n",
      "Layer 292: conv2d_92, Trainable: True\n",
      "Layer 293: average_pooling2d_8, Trainable: True\n",
      "Layer 294: conv2d_85, Trainable: True\n",
      "Layer 295: batch_normalization_87, Trainable: True\n",
      "Layer 296: batch_normalization_88, Trainable: True\n",
      "Layer 297: batch_normalization_91, Trainable: True\n",
      "Layer 298: batch_normalization_92, Trainable: True\n",
      "Layer 299: conv2d_93, Trainable: True\n",
      "Layer 300: batch_normalization_85, Trainable: True\n",
      "Layer 301: activation_87, Trainable: True\n",
      "Layer 302: activation_88, Trainable: True\n",
      "Layer 303: activation_91, Trainable: True\n",
      "Layer 304: activation_92, Trainable: True\n",
      "Layer 305: batch_normalization_93, Trainable: True\n",
      "Layer 306: activation_85, Trainable: True\n",
      "Layer 307: mixed9_1, Trainable: True\n",
      "Layer 308: concatenate_1, Trainable: True\n",
      "Layer 309: activation_93, Trainable: True\n",
      "Layer 310: mixed10, Trainable: True\n"
     ]
    }
   ],
   "source": [
    "for i, layer in enumerate(base_model.layers):\n",
    "    print(f\"Layer {i}: {layer.name}, Trainable: {layer.trainable}\")"
   ]
  },
  {
   "cell_type": "code",
   "execution_count": 24,
   "id": "247d73d2",
   "metadata": {
    "execution": {
     "iopub.execute_input": "2024-12-27T06:20:34.892411Z",
     "iopub.status.busy": "2024-12-27T06:20:34.892112Z",
     "iopub.status.idle": "2024-12-27T06:20:35.639700Z",
     "shell.execute_reply": "2024-12-27T06:20:35.638832Z"
    },
    "id": "le6O7kGIw6h6",
    "outputId": "2817dbec-62eb-45cf-9994-5613dd869bd2",
    "papermill": {
     "duration": 0.783699,
     "end_time": "2024-12-27T06:20:35.641086",
     "exception": false,
     "start_time": "2024-12-27T06:20:34.857387",
     "status": "completed"
    },
    "tags": []
   },
   "outputs": [
    {
     "name": "stdout",
     "output_type": "stream",
     "text": [
      "Model: \"sequential\"\n",
      "_________________________________________________________________\n",
      " Layer (type)                Output Shape              Param #   \n",
      "=================================================================\n",
      " inception_v3 (Functional)   (None, 5, 5, 2048)        21802784  \n",
      "                                                                 \n",
      " flatten (Flatten)           (None, 51200)             0         \n",
      "                                                                 \n",
      " dense (Dense)               (None, 3)                 153603    \n",
      "                                                                 \n",
      "=================================================================\n",
      "Total params: 21,956,387\n",
      "Trainable params: 21,921,955\n",
      "Non-trainable params: 34,432\n",
      "_________________________________________________________________\n"
     ]
    }
   ],
   "source": [
    "model = Sequential([\n",
    "    base_model,\n",
    "    Flatten(),\n",
    "    Dense(3, activation='softmax')\n",
    "])\n",
    "model.summary()"
   ]
  },
  {
   "cell_type": "code",
   "execution_count": 25,
   "id": "d56d38f2",
   "metadata": {
    "execution": {
     "iopub.execute_input": "2024-12-27T06:20:35.711884Z",
     "iopub.status.busy": "2024-12-27T06:20:35.711507Z",
     "iopub.status.idle": "2024-12-27T06:20:35.949098Z",
     "shell.execute_reply": "2024-12-27T06:20:35.948202Z"
    },
    "id": "kIpnFMMF2scs",
    "outputId": "12ed09a6-e767-4211-daf8-ac45ffbaeca2",
    "papermill": {
     "duration": 0.274272,
     "end_time": "2024-12-27T06:20:35.950687",
     "exception": false,
     "start_time": "2024-12-27T06:20:35.676415",
     "status": "completed"
    },
    "tags": []
   },
   "outputs": [
    {
     "data": {
      "image/png": "[encoded data removed]",
      "text/plain": [
       "<IPython.core.display.Image object>"
      ]
     },
     "execution_count": 25,
     "metadata": {},
     "output_type": "execute_result"
    }
   ],
   "source": [
    "from tensorflow.keras.utils import plot_model\n",
    "from IPython.display import Image\n",
    "plot_model(model, to_file='convnet.png', show_shapes=True,show_layer_names=True)\n",
    "Image(filename='convnet.png')"
   ]
  },
  {
   "cell_type": "code",
   "execution_count": 26,
   "id": "350d9f55",
   "metadata": {
    "execution": {
     "iopub.execute_input": "2024-12-27T06:20:36.022450Z",
     "iopub.status.busy": "2024-12-27T06:20:36.022137Z",
     "iopub.status.idle": "2024-12-27T06:20:36.036899Z",
     "shell.execute_reply": "2024-12-27T06:20:36.036226Z"
    },
    "id": "CMtjjQwmaBjC",
    "papermill": {
     "duration": 0.051785,
     "end_time": "2024-12-27T06:20:36.038226",
     "exception": false,
     "start_time": "2024-12-27T06:20:35.986441",
     "status": "completed"
    },
    "tags": []
   },
   "outputs": [],
   "source": [
    "model.compile(\n",
    "    loss=\"categorical_crossentropy\",\n",
    "    optimizer=Adam(learning_rate=0.0005),\n",
    "    metrics=METRICS\n",
    ")"
   ]
  },
  {
   "cell_type": "code",
   "execution_count": 27,
   "id": "9486e8d4",
   "metadata": {
    "execution": {
     "iopub.execute_input": "2024-12-27T06:20:36.109082Z",
     "iopub.status.busy": "2024-12-27T06:20:36.108777Z",
     "iopub.status.idle": "2024-12-27T06:20:36.112563Z",
     "shell.execute_reply": "2024-12-27T06:20:36.111871Z"
    },
    "id": "9Zjmg5poaBjC",
    "papermill": {
     "duration": 0.040504,
     "end_time": "2024-12-27T06:20:36.113823",
     "exception": false,
     "start_time": "2024-12-27T06:20:36.073319",
     "status": "completed"
    },
    "tags": []
   },
   "outputs": [],
   "source": [
    "callbacks = [\n",
    "    ModelCheckpoint(\"best_model.keras\", monitor=\"val_accuracy\", save_best_only=True, verbose=1),\n",
    "    EarlyStopping(monitor=\"val_loss\", patience=5, verbose=1, restore_best_weights=True)\n",
    "]"
   ]
  },
  {
   "cell_type": "code",
   "execution_count": 28,
   "id": "f1b0ff13",
   "metadata": {
    "execution": {
     "iopub.execute_input": "2024-12-27T06:20:36.185111Z",
     "iopub.status.busy": "2024-12-27T06:20:36.184784Z",
     "iopub.status.idle": "2024-12-27T06:46:36.973622Z",
     "shell.execute_reply": "2024-12-27T06:46:36.972586Z"
    },
    "id": "zgcn2wlOaBjD",
    "outputId": "3847af9f-0cc6-453c-fdf3-9bf4f82c2f62",
    "papermill": {
     "duration": 1560.826336,
     "end_time": "2024-12-27T06:46:36.974937",
     "exception": false,
     "start_time": "2024-12-27T06:20:36.148601",
     "status": "completed"
    },
    "tags": []
   },
   "outputs": [
    {
     "name": "stdout",
     "output_type": "stream",
     "text": [
      "Epoch 1/35\n",
      "48/48 [==============================] - ETA: 0s - loss: 0.5794 - accuracy: 0.8318 - precision: 0.8448 - recall: 0.8162 - auc: 0.9449 - f1_score: 0.8318\n",
      "Epoch 1: val_accuracy improved from -inf to 0.51142, saving model to best_model.keras\n",
      "48/48 [==============================] - 157s 3s/step - loss: 0.5794 - accuracy: 0.8318 - precision: 0.8448 - recall: 0.8162 - auc: 0.9449 - f1_score: 0.8318 - val_loss: 1097.0762 - val_accuracy: 0.5114 - val_precision: 0.5114 - val_recall: 0.5114 - val_auc: 0.6336 - val_f1_score: 0.5114\n",
      "Epoch 2/35\n",
      "48/48 [==============================] - ETA: 0s - loss: 0.3532 - accuracy: 0.8735 - precision: 0.8880 - recall: 0.8475 - auc: 0.9704 - f1_score: 0.8735\n",
      "Epoch 2: val_accuracy improved from 0.51142 to 0.57078, saving model to best_model.keras\n",
      "48/48 [==============================] - 146s 3s/step - loss: 0.3532 - accuracy: 0.8735 - precision: 0.8880 - recall: 0.8475 - auc: 0.9704 - f1_score: 0.8735 - val_loss: 19561.3223 - val_accuracy: 0.5708 - val_precision: 0.5708 - val_recall: 0.5708 - val_auc: 0.6865 - val_f1_score: 0.5708\n",
      "Epoch 3/35\n",
      "48/48 [==============================] - ETA: 0s - loss: 0.1458 - accuracy: 0.9452 - precision: 0.9450 - recall: 0.9413 - auc: 0.9933 - f1_score: 0.9452\n",
      "Epoch 3: val_accuracy improved from 0.57078 to 0.91781, saving model to best_model.keras\n",
      "48/48 [==============================] - 139s 3s/step - loss: 0.1458 - accuracy: 0.9452 - precision: 0.9450 - recall: 0.9413 - auc: 0.9933 - f1_score: 0.9452 - val_loss: 1.1029 - val_accuracy: 0.9178 - val_precision: 0.9220 - val_recall: 0.9178 - val_auc: 0.9722 - val_f1_score: 0.9178\n",
      "Epoch 4/35\n",
      "48/48 [==============================] - ETA: 0s - loss: 0.1377 - accuracy: 0.9531 - precision: 0.9553 - recall: 0.9478 - auc: 0.9938 - f1_score: 0.9531\n",
      "Epoch 4: val_accuracy did not improve from 0.91781\n",
      "48/48 [==============================] - 137s 3s/step - loss: 0.1377 - accuracy: 0.9531 - precision: 0.9553 - recall: 0.9478 - auc: 0.9938 - f1_score: 0.9531 - val_loss: 0.2196 - val_accuracy: 0.9041 - val_precision: 0.9041 - val_recall: 0.9041 - val_auc: 0.9884 - val_f1_score: 0.9041\n",
      "Epoch 5/35\n",
      "48/48 [==============================] - ETA: 0s - loss: 0.0595 - accuracy: 0.9804 - precision: 0.9804 - recall: 0.9804 - auc: 0.9974 - f1_score: 0.9804\n",
      "Epoch 5: val_accuracy improved from 0.91781 to 0.92694, saving model to best_model.keras\n",
      "48/48 [==============================] - 139s 3s/step - loss: 0.0595 - accuracy: 0.9804 - precision: 0.9804 - recall: 0.9804 - auc: 0.9974 - f1_score: 0.9804 - val_loss: 0.3110 - val_accuracy: 0.9269 - val_precision: 0.9269 - val_recall: 0.9269 - val_auc: 0.9820 - val_f1_score: 0.9269\n",
      "Epoch 6/35\n",
      "48/48 [==============================] - ETA: 0s - loss: 0.0395 - accuracy: 0.9922 - precision: 0.9922 - recall: 0.9922 - auc: 0.9988 - f1_score: 0.9922\n",
      "Epoch 6: val_accuracy improved from 0.92694 to 0.96804, saving model to best_model.keras\n",
      "48/48 [==============================] - 138s 3s/step - loss: 0.0395 - accuracy: 0.9922 - precision: 0.9922 - recall: 0.9922 - auc: 0.9988 - f1_score: 0.9922 - val_loss: 0.0919 - val_accuracy: 0.9680 - val_precision: 0.9679 - val_recall: 0.9635 - val_auc: 0.9981 - val_f1_score: 0.9680\n",
      "Epoch 7/35\n",
      "48/48 [==============================] - ETA: 0s - loss: 0.0160 - accuracy: 0.9909 - precision: 0.9909 - recall: 0.9909 - auc: 0.9999 - f1_score: 0.9909\n",
      "Epoch 7: val_accuracy did not improve from 0.96804\n",
      "48/48 [==============================] - 140s 3s/step - loss: 0.0160 - accuracy: 0.9909 - precision: 0.9909 - recall: 0.9909 - auc: 0.9999 - f1_score: 0.9909 - val_loss: 0.2462 - val_accuracy: 0.9498 - val_precision: 0.9498 - val_recall: 0.9498 - val_auc: 0.9801 - val_f1_score: 0.9498\n",
      "Epoch 8/35\n",
      "48/48 [==============================] - ETA: 0s - loss: 0.0497 - accuracy: 0.9870 - precision: 0.9870 - recall: 0.9870 - auc: 0.9985 - f1_score: 0.9870\n",
      "Epoch 8: val_accuracy did not improve from 0.96804\n",
      "48/48 [==============================] - 139s 3s/step - loss: 0.0497 - accuracy: 0.9870 - precision: 0.9870 - recall: 0.9870 - auc: 0.9985 - f1_score: 0.9870 - val_loss: 0.1286 - val_accuracy: 0.9589 - val_precision: 0.9589 - val_recall: 0.9589 - val_auc: 0.9953 - val_f1_score: 0.9589\n",
      "Epoch 9/35\n",
      "48/48 [==============================] - ETA: 0s - loss: 0.0350 - accuracy: 0.9844 - precision: 0.9856 - recall: 0.9844 - auc: 0.9987 - f1_score: 0.9844\n",
      "Epoch 9: val_accuracy improved from 0.96804 to 0.97717, saving model to best_model.keras\n",
      "48/48 [==============================] - 141s 3s/step - loss: 0.0350 - accuracy: 0.9844 - precision: 0.9856 - recall: 0.9844 - auc: 0.9987 - f1_score: 0.9844 - val_loss: 0.1173 - val_accuracy: 0.9772 - val_precision: 0.9772 - val_recall: 0.9772 - val_auc: 0.9948 - val_f1_score: 0.9772\n",
      "Epoch 10/35\n",
      "48/48 [==============================] - ETA: 0s - loss: 0.0982 - accuracy: 0.9713 - precision: 0.9713 - recall: 0.9713 - auc: 0.9964 - f1_score: 0.9713\n",
      "Epoch 10: val_accuracy did not improve from 0.97717\n",
      "48/48 [==============================] - 144s 3s/step - loss: 0.0982 - accuracy: 0.9713 - precision: 0.9713 - recall: 0.9713 - auc: 0.9964 - f1_score: 0.9713 - val_loss: 0.7606 - val_accuracy: 0.8995 - val_precision: 0.8995 - val_recall: 0.8995 - val_auc: 0.9497 - val_f1_score: 0.8995\n",
      "Epoch 11/35\n",
      "48/48 [==============================] - ETA: 0s - loss: 0.0315 - accuracy: 0.9896 - precision: 0.9895 - recall: 0.9870 - auc: 0.9997 - f1_score: 0.9896\n",
      "Epoch 11: val_accuracy did not improve from 0.97717\n",
      "Restoring model weights from the end of the best epoch: 6.\n",
      "48/48 [==============================] - 140s 3s/step - loss: 0.0315 - accuracy: 0.9896 - precision: 0.9895 - recall: 0.9870 - auc: 0.9997 - f1_score: 0.9896 - val_loss: 0.1659 - val_accuracy: 0.9498 - val_precision: 0.9539 - val_recall: 0.9452 - val_auc: 0.9901 - val_f1_score: 0.9498\n",
      "Epoch 11: early stopping\n"
     ]
    }
   ],
   "source": [
    "history = model.fit(\n",
    "    train_generator,\n",
    "    validation_data=validation_generator,\n",
    "    epochs=35,\n",
    "    callbacks=callbacks,\n",
    "        verbose=1\n",
    "    #  , class_weight=class_weights\n",
    ")"
   ]
  },
  {
   "cell_type": "code",
   "execution_count": 29,
   "id": "c3b82c2d",
   "metadata": {
    "execution": {
     "iopub.execute_input": "2024-12-27T06:46:37.111359Z",
     "iopub.status.busy": "2024-12-27T06:46:37.111045Z",
     "iopub.status.idle": "2024-12-27T06:46:37.924242Z",
     "shell.execute_reply": "2024-12-27T06:46:37.923369Z"
    },
    "id": "kE8Q1PqGaBjD",
    "papermill": {
     "duration": 0.885944,
     "end_time": "2024-12-27T06:46:37.925500",
     "exception": false,
     "start_time": "2024-12-27T06:46:37.039556",
     "status": "completed"
    },
    "tags": []
   },
   "outputs": [
    {
     "data": {
      "image/png": "[encoded data removed]",
      "text/plain": [
       "<Figure size 2200x500 with 5 Axes>"
      ]
     },
     "metadata": {},
     "output_type": "display_data"
    }
   ],
   "source": [
    "def Train_Val_Plot(acc, val_acc, loss, val_loss, auc, val_auc, precision, val_precision, f1, val_f1):\n",
    "\n",
    "    fig, (ax1, ax2, ax3, ax4, ax5) = plt.subplots(1, 5, figsize=(22, 5))\n",
    "    fig.suptitle(\" MODEL'S METRICS VISUALIZATION \")\n",
    "\n",
    "    # Rescale the y-axis for accuracy, auc, precision, and f1\n",
    "    rescale_factor = 0  # Adjust this factor to control the rescaling\n",
    "\n",
    "    ax1.plot(range(1, len(acc) + 1), acc)\n",
    "    ax1.plot(range(1, len(val_acc) + 1), val_acc)\n",
    "    ax1.set_title('History of Accuracy')\n",
    "    ax1.set_xlabel('Epochs')\n",
    "    ax1.set_ylabel('Accuracy')\n",
    "    ax1.set_ylim([0, 1.0])\n",
    "    ax1.legend(['training', 'validation'])\n",
    "\n",
    "    ax2.plot(range(1, len(loss) + 1), loss)\n",
    "    ax2.plot(range(1, len(val_loss) + 1), val_loss)\n",
    "    ax2.set_title('History of Loss')\n",
    "    ax2.set_xlabel('Epochs')\n",
    "    ax2.set_ylabel('Loss')\n",
    "    ax2.legend(['training', 'validation'])\n",
    "\n",
    "    ax3.plot(range(1, len(auc) + 1), auc)\n",
    "    ax3.plot(range(1, len(val_auc) + 1), val_auc)\n",
    "    ax3.set_title('History of AUC')\n",
    "    ax3.set_xlabel('Epochs')\n",
    "    ax3.set_ylabel('AUC')\n",
    "    ax3.set_ylim([rescale_factor, 1.0])\n",
    "    ax3.legend(['training', 'validation'])\n",
    "\n",
    "    ax4.plot(range(1, len(precision) + 1), precision)\n",
    "    ax4.plot(range(1, len(val_precision) + 1), val_precision)\n",
    "    ax4.set_title('History of Precision')\n",
    "    ax4.set_xlabel('Epochs')\n",
    "    ax4.set_ylabel('Precision')\n",
    "    ax4.set_ylim([rescale_factor, 1.0])\n",
    "    ax4.legend(['training', 'validation'])\n",
    "\n",
    "    ax5.plot(range(1, len(f1) + 1), f1)\n",
    "    ax5.plot(range(1, len(val_f1) + 1), val_f1)\n",
    "    ax5.set_title('History of F1-score')\n",
    "    ax5.set_xlabel('Epochs')\n",
    "    ax5.set_ylabel('F1 score')\n",
    "    ax5.set_ylim([rescale_factor, 1.0])\n",
    "    ax5.legend(['training', 'validation'])\n",
    "\n",
    "    plt.show()\n",
    "\n",
    "# Example usage:\n",
    "Train_Val_Plot(history.history['accuracy'], history.history['val_accuracy'],\n",
    "               history.history['loss'], history.history['val_loss']\n",
    "               ,\n",
    "               history.history['auc'], history.history['val_auc'],\n",
    "               history.history['precision'], history.history['val_precision'],\n",
    "               history.history['f1_score'], history.history['val_f1_score'])\n"
   ]
  },
  {
   "cell_type": "code",
   "execution_count": 30,
   "id": "d7209dcf",
   "metadata": {
    "execution": {
     "iopub.execute_input": "2024-12-27T06:46:38.052065Z",
     "iopub.status.busy": "2024-12-27T06:46:38.051740Z",
     "iopub.status.idle": "2024-12-27T06:46:43.254079Z",
     "shell.execute_reply": "2024-12-27T06:46:43.253175Z"
    },
    "id": "utE8sko2aBjD",
    "papermill": {
     "duration": 5.266911,
     "end_time": "2024-12-27T06:46:43.255543",
     "exception": false,
     "start_time": "2024-12-27T06:46:37.988632",
     "status": "completed"
    },
    "tags": []
   },
   "outputs": [
    {
     "name": "stdout",
     "output_type": "stream",
     "text": [
      "7/7 [==============================] - 3s 459ms/step - loss: 0.1148 - accuracy: 0.9550 - precision: 0.9636 - recall: 0.9550 - auc: 0.9961 - f1_score: 0.9550\n"
     ]
    },
    {
     "data": {
      "text/plain": [
       "[0.11477755755186081,\n",
       " 0.954954981803894,\n",
       " 0.9636363387107849,\n",
       " 0.954954981803894,\n",
       " 0.9960839152336121,\n",
       " 0.954954981803894]"
      ]
     },
     "execution_count": 30,
     "metadata": {},
     "output_type": "execute_result"
    }
   ],
   "source": [
    "model.evaluate(test_generator)"
   ]
  },
  {
   "cell_type": "code",
   "execution_count": 31,
   "id": "991a37a0",
   "metadata": {
    "execution": {
     "iopub.execute_input": "2024-12-27T06:46:43.425306Z",
     "iopub.status.busy": "2024-12-27T06:46:43.425008Z",
     "iopub.status.idle": "2024-12-27T06:46:55.453667Z",
     "shell.execute_reply": "2024-12-27T06:46:55.452593Z"
    },
    "id": "z0kvictcppHg",
    "papermill": {
     "duration": 12.094685,
     "end_time": "2024-12-27T06:46:55.455270",
     "exception": false,
     "start_time": "2024-12-27T06:46:43.360585",
     "status": "completed"
    },
    "tags": []
   },
   "outputs": [
    {
     "name": "stdout",
     "output_type": "stream",
     "text": [
      "7/7 [==============================] - 8s 1s/step\n",
      "              precision    recall  f1-score   support\n",
      "\n",
      "           0       1.00      0.96      0.98        24\n",
      "           1       0.95      1.00      0.97       112\n",
      "           2       0.99      0.93      0.96        83\n",
      "\n",
      "    accuracy                           0.97       219\n",
      "   macro avg       0.98      0.96      0.97       219\n",
      "weighted avg       0.97      0.97      0.97       219\n",
      "\n"
     ]
    }
   ],
   "source": [
    "# Load the test dataset\n",
    "X_test, y_test = [], []\n",
    "for i in range(len(validation_generator)):\n",
    "    batch_X, batch_y = validation_generator[i]\n",
    "    X_test.append(batch_X)\n",
    "    y_test.append(batch_y)\n",
    "X_test = np.concatenate(X_test)\n",
    "y_test = np.concatenate(y_test)\n",
    "\n",
    "# Make predictions on the test set\n",
    "y_pred = model.predict(X_test)\n",
    "\n",
    "# Convert the one-hot encoded predictions to class labels\n",
    "y_pred_classes = np.argmax(y_pred, axis=1)\n",
    "\n",
    "# Convert the one-hot encoded true labels to class labels\n",
    "y_true_classes = np.argmax(y_test, axis=1)\n",
    "\n",
    "# Create a classification report\n",
    "report = classification_report(y_true_classes, y_pred_classes)\n",
    "\n",
    "print(report)"
   ]
  },
  {
   "cell_type": "code",
   "execution_count": 32,
   "id": "cb1b66cd",
   "metadata": {
    "execution": {
     "iopub.execute_input": "2024-12-27T06:46:55.585018Z",
     "iopub.status.busy": "2024-12-27T06:46:55.584708Z",
     "iopub.status.idle": "2024-12-27T06:46:55.842679Z",
     "shell.execute_reply": "2024-12-27T06:46:55.841787Z"
    },
    "id": "1oDQrOfqpz_i",
    "papermill": {
     "duration": 0.324298,
     "end_time": "2024-12-27T06:46:55.844033",
     "exception": false,
     "start_time": "2024-12-27T06:46:55.519735",
     "status": "completed"
    },
    "tags": []
   },
   "outputs": [
    {
     "data": {
      "image/png": "[encoded data removed]",
      "text/plain": [
       "<Figure size 800x600 with 2 Axes>"
      ]
     },
     "metadata": {},
     "output_type": "display_data"
    }
   ],
   "source": [
    "\n",
    "class_names = ['bengin', 'malignant', 'normal']\n",
    "# Create a confusion matrix\n",
    "cm = confusion_matrix(y_true_classes, y_pred_classes)\n",
    "\n",
    "# Plotting the Confusion Matrix\n",
    "plt.figure(figsize=(8, 6))\n",
    "sns.heatmap(cm, annot=True, fmt='d', cmap='Blues', xticklabels=class_names, yticklabels=class_names)\n",
    "plt.xlabel('Predicted')\n",
    "plt.ylabel('True')\n",
    "plt.title('Confusion Matrix')\n",
    "plt.show()\n"
   ]
  }
 ],
 "metadata": {
  "accelerator": "TPU",
  "colab": {
   "gpuType": "V28",
   "provenance": []
  },
  "kaggle": {
   "accelerator": "gpu",
   "dataSources": [
    {
     "datasetId": 6379787,
     "sourceId": 10306236,
     "sourceType": "datasetVersion"
    }
   ],
   "isGpuEnabled": true,
   "isInternetEnabled": true,
   "language": "python",
   "sourceType": "notebook"
  },
  "kernelspec": {
   "display_name": "Python 3",
   "name": "python3"
  },
  "language_info": {
   "codemirror_mode": {
    "name": "ipython",
    "version": 3
   },
   "file_extension": ".py",
   "mimetype": "text/x-python",
   "name": "python",
   "nbconvert_exporter": "python",
   "pygments_lexer": "ipython3",
   "version": "3.10.12"
  },
  "papermill": {
   "default_parameters": {},
   "duration": 1704.852199,
   "end_time": "2024-12-27T06:46:57.935145",
   "environment_variables": {},
   "exception": null,
   "input_path": "__notebook__.ipynb",
   "output_path": "__notebook__.ipynb",
   "parameters": {},
   "start_time": "2024-12-27T06:18:33.082946",
   "version": "2.6.0"
  }
 },
 "nbformat": 4,
 "nbformat_minor": 5
}
