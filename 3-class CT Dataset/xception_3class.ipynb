{
 "cells": [
  {
   "cell_type": "code",
   "execution_count": 1,
   "id": "8ad18217",
   "metadata": {
    "execution": {
     "iopub.execute_input": "2024-12-27T07:03:34.067052Z",
     "iopub.status.busy": "2024-12-27T07:03:34.066666Z",
     "iopub.status.idle": "2024-12-27T07:03:34.416205Z",
     "shell.execute_reply": "2024-12-27T07:03:34.415204Z"
    },
    "id": "vEOfs7HCDSNK",
    "outputId": "bd074747-44a5-45ca-fe66-3c826bd465d6",
    "papermill": {
     "duration": 0.357714,
     "end_time": "2024-12-27T07:03:34.418000",
     "exception": false,
     "start_time": "2024-12-27T07:03:34.060286",
     "status": "completed"
    },
    "tags": []
   },
   "outputs": [
    {
     "name": "stdout",
     "output_type": "stream",
     "text": [
      "The virtual environment was not created successfully because ensurepip is not\r\n",
      "available.  On Debian/Ubuntu systems, you need to install the python3-venv\r\n",
      "package using the following command.\r\n",
      "\r\n",
      "    apt install python3.10-venv\r\n",
      "\r\n",
      "You may need to use sudo with that command.  After installing the python3-venv\r\n",
      "package, recreate your virtual environment.\r\n",
      "\r\n",
      "Failing command: /kaggle/working/clean_env/bin/python3\r\n",
      "\r\n",
      "/bin/bash: line 1: clean_env/bin/activate: No such file or directory\r\n"
     ]
    }
   ],
   "source": [
    "!python3 -m venv clean_env\n",
    "!source clean_env/bin/activate  # Activate the environment"
   ]
  },
  {
   "cell_type": "code",
   "execution_count": 2,
   "id": "a16281c5",
   "metadata": {
    "execution": {
     "iopub.execute_input": "2024-12-27T07:03:34.428420Z",
     "iopub.status.busy": "2024-12-27T07:03:34.428136Z",
     "iopub.status.idle": "2024-12-27T07:04:50.779399Z",
     "shell.execute_reply": "2024-12-27T07:04:50.778264Z"
    },
    "id": "ybL5Ldy84Ilt",
    "outputId": "e1dd61b9-614c-4540-8e43-d8f5d98e5dd2",
    "papermill": {
     "duration": 76.358223,
     "end_time": "2024-12-27T07:04:50.781189",
     "exception": false,
     "start_time": "2024-12-27T07:03:34.422966",
     "status": "completed"
    },
    "tags": []
   },
   "outputs": [
    {
     "name": "stdout",
     "output_type": "stream",
     "text": [
      "Found existing installation: tensorflow 2.17.0\r\n",
      "Uninstalling tensorflow-2.17.0:\r\n",
      "  Successfully uninstalled tensorflow-2.17.0\r\n",
      "\u001b[33mWARNING: Skipping tensorflow-addons as it is not installed.\u001b[0m\u001b[33m\r\n",
      "\u001b[0mFound existing installation: keras 3.4.1\r\n",
      "Uninstalling keras-3.4.1:\r\n",
      "  Successfully uninstalled keras-3.4.1\r\n",
      "Collecting tensorflow==2.9.0\r\n",
      "  Downloading tensorflow-2.9.0-cp310-cp310-manylinux_2_17_x86_64.manylinux2014_x86_64.whl.metadata (3.0 kB)\r\n",
      "Collecting keras==2.9.0\r\n",
      "  Downloading keras-2.9.0-py2.py3-none-any.whl.metadata (1.3 kB)\r\n",
      "Collecting tensorflow-addons==0.18.0\r\n",
      "  Downloading tensorflow_addons-0.18.0-cp310-cp310-manylinux_2_17_x86_64.manylinux2014_x86_64.whl.metadata (1.8 kB)\r\n",
      "Requirement already satisfied: absl-py>=1.0.0 in /usr/local/lib/python3.10/dist-packages (from tensorflow==2.9.0) (1.4.0)\r\n",
      "Requirement already satisfied: astunparse>=1.6.0 in /usr/local/lib/python3.10/dist-packages (from tensorflow==2.9.0) (1.6.3)\r\n",
      "Collecting flatbuffers<2,>=1.12 (from tensorflow==2.9.0)\r\n",
      "  Downloading flatbuffers-1.12-py2.py3-none-any.whl.metadata (872 bytes)\r\n",
      "Collecting gast<=0.4.0,>=0.2.1 (from tensorflow==2.9.0)\r\n",
      "  Downloading gast-0.4.0-py3-none-any.whl.metadata (1.1 kB)\r\n",
      "Requirement already satisfied: google-pasta>=0.1.1 in /usr/local/lib/python3.10/dist-packages (from tensorflow==2.9.0) (0.2.0)\r\n",
      "Requirement already satisfied: grpcio<2.0,>=1.24.3 in /usr/local/lib/python3.10/dist-packages (from tensorflow==2.9.0) (1.64.1)\r\n",
      "Requirement already satisfied: h5py>=2.9.0 in /usr/local/lib/python3.10/dist-packages (from tensorflow==2.9.0) (3.11.0)\r\n",
      "Collecting keras-preprocessing>=1.1.1 (from tensorflow==2.9.0)\r\n",
      "  Downloading Keras_Preprocessing-1.1.2-py2.py3-none-any.whl.metadata (1.9 kB)\r\n",
      "Requirement already satisfied: libclang>=13.0.0 in /usr/local/lib/python3.10/dist-packages (from tensorflow==2.9.0) (18.1.1)\r\n",
      "Requirement already satisfied: numpy>=1.20 in /usr/local/lib/python3.10/dist-packages (from tensorflow==2.9.0) (1.26.4)\r\n",
      "Requirement already satisfied: opt-einsum>=2.3.2 in /usr/local/lib/python3.10/dist-packages (from tensorflow==2.9.0) (3.3.0)\r\n",
      "Requirement already satisfied: packaging in /usr/local/lib/python3.10/dist-packages (from tensorflow==2.9.0) (24.1)\r\n",
      "Requirement already satisfied: protobuf>=3.9.2 in /usr/local/lib/python3.10/dist-packages (from tensorflow==2.9.0) (3.20.3)\r\n",
      "Requirement already satisfied: setuptools in /usr/local/lib/python3.10/dist-packages (from tensorflow==2.9.0) (71.0.4)\r\n",
      "Requirement already satisfied: six>=1.12.0 in /usr/local/lib/python3.10/dist-packages (from tensorflow==2.9.0) (1.16.0)\r\n",
      "Collecting tensorboard<2.10,>=2.9 (from tensorflow==2.9.0)\r\n",
      "  Downloading tensorboard-2.9.1-py3-none-any.whl.metadata (1.9 kB)\r\n",
      "Requirement already satisfied: tensorflow-io-gcs-filesystem>=0.23.1 in /usr/local/lib/python3.10/dist-packages (from tensorflow==2.9.0) (0.37.1)\r\n",
      "Collecting tensorflow-estimator<2.10.0,>=2.9.0rc0 (from tensorflow==2.9.0)\r\n",
      "  Downloading tensorflow_estimator-2.9.0-py2.py3-none-any.whl.metadata (1.3 kB)\r\n",
      "Requirement already satisfied: termcolor>=1.1.0 in /usr/local/lib/python3.10/dist-packages (from tensorflow==2.9.0) (2.4.0)\r\n",
      "Requirement already satisfied: typing-extensions>=3.6.6 in /usr/local/lib/python3.10/dist-packages (from tensorflow==2.9.0) (4.12.2)\r\n",
      "Requirement already satisfied: wrapt>=1.11.0 in /usr/local/lib/python3.10/dist-packages (from tensorflow==2.9.0) (1.16.0)\r\n",
      "Requirement already satisfied: typeguard>=2.7 in /usr/local/lib/python3.10/dist-packages (from tensorflow-addons==0.18.0) (4.3.0)\r\n",
      "Requirement already satisfied: wheel<1.0,>=0.23.0 in /usr/local/lib/python3.10/dist-packages (from astunparse>=1.6.0->tensorflow==2.9.0) (0.44.0)\r\n",
      "Requirement already satisfied: google-auth<3,>=1.6.3 in /usr/local/lib/python3.10/dist-packages (from tensorboard<2.10,>=2.9->tensorflow==2.9.0) (2.27.0)\r\n",
      "Collecting google-auth-oauthlib<0.5,>=0.4.1 (from tensorboard<2.10,>=2.9->tensorflow==2.9.0)\r\n",
      "  Downloading google_auth_oauthlib-0.4.6-py2.py3-none-any.whl.metadata (2.7 kB)\r\n",
      "Requirement already satisfied: markdown>=2.6.8 in /usr/local/lib/python3.10/dist-packages (from tensorboard<2.10,>=2.9->tensorflow==2.9.0) (3.7)\r\n",
      "Collecting protobuf>=3.9.2 (from tensorflow==2.9.0)\r\n",
      "  Downloading protobuf-3.19.6-cp310-cp310-manylinux_2_17_x86_64.manylinux2014_x86_64.whl.metadata (787 bytes)\r\n",
      "Requirement already satisfied: requests<3,>=2.21.0 in /usr/local/lib/python3.10/dist-packages (from tensorboard<2.10,>=2.9->tensorflow==2.9.0) (2.32.3)\r\n",
      "Collecting tensorboard-data-server<0.7.0,>=0.6.0 (from tensorboard<2.10,>=2.9->tensorflow==2.9.0)\r\n",
      "  Downloading tensorboard_data_server-0.6.1-py3-none-manylinux2010_x86_64.whl.metadata (1.1 kB)\r\n",
      "Collecting tensorboard-plugin-wit>=1.6.0 (from tensorboard<2.10,>=2.9->tensorflow==2.9.0)\r\n",
      "  Downloading tensorboard_plugin_wit-1.8.1-py3-none-any.whl.metadata (873 bytes)\r\n",
      "Requirement already satisfied: werkzeug>=1.0.1 in /usr/local/lib/python3.10/dist-packages (from tensorboard<2.10,>=2.9->tensorflow==2.9.0) (3.0.4)\r\n",
      "Requirement already satisfied: cachetools<6.0,>=2.0.0 in /usr/local/lib/python3.10/dist-packages (from google-auth<3,>=1.6.3->tensorboard<2.10,>=2.9->tensorflow==2.9.0) (5.5.0)\r\n",
      "Requirement already satisfied: pyasn1-modules>=0.2.1 in /usr/local/lib/python3.10/dist-packages (from google-auth<3,>=1.6.3->tensorboard<2.10,>=2.9->tensorflow==2.9.0) (0.4.1)\r\n",
      "Requirement already satisfied: rsa<5,>=3.1.4 in /usr/local/lib/python3.10/dist-packages (from google-auth<3,>=1.6.3->tensorboard<2.10,>=2.9->tensorflow==2.9.0) (4.9)\r\n",
      "Requirement already satisfied: requests-oauthlib>=0.7.0 in /usr/local/lib/python3.10/dist-packages (from google-auth-oauthlib<0.5,>=0.4.1->tensorboard<2.10,>=2.9->tensorflow==2.9.0) (1.3.1)\r\n",
      "Requirement already satisfied: charset-normalizer<4,>=2 in /usr/local/lib/python3.10/dist-packages (from requests<3,>=2.21.0->tensorboard<2.10,>=2.9->tensorflow==2.9.0) (3.3.2)\r\n",
      "Requirement already satisfied: idna<4,>=2.5 in /usr/local/lib/python3.10/dist-packages (from requests<3,>=2.21.0->tensorboard<2.10,>=2.9->tensorflow==2.9.0) (3.10)\r\n",
      "Requirement already satisfied: urllib3<3,>=1.21.1 in /usr/local/lib/python3.10/dist-packages (from requests<3,>=2.21.0->tensorboard<2.10,>=2.9->tensorflow==2.9.0) (2.2.3)\r\n",
      "Requirement already satisfied: certifi>=2017.4.17 in /usr/local/lib/python3.10/dist-packages (from requests<3,>=2.21.0->tensorboard<2.10,>=2.9->tensorflow==2.9.0) (2024.8.30)\r\n",
      "Requirement already satisfied: MarkupSafe>=2.1.1 in /usr/local/lib/python3.10/dist-packages (from werkzeug>=1.0.1->tensorboard<2.10,>=2.9->tensorflow==2.9.0) (2.1.5)\r\n",
      "Requirement already satisfied: pyasn1<0.7.0,>=0.4.6 in /usr/local/lib/python3.10/dist-packages (from pyasn1-modules>=0.2.1->google-auth<3,>=1.6.3->tensorboard<2.10,>=2.9->tensorflow==2.9.0) (0.6.1)\r\n",
      "Requirement already satisfied: oauthlib>=3.0.0 in /usr/local/lib/python3.10/dist-packages (from requests-oauthlib>=0.7.0->google-auth-oauthlib<0.5,>=0.4.1->tensorboard<2.10,>=2.9->tensorflow==2.9.0) (3.2.2)\r\n",
      "Downloading tensorflow-2.9.0-cp310-cp310-manylinux_2_17_x86_64.manylinux2014_x86_64.whl (511.7 MB)\r\n",
      "\u001b[2K   \u001b[90m━━━━━━━━━━━━━━━━━━━━━━━━━━━━━━━━━━━━━━━━\u001b[0m \u001b[32m511.7/511.7 MB\u001b[0m \u001b[31m3.5 MB/s\u001b[0m eta \u001b[36m0:00:00\u001b[0m\r\n",
      "\u001b[?25hDownloading keras-2.9.0-py2.py3-none-any.whl (1.6 MB)\r\n",
      "\u001b[2K   \u001b[90m━━━━━━━━━━━━━━━━━━━━━━━━━━━━━━━━━━━━━━━━\u001b[0m \u001b[32m1.6/1.6 MB\u001b[0m \u001b[31m61.1 MB/s\u001b[0m eta \u001b[36m0:00:00\u001b[0m\r\n",
      "\u001b[?25hDownloading tensorflow_addons-0.18.0-cp310-cp310-manylinux_2_17_x86_64.manylinux2014_x86_64.whl (1.1 MB)\r\n",
      "\u001b[2K   \u001b[90m━━━━━━━━━━━━━━━━━━━━━━━━━━━━━━━━━━━━━━━━\u001b[0m \u001b[32m1.1/1.1 MB\u001b[0m \u001b[31m51.8 MB/s\u001b[0m eta \u001b[36m0:00:00\u001b[0m\r\n",
      "\u001b[?25hDownloading flatbuffers-1.12-py2.py3-none-any.whl (15 kB)\r\n",
      "Downloading gast-0.4.0-py3-none-any.whl (9.8 kB)\r\n",
      "Downloading Keras_Preprocessing-1.1.2-py2.py3-none-any.whl (42 kB)\r\n",
      "\u001b[2K   \u001b[90m━━━━━━━━━━━━━━━━━━━━━━━━━━━━━━━━━━━━━━━━\u001b[0m \u001b[32m42.6/42.6 kB\u001b[0m \u001b[31m2.6 MB/s\u001b[0m eta \u001b[36m0:00:00\u001b[0m\r\n",
      "\u001b[?25hDownloading tensorboard-2.9.1-py3-none-any.whl (5.8 MB)\r\n",
      "\u001b[2K   \u001b[90m━━━━━━━━━━━━━━━━━━━━━━━━━━━━━━━━━━━━━━━━\u001b[0m \u001b[32m5.8/5.8 MB\u001b[0m \u001b[31m72.0 MB/s\u001b[0m eta \u001b[36m0:00:00\u001b[0m\r\n",
      "\u001b[?25hDownloading protobuf-3.19.6-cp310-cp310-manylinux_2_17_x86_64.manylinux2014_x86_64.whl (1.1 MB)\r\n",
      "\u001b[2K   \u001b[90m━━━━━━━━━━━━━━━━━━━━━━━━━━━━━━━━━━━━━━━━\u001b[0m \u001b[32m1.1/1.1 MB\u001b[0m \u001b[31m49.0 MB/s\u001b[0m eta \u001b[36m0:00:00\u001b[0m\r\n",
      "\u001b[?25hDownloading tensorflow_estimator-2.9.0-py2.py3-none-any.whl (438 kB)\r\n",
      "\u001b[2K   \u001b[90m━━━━━━━━━━━━━━━━━━━━━━━━━━━━━━━━━━━━━━━━\u001b[0m \u001b[32m438.7/438.7 kB\u001b[0m \u001b[31m25.4 MB/s\u001b[0m eta \u001b[36m0:00:00\u001b[0m\r\n",
      "\u001b[?25hDownloading google_auth_oauthlib-0.4.6-py2.py3-none-any.whl (18 kB)\r\n",
      "Downloading tensorboard_data_server-0.6.1-py3-none-manylinux2010_x86_64.whl (4.9 MB)\r\n",
      "\u001b[2K   \u001b[90m━━━━━━━━━━━━━━━━━━━━━━━━━━━━━━━━━━━━━━━━\u001b[0m \u001b[32m4.9/4.9 MB\u001b[0m \u001b[31m93.3 MB/s\u001b[0m eta \u001b[36m0:00:00\u001b[0m\r\n",
      "\u001b[?25hDownloading tensorboard_plugin_wit-1.8.1-py3-none-any.whl (781 kB)\r\n",
      "\u001b[2K   \u001b[90m━━━━━━━━━━━━━━━━━━━━━━━━━━━━━━━━━━━━━━━━\u001b[0m \u001b[32m781.3/781.3 kB\u001b[0m \u001b[31m11.1 MB/s\u001b[0m eta \u001b[36m0:00:00\u001b[0m\r\n",
      "\u001b[?25hInstalling collected packages: tensorboard-plugin-wit, keras, flatbuffers, tensorflow-estimator, tensorboard-data-server, protobuf, keras-preprocessing, gast, tensorflow-addons, google-auth-oauthlib, tensorboard, tensorflow\r\n",
      "  Attempting uninstall: flatbuffers\r\n",
      "    Found existing installation: flatbuffers 24.3.25\r\n",
      "    Uninstalling flatbuffers-24.3.25:\r\n",
      "      Successfully uninstalled flatbuffers-24.3.25\r\n",
      "  Attempting uninstall: tensorboard-data-server\r\n",
      "    Found existing installation: tensorboard-data-server 0.7.2\r\n",
      "    Uninstalling tensorboard-data-server-0.7.2:\r\n",
      "      Successfully uninstalled tensorboard-data-server-0.7.2\r\n",
      "  Attempting uninstall: protobuf\r\n",
      "    Found existing installation: protobuf 3.20.3\r\n",
      "    Uninstalling protobuf-3.20.3:\r\n",
      "      Successfully uninstalled protobuf-3.20.3\r\n",
      "  Attempting uninstall: gast\r\n",
      "    Found existing installation: gast 0.6.0\r\n",
      "    Uninstalling gast-0.6.0:\r\n",
      "      Successfully uninstalled gast-0.6.0\r\n",
      "  Attempting uninstall: google-auth-oauthlib\r\n",
      "    Found existing installation: google-auth-oauthlib 1.2.1\r\n",
      "    Uninstalling google-auth-oauthlib-1.2.1:\r\n",
      "      Successfully uninstalled google-auth-oauthlib-1.2.1\r\n",
      "  Attempting uninstall: tensorboard\r\n",
      "    Found existing installation: tensorboard 2.17.0\r\n",
      "    Uninstalling tensorboard-2.17.0:\r\n",
      "      Successfully uninstalled tensorboard-2.17.0\r\n",
      "\u001b[31mERROR: pip's dependency resolver does not currently take into account all the packages that are installed. This behaviour is the source of the following dependency conflicts.\r\n",
      "cudf-cu12 24.4.1 requires protobuf<5,>=3.20, but you have protobuf 3.19.6 which is incompatible.\r\n",
      "cudf-cu12 24.4.1 requires pyarrow<15.0.0a0,>=14.0.1, but you have pyarrow 18.1.0 which is incompatible.\r\n",
      "google-cloud-aiplatform 1.67.1 requires protobuf!=4.21.0,!=4.21.1,!=4.21.2,!=4.21.3,!=4.21.4,!=4.21.5,<6.0.0dev,>=3.20.2, but you have protobuf 3.19.6 which is incompatible.\r\n",
      "google-cloud-bigquery-connection 1.15.5 requires protobuf!=4.21.0,!=4.21.1,!=4.21.2,!=4.21.3,!=4.21.4,!=4.21.5,<6.0.0dev,>=3.20.2, but you have protobuf 3.19.6 which is incompatible.\r\n",
      "google-cloud-bigtable 2.26.0 requires google-api-core[grpc]<3.0.0dev,>=2.16.0, but you have google-api-core 1.34.1 which is incompatible.\r\n",
      "google-cloud-bigtable 2.26.0 requires protobuf!=4.21.0,!=4.21.1,!=4.21.2,!=4.21.3,!=4.21.4,!=4.21.5,<6.0.0dev,>=3.20.2, but you have protobuf 3.19.6 which is incompatible.\r\n",
      "google-cloud-functions 1.16.5 requires protobuf!=4.21.0,!=4.21.1,!=4.21.2,!=4.21.3,!=4.21.4,!=4.21.5,<6.0.0dev,>=3.20.2, but you have protobuf 3.19.6 which is incompatible.\r\n",
      "google-cloud-iam 2.15.2 requires protobuf!=4.21.0,!=4.21.1,!=4.21.2,!=4.21.3,!=4.21.4,!=4.21.5,<6.0.0dev,>=3.20.2, but you have protobuf 3.19.6 which is incompatible.\r\n",
      "google-cloud-language 2.13.4 requires protobuf!=4.21.0,!=4.21.1,!=4.21.2,!=4.21.3,!=4.21.4,!=4.21.5,<6.0.0dev,>=3.20.2, but you have protobuf 3.19.6 which is incompatible.\r\n",
      "google-cloud-pubsub 2.23.1 requires protobuf!=4.21.0,!=4.21.1,!=4.21.2,!=4.21.3,!=4.21.4,!=4.21.5,<6.0.0dev,>=3.20.2, but you have protobuf 3.19.6 which is incompatible.\r\n",
      "google-cloud-resource-manager 1.12.5 requires protobuf!=4.21.0,!=4.21.1,!=4.21.2,!=4.21.3,!=4.21.4,!=4.21.5,<6.0.0dev,>=3.20.2, but you have protobuf 3.19.6 which is incompatible.\r\n",
      "google-cloud-videointelligence 2.15.0 requires protobuf!=4.21.0,!=4.21.1,!=4.21.2,!=4.21.3,!=4.21.4,!=4.21.5,<6.0.0dev,>=3.20.2, but you have protobuf 3.19.6 which is incompatible.\r\n",
      "google-cloud-vision 3.9.0 requires protobuf!=4.21.0,!=4.21.1,!=4.21.2,!=4.21.3,!=4.21.4,!=4.21.5,<6.0.0dev,>=3.20.2, but you have protobuf 3.19.6 which is incompatible.\r\n",
      "googleapis-common-protos 1.65.0 requires protobuf!=3.20.0,!=3.20.1,!=4.21.1,!=4.21.2,!=4.21.3,!=4.21.4,!=4.21.5,<6.0.0.dev0,>=3.20.2, but you have protobuf 3.19.6 which is incompatible.\r\n",
      "grpc-google-iam-v1 0.13.1 requires protobuf!=4.21.1,!=4.21.2,!=4.21.3,!=4.21.4,!=4.21.5,<6.0.0dev,>=3.20.2, but you have protobuf 3.19.6 which is incompatible.\r\n",
      "onnx 1.17.0 requires protobuf>=3.20.2, but you have protobuf 3.19.6 which is incompatible.\r\n",
      "pandas-gbq 0.23.1 requires google-api-core<3.0.0dev,>=2.10.2, but you have google-api-core 1.34.1 which is incompatible.\r\n",
      "pandas-gbq 0.23.1 requires google-auth-oauthlib>=0.7.0, but you have google-auth-oauthlib 0.4.6 which is incompatible.\r\n",
      "tensorflow-datasets 4.9.6 requires protobuf>=3.20, but you have protobuf 3.19.6 which is incompatible.\r\n",
      "tensorflow-decision-forests 1.10.0 requires tensorflow==2.17.0, but you have tensorflow 2.9.0 which is incompatible.\r\n",
      "tensorflow-metadata 1.15.0 requires protobuf<4.21,>=3.20.3; python_version < \"3.11\", but you have protobuf 3.19.6 which is incompatible.\r\n",
      "tensorflow-text 2.17.0 requires tensorflow<2.18,>=2.17.0, but you have tensorflow 2.9.0 which is incompatible.\r\n",
      "tf-keras 2.17.0 requires tensorflow<2.18,>=2.17, but you have tensorflow 2.9.0 which is incompatible.\u001b[0m\u001b[31m\r\n",
      "\u001b[0mSuccessfully installed flatbuffers-1.12 gast-0.4.0 google-auth-oauthlib-0.4.6 keras-2.9.0 keras-preprocessing-1.1.2 protobuf-3.19.6 tensorboard-2.9.1 tensorboard-data-server-0.6.1 tensorboard-plugin-wit-1.8.1 tensorflow-2.9.0 tensorflow-addons-0.18.0 tensorflow-estimator-2.9.0\r\n"
     ]
    }
   ],
   "source": [
    "!pip uninstall tensorflow tensorflow-addons keras -y\n",
    "!pip install tensorflow==2.9.0 keras==2.9.0 tensorflow-addons==0.18.0\n"
   ]
  },
  {
   "cell_type": "code",
   "execution_count": 3,
   "id": "72d9e8fc",
   "metadata": {
    "execution": {
     "iopub.execute_input": "2024-12-27T07:04:50.806289Z",
     "iopub.status.busy": "2024-12-27T07:04:50.806026Z",
     "iopub.status.idle": "2024-12-27T07:04:50.809663Z",
     "shell.execute_reply": "2024-12-27T07:04:50.808866Z"
    },
    "id": "GitBDng_36xV",
    "papermill": {
     "duration": 0.017288,
     "end_time": "2024-12-27T07:04:50.810848",
     "exception": false,
     "start_time": "2024-12-27T07:04:50.793560",
     "status": "completed"
    },
    "tags": []
   },
   "outputs": [],
   "source": [
    "import zipfile"
   ]
  },
  {
   "cell_type": "code",
   "execution_count": 4,
   "id": "f0b42c1e",
   "metadata": {
    "execution": {
     "iopub.execute_input": "2024-12-27T07:04:50.835886Z",
     "iopub.status.busy": "2024-12-27T07:04:50.835592Z",
     "iopub.status.idle": "2024-12-27T07:04:57.175863Z",
     "shell.execute_reply": "2024-12-27T07:04:57.175135Z"
    },
    "id": "z3FHA2tYbNfx",
    "papermill": {
     "duration": 6.354641,
     "end_time": "2024-12-27T07:04:57.177474",
     "exception": false,
     "start_time": "2024-12-27T07:04:50.822833",
     "status": "completed"
    },
    "tags": []
   },
   "outputs": [],
   "source": [
    "import zipfile\n",
    "import os\n",
    "import random\n",
    "import shutil\n",
    "import numpy as np\n",
    "import pandas as pd\n",
    "import matplotlib.pyplot as plt\n",
    "import seaborn as sns\n",
    "import skimage.io\n",
    "import keras.backend as K\n",
    "import tensorflow as tf\n",
    "import tensorflow_addons as tfa\n",
    "from tensorflow.keras.models import Sequential, Model\n",
    "from tensorflow.keras.applications import(InceptionV3, MobileNetV2, DenseNet121, ResNet50, EfficientNetV2B0, Xception)\n",
    "from tensorflow.keras.layers import (Conv2D, MaxPooling2D, Flatten, Dense, Dropout,BatchNormalization, Activation, GlobalAveragePooling2D,DepthwiseConv2D, Input, Add, Concatenate)\n",
    "from tensorflow.keras.optimizers import Adam\n",
    "from tensorflow.keras.losses import CategoricalCrossentropy\n",
    "from tensorflow.keras.preprocessing.image import ImageDataGenerator\n",
    "from tensorflow.keras.callbacks import ReduceLROnPlateau, ModelCheckpoint, EarlyStopping, LearningRateScheduler\n",
    "from sklearn.metrics import confusion_matrix, classification_report, accuracy_score\n",
    "from sklearn.model_selection import train_test_split\n",
    "from tensorflow.keras.utils import plot_model\n",
    "from IPython.display import Image\n"
   ]
  },
  {
   "cell_type": "markdown",
   "id": "01b34e98",
   "metadata": {
    "id": "PO_UpS4vaBi8",
    "papermill": {
     "duration": 0.018313,
     "end_time": "2024-12-27T07:04:57.209206",
     "exception": false,
     "start_time": "2024-12-27T07:04:57.190893",
     "status": "completed"
    },
    "tags": []
   },
   "source": [
    "Try 3"
   ]
  },
  {
   "cell_type": "code",
   "execution_count": 5,
   "id": "e0b2d891",
   "metadata": {
    "execution": {
     "iopub.execute_input": "2024-12-27T07:04:57.234530Z",
     "iopub.status.busy": "2024-12-27T07:04:57.233956Z",
     "iopub.status.idle": "2024-12-27T07:04:57.237240Z",
     "shell.execute_reply": "2024-12-27T07:04:57.236513Z"
    },
    "id": "QyN8qV0huMwD",
    "papermill": {
     "duration": 0.017716,
     "end_time": "2024-12-27T07:04:57.238585",
     "exception": false,
     "start_time": "2024-12-27T07:04:57.220869",
     "status": "completed"
    },
    "tags": []
   },
   "outputs": [],
   "source": [
    "# zip_path = \"/content/drive/MyDrive/iq-oth.zip\"  # Path to the ZIP file\n",
    "# extracted_path = \"/content/chest_ctscan_images\"  # Path to extract the files\n",
    "# with zipfile.ZipFile(zip_path, 'r') as zip_ref:\n",
    "#     zip_ref.extractall(extracted_path)"
   ]
  },
  {
   "cell_type": "code",
   "execution_count": 6,
   "id": "188f6c96",
   "metadata": {
    "execution": {
     "iopub.execute_input": "2024-12-27T07:04:57.263779Z",
     "iopub.status.busy": "2024-12-27T07:04:57.263549Z",
     "iopub.status.idle": "2024-12-27T07:04:57.266561Z",
     "shell.execute_reply": "2024-12-27T07:04:57.265810Z"
    },
    "id": "psN1jH926Z7t",
    "papermill": {
     "duration": 0.017261,
     "end_time": "2024-12-27T07:04:57.267745",
     "exception": false,
     "start_time": "2024-12-27T07:04:57.250484",
     "status": "completed"
    },
    "tags": []
   },
   "outputs": [],
   "source": [
    "main_dir = \"/kaggle/input/iq-oth/The IQ-OTHNCCD lung cancer dataset/The IQ-OTHNCCD lung cancer dataset\""
   ]
  },
  {
   "cell_type": "code",
   "execution_count": 7,
   "id": "c1850438",
   "metadata": {
    "execution": {
     "iopub.execute_input": "2024-12-27T07:04:57.293458Z",
     "iopub.status.busy": "2024-12-27T07:04:57.293191Z",
     "iopub.status.idle": "2024-12-27T07:04:57.296305Z",
     "shell.execute_reply": "2024-12-27T07:04:57.295566Z"
    },
    "id": "TwEwT2nCuPYv",
    "papermill": {
     "duration": 0.017653,
     "end_time": "2024-12-27T07:04:57.297620",
     "exception": false,
     "start_time": "2024-12-27T07:04:57.279967",
     "status": "completed"
    },
    "tags": []
   },
   "outputs": [],
   "source": [
    "train_dir = \"/kaggle/working/ct-scan/train\"\n",
    "valid_dir = \"/kaggle/working/ct-scan/valid\"\n",
    "test_dir = \"/kaggle/working/ct-scan/test\""
   ]
  },
  {
   "cell_type": "code",
   "execution_count": 8,
   "id": "886b457c",
   "metadata": {
    "execution": {
     "iopub.execute_input": "2024-12-27T07:04:57.321749Z",
     "iopub.status.busy": "2024-12-27T07:04:57.321546Z",
     "iopub.status.idle": "2024-12-27T07:05:04.481732Z",
     "shell.execute_reply": "2024-12-27T07:05:04.480774Z"
    },
    "id": "cUjh_ksquT_w",
    "papermill": {
     "duration": 7.17408,
     "end_time": "2024-12-27T07:05:04.483406",
     "exception": false,
     "start_time": "2024-12-27T07:04:57.309326",
     "status": "completed"
    },
    "tags": []
   },
   "outputs": [],
   "source": [
    "def split_data(source_dir, train_dir, valid_dir, test_dir, train_ratio=0.7, valid_ratio=0.2, test_ratio=0.1):\n",
    "\n",
    "    for class_name in os.listdir(source_dir):\n",
    "        class_source_path = os.path.join(source_dir, class_name)\n",
    "        class_train_path = os.path.join(train_dir, class_name)\n",
    "        class_valid_path = os.path.join(valid_dir, class_name)\n",
    "        class_test_path = os.path.join(test_dir, class_name)\n",
    "\n",
    "        # Create subdirectories for each class if they don't exist\n",
    "        os.makedirs(class_train_path, exist_ok=True)\n",
    "        os.makedirs(class_valid_path, exist_ok=True)\n",
    "        os.makedirs(class_test_path, exist_ok=True)\n",
    "\n",
    "        all_files = os.listdir(class_source_path)\n",
    "        random.shuffle(all_files)  # Shuffle the files randomly\n",
    "\n",
    "        # Calculate split indices\n",
    "        train_end = int(len(all_files) * train_ratio)\n",
    "        valid_end = train_end + int(len(all_files) * valid_ratio)\n",
    "\n",
    "        # Split the files\n",
    "        train_files = all_files[:train_end]\n",
    "        valid_files = all_files[train_end:valid_end]\n",
    "        test_files = all_files[valid_end:]\n",
    "\n",
    "        # Move files to respective directories\n",
    "        for file in train_files:\n",
    "            shutil.copy(os.path.join(class_source_path, file), os.path.join(class_train_path, file))\n",
    "        for file in valid_files:\n",
    "            shutil.copy(os.path.join(class_source_path, file), os.path.join(class_valid_path, file))\n",
    "        for file in test_files:\n",
    "            shutil.copy(os.path.join(class_source_path, file), os.path.join(class_test_path, file))\n",
    "\n",
    "\n",
    "# Call the function to split the data\n",
    "split_data(main_dir, train_dir, valid_dir, test_dir)"
   ]
  },
  {
   "cell_type": "code",
   "execution_count": 9,
   "id": "2685a110",
   "metadata": {
    "execution": {
     "iopub.execute_input": "2024-12-27T07:05:04.508334Z",
     "iopub.status.busy": "2024-12-27T07:05:04.508089Z",
     "iopub.status.idle": "2024-12-27T07:05:04.511468Z",
     "shell.execute_reply": "2024-12-27T07:05:04.510682Z"
    },
    "id": "OBHrYqxLuU5C",
    "papermill": {
     "duration": 0.016978,
     "end_time": "2024-12-27T07:05:04.512739",
     "exception": false,
     "start_time": "2024-12-27T07:05:04.495761",
     "status": "completed"
    },
    "tags": []
   },
   "outputs": [],
   "source": [
    "train_datagen = ImageDataGenerator(\n",
    "    # rescale=1.0/255,\n",
    "    # rotation_range=20,\n",
    "    # width_shift_range=0.2,\n",
    "    # height_shift_range=0.2,\n",
    "    # shear_range=0.2,\n",
    "    # zoom_range=0.2,\n",
    "    # horizontal_flip=True\n",
    ")"
   ]
  },
  {
   "cell_type": "code",
   "execution_count": 10,
   "id": "b8541277",
   "metadata": {
    "execution": {
     "iopub.execute_input": "2024-12-27T07:05:04.537853Z",
     "iopub.status.busy": "2024-12-27T07:05:04.537631Z",
     "iopub.status.idle": "2024-12-27T07:05:04.540850Z",
     "shell.execute_reply": "2024-12-27T07:05:04.540101Z"
    },
    "id": "5OZi-BPsuYkQ",
    "papermill": {
     "duration": 0.017315,
     "end_time": "2024-12-27T07:05:04.542098",
     "exception": false,
     "start_time": "2024-12-27T07:05:04.524783",
     "status": "completed"
    },
    "tags": []
   },
   "outputs": [],
   "source": [
    "valid_datagen = ImageDataGenerator()\n",
    "test_datagen = ImageDataGenerator()"
   ]
  },
  {
   "cell_type": "code",
   "execution_count": 11,
   "id": "410fc345",
   "metadata": {
    "execution": {
     "iopub.execute_input": "2024-12-27T07:05:04.567238Z",
     "iopub.status.busy": "2024-12-27T07:05:04.567006Z",
     "iopub.status.idle": "2024-12-27T07:05:04.587597Z",
     "shell.execute_reply": "2024-12-27T07:05:04.586908Z"
    },
    "id": "s58bw8FiuczT",
    "outputId": "7aadd13e-a4ca-42d6-c4e1-8a8c09885c90",
    "papermill": {
     "duration": 0.03479,
     "end_time": "2024-12-27T07:05:04.588879",
     "exception": false,
     "start_time": "2024-12-27T07:05:04.554089",
     "status": "completed"
    },
    "tags": []
   },
   "outputs": [
    {
     "name": "stdout",
     "output_type": "stream",
     "text": [
      "Found 767 images belonging to 3 classes.\n"
     ]
    }
   ],
   "source": [
    "train_generator = train_datagen.flow_from_directory(\n",
    "    train_dir,\n",
    "    target_size=(224,224),\n",
    "    batch_size=16,\n",
    "    class_mode='categorical'\n",
    ")"
   ]
  },
  {
   "cell_type": "code",
   "execution_count": 12,
   "id": "f05aa792",
   "metadata": {
    "execution": {
     "iopub.execute_input": "2024-12-27T07:05:04.613860Z",
     "iopub.status.busy": "2024-12-27T07:05:04.613630Z",
     "iopub.status.idle": "2024-12-27T07:05:04.624117Z",
     "shell.execute_reply": "2024-12-27T07:05:04.623517Z"
    },
    "id": "_VAT1nn6ufRV",
    "outputId": "e94fa4a2-fb97-4b45-9ffa-1de86e63561c",
    "papermill": {
     "duration": 0.02419,
     "end_time": "2024-12-27T07:05:04.625223",
     "exception": false,
     "start_time": "2024-12-27T07:05:04.601033",
     "status": "completed"
    },
    "tags": []
   },
   "outputs": [
    {
     "name": "stdout",
     "output_type": "stream",
     "text": [
      "Found 219 images belonging to 3 classes.\n"
     ]
    }
   ],
   "source": [
    "validation_generator = valid_datagen.flow_from_directory(\n",
    "    valid_dir,\n",
    "    target_size=(224,224),\n",
    "    batch_size=16,\n",
    "    class_mode='categorical'\n",
    ")"
   ]
  },
  {
   "cell_type": "code",
   "execution_count": 13,
   "id": "4b23a56e",
   "metadata": {
    "execution": {
     "iopub.execute_input": "2024-12-27T07:05:04.650481Z",
     "iopub.status.busy": "2024-12-27T07:05:04.650234Z",
     "iopub.status.idle": "2024-12-27T07:05:04.658982Z",
     "shell.execute_reply": "2024-12-27T07:05:04.658272Z"
    },
    "id": "79higThAuhq_",
    "outputId": "0195383a-337c-4a15-f3a4-1ae961e06629",
    "papermill": {
     "duration": 0.022836,
     "end_time": "2024-12-27T07:05:04.660134",
     "exception": false,
     "start_time": "2024-12-27T07:05:04.637298",
     "status": "completed"
    },
    "tags": []
   },
   "outputs": [
    {
     "name": "stdout",
     "output_type": "stream",
     "text": [
      "Found 111 images belonging to 3 classes.\n"
     ]
    }
   ],
   "source": [
    "test_generator = test_datagen.flow_from_directory(\n",
    "    test_dir,\n",
    "    target_size=(224,224),\n",
    "    batch_size=16,\n",
    "    class_mode='categorical'\n",
    ")"
   ]
  },
  {
   "cell_type": "code",
   "execution_count": 14,
   "id": "fdb5a4b1",
   "metadata": {
    "execution": {
     "iopub.execute_input": "2024-12-27T07:05:04.684843Z",
     "iopub.status.busy": "2024-12-27T07:05:04.684640Z",
     "iopub.status.idle": "2024-12-27T07:05:04.687583Z",
     "shell.execute_reply": "2024-12-27T07:05:04.686965Z"
    },
    "id": "wJy_CEHicRgM",
    "papermill": {
     "duration": 0.016457,
     "end_time": "2024-12-27T07:05:04.688683",
     "exception": false,
     "start_time": "2024-12-27T07:05:04.672226",
     "status": "completed"
    },
    "tags": []
   },
   "outputs": [],
   "source": [
    "os.makedirs(test_dir, exist_ok=True)\n"
   ]
  },
  {
   "cell_type": "code",
   "execution_count": 15,
   "id": "70280f9f",
   "metadata": {
    "execution": {
     "iopub.execute_input": "2024-12-27T07:05:04.713452Z",
     "iopub.status.busy": "2024-12-27T07:05:04.713195Z",
     "iopub.status.idle": "2024-12-27T07:05:04.717184Z",
     "shell.execute_reply": "2024-12-27T07:05:04.716439Z"
    },
    "id": "d4p9qKimcXnV",
    "outputId": "f03bfaf9-2fd8-470d-e955-f41f5a9dab9e",
    "papermill": {
     "duration": 0.017621,
     "end_time": "2024-12-27T07:05:04.718341",
     "exception": false,
     "start_time": "2024-12-27T07:05:04.700720",
     "status": "completed"
    },
    "tags": []
   },
   "outputs": [
    {
     "name": "stdout",
     "output_type": "stream",
     "text": [
      "Number of files in test directory: 3\n"
     ]
    }
   ],
   "source": [
    "# Example to list files in the test directory\n",
    "test_files = os.listdir(test_dir)\n",
    "print(\"Number of files in test directory:\", len(test_files))"
   ]
  },
  {
   "cell_type": "code",
   "execution_count": 16,
   "id": "be04e8ca",
   "metadata": {
    "execution": {
     "iopub.execute_input": "2024-12-27T07:05:04.743478Z",
     "iopub.status.busy": "2024-12-27T07:05:04.743233Z",
     "iopub.status.idle": "2024-12-27T07:05:04.747143Z",
     "shell.execute_reply": "2024-12-27T07:05:04.746399Z"
    },
    "id": "gL6e9ixdcBKR",
    "outputId": "a8260ec8-6a70-4ef9-a8cb-b21399ad5a8d",
    "papermill": {
     "duration": 0.017867,
     "end_time": "2024-12-27T07:05:04.748289",
     "exception": false,
     "start_time": "2024-12-27T07:05:04.730422",
     "status": "completed"
    },
    "tags": []
   },
   "outputs": [
    {
     "name": "stdout",
     "output_type": "stream",
     "text": [
      "Test directory: /kaggle/working/ct-scan/test\n"
     ]
    }
   ],
   "source": [
    "print(\"Test directory:\", test_dir)\n"
   ]
  },
  {
   "cell_type": "code",
   "execution_count": 17,
   "id": "825e4c2a",
   "metadata": {
    "execution": {
     "iopub.execute_input": "2024-12-27T07:05:04.773908Z",
     "iopub.status.busy": "2024-12-27T07:05:04.773710Z",
     "iopub.status.idle": "2024-12-27T07:05:04.777842Z",
     "shell.execute_reply": "2024-12-27T07:05:04.777227Z"
    },
    "id": "JVXysXnmD-9z",
    "papermill": {
     "duration": 0.018435,
     "end_time": "2024-12-27T07:05:04.779000",
     "exception": false,
     "start_time": "2024-12-27T07:05:04.760565",
     "status": "completed"
    },
    "tags": []
   },
   "outputs": [],
   "source": [
    "def f1_score(y_true, y_pred):\n",
    "    true_positives = K.sum(K.round(K.clip(y_true * y_pred, 0, 1)))\n",
    "    possible_positives = K.sum(K.round(K.clip(y_true, 0, 1)))\n",
    "    predicted_positives = K.sum(K.round(K.clip(y_pred, 0, 1)))\n",
    "    precision = true_positives / (predicted_positives + K.epsilon())\n",
    "    recall = true_positives / (possible_positives + K.epsilon())\n",
    "    f1_val = 2 * (precision * recall) / (precision + recall + K.epsilon())\n",
    "    return f1_val"
   ]
  },
  {
   "cell_type": "code",
   "execution_count": 18,
   "id": "5c43c03d",
   "metadata": {
    "execution": {
     "iopub.execute_input": "2024-12-27T07:05:04.804082Z",
     "iopub.status.busy": "2024-12-27T07:05:04.803886Z",
     "iopub.status.idle": "2024-12-27T07:05:05.259916Z",
     "shell.execute_reply": "2024-12-27T07:05:05.258960Z"
    },
    "id": "aJPN14HlEZe-",
    "papermill": {
     "duration": 0.470366,
     "end_time": "2024-12-27T07:05:05.261601",
     "exception": false,
     "start_time": "2024-12-27T07:05:04.791235",
     "status": "completed"
    },
    "tags": []
   },
   "outputs": [],
   "source": [
    "METRICS = [\n",
    "    tf.keras.metrics.CategoricalAccuracy(name='accuracy'),\n",
    "    tf.keras.metrics.Precision(name='precision'),\n",
    "    tf.keras.metrics.Recall(name='recall'),\n",
    "    tf.keras.metrics.AUC(name='auc'),\n",
    "    tfa.metrics.F1Score(num_classes=3, average=\"micro\", name='f1_score')\n",
    "]"
   ]
  },
  {
   "cell_type": "code",
   "execution_count": 19,
   "id": "cdfe82ac",
   "metadata": {
    "execution": {
     "iopub.execute_input": "2024-12-27T07:05:05.287546Z",
     "iopub.status.busy": "2024-12-27T07:05:05.287286Z",
     "iopub.status.idle": "2024-12-27T07:05:09.139087Z",
     "shell.execute_reply": "2024-12-27T07:05:09.138128Z"
    },
    "id": "3pu77guMwmjn",
    "outputId": "db96ba0b-7a93-4303-ca9c-96d5d0010d27",
    "papermill": {
     "duration": 3.866562,
     "end_time": "2024-12-27T07:05:09.141021",
     "exception": false,
     "start_time": "2024-12-27T07:05:05.274459",
     "status": "completed"
    },
    "tags": []
   },
   "outputs": [
    {
     "name": "stdout",
     "output_type": "stream",
     "text": [
      "Downloading data from https://storage.googleapis.com/tensorflow/keras-applications/xception/xception_weights_tf_dim_ordering_tf_kernels_notop.h5\n",
      "83683744/83683744 [==============================] - 3s 0us/step\n"
     ]
    }
   ],
   "source": [
    "base_model = tf.keras.applications.Xception(input_shape=(224,224,3),include_top=False,weights=\"imagenet\")"
   ]
  },
  {
   "cell_type": "code",
   "execution_count": 20,
   "id": "2b4f22f2",
   "metadata": {
    "execution": {
     "iopub.execute_input": "2024-12-27T07:05:09.177105Z",
     "iopub.status.busy": "2024-12-27T07:05:09.176851Z",
     "iopub.status.idle": "2024-12-27T07:05:09.180305Z",
     "shell.execute_reply": "2024-12-27T07:05:09.179562Z"
    },
    "id": "aSsNkIQCwpXA",
    "papermill": {
     "duration": 0.019995,
     "end_time": "2024-12-27T07:05:09.181714",
     "exception": false,
     "start_time": "2024-12-27T07:05:09.161719",
     "status": "completed"
    },
    "tags": []
   },
   "outputs": [],
   "source": [
    "total_layers = len(base_model.layers)"
   ]
  },
  {
   "cell_type": "code",
   "execution_count": 21,
   "id": "3f743565",
   "metadata": {
    "execution": {
     "iopub.execute_input": "2024-12-27T07:05:09.212840Z",
     "iopub.status.busy": "2024-12-27T07:05:09.212611Z",
     "iopub.status.idle": "2024-12-27T07:05:09.215763Z",
     "shell.execute_reply": "2024-12-27T07:05:09.215008Z"
    },
    "id": "Ff-9hCJ3wts6",
    "papermill": {
     "duration": 0.019561,
     "end_time": "2024-12-27T07:05:09.217087",
     "exception": false,
     "start_time": "2024-12-27T07:05:09.197526",
     "status": "completed"
    },
    "tags": []
   },
   "outputs": [],
   "source": [
    "num_layers_to_freeze = 0"
   ]
  },
  {
   "cell_type": "code",
   "execution_count": 22,
   "id": "3464c44f",
   "metadata": {
    "execution": {
     "iopub.execute_input": "2024-12-27T07:05:09.246513Z",
     "iopub.status.busy": "2024-12-27T07:05:09.246201Z",
     "iopub.status.idle": "2024-12-27T07:05:09.250164Z",
     "shell.execute_reply": "2024-12-27T07:05:09.249335Z"
    },
    "id": "sKFHPjmTwu3K",
    "papermill": {
     "duration": 0.020328,
     "end_time": "2024-12-27T07:05:09.251630",
     "exception": false,
     "start_time": "2024-12-27T07:05:09.231302",
     "status": "completed"
    },
    "tags": []
   },
   "outputs": [],
   "source": [
    "for layer in base_model.layers[:num_layers_to_freeze]:\n",
    "    layer.trainable = True"
   ]
  },
  {
   "cell_type": "code",
   "execution_count": 23,
   "id": "7d1f01f7",
   "metadata": {
    "execution": {
     "iopub.execute_input": "2024-12-27T07:05:09.287507Z",
     "iopub.status.busy": "2024-12-27T07:05:09.287257Z",
     "iopub.status.idle": "2024-12-27T07:05:09.313220Z",
     "shell.execute_reply": "2024-12-27T07:05:09.311882Z"
    },
    "id": "h7_3xPFowxTo",
    "outputId": "4df73297-1e89-4884-aaf0-4ec506792941",
    "papermill": {
     "duration": 0.042377,
     "end_time": "2024-12-27T07:05:09.314636",
     "exception": false,
     "start_time": "2024-12-27T07:05:09.272259",
     "status": "completed"
    },
    "tags": []
   },
   "outputs": [
    {
     "name": "stdout",
     "output_type": "stream",
     "text": [
      "Layer 0: input_1, Trainable: True\n",
      "Layer 1: block1_conv1, Trainable: True\n",
      "Layer 2: block1_conv1_bn, Trainable: True\n",
      "Layer 3: block1_conv1_act, Trainable: True\n",
      "Layer 4: block1_conv2, Trainable: True\n",
      "Layer 5: block1_conv2_bn, Trainable: True\n",
      "Layer 6: block1_conv2_act, Trainable: True\n",
      "Layer 7: block2_sepconv1, Trainable: True\n",
      "Layer 8: block2_sepconv1_bn, Trainable: True\n",
      "Layer 9: block2_sepconv2_act, Trainable: True\n",
      "Layer 10: block2_sepconv2, Trainable: True\n",
      "Layer 11: block2_sepconv2_bn, Trainable: True\n",
      "Layer 12: conv2d, Trainable: True\n",
      "Layer 13: block2_pool, Trainable: True\n",
      "Layer 14: batch_normalization, Trainable: True\n",
      "Layer 15: add, Trainable: True\n",
      "Layer 16: block3_sepconv1_act, Trainable: True\n",
      "Layer 17: block3_sepconv1, Trainable: True\n",
      "Layer 18: block3_sepconv1_bn, Trainable: True\n",
      "Layer 19: block3_sepconv2_act, Trainable: True\n",
      "Layer 20: block3_sepconv2, Trainable: True\n",
      "Layer 21: block3_sepconv2_bn, Trainable: True\n",
      "Layer 22: conv2d_1, Trainable: True\n",
      "Layer 23: block3_pool, Trainable: True\n",
      "Layer 24: batch_normalization_1, Trainable: True\n",
      "Layer 25: add_1, Trainable: True\n",
      "Layer 26: block4_sepconv1_act, Trainable: True\n",
      "Layer 27: block4_sepconv1, Trainable: True\n",
      "Layer 28: block4_sepconv1_bn, Trainable: True\n",
      "Layer 29: block4_sepconv2_act, Trainable: True\n",
      "Layer 30: block4_sepconv2, Trainable: True\n",
      "Layer 31: block4_sepconv2_bn, Trainable: True\n",
      "Layer 32: conv2d_2, Trainable: True\n",
      "Layer 33: block4_pool, Trainable: True\n",
      "Layer 34: batch_normalization_2, Trainable: True\n",
      "Layer 35: add_2, Trainable: True\n",
      "Layer 36: block5_sepconv1_act, Trainable: True\n",
      "Layer 37: block5_sepconv1, Trainable: True\n",
      "Layer 38: block5_sepconv1_bn, Trainable: True\n",
      "Layer 39: block5_sepconv2_act, Trainable: True\n",
      "Layer 40: block5_sepconv2, Trainable: True\n",
      "Layer 41: block5_sepconv2_bn, Trainable: True\n",
      "Layer 42: block5_sepconv3_act, Trainable: True\n",
      "Layer 43: block5_sepconv3, Trainable: True\n",
      "Layer 44: block5_sepconv3_bn, Trainable: True\n",
      "Layer 45: add_3, Trainable: True\n",
      "Layer 46: block6_sepconv1_act, Trainable: True\n",
      "Layer 47: block6_sepconv1, Trainable: True\n",
      "Layer 48: block6_sepconv1_bn, Trainable: True\n",
      "Layer 49: block6_sepconv2_act, Trainable: True\n",
      "Layer 50: block6_sepconv2, Trainable: True\n",
      "Layer 51: block6_sepconv2_bn, Trainable: True\n",
      "Layer 52: block6_sepconv3_act, Trainable: True\n",
      "Layer 53: block6_sepconv3, Trainable: True\n",
      "Layer 54: block6_sepconv3_bn, Trainable: True\n",
      "Layer 55: add_4, Trainable: True\n",
      "Layer 56: block7_sepconv1_act, Trainable: True\n",
      "Layer 57: block7_sepconv1, Trainable: True\n",
      "Layer 58: block7_sepconv1_bn, Trainable: True\n",
      "Layer 59: block7_sepconv2_act, Trainable: True\n",
      "Layer 60: block7_sepconv2, Trainable: True\n",
      "Layer 61: block7_sepconv2_bn, Trainable: True\n",
      "Layer 62: block7_sepconv3_act, Trainable: True\n",
      "Layer 63: block7_sepconv3, Trainable: True\n",
      "Layer 64: block7_sepconv3_bn, Trainable: True\n",
      "Layer 65: add_5, Trainable: True\n",
      "Layer 66: block8_sepconv1_act, Trainable: True\n",
      "Layer 67: block8_sepconv1, Trainable: True\n",
      "Layer 68: block8_sepconv1_bn, Trainable: True\n",
      "Layer 69: block8_sepconv2_act, Trainable: True\n",
      "Layer 70: block8_sepconv2, Trainable: True\n",
      "Layer 71: block8_sepconv2_bn, Trainable: True\n",
      "Layer 72: block8_sepconv3_act, Trainable: True\n",
      "Layer 73: block8_sepconv3, Trainable: True\n",
      "Layer 74: block8_sepconv3_bn, Trainable: True\n",
      "Layer 75: add_6, Trainable: True\n",
      "Layer 76: block9_sepconv1_act, Trainable: True\n",
      "Layer 77: block9_sepconv1, Trainable: True\n",
      "Layer 78: block9_sepconv1_bn, Trainable: True\n",
      "Layer 79: block9_sepconv2_act, Trainable: True\n",
      "Layer 80: block9_sepconv2, Trainable: True\n",
      "Layer 81: block9_sepconv2_bn, Trainable: True\n",
      "Layer 82: block9_sepconv3_act, Trainable: True\n",
      "Layer 83: block9_sepconv3, Trainable: True\n",
      "Layer 84: block9_sepconv3_bn, Trainable: True\n",
      "Layer 85: add_7, Trainable: True\n",
      "Layer 86: block10_sepconv1_act, Trainable: True\n",
      "Layer 87: block10_sepconv1, Trainable: True\n",
      "Layer 88: block10_sepconv1_bn, Trainable: True\n",
      "Layer 89: block10_sepconv2_act, Trainable: True\n",
      "Layer 90: block10_sepconv2, Trainable: True\n",
      "Layer 91: block10_sepconv2_bn, Trainable: True\n",
      "Layer 92: block10_sepconv3_act, Trainable: True\n",
      "Layer 93: block10_sepconv3, Trainable: True\n",
      "Layer 94: block10_sepconv3_bn, Trainable: True\n",
      "Layer 95: add_8, Trainable: True\n",
      "Layer 96: block11_sepconv1_act, Trainable: True\n",
      "Layer 97: block11_sepconv1, Trainable: True\n",
      "Layer 98: block11_sepconv1_bn, Trainable: True\n",
      "Layer 99: block11_sepconv2_act, Trainable: True\n",
      "Layer 100: block11_sepconv2, Trainable: True\n",
      "Layer 101: block11_sepconv2_bn, Trainable: True\n",
      "Layer 102: block11_sepconv3_act, Trainable: True\n",
      "Layer 103: block11_sepconv3, Trainable: True\n",
      "Layer 104: block11_sepconv3_bn, Trainable: True\n",
      "Layer 105: add_9, Trainable: True\n",
      "Layer 106: block12_sepconv1_act, Trainable: True\n",
      "Layer 107: block12_sepconv1, Trainable: True\n",
      "Layer 108: block12_sepconv1_bn, Trainable: True\n",
      "Layer 109: block12_sepconv2_act, Trainable: True\n",
      "Layer 110: block12_sepconv2, Trainable: True\n",
      "Layer 111: block12_sepconv2_bn, Trainable: True\n",
      "Layer 112: block12_sepconv3_act, Trainable: True\n",
      "Layer 113: block12_sepconv3, Trainable: True\n",
      "Layer 114: block12_sepconv3_bn, Trainable: True\n",
      "Layer 115: add_10, Trainable: True\n",
      "Layer 116: block13_sepconv1_act, Trainable: True\n",
      "Layer 117: block13_sepconv1, Trainable: True\n",
      "Layer 118: block13_sepconv1_bn, Trainable: True\n",
      "Layer 119: block13_sepconv2_act, Trainable: True\n",
      "Layer 120: block13_sepconv2, Trainable: True\n",
      "Layer 121: block13_sepconv2_bn, Trainable: True\n",
      "Layer 122: conv2d_3, Trainable: True\n",
      "Layer 123: block13_pool, Trainable: True\n",
      "Layer 124: batch_normalization_3, Trainable: True\n",
      "Layer 125: add_11, Trainable: True\n",
      "Layer 126: block14_sepconv1, Trainable: True\n",
      "Layer 127: block14_sepconv1_bn, Trainable: True\n",
      "Layer 128: block14_sepconv1_act, Trainable: True\n",
      "Layer 129: block14_sepconv2, Trainable: True\n",
      "Layer 130: block14_sepconv2_bn, Trainable: True\n",
      "Layer 131: block14_sepconv2_act, Trainable: True\n"
     ]
    }
   ],
   "source": [
    "for i, layer in enumerate(base_model.layers):\n",
    "    print(f\"Layer {i}: {layer.name}, Trainable: {layer.trainable}\")"
   ]
  },
  {
   "cell_type": "code",
   "execution_count": 24,
   "id": "313494fe",
   "metadata": {
    "execution": {
     "iopub.execute_input": "2024-12-27T07:05:09.344535Z",
     "iopub.status.busy": "2024-12-27T07:05:09.344236Z",
     "iopub.status.idle": "2024-12-27T07:05:09.701496Z",
     "shell.execute_reply": "2024-12-27T07:05:09.700834Z"
    },
    "id": "le6O7kGIw6h6",
    "outputId": "2817dbec-62eb-45cf-9994-5613dd869bd2",
    "papermill": {
     "duration": 0.373504,
     "end_time": "2024-12-27T07:05:09.702724",
     "exception": false,
     "start_time": "2024-12-27T07:05:09.329220",
     "status": "completed"
    },
    "tags": []
   },
   "outputs": [
    {
     "name": "stdout",
     "output_type": "stream",
     "text": [
      "Model: \"sequential\"\n",
      "_________________________________________________________________\n",
      " Layer (type)                Output Shape              Param #   \n",
      "=================================================================\n",
      " xception (Functional)       (None, 7, 7, 2048)        20861480  \n",
      "                                                                 \n",
      " flatten (Flatten)           (None, 100352)            0         \n",
      "                                                                 \n",
      " dense (Dense)               (None, 3)                 301059    \n",
      "                                                                 \n",
      "=================================================================\n",
      "Total params: 21,162,539\n",
      "Trainable params: 21,108,011\n",
      "Non-trainable params: 54,528\n",
      "_________________________________________________________________\n"
     ]
    }
   ],
   "source": [
    "model = Sequential([\n",
    "    base_model,\n",
    "    Flatten(),\n",
    "    Dense(3, activation='softmax')\n",
    "])\n",
    "model.summary()"
   ]
  },
  {
   "cell_type": "code",
   "execution_count": 25,
   "id": "7263adae",
   "metadata": {
    "execution": {
     "iopub.execute_input": "2024-12-27T07:05:09.734683Z",
     "iopub.status.busy": "2024-12-27T07:05:09.734456Z",
     "iopub.status.idle": "2024-12-27T07:05:09.976275Z",
     "shell.execute_reply": "2024-12-27T07:05:09.975457Z"
    },
    "id": "kIpnFMMF2scs",
    "outputId": "12ed09a6-e767-4211-daf8-ac45ffbaeca2",
    "papermill": {
     "duration": 0.259616,
     "end_time": "2024-12-27T07:05:09.978160",
     "exception": false,
     "start_time": "2024-12-27T07:05:09.718544",
     "status": "completed"
    },
    "tags": []
   },
   "outputs": [
    {
     "data": {
      "image/png": "[encoded data removed]",
      "text/plain": [
       "<IPython.core.display.Image object>"
      ]
     },
     "execution_count": 25,
     "metadata": {},
     "output_type": "execute_result"
    }
   ],
   "source": [
    "from tensorflow.keras.utils import plot_model\n",
    "from IPython.display import Image\n",
    "plot_model(model, to_file='convnet.png', show_shapes=True,show_layer_names=True)\n",
    "Image(filename='convnet.png')"
   ]
  },
  {
   "cell_type": "code",
   "execution_count": 26,
   "id": "2a1ac73e",
   "metadata": {
    "execution": {
     "iopub.execute_input": "2024-12-27T07:05:10.015034Z",
     "iopub.status.busy": "2024-12-27T07:05:10.014781Z",
     "iopub.status.idle": "2024-12-27T07:05:10.028311Z",
     "shell.execute_reply": "2024-12-27T07:05:10.027503Z"
    },
    "id": "CMtjjQwmaBjC",
    "papermill": {
     "duration": 0.031599,
     "end_time": "2024-12-27T07:05:10.029706",
     "exception": false,
     "start_time": "2024-12-27T07:05:09.998107",
     "status": "completed"
    },
    "tags": []
   },
   "outputs": [],
   "source": [
    "model.compile(\n",
    "    loss=\"categorical_crossentropy\",\n",
    "    optimizer=Adam(learning_rate=0.0005),\n",
    "    metrics=METRICS\n",
    ")"
   ]
  },
  {
   "cell_type": "code",
   "execution_count": 27,
   "id": "c7056fcb",
   "metadata": {
    "execution": {
     "iopub.execute_input": "2024-12-27T07:05:10.066817Z",
     "iopub.status.busy": "2024-12-27T07:05:10.066593Z",
     "iopub.status.idle": "2024-12-27T07:05:10.070146Z",
     "shell.execute_reply": "2024-12-27T07:05:10.069396Z"
    },
    "id": "9Zjmg5poaBjC",
    "papermill": {
     "duration": 0.02594,
     "end_time": "2024-12-27T07:05:10.071608",
     "exception": false,
     "start_time": "2024-12-27T07:05:10.045668",
     "status": "completed"
    },
    "tags": []
   },
   "outputs": [],
   "source": [
    "callbacks = [\n",
    "    ModelCheckpoint(\"best_model.keras\", monitor=\"val_accuracy\", save_best_only=True, verbose=1),\n",
    "    EarlyStopping(monitor=\"val_loss\", patience=5, verbose=1, restore_best_weights=True)\n",
    "]"
   ]
  },
  {
   "cell_type": "code",
   "execution_count": 28,
   "id": "6f6bcf04",
   "metadata": {
    "execution": {
     "iopub.execute_input": "2024-12-27T07:05:10.117801Z",
     "iopub.status.busy": "2024-12-27T07:05:10.117462Z",
     "iopub.status.idle": "2024-12-27T08:08:26.475824Z",
     "shell.execute_reply": "2024-12-27T08:08:26.474846Z"
    },
    "id": "zgcn2wlOaBjD",
    "outputId": "3847af9f-0cc6-453c-fdf3-9bf4f82c2f62",
    "papermill": {
     "duration": 3796.429828,
     "end_time": "2024-12-27T08:08:26.526294",
     "exception": false,
     "start_time": "2024-12-27T07:05:10.096466",
     "status": "completed"
    },
    "tags": []
   },
   "outputs": [
    {
     "name": "stdout",
     "output_type": "stream",
     "text": [
      "Epoch 1/35\n",
      "48/48 [==============================] - ETA: 0s - loss: 0.5081 - accuracy: 0.8253 - precision: 0.8769 - recall: 0.7614 - auc: 0.9430 - f1_score: 0.8253\n",
      "Epoch 1: val_accuracy improved from -inf to 0.86758, saving model to best_model.keras\n",
      "48/48 [==============================] - 267s 5s/step - loss: 0.5081 - accuracy: 0.8253 - precision: 0.8769 - recall: 0.7614 - auc: 0.9430 - f1_score: 0.8253 - val_loss: 0.3296 - val_accuracy: 0.8676 - val_precision: 0.8791 - val_recall: 0.8630 - val_auc: 0.9728 - val_f1_score: 0.8676\n",
      "Epoch 2/35\n",
      "48/48 [==============================] - ETA: 0s - loss: 0.2498 - accuracy: 0.9205 - precision: 0.9339 - recall: 0.8840 - auc: 0.9838 - f1_score: 0.9205\n",
      "Epoch 2: val_accuracy did not improve from 0.86758\n",
      "48/48 [==============================] - 259s 5s/step - loss: 0.2498 - accuracy: 0.9205 - precision: 0.9339 - recall: 0.8840 - auc: 0.9838 - f1_score: 0.9205 - val_loss: 0.5447 - val_accuracy: 0.8082 - val_precision: 0.8082 - val_recall: 0.8082 - val_auc: 0.9488 - val_f1_score: 0.8082\n",
      "Epoch 3/35\n",
      "48/48 [==============================] - ETA: 0s - loss: 0.1556 - accuracy: 0.9505 - precision: 0.9503 - recall: 0.9478 - auc: 0.9922 - f1_score: 0.9505\n",
      "Epoch 3: val_accuracy improved from 0.86758 to 0.88128, saving model to best_model.keras\n",
      "48/48 [==============================] - 254s 5s/step - loss: 0.1556 - accuracy: 0.9505 - precision: 0.9503 - recall: 0.9478 - auc: 0.9922 - f1_score: 0.9505 - val_loss: 0.3191 - val_accuracy: 0.8813 - val_precision: 0.8807 - val_recall: 0.8767 - val_auc: 0.9790 - val_f1_score: 0.8813\n",
      "Epoch 4/35\n",
      "48/48 [==============================] - ETA: 0s - loss: 0.0914 - accuracy: 0.9635 - precision: 0.9658 - recall: 0.9583 - auc: 0.9975 - f1_score: 0.9635\n",
      "Epoch 4: val_accuracy improved from 0.88128 to 0.94521, saving model to best_model.keras\n",
      "48/48 [==============================] - 250s 5s/step - loss: 0.0914 - accuracy: 0.9635 - precision: 0.9658 - recall: 0.9583 - auc: 0.9975 - f1_score: 0.9635 - val_loss: 0.2819 - val_accuracy: 0.9452 - val_precision: 0.9452 - val_recall: 0.9452 - val_auc: 0.9836 - val_f1_score: 0.9452\n",
      "Epoch 5/35\n",
      "48/48 [==============================] - ETA: 0s - loss: 0.0866 - accuracy: 0.9726 - precision: 0.9776 - recall: 0.9687 - auc: 0.9967 - f1_score: 0.9726\n",
      "Epoch 5: val_accuracy did not improve from 0.94521\n",
      "48/48 [==============================] - 246s 5s/step - loss: 0.0866 - accuracy: 0.9726 - precision: 0.9776 - recall: 0.9687 - auc: 0.9967 - f1_score: 0.9726 - val_loss: 0.3084 - val_accuracy: 0.9269 - val_precision: 0.9269 - val_recall: 0.9269 - val_auc: 0.9763 - val_f1_score: 0.9269\n",
      "Epoch 6/35\n",
      "48/48 [==============================] - ETA: 0s - loss: 0.0263 - accuracy: 0.9948 - precision: 0.9948 - recall: 0.9948 - auc: 0.9989 - f1_score: 0.9948\n",
      "Epoch 6: val_accuracy did not improve from 0.94521\n",
      "48/48 [==============================] - 245s 5s/step - loss: 0.0263 - accuracy: 0.9948 - precision: 0.9948 - recall: 0.9948 - auc: 0.9989 - f1_score: 0.9948 - val_loss: 0.2006 - val_accuracy: 0.9361 - val_precision: 0.9404 - val_recall: 0.9361 - val_auc: 0.9923 - val_f1_score: 0.9361\n",
      "Epoch 7/35\n",
      "48/48 [==============================] - ETA: 0s - loss: 0.1326 - accuracy: 0.9609 - precision: 0.9618 - recall: 0.9518 - auc: 0.9938 - f1_score: 0.9609\n",
      "Epoch 7: val_accuracy did not improve from 0.94521\n",
      "48/48 [==============================] - 245s 5s/step - loss: 0.1326 - accuracy: 0.9609 - precision: 0.9618 - recall: 0.9518 - auc: 0.9938 - f1_score: 0.9609 - val_loss: 1.6689 - val_accuracy: 0.7580 - val_precision: 0.7837 - val_recall: 0.7443 - val_auc: 0.8828 - val_f1_score: 0.7580\n",
      "Epoch 8/35\n",
      "48/48 [==============================] - ETA: 0s - loss: 0.0851 - accuracy: 0.9778 - precision: 0.9803 - recall: 0.9739 - auc: 0.9959 - f1_score: 0.9778\n",
      "Epoch 8: val_accuracy improved from 0.94521 to 0.97260, saving model to best_model.keras\n",
      "48/48 [==============================] - 248s 5s/step - loss: 0.0851 - accuracy: 0.9778 - precision: 0.9803 - recall: 0.9739 - auc: 0.9959 - f1_score: 0.9778 - val_loss: 0.0851 - val_accuracy: 0.9726 - val_precision: 0.9726 - val_recall: 0.9726 - val_auc: 0.9955 - val_f1_score: 0.9726\n",
      "Epoch 9/35\n",
      "48/48 [==============================] - ETA: 0s - loss: 0.1406 - accuracy: 0.9609 - precision: 0.9632 - recall: 0.9544 - auc: 0.9921 - f1_score: 0.9609\n",
      "Epoch 9: val_accuracy did not improve from 0.97260\n",
      "48/48 [==============================] - 250s 5s/step - loss: 0.1406 - accuracy: 0.9609 - precision: 0.9632 - recall: 0.9544 - auc: 0.9921 - f1_score: 0.9609 - val_loss: 0.1746 - val_accuracy: 0.9543 - val_precision: 0.9674 - val_recall: 0.9498 - val_auc: 0.9857 - val_f1_score: 0.9543\n",
      "Epoch 10/35\n",
      "48/48 [==============================] - ETA: 0s - loss: 0.0263 - accuracy: 0.9896 - precision: 0.9896 - recall: 0.9883 - auc: 0.9999 - f1_score: 0.9896\n",
      "Epoch 10: val_accuracy improved from 0.97260 to 0.98630, saving model to best_model.keras\n",
      "48/48 [==============================] - 254s 5s/step - loss: 0.0263 - accuracy: 0.9896 - precision: 0.9896 - recall: 0.9883 - auc: 0.9999 - f1_score: 0.9896 - val_loss: 0.0458 - val_accuracy: 0.9863 - val_precision: 0.9863 - val_recall: 0.9863 - val_auc: 0.9995 - val_f1_score: 0.9863\n",
      "Epoch 11/35\n",
      "48/48 [==============================] - ETA: 0s - loss: 0.0134 - accuracy: 0.9974 - precision: 0.9974 - recall: 0.9974 - auc: 0.9999 - f1_score: 0.9974\n",
      "Epoch 11: val_accuracy did not improve from 0.98630\n",
      "48/48 [==============================] - 245s 5s/step - loss: 0.0134 - accuracy: 0.9974 - precision: 0.9974 - recall: 0.9974 - auc: 0.9999 - f1_score: 0.9974 - val_loss: 0.0567 - val_accuracy: 0.9726 - val_precision: 0.9726 - val_recall: 0.9726 - val_auc: 0.9991 - val_f1_score: 0.9726\n",
      "Epoch 12/35\n",
      "48/48 [==============================] - ETA: 0s - loss: 0.0347 - accuracy: 0.9883 - precision: 0.9883 - recall: 0.9870 - auc: 0.9988 - f1_score: 0.9883\n",
      "Epoch 12: val_accuracy did not improve from 0.98630\n",
      "48/48 [==============================] - 248s 5s/step - loss: 0.0347 - accuracy: 0.9883 - precision: 0.9883 - recall: 0.9870 - auc: 0.9988 - f1_score: 0.9883 - val_loss: 0.3211 - val_accuracy: 0.8813 - val_precision: 0.8853 - val_recall: 0.8813 - val_auc: 0.9832 - val_f1_score: 0.8813\n",
      "Epoch 13/35\n",
      "48/48 [==============================] - ETA: 0s - loss: 0.0088 - accuracy: 0.9987 - precision: 0.9987 - recall: 0.9987 - auc: 1.0000 - f1_score: 0.9987\n",
      "Epoch 13: val_accuracy did not improve from 0.98630\n",
      "48/48 [==============================] - 251s 5s/step - loss: 0.0088 - accuracy: 0.9987 - precision: 0.9987 - recall: 0.9987 - auc: 1.0000 - f1_score: 0.9987 - val_loss: 0.0889 - val_accuracy: 0.9635 - val_precision: 0.9635 - val_recall: 0.9635 - val_auc: 0.9985 - val_f1_score: 0.9635\n",
      "Epoch 14/35\n",
      "48/48 [==============================] - ETA: 0s - loss: 0.0118 - accuracy: 0.9974 - precision: 0.9974 - recall: 0.9974 - auc: 1.0000 - f1_score: 0.9974\n",
      "Epoch 14: val_accuracy did not improve from 0.98630\n",
      "48/48 [==============================] - 252s 5s/step - loss: 0.0118 - accuracy: 0.9974 - precision: 0.9974 - recall: 0.9974 - auc: 1.0000 - f1_score: 0.9974 - val_loss: 0.3804 - val_accuracy: 0.9589 - val_precision: 0.9589 - val_recall: 0.9589 - val_auc: 0.9769 - val_f1_score: 0.9589\n",
      "Epoch 15/35\n",
      "48/48 [==============================] - ETA: 0s - loss: 0.0257 - accuracy: 0.9883 - precision: 0.9883 - recall: 0.9883 - auc: 0.9998 - f1_score: 0.9883\n",
      "Epoch 15: val_accuracy did not improve from 0.98630\n",
      "Restoring model weights from the end of the best epoch: 10.\n",
      "48/48 [==============================] - 256s 5s/step - loss: 0.0257 - accuracy: 0.9883 - precision: 0.9883 - recall: 0.9883 - auc: 0.9998 - f1_score: 0.9883 - val_loss: 0.0628 - val_accuracy: 0.9863 - val_precision: 0.9863 - val_recall: 0.9863 - val_auc: 0.9959 - val_f1_score: 0.9863\n",
      "Epoch 15: early stopping\n"
     ]
    }
   ],
   "source": [
    "history = model.fit(\n",
    "    train_generator,\n",
    "    validation_data=validation_generator,\n",
    "    epochs=35,\n",
    "    callbacks=callbacks,\n",
    "        verbose=1\n",
    "    #  , class_weight=class_weights\n",
    ")"
   ]
  },
  {
   "cell_type": "code",
   "execution_count": 29,
   "id": "05c762d0",
   "metadata": {
    "execution": {
     "iopub.execute_input": "2024-12-27T08:08:26.626924Z",
     "iopub.status.busy": "2024-12-27T08:08:26.626602Z",
     "iopub.status.idle": "2024-12-27T08:08:27.435060Z",
     "shell.execute_reply": "2024-12-27T08:08:27.434211Z"
    },
    "id": "kE8Q1PqGaBjD",
    "papermill": {
     "duration": 0.86082,
     "end_time": "2024-12-27T08:08:27.436914",
     "exception": false,
     "start_time": "2024-12-27T08:08:26.576094",
     "status": "completed"
    },
    "tags": []
   },
   "outputs": [
    {
     "data": {
      "image/png": "[encoded data removed]",
      "text/plain": [
       "<Figure size 2200x500 with 5 Axes>"
      ]
     },
     "metadata": {},
     "output_type": "display_data"
    }
   ],
   "source": [
    "def Train_Val_Plot(acc, val_acc, loss, val_loss, auc, val_auc, precision, val_precision, f1, val_f1):\n",
    "\n",
    "    fig, (ax1, ax2, ax3, ax4, ax5) = plt.subplots(1, 5, figsize=(22, 5))\n",
    "    fig.suptitle(\" MODEL'S METRICS VISUALIZATION \")\n",
    "\n",
    "    # Rescale the y-axis for accuracy, auc, precision, and f1\n",
    "    rescale_factor = 0  # Adjust this factor to control the rescaling\n",
    "\n",
    "    ax1.plot(range(1, len(acc) + 1), acc)\n",
    "    ax1.plot(range(1, len(val_acc) + 1), val_acc)\n",
    "    ax1.set_title('History of Accuracy')\n",
    "    ax1.set_xlabel('Epochs')\n",
    "    ax1.set_ylabel('Accuracy')\n",
    "    ax1.set_ylim([0, 1.0])\n",
    "    ax1.legend(['training', 'validation'])\n",
    "\n",
    "    ax2.plot(range(1, len(loss) + 1), loss)\n",
    "    ax2.plot(range(1, len(val_loss) + 1), val_loss)\n",
    "    ax2.set_title('History of Loss')\n",
    "    ax2.set_xlabel('Epochs')\n",
    "    ax2.set_ylabel('Loss')\n",
    "    ax2.legend(['training', 'validation'])\n",
    "\n",
    "    ax3.plot(range(1, len(auc) + 1), auc)\n",
    "    ax3.plot(range(1, len(val_auc) + 1), val_auc)\n",
    "    ax3.set_title('History of AUC')\n",
    "    ax3.set_xlabel('Epochs')\n",
    "    ax3.set_ylabel('AUC')\n",
    "    ax3.set_ylim([rescale_factor, 1.0])\n",
    "    ax3.legend(['training', 'validation'])\n",
    "\n",
    "    ax4.plot(range(1, len(precision) + 1), precision)\n",
    "    ax4.plot(range(1, len(val_precision) + 1), val_precision)\n",
    "    ax4.set_title('History of Precision')\n",
    "    ax4.set_xlabel('Epochs')\n",
    "    ax4.set_ylabel('Precision')\n",
    "    ax4.set_ylim([rescale_factor, 1.0])\n",
    "    ax4.legend(['training', 'validation'])\n",
    "\n",
    "    ax5.plot(range(1, len(f1) + 1), f1)\n",
    "    ax5.plot(range(1, len(val_f1) + 1), val_f1)\n",
    "    ax5.set_title('History of F1-score')\n",
    "    ax5.set_xlabel('Epochs')\n",
    "    ax5.set_ylabel('F1 score')\n",
    "    ax5.set_ylim([rescale_factor, 1.0])\n",
    "    ax5.legend(['training', 'validation'])\n",
    "\n",
    "    plt.show()\n",
    "\n",
    "# Example usage:\n",
    "Train_Val_Plot(history.history['accuracy'], history.history['val_accuracy'],\n",
    "               history.history['loss'], history.history['val_loss']\n",
    "               ,\n",
    "               history.history['auc'], history.history['val_auc'],\n",
    "               history.history['precision'], history.history['val_precision'],\n",
    "               history.history['f1_score'], history.history['val_f1_score'])\n"
   ]
  },
  {
   "cell_type": "code",
   "execution_count": 30,
   "id": "8ecf530e",
   "metadata": {
    "execution": {
     "iopub.execute_input": "2024-12-27T08:08:27.549995Z",
     "iopub.status.busy": "2024-12-27T08:08:27.549715Z",
     "iopub.status.idle": "2024-12-27T08:08:34.135555Z",
     "shell.execute_reply": "2024-12-27T08:08:34.134800Z"
    },
    "id": "utE8sko2aBjD",
    "papermill": {
     "duration": 6.645148,
     "end_time": "2024-12-27T08:08:34.136844",
     "exception": false,
     "start_time": "2024-12-27T08:08:27.491696",
     "status": "completed"
    },
    "tags": []
   },
   "outputs": [
    {
     "name": "stdout",
     "output_type": "stream",
     "text": [
      "7/7 [==============================] - 6s 917ms/step - loss: 0.0271 - accuracy: 1.0000 - precision: 1.0000 - recall: 1.0000 - auc: 1.0000 - f1_score: 1.0000\n"
     ]
    },
    {
     "data": {
      "text/plain": [
       "[0.02710551954805851, 1.0, 1.0, 1.0, 1.0, 1.0]"
      ]
     },
     "execution_count": 30,
     "metadata": {},
     "output_type": "execute_result"
    }
   ],
   "source": [
    "model.evaluate(test_generator)"
   ]
  },
  {
   "cell_type": "code",
   "execution_count": 31,
   "id": "9b1afc03",
   "metadata": {
    "execution": {
     "iopub.execute_input": "2024-12-27T08:08:34.246273Z",
     "iopub.status.busy": "2024-12-27T08:08:34.246022Z",
     "iopub.status.idle": "2024-12-27T08:08:56.136689Z",
     "shell.execute_reply": "2024-12-27T08:08:56.135697Z"
    },
    "id": "z0kvictcppHg",
    "papermill": {
     "duration": 21.945508,
     "end_time": "2024-12-27T08:08:56.137893",
     "exception": false,
     "start_time": "2024-12-27T08:08:34.192385",
     "status": "completed"
    },
    "tags": []
   },
   "outputs": [
    {
     "name": "stdout",
     "output_type": "stream",
     "text": [
      "7/7 [==============================] - 15s 2s/step\n",
      "              precision    recall  f1-score   support\n",
      "\n",
      "           0       0.96      0.92      0.94        24\n",
      "           1       1.00      1.00      1.00       112\n",
      "           2       0.98      0.99      0.98        83\n",
      "\n",
      "    accuracy                           0.99       219\n",
      "   macro avg       0.98      0.97      0.97       219\n",
      "weighted avg       0.99      0.99      0.99       219\n",
      "\n"
     ]
    }
   ],
   "source": [
    "# Load the test dataset\n",
    "X_test, y_test = [], []\n",
    "for i in range(len(validation_generator)):\n",
    "    batch_X, batch_y = validation_generator[i]\n",
    "    X_test.append(batch_X)\n",
    "    y_test.append(batch_y)\n",
    "X_test = np.concatenate(X_test)\n",
    "y_test = np.concatenate(y_test)\n",
    "\n",
    "# Make predictions on the test set\n",
    "y_pred = model.predict(X_test)\n",
    "\n",
    "# Convert the one-hot encoded predictions to class labels\n",
    "y_pred_classes = np.argmax(y_pred, axis=1)\n",
    "\n",
    "# Convert the one-hot encoded true labels to class labels\n",
    "y_true_classes = np.argmax(y_test, axis=1)\n",
    "\n",
    "# Create a classification report\n",
    "report = classification_report(y_true_classes, y_pred_classes)\n",
    "\n",
    "print(report)"
   ]
  },
  {
   "cell_type": "code",
   "execution_count": 32,
   "id": "7d5c5af7",
   "metadata": {
    "execution": {
     "iopub.execute_input": "2024-12-27T08:08:56.249497Z",
     "iopub.status.busy": "2024-12-27T08:08:56.249070Z",
     "iopub.status.idle": "2024-12-27T08:08:56.431404Z",
     "shell.execute_reply": "2024-12-27T08:08:56.430545Z"
    },
    "id": "1oDQrOfqpz_i",
    "papermill": {
     "duration": 0.242473,
     "end_time": "2024-12-27T08:08:56.434160",
     "exception": false,
     "start_time": "2024-12-27T08:08:56.191687",
     "status": "completed"
    },
    "tags": []
   },
   "outputs": [
    {
     "data": {
      "image/png": "[encoded data removed]",
      "text/plain": [
       "<Figure size 800x600 with 2 Axes>"
      ]
     },
     "metadata": {},
     "output_type": "display_data"
    }
   ],
   "source": [
    "\n",
    "class_names = ['bengin', 'malignant', 'normal']\n",
    "# Create a confusion matrix\n",
    "cm = confusion_matrix(y_true_classes, y_pred_classes)\n",
    "\n",
    "# Plotting the Confusion Matrix\n",
    "plt.figure(figsize=(8, 6))\n",
    "sns.heatmap(cm, annot=True, fmt='d', cmap='Blues', xticklabels=class_names, yticklabels=class_names)\n",
    "plt.xlabel('Predicted')\n",
    "plt.ylabel('True')\n",
    "plt.title('Confusion Matrix')\n",
    "plt.show()\n"
   ]
  }
 ],
 "metadata": {
  "accelerator": "TPU",
  "colab": {
   "gpuType": "V28",
   "provenance": []
  },
  "kaggle": {
   "accelerator": "gpu",
   "dataSources": [
    {
     "datasetId": 6379787,
     "sourceId": 10306236,
     "sourceType": "datasetVersion"
    }
   ],
   "isGpuEnabled": true,
   "isInternetEnabled": true,
   "language": "python",
   "sourceType": "notebook"
  },
  "kernelspec": {
   "display_name": "Python 3",
   "name": "python3"
  },
  "language_info": {
   "codemirror_mode": {
    "name": "ipython",
    "version": 3
   },
   "file_extension": ".py",
   "mimetype": "text/x-python",
   "name": "python",
   "nbconvert_exporter": "python",
   "pygments_lexer": "ipython3",
   "version": "3.10.12"
  },
  "papermill": {
   "default_parameters": {},
   "duration": 3926.627994,
   "end_time": "2024-12-27T08:08:58.522028",
   "environment_variables": {},
   "exception": null,
   "input_path": "__notebook__.ipynb",
   "output_path": "__notebook__.ipynb",
   "parameters": {},
   "start_time": "2024-12-27T07:03:31.894034",
   "version": "2.6.0"
  }
 },
 "nbformat": 4,
 "nbformat_minor": 5
}
