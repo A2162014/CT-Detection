{
 "cells": [
  {
   "cell_type": "code",
   "execution_count": 1,
   "id": "e99adee3",
   "metadata": {
    "execution": {
     "iopub.execute_input": "2024-12-27T05:41:05.103826Z",
     "iopub.status.busy": "2024-12-27T05:41:05.103504Z",
     "iopub.status.idle": "2024-12-27T05:41:05.444917Z",
     "shell.execute_reply": "2024-12-27T05:41:05.444131Z"
    },
    "id": "vEOfs7HCDSNK",
    "outputId": "bd074747-44a5-45ca-fe66-3c826bd465d6",
    "papermill": {
     "duration": 0.348526,
     "end_time": "2024-12-27T05:41:05.446372",
     "exception": false,
     "start_time": "2024-12-27T05:41:05.097846",
     "status": "completed"
    },
    "tags": []
   },
   "outputs": [
    {
     "name": "stdout",
     "output_type": "stream",
     "text": [
      "The virtual environment was not created successfully because ensurepip is not\r\n",
      "available.  On Debian/Ubuntu systems, you need to install the python3-venv\r\n",
      "package using the following command.\r\n",
      "\r\n",
      "    apt install python3.10-venv\r\n",
      "\r\n",
      "You may need to use sudo with that command.  After installing the python3-venv\r\n",
      "package, recreate your virtual environment.\r\n",
      "\r\n",
      "Failing command: /kaggle/working/clean_env/bin/python3\r\n",
      "\r\n",
      "/bin/bash: line 1: clean_env/bin/activate: No such file or directory\r\n"
     ]
    }
   ],
   "source": [
    "!python3 -m venv clean_env\n",
    "!source clean_env/bin/activate  # Activate the environment"
   ]
  },
  {
   "cell_type": "code",
   "execution_count": 2,
   "id": "dca31335",
   "metadata": {
    "execution": {
     "iopub.execute_input": "2024-12-27T05:41:05.456655Z",
     "iopub.status.busy": "2024-12-27T05:41:05.456416Z",
     "iopub.status.idle": "2024-12-27T05:42:22.736092Z",
     "shell.execute_reply": "2024-12-27T05:42:22.735233Z"
    },
    "id": "ybL5Ldy84Ilt",
    "outputId": "e1dd61b9-614c-4540-8e43-d8f5d98e5dd2",
    "papermill": {
     "duration": 77.28626,
     "end_time": "2024-12-27T05:42:22.737553",
     "exception": false,
     "start_time": "2024-12-27T05:41:05.451293",
     "status": "completed"
    },
    "tags": []
   },
   "outputs": [
    {
     "name": "stdout",
     "output_type": "stream",
     "text": [
      "Found existing installation: tensorflow 2.17.0\r\n",
      "Uninstalling tensorflow-2.17.0:\r\n",
      "  Successfully uninstalled tensorflow-2.17.0\r\n",
      "\u001b[33mWARNING: Skipping tensorflow-addons as it is not installed.\u001b[0m\u001b[33m\r\n",
      "\u001b[0mFound existing installation: keras 3.4.1\r\n",
      "Uninstalling keras-3.4.1:\r\n",
      "  Successfully uninstalled keras-3.4.1\r\n",
      "Collecting tensorflow==2.9.0\r\n",
      "  Downloading tensorflow-2.9.0-cp310-cp310-manylinux_2_17_x86_64.manylinux2014_x86_64.whl.metadata (3.0 kB)\r\n",
      "Collecting keras==2.9.0\r\n",
      "  Downloading keras-2.9.0-py2.py3-none-any.whl.metadata (1.3 kB)\r\n",
      "Collecting tensorflow-addons==0.18.0\r\n",
      "  Downloading tensorflow_addons-0.18.0-cp310-cp310-manylinux_2_17_x86_64.manylinux2014_x86_64.whl.metadata (1.8 kB)\r\n",
      "Requirement already satisfied: absl-py>=1.0.0 in /usr/local/lib/python3.10/dist-packages (from tensorflow==2.9.0) (1.4.0)\r\n",
      "Requirement already satisfied: astunparse>=1.6.0 in /usr/local/lib/python3.10/dist-packages (from tensorflow==2.9.0) (1.6.3)\r\n",
      "Collecting flatbuffers<2,>=1.12 (from tensorflow==2.9.0)\r\n",
      "  Downloading flatbuffers-1.12-py2.py3-none-any.whl.metadata (872 bytes)\r\n",
      "Collecting gast<=0.4.0,>=0.2.1 (from tensorflow==2.9.0)\r\n",
      "  Downloading gast-0.4.0-py3-none-any.whl.metadata (1.1 kB)\r\n",
      "Requirement already satisfied: google-pasta>=0.1.1 in /usr/local/lib/python3.10/dist-packages (from tensorflow==2.9.0) (0.2.0)\r\n",
      "Requirement already satisfied: grpcio<2.0,>=1.24.3 in /usr/local/lib/python3.10/dist-packages (from tensorflow==2.9.0) (1.64.1)\r\n",
      "Requirement already satisfied: h5py>=2.9.0 in /usr/local/lib/python3.10/dist-packages (from tensorflow==2.9.0) (3.11.0)\r\n",
      "Collecting keras-preprocessing>=1.1.1 (from tensorflow==2.9.0)\r\n",
      "  Downloading Keras_Preprocessing-1.1.2-py2.py3-none-any.whl.metadata (1.9 kB)\r\n",
      "Requirement already satisfied: libclang>=13.0.0 in /usr/local/lib/python3.10/dist-packages (from tensorflow==2.9.0) (18.1.1)\r\n",
      "Requirement already satisfied: numpy>=1.20 in /usr/local/lib/python3.10/dist-packages (from tensorflow==2.9.0) (1.26.4)\r\n",
      "Requirement already satisfied: opt-einsum>=2.3.2 in /usr/local/lib/python3.10/dist-packages (from tensorflow==2.9.0) (3.3.0)\r\n",
      "Requirement already satisfied: packaging in /usr/local/lib/python3.10/dist-packages (from tensorflow==2.9.0) (24.1)\r\n",
      "Requirement already satisfied: protobuf>=3.9.2 in /usr/local/lib/python3.10/dist-packages (from tensorflow==2.9.0) (3.20.3)\r\n",
      "Requirement already satisfied: setuptools in /usr/local/lib/python3.10/dist-packages (from tensorflow==2.9.0) (71.0.4)\r\n",
      "Requirement already satisfied: six>=1.12.0 in /usr/local/lib/python3.10/dist-packages (from tensorflow==2.9.0) (1.16.0)\r\n",
      "Collecting tensorboard<2.10,>=2.9 (from tensorflow==2.9.0)\r\n",
      "  Downloading tensorboard-2.9.1-py3-none-any.whl.metadata (1.9 kB)\r\n",
      "Requirement already satisfied: tensorflow-io-gcs-filesystem>=0.23.1 in /usr/local/lib/python3.10/dist-packages (from tensorflow==2.9.0) (0.37.1)\r\n",
      "Collecting tensorflow-estimator<2.10.0,>=2.9.0rc0 (from tensorflow==2.9.0)\r\n",
      "  Downloading tensorflow_estimator-2.9.0-py2.py3-none-any.whl.metadata (1.3 kB)\r\n",
      "Requirement already satisfied: termcolor>=1.1.0 in /usr/local/lib/python3.10/dist-packages (from tensorflow==2.9.0) (2.4.0)\r\n",
      "Requirement already satisfied: typing-extensions>=3.6.6 in /usr/local/lib/python3.10/dist-packages (from tensorflow==2.9.0) (4.12.2)\r\n",
      "Requirement already satisfied: wrapt>=1.11.0 in /usr/local/lib/python3.10/dist-packages (from tensorflow==2.9.0) (1.16.0)\r\n",
      "Requirement already satisfied: typeguard>=2.7 in /usr/local/lib/python3.10/dist-packages (from tensorflow-addons==0.18.0) (4.3.0)\r\n",
      "Requirement already satisfied: wheel<1.0,>=0.23.0 in /usr/local/lib/python3.10/dist-packages (from astunparse>=1.6.0->tensorflow==2.9.0) (0.44.0)\r\n",
      "Requirement already satisfied: google-auth<3,>=1.6.3 in /usr/local/lib/python3.10/dist-packages (from tensorboard<2.10,>=2.9->tensorflow==2.9.0) (2.27.0)\r\n",
      "Collecting google-auth-oauthlib<0.5,>=0.4.1 (from tensorboard<2.10,>=2.9->tensorflow==2.9.0)\r\n",
      "  Downloading google_auth_oauthlib-0.4.6-py2.py3-none-any.whl.metadata (2.7 kB)\r\n",
      "Requirement already satisfied: markdown>=2.6.8 in /usr/local/lib/python3.10/dist-packages (from tensorboard<2.10,>=2.9->tensorflow==2.9.0) (3.7)\r\n",
      "Collecting protobuf>=3.9.2 (from tensorflow==2.9.0)\r\n",
      "  Downloading protobuf-3.19.6-cp310-cp310-manylinux_2_17_x86_64.manylinux2014_x86_64.whl.metadata (787 bytes)\r\n",
      "Requirement already satisfied: requests<3,>=2.21.0 in /usr/local/lib/python3.10/dist-packages (from tensorboard<2.10,>=2.9->tensorflow==2.9.0) (2.32.3)\r\n",
      "Collecting tensorboard-data-server<0.7.0,>=0.6.0 (from tensorboard<2.10,>=2.9->tensorflow==2.9.0)\r\n",
      "  Downloading tensorboard_data_server-0.6.1-py3-none-manylinux2010_x86_64.whl.metadata (1.1 kB)\r\n",
      "Collecting tensorboard-plugin-wit>=1.6.0 (from tensorboard<2.10,>=2.9->tensorflow==2.9.0)\r\n",
      "  Downloading tensorboard_plugin_wit-1.8.1-py3-none-any.whl.metadata (873 bytes)\r\n",
      "Requirement already satisfied: werkzeug>=1.0.1 in /usr/local/lib/python3.10/dist-packages (from tensorboard<2.10,>=2.9->tensorflow==2.9.0) (3.0.4)\r\n",
      "Requirement already satisfied: cachetools<6.0,>=2.0.0 in /usr/local/lib/python3.10/dist-packages (from google-auth<3,>=1.6.3->tensorboard<2.10,>=2.9->tensorflow==2.9.0) (5.5.0)\r\n",
      "Requirement already satisfied: pyasn1-modules>=0.2.1 in /usr/local/lib/python3.10/dist-packages (from google-auth<3,>=1.6.3->tensorboard<2.10,>=2.9->tensorflow==2.9.0) (0.4.1)\r\n",
      "Requirement already satisfied: rsa<5,>=3.1.4 in /usr/local/lib/python3.10/dist-packages (from google-auth<3,>=1.6.3->tensorboard<2.10,>=2.9->tensorflow==2.9.0) (4.9)\r\n",
      "Requirement already satisfied: requests-oauthlib>=0.7.0 in /usr/local/lib/python3.10/dist-packages (from google-auth-oauthlib<0.5,>=0.4.1->tensorboard<2.10,>=2.9->tensorflow==2.9.0) (1.3.1)\r\n",
      "Requirement already satisfied: charset-normalizer<4,>=2 in /usr/local/lib/python3.10/dist-packages (from requests<3,>=2.21.0->tensorboard<2.10,>=2.9->tensorflow==2.9.0) (3.3.2)\r\n",
      "Requirement already satisfied: idna<4,>=2.5 in /usr/local/lib/python3.10/dist-packages (from requests<3,>=2.21.0->tensorboard<2.10,>=2.9->tensorflow==2.9.0) (3.10)\r\n",
      "Requirement already satisfied: urllib3<3,>=1.21.1 in /usr/local/lib/python3.10/dist-packages (from requests<3,>=2.21.0->tensorboard<2.10,>=2.9->tensorflow==2.9.0) (2.2.3)\r\n",
      "Requirement already satisfied: certifi>=2017.4.17 in /usr/local/lib/python3.10/dist-packages (from requests<3,>=2.21.0->tensorboard<2.10,>=2.9->tensorflow==2.9.0) (2024.8.30)\r\n",
      "Requirement already satisfied: MarkupSafe>=2.1.1 in /usr/local/lib/python3.10/dist-packages (from werkzeug>=1.0.1->tensorboard<2.10,>=2.9->tensorflow==2.9.0) (2.1.5)\r\n",
      "Requirement already satisfied: pyasn1<0.7.0,>=0.4.6 in /usr/local/lib/python3.10/dist-packages (from pyasn1-modules>=0.2.1->google-auth<3,>=1.6.3->tensorboard<2.10,>=2.9->tensorflow==2.9.0) (0.6.1)\r\n",
      "Requirement already satisfied: oauthlib>=3.0.0 in /usr/local/lib/python3.10/dist-packages (from requests-oauthlib>=0.7.0->google-auth-oauthlib<0.5,>=0.4.1->tensorboard<2.10,>=2.9->tensorflow==2.9.0) (3.2.2)\r\n",
      "Downloading tensorflow-2.9.0-cp310-cp310-manylinux_2_17_x86_64.manylinux2014_x86_64.whl (511.7 MB)\r\n",
      "\u001b[2K   \u001b[90m━━━━━━━━━━━━━━━━━━━━━━━━━━━━━━━━━━━━━━━━\u001b[0m \u001b[32m511.7/511.7 MB\u001b[0m \u001b[31m3.5 MB/s\u001b[0m eta \u001b[36m0:00:00\u001b[0m\r\n",
      "\u001b[?25hDownloading keras-2.9.0-py2.py3-none-any.whl (1.6 MB)\r\n",
      "\u001b[2K   \u001b[90m━━━━━━━━━━━━━━━━━━━━━━━━━━━━━━━━━━━━━━━━\u001b[0m \u001b[32m1.6/1.6 MB\u001b[0m \u001b[31m61.6 MB/s\u001b[0m eta \u001b[36m0:00:00\u001b[0m\r\n",
      "\u001b[?25hDownloading tensorflow_addons-0.18.0-cp310-cp310-manylinux_2_17_x86_64.manylinux2014_x86_64.whl (1.1 MB)\r\n",
      "\u001b[2K   \u001b[90m━━━━━━━━━━━━━━━━━━━━━━━━━━━━━━━━━━━━━━━━\u001b[0m \u001b[32m1.1/1.1 MB\u001b[0m \u001b[31m52.0 MB/s\u001b[0m eta \u001b[36m0:00:00\u001b[0m\r\n",
      "\u001b[?25hDownloading flatbuffers-1.12-py2.py3-none-any.whl (15 kB)\r\n",
      "Downloading gast-0.4.0-py3-none-any.whl (9.8 kB)\r\n",
      "Downloading Keras_Preprocessing-1.1.2-py2.py3-none-any.whl (42 kB)\r\n",
      "\u001b[2K   \u001b[90m━━━━━━━━━━━━━━━━━━━━━━━━━━━━━━━━━━━━━━━━\u001b[0m \u001b[32m42.6/42.6 kB\u001b[0m \u001b[31m2.7 MB/s\u001b[0m eta \u001b[36m0:00:00\u001b[0m\r\n",
      "\u001b[?25hDownloading tensorboard-2.9.1-py3-none-any.whl (5.8 MB)\r\n",
      "\u001b[2K   \u001b[90m━━━━━━━━━━━━━━━━━━━━━━━━━━━━━━━━━━━━━━━━\u001b[0m \u001b[32m5.8/5.8 MB\u001b[0m \u001b[31m97.6 MB/s\u001b[0m eta \u001b[36m0:00:00\u001b[0m\r\n",
      "\u001b[?25hDownloading protobuf-3.19.6-cp310-cp310-manylinux_2_17_x86_64.manylinux2014_x86_64.whl (1.1 MB)\r\n",
      "\u001b[2K   \u001b[90m━━━━━━━━━━━━━━━━━━━━━━━━━━━━━━━━━━━━━━━━\u001b[0m \u001b[32m1.1/1.1 MB\u001b[0m \u001b[31m46.9 MB/s\u001b[0m eta \u001b[36m0:00:00\u001b[0m\r\n",
      "\u001b[?25hDownloading tensorflow_estimator-2.9.0-py2.py3-none-any.whl (438 kB)\r\n",
      "\u001b[2K   \u001b[90m━━━━━━━━━━━━━━━━━━━━━━━━━━━━━━━━━━━━━━━━\u001b[0m \u001b[32m438.7/438.7 kB\u001b[0m \u001b[31m25.9 MB/s\u001b[0m eta \u001b[36m0:00:00\u001b[0m\r\n",
      "\u001b[?25hDownloading google_auth_oauthlib-0.4.6-py2.py3-none-any.whl (18 kB)\r\n",
      "Downloading tensorboard_data_server-0.6.1-py3-none-manylinux2010_x86_64.whl (4.9 MB)\r\n",
      "\u001b[2K   \u001b[90m━━━━━━━━━━━━━━━━━━━━━━━━━━━━━━━━━━━━━━━━\u001b[0m \u001b[32m4.9/4.9 MB\u001b[0m \u001b[31m102.5 MB/s\u001b[0m eta \u001b[36m0:00:00\u001b[0m\r\n",
      "\u001b[?25hDownloading tensorboard_plugin_wit-1.8.1-py3-none-any.whl (781 kB)\r\n",
      "\u001b[2K   \u001b[90m━━━━━━━━━━━━━━━━━━━━━━━━━━━━━━━━━━━━━━━━\u001b[0m \u001b[32m781.3/781.3 kB\u001b[0m \u001b[31m41.4 MB/s\u001b[0m eta \u001b[36m0:00:00\u001b[0m\r\n",
      "\u001b[?25hInstalling collected packages: tensorboard-plugin-wit, keras, flatbuffers, tensorflow-estimator, tensorboard-data-server, protobuf, keras-preprocessing, gast, tensorflow-addons, google-auth-oauthlib, tensorboard, tensorflow\r\n",
      "  Attempting uninstall: flatbuffers\r\n",
      "    Found existing installation: flatbuffers 24.3.25\r\n",
      "    Uninstalling flatbuffers-24.3.25:\r\n",
      "      Successfully uninstalled flatbuffers-24.3.25\r\n",
      "  Attempting uninstall: tensorboard-data-server\r\n",
      "    Found existing installation: tensorboard-data-server 0.7.2\r\n",
      "    Uninstalling tensorboard-data-server-0.7.2:\r\n",
      "      Successfully uninstalled tensorboard-data-server-0.7.2\r\n",
      "  Attempting uninstall: protobuf\r\n",
      "    Found existing installation: protobuf 3.20.3\r\n",
      "    Uninstalling protobuf-3.20.3:\r\n",
      "      Successfully uninstalled protobuf-3.20.3\r\n",
      "  Attempting uninstall: gast\r\n",
      "    Found existing installation: gast 0.6.0\r\n",
      "    Uninstalling gast-0.6.0:\r\n",
      "      Successfully uninstalled gast-0.6.0\r\n",
      "  Attempting uninstall: google-auth-oauthlib\r\n",
      "    Found existing installation: google-auth-oauthlib 1.2.1\r\n",
      "    Uninstalling google-auth-oauthlib-1.2.1:\r\n",
      "      Successfully uninstalled google-auth-oauthlib-1.2.1\r\n",
      "  Attempting uninstall: tensorboard\r\n",
      "    Found existing installation: tensorboard 2.17.0\r\n",
      "    Uninstalling tensorboard-2.17.0:\r\n",
      "      Successfully uninstalled tensorboard-2.17.0\r\n",
      "\u001b[31mERROR: pip's dependency resolver does not currently take into account all the packages that are installed. This behaviour is the source of the following dependency conflicts.\r\n",
      "cudf-cu12 24.4.1 requires protobuf<5,>=3.20, but you have protobuf 3.19.6 which is incompatible.\r\n",
      "cudf-cu12 24.4.1 requires pyarrow<15.0.0a0,>=14.0.1, but you have pyarrow 18.1.0 which is incompatible.\r\n",
      "google-cloud-aiplatform 1.67.1 requires protobuf!=4.21.0,!=4.21.1,!=4.21.2,!=4.21.3,!=4.21.4,!=4.21.5,<6.0.0dev,>=3.20.2, but you have protobuf 3.19.6 which is incompatible.\r\n",
      "google-cloud-bigquery-connection 1.15.5 requires protobuf!=4.21.0,!=4.21.1,!=4.21.2,!=4.21.3,!=4.21.4,!=4.21.5,<6.0.0dev,>=3.20.2, but you have protobuf 3.19.6 which is incompatible.\r\n",
      "google-cloud-bigtable 2.26.0 requires google-api-core[grpc]<3.0.0dev,>=2.16.0, but you have google-api-core 1.34.1 which is incompatible.\r\n",
      "google-cloud-bigtable 2.26.0 requires protobuf!=4.21.0,!=4.21.1,!=4.21.2,!=4.21.3,!=4.21.4,!=4.21.5,<6.0.0dev,>=3.20.2, but you have protobuf 3.19.6 which is incompatible.\r\n",
      "google-cloud-functions 1.16.5 requires protobuf!=4.21.0,!=4.21.1,!=4.21.2,!=4.21.3,!=4.21.4,!=4.21.5,<6.0.0dev,>=3.20.2, but you have protobuf 3.19.6 which is incompatible.\r\n",
      "google-cloud-iam 2.15.2 requires protobuf!=4.21.0,!=4.21.1,!=4.21.2,!=4.21.3,!=4.21.4,!=4.21.5,<6.0.0dev,>=3.20.2, but you have protobuf 3.19.6 which is incompatible.\r\n",
      "google-cloud-language 2.13.4 requires protobuf!=4.21.0,!=4.21.1,!=4.21.2,!=4.21.3,!=4.21.4,!=4.21.5,<6.0.0dev,>=3.20.2, but you have protobuf 3.19.6 which is incompatible.\r\n",
      "google-cloud-pubsub 2.23.1 requires protobuf!=4.21.0,!=4.21.1,!=4.21.2,!=4.21.3,!=4.21.4,!=4.21.5,<6.0.0dev,>=3.20.2, but you have protobuf 3.19.6 which is incompatible.\r\n",
      "google-cloud-resource-manager 1.12.5 requires protobuf!=4.21.0,!=4.21.1,!=4.21.2,!=4.21.3,!=4.21.4,!=4.21.5,<6.0.0dev,>=3.20.2, but you have protobuf 3.19.6 which is incompatible.\r\n",
      "google-cloud-videointelligence 2.15.0 requires protobuf!=4.21.0,!=4.21.1,!=4.21.2,!=4.21.3,!=4.21.4,!=4.21.5,<6.0.0dev,>=3.20.2, but you have protobuf 3.19.6 which is incompatible.\r\n",
      "google-cloud-vision 3.9.0 requires protobuf!=4.21.0,!=4.21.1,!=4.21.2,!=4.21.3,!=4.21.4,!=4.21.5,<6.0.0dev,>=3.20.2, but you have protobuf 3.19.6 which is incompatible.\r\n",
      "googleapis-common-protos 1.65.0 requires protobuf!=3.20.0,!=3.20.1,!=4.21.1,!=4.21.2,!=4.21.3,!=4.21.4,!=4.21.5,<6.0.0.dev0,>=3.20.2, but you have protobuf 3.19.6 which is incompatible.\r\n",
      "grpc-google-iam-v1 0.13.1 requires protobuf!=4.21.1,!=4.21.2,!=4.21.3,!=4.21.4,!=4.21.5,<6.0.0dev,>=3.20.2, but you have protobuf 3.19.6 which is incompatible.\r\n",
      "onnx 1.17.0 requires protobuf>=3.20.2, but you have protobuf 3.19.6 which is incompatible.\r\n",
      "pandas-gbq 0.23.1 requires google-api-core<3.0.0dev,>=2.10.2, but you have google-api-core 1.34.1 which is incompatible.\r\n",
      "pandas-gbq 0.23.1 requires google-auth-oauthlib>=0.7.0, but you have google-auth-oauthlib 0.4.6 which is incompatible.\r\n",
      "tensorflow-datasets 4.9.6 requires protobuf>=3.20, but you have protobuf 3.19.6 which is incompatible.\r\n",
      "tensorflow-decision-forests 1.10.0 requires tensorflow==2.17.0, but you have tensorflow 2.9.0 which is incompatible.\r\n",
      "tensorflow-metadata 1.15.0 requires protobuf<4.21,>=3.20.3; python_version < \"3.11\", but you have protobuf 3.19.6 which is incompatible.\r\n",
      "tensorflow-text 2.17.0 requires tensorflow<2.18,>=2.17.0, but you have tensorflow 2.9.0 which is incompatible.\r\n",
      "tf-keras 2.17.0 requires tensorflow<2.18,>=2.17, but you have tensorflow 2.9.0 which is incompatible.\u001b[0m\u001b[31m\r\n",
      "\u001b[0mSuccessfully installed flatbuffers-1.12 gast-0.4.0 google-auth-oauthlib-0.4.6 keras-2.9.0 keras-preprocessing-1.1.2 protobuf-3.19.6 tensorboard-2.9.1 tensorboard-data-server-0.6.1 tensorboard-plugin-wit-1.8.1 tensorflow-2.9.0 tensorflow-addons-0.18.0 tensorflow-estimator-2.9.0\r\n"
     ]
    }
   ],
   "source": [
    "!pip uninstall tensorflow tensorflow-addons keras -y\n",
    "!pip install tensorflow==2.9.0 keras==2.9.0 tensorflow-addons==0.18.0\n"
   ]
  },
  {
   "cell_type": "code",
   "execution_count": 3,
   "id": "e777d3ae",
   "metadata": {
    "execution": {
     "iopub.execute_input": "2024-12-27T05:42:22.762064Z",
     "iopub.status.busy": "2024-12-27T05:42:22.761795Z",
     "iopub.status.idle": "2024-12-27T05:42:22.765179Z",
     "shell.execute_reply": "2024-12-27T05:42:22.764534Z"
    },
    "id": "GitBDng_36xV",
    "papermill": {
     "duration": 0.016789,
     "end_time": "2024-12-27T05:42:22.766424",
     "exception": false,
     "start_time": "2024-12-27T05:42:22.749635",
     "status": "completed"
    },
    "tags": []
   },
   "outputs": [],
   "source": [
    "import zipfile"
   ]
  },
  {
   "cell_type": "code",
   "execution_count": 4,
   "id": "1fec1936",
   "metadata": {
    "execution": {
     "iopub.execute_input": "2024-12-27T05:42:22.790780Z",
     "iopub.status.busy": "2024-12-27T05:42:22.790554Z",
     "iopub.status.idle": "2024-12-27T05:42:28.737119Z",
     "shell.execute_reply": "2024-12-27T05:42:28.736203Z"
    },
    "id": "z3FHA2tYbNfx",
    "papermill": {
     "duration": 5.960489,
     "end_time": "2024-12-27T05:42:28.738668",
     "exception": false,
     "start_time": "2024-12-27T05:42:22.778179",
     "status": "completed"
    },
    "tags": []
   },
   "outputs": [],
   "source": [
    "import zipfile\n",
    "import os\n",
    "import random\n",
    "import shutil\n",
    "import numpy as np\n",
    "import pandas as pd\n",
    "import matplotlib.pyplot as plt\n",
    "import seaborn as sns\n",
    "import skimage.io\n",
    "import keras.backend as K\n",
    "import tensorflow as tf\n",
    "import tensorflow_addons as tfa\n",
    "from tensorflow.keras.models import Sequential, Model\n",
    "from tensorflow.keras.applications import(InceptionV3, MobileNetV2, DenseNet121, ResNet50, EfficientNetV2B0, Xception)\n",
    "from tensorflow.keras.layers import (Conv2D, MaxPooling2D, Flatten, Dense, Dropout,BatchNormalization, Activation, GlobalAveragePooling2D,DepthwiseConv2D, Input, Add, Concatenate)\n",
    "from tensorflow.keras.optimizers import Adam\n",
    "from tensorflow.keras.losses import CategoricalCrossentropy\n",
    "from tensorflow.keras.preprocessing.image import ImageDataGenerator\n",
    "from tensorflow.keras.callbacks import ReduceLROnPlateau, ModelCheckpoint, EarlyStopping, LearningRateScheduler\n",
    "from sklearn.metrics import confusion_matrix, classification_report, accuracy_score\n",
    "from sklearn.model_selection import train_test_split\n",
    "from tensorflow.keras.utils import plot_model\n",
    "from IPython.display import Image\n"
   ]
  },
  {
   "cell_type": "markdown",
   "id": "97f5c143",
   "metadata": {
    "id": "PO_UpS4vaBi8",
    "papermill": {
     "duration": 0.011853,
     "end_time": "2024-12-27T05:42:28.762765",
     "exception": false,
     "start_time": "2024-12-27T05:42:28.750912",
     "status": "completed"
    },
    "tags": []
   },
   "source": [
    "Try 3"
   ]
  },
  {
   "cell_type": "code",
   "execution_count": 5,
   "id": "e3a2b549",
   "metadata": {
    "execution": {
     "iopub.execute_input": "2024-12-27T05:42:28.787428Z",
     "iopub.status.busy": "2024-12-27T05:42:28.786866Z",
     "iopub.status.idle": "2024-12-27T05:42:28.790165Z",
     "shell.execute_reply": "2024-12-27T05:42:28.789418Z"
    },
    "id": "QyN8qV0huMwD",
    "papermill": {
     "duration": 0.016683,
     "end_time": "2024-12-27T05:42:28.791284",
     "exception": false,
     "start_time": "2024-12-27T05:42:28.774601",
     "status": "completed"
    },
    "tags": []
   },
   "outputs": [],
   "source": [
    "# zip_path = \"/content/drive/MyDrive/iq-oth.zip\"  # Path to the ZIP file\n",
    "# extracted_path = \"/content/chest_ctscan_images\"  # Path to extract the files\n",
    "# with zipfile.ZipFile(zip_path, 'r') as zip_ref:\n",
    "#     zip_ref.extractall(extracted_path)"
   ]
  },
  {
   "cell_type": "code",
   "execution_count": 6,
   "id": "989ddd25",
   "metadata": {
    "execution": {
     "iopub.execute_input": "2024-12-27T05:42:28.814802Z",
     "iopub.status.busy": "2024-12-27T05:42:28.814567Z",
     "iopub.status.idle": "2024-12-27T05:42:28.817607Z",
     "shell.execute_reply": "2024-12-27T05:42:28.817010Z"
    },
    "id": "psN1jH926Z7t",
    "papermill": {
     "duration": 0.016095,
     "end_time": "2024-12-27T05:42:28.818761",
     "exception": false,
     "start_time": "2024-12-27T05:42:28.802666",
     "status": "completed"
    },
    "tags": []
   },
   "outputs": [],
   "source": [
    "main_dir = \"/kaggle/input/iq-oth/The IQ-OTHNCCD lung cancer dataset/The IQ-OTHNCCD lung cancer dataset\""
   ]
  },
  {
   "cell_type": "code",
   "execution_count": 7,
   "id": "63a89995",
   "metadata": {
    "execution": {
     "iopub.execute_input": "2024-12-27T05:42:28.842458Z",
     "iopub.status.busy": "2024-12-27T05:42:28.842233Z",
     "iopub.status.idle": "2024-12-27T05:42:28.845165Z",
     "shell.execute_reply": "2024-12-27T05:42:28.844552Z"
    },
    "id": "TwEwT2nCuPYv",
    "papermill": {
     "duration": 0.015928,
     "end_time": "2024-12-27T05:42:28.846281",
     "exception": false,
     "start_time": "2024-12-27T05:42:28.830353",
     "status": "completed"
    },
    "tags": []
   },
   "outputs": [],
   "source": [
    "train_dir = \"/kaggle/working/ct-scan/train\"\n",
    "valid_dir = \"/kaggle/working/ct-scan/valid\"\n",
    "test_dir = \"/kaggle/working/ct-scan/test\""
   ]
  },
  {
   "cell_type": "code",
   "execution_count": 8,
   "id": "8212a929",
   "metadata": {
    "execution": {
     "iopub.execute_input": "2024-12-27T05:42:28.869885Z",
     "iopub.status.busy": "2024-12-27T05:42:28.869682Z",
     "iopub.status.idle": "2024-12-27T05:42:35.343474Z",
     "shell.execute_reply": "2024-12-27T05:42:35.342556Z"
    },
    "id": "cUjh_ksquT_w",
    "papermill": {
     "duration": 6.487489,
     "end_time": "2024-12-27T05:42:35.345183",
     "exception": false,
     "start_time": "2024-12-27T05:42:28.857694",
     "status": "completed"
    },
    "tags": []
   },
   "outputs": [],
   "source": [
    "def split_data(source_dir, train_dir, valid_dir, test_dir, train_ratio=0.7, valid_ratio=0.2, test_ratio=0.1):\n",
    "\n",
    "    for class_name in os.listdir(source_dir):\n",
    "        class_source_path = os.path.join(source_dir, class_name)\n",
    "        class_train_path = os.path.join(train_dir, class_name)\n",
    "        class_valid_path = os.path.join(valid_dir, class_name)\n",
    "        class_test_path = os.path.join(test_dir, class_name)\n",
    "\n",
    "        # Create subdirectories for each class if they don't exist\n",
    "        os.makedirs(class_train_path, exist_ok=True)\n",
    "        os.makedirs(class_valid_path, exist_ok=True)\n",
    "        os.makedirs(class_test_path, exist_ok=True)\n",
    "\n",
    "        all_files = os.listdir(class_source_path)\n",
    "        random.shuffle(all_files)  # Shuffle the files randomly\n",
    "\n",
    "        # Calculate split indices\n",
    "        train_end = int(len(all_files) * train_ratio)\n",
    "        valid_end = train_end + int(len(all_files) * valid_ratio)\n",
    "\n",
    "        # Split the files\n",
    "        train_files = all_files[:train_end]\n",
    "        valid_files = all_files[train_end:valid_end]\n",
    "        test_files = all_files[valid_end:]\n",
    "\n",
    "        # Move files to respective directories\n",
    "        for file in train_files:\n",
    "            shutil.copy(os.path.join(class_source_path, file), os.path.join(class_train_path, file))\n",
    "        for file in valid_files:\n",
    "            shutil.copy(os.path.join(class_source_path, file), os.path.join(class_valid_path, file))\n",
    "        for file in test_files:\n",
    "            shutil.copy(os.path.join(class_source_path, file), os.path.join(class_test_path, file))\n",
    "\n",
    "\n",
    "# Call the function to split the data\n",
    "split_data(main_dir, train_dir, valid_dir, test_dir)"
   ]
  },
  {
   "cell_type": "code",
   "execution_count": 9,
   "id": "b8821735",
   "metadata": {
    "execution": {
     "iopub.execute_input": "2024-12-27T05:42:35.370160Z",
     "iopub.status.busy": "2024-12-27T05:42:35.369893Z",
     "iopub.status.idle": "2024-12-27T05:42:35.373167Z",
     "shell.execute_reply": "2024-12-27T05:42:35.372493Z"
    },
    "id": "OBHrYqxLuU5C",
    "papermill": {
     "duration": 0.017149,
     "end_time": "2024-12-27T05:42:35.374484",
     "exception": false,
     "start_time": "2024-12-27T05:42:35.357335",
     "status": "completed"
    },
    "tags": []
   },
   "outputs": [],
   "source": [
    "train_datagen = ImageDataGenerator(\n",
    "    # rescale=1.0/255,\n",
    "    # rotation_range=20,\n",
    "    # width_shift_range=0.2,\n",
    "    # height_shift_range=0.2,\n",
    "    # shear_range=0.2,\n",
    "    # zoom_range=0.2,\n",
    "    # horizontal_flip=True\n",
    ")"
   ]
  },
  {
   "cell_type": "code",
   "execution_count": 10,
   "id": "3743671f",
   "metadata": {
    "execution": {
     "iopub.execute_input": "2024-12-27T05:42:35.399649Z",
     "iopub.status.busy": "2024-12-27T05:42:35.399422Z",
     "iopub.status.idle": "2024-12-27T05:42:35.402356Z",
     "shell.execute_reply": "2024-12-27T05:42:35.401718Z"
    },
    "id": "5OZi-BPsuYkQ",
    "papermill": {
     "duration": 0.016552,
     "end_time": "2024-12-27T05:42:35.403601",
     "exception": false,
     "start_time": "2024-12-27T05:42:35.387049",
     "status": "completed"
    },
    "tags": []
   },
   "outputs": [],
   "source": [
    "valid_datagen = ImageDataGenerator()\n",
    "test_datagen = ImageDataGenerator()"
   ]
  },
  {
   "cell_type": "code",
   "execution_count": 11,
   "id": "815d62b9",
   "metadata": {
    "execution": {
     "iopub.execute_input": "2024-12-27T05:42:35.428170Z",
     "iopub.status.busy": "2024-12-27T05:42:35.427853Z",
     "iopub.status.idle": "2024-12-27T05:42:35.448335Z",
     "shell.execute_reply": "2024-12-27T05:42:35.447597Z"
    },
    "id": "s58bw8FiuczT",
    "outputId": "7aadd13e-a4ca-42d6-c4e1-8a8c09885c90",
    "papermill": {
     "duration": 0.034253,
     "end_time": "2024-12-27T05:42:35.449485",
     "exception": false,
     "start_time": "2024-12-27T05:42:35.415232",
     "status": "completed"
    },
    "tags": []
   },
   "outputs": [
    {
     "name": "stdout",
     "output_type": "stream",
     "text": [
      "Found 767 images belonging to 3 classes.\n"
     ]
    }
   ],
   "source": [
    "train_generator = train_datagen.flow_from_directory(\n",
    "    train_dir,\n",
    "    target_size=(224,224),\n",
    "    batch_size=16,\n",
    "    class_mode='categorical'\n",
    ")"
   ]
  },
  {
   "cell_type": "code",
   "execution_count": 12,
   "id": "ccd54af0",
   "metadata": {
    "execution": {
     "iopub.execute_input": "2024-12-27T05:42:35.474256Z",
     "iopub.status.busy": "2024-12-27T05:42:35.474045Z",
     "iopub.status.idle": "2024-12-27T05:42:35.484278Z",
     "shell.execute_reply": "2024-12-27T05:42:35.483535Z"
    },
    "id": "_VAT1nn6ufRV",
    "outputId": "e94fa4a2-fb97-4b45-9ffa-1de86e63561c",
    "papermill": {
     "duration": 0.024223,
     "end_time": "2024-12-27T05:42:35.485618",
     "exception": false,
     "start_time": "2024-12-27T05:42:35.461395",
     "status": "completed"
    },
    "tags": []
   },
   "outputs": [
    {
     "name": "stdout",
     "output_type": "stream",
     "text": [
      "Found 219 images belonging to 3 classes.\n"
     ]
    }
   ],
   "source": [
    "validation_generator = valid_datagen.flow_from_directory(\n",
    "    valid_dir,\n",
    "    target_size=(224,224),\n",
    "    batch_size=16,\n",
    "    class_mode='categorical'\n",
    ")"
   ]
  },
  {
   "cell_type": "code",
   "execution_count": 13,
   "id": "45c83b80",
   "metadata": {
    "execution": {
     "iopub.execute_input": "2024-12-27T05:42:35.510376Z",
     "iopub.status.busy": "2024-12-27T05:42:35.510147Z",
     "iopub.status.idle": "2024-12-27T05:42:35.519344Z",
     "shell.execute_reply": "2024-12-27T05:42:35.518469Z"
    },
    "id": "79higThAuhq_",
    "outputId": "0195383a-337c-4a15-f3a4-1ae961e06629",
    "papermill": {
     "duration": 0.022855,
     "end_time": "2024-12-27T05:42:35.520643",
     "exception": false,
     "start_time": "2024-12-27T05:42:35.497788",
     "status": "completed"
    },
    "tags": []
   },
   "outputs": [
    {
     "name": "stdout",
     "output_type": "stream",
     "text": [
      "Found 111 images belonging to 3 classes.\n"
     ]
    }
   ],
   "source": [
    "test_generator = test_datagen.flow_from_directory(\n",
    "    test_dir,\n",
    "    target_size=(224,224),\n",
    "    batch_size=16,\n",
    "    class_mode='categorical'\n",
    ")"
   ]
  },
  {
   "cell_type": "code",
   "execution_count": 14,
   "id": "af544038",
   "metadata": {
    "execution": {
     "iopub.execute_input": "2024-12-27T05:42:35.545534Z",
     "iopub.status.busy": "2024-12-27T05:42:35.545331Z",
     "iopub.status.idle": "2024-12-27T05:42:35.548378Z",
     "shell.execute_reply": "2024-12-27T05:42:35.547732Z"
    },
    "id": "wJy_CEHicRgM",
    "papermill": {
     "duration": 0.016726,
     "end_time": "2024-12-27T05:42:35.549480",
     "exception": false,
     "start_time": "2024-12-27T05:42:35.532754",
     "status": "completed"
    },
    "tags": []
   },
   "outputs": [],
   "source": [
    "os.makedirs(test_dir, exist_ok=True)\n"
   ]
  },
  {
   "cell_type": "code",
   "execution_count": 15,
   "id": "19226188",
   "metadata": {
    "execution": {
     "iopub.execute_input": "2024-12-27T05:42:35.573897Z",
     "iopub.status.busy": "2024-12-27T05:42:35.573696Z",
     "iopub.status.idle": "2024-12-27T05:42:35.577863Z",
     "shell.execute_reply": "2024-12-27T05:42:35.577214Z"
    },
    "id": "d4p9qKimcXnV",
    "outputId": "f03bfaf9-2fd8-470d-e955-f41f5a9dab9e",
    "papermill": {
     "duration": 0.017512,
     "end_time": "2024-12-27T05:42:35.578999",
     "exception": false,
     "start_time": "2024-12-27T05:42:35.561487",
     "status": "completed"
    },
    "tags": []
   },
   "outputs": [
    {
     "name": "stdout",
     "output_type": "stream",
     "text": [
      "Number of files in test directory: 3\n"
     ]
    }
   ],
   "source": [
    "# Example to list files in the test directory\n",
    "test_files = os.listdir(test_dir)\n",
    "print(\"Number of files in test directory:\", len(test_files))"
   ]
  },
  {
   "cell_type": "code",
   "execution_count": 16,
   "id": "164018c2",
   "metadata": {
    "execution": {
     "iopub.execute_input": "2024-12-27T05:42:35.603664Z",
     "iopub.status.busy": "2024-12-27T05:42:35.603422Z",
     "iopub.status.idle": "2024-12-27T05:42:35.607028Z",
     "shell.execute_reply": "2024-12-27T05:42:35.606297Z"
    },
    "id": "gL6e9ixdcBKR",
    "outputId": "a8260ec8-6a70-4ef9-a8cb-b21399ad5a8d",
    "papermill": {
     "duration": 0.017336,
     "end_time": "2024-12-27T05:42:35.608146",
     "exception": false,
     "start_time": "2024-12-27T05:42:35.590810",
     "status": "completed"
    },
    "tags": []
   },
   "outputs": [
    {
     "name": "stdout",
     "output_type": "stream",
     "text": [
      "Test directory: /kaggle/working/ct-scan/test\n"
     ]
    }
   ],
   "source": [
    "print(\"Test directory:\", test_dir)\n"
   ]
  },
  {
   "cell_type": "code",
   "execution_count": 17,
   "id": "2c5de59e",
   "metadata": {
    "execution": {
     "iopub.execute_input": "2024-12-27T05:42:35.633312Z",
     "iopub.status.busy": "2024-12-27T05:42:35.633105Z",
     "iopub.status.idle": "2024-12-27T05:42:35.637163Z",
     "shell.execute_reply": "2024-12-27T05:42:35.636392Z"
    },
    "id": "JVXysXnmD-9z",
    "papermill": {
     "duration": 0.018046,
     "end_time": "2024-12-27T05:42:35.638432",
     "exception": false,
     "start_time": "2024-12-27T05:42:35.620386",
     "status": "completed"
    },
    "tags": []
   },
   "outputs": [],
   "source": [
    "def f1_score(y_true, y_pred):\n",
    "    true_positives = K.sum(K.round(K.clip(y_true * y_pred, 0, 1)))\n",
    "    possible_positives = K.sum(K.round(K.clip(y_true, 0, 1)))\n",
    "    predicted_positives = K.sum(K.round(K.clip(y_pred, 0, 1)))\n",
    "    precision = true_positives / (predicted_positives + K.epsilon())\n",
    "    recall = true_positives / (possible_positives + K.epsilon())\n",
    "    f1_val = 2 * (precision * recall) / (precision + recall + K.epsilon())\n",
    "    return f1_val"
   ]
  },
  {
   "cell_type": "code",
   "execution_count": 18,
   "id": "1e2c0bf7",
   "metadata": {
    "execution": {
     "iopub.execute_input": "2024-12-27T05:42:35.663044Z",
     "iopub.status.busy": "2024-12-27T05:42:35.662804Z",
     "iopub.status.idle": "2024-12-27T05:42:36.151676Z",
     "shell.execute_reply": "2024-12-27T05:42:36.150925Z"
    },
    "id": "aJPN14HlEZe-",
    "papermill": {
     "duration": 0.502817,
     "end_time": "2024-12-27T05:42:36.153226",
     "exception": false,
     "start_time": "2024-12-27T05:42:35.650409",
     "status": "completed"
    },
    "tags": []
   },
   "outputs": [],
   "source": [
    "METRICS = [\n",
    "    tf.keras.metrics.CategoricalAccuracy(name='accuracy'),\n",
    "    tf.keras.metrics.Precision(name='precision'),\n",
    "    tf.keras.metrics.Recall(name='recall'),\n",
    "    tf.keras.metrics.AUC(name='auc'),\n",
    "    tfa.metrics.F1Score(num_classes=3, average=\"micro\", name='f1_score')\n",
    "]"
   ]
  },
  {
   "cell_type": "code",
   "execution_count": 19,
   "id": "c1c77f11",
   "metadata": {
    "execution": {
     "iopub.execute_input": "2024-12-27T05:42:36.178958Z",
     "iopub.status.busy": "2024-12-27T05:42:36.178726Z",
     "iopub.status.idle": "2024-12-27T05:42:38.950527Z",
     "shell.execute_reply": "2024-12-27T05:42:38.949794Z"
    },
    "id": "3pu77guMwmjn",
    "outputId": "db96ba0b-7a93-4303-ca9c-96d5d0010d27",
    "papermill": {
     "duration": 2.786178,
     "end_time": "2024-12-27T05:42:38.952122",
     "exception": false,
     "start_time": "2024-12-27T05:42:36.165944",
     "status": "completed"
    },
    "tags": []
   },
   "outputs": [
    {
     "name": "stdout",
     "output_type": "stream",
     "text": [
      "Downloading data from https://storage.googleapis.com/tensorflow/keras-applications/densenet/densenet121_weights_tf_dim_ordering_tf_kernels_notop.h5\n",
      "29084464/29084464 [==============================] - 0s 0us/step\n"
     ]
    }
   ],
   "source": [
    "base_model = tf.keras.applications.DenseNet121(input_shape=(224,224,3),include_top=False,weights=\"imagenet\")"
   ]
  },
  {
   "cell_type": "code",
   "execution_count": 20,
   "id": "7aa6fffa",
   "metadata": {
    "execution": {
     "iopub.execute_input": "2024-12-27T05:42:38.979594Z",
     "iopub.status.busy": "2024-12-27T05:42:38.979357Z",
     "iopub.status.idle": "2024-12-27T05:42:38.982899Z",
     "shell.execute_reply": "2024-12-27T05:42:38.982255Z"
    },
    "id": "aSsNkIQCwpXA",
    "papermill": {
     "duration": 0.018784,
     "end_time": "2024-12-27T05:42:38.984017",
     "exception": false,
     "start_time": "2024-12-27T05:42:38.965233",
     "status": "completed"
    },
    "tags": []
   },
   "outputs": [],
   "source": [
    "total_layers = len(base_model.layers)"
   ]
  },
  {
   "cell_type": "code",
   "execution_count": 21,
   "id": "3fe0cc97",
   "metadata": {
    "execution": {
     "iopub.execute_input": "2024-12-27T05:42:39.009585Z",
     "iopub.status.busy": "2024-12-27T05:42:39.009353Z",
     "iopub.status.idle": "2024-12-27T05:42:39.012393Z",
     "shell.execute_reply": "2024-12-27T05:42:39.011742Z"
    },
    "id": "Ff-9hCJ3wts6",
    "papermill": {
     "duration": 0.017139,
     "end_time": "2024-12-27T05:42:39.013571",
     "exception": false,
     "start_time": "2024-12-27T05:42:38.996432",
     "status": "completed"
    },
    "tags": []
   },
   "outputs": [],
   "source": [
    "num_layers_to_freeze = 0"
   ]
  },
  {
   "cell_type": "code",
   "execution_count": 22,
   "id": "1f6bb66f",
   "metadata": {
    "execution": {
     "iopub.execute_input": "2024-12-27T05:42:39.039343Z",
     "iopub.status.busy": "2024-12-27T05:42:39.039129Z",
     "iopub.status.idle": "2024-12-27T05:42:39.042551Z",
     "shell.execute_reply": "2024-12-27T05:42:39.041874Z"
    },
    "id": "sKFHPjmTwu3K",
    "papermill": {
     "duration": 0.01748,
     "end_time": "2024-12-27T05:42:39.043734",
     "exception": false,
     "start_time": "2024-12-27T05:42:39.026254",
     "status": "completed"
    },
    "tags": []
   },
   "outputs": [],
   "source": [
    "for layer in base_model.layers[:num_layers_to_freeze]:\n",
    "    layer.trainable = True"
   ]
  },
  {
   "cell_type": "code",
   "execution_count": 23,
   "id": "852a6a2f",
   "metadata": {
    "execution": {
     "iopub.execute_input": "2024-12-27T05:42:39.069539Z",
     "iopub.status.busy": "2024-12-27T05:42:39.069343Z",
     "iopub.status.idle": "2024-12-27T05:42:39.119499Z",
     "shell.execute_reply": "2024-12-27T05:42:39.118816Z"
    },
    "id": "h7_3xPFowxTo",
    "outputId": "4df73297-1e89-4884-aaf0-4ec506792941",
    "papermill": {
     "duration": 0.065002,
     "end_time": "2024-12-27T05:42:39.121370",
     "exception": false,
     "start_time": "2024-12-27T05:42:39.056368",
     "status": "completed"
    },
    "tags": []
   },
   "outputs": [
    {
     "name": "stdout",
     "output_type": "stream",
     "text": [
      "Layer 0: input_1, Trainable: True\n",
      "Layer 1: zero_padding2d, Trainable: True\n",
      "Layer 2: conv1/conv, Trainable: True\n",
      "Layer 3: conv1/bn, Trainable: True\n",
      "Layer 4: conv1/relu, Trainable: True\n",
      "Layer 5: zero_padding2d_1, Trainable: True\n",
      "Layer 6: pool1, Trainable: True\n",
      "Layer 7: conv2_block1_0_bn, Trainable: True\n",
      "Layer 8: conv2_block1_0_relu, Trainable: True\n",
      "Layer 9: conv2_block1_1_conv, Trainable: True\n",
      "Layer 10: conv2_block1_1_bn, Trainable: True\n",
      "Layer 11: conv2_block1_1_relu, Trainable: True\n",
      "Layer 12: conv2_block1_2_conv, Trainable: True\n",
      "Layer 13: conv2_block1_concat, Trainable: True\n",
      "Layer 14: conv2_block2_0_bn, Trainable: True\n",
      "Layer 15: conv2_block2_0_relu, Trainable: True\n",
      "Layer 16: conv2_block2_1_conv, Trainable: True\n",
      "Layer 17: conv2_block2_1_bn, Trainable: True\n",
      "Layer 18: conv2_block2_1_relu, Trainable: True\n",
      "Layer 19: conv2_block2_2_conv, Trainable: True\n",
      "Layer 20: conv2_block2_concat, Trainable: True\n",
      "Layer 21: conv2_block3_0_bn, Trainable: True\n",
      "Layer 22: conv2_block3_0_relu, Trainable: True\n",
      "Layer 23: conv2_block3_1_conv, Trainable: True\n",
      "Layer 24: conv2_block3_1_bn, Trainable: True\n",
      "Layer 25: conv2_block3_1_relu, Trainable: True\n",
      "Layer 26: conv2_block3_2_conv, Trainable: True\n",
      "Layer 27: conv2_block3_concat, Trainable: True\n",
      "Layer 28: conv2_block4_0_bn, Trainable: True\n",
      "Layer 29: conv2_block4_0_relu, Trainable: True\n",
      "Layer 30: conv2_block4_1_conv, Trainable: True\n",
      "Layer 31: conv2_block4_1_bn, Trainable: True\n",
      "Layer 32: conv2_block4_1_relu, Trainable: True\n",
      "Layer 33: conv2_block4_2_conv, Trainable: True\n",
      "Layer 34: conv2_block4_concat, Trainable: True\n",
      "Layer 35: conv2_block5_0_bn, Trainable: True\n",
      "Layer 36: conv2_block5_0_relu, Trainable: True\n",
      "Layer 37: conv2_block5_1_conv, Trainable: True\n",
      "Layer 38: conv2_block5_1_bn, Trainable: True\n",
      "Layer 39: conv2_block5_1_relu, Trainable: True\n",
      "Layer 40: conv2_block5_2_conv, Trainable: True\n",
      "Layer 41: conv2_block5_concat, Trainable: True\n",
      "Layer 42: conv2_block6_0_bn, Trainable: True\n",
      "Layer 43: conv2_block6_0_relu, Trainable: True\n",
      "Layer 44: conv2_block6_1_conv, Trainable: True\n",
      "Layer 45: conv2_block6_1_bn, Trainable: True\n",
      "Layer 46: conv2_block6_1_relu, Trainable: True\n",
      "Layer 47: conv2_block6_2_conv, Trainable: True\n",
      "Layer 48: conv2_block6_concat, Trainable: True\n",
      "Layer 49: pool2_bn, Trainable: True\n",
      "Layer 50: pool2_relu, Trainable: True\n",
      "Layer 51: pool2_conv, Trainable: True\n",
      "Layer 52: pool2_pool, Trainable: True\n",
      "Layer 53: conv3_block1_0_bn, Trainable: True\n",
      "Layer 54: conv3_block1_0_relu, Trainable: True\n",
      "Layer 55: conv3_block1_1_conv, Trainable: True\n",
      "Layer 56: conv3_block1_1_bn, Trainable: True\n",
      "Layer 57: conv3_block1_1_relu, Trainable: True\n",
      "Layer 58: conv3_block1_2_conv, Trainable: True\n",
      "Layer 59: conv3_block1_concat, Trainable: True\n",
      "Layer 60: conv3_block2_0_bn, Trainable: True\n",
      "Layer 61: conv3_block2_0_relu, Trainable: True\n",
      "Layer 62: conv3_block2_1_conv, Trainable: True\n",
      "Layer 63: conv3_block2_1_bn, Trainable: True\n",
      "Layer 64: conv3_block2_1_relu, Trainable: True\n",
      "Layer 65: conv3_block2_2_conv, Trainable: True\n",
      "Layer 66: conv3_block2_concat, Trainable: True\n",
      "Layer 67: conv3_block3_0_bn, Trainable: True\n",
      "Layer 68: conv3_block3_0_relu, Trainable: True\n",
      "Layer 69: conv3_block3_1_conv, Trainable: True\n",
      "Layer 70: conv3_block3_1_bn, Trainable: True\n",
      "Layer 71: conv3_block3_1_relu, Trainable: True\n",
      "Layer 72: conv3_block3_2_conv, Trainable: True\n",
      "Layer 73: conv3_block3_concat, Trainable: True\n",
      "Layer 74: conv3_block4_0_bn, Trainable: True\n",
      "Layer 75: conv3_block4_0_relu, Trainable: True\n",
      "Layer 76: conv3_block4_1_conv, Trainable: True\n",
      "Layer 77: conv3_block4_1_bn, Trainable: True\n",
      "Layer 78: conv3_block4_1_relu, Trainable: True\n",
      "Layer 79: conv3_block4_2_conv, Trainable: True\n",
      "Layer 80: conv3_block4_concat, Trainable: True\n",
      "Layer 81: conv3_block5_0_bn, Trainable: True\n",
      "Layer 82: conv3_block5_0_relu, Trainable: True\n",
      "Layer 83: conv3_block5_1_conv, Trainable: True\n",
      "Layer 84: conv3_block5_1_bn, Trainable: True\n",
      "Layer 85: conv3_block5_1_relu, Trainable: True\n",
      "Layer 86: conv3_block5_2_conv, Trainable: True\n",
      "Layer 87: conv3_block5_concat, Trainable: True\n",
      "Layer 88: conv3_block6_0_bn, Trainable: True\n",
      "Layer 89: conv3_block6_0_relu, Trainable: True\n",
      "Layer 90: conv3_block6_1_conv, Trainable: True\n",
      "Layer 91: conv3_block6_1_bn, Trainable: True\n",
      "Layer 92: conv3_block6_1_relu, Trainable: True\n",
      "Layer 93: conv3_block6_2_conv, Trainable: True\n",
      "Layer 94: conv3_block6_concat, Trainable: True\n",
      "Layer 95: conv3_block7_0_bn, Trainable: True\n",
      "Layer 96: conv3_block7_0_relu, Trainable: True\n",
      "Layer 97: conv3_block7_1_conv, Trainable: True\n",
      "Layer 98: conv3_block7_1_bn, Trainable: True\n",
      "Layer 99: conv3_block7_1_relu, Trainable: True\n",
      "Layer 100: conv3_block7_2_conv, Trainable: True\n",
      "Layer 101: conv3_block7_concat, Trainable: True\n",
      "Layer 102: conv3_block8_0_bn, Trainable: True\n",
      "Layer 103: conv3_block8_0_relu, Trainable: True\n",
      "Layer 104: conv3_block8_1_conv, Trainable: True\n",
      "Layer 105: conv3_block8_1_bn, Trainable: True\n",
      "Layer 106: conv3_block8_1_relu, Trainable: True\n",
      "Layer 107: conv3_block8_2_conv, Trainable: True\n",
      "Layer 108: conv3_block8_concat, Trainable: True\n",
      "Layer 109: conv3_block9_0_bn, Trainable: True\n",
      "Layer 110: conv3_block9_0_relu, Trainable: True\n",
      "Layer 111: conv3_block9_1_conv, Trainable: True\n",
      "Layer 112: conv3_block9_1_bn, Trainable: True\n",
      "Layer 113: conv3_block9_1_relu, Trainable: True\n",
      "Layer 114: conv3_block9_2_conv, Trainable: True\n",
      "Layer 115: conv3_block9_concat, Trainable: True\n",
      "Layer 116: conv3_block10_0_bn, Trainable: True\n",
      "Layer 117: conv3_block10_0_relu, Trainable: True\n",
      "Layer 118: conv3_block10_1_conv, Trainable: True\n",
      "Layer 119: conv3_block10_1_bn, Trainable: True\n",
      "Layer 120: conv3_block10_1_relu, Trainable: True\n",
      "Layer 121: conv3_block10_2_conv, Trainable: True\n",
      "Layer 122: conv3_block10_concat, Trainable: True\n",
      "Layer 123: conv3_block11_0_bn, Trainable: True\n",
      "Layer 124: conv3_block11_0_relu, Trainable: True\n",
      "Layer 125: conv3_block11_1_conv, Trainable: True\n",
      "Layer 126: conv3_block11_1_bn, Trainable: True\n",
      "Layer 127: conv3_block11_1_relu, Trainable: True\n",
      "Layer 128: conv3_block11_2_conv, Trainable: True\n",
      "Layer 129: conv3_block11_concat, Trainable: True\n",
      "Layer 130: conv3_block12_0_bn, Trainable: True\n",
      "Layer 131: conv3_block12_0_relu, Trainable: True\n",
      "Layer 132: conv3_block12_1_conv, Trainable: True\n",
      "Layer 133: conv3_block12_1_bn, Trainable: True\n",
      "Layer 134: conv3_block12_1_relu, Trainable: True\n",
      "Layer 135: conv3_block12_2_conv, Trainable: True\n",
      "Layer 136: conv3_block12_concat, Trainable: True\n",
      "Layer 137: pool3_bn, Trainable: True\n",
      "Layer 138: pool3_relu, Trainable: True\n",
      "Layer 139: pool3_conv, Trainable: True\n",
      "Layer 140: pool3_pool, Trainable: True\n",
      "Layer 141: conv4_block1_0_bn, Trainable: True\n",
      "Layer 142: conv4_block1_0_relu, Trainable: True\n",
      "Layer 143: conv4_block1_1_conv, Trainable: True\n",
      "Layer 144: conv4_block1_1_bn, Trainable: True\n",
      "Layer 145: conv4_block1_1_relu, Trainable: True\n",
      "Layer 146: conv4_block1_2_conv, Trainable: True\n",
      "Layer 147: conv4_block1_concat, Trainable: True\n",
      "Layer 148: conv4_block2_0_bn, Trainable: True\n",
      "Layer 149: conv4_block2_0_relu, Trainable: True\n",
      "Layer 150: conv4_block2_1_conv, Trainable: True\n",
      "Layer 151: conv4_block2_1_bn, Trainable: True\n",
      "Layer 152: conv4_block2_1_relu, Trainable: True\n",
      "Layer 153: conv4_block2_2_conv, Trainable: True\n",
      "Layer 154: conv4_block2_concat, Trainable: True\n",
      "Layer 155: conv4_block3_0_bn, Trainable: True\n",
      "Layer 156: conv4_block3_0_relu, Trainable: True\n",
      "Layer 157: conv4_block3_1_conv, Trainable: True\n",
      "Layer 158: conv4_block3_1_bn, Trainable: True\n",
      "Layer 159: conv4_block3_1_relu, Trainable: True\n",
      "Layer 160: conv4_block3_2_conv, Trainable: True\n",
      "Layer 161: conv4_block3_concat, Trainable: True\n",
      "Layer 162: conv4_block4_0_bn, Trainable: True\n",
      "Layer 163: conv4_block4_0_relu, Trainable: True\n",
      "Layer 164: conv4_block4_1_conv, Trainable: True\n",
      "Layer 165: conv4_block4_1_bn, Trainable: True\n",
      "Layer 166: conv4_block4_1_relu, Trainable: True\n",
      "Layer 167: conv4_block4_2_conv, Trainable: True\n",
      "Layer 168: conv4_block4_concat, Trainable: True\n",
      "Layer 169: conv4_block5_0_bn, Trainable: True\n",
      "Layer 170: conv4_block5_0_relu, Trainable: True\n",
      "Layer 171: conv4_block5_1_conv, Trainable: True\n",
      "Layer 172: conv4_block5_1_bn, Trainable: True\n",
      "Layer 173: conv4_block5_1_relu, Trainable: True\n",
      "Layer 174: conv4_block5_2_conv, Trainable: True\n",
      "Layer 175: conv4_block5_concat, Trainable: True\n",
      "Layer 176: conv4_block6_0_bn, Trainable: True\n",
      "Layer 177: conv4_block6_0_relu, Trainable: True\n",
      "Layer 178: conv4_block6_1_conv, Trainable: True\n",
      "Layer 179: conv4_block6_1_bn, Trainable: True\n",
      "Layer 180: conv4_block6_1_relu, Trainable: True\n",
      "Layer 181: conv4_block6_2_conv, Trainable: True\n",
      "Layer 182: conv4_block6_concat, Trainable: True\n",
      "Layer 183: conv4_block7_0_bn, Trainable: True\n",
      "Layer 184: conv4_block7_0_relu, Trainable: True\n",
      "Layer 185: conv4_block7_1_conv, Trainable: True\n",
      "Layer 186: conv4_block7_1_bn, Trainable: True\n",
      "Layer 187: conv4_block7_1_relu, Trainable: True\n",
      "Layer 188: conv4_block7_2_conv, Trainable: True\n",
      "Layer 189: conv4_block7_concat, Trainable: True\n",
      "Layer 190: conv4_block8_0_bn, Trainable: True\n",
      "Layer 191: conv4_block8_0_relu, Trainable: True\n",
      "Layer 192: conv4_block8_1_conv, Trainable: True\n",
      "Layer 193: conv4_block8_1_bn, Trainable: True\n",
      "Layer 194: conv4_block8_1_relu, Trainable: True\n",
      "Layer 195: conv4_block8_2_conv, Trainable: True\n",
      "Layer 196: conv4_block8_concat, Trainable: True\n",
      "Layer 197: conv4_block9_0_bn, Trainable: True\n",
      "Layer 198: conv4_block9_0_relu, Trainable: True\n",
      "Layer 199: conv4_block9_1_conv, Trainable: True\n",
      "Layer 200: conv4_block9_1_bn, Trainable: True\n",
      "Layer 201: conv4_block9_1_relu, Trainable: True\n",
      "Layer 202: conv4_block9_2_conv, Trainable: True\n",
      "Layer 203: conv4_block9_concat, Trainable: True\n",
      "Layer 204: conv4_block10_0_bn, Trainable: True\n",
      "Layer 205: conv4_block10_0_relu, Trainable: True\n",
      "Layer 206: conv4_block10_1_conv, Trainable: True\n",
      "Layer 207: conv4_block10_1_bn, Trainable: True\n",
      "Layer 208: conv4_block10_1_relu, Trainable: True\n",
      "Layer 209: conv4_block10_2_conv, Trainable: True\n",
      "Layer 210: conv4_block10_concat, Trainable: True\n",
      "Layer 211: conv4_block11_0_bn, Trainable: True\n",
      "Layer 212: conv4_block11_0_relu, Trainable: True\n",
      "Layer 213: conv4_block11_1_conv, Trainable: True\n",
      "Layer 214: conv4_block11_1_bn, Trainable: True\n",
      "Layer 215: conv4_block11_1_relu, Trainable: True\n",
      "Layer 216: conv4_block11_2_conv, Trainable: True\n",
      "Layer 217: conv4_block11_concat, Trainable: True\n",
      "Layer 218: conv4_block12_0_bn, Trainable: True\n",
      "Layer 219: conv4_block12_0_relu, Trainable: True\n",
      "Layer 220: conv4_block12_1_conv, Trainable: True\n",
      "Layer 221: conv4_block12_1_bn, Trainable: True\n",
      "Layer 222: conv4_block12_1_relu, Trainable: True\n",
      "Layer 223: conv4_block12_2_conv, Trainable: True\n",
      "Layer 224: conv4_block12_concat, Trainable: True\n",
      "Layer 225: conv4_block13_0_bn, Trainable: True\n",
      "Layer 226: conv4_block13_0_relu, Trainable: True\n",
      "Layer 227: conv4_block13_1_conv, Trainable: True\n",
      "Layer 228: conv4_block13_1_bn, Trainable: True\n",
      "Layer 229: conv4_block13_1_relu, Trainable: True\n",
      "Layer 230: conv4_block13_2_conv, Trainable: True\n",
      "Layer 231: conv4_block13_concat, Trainable: True\n",
      "Layer 232: conv4_block14_0_bn, Trainable: True\n",
      "Layer 233: conv4_block14_0_relu, Trainable: True\n",
      "Layer 234: conv4_block14_1_conv, Trainable: True\n",
      "Layer 235: conv4_block14_1_bn, Trainable: True\n",
      "Layer 236: conv4_block14_1_relu, Trainable: True\n",
      "Layer 237: conv4_block14_2_conv, Trainable: True\n",
      "Layer 238: conv4_block14_concat, Trainable: True\n",
      "Layer 239: conv4_block15_0_bn, Trainable: True\n",
      "Layer 240: conv4_block15_0_relu, Trainable: True\n",
      "Layer 241: conv4_block15_1_conv, Trainable: True\n",
      "Layer 242: conv4_block15_1_bn, Trainable: True\n",
      "Layer 243: conv4_block15_1_relu, Trainable: True\n",
      "Layer 244: conv4_block15_2_conv, Trainable: True\n",
      "Layer 245: conv4_block15_concat, Trainable: True\n",
      "Layer 246: conv4_block16_0_bn, Trainable: True\n",
      "Layer 247: conv4_block16_0_relu, Trainable: True\n",
      "Layer 248: conv4_block16_1_conv, Trainable: True\n",
      "Layer 249: conv4_block16_1_bn, Trainable: True\n",
      "Layer 250: conv4_block16_1_relu, Trainable: True\n",
      "Layer 251: conv4_block16_2_conv, Trainable: True\n",
      "Layer 252: conv4_block16_concat, Trainable: True\n",
      "Layer 253: conv4_block17_0_bn, Trainable: True\n",
      "Layer 254: conv4_block17_0_relu, Trainable: True\n",
      "Layer 255: conv4_block17_1_conv, Trainable: True\n",
      "Layer 256: conv4_block17_1_bn, Trainable: True\n",
      "Layer 257: conv4_block17_1_relu, Trainable: True\n",
      "Layer 258: conv4_block17_2_conv, Trainable: True\n",
      "Layer 259: conv4_block17_concat, Trainable: True\n",
      "Layer 260: conv4_block18_0_bn, Trainable: True\n",
      "Layer 261: conv4_block18_0_relu, Trainable: True\n",
      "Layer 262: conv4_block18_1_conv, Trainable: True\n",
      "Layer 263: conv4_block18_1_bn, Trainable: True\n",
      "Layer 264: conv4_block18_1_relu, Trainable: True\n",
      "Layer 265: conv4_block18_2_conv, Trainable: True\n",
      "Layer 266: conv4_block18_concat, Trainable: True\n",
      "Layer 267: conv4_block19_0_bn, Trainable: True\n",
      "Layer 268: conv4_block19_0_relu, Trainable: True\n",
      "Layer 269: conv4_block19_1_conv, Trainable: True\n",
      "Layer 270: conv4_block19_1_bn, Trainable: True\n",
      "Layer 271: conv4_block19_1_relu, Trainable: True\n",
      "Layer 272: conv4_block19_2_conv, Trainable: True\n",
      "Layer 273: conv4_block19_concat, Trainable: True\n",
      "Layer 274: conv4_block20_0_bn, Trainable: True\n",
      "Layer 275: conv4_block20_0_relu, Trainable: True\n",
      "Layer 276: conv4_block20_1_conv, Trainable: True\n",
      "Layer 277: conv4_block20_1_bn, Trainable: True\n",
      "Layer 278: conv4_block20_1_relu, Trainable: True\n",
      "Layer 279: conv4_block20_2_conv, Trainable: True\n",
      "Layer 280: conv4_block20_concat, Trainable: True\n",
      "Layer 281: conv4_block21_0_bn, Trainable: True\n",
      "Layer 282: conv4_block21_0_relu, Trainable: True\n",
      "Layer 283: conv4_block21_1_conv, Trainable: True\n",
      "Layer 284: conv4_block21_1_bn, Trainable: True\n",
      "Layer 285: conv4_block21_1_relu, Trainable: True\n",
      "Layer 286: conv4_block21_2_conv, Trainable: True\n",
      "Layer 287: conv4_block21_concat, Trainable: True\n",
      "Layer 288: conv4_block22_0_bn, Trainable: True\n",
      "Layer 289: conv4_block22_0_relu, Trainable: True\n",
      "Layer 290: conv4_block22_1_conv, Trainable: True\n",
      "Layer 291: conv4_block22_1_bn, Trainable: True\n",
      "Layer 292: conv4_block22_1_relu, Trainable: True\n",
      "Layer 293: conv4_block22_2_conv, Trainable: True\n",
      "Layer 294: conv4_block22_concat, Trainable: True\n",
      "Layer 295: conv4_block23_0_bn, Trainable: True\n",
      "Layer 296: conv4_block23_0_relu, Trainable: True\n",
      "Layer 297: conv4_block23_1_conv, Trainable: True\n",
      "Layer 298: conv4_block23_1_bn, Trainable: True\n",
      "Layer 299: conv4_block23_1_relu, Trainable: True\n",
      "Layer 300: conv4_block23_2_conv, Trainable: True\n",
      "Layer 301: conv4_block23_concat, Trainable: True\n",
      "Layer 302: conv4_block24_0_bn, Trainable: True\n",
      "Layer 303: conv4_block24_0_relu, Trainable: True\n",
      "Layer 304: conv4_block24_1_conv, Trainable: True\n",
      "Layer 305: conv4_block24_1_bn, Trainable: True\n",
      "Layer 306: conv4_block24_1_relu, Trainable: True\n",
      "Layer 307: conv4_block24_2_conv, Trainable: True\n",
      "Layer 308: conv4_block24_concat, Trainable: True\n",
      "Layer 309: pool4_bn, Trainable: True\n",
      "Layer 310: pool4_relu, Trainable: True\n",
      "Layer 311: pool4_conv, Trainable: True\n",
      "Layer 312: pool4_pool, Trainable: True\n",
      "Layer 313: conv5_block1_0_bn, Trainable: True\n",
      "Layer 314: conv5_block1_0_relu, Trainable: True\n",
      "Layer 315: conv5_block1_1_conv, Trainable: True\n",
      "Layer 316: conv5_block1_1_bn, Trainable: True\n",
      "Layer 317: conv5_block1_1_relu, Trainable: True\n",
      "Layer 318: conv5_block1_2_conv, Trainable: True\n",
      "Layer 319: conv5_block1_concat, Trainable: True\n",
      "Layer 320: conv5_block2_0_bn, Trainable: True\n",
      "Layer 321: conv5_block2_0_relu, Trainable: True\n",
      "Layer 322: conv5_block2_1_conv, Trainable: True\n",
      "Layer 323: conv5_block2_1_bn, Trainable: True\n",
      "Layer 324: conv5_block2_1_relu, Trainable: True\n",
      "Layer 325: conv5_block2_2_conv, Trainable: True\n",
      "Layer 326: conv5_block2_concat, Trainable: True\n",
      "Layer 327: conv5_block3_0_bn, Trainable: True\n",
      "Layer 328: conv5_block3_0_relu, Trainable: True\n",
      "Layer 329: conv5_block3_1_conv, Trainable: True\n",
      "Layer 330: conv5_block3_1_bn, Trainable: True\n",
      "Layer 331: conv5_block3_1_relu, Trainable: True\n",
      "Layer 332: conv5_block3_2_conv, Trainable: True\n",
      "Layer 333: conv5_block3_concat, Trainable: True\n",
      "Layer 334: conv5_block4_0_bn, Trainable: True\n",
      "Layer 335: conv5_block4_0_relu, Trainable: True\n",
      "Layer 336: conv5_block4_1_conv, Trainable: True\n",
      "Layer 337: conv5_block4_1_bn, Trainable: True\n",
      "Layer 338: conv5_block4_1_relu, Trainable: True\n",
      "Layer 339: conv5_block4_2_conv, Trainable: True\n",
      "Layer 340: conv5_block4_concat, Trainable: True\n",
      "Layer 341: conv5_block5_0_bn, Trainable: True\n",
      "Layer 342: conv5_block5_0_relu, Trainable: True\n",
      "Layer 343: conv5_block5_1_conv, Trainable: True\n",
      "Layer 344: conv5_block5_1_bn, Trainable: True\n",
      "Layer 345: conv5_block5_1_relu, Trainable: True\n",
      "Layer 346: conv5_block5_2_conv, Trainable: True\n",
      "Layer 347: conv5_block5_concat, Trainable: True\n",
      "Layer 348: conv5_block6_0_bn, Trainable: True\n",
      "Layer 349: conv5_block6_0_relu, Trainable: True\n",
      "Layer 350: conv5_block6_1_conv, Trainable: True\n",
      "Layer 351: conv5_block6_1_bn, Trainable: True\n",
      "Layer 352: conv5_block6_1_relu, Trainable: True\n",
      "Layer 353: conv5_block6_2_conv, Trainable: True\n",
      "Layer 354: conv5_block6_concat, Trainable: True\n",
      "Layer 355: conv5_block7_0_bn, Trainable: True\n",
      "Layer 356: conv5_block7_0_relu, Trainable: True\n",
      "Layer 357: conv5_block7_1_conv, Trainable: True\n",
      "Layer 358: conv5_block7_1_bn, Trainable: True\n",
      "Layer 359: conv5_block7_1_relu, Trainable: True\n",
      "Layer 360: conv5_block7_2_conv, Trainable: True\n",
      "Layer 361: conv5_block7_concat, Trainable: True\n",
      "Layer 362: conv5_block8_0_bn, Trainable: True\n",
      "Layer 363: conv5_block8_0_relu, Trainable: True\n",
      "Layer 364: conv5_block8_1_conv, Trainable: True\n",
      "Layer 365: conv5_block8_1_bn, Trainable: True\n",
      "Layer 366: conv5_block8_1_relu, Trainable: True\n",
      "Layer 367: conv5_block8_2_conv, Trainable: True\n",
      "Layer 368: conv5_block8_concat, Trainable: True\n",
      "Layer 369: conv5_block9_0_bn, Trainable: True\n",
      "Layer 370: conv5_block9_0_relu, Trainable: True\n",
      "Layer 371: conv5_block9_1_conv, Trainable: True\n",
      "Layer 372: conv5_block9_1_bn, Trainable: True\n",
      "Layer 373: conv5_block9_1_relu, Trainable: True\n",
      "Layer 374: conv5_block9_2_conv, Trainable: True\n",
      "Layer 375: conv5_block9_concat, Trainable: True\n",
      "Layer 376: conv5_block10_0_bn, Trainable: True\n",
      "Layer 377: conv5_block10_0_relu, Trainable: True\n",
      "Layer 378: conv5_block10_1_conv, Trainable: True\n",
      "Layer 379: conv5_block10_1_bn, Trainable: True\n",
      "Layer 380: conv5_block10_1_relu, Trainable: True\n",
      "Layer 381: conv5_block10_2_conv, Trainable: True\n",
      "Layer 382: conv5_block10_concat, Trainable: True\n",
      "Layer 383: conv5_block11_0_bn, Trainable: True\n",
      "Layer 384: conv5_block11_0_relu, Trainable: True\n",
      "Layer 385: conv5_block11_1_conv, Trainable: True\n",
      "Layer 386: conv5_block11_1_bn, Trainable: True\n",
      "Layer 387: conv5_block11_1_relu, Trainable: True\n",
      "Layer 388: conv5_block11_2_conv, Trainable: True\n",
      "Layer 389: conv5_block11_concat, Trainable: True\n",
      "Layer 390: conv5_block12_0_bn, Trainable: True\n",
      "Layer 391: conv5_block12_0_relu, Trainable: True\n",
      "Layer 392: conv5_block12_1_conv, Trainable: True\n",
      "Layer 393: conv5_block12_1_bn, Trainable: True\n",
      "Layer 394: conv5_block12_1_relu, Trainable: True\n",
      "Layer 395: conv5_block12_2_conv, Trainable: True\n",
      "Layer 396: conv5_block12_concat, Trainable: True\n",
      "Layer 397: conv5_block13_0_bn, Trainable: True\n",
      "Layer 398: conv5_block13_0_relu, Trainable: True\n",
      "Layer 399: conv5_block13_1_conv, Trainable: True\n",
      "Layer 400: conv5_block13_1_bn, Trainable: True\n",
      "Layer 401: conv5_block13_1_relu, Trainable: True\n",
      "Layer 402: conv5_block13_2_conv, Trainable: True\n",
      "Layer 403: conv5_block13_concat, Trainable: True\n",
      "Layer 404: conv5_block14_0_bn, Trainable: True\n",
      "Layer 405: conv5_block14_0_relu, Trainable: True\n",
      "Layer 406: conv5_block14_1_conv, Trainable: True\n",
      "Layer 407: conv5_block14_1_bn, Trainable: True\n",
      "Layer 408: conv5_block14_1_relu, Trainable: True\n",
      "Layer 409: conv5_block14_2_conv, Trainable: True\n",
      "Layer 410: conv5_block14_concat, Trainable: True\n",
      "Layer 411: conv5_block15_0_bn, Trainable: True\n",
      "Layer 412: conv5_block15_0_relu, Trainable: True\n",
      "Layer 413: conv5_block15_1_conv, Trainable: True\n",
      "Layer 414: conv5_block15_1_bn, Trainable: True\n",
      "Layer 415: conv5_block15_1_relu, Trainable: True\n",
      "Layer 416: conv5_block15_2_conv, Trainable: True\n",
      "Layer 417: conv5_block15_concat, Trainable: True\n",
      "Layer 418: conv5_block16_0_bn, Trainable: True\n",
      "Layer 419: conv5_block16_0_relu, Trainable: True\n",
      "Layer 420: conv5_block16_1_conv, Trainable: True\n",
      "Layer 421: conv5_block16_1_bn, Trainable: True\n",
      "Layer 422: conv5_block16_1_relu, Trainable: True\n",
      "Layer 423: conv5_block16_2_conv, Trainable: True\n",
      "Layer 424: conv5_block16_concat, Trainable: True\n",
      "Layer 425: bn, Trainable: True\n",
      "Layer 426: relu, Trainable: True\n"
     ]
    }
   ],
   "source": [
    "for i, layer in enumerate(base_model.layers):\n",
    "    print(f\"Layer {i}: {layer.name}, Trainable: {layer.trainable}\")"
   ]
  },
  {
   "cell_type": "code",
   "execution_count": 24,
   "id": "464eeb57",
   "metadata": {
    "execution": {
     "iopub.execute_input": "2024-12-27T05:42:39.149153Z",
     "iopub.status.busy": "2024-12-27T05:42:39.148923Z",
     "iopub.status.idle": "2024-12-27T05:42:39.965730Z",
     "shell.execute_reply": "2024-12-27T05:42:39.965039Z"
    },
    "id": "le6O7kGIw6h6",
    "outputId": "2817dbec-62eb-45cf-9994-5613dd869bd2",
    "papermill": {
     "duration": 0.831666,
     "end_time": "2024-12-27T05:42:39.966870",
     "exception": false,
     "start_time": "2024-12-27T05:42:39.135204",
     "status": "completed"
    },
    "tags": []
   },
   "outputs": [
    {
     "name": "stdout",
     "output_type": "stream",
     "text": [
      "Model: \"sequential\"\n",
      "_________________________________________________________________\n",
      " Layer (type)                Output Shape              Param #   \n",
      "=================================================================\n",
      " densenet121 (Functional)    (None, 7, 7, 1024)        7037504   \n",
      "                                                                 \n",
      " flatten (Flatten)           (None, 50176)             0         \n",
      "                                                                 \n",
      " dense (Dense)               (None, 3)                 150531    \n",
      "                                                                 \n",
      "=================================================================\n",
      "Total params: 7,188,035\n",
      "Trainable params: 7,104,387\n",
      "Non-trainable params: 83,648\n",
      "_________________________________________________________________\n"
     ]
    }
   ],
   "source": [
    "model = Sequential([\n",
    "    base_model,\n",
    "    Flatten(),\n",
    "    Dense(3, activation='softmax')\n",
    "])\n",
    "model.summary()"
   ]
  },
  {
   "cell_type": "code",
   "execution_count": 25,
   "id": "ece00a25",
   "metadata": {
    "execution": {
     "iopub.execute_input": "2024-12-27T05:42:39.996041Z",
     "iopub.status.busy": "2024-12-27T05:42:39.995747Z",
     "iopub.status.idle": "2024-12-27T05:42:40.251507Z",
     "shell.execute_reply": "2024-12-27T05:42:40.250681Z"
    },
    "id": "kIpnFMMF2scs",
    "outputId": "12ed09a6-e767-4211-daf8-ac45ffbaeca2",
    "papermill": {
     "duration": 0.271596,
     "end_time": "2024-12-27T05:42:40.252957",
     "exception": false,
     "start_time": "2024-12-27T05:42:39.981361",
     "status": "completed"
    },
    "tags": []
   },
   "outputs": [
    {
     "data": {
      "image/png": "[encoded data removed]",
      "text/plain": [
       "<IPython.core.display.Image object>"
      ]
     },
     "execution_count": 25,
     "metadata": {},
     "output_type": "execute_result"
    }
   ],
   "source": [
    "from tensorflow.keras.utils import plot_model\n",
    "from IPython.display import Image\n",
    "plot_model(model, to_file='convnet.png', show_shapes=True,show_layer_names=True)\n",
    "Image(filename='convnet.png')"
   ]
  },
  {
   "cell_type": "code",
   "execution_count": 26,
   "id": "925fd842",
   "metadata": {
    "execution": {
     "iopub.execute_input": "2024-12-27T05:42:40.283580Z",
     "iopub.status.busy": "2024-12-27T05:42:40.283348Z",
     "iopub.status.idle": "2024-12-27T05:42:40.300073Z",
     "shell.execute_reply": "2024-12-27T05:42:40.299222Z"
    },
    "id": "CMtjjQwmaBjC",
    "papermill": {
     "duration": 0.032924,
     "end_time": "2024-12-27T05:42:40.301341",
     "exception": false,
     "start_time": "2024-12-27T05:42:40.268417",
     "status": "completed"
    },
    "tags": []
   },
   "outputs": [],
   "source": [
    "model.compile(\n",
    "    loss=\"categorical_crossentropy\",\n",
    "    optimizer=Adam(learning_rate=0.0005),\n",
    "    metrics=METRICS\n",
    ")"
   ]
  },
  {
   "cell_type": "code",
   "execution_count": 27,
   "id": "69cfac5b",
   "metadata": {
    "execution": {
     "iopub.execute_input": "2024-12-27T05:42:40.337954Z",
     "iopub.status.busy": "2024-12-27T05:42:40.337713Z",
     "iopub.status.idle": "2024-12-27T05:42:40.341192Z",
     "shell.execute_reply": "2024-12-27T05:42:40.340481Z"
    },
    "id": "9Zjmg5poaBjC",
    "papermill": {
     "duration": 0.026666,
     "end_time": "2024-12-27T05:42:40.342829",
     "exception": false,
     "start_time": "2024-12-27T05:42:40.316163",
     "status": "completed"
    },
    "tags": []
   },
   "outputs": [],
   "source": [
    "callbacks = [\n",
    "    ModelCheckpoint(\"best_model.keras\", monitor=\"val_accuracy\", save_best_only=True, verbose=1),\n",
    "    EarlyStopping(monitor=\"val_loss\", patience=5, verbose=1, restore_best_weights=True)\n",
    "]"
   ]
  },
  {
   "cell_type": "code",
   "execution_count": 28,
   "id": "5fa803a3",
   "metadata": {
    "execution": {
     "iopub.execute_input": "2024-12-27T05:42:40.396415Z",
     "iopub.status.busy": "2024-12-27T05:42:40.395906Z",
     "iopub.status.idle": "2024-12-27T06:15:40.096109Z",
     "shell.execute_reply": "2024-12-27T06:15:40.095362Z"
    },
    "id": "zgcn2wlOaBjD",
    "outputId": "3847af9f-0cc6-453c-fdf3-9bf4f82c2f62",
    "papermill": {
     "duration": 1979.729242,
     "end_time": "2024-12-27T06:15:40.097420",
     "exception": false,
     "start_time": "2024-12-27T05:42:40.368178",
     "status": "completed"
    },
    "tags": []
   },
   "outputs": [
    {
     "name": "stdout",
     "output_type": "stream",
     "text": [
      "Epoch 1/35\n",
      "48/48 [==============================] - ETA: 0s - loss: 0.9446 - accuracy: 0.8305 - precision: 0.8333 - recall: 0.8279 - auc: 0.9307 - f1_score: 0.8305\n",
      "Epoch 1: val_accuracy improved from -inf to 0.51142, saving model to best_model.keras\n",
      "48/48 [==============================] - 249s 5s/step - loss: 0.9446 - accuracy: 0.8305 - precision: 0.8333 - recall: 0.8279 - auc: 0.9307 - f1_score: 0.8305 - val_loss: 42.7811 - val_accuracy: 0.5114 - val_precision: 0.5114 - val_recall: 0.5114 - val_auc: 0.6336 - val_f1_score: 0.5114\n",
      "Epoch 2/35\n",
      "48/48 [==============================] - ETA: 0s - loss: 0.2280 - accuracy: 0.9296 - precision: 0.9308 - recall: 0.9296 - auc: 0.9847 - f1_score: 0.9296\n",
      "Epoch 2: val_accuracy improved from 0.51142 to 0.52055, saving model to best_model.keras\n",
      "48/48 [==============================] - 231s 5s/step - loss: 0.2280 - accuracy: 0.9296 - precision: 0.9308 - recall: 0.9296 - auc: 0.9847 - f1_score: 0.9296 - val_loss: 45.6463 - val_accuracy: 0.5205 - val_precision: 0.5205 - val_recall: 0.5205 - val_auc: 0.6603 - val_f1_score: 0.5205\n",
      "Epoch 3/35\n",
      "48/48 [==============================] - ETA: 0s - loss: 0.0464 - accuracy: 0.9778 - precision: 0.9791 - recall: 0.9778 - auc: 0.9994 - f1_score: 0.9778\n",
      "Epoch 3: val_accuracy improved from 0.52055 to 0.95434, saving model to best_model.keras\n",
      "48/48 [==============================] - 245s 5s/step - loss: 0.0464 - accuracy: 0.9778 - precision: 0.9791 - recall: 0.9778 - auc: 0.9994 - f1_score: 0.9778 - val_loss: 0.1107 - val_accuracy: 0.9543 - val_precision: 0.9543 - val_recall: 0.9543 - val_auc: 0.9941 - val_f1_score: 0.9543\n",
      "Epoch 4/35\n",
      "48/48 [==============================] - ETA: 0s - loss: 0.0988 - accuracy: 0.9596 - precision: 0.9595 - recall: 0.9583 - auc: 0.9980 - f1_score: 0.9596\n",
      "Epoch 4: val_accuracy did not improve from 0.95434\n",
      "48/48 [==============================] - 233s 5s/step - loss: 0.0988 - accuracy: 0.9596 - precision: 0.9595 - recall: 0.9583 - auc: 0.9980 - f1_score: 0.9596 - val_loss: 10.2722 - val_accuracy: 0.6393 - val_precision: 0.6393 - val_recall: 0.6393 - val_auc: 0.7497 - val_f1_score: 0.6393\n",
      "Epoch 5/35\n",
      "48/48 [==============================] - ETA: 0s - loss: 0.3061 - accuracy: 0.9322 - precision: 0.9370 - recall: 0.9309 - auc: 0.9774 - f1_score: 0.9322\n",
      "Epoch 5: val_accuracy did not improve from 0.95434\n",
      "48/48 [==============================] - 234s 5s/step - loss: 0.3061 - accuracy: 0.9322 - precision: 0.9370 - recall: 0.9309 - auc: 0.9774 - f1_score: 0.9322 - val_loss: 11692.6035 - val_accuracy: 0.5114 - val_precision: 0.5114 - val_recall: 0.5114 - val_auc: 0.6336 - val_f1_score: 0.5114\n",
      "Epoch 6/35\n",
      "48/48 [==============================] - ETA: 0s - loss: 0.0822 - accuracy: 0.9791 - precision: 0.9804 - recall: 0.9765 - auc: 0.9982 - f1_score: 0.9791\n",
      "Epoch 6: val_accuracy did not improve from 0.95434\n",
      "48/48 [==============================] - 237s 5s/step - loss: 0.0822 - accuracy: 0.9791 - precision: 0.9804 - recall: 0.9765 - auc: 0.9982 - f1_score: 0.9791 - val_loss: 164.0154 - val_accuracy: 0.6347 - val_precision: 0.6376 - val_recall: 0.6347 - val_auc: 0.7380 - val_f1_score: 0.6347\n",
      "Epoch 7/35\n",
      "48/48 [==============================] - ETA: 0s - loss: 0.0600 - accuracy: 0.9791 - precision: 0.9791 - recall: 0.9791 - auc: 0.9973 - f1_score: 0.9791\n",
      "Epoch 7: val_accuracy did not improve from 0.95434\n",
      "48/48 [==============================] - 233s 5s/step - loss: 0.0600 - accuracy: 0.9791 - precision: 0.9791 - recall: 0.9791 - auc: 0.9973 - f1_score: 0.9791 - val_loss: 0.2613 - val_accuracy: 0.9406 - val_precision: 0.9406 - val_recall: 0.9406 - val_auc: 0.9841 - val_f1_score: 0.9406\n",
      "Epoch 8/35\n",
      "48/48 [==============================] - ETA: 0s - loss: 0.0653 - accuracy: 0.9791 - precision: 0.9804 - recall: 0.9791 - auc: 0.9981 - f1_score: 0.9791\n",
      "Epoch 8: val_accuracy did not improve from 0.95434\n",
      "Restoring model weights from the end of the best epoch: 3.\n",
      "48/48 [==============================] - 233s 5s/step - loss: 0.0653 - accuracy: 0.9791 - precision: 0.9804 - recall: 0.9791 - auc: 0.9981 - f1_score: 0.9791 - val_loss: 0.9795 - val_accuracy: 0.7534 - val_precision: 0.7628 - val_recall: 0.7489 - val_auc: 0.8987 - val_f1_score: 0.7534\n",
      "Epoch 8: early stopping\n"
     ]
    }
   ],
   "source": [
    "history = model.fit(\n",
    "    train_generator,\n",
    "    validation_data=validation_generator,\n",
    "    epochs=35,\n",
    "    callbacks=callbacks,\n",
    "        verbose=1\n",
    "    #  , class_weight=class_weights\n",
    ")"
   ]
  },
  {
   "cell_type": "code",
   "execution_count": 29,
   "id": "13ff6eeb",
   "metadata": {
    "execution": {
     "iopub.execute_input": "2024-12-27T06:15:40.163627Z",
     "iopub.status.busy": "2024-12-27T06:15:40.163393Z",
     "iopub.status.idle": "2024-12-27T06:15:40.969897Z",
     "shell.execute_reply": "2024-12-27T06:15:40.969056Z"
    },
    "id": "kE8Q1PqGaBjD",
    "papermill": {
     "duration": 0.841754,
     "end_time": "2024-12-27T06:15:40.971812",
     "exception": false,
     "start_time": "2024-12-27T06:15:40.130058",
     "status": "completed"
    },
    "tags": []
   },
   "outputs": [
    {
     "data": {
      "image/png": "[encoded data removed]",
      "text/plain": [
       "<Figure size 2200x500 with 5 Axes>"
      ]
     },
     "metadata": {},
     "output_type": "display_data"
    }
   ],
   "source": [
    "def Train_Val_Plot(acc, val_acc, loss, val_loss, auc, val_auc, precision, val_precision, f1, val_f1):\n",
    "\n",
    "    fig, (ax1, ax2, ax3, ax4, ax5) = plt.subplots(1, 5, figsize=(22, 5))\n",
    "    fig.suptitle(\" MODEL'S METRICS VISUALIZATION \")\n",
    "\n",
    "    # Rescale the y-axis for accuracy, auc, precision, and f1\n",
    "    rescale_factor = 0  # Adjust this factor to control the rescaling\n",
    "\n",
    "    ax1.plot(range(1, len(acc) + 1), acc)\n",
    "    ax1.plot(range(1, len(val_acc) + 1), val_acc)\n",
    "    ax1.set_title('History of Accuracy')\n",
    "    ax1.set_xlabel('Epochs')\n",
    "    ax1.set_ylabel('Accuracy')\n",
    "    ax1.set_ylim([0, 1.0])\n",
    "    ax1.legend(['training', 'validation'])\n",
    "\n",
    "    ax2.plot(range(1, len(loss) + 1), loss)\n",
    "    ax2.plot(range(1, len(val_loss) + 1), val_loss)\n",
    "    ax2.set_title('History of Loss')\n",
    "    ax2.set_xlabel('Epochs')\n",
    "    ax2.set_ylabel('Loss')\n",
    "    ax2.legend(['training', 'validation'])\n",
    "\n",
    "    ax3.plot(range(1, len(auc) + 1), auc)\n",
    "    ax3.plot(range(1, len(val_auc) + 1), val_auc)\n",
    "    ax3.set_title('History of AUC')\n",
    "    ax3.set_xlabel('Epochs')\n",
    "    ax3.set_ylabel('AUC')\n",
    "    ax3.set_ylim([rescale_factor, 1.0])\n",
    "    ax3.legend(['training', 'validation'])\n",
    "\n",
    "    ax4.plot(range(1, len(precision) + 1), precision)\n",
    "    ax4.plot(range(1, len(val_precision) + 1), val_precision)\n",
    "    ax4.set_title('History of Precision')\n",
    "    ax4.set_xlabel('Epochs')\n",
    "    ax4.set_ylabel('Precision')\n",
    "    ax4.set_ylim([rescale_factor, 1.0])\n",
    "    ax4.legend(['training', 'validation'])\n",
    "\n",
    "    ax5.plot(range(1, len(f1) + 1), f1)\n",
    "    ax5.plot(range(1, len(val_f1) + 1), val_f1)\n",
    "    ax5.set_title('History of F1-score')\n",
    "    ax5.set_xlabel('Epochs')\n",
    "    ax5.set_ylabel('F1 score')\n",
    "    ax5.set_ylim([rescale_factor, 1.0])\n",
    "    ax5.legend(['training', 'validation'])\n",
    "\n",
    "    plt.show()\n",
    "\n",
    "# Example usage:\n",
    "Train_Val_Plot(history.history['accuracy'], history.history['val_accuracy'],\n",
    "               history.history['loss'], history.history['val_loss']\n",
    "               ,\n",
    "               history.history['auc'], history.history['val_auc'],\n",
    "               history.history['precision'], history.history['val_precision'],\n",
    "               history.history['f1_score'], history.history['val_f1_score'])\n"
   ]
  },
  {
   "cell_type": "code",
   "execution_count": 30,
   "id": "deaeaaf4",
   "metadata": {
    "execution": {
     "iopub.execute_input": "2024-12-27T06:15:41.043466Z",
     "iopub.status.busy": "2024-12-27T06:15:41.043171Z",
     "iopub.status.idle": "2024-12-27T06:15:45.990035Z",
     "shell.execute_reply": "2024-12-27T06:15:45.989137Z"
    },
    "id": "utE8sko2aBjD",
    "papermill": {
     "duration": 4.98362,
     "end_time": "2024-12-27T06:15:45.991355",
     "exception": false,
     "start_time": "2024-12-27T06:15:41.007735",
     "status": "completed"
    },
    "tags": []
   },
   "outputs": [
    {
     "name": "stdout",
     "output_type": "stream",
     "text": [
      "7/7 [==============================] - 5s 683ms/step - loss: 0.4825 - accuracy: 0.9550 - precision: 0.9550 - recall: 0.9550 - auc: 0.9770 - f1_score: 0.9550\n"
     ]
    },
    {
     "data": {
      "text/plain": [
       "[0.4824620485305786,\n",
       " 0.954954981803894,\n",
       " 0.954954981803894,\n",
       " 0.954954981803894,\n",
       " 0.9769702553749084,\n",
       " 0.954954981803894]"
      ]
     },
     "execution_count": 30,
     "metadata": {},
     "output_type": "execute_result"
    }
   ],
   "source": [
    "model.evaluate(test_generator)"
   ]
  },
  {
   "cell_type": "code",
   "execution_count": 31,
   "id": "c586ba99",
   "metadata": {
    "execution": {
     "iopub.execute_input": "2024-12-27T06:15:46.065129Z",
     "iopub.status.busy": "2024-12-27T06:15:46.064762Z",
     "iopub.status.idle": "2024-12-27T06:15:59.983943Z",
     "shell.execute_reply": "2024-12-27T06:15:59.983122Z"
    },
    "id": "z0kvictcppHg",
    "papermill": {
     "duration": 13.956933,
     "end_time": "2024-12-27T06:15:59.985355",
     "exception": false,
     "start_time": "2024-12-27T06:15:46.028422",
     "status": "completed"
    },
    "tags": []
   },
   "outputs": [
    {
     "name": "stdout",
     "output_type": "stream",
     "text": [
      "7/7 [==============================] - 13s 2s/step\n",
      "              precision    recall  f1-score   support\n",
      "\n",
      "           0       0.80      0.83      0.82        24\n",
      "           1       0.99      1.00      1.00       112\n",
      "           2       0.95      0.93      0.94        83\n",
      "\n",
      "    accuracy                           0.95       219\n",
      "   macro avg       0.91      0.92      0.92       219\n",
      "weighted avg       0.95      0.95      0.95       219\n",
      "\n"
     ]
    }
   ],
   "source": [
    "# Load the test dataset\n",
    "X_test, y_test = [], []\n",
    "for i in range(len(validation_generator)):\n",
    "    batch_X, batch_y = validation_generator[i]\n",
    "    X_test.append(batch_X)\n",
    "    y_test.append(batch_y)\n",
    "X_test = np.concatenate(X_test)\n",
    "y_test = np.concatenate(y_test)\n",
    "\n",
    "# Make predictions on the test set\n",
    "y_pred = model.predict(X_test)\n",
    "\n",
    "# Convert the one-hot encoded predictions to class labels\n",
    "y_pred_classes = np.argmax(y_pred, axis=1)\n",
    "\n",
    "# Convert the one-hot encoded true labels to class labels\n",
    "y_true_classes = np.argmax(y_test, axis=1)\n",
    "\n",
    "# Create a classification report\n",
    "report = classification_report(y_true_classes, y_pred_classes)\n",
    "\n",
    "print(report)"
   ]
  },
  {
   "cell_type": "code",
   "execution_count": 32,
   "id": "f637e142",
   "metadata": {
    "execution": {
     "iopub.execute_input": "2024-12-27T06:16:00.059091Z",
     "iopub.status.busy": "2024-12-27T06:16:00.058791Z",
     "iopub.status.idle": "2024-12-27T06:16:00.315681Z",
     "shell.execute_reply": "2024-12-27T06:16:00.314559Z"
    },
    "id": "1oDQrOfqpz_i",
    "papermill": {
     "duration": 0.295431,
     "end_time": "2024-12-27T06:16:00.317560",
     "exception": false,
     "start_time": "2024-12-27T06:16:00.022129",
     "status": "completed"
    },
    "tags": []
   },
   "outputs": [
    {
     "data": {
      "image/png": "[encoded data removed]",
      "text/plain": [
       "<Figure size 800x600 with 2 Axes>"
      ]
     },
     "metadata": {},
     "output_type": "display_data"
    }
   ],
   "source": [
    "\n",
    "class_names = ['bengin', 'malignant', 'normal']\n",
    "# Create a confusion matrix\n",
    "cm = confusion_matrix(y_true_classes, y_pred_classes)\n",
    "\n",
    "# Plotting the Confusion Matrix\n",
    "plt.figure(figsize=(8, 6))\n",
    "sns.heatmap(cm, annot=True, fmt='d', cmap='Blues', xticklabels=class_names, yticklabels=class_names)\n",
    "plt.xlabel('Predicted')\n",
    "plt.ylabel('True')\n",
    "plt.title('Confusion Matrix')\n",
    "plt.show()\n"
   ]
  }
 ],
 "metadata": {
  "accelerator": "TPU",
  "colab": {
   "gpuType": "V28",
   "provenance": []
  },
  "kaggle": {
   "accelerator": "gpu",
   "dataSources": [
    {
     "datasetId": 6379787,
     "sourceId": 10306236,
     "sourceType": "datasetVersion"
    }
   ],
   "isGpuEnabled": true,
   "isInternetEnabled": true,
   "language": "python",
   "sourceType": "notebook"
  },
  "kernelspec": {
   "display_name": "Python 3",
   "name": "python3"
  },
  "language_info": {
   "codemirror_mode": {
    "name": "ipython",
    "version": 3
   },
   "file_extension": ".py",
   "mimetype": "text/x-python",
   "name": "python",
   "nbconvert_exporter": "python",
   "pygments_lexer": "ipython3",
   "version": "3.10.12"
  },
  "papermill": {
   "default_parameters": {},
   "duration": 2100.109747,
   "end_time": "2024-12-27T06:16:03.053418",
   "environment_variables": {},
   "exception": null,
   "input_path": "__notebook__.ipynb",
   "output_path": "__notebook__.ipynb",
   "parameters": {},
   "start_time": "2024-12-27T05:41:02.943671",
   "version": "2.6.0"
  }
 },
 "nbformat": 4,
 "nbformat_minor": 5
}
