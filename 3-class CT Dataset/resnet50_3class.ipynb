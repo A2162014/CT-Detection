{
 "cells": [
  {
   "cell_type": "code",
   "execution_count": 1,
   "id": "ca04032e",
   "metadata": {
    "execution": {
     "iopub.execute_input": "2024-12-27T06:12:27.837384Z",
     "iopub.status.busy": "2024-12-27T06:12:27.837088Z",
     "iopub.status.idle": "2024-12-27T06:12:28.176838Z",
     "shell.execute_reply": "2024-12-27T06:12:28.175678Z"
    },
    "id": "vEOfs7HCDSNK",
    "outputId": "bd074747-44a5-45ca-fe66-3c826bd465d6",
    "papermill": {
     "duration": 0.348111,
     "end_time": "2024-12-27T06:12:28.178353",
     "exception": false,
     "start_time": "2024-12-27T06:12:27.830242",
     "status": "completed"
    },
    "tags": []
   },
   "outputs": [
    {
     "name": "stdout",
     "output_type": "stream",
     "text": [
      "The virtual environment was not created successfully because ensurepip is not\r\n",
      "available.  On Debian/Ubuntu systems, you need to install the python3-venv\r\n",
      "package using the following command.\r\n",
      "\r\n",
      "    apt install python3.10-venv\r\n",
      "\r\n",
      "You may need to use sudo with that command.  After installing the python3-venv\r\n",
      "package, recreate your virtual environment.\r\n",
      "\r\n",
      "Failing command: /kaggle/working/clean_env/bin/python3\r\n",
      "\r\n",
      "/bin/bash: line 1: clean_env/bin/activate: No such file or directory\r\n"
     ]
    }
   ],
   "source": [
    "!python3 -m venv clean_env\n",
    "!source clean_env/bin/activate  # Activate the environment"
   ]
  },
  {
   "cell_type": "code",
   "execution_count": 2,
   "id": "ee558412",
   "metadata": {
    "execution": {
     "iopub.execute_input": "2024-12-27T06:12:28.188715Z",
     "iopub.status.busy": "2024-12-27T06:12:28.188457Z",
     "iopub.status.idle": "2024-12-27T06:13:43.992516Z",
     "shell.execute_reply": "2024-12-27T06:13:43.991509Z"
    },
    "id": "ybL5Ldy84Ilt",
    "outputId": "e1dd61b9-614c-4540-8e43-d8f5d98e5dd2",
    "papermill": {
     "duration": 75.810846,
     "end_time": "2024-12-27T06:13:43.994050",
     "exception": false,
     "start_time": "2024-12-27T06:12:28.183204",
     "status": "completed"
    },
    "tags": []
   },
   "outputs": [
    {
     "name": "stdout",
     "output_type": "stream",
     "text": [
      "Found existing installation: tensorflow 2.17.0\r\n",
      "Uninstalling tensorflow-2.17.0:\r\n",
      "  Successfully uninstalled tensorflow-2.17.0\r\n",
      "\u001b[33mWARNING: Skipping tensorflow-addons as it is not installed.\u001b[0m\u001b[33m\r\n",
      "\u001b[0mFound existing installation: keras 3.4.1\r\n",
      "Uninstalling keras-3.4.1:\r\n",
      "  Successfully uninstalled keras-3.4.1\r\n",
      "Collecting tensorflow==2.9.0\r\n",
      "  Downloading tensorflow-2.9.0-cp310-cp310-manylinux_2_17_x86_64.manylinux2014_x86_64.whl.metadata (3.0 kB)\r\n",
      "Collecting keras==2.9.0\r\n",
      "  Downloading keras-2.9.0-py2.py3-none-any.whl.metadata (1.3 kB)\r\n",
      "Collecting tensorflow-addons==0.18.0\r\n",
      "  Downloading tensorflow_addons-0.18.0-cp310-cp310-manylinux_2_17_x86_64.manylinux2014_x86_64.whl.metadata (1.8 kB)\r\n",
      "Requirement already satisfied: absl-py>=1.0.0 in /usr/local/lib/python3.10/dist-packages (from tensorflow==2.9.0) (1.4.0)\r\n",
      "Requirement already satisfied: astunparse>=1.6.0 in /usr/local/lib/python3.10/dist-packages (from tensorflow==2.9.0) (1.6.3)\r\n",
      "Collecting flatbuffers<2,>=1.12 (from tensorflow==2.9.0)\r\n",
      "  Downloading flatbuffers-1.12-py2.py3-none-any.whl.metadata (872 bytes)\r\n",
      "Collecting gast<=0.4.0,>=0.2.1 (from tensorflow==2.9.0)\r\n",
      "  Downloading gast-0.4.0-py3-none-any.whl.metadata (1.1 kB)\r\n",
      "Requirement already satisfied: google-pasta>=0.1.1 in /usr/local/lib/python3.10/dist-packages (from tensorflow==2.9.0) (0.2.0)\r\n",
      "Requirement already satisfied: grpcio<2.0,>=1.24.3 in /usr/local/lib/python3.10/dist-packages (from tensorflow==2.9.0) (1.64.1)\r\n",
      "Requirement already satisfied: h5py>=2.9.0 in /usr/local/lib/python3.10/dist-packages (from tensorflow==2.9.0) (3.11.0)\r\n",
      "Collecting keras-preprocessing>=1.1.1 (from tensorflow==2.9.0)\r\n",
      "  Downloading Keras_Preprocessing-1.1.2-py2.py3-none-any.whl.metadata (1.9 kB)\r\n",
      "Requirement already satisfied: libclang>=13.0.0 in /usr/local/lib/python3.10/dist-packages (from tensorflow==2.9.0) (18.1.1)\r\n",
      "Requirement already satisfied: numpy>=1.20 in /usr/local/lib/python3.10/dist-packages (from tensorflow==2.9.0) (1.26.4)\r\n",
      "Requirement already satisfied: opt-einsum>=2.3.2 in /usr/local/lib/python3.10/dist-packages (from tensorflow==2.9.0) (3.3.0)\r\n",
      "Requirement already satisfied: packaging in /usr/local/lib/python3.10/dist-packages (from tensorflow==2.9.0) (24.1)\r\n",
      "Requirement already satisfied: protobuf>=3.9.2 in /usr/local/lib/python3.10/dist-packages (from tensorflow==2.9.0) (3.20.3)\r\n",
      "Requirement already satisfied: setuptools in /usr/local/lib/python3.10/dist-packages (from tensorflow==2.9.0) (71.0.4)\r\n",
      "Requirement already satisfied: six>=1.12.0 in /usr/local/lib/python3.10/dist-packages (from tensorflow==2.9.0) (1.16.0)\r\n",
      "Collecting tensorboard<2.10,>=2.9 (from tensorflow==2.9.0)\r\n",
      "  Downloading tensorboard-2.9.1-py3-none-any.whl.metadata (1.9 kB)\r\n",
      "Requirement already satisfied: tensorflow-io-gcs-filesystem>=0.23.1 in /usr/local/lib/python3.10/dist-packages (from tensorflow==2.9.0) (0.37.1)\r\n",
      "Collecting tensorflow-estimator<2.10.0,>=2.9.0rc0 (from tensorflow==2.9.0)\r\n",
      "  Downloading tensorflow_estimator-2.9.0-py2.py3-none-any.whl.metadata (1.3 kB)\r\n",
      "Requirement already satisfied: termcolor>=1.1.0 in /usr/local/lib/python3.10/dist-packages (from tensorflow==2.9.0) (2.4.0)\r\n",
      "Requirement already satisfied: typing-extensions>=3.6.6 in /usr/local/lib/python3.10/dist-packages (from tensorflow==2.9.0) (4.12.2)\r\n",
      "Requirement already satisfied: wrapt>=1.11.0 in /usr/local/lib/python3.10/dist-packages (from tensorflow==2.9.0) (1.16.0)\r\n",
      "Requirement already satisfied: typeguard>=2.7 in /usr/local/lib/python3.10/dist-packages (from tensorflow-addons==0.18.0) (4.3.0)\r\n",
      "Requirement already satisfied: wheel<1.0,>=0.23.0 in /usr/local/lib/python3.10/dist-packages (from astunparse>=1.6.0->tensorflow==2.9.0) (0.44.0)\r\n",
      "Requirement already satisfied: google-auth<3,>=1.6.3 in /usr/local/lib/python3.10/dist-packages (from tensorboard<2.10,>=2.9->tensorflow==2.9.0) (2.27.0)\r\n",
      "Collecting google-auth-oauthlib<0.5,>=0.4.1 (from tensorboard<2.10,>=2.9->tensorflow==2.9.0)\r\n",
      "  Downloading google_auth_oauthlib-0.4.6-py2.py3-none-any.whl.metadata (2.7 kB)\r\n",
      "Requirement already satisfied: markdown>=2.6.8 in /usr/local/lib/python3.10/dist-packages (from tensorboard<2.10,>=2.9->tensorflow==2.9.0) (3.7)\r\n",
      "Collecting protobuf>=3.9.2 (from tensorflow==2.9.0)\r\n",
      "  Downloading protobuf-3.19.6-cp310-cp310-manylinux_2_17_x86_64.manylinux2014_x86_64.whl.metadata (787 bytes)\r\n",
      "Requirement already satisfied: requests<3,>=2.21.0 in /usr/local/lib/python3.10/dist-packages (from tensorboard<2.10,>=2.9->tensorflow==2.9.0) (2.32.3)\r\n",
      "Collecting tensorboard-data-server<0.7.0,>=0.6.0 (from tensorboard<2.10,>=2.9->tensorflow==2.9.0)\r\n",
      "  Downloading tensorboard_data_server-0.6.1-py3-none-manylinux2010_x86_64.whl.metadata (1.1 kB)\r\n",
      "Collecting tensorboard-plugin-wit>=1.6.0 (from tensorboard<2.10,>=2.9->tensorflow==2.9.0)\r\n",
      "  Downloading tensorboard_plugin_wit-1.8.1-py3-none-any.whl.metadata (873 bytes)\r\n",
      "Requirement already satisfied: werkzeug>=1.0.1 in /usr/local/lib/python3.10/dist-packages (from tensorboard<2.10,>=2.9->tensorflow==2.9.0) (3.0.4)\r\n",
      "Requirement already satisfied: cachetools<6.0,>=2.0.0 in /usr/local/lib/python3.10/dist-packages (from google-auth<3,>=1.6.3->tensorboard<2.10,>=2.9->tensorflow==2.9.0) (5.5.0)\r\n",
      "Requirement already satisfied: pyasn1-modules>=0.2.1 in /usr/local/lib/python3.10/dist-packages (from google-auth<3,>=1.6.3->tensorboard<2.10,>=2.9->tensorflow==2.9.0) (0.4.1)\r\n",
      "Requirement already satisfied: rsa<5,>=3.1.4 in /usr/local/lib/python3.10/dist-packages (from google-auth<3,>=1.6.3->tensorboard<2.10,>=2.9->tensorflow==2.9.0) (4.9)\r\n",
      "Requirement already satisfied: requests-oauthlib>=0.7.0 in /usr/local/lib/python3.10/dist-packages (from google-auth-oauthlib<0.5,>=0.4.1->tensorboard<2.10,>=2.9->tensorflow==2.9.0) (1.3.1)\r\n",
      "Requirement already satisfied: charset-normalizer<4,>=2 in /usr/local/lib/python3.10/dist-packages (from requests<3,>=2.21.0->tensorboard<2.10,>=2.9->tensorflow==2.9.0) (3.3.2)\r\n",
      "Requirement already satisfied: idna<4,>=2.5 in /usr/local/lib/python3.10/dist-packages (from requests<3,>=2.21.0->tensorboard<2.10,>=2.9->tensorflow==2.9.0) (3.10)\r\n",
      "Requirement already satisfied: urllib3<3,>=1.21.1 in /usr/local/lib/python3.10/dist-packages (from requests<3,>=2.21.0->tensorboard<2.10,>=2.9->tensorflow==2.9.0) (2.2.3)\r\n",
      "Requirement already satisfied: certifi>=2017.4.17 in /usr/local/lib/python3.10/dist-packages (from requests<3,>=2.21.0->tensorboard<2.10,>=2.9->tensorflow==2.9.0) (2024.8.30)\r\n",
      "Requirement already satisfied: MarkupSafe>=2.1.1 in /usr/local/lib/python3.10/dist-packages (from werkzeug>=1.0.1->tensorboard<2.10,>=2.9->tensorflow==2.9.0) (2.1.5)\r\n",
      "Requirement already satisfied: pyasn1<0.7.0,>=0.4.6 in /usr/local/lib/python3.10/dist-packages (from pyasn1-modules>=0.2.1->google-auth<3,>=1.6.3->tensorboard<2.10,>=2.9->tensorflow==2.9.0) (0.6.1)\r\n",
      "Requirement already satisfied: oauthlib>=3.0.0 in /usr/local/lib/python3.10/dist-packages (from requests-oauthlib>=0.7.0->google-auth-oauthlib<0.5,>=0.4.1->tensorboard<2.10,>=2.9->tensorflow==2.9.0) (3.2.2)\r\n",
      "Downloading tensorflow-2.9.0-cp310-cp310-manylinux_2_17_x86_64.manylinux2014_x86_64.whl (511.7 MB)\r\n",
      "\u001b[2K   \u001b[90m━━━━━━━━━━━━━━━━━━━━━━━━━━━━━━━━━━━━━━━━\u001b[0m \u001b[32m511.7/511.7 MB\u001b[0m \u001b[31m3.3 MB/s\u001b[0m eta \u001b[36m0:00:00\u001b[0m\r\n",
      "\u001b[?25hDownloading keras-2.9.0-py2.py3-none-any.whl (1.6 MB)\r\n",
      "\u001b[2K   \u001b[90m━━━━━━━━━━━━━━━━━━━━━━━━━━━━━━━━━━━━━━━━\u001b[0m \u001b[32m1.6/1.6 MB\u001b[0m \u001b[31m60.9 MB/s\u001b[0m eta \u001b[36m0:00:00\u001b[0m\r\n",
      "\u001b[?25hDownloading tensorflow_addons-0.18.0-cp310-cp310-manylinux_2_17_x86_64.manylinux2014_x86_64.whl (1.1 MB)\r\n",
      "\u001b[2K   \u001b[90m━━━━━━━━━━━━━━━━━━━━━━━━━━━━━━━━━━━━━━━━\u001b[0m \u001b[32m1.1/1.1 MB\u001b[0m \u001b[31m48.6 MB/s\u001b[0m eta \u001b[36m0:00:00\u001b[0m\r\n",
      "\u001b[?25hDownloading flatbuffers-1.12-py2.py3-none-any.whl (15 kB)\r\n",
      "Downloading gast-0.4.0-py3-none-any.whl (9.8 kB)\r\n",
      "Downloading Keras_Preprocessing-1.1.2-py2.py3-none-any.whl (42 kB)\r\n",
      "\u001b[2K   \u001b[90m━━━━━━━━━━━━━━━━━━━━━━━━━━━━━━━━━━━━━━━━\u001b[0m \u001b[32m42.6/42.6 kB\u001b[0m \u001b[31m2.7 MB/s\u001b[0m eta \u001b[36m0:00:00\u001b[0m\r\n",
      "\u001b[?25hDownloading tensorboard-2.9.1-py3-none-any.whl (5.8 MB)\r\n",
      "\u001b[2K   \u001b[90m━━━━━━━━━━━━━━━━━━━━━━━━━━━━━━━━━━━━━━━━\u001b[0m \u001b[32m5.8/5.8 MB\u001b[0m \u001b[31m98.7 MB/s\u001b[0m eta \u001b[36m0:00:00\u001b[0m\r\n",
      "\u001b[?25hDownloading protobuf-3.19.6-cp310-cp310-manylinux_2_17_x86_64.manylinux2014_x86_64.whl (1.1 MB)\r\n",
      "\u001b[2K   \u001b[90m━━━━━━━━━━━━━━━━━━━━━━━━━━━━━━━━━━━━━━━━\u001b[0m \u001b[32m1.1/1.1 MB\u001b[0m \u001b[31m48.0 MB/s\u001b[0m eta \u001b[36m0:00:00\u001b[0m\r\n",
      "\u001b[?25hDownloading tensorflow_estimator-2.9.0-py2.py3-none-any.whl (438 kB)\r\n",
      "\u001b[2K   \u001b[90m━━━━━━━━━━━━━━━━━━━━━━━━━━━━━━━━━━━━━━━━\u001b[0m \u001b[32m438.7/438.7 kB\u001b[0m \u001b[31m23.7 MB/s\u001b[0m eta \u001b[36m0:00:00\u001b[0m\r\n",
      "\u001b[?25hDownloading google_auth_oauthlib-0.4.6-py2.py3-none-any.whl (18 kB)\r\n",
      "Downloading tensorboard_data_server-0.6.1-py3-none-manylinux2010_x86_64.whl (4.9 MB)\r\n",
      "\u001b[2K   \u001b[90m━━━━━━━━━━━━━━━━━━━━━━━━━━━━━━━━━━━━━━━━\u001b[0m \u001b[32m4.9/4.9 MB\u001b[0m \u001b[31m93.2 MB/s\u001b[0m eta \u001b[36m0:00:00\u001b[0m\r\n",
      "\u001b[?25hDownloading tensorboard_plugin_wit-1.8.1-py3-none-any.whl (781 kB)\r\n",
      "\u001b[2K   \u001b[90m━━━━━━━━━━━━━━━━━━━━━━━━━━━━━━━━━━━━━━━━\u001b[0m \u001b[32m781.3/781.3 kB\u001b[0m \u001b[31m38.6 MB/s\u001b[0m eta \u001b[36m0:00:00\u001b[0m\r\n",
      "\u001b[?25hInstalling collected packages: tensorboard-plugin-wit, keras, flatbuffers, tensorflow-estimator, tensorboard-data-server, protobuf, keras-preprocessing, gast, tensorflow-addons, google-auth-oauthlib, tensorboard, tensorflow\r\n",
      "  Attempting uninstall: flatbuffers\r\n",
      "    Found existing installation: flatbuffers 24.3.25\r\n",
      "    Uninstalling flatbuffers-24.3.25:\r\n",
      "      Successfully uninstalled flatbuffers-24.3.25\r\n",
      "  Attempting uninstall: tensorboard-data-server\r\n",
      "    Found existing installation: tensorboard-data-server 0.7.2\r\n",
      "    Uninstalling tensorboard-data-server-0.7.2:\r\n",
      "      Successfully uninstalled tensorboard-data-server-0.7.2\r\n",
      "  Attempting uninstall: protobuf\r\n",
      "    Found existing installation: protobuf 3.20.3\r\n",
      "    Uninstalling protobuf-3.20.3:\r\n",
      "      Successfully uninstalled protobuf-3.20.3\r\n",
      "  Attempting uninstall: gast\r\n",
      "    Found existing installation: gast 0.6.0\r\n",
      "    Uninstalling gast-0.6.0:\r\n",
      "      Successfully uninstalled gast-0.6.0\r\n",
      "  Attempting uninstall: google-auth-oauthlib\r\n",
      "    Found existing installation: google-auth-oauthlib 1.2.1\r\n",
      "    Uninstalling google-auth-oauthlib-1.2.1:\r\n",
      "      Successfully uninstalled google-auth-oauthlib-1.2.1\r\n",
      "  Attempting uninstall: tensorboard\r\n",
      "    Found existing installation: tensorboard 2.17.0\r\n",
      "    Uninstalling tensorboard-2.17.0:\r\n",
      "      Successfully uninstalled tensorboard-2.17.0\r\n",
      "\u001b[31mERROR: pip's dependency resolver does not currently take into account all the packages that are installed. This behaviour is the source of the following dependency conflicts.\r\n",
      "cudf-cu12 24.4.1 requires protobuf<5,>=3.20, but you have protobuf 3.19.6 which is incompatible.\r\n",
      "cudf-cu12 24.4.1 requires pyarrow<15.0.0a0,>=14.0.1, but you have pyarrow 18.1.0 which is incompatible.\r\n",
      "google-cloud-aiplatform 1.67.1 requires protobuf!=4.21.0,!=4.21.1,!=4.21.2,!=4.21.3,!=4.21.4,!=4.21.5,<6.0.0dev,>=3.20.2, but you have protobuf 3.19.6 which is incompatible.\r\n",
      "google-cloud-bigquery-connection 1.15.5 requires protobuf!=4.21.0,!=4.21.1,!=4.21.2,!=4.21.3,!=4.21.4,!=4.21.5,<6.0.0dev,>=3.20.2, but you have protobuf 3.19.6 which is incompatible.\r\n",
      "google-cloud-bigtable 2.26.0 requires google-api-core[grpc]<3.0.0dev,>=2.16.0, but you have google-api-core 1.34.1 which is incompatible.\r\n",
      "google-cloud-bigtable 2.26.0 requires protobuf!=4.21.0,!=4.21.1,!=4.21.2,!=4.21.3,!=4.21.4,!=4.21.5,<6.0.0dev,>=3.20.2, but you have protobuf 3.19.6 which is incompatible.\r\n",
      "google-cloud-functions 1.16.5 requires protobuf!=4.21.0,!=4.21.1,!=4.21.2,!=4.21.3,!=4.21.4,!=4.21.5,<6.0.0dev,>=3.20.2, but you have protobuf 3.19.6 which is incompatible.\r\n",
      "google-cloud-iam 2.15.2 requires protobuf!=4.21.0,!=4.21.1,!=4.21.2,!=4.21.3,!=4.21.4,!=4.21.5,<6.0.0dev,>=3.20.2, but you have protobuf 3.19.6 which is incompatible.\r\n",
      "google-cloud-language 2.13.4 requires protobuf!=4.21.0,!=4.21.1,!=4.21.2,!=4.21.3,!=4.21.4,!=4.21.5,<6.0.0dev,>=3.20.2, but you have protobuf 3.19.6 which is incompatible.\r\n",
      "google-cloud-pubsub 2.23.1 requires protobuf!=4.21.0,!=4.21.1,!=4.21.2,!=4.21.3,!=4.21.4,!=4.21.5,<6.0.0dev,>=3.20.2, but you have protobuf 3.19.6 which is incompatible.\r\n",
      "google-cloud-resource-manager 1.12.5 requires protobuf!=4.21.0,!=4.21.1,!=4.21.2,!=4.21.3,!=4.21.4,!=4.21.5,<6.0.0dev,>=3.20.2, but you have protobuf 3.19.6 which is incompatible.\r\n",
      "google-cloud-videointelligence 2.15.0 requires protobuf!=4.21.0,!=4.21.1,!=4.21.2,!=4.21.3,!=4.21.4,!=4.21.5,<6.0.0dev,>=3.20.2, but you have protobuf 3.19.6 which is incompatible.\r\n",
      "google-cloud-vision 3.9.0 requires protobuf!=4.21.0,!=4.21.1,!=4.21.2,!=4.21.3,!=4.21.4,!=4.21.5,<6.0.0dev,>=3.20.2, but you have protobuf 3.19.6 which is incompatible.\r\n",
      "googleapis-common-protos 1.65.0 requires protobuf!=3.20.0,!=3.20.1,!=4.21.1,!=4.21.2,!=4.21.3,!=4.21.4,!=4.21.5,<6.0.0.dev0,>=3.20.2, but you have protobuf 3.19.6 which is incompatible.\r\n",
      "grpc-google-iam-v1 0.13.1 requires protobuf!=4.21.1,!=4.21.2,!=4.21.3,!=4.21.4,!=4.21.5,<6.0.0dev,>=3.20.2, but you have protobuf 3.19.6 which is incompatible.\r\n",
      "onnx 1.17.0 requires protobuf>=3.20.2, but you have protobuf 3.19.6 which is incompatible.\r\n",
      "pandas-gbq 0.23.1 requires google-api-core<3.0.0dev,>=2.10.2, but you have google-api-core 1.34.1 which is incompatible.\r\n",
      "pandas-gbq 0.23.1 requires google-auth-oauthlib>=0.7.0, but you have google-auth-oauthlib 0.4.6 which is incompatible.\r\n",
      "tensorflow-datasets 4.9.6 requires protobuf>=3.20, but you have protobuf 3.19.6 which is incompatible.\r\n",
      "tensorflow-decision-forests 1.10.0 requires tensorflow==2.17.0, but you have tensorflow 2.9.0 which is incompatible.\r\n",
      "tensorflow-metadata 1.15.0 requires protobuf<4.21,>=3.20.3; python_version < \"3.11\", but you have protobuf 3.19.6 which is incompatible.\r\n",
      "tensorflow-text 2.17.0 requires tensorflow<2.18,>=2.17.0, but you have tensorflow 2.9.0 which is incompatible.\r\n",
      "tf-keras 2.17.0 requires tensorflow<2.18,>=2.17, but you have tensorflow 2.9.0 which is incompatible.\u001b[0m\u001b[31m\r\n",
      "\u001b[0mSuccessfully installed flatbuffers-1.12 gast-0.4.0 google-auth-oauthlib-0.4.6 keras-2.9.0 keras-preprocessing-1.1.2 protobuf-3.19.6 tensorboard-2.9.1 tensorboard-data-server-0.6.1 tensorboard-plugin-wit-1.8.1 tensorflow-2.9.0 tensorflow-addons-0.18.0 tensorflow-estimator-2.9.0\r\n"
     ]
    }
   ],
   "source": [
    "!pip uninstall tensorflow tensorflow-addons keras -y\n",
    "!pip install tensorflow==2.9.0 keras==2.9.0 tensorflow-addons==0.18.0\n"
   ]
  },
  {
   "cell_type": "code",
   "execution_count": 3,
   "id": "3bd1740d",
   "metadata": {
    "execution": {
     "iopub.execute_input": "2024-12-27T06:13:44.018574Z",
     "iopub.status.busy": "2024-12-27T06:13:44.018304Z",
     "iopub.status.idle": "2024-12-27T06:13:44.021905Z",
     "shell.execute_reply": "2024-12-27T06:13:44.021113Z"
    },
    "id": "GitBDng_36xV",
    "papermill": {
     "duration": 0.01719,
     "end_time": "2024-12-27T06:13:44.023261",
     "exception": false,
     "start_time": "2024-12-27T06:13:44.006071",
     "status": "completed"
    },
    "tags": []
   },
   "outputs": [],
   "source": [
    "import zipfile"
   ]
  },
  {
   "cell_type": "code",
   "execution_count": 4,
   "id": "339ac395",
   "metadata": {
    "execution": {
     "iopub.execute_input": "2024-12-27T06:13:44.047392Z",
     "iopub.status.busy": "2024-12-27T06:13:44.047186Z",
     "iopub.status.idle": "2024-12-27T06:13:49.907346Z",
     "shell.execute_reply": "2024-12-27T06:13:49.906638Z"
    },
    "id": "z3FHA2tYbNfx",
    "papermill": {
     "duration": 5.873655,
     "end_time": "2024-12-27T06:13:49.908823",
     "exception": false,
     "start_time": "2024-12-27T06:13:44.035168",
     "status": "completed"
    },
    "tags": []
   },
   "outputs": [],
   "source": [
    "import zipfile\n",
    "import os\n",
    "import random\n",
    "import shutil\n",
    "import numpy as np\n",
    "import pandas as pd\n",
    "import matplotlib.pyplot as plt\n",
    "import seaborn as sns\n",
    "import skimage.io\n",
    "import keras.backend as K\n",
    "import tensorflow as tf\n",
    "import tensorflow_addons as tfa\n",
    "from tensorflow.keras.models import Sequential, Model\n",
    "from tensorflow.keras.applications import(InceptionV3, MobileNetV2, DenseNet121, ResNet50, EfficientNetV2B0, Xception)\n",
    "from tensorflow.keras.layers import (Conv2D, MaxPooling2D, Flatten, Dense, Dropout,BatchNormalization, Activation, GlobalAveragePooling2D,DepthwiseConv2D, Input, Add, Concatenate)\n",
    "from tensorflow.keras.optimizers import Adam\n",
    "from tensorflow.keras.losses import CategoricalCrossentropy\n",
    "from tensorflow.keras.preprocessing.image import ImageDataGenerator\n",
    "from tensorflow.keras.callbacks import ReduceLROnPlateau, ModelCheckpoint, EarlyStopping, LearningRateScheduler\n",
    "from sklearn.metrics import confusion_matrix, classification_report, accuracy_score\n",
    "from sklearn.model_selection import train_test_split\n",
    "from tensorflow.keras.utils import plot_model\n",
    "from IPython.display import Image\n"
   ]
  },
  {
   "cell_type": "markdown",
   "id": "17c59eda",
   "metadata": {
    "id": "PO_UpS4vaBi8",
    "papermill": {
     "duration": 0.011515,
     "end_time": "2024-12-27T06:13:49.932371",
     "exception": false,
     "start_time": "2024-12-27T06:13:49.920856",
     "status": "completed"
    },
    "tags": []
   },
   "source": [
    "Try 3"
   ]
  },
  {
   "cell_type": "code",
   "execution_count": 5,
   "id": "69698638",
   "metadata": {
    "execution": {
     "iopub.execute_input": "2024-12-27T06:13:49.956130Z",
     "iopub.status.busy": "2024-12-27T06:13:49.955585Z",
     "iopub.status.idle": "2024-12-27T06:13:49.958610Z",
     "shell.execute_reply": "2024-12-27T06:13:49.958021Z"
    },
    "id": "QyN8qV0huMwD",
    "papermill": {
     "duration": 0.016036,
     "end_time": "2024-12-27T06:13:49.959708",
     "exception": false,
     "start_time": "2024-12-27T06:13:49.943672",
     "status": "completed"
    },
    "tags": []
   },
   "outputs": [],
   "source": [
    "# zip_path = \"/content/drive/MyDrive/iq-oth.zip\"  # Path to the ZIP file\n",
    "# extracted_path = \"/content/chest_ctscan_images\"  # Path to extract the files\n",
    "# with zipfile.ZipFile(zip_path, 'r') as zip_ref:\n",
    "#     zip_ref.extractall(extracted_path)"
   ]
  },
  {
   "cell_type": "code",
   "execution_count": 6,
   "id": "eef04581",
   "metadata": {
    "execution": {
     "iopub.execute_input": "2024-12-27T06:13:49.983129Z",
     "iopub.status.busy": "2024-12-27T06:13:49.982922Z",
     "iopub.status.idle": "2024-12-27T06:13:49.985598Z",
     "shell.execute_reply": "2024-12-27T06:13:49.985062Z"
    },
    "id": "psN1jH926Z7t",
    "papermill": {
     "duration": 0.015599,
     "end_time": "2024-12-27T06:13:49.986746",
     "exception": false,
     "start_time": "2024-12-27T06:13:49.971147",
     "status": "completed"
    },
    "tags": []
   },
   "outputs": [],
   "source": [
    "main_dir = \"/kaggle/input/iq-oth/The IQ-OTHNCCD lung cancer dataset/The IQ-OTHNCCD lung cancer dataset\""
   ]
  },
  {
   "cell_type": "code",
   "execution_count": 7,
   "id": "35db1c84",
   "metadata": {
    "execution": {
     "iopub.execute_input": "2024-12-27T06:13:50.010321Z",
     "iopub.status.busy": "2024-12-27T06:13:50.010094Z",
     "iopub.status.idle": "2024-12-27T06:13:50.013199Z",
     "shell.execute_reply": "2024-12-27T06:13:50.012437Z"
    },
    "id": "TwEwT2nCuPYv",
    "papermill": {
     "duration": 0.016202,
     "end_time": "2024-12-27T06:13:50.014425",
     "exception": false,
     "start_time": "2024-12-27T06:13:49.998223",
     "status": "completed"
    },
    "tags": []
   },
   "outputs": [],
   "source": [
    "train_dir = \"/kaggle/working/ct-scan/train\"\n",
    "valid_dir = \"/kaggle/working/ct-scan/valid\"\n",
    "test_dir = \"/kaggle/working/ct-scan/test\""
   ]
  },
  {
   "cell_type": "code",
   "execution_count": 8,
   "id": "b7bd97ed",
   "metadata": {
    "execution": {
     "iopub.execute_input": "2024-12-27T06:13:50.038109Z",
     "iopub.status.busy": "2024-12-27T06:13:50.037903Z",
     "iopub.status.idle": "2024-12-27T06:13:56.322434Z",
     "shell.execute_reply": "2024-12-27T06:13:56.321724Z"
    },
    "id": "cUjh_ksquT_w",
    "papermill": {
     "duration": 6.298137,
     "end_time": "2024-12-27T06:13:56.324012",
     "exception": false,
     "start_time": "2024-12-27T06:13:50.025875",
     "status": "completed"
    },
    "tags": []
   },
   "outputs": [],
   "source": [
    "def split_data(source_dir, train_dir, valid_dir, test_dir, train_ratio=0.7, valid_ratio=0.2, test_ratio=0.1):\n",
    "\n",
    "    for class_name in os.listdir(source_dir):\n",
    "        class_source_path = os.path.join(source_dir, class_name)\n",
    "        class_train_path = os.path.join(train_dir, class_name)\n",
    "        class_valid_path = os.path.join(valid_dir, class_name)\n",
    "        class_test_path = os.path.join(test_dir, class_name)\n",
    "\n",
    "        # Create subdirectories for each class if they don't exist\n",
    "        os.makedirs(class_train_path, exist_ok=True)\n",
    "        os.makedirs(class_valid_path, exist_ok=True)\n",
    "        os.makedirs(class_test_path, exist_ok=True)\n",
    "\n",
    "        all_files = os.listdir(class_source_path)\n",
    "        random.shuffle(all_files)  # Shuffle the files randomly\n",
    "\n",
    "        # Calculate split indices\n",
    "        train_end = int(len(all_files) * train_ratio)\n",
    "        valid_end = train_end + int(len(all_files) * valid_ratio)\n",
    "\n",
    "        # Split the files\n",
    "        train_files = all_files[:train_end]\n",
    "        valid_files = all_files[train_end:valid_end]\n",
    "        test_files = all_files[valid_end:]\n",
    "\n",
    "        # Move files to respective directories\n",
    "        for file in train_files:\n",
    "            shutil.copy(os.path.join(class_source_path, file), os.path.join(class_train_path, file))\n",
    "        for file in valid_files:\n",
    "            shutil.copy(os.path.join(class_source_path, file), os.path.join(class_valid_path, file))\n",
    "        for file in test_files:\n",
    "            shutil.copy(os.path.join(class_source_path, file), os.path.join(class_test_path, file))\n",
    "\n",
    "\n",
    "# Call the function to split the data\n",
    "split_data(main_dir, train_dir, valid_dir, test_dir)"
   ]
  },
  {
   "cell_type": "code",
   "execution_count": 9,
   "id": "784ddbce",
   "metadata": {
    "execution": {
     "iopub.execute_input": "2024-12-27T06:13:56.348990Z",
     "iopub.status.busy": "2024-12-27T06:13:56.348719Z",
     "iopub.status.idle": "2024-12-27T06:13:56.352127Z",
     "shell.execute_reply": "2024-12-27T06:13:56.351348Z"
    },
    "id": "OBHrYqxLuU5C",
    "papermill": {
     "duration": 0.017021,
     "end_time": "2024-12-27T06:13:56.353461",
     "exception": false,
     "start_time": "2024-12-27T06:13:56.336440",
     "status": "completed"
    },
    "tags": []
   },
   "outputs": [],
   "source": [
    "train_datagen = ImageDataGenerator(\n",
    "    # rescale=1.0/255,\n",
    "    # rotation_range=20,\n",
    "    # width_shift_range=0.2,\n",
    "    # height_shift_range=0.2,\n",
    "    # shear_range=0.2,\n",
    "    # zoom_range=0.2,\n",
    "    # horizontal_flip=True\n",
    ")"
   ]
  },
  {
   "cell_type": "code",
   "execution_count": 10,
   "id": "75d8e16e",
   "metadata": {
    "execution": {
     "iopub.execute_input": "2024-12-27T06:13:56.377395Z",
     "iopub.status.busy": "2024-12-27T06:13:56.377180Z",
     "iopub.status.idle": "2024-12-27T06:13:56.380274Z",
     "shell.execute_reply": "2024-12-27T06:13:56.379627Z"
    },
    "id": "5OZi-BPsuYkQ",
    "papermill": {
     "duration": 0.016252,
     "end_time": "2024-12-27T06:13:56.381317",
     "exception": false,
     "start_time": "2024-12-27T06:13:56.365065",
     "status": "completed"
    },
    "tags": []
   },
   "outputs": [],
   "source": [
    "valid_datagen = ImageDataGenerator()\n",
    "test_datagen = ImageDataGenerator()"
   ]
  },
  {
   "cell_type": "code",
   "execution_count": 11,
   "id": "682d124e",
   "metadata": {
    "execution": {
     "iopub.execute_input": "2024-12-27T06:13:56.405222Z",
     "iopub.status.busy": "2024-12-27T06:13:56.405025Z",
     "iopub.status.idle": "2024-12-27T06:13:56.424029Z",
     "shell.execute_reply": "2024-12-27T06:13:56.423169Z"
    },
    "id": "s58bw8FiuczT",
    "outputId": "7aadd13e-a4ca-42d6-c4e1-8a8c09885c90",
    "papermill": {
     "duration": 0.032289,
     "end_time": "2024-12-27T06:13:56.425251",
     "exception": false,
     "start_time": "2024-12-27T06:13:56.392962",
     "status": "completed"
    },
    "tags": []
   },
   "outputs": [
    {
     "name": "stdout",
     "output_type": "stream",
     "text": [
      "Found 767 images belonging to 3 classes.\n"
     ]
    }
   ],
   "source": [
    "train_generator = train_datagen.flow_from_directory(\n",
    "    train_dir,\n",
    "    target_size=(224,224),\n",
    "    batch_size=16,\n",
    "    class_mode='categorical'\n",
    ")"
   ]
  },
  {
   "cell_type": "code",
   "execution_count": 12,
   "id": "12e6b28f",
   "metadata": {
    "execution": {
     "iopub.execute_input": "2024-12-27T06:13:56.450234Z",
     "iopub.status.busy": "2024-12-27T06:13:56.450012Z",
     "iopub.status.idle": "2024-12-27T06:13:56.460396Z",
     "shell.execute_reply": "2024-12-27T06:13:56.459756Z"
    },
    "id": "_VAT1nn6ufRV",
    "outputId": "e94fa4a2-fb97-4b45-9ffa-1de86e63561c",
    "papermill": {
     "duration": 0.024314,
     "end_time": "2024-12-27T06:13:56.461589",
     "exception": false,
     "start_time": "2024-12-27T06:13:56.437275",
     "status": "completed"
    },
    "tags": []
   },
   "outputs": [
    {
     "name": "stdout",
     "output_type": "stream",
     "text": [
      "Found 219 images belonging to 3 classes.\n"
     ]
    }
   ],
   "source": [
    "validation_generator = valid_datagen.flow_from_directory(\n",
    "    valid_dir,\n",
    "    target_size=(224,224),\n",
    "    batch_size=16,\n",
    "    class_mode='categorical'\n",
    ")"
   ]
  },
  {
   "cell_type": "code",
   "execution_count": 13,
   "id": "671a7c2f",
   "metadata": {
    "execution": {
     "iopub.execute_input": "2024-12-27T06:13:56.485982Z",
     "iopub.status.busy": "2024-12-27T06:13:56.485738Z",
     "iopub.status.idle": "2024-12-27T06:13:56.494437Z",
     "shell.execute_reply": "2024-12-27T06:13:56.493749Z"
    },
    "id": "79higThAuhq_",
    "outputId": "0195383a-337c-4a15-f3a4-1ae961e06629",
    "papermill": {
     "duration": 0.022126,
     "end_time": "2024-12-27T06:13:56.495495",
     "exception": false,
     "start_time": "2024-12-27T06:13:56.473369",
     "status": "completed"
    },
    "tags": []
   },
   "outputs": [
    {
     "name": "stdout",
     "output_type": "stream",
     "text": [
      "Found 111 images belonging to 3 classes.\n"
     ]
    }
   ],
   "source": [
    "test_generator = test_datagen.flow_from_directory(\n",
    "    test_dir,\n",
    "    target_size=(224,224),\n",
    "    batch_size=16,\n",
    "    class_mode='categorical'\n",
    ")"
   ]
  },
  {
   "cell_type": "code",
   "execution_count": 14,
   "id": "f91f83e9",
   "metadata": {
    "execution": {
     "iopub.execute_input": "2024-12-27T06:13:56.522391Z",
     "iopub.status.busy": "2024-12-27T06:13:56.522188Z",
     "iopub.status.idle": "2024-12-27T06:13:56.525224Z",
     "shell.execute_reply": "2024-12-27T06:13:56.524554Z"
    },
    "id": "wJy_CEHicRgM",
    "papermill": {
     "duration": 0.018344,
     "end_time": "2024-12-27T06:13:56.526417",
     "exception": false,
     "start_time": "2024-12-27T06:13:56.508073",
     "status": "completed"
    },
    "tags": []
   },
   "outputs": [],
   "source": [
    "os.makedirs(test_dir, exist_ok=True)\n"
   ]
  },
  {
   "cell_type": "code",
   "execution_count": 15,
   "id": "8fe642c7",
   "metadata": {
    "execution": {
     "iopub.execute_input": "2024-12-27T06:13:56.551076Z",
     "iopub.status.busy": "2024-12-27T06:13:56.550800Z",
     "iopub.status.idle": "2024-12-27T06:13:56.554874Z",
     "shell.execute_reply": "2024-12-27T06:13:56.554091Z"
    },
    "id": "d4p9qKimcXnV",
    "outputId": "f03bfaf9-2fd8-470d-e955-f41f5a9dab9e",
    "papermill": {
     "duration": 0.017665,
     "end_time": "2024-12-27T06:13:56.556184",
     "exception": false,
     "start_time": "2024-12-27T06:13:56.538519",
     "status": "completed"
    },
    "tags": []
   },
   "outputs": [
    {
     "name": "stdout",
     "output_type": "stream",
     "text": [
      "Number of files in test directory: 3\n"
     ]
    }
   ],
   "source": [
    "# Example to list files in the test directory\n",
    "test_files = os.listdir(test_dir)\n",
    "print(\"Number of files in test directory:\", len(test_files))"
   ]
  },
  {
   "cell_type": "code",
   "execution_count": 16,
   "id": "9f564f77",
   "metadata": {
    "execution": {
     "iopub.execute_input": "2024-12-27T06:13:56.580606Z",
     "iopub.status.busy": "2024-12-27T06:13:56.580387Z",
     "iopub.status.idle": "2024-12-27T06:13:56.584203Z",
     "shell.execute_reply": "2024-12-27T06:13:56.583443Z"
    },
    "id": "gL6e9ixdcBKR",
    "outputId": "a8260ec8-6a70-4ef9-a8cb-b21399ad5a8d",
    "papermill": {
     "duration": 0.01738,
     "end_time": "2024-12-27T06:13:56.585459",
     "exception": false,
     "start_time": "2024-12-27T06:13:56.568079",
     "status": "completed"
    },
    "tags": []
   },
   "outputs": [
    {
     "name": "stdout",
     "output_type": "stream",
     "text": [
      "Test directory: /kaggle/working/ct-scan/test\n"
     ]
    }
   ],
   "source": [
    "print(\"Test directory:\", test_dir)\n"
   ]
  },
  {
   "cell_type": "code",
   "execution_count": 17,
   "id": "9b9acbee",
   "metadata": {
    "execution": {
     "iopub.execute_input": "2024-12-27T06:13:56.609757Z",
     "iopub.status.busy": "2024-12-27T06:13:56.609549Z",
     "iopub.status.idle": "2024-12-27T06:13:56.613541Z",
     "shell.execute_reply": "2024-12-27T06:13:56.612973Z"
    },
    "id": "JVXysXnmD-9z",
    "papermill": {
     "duration": 0.017351,
     "end_time": "2024-12-27T06:13:56.614631",
     "exception": false,
     "start_time": "2024-12-27T06:13:56.597280",
     "status": "completed"
    },
    "tags": []
   },
   "outputs": [],
   "source": [
    "def f1_score(y_true, y_pred):\n",
    "    true_positives = K.sum(K.round(K.clip(y_true * y_pred, 0, 1)))\n",
    "    possible_positives = K.sum(K.round(K.clip(y_true, 0, 1)))\n",
    "    predicted_positives = K.sum(K.round(K.clip(y_pred, 0, 1)))\n",
    "    precision = true_positives / (predicted_positives + K.epsilon())\n",
    "    recall = true_positives / (possible_positives + K.epsilon())\n",
    "    f1_val = 2 * (precision * recall) / (precision + recall + K.epsilon())\n",
    "    return f1_val"
   ]
  },
  {
   "cell_type": "code",
   "execution_count": 18,
   "id": "01dfcf7e",
   "metadata": {
    "execution": {
     "iopub.execute_input": "2024-12-27T06:13:56.640388Z",
     "iopub.status.busy": "2024-12-27T06:13:56.640168Z",
     "iopub.status.idle": "2024-12-27T06:13:57.130286Z",
     "shell.execute_reply": "2024-12-27T06:13:57.129581Z"
    },
    "id": "aJPN14HlEZe-",
    "papermill": {
     "duration": 0.504855,
     "end_time": "2024-12-27T06:13:57.131697",
     "exception": false,
     "start_time": "2024-12-27T06:13:56.626842",
     "status": "completed"
    },
    "tags": []
   },
   "outputs": [],
   "source": [
    "METRICS = [\n",
    "    tf.keras.metrics.CategoricalAccuracy(name='accuracy'),\n",
    "    tf.keras.metrics.Precision(name='precision'),\n",
    "    tf.keras.metrics.Recall(name='recall'),\n",
    "    tf.keras.metrics.AUC(name='auc'),\n",
    "    tfa.metrics.F1Score(num_classes=3, average=\"micro\", name='f1_score')\n",
    "]"
   ]
  },
  {
   "cell_type": "code",
   "execution_count": 19,
   "id": "2cc8bcea",
   "metadata": {
    "execution": {
     "iopub.execute_input": "2024-12-27T06:13:57.157215Z",
     "iopub.status.busy": "2024-12-27T06:13:57.156989Z",
     "iopub.status.idle": "2024-12-27T06:13:59.091958Z",
     "shell.execute_reply": "2024-12-27T06:13:59.091258Z"
    },
    "id": "3pu77guMwmjn",
    "outputId": "db96ba0b-7a93-4303-ca9c-96d5d0010d27",
    "papermill": {
     "duration": 1.949286,
     "end_time": "2024-12-27T06:13:59.093566",
     "exception": false,
     "start_time": "2024-12-27T06:13:57.144280",
     "status": "completed"
    },
    "tags": []
   },
   "outputs": [
    {
     "name": "stdout",
     "output_type": "stream",
     "text": [
      "Downloading data from https://storage.googleapis.com/tensorflow/keras-applications/resnet/resnet50_weights_tf_dim_ordering_tf_kernels_notop.h5\n",
      "94765736/94765736 [==============================] - 0s 0us/step\n"
     ]
    }
   ],
   "source": [
    "base_model = tf.keras.applications.ResNet50(input_shape=(224,224,3),include_top=False,weights=\"imagenet\")"
   ]
  },
  {
   "cell_type": "code",
   "execution_count": 20,
   "id": "fa68dbb1",
   "metadata": {
    "execution": {
     "iopub.execute_input": "2024-12-27T06:13:59.120132Z",
     "iopub.status.busy": "2024-12-27T06:13:59.119897Z",
     "iopub.status.idle": "2024-12-27T06:13:59.123265Z",
     "shell.execute_reply": "2024-12-27T06:13:59.122650Z"
    },
    "id": "aSsNkIQCwpXA",
    "papermill": {
     "duration": 0.017639,
     "end_time": "2024-12-27T06:13:59.124453",
     "exception": false,
     "start_time": "2024-12-27T06:13:59.106814",
     "status": "completed"
    },
    "tags": []
   },
   "outputs": [],
   "source": [
    "total_layers = len(base_model.layers)"
   ]
  },
  {
   "cell_type": "code",
   "execution_count": 21,
   "id": "f5eee8e1",
   "metadata": {
    "execution": {
     "iopub.execute_input": "2024-12-27T06:13:59.150697Z",
     "iopub.status.busy": "2024-12-27T06:13:59.150494Z",
     "iopub.status.idle": "2024-12-27T06:13:59.153205Z",
     "shell.execute_reply": "2024-12-27T06:13:59.152616Z"
    },
    "id": "Ff-9hCJ3wts6",
    "papermill": {
     "duration": 0.017264,
     "end_time": "2024-12-27T06:13:59.154371",
     "exception": false,
     "start_time": "2024-12-27T06:13:59.137107",
     "status": "completed"
    },
    "tags": []
   },
   "outputs": [],
   "source": [
    "num_layers_to_freeze = 0"
   ]
  },
  {
   "cell_type": "code",
   "execution_count": 22,
   "id": "71353377",
   "metadata": {
    "execution": {
     "iopub.execute_input": "2024-12-27T06:13:59.180709Z",
     "iopub.status.busy": "2024-12-27T06:13:59.180506Z",
     "iopub.status.idle": "2024-12-27T06:13:59.183422Z",
     "shell.execute_reply": "2024-12-27T06:13:59.182868Z"
    },
    "id": "sKFHPjmTwu3K",
    "papermill": {
     "duration": 0.017613,
     "end_time": "2024-12-27T06:13:59.184566",
     "exception": false,
     "start_time": "2024-12-27T06:13:59.166953",
     "status": "completed"
    },
    "tags": []
   },
   "outputs": [],
   "source": [
    "for layer in base_model.layers[:num_layers_to_freeze]:\n",
    "    layer.trainable = True"
   ]
  },
  {
   "cell_type": "code",
   "execution_count": 23,
   "id": "7c6a5155",
   "metadata": {
    "execution": {
     "iopub.execute_input": "2024-12-27T06:13:59.210310Z",
     "iopub.status.busy": "2024-12-27T06:13:59.210102Z",
     "iopub.status.idle": "2024-12-27T06:13:59.233521Z",
     "shell.execute_reply": "2024-12-27T06:13:59.232497Z"
    },
    "id": "h7_3xPFowxTo",
    "outputId": "4df73297-1e89-4884-aaf0-4ec506792941",
    "papermill": {
     "duration": 0.037648,
     "end_time": "2024-12-27T06:13:59.234812",
     "exception": false,
     "start_time": "2024-12-27T06:13:59.197164",
     "status": "completed"
    },
    "tags": []
   },
   "outputs": [
    {
     "name": "stdout",
     "output_type": "stream",
     "text": [
      "Layer 0: input_1, Trainable: True\n",
      "Layer 1: conv1_pad, Trainable: True\n",
      "Layer 2: conv1_conv, Trainable: True\n",
      "Layer 3: conv1_bn, Trainable: True\n",
      "Layer 4: conv1_relu, Trainable: True\n",
      "Layer 5: pool1_pad, Trainable: True\n",
      "Layer 6: pool1_pool, Trainable: True\n",
      "Layer 7: conv2_block1_1_conv, Trainable: True\n",
      "Layer 8: conv2_block1_1_bn, Trainable: True\n",
      "Layer 9: conv2_block1_1_relu, Trainable: True\n",
      "Layer 10: conv2_block1_2_conv, Trainable: True\n",
      "Layer 11: conv2_block1_2_bn, Trainable: True\n",
      "Layer 12: conv2_block1_2_relu, Trainable: True\n",
      "Layer 13: conv2_block1_0_conv, Trainable: True\n",
      "Layer 14: conv2_block1_3_conv, Trainable: True\n",
      "Layer 15: conv2_block1_0_bn, Trainable: True\n",
      "Layer 16: conv2_block1_3_bn, Trainable: True\n",
      "Layer 17: conv2_block1_add, Trainable: True\n",
      "Layer 18: conv2_block1_out, Trainable: True\n",
      "Layer 19: conv2_block2_1_conv, Trainable: True\n",
      "Layer 20: conv2_block2_1_bn, Trainable: True\n",
      "Layer 21: conv2_block2_1_relu, Trainable: True\n",
      "Layer 22: conv2_block2_2_conv, Trainable: True\n",
      "Layer 23: conv2_block2_2_bn, Trainable: True\n",
      "Layer 24: conv2_block2_2_relu, Trainable: True\n",
      "Layer 25: conv2_block2_3_conv, Trainable: True\n",
      "Layer 26: conv2_block2_3_bn, Trainable: True\n",
      "Layer 27: conv2_block2_add, Trainable: True\n",
      "Layer 28: conv2_block2_out, Trainable: True\n",
      "Layer 29: conv2_block3_1_conv, Trainable: True\n",
      "Layer 30: conv2_block3_1_bn, Trainable: True\n",
      "Layer 31: conv2_block3_1_relu, Trainable: True\n",
      "Layer 32: conv2_block3_2_conv, Trainable: True\n",
      "Layer 33: conv2_block3_2_bn, Trainable: True\n",
      "Layer 34: conv2_block3_2_relu, Trainable: True\n",
      "Layer 35: conv2_block3_3_conv, Trainable: True\n",
      "Layer 36: conv2_block3_3_bn, Trainable: True\n",
      "Layer 37: conv2_block3_add, Trainable: True\n",
      "Layer 38: conv2_block3_out, Trainable: True\n",
      "Layer 39: conv3_block1_1_conv, Trainable: True\n",
      "Layer 40: conv3_block1_1_bn, Trainable: True\n",
      "Layer 41: conv3_block1_1_relu, Trainable: True\n",
      "Layer 42: conv3_block1_2_conv, Trainable: True\n",
      "Layer 43: conv3_block1_2_bn, Trainable: True\n",
      "Layer 44: conv3_block1_2_relu, Trainable: True\n",
      "Layer 45: conv3_block1_0_conv, Trainable: True\n",
      "Layer 46: conv3_block1_3_conv, Trainable: True\n",
      "Layer 47: conv3_block1_0_bn, Trainable: True\n",
      "Layer 48: conv3_block1_3_bn, Trainable: True\n",
      "Layer 49: conv3_block1_add, Trainable: True\n",
      "Layer 50: conv3_block1_out, Trainable: True\n",
      "Layer 51: conv3_block2_1_conv, Trainable: True\n",
      "Layer 52: conv3_block2_1_bn, Trainable: True\n",
      "Layer 53: conv3_block2_1_relu, Trainable: True\n",
      "Layer 54: conv3_block2_2_conv, Trainable: True\n",
      "Layer 55: conv3_block2_2_bn, Trainable: True\n",
      "Layer 56: conv3_block2_2_relu, Trainable: True\n",
      "Layer 57: conv3_block2_3_conv, Trainable: True\n",
      "Layer 58: conv3_block2_3_bn, Trainable: True\n",
      "Layer 59: conv3_block2_add, Trainable: True\n",
      "Layer 60: conv3_block2_out, Trainable: True\n",
      "Layer 61: conv3_block3_1_conv, Trainable: True\n",
      "Layer 62: conv3_block3_1_bn, Trainable: True\n",
      "Layer 63: conv3_block3_1_relu, Trainable: True\n",
      "Layer 64: conv3_block3_2_conv, Trainable: True\n",
      "Layer 65: conv3_block3_2_bn, Trainable: True\n",
      "Layer 66: conv3_block3_2_relu, Trainable: True\n",
      "Layer 67: conv3_block3_3_conv, Trainable: True\n",
      "Layer 68: conv3_block3_3_bn, Trainable: True\n",
      "Layer 69: conv3_block3_add, Trainable: True\n",
      "Layer 70: conv3_block3_out, Trainable: True\n",
      "Layer 71: conv3_block4_1_conv, Trainable: True\n",
      "Layer 72: conv3_block4_1_bn, Trainable: True\n",
      "Layer 73: conv3_block4_1_relu, Trainable: True\n",
      "Layer 74: conv3_block4_2_conv, Trainable: True\n",
      "Layer 75: conv3_block4_2_bn, Trainable: True\n",
      "Layer 76: conv3_block4_2_relu, Trainable: True\n",
      "Layer 77: conv3_block4_3_conv, Trainable: True\n",
      "Layer 78: conv3_block4_3_bn, Trainable: True\n",
      "Layer 79: conv3_block4_add, Trainable: True\n",
      "Layer 80: conv3_block4_out, Trainable: True\n",
      "Layer 81: conv4_block1_1_conv, Trainable: True\n",
      "Layer 82: conv4_block1_1_bn, Trainable: True\n",
      "Layer 83: conv4_block1_1_relu, Trainable: True\n",
      "Layer 84: conv4_block1_2_conv, Trainable: True\n",
      "Layer 85: conv4_block1_2_bn, Trainable: True\n",
      "Layer 86: conv4_block1_2_relu, Trainable: True\n",
      "Layer 87: conv4_block1_0_conv, Trainable: True\n",
      "Layer 88: conv4_block1_3_conv, Trainable: True\n",
      "Layer 89: conv4_block1_0_bn, Trainable: True\n",
      "Layer 90: conv4_block1_3_bn, Trainable: True\n",
      "Layer 91: conv4_block1_add, Trainable: True\n",
      "Layer 92: conv4_block1_out, Trainable: True\n",
      "Layer 93: conv4_block2_1_conv, Trainable: True\n",
      "Layer 94: conv4_block2_1_bn, Trainable: True\n",
      "Layer 95: conv4_block2_1_relu, Trainable: True\n",
      "Layer 96: conv4_block2_2_conv, Trainable: True\n",
      "Layer 97: conv4_block2_2_bn, Trainable: True\n",
      "Layer 98: conv4_block2_2_relu, Trainable: True\n",
      "Layer 99: conv4_block2_3_conv, Trainable: True\n",
      "Layer 100: conv4_block2_3_bn, Trainable: True\n",
      "Layer 101: conv4_block2_add, Trainable: True\n",
      "Layer 102: conv4_block2_out, Trainable: True\n",
      "Layer 103: conv4_block3_1_conv, Trainable: True\n",
      "Layer 104: conv4_block3_1_bn, Trainable: True\n",
      "Layer 105: conv4_block3_1_relu, Trainable: True\n",
      "Layer 106: conv4_block3_2_conv, Trainable: True\n",
      "Layer 107: conv4_block3_2_bn, Trainable: True\n",
      "Layer 108: conv4_block3_2_relu, Trainable: True\n",
      "Layer 109: conv4_block3_3_conv, Trainable: True\n",
      "Layer 110: conv4_block3_3_bn, Trainable: True\n",
      "Layer 111: conv4_block3_add, Trainable: True\n",
      "Layer 112: conv4_block3_out, Trainable: True\n",
      "Layer 113: conv4_block4_1_conv, Trainable: True\n",
      "Layer 114: conv4_block4_1_bn, Trainable: True\n",
      "Layer 115: conv4_block4_1_relu, Trainable: True\n",
      "Layer 116: conv4_block4_2_conv, Trainable: True\n",
      "Layer 117: conv4_block4_2_bn, Trainable: True\n",
      "Layer 118: conv4_block4_2_relu, Trainable: True\n",
      "Layer 119: conv4_block4_3_conv, Trainable: True\n",
      "Layer 120: conv4_block4_3_bn, Trainable: True\n",
      "Layer 121: conv4_block4_add, Trainable: True\n",
      "Layer 122: conv4_block4_out, Trainable: True\n",
      "Layer 123: conv4_block5_1_conv, Trainable: True\n",
      "Layer 124: conv4_block5_1_bn, Trainable: True\n",
      "Layer 125: conv4_block5_1_relu, Trainable: True\n",
      "Layer 126: conv4_block5_2_conv, Trainable: True\n",
      "Layer 127: conv4_block5_2_bn, Trainable: True\n",
      "Layer 128: conv4_block5_2_relu, Trainable: True\n",
      "Layer 129: conv4_block5_3_conv, Trainable: True\n",
      "Layer 130: conv4_block5_3_bn, Trainable: True\n",
      "Layer 131: conv4_block5_add, Trainable: True\n",
      "Layer 132: conv4_block5_out, Trainable: True\n",
      "Layer 133: conv4_block6_1_conv, Trainable: True\n",
      "Layer 134: conv4_block6_1_bn, Trainable: True\n",
      "Layer 135: conv4_block6_1_relu, Trainable: True\n",
      "Layer 136: conv4_block6_2_conv, Trainable: True\n",
      "Layer 137: conv4_block6_2_bn, Trainable: True\n",
      "Layer 138: conv4_block6_2_relu, Trainable: True\n",
      "Layer 139: conv4_block6_3_conv, Trainable: True\n",
      "Layer 140: conv4_block6_3_bn, Trainable: True\n",
      "Layer 141: conv4_block6_add, Trainable: True\n",
      "Layer 142: conv4_block6_out, Trainable: True\n",
      "Layer 143: conv5_block1_1_conv, Trainable: True\n",
      "Layer 144: conv5_block1_1_bn, Trainable: True\n",
      "Layer 145: conv5_block1_1_relu, Trainable: True\n",
      "Layer 146: conv5_block1_2_conv, Trainable: True\n",
      "Layer 147: conv5_block1_2_bn, Trainable: True\n",
      "Layer 148: conv5_block1_2_relu, Trainable: True\n",
      "Layer 149: conv5_block1_0_conv, Trainable: True\n",
      "Layer 150: conv5_block1_3_conv, Trainable: True\n",
      "Layer 151: conv5_block1_0_bn, Trainable: True\n",
      "Layer 152: conv5_block1_3_bn, Trainable: True\n",
      "Layer 153: conv5_block1_add, Trainable: True\n",
      "Layer 154: conv5_block1_out, Trainable: True\n",
      "Layer 155: conv5_block2_1_conv, Trainable: True\n",
      "Layer 156: conv5_block2_1_bn, Trainable: True\n",
      "Layer 157: conv5_block2_1_relu, Trainable: True\n",
      "Layer 158: conv5_block2_2_conv, Trainable: True\n",
      "Layer 159: conv5_block2_2_bn, Trainable: True\n",
      "Layer 160: conv5_block2_2_relu, Trainable: True\n",
      "Layer 161: conv5_block2_3_conv, Trainable: True\n",
      "Layer 162: conv5_block2_3_bn, Trainable: True\n",
      "Layer 163: conv5_block2_add, Trainable: True\n",
      "Layer 164: conv5_block2_out, Trainable: True\n",
      "Layer 165: conv5_block3_1_conv, Trainable: True\n",
      "Layer 166: conv5_block3_1_bn, Trainable: True\n",
      "Layer 167: conv5_block3_1_relu, Trainable: True\n",
      "Layer 168: conv5_block3_2_conv, Trainable: True\n",
      "Layer 169: conv5_block3_2_bn, Trainable: True\n",
      "Layer 170: conv5_block3_2_relu, Trainable: True\n",
      "Layer 171: conv5_block3_3_conv, Trainable: True\n",
      "Layer 172: conv5_block3_3_bn, Trainable: True\n",
      "Layer 173: conv5_block3_add, Trainable: True\n",
      "Layer 174: conv5_block3_out, Trainable: True\n"
     ]
    }
   ],
   "source": [
    "for i, layer in enumerate(base_model.layers):\n",
    "    print(f\"Layer {i}: {layer.name}, Trainable: {layer.trainable}\")"
   ]
  },
  {
   "cell_type": "code",
   "execution_count": 24,
   "id": "a064ad06",
   "metadata": {
    "execution": {
     "iopub.execute_input": "2024-12-27T06:13:59.262661Z",
     "iopub.status.busy": "2024-12-27T06:13:59.262458Z",
     "iopub.status.idle": "2024-12-27T06:13:59.681037Z",
     "shell.execute_reply": "2024-12-27T06:13:59.680229Z"
    },
    "id": "le6O7kGIw6h6",
    "outputId": "2817dbec-62eb-45cf-9994-5613dd869bd2",
    "papermill": {
     "duration": 0.434573,
     "end_time": "2024-12-27T06:13:59.682398",
     "exception": false,
     "start_time": "2024-12-27T06:13:59.247825",
     "status": "completed"
    },
    "tags": []
   },
   "outputs": [
    {
     "name": "stdout",
     "output_type": "stream",
     "text": [
      "Model: \"sequential\"\n",
      "_________________________________________________________________\n",
      " Layer (type)                Output Shape              Param #   \n",
      "=================================================================\n",
      " resnet50 (Functional)       (None, 7, 7, 2048)        23587712  \n",
      "                                                                 \n",
      " flatten (Flatten)           (None, 100352)            0         \n",
      "                                                                 \n",
      " dense (Dense)               (None, 3)                 301059    \n",
      "                                                                 \n",
      "=================================================================\n",
      "Total params: 23,888,771\n",
      "Trainable params: 23,835,651\n",
      "Non-trainable params: 53,120\n",
      "_________________________________________________________________\n"
     ]
    }
   ],
   "source": [
    "model = Sequential([\n",
    "    base_model,\n",
    "    Flatten(),\n",
    "    Dense(3, activation='softmax')\n",
    "])\n",
    "model.summary()"
   ]
  },
  {
   "cell_type": "code",
   "execution_count": 25,
   "id": "ef755357",
   "metadata": {
    "execution": {
     "iopub.execute_input": "2024-12-27T06:13:59.710734Z",
     "iopub.status.busy": "2024-12-27T06:13:59.710491Z",
     "iopub.status.idle": "2024-12-27T06:13:59.953666Z",
     "shell.execute_reply": "2024-12-27T06:13:59.952860Z"
    },
    "id": "kIpnFMMF2scs",
    "outputId": "12ed09a6-e767-4211-daf8-ac45ffbaeca2",
    "papermill": {
     "duration": 0.258776,
     "end_time": "2024-12-27T06:13:59.955050",
     "exception": false,
     "start_time": "2024-12-27T06:13:59.696274",
     "status": "completed"
    },
    "tags": []
   },
   "outputs": [
    {
     "data": {
      "image/png": "[encoded data removed]",
      "text/plain": [
       "<IPython.core.display.Image object>"
      ]
     },
     "execution_count": 25,
     "metadata": {},
     "output_type": "execute_result"
    }
   ],
   "source": [
    "from tensorflow.keras.utils import plot_model\n",
    "from IPython.display import Image\n",
    "plot_model(model, to_file='convnet.png', show_shapes=True,show_layer_names=True)\n",
    "Image(filename='convnet.png')"
   ]
  },
  {
   "cell_type": "code",
   "execution_count": 26,
   "id": "5ff276af",
   "metadata": {
    "execution": {
     "iopub.execute_input": "2024-12-27T06:13:59.988456Z",
     "iopub.status.busy": "2024-12-27T06:13:59.988233Z",
     "iopub.status.idle": "2024-12-27T06:14:00.000792Z",
     "shell.execute_reply": "2024-12-27T06:13:59.999987Z"
    },
    "id": "CMtjjQwmaBjC",
    "papermill": {
     "duration": 0.028316,
     "end_time": "2024-12-27T06:14:00.001957",
     "exception": false,
     "start_time": "2024-12-27T06:13:59.973641",
     "status": "completed"
    },
    "tags": []
   },
   "outputs": [],
   "source": [
    "model.compile(\n",
    "    loss=\"categorical_crossentropy\",\n",
    "    optimizer=Adam(learning_rate=0.0005),\n",
    "    metrics=METRICS\n",
    ")"
   ]
  },
  {
   "cell_type": "code",
   "execution_count": 27,
   "id": "17f50680",
   "metadata": {
    "execution": {
     "iopub.execute_input": "2024-12-27T06:14:00.031061Z",
     "iopub.status.busy": "2024-12-27T06:14:00.030822Z",
     "iopub.status.idle": "2024-12-27T06:14:00.034238Z",
     "shell.execute_reply": "2024-12-27T06:14:00.033501Z"
    },
    "id": "9Zjmg5poaBjC",
    "papermill": {
     "duration": 0.019243,
     "end_time": "2024-12-27T06:14:00.035391",
     "exception": false,
     "start_time": "2024-12-27T06:14:00.016148",
     "status": "completed"
    },
    "tags": []
   },
   "outputs": [],
   "source": [
    "callbacks = [\n",
    "    ModelCheckpoint(\"best_model.keras\", monitor=\"val_accuracy\", save_best_only=True, verbose=1),\n",
    "    EarlyStopping(monitor=\"val_loss\", patience=5, verbose=1, restore_best_weights=True)\n",
    "]"
   ]
  },
  {
   "cell_type": "code",
   "execution_count": 28,
   "id": "45b938f6",
   "metadata": {
    "execution": {
     "iopub.execute_input": "2024-12-27T06:14:00.064540Z",
     "iopub.status.busy": "2024-12-27T06:14:00.064339Z",
     "iopub.status.idle": "2024-12-27T06:59:07.925507Z",
     "shell.execute_reply": "2024-12-27T06:59:07.924616Z"
    },
    "id": "zgcn2wlOaBjD",
    "outputId": "3847af9f-0cc6-453c-fdf3-9bf4f82c2f62",
    "papermill": {
     "duration": 2707.920639,
     "end_time": "2024-12-27T06:59:07.970407",
     "exception": false,
     "start_time": "2024-12-27T06:14:00.049768",
     "status": "completed"
    },
    "tags": []
   },
   "outputs": [
    {
     "name": "stdout",
     "output_type": "stream",
     "text": [
      "Epoch 1/35\n",
      "48/48 [==============================] - ETA: 0s - loss: 1.2549 - accuracy: 0.8488 - precision: 0.8532 - recall: 0.8409 - auc: 0.9318 - f1_score: 0.8488\n",
      "Epoch 1: val_accuracy improved from -inf to 0.51142, saving model to best_model.keras\n",
      "48/48 [==============================] - 222s 4s/step - loss: 1.2549 - accuracy: 0.8488 - precision: 0.8532 - recall: 0.8409 - auc: 0.9318 - f1_score: 0.8488 - val_loss: 4795.4956 - val_accuracy: 0.5114 - val_precision: 0.5114 - val_recall: 0.5114 - val_auc: 0.6336 - val_f1_score: 0.5114\n",
      "Epoch 2/35\n",
      "48/48 [==============================] - ETA: 0s - loss: 1.8521 - accuracy: 0.8462 - precision: 0.8571 - recall: 0.8370 - auc: 0.9356 - f1_score: 0.8462\n",
      "Epoch 2: val_accuracy did not improve from 0.51142\n",
      "48/48 [==============================] - 203s 4s/step - loss: 1.8521 - accuracy: 0.8462 - precision: 0.8571 - recall: 0.8370 - auc: 0.9356 - f1_score: 0.8462 - val_loss: 1344582.7500 - val_accuracy: 0.5114 - val_precision: 0.5114 - val_recall: 0.5114 - val_auc: 0.6336 - val_f1_score: 0.5114\n",
      "Epoch 3/35\n",
      "48/48 [==============================] - ETA: 0s - loss: 0.5144 - accuracy: 0.8383 - precision: 0.8841 - recall: 0.7953 - auc: 0.9561 - f1_score: 0.8383\n",
      "Epoch 3: val_accuracy improved from 0.51142 to 0.52511, saving model to best_model.keras\n",
      "48/48 [==============================] - 209s 4s/step - loss: 0.5144 - accuracy: 0.8383 - precision: 0.8841 - recall: 0.7953 - auc: 0.9561 - f1_score: 0.8383 - val_loss: 5806.0068 - val_accuracy: 0.5251 - val_precision: 0.5251 - val_recall: 0.5251 - val_auc: 0.6422 - val_f1_score: 0.5251\n",
      "Epoch 4/35\n",
      "48/48 [==============================] - ETA: 0s - loss: 0.2240 - accuracy: 0.9192 - precision: 0.9386 - recall: 0.8970 - auc: 0.9883 - f1_score: 0.9192\n",
      "Epoch 4: val_accuracy improved from 0.52511 to 0.74886, saving model to best_model.keras\n",
      "48/48 [==============================] - 208s 4s/step - loss: 0.2240 - accuracy: 0.9192 - precision: 0.9386 - recall: 0.8970 - auc: 0.9883 - f1_score: 0.9192 - val_loss: 52.2455 - val_accuracy: 0.7489 - val_precision: 0.7523 - val_recall: 0.7489 - val_auc: 0.7992 - val_f1_score: 0.7489\n",
      "Epoch 5/35\n",
      "48/48 [==============================] - ETA: 0s - loss: 0.0928 - accuracy: 0.9739 - precision: 0.9777 - recall: 0.9713 - auc: 0.9982 - f1_score: 0.9739\n",
      "Epoch 5: val_accuracy improved from 0.74886 to 0.94521, saving model to best_model.keras\n",
      "48/48 [==============================] - 222s 5s/step - loss: 0.0928 - accuracy: 0.9739 - precision: 0.9777 - recall: 0.9713 - auc: 0.9982 - f1_score: 0.9739 - val_loss: 0.3162 - val_accuracy: 0.9452 - val_precision: 0.9452 - val_recall: 0.9452 - val_auc: 0.9803 - val_f1_score: 0.9452\n",
      "Epoch 6/35\n",
      "48/48 [==============================] - ETA: 0s - loss: 0.0477 - accuracy: 0.9831 - precision: 0.9856 - recall: 0.9831 - auc: 0.9994 - f1_score: 0.9831\n",
      "Epoch 6: val_accuracy improved from 0.94521 to 0.97260, saving model to best_model.keras\n",
      "48/48 [==============================] - 222s 5s/step - loss: 0.0477 - accuracy: 0.9831 - precision: 0.9856 - recall: 0.9831 - auc: 0.9994 - f1_score: 0.9831 - val_loss: 0.0727 - val_accuracy: 0.9726 - val_precision: 0.9816 - val_recall: 0.9726 - val_auc: 0.9992 - val_f1_score: 0.9726\n",
      "Epoch 7/35\n",
      "48/48 [==============================] - ETA: 0s - loss: 0.0447 - accuracy: 0.9909 - precision: 0.9908 - recall: 0.9870 - auc: 0.9996 - f1_score: 0.9909\n",
      "Epoch 7: val_accuracy improved from 0.97260 to 0.99087, saving model to best_model.keras\n",
      "48/48 [==============================] - 215s 4s/step - loss: 0.0447 - accuracy: 0.9909 - precision: 0.9908 - recall: 0.9870 - auc: 0.9996 - f1_score: 0.9909 - val_loss: 0.0336 - val_accuracy: 0.9909 - val_precision: 0.9954 - val_recall: 0.9909 - val_auc: 0.9999 - val_f1_score: 0.9909\n",
      "Epoch 8/35\n",
      "48/48 [==============================] - ETA: 0s - loss: 0.0361 - accuracy: 0.9909 - precision: 0.9908 - recall: 0.9883 - auc: 0.9996 - f1_score: 0.9909\n",
      "Epoch 8: val_accuracy improved from 0.99087 to 0.99543, saving model to best_model.keras\n",
      "48/48 [==============================] - 206s 4s/step - loss: 0.0361 - accuracy: 0.9909 - precision: 0.9908 - recall: 0.9883 - auc: 0.9996 - f1_score: 0.9909 - val_loss: 0.0272 - val_accuracy: 0.9954 - val_precision: 0.9954 - val_recall: 0.9954 - val_auc: 1.0000 - val_f1_score: 0.9954\n",
      "Epoch 9/35\n",
      "48/48 [==============================] - ETA: 0s - loss: 0.0743 - accuracy: 0.9804 - precision: 0.9830 - recall: 0.9804 - auc: 0.9979 - f1_score: 0.9804\n",
      "Epoch 9: val_accuracy did not improve from 0.99543\n",
      "48/48 [==============================] - 200s 4s/step - loss: 0.0743 - accuracy: 0.9804 - precision: 0.9830 - recall: 0.9804 - auc: 0.9979 - f1_score: 0.9804 - val_loss: 0.0349 - val_accuracy: 0.9863 - val_precision: 0.9863 - val_recall: 0.9863 - val_auc: 0.9998 - val_f1_score: 0.9863\n",
      "Epoch 10/35\n",
      "48/48 [==============================] - ETA: 0s - loss: 0.3226 - accuracy: 0.9765 - precision: 0.9764 - recall: 0.9726 - auc: 0.9926 - f1_score: 0.9765\n",
      "Epoch 10: val_accuracy did not improve from 0.99543\n",
      "48/48 [==============================] - 201s 4s/step - loss: 0.3226 - accuracy: 0.9765 - precision: 0.9764 - recall: 0.9726 - auc: 0.9926 - f1_score: 0.9765 - val_loss: 245.9601 - val_accuracy: 0.9315 - val_precision: 0.9315 - val_recall: 0.9315 - val_auc: 0.9507 - val_f1_score: 0.9315\n",
      "Epoch 11/35\n",
      "48/48 [==============================] - ETA: 0s - loss: 0.1227 - accuracy: 0.9713 - precision: 0.9726 - recall: 0.9713 - auc: 0.9961 - f1_score: 0.9713\n",
      "Epoch 11: val_accuracy did not improve from 0.99543\n",
      "48/48 [==============================] - 200s 4s/step - loss: 0.1227 - accuracy: 0.9713 - precision: 0.9726 - recall: 0.9713 - auc: 0.9961 - f1_score: 0.9713 - val_loss: 0.3737 - val_accuracy: 0.8447 - val_precision: 0.8479 - val_recall: 0.8402 - val_auc: 0.9655 - val_f1_score: 0.8447\n",
      "Epoch 12/35\n",
      "48/48 [==============================] - ETA: 0s - loss: 0.0311 - accuracy: 0.9922 - precision: 0.9935 - recall: 0.9922 - auc: 0.9988 - f1_score: 0.9922\n",
      "Epoch 12: val_accuracy did not improve from 0.99543\n",
      "48/48 [==============================] - 201s 4s/step - loss: 0.0311 - accuracy: 0.9922 - precision: 0.9935 - recall: 0.9922 - auc: 0.9988 - f1_score: 0.9922 - val_loss: 121.3790 - val_accuracy: 0.7443 - val_precision: 0.7443 - val_recall: 0.7443 - val_auc: 0.8211 - val_f1_score: 0.7443\n",
      "Epoch 13/35\n",
      "48/48 [==============================] - ETA: 0s - loss: 0.2815 - accuracy: 0.9883 - precision: 0.9883 - recall: 0.9870 - auc: 0.9961 - f1_score: 0.9883\n",
      "Epoch 13: val_accuracy did not improve from 0.99543\n",
      "Restoring model weights from the end of the best epoch: 8.\n",
      "48/48 [==============================] - 198s 4s/step - loss: 0.2815 - accuracy: 0.9883 - precision: 0.9883 - recall: 0.9870 - auc: 0.9961 - f1_score: 0.9883 - val_loss: 43.2438 - val_accuracy: 0.8174 - val_precision: 0.8174 - val_recall: 0.8174 - val_auc: 0.8729 - val_f1_score: 0.8174\n",
      "Epoch 13: early stopping\n"
     ]
    }
   ],
   "source": [
    "history = model.fit(\n",
    "    train_generator,\n",
    "    validation_data=validation_generator,\n",
    "    epochs=35,\n",
    "    callbacks=callbacks,\n",
    "        verbose=1\n",
    "    #  , class_weight=class_weights\n",
    ")"
   ]
  },
  {
   "cell_type": "code",
   "execution_count": 29,
   "id": "0de3d9d8",
   "metadata": {
    "execution": {
     "iopub.execute_input": "2024-12-27T06:59:08.062650Z",
     "iopub.status.busy": "2024-12-27T06:59:08.062356Z",
     "iopub.status.idle": "2024-12-27T06:59:08.888597Z",
     "shell.execute_reply": "2024-12-27T06:59:08.887708Z"
    },
    "id": "kE8Q1PqGaBjD",
    "papermill": {
     "duration": 0.872558,
     "end_time": "2024-12-27T06:59:08.889999",
     "exception": false,
     "start_time": "2024-12-27T06:59:08.017441",
     "status": "completed"
    },
    "tags": []
   },
   "outputs": [
    {
     "data": {
      "image/png": "[encoded data removed]",
      "text/plain": [
       "<Figure size 2200x500 with 5 Axes>"
      ]
     },
     "metadata": {},
     "output_type": "display_data"
    }
   ],
   "source": [
    "def Train_Val_Plot(acc, val_acc, loss, val_loss, auc, val_auc, precision, val_precision, f1, val_f1):\n",
    "\n",
    "    fig, (ax1, ax2, ax3, ax4, ax5) = plt.subplots(1, 5, figsize=(22, 5))\n",
    "    fig.suptitle(\" MODEL'S METRICS VISUALIZATION \")\n",
    "\n",
    "    # Rescale the y-axis for accuracy, auc, precision, and f1\n",
    "    rescale_factor = 0  # Adjust this factor to control the rescaling\n",
    "\n",
    "    ax1.plot(range(1, len(acc) + 1), acc)\n",
    "    ax1.plot(range(1, len(val_acc) + 1), val_acc)\n",
    "    ax1.set_title('History of Accuracy')\n",
    "    ax1.set_xlabel('Epochs')\n",
    "    ax1.set_ylabel('Accuracy')\n",
    "    ax1.set_ylim([0, 1.0])\n",
    "    ax1.legend(['training', 'validation'])\n",
    "\n",
    "    ax2.plot(range(1, len(loss) + 1), loss)\n",
    "    ax2.plot(range(1, len(val_loss) + 1), val_loss)\n",
    "    ax2.set_title('History of Loss')\n",
    "    ax2.set_xlabel('Epochs')\n",
    "    ax2.set_ylabel('Loss')\n",
    "    ax2.legend(['training', 'validation'])\n",
    "\n",
    "    ax3.plot(range(1, len(auc) + 1), auc)\n",
    "    ax3.plot(range(1, len(val_auc) + 1), val_auc)\n",
    "    ax3.set_title('History of AUC')\n",
    "    ax3.set_xlabel('Epochs')\n",
    "    ax3.set_ylabel('AUC')\n",
    "    ax3.set_ylim([rescale_factor, 1.0])\n",
    "    ax3.legend(['training', 'validation'])\n",
    "\n",
    "    ax4.plot(range(1, len(precision) + 1), precision)\n",
    "    ax4.plot(range(1, len(val_precision) + 1), val_precision)\n",
    "    ax4.set_title('History of Precision')\n",
    "    ax4.set_xlabel('Epochs')\n",
    "    ax4.set_ylabel('Precision')\n",
    "    ax4.set_ylim([rescale_factor, 1.0])\n",
    "    ax4.legend(['training', 'validation'])\n",
    "\n",
    "    ax5.plot(range(1, len(f1) + 1), f1)\n",
    "    ax5.plot(range(1, len(val_f1) + 1), val_f1)\n",
    "    ax5.set_title('History of F1-score')\n",
    "    ax5.set_xlabel('Epochs')\n",
    "    ax5.set_ylabel('F1 score')\n",
    "    ax5.set_ylim([rescale_factor, 1.0])\n",
    "    ax5.legend(['training', 'validation'])\n",
    "\n",
    "    plt.show()\n",
    "\n",
    "# Example usage:\n",
    "Train_Val_Plot(history.history['accuracy'], history.history['val_accuracy'],\n",
    "               history.history['loss'], history.history['val_loss']\n",
    "               ,\n",
    "               history.history['auc'], history.history['val_auc'],\n",
    "               history.history['precision'], history.history['val_precision'],\n",
    "               history.history['f1_score'], history.history['val_f1_score'])\n"
   ]
  },
  {
   "cell_type": "code",
   "execution_count": 30,
   "id": "38b2e5e0",
   "metadata": {
    "execution": {
     "iopub.execute_input": "2024-12-27T06:59:08.986369Z",
     "iopub.status.busy": "2024-12-27T06:59:08.986063Z",
     "iopub.status.idle": "2024-12-27T06:59:14.178136Z",
     "shell.execute_reply": "2024-12-27T06:59:14.177350Z"
    },
    "id": "utE8sko2aBjD",
    "papermill": {
     "duration": 5.242405,
     "end_time": "2024-12-27T06:59:14.179409",
     "exception": false,
     "start_time": "2024-12-27T06:59:08.937004",
     "status": "completed"
    },
    "tags": []
   },
   "outputs": [
    {
     "name": "stdout",
     "output_type": "stream",
     "text": [
      "7/7 [==============================] - 5s 716ms/step - loss: 0.0365 - accuracy: 1.0000 - precision: 1.0000 - recall: 1.0000 - auc: 1.0000 - f1_score: 1.0000\n"
     ]
    },
    {
     "data": {
      "text/plain": [
       "[0.036520346999168396, 1.0, 1.0, 1.0, 1.0, 1.0]"
      ]
     },
     "execution_count": 30,
     "metadata": {},
     "output_type": "execute_result"
    }
   ],
   "source": [
    "model.evaluate(test_generator)"
   ]
  },
  {
   "cell_type": "code",
   "execution_count": 31,
   "id": "7f310bba",
   "metadata": {
    "execution": {
     "iopub.execute_input": "2024-12-27T06:59:14.273218Z",
     "iopub.status.busy": "2024-12-27T06:59:14.272965Z",
     "iopub.status.idle": "2024-12-27T06:59:28.196401Z",
     "shell.execute_reply": "2024-12-27T06:59:28.195490Z"
    },
    "id": "z0kvictcppHg",
    "papermill": {
     "duration": 13.971106,
     "end_time": "2024-12-27T06:59:28.197862",
     "exception": false,
     "start_time": "2024-12-27T06:59:14.226756",
     "status": "completed"
    },
    "tags": []
   },
   "outputs": [
    {
     "name": "stdout",
     "output_type": "stream",
     "text": [
      "7/7 [==============================] - 13s 2s/step\n",
      "              precision    recall  f1-score   support\n",
      "\n",
      "           0       0.96      1.00      0.98        24\n",
      "           1       1.00      1.00      1.00       112\n",
      "           2       1.00      0.99      0.99        83\n",
      "\n",
      "    accuracy                           1.00       219\n",
      "   macro avg       0.99      1.00      0.99       219\n",
      "weighted avg       1.00      1.00      1.00       219\n",
      "\n"
     ]
    }
   ],
   "source": [
    "# Load the test dataset\n",
    "X_test, y_test = [], []\n",
    "for i in range(len(validation_generator)):\n",
    "    batch_X, batch_y = validation_generator[i]\n",
    "    X_test.append(batch_X)\n",
    "    y_test.append(batch_y)\n",
    "X_test = np.concatenate(X_test)\n",
    "y_test = np.concatenate(y_test)\n",
    "\n",
    "# Make predictions on the test set\n",
    "y_pred = model.predict(X_test)\n",
    "\n",
    "# Convert the one-hot encoded predictions to class labels\n",
    "y_pred_classes = np.argmax(y_pred, axis=1)\n",
    "\n",
    "# Convert the one-hot encoded true labels to class labels\n",
    "y_true_classes = np.argmax(y_test, axis=1)\n",
    "\n",
    "# Create a classification report\n",
    "report = classification_report(y_true_classes, y_pred_classes)\n",
    "\n",
    "print(report)"
   ]
  },
  {
   "cell_type": "code",
   "execution_count": 32,
   "id": "47e59ccf",
   "metadata": {
    "execution": {
     "iopub.execute_input": "2024-12-27T06:59:28.293089Z",
     "iopub.status.busy": "2024-12-27T06:59:28.292766Z",
     "iopub.status.idle": "2024-12-27T06:59:28.545457Z",
     "shell.execute_reply": "2024-12-27T06:59:28.544605Z"
    },
    "id": "1oDQrOfqpz_i",
    "papermill": {
     "duration": 0.301228,
     "end_time": "2024-12-27T06:59:28.546815",
     "exception": false,
     "start_time": "2024-12-27T06:59:28.245587",
     "status": "completed"
    },
    "tags": []
   },
   "outputs": [
    {
     "data": {
      "image/png": "[encoded data removed]",
      "text/plain": [
       "<Figure size 800x600 with 2 Axes>"
      ]
     },
     "metadata": {},
     "output_type": "display_data"
    }
   ],
   "source": [
    "\n",
    "class_names = ['bengin', 'malignant', 'normal']\n",
    "# Create a confusion matrix\n",
    "cm = confusion_matrix(y_true_classes, y_pred_classes)\n",
    "\n",
    "# Plotting the Confusion Matrix\n",
    "plt.figure(figsize=(8, 6))\n",
    "sns.heatmap(cm, annot=True, fmt='d', cmap='Blues', xticklabels=class_names, yticklabels=class_names)\n",
    "plt.xlabel('Predicted')\n",
    "plt.ylabel('True')\n",
    "plt.title('Confusion Matrix')\n",
    "plt.show()\n"
   ]
  }
 ],
 "metadata": {
  "accelerator": "TPU",
  "colab": {
   "gpuType": "V28",
   "provenance": []
  },
  "kaggle": {
   "accelerator": "gpu",
   "dataSources": [
    {
     "datasetId": 6379787,
     "sourceId": 10306236,
     "sourceType": "datasetVersion"
    }
   ],
   "isGpuEnabled": true,
   "isInternetEnabled": true,
   "language": "python",
   "sourceType": "notebook"
  },
  "kernelspec": {
   "display_name": "Python 3",
   "name": "python3"
  },
  "language_info": {
   "codemirror_mode": {
    "name": "ipython",
    "version": 3
   },
   "file_extension": ".py",
   "mimetype": "text/x-python",
   "name": "python",
   "nbconvert_exporter": "python",
   "pygments_lexer": "ipython3",
   "version": "3.10.12"
  },
  "papermill": {
   "default_parameters": {},
   "duration": 2825.313334,
   "end_time": "2024-12-27T06:59:31.016727",
   "environment_variables": {},
   "exception": null,
   "input_path": "__notebook__.ipynb",
   "output_path": "__notebook__.ipynb",
   "parameters": {},
   "start_time": "2024-12-27T06:12:25.703393",
   "version": "2.6.0"
  }
 },
 "nbformat": 4,
 "nbformat_minor": 5
}
