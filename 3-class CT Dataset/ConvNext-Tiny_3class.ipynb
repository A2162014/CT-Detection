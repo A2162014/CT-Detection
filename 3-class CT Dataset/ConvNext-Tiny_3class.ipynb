{
 "cells": [
  {
   "cell_type": "code",
   "execution_count": 1,
   "id": "a17fa854",
   "metadata": {
    "execution": {
     "iopub.execute_input": "2024-12-25T13:36:59.920084Z",
     "iopub.status.busy": "2024-12-25T13:36:59.919223Z",
     "iopub.status.idle": "2024-12-25T13:38:22.011679Z",
     "shell.execute_reply": "2024-12-25T13:38:22.010694Z"
    },
    "id": "Uo5cnMMVkADq",
    "outputId": "231e2f3d-9c2d-4f60-9d2b-76d814d5ad00",
    "papermill": {
     "duration": 82.10143,
     "end_time": "2024-12-25T13:38:22.013797",
     "exception": false,
     "start_time": "2024-12-25T13:36:59.912367",
     "status": "completed"
    },
    "tags": []
   },
   "outputs": [
    {
     "name": "stdout",
     "output_type": "stream",
     "text": [
      "Collecting tensorflow==2.12.0\r\n",
      "  Downloading tensorflow-2.12.0-cp310-cp310-manylinux_2_17_x86_64.manylinux2014_x86_64.whl.metadata (3.4 kB)\r\n",
      "Requirement already satisfied: absl-py>=1.0.0 in /opt/conda/lib/python3.10/site-packages (from tensorflow==2.12.0) (1.4.0)\r\n",
      "Requirement already satisfied: astunparse>=1.6.0 in /opt/conda/lib/python3.10/site-packages (from tensorflow==2.12.0) (1.6.3)\r\n",
      "Requirement already satisfied: flatbuffers>=2.0 in /opt/conda/lib/python3.10/site-packages (from tensorflow==2.12.0) (24.3.25)\r\n",
      "Collecting gast<=0.4.0,>=0.2.1 (from tensorflow==2.12.0)\r\n",
      "  Downloading gast-0.4.0-py3-none-any.whl.metadata (1.1 kB)\r\n",
      "Requirement already satisfied: google-pasta>=0.1.1 in /opt/conda/lib/python3.10/site-packages (from tensorflow==2.12.0) (0.2.0)\r\n",
      "Requirement already satisfied: grpcio<2.0,>=1.24.3 in /opt/conda/lib/python3.10/site-packages (from tensorflow==2.12.0) (1.62.2)\r\n",
      "Requirement already satisfied: h5py>=2.9.0 in /opt/conda/lib/python3.10/site-packages (from tensorflow==2.12.0) (3.11.0)\r\n",
      "Requirement already satisfied: jax>=0.3.15 in /opt/conda/lib/python3.10/site-packages (from tensorflow==2.12.0) (0.4.26)\r\n",
      "Collecting keras<2.13,>=2.12.0 (from tensorflow==2.12.0)\r\n",
      "  Downloading keras-2.12.0-py2.py3-none-any.whl.metadata (1.4 kB)\r\n",
      "Requirement already satisfied: libclang>=13.0.0 in /opt/conda/lib/python3.10/site-packages (from tensorflow==2.12.0) (18.1.1)\r\n",
      "Collecting numpy<1.24,>=1.22 (from tensorflow==2.12.0)\r\n",
      "  Downloading numpy-1.23.5-cp310-cp310-manylinux_2_17_x86_64.manylinux2014_x86_64.whl.metadata (2.3 kB)\r\n",
      "Requirement already satisfied: opt-einsum>=2.3.2 in /opt/conda/lib/python3.10/site-packages (from tensorflow==2.12.0) (3.3.0)\r\n",
      "Requirement already satisfied: packaging in /opt/conda/lib/python3.10/site-packages (from tensorflow==2.12.0) (21.3)\r\n",
      "Requirement already satisfied: protobuf!=4.21.0,!=4.21.1,!=4.21.2,!=4.21.3,!=4.21.4,!=4.21.5,<5.0.0dev,>=3.20.3 in /opt/conda/lib/python3.10/site-packages (from tensorflow==2.12.0) (3.20.3)\r\n",
      "Requirement already satisfied: setuptools in /opt/conda/lib/python3.10/site-packages (from tensorflow==2.12.0) (70.0.0)\r\n",
      "Requirement already satisfied: six>=1.12.0 in /opt/conda/lib/python3.10/site-packages (from tensorflow==2.12.0) (1.16.0)\r\n",
      "Collecting tensorboard<2.13,>=2.12 (from tensorflow==2.12.0)\r\n",
      "  Downloading tensorboard-2.12.3-py3-none-any.whl.metadata (1.8 kB)\r\n",
      "Collecting tensorflow-estimator<2.13,>=2.12.0 (from tensorflow==2.12.0)\r\n",
      "  Downloading tensorflow_estimator-2.12.0-py2.py3-none-any.whl.metadata (1.3 kB)\r\n",
      "Requirement already satisfied: termcolor>=1.1.0 in /opt/conda/lib/python3.10/site-packages (from tensorflow==2.12.0) (2.4.0)\r\n",
      "Requirement already satisfied: typing-extensions>=3.6.6 in /opt/conda/lib/python3.10/site-packages (from tensorflow==2.12.0) (4.12.2)\r\n",
      "Collecting wrapt<1.15,>=1.11.0 (from tensorflow==2.12.0)\r\n",
      "  Downloading wrapt-1.14.1-cp310-cp310-manylinux_2_5_x86_64.manylinux1_x86_64.manylinux_2_17_x86_64.manylinux2014_x86_64.whl.metadata (6.7 kB)\r\n",
      "Requirement already satisfied: tensorflow-io-gcs-filesystem>=0.23.1 in /opt/conda/lib/python3.10/site-packages (from tensorflow==2.12.0) (0.37.0)\r\n",
      "Requirement already satisfied: wheel<1.0,>=0.23.0 in /opt/conda/lib/python3.10/site-packages (from astunparse>=1.6.0->tensorflow==2.12.0) (0.43.0)\r\n",
      "Requirement already satisfied: ml-dtypes>=0.2.0 in /opt/conda/lib/python3.10/site-packages (from jax>=0.3.15->tensorflow==2.12.0) (0.3.2)\r\n",
      "Requirement already satisfied: scipy>=1.9 in /opt/conda/lib/python3.10/site-packages (from jax>=0.3.15->tensorflow==2.12.0) (1.14.1)\r\n",
      "Requirement already satisfied: google-auth<3,>=1.6.3 in /opt/conda/lib/python3.10/site-packages (from tensorboard<2.13,>=2.12->tensorflow==2.12.0) (2.30.0)\r\n",
      "Collecting google-auth-oauthlib<1.1,>=0.5 (from tensorboard<2.13,>=2.12->tensorflow==2.12.0)\r\n",
      "  Downloading google_auth_oauthlib-1.0.0-py2.py3-none-any.whl.metadata (2.7 kB)\r\n",
      "Requirement already satisfied: markdown>=2.6.8 in /opt/conda/lib/python3.10/site-packages (from tensorboard<2.13,>=2.12->tensorflow==2.12.0) (3.6)\r\n",
      "Requirement already satisfied: requests<3,>=2.21.0 in /opt/conda/lib/python3.10/site-packages (from tensorboard<2.13,>=2.12->tensorflow==2.12.0) (2.32.3)\r\n",
      "Requirement already satisfied: tensorboard-data-server<0.8.0,>=0.7.0 in /opt/conda/lib/python3.10/site-packages (from tensorboard<2.13,>=2.12->tensorflow==2.12.0) (0.7.2)\r\n",
      "Requirement already satisfied: werkzeug>=1.0.1 in /opt/conda/lib/python3.10/site-packages (from tensorboard<2.13,>=2.12->tensorflow==2.12.0) (3.0.4)\r\n",
      "Requirement already satisfied: pyparsing!=3.0.5,>=2.0.2 in /opt/conda/lib/python3.10/site-packages (from packaging->tensorflow==2.12.0) (3.1.2)\r\n",
      "Requirement already satisfied: cachetools<6.0,>=2.0.0 in /opt/conda/lib/python3.10/site-packages (from google-auth<3,>=1.6.3->tensorboard<2.13,>=2.12->tensorflow==2.12.0) (4.2.4)\r\n",
      "Requirement already satisfied: pyasn1-modules>=0.2.1 in /opt/conda/lib/python3.10/site-packages (from google-auth<3,>=1.6.3->tensorboard<2.13,>=2.12->tensorflow==2.12.0) (0.4.0)\r\n",
      "Requirement already satisfied: rsa<5,>=3.1.4 in /opt/conda/lib/python3.10/site-packages (from google-auth<3,>=1.6.3->tensorboard<2.13,>=2.12->tensorflow==2.12.0) (4.9)\r\n",
      "Requirement already satisfied: requests-oauthlib>=0.7.0 in /opt/conda/lib/python3.10/site-packages (from google-auth-oauthlib<1.1,>=0.5->tensorboard<2.13,>=2.12->tensorflow==2.12.0) (2.0.0)\r\n",
      "Requirement already satisfied: charset-normalizer<4,>=2 in /opt/conda/lib/python3.10/site-packages (from requests<3,>=2.21.0->tensorboard<2.13,>=2.12->tensorflow==2.12.0) (3.3.2)\r\n",
      "Requirement already satisfied: idna<4,>=2.5 in /opt/conda/lib/python3.10/site-packages (from requests<3,>=2.21.0->tensorboard<2.13,>=2.12->tensorflow==2.12.0) (3.7)\r\n",
      "Requirement already satisfied: urllib3<3,>=1.21.1 in /opt/conda/lib/python3.10/site-packages (from requests<3,>=2.21.0->tensorboard<2.13,>=2.12->tensorflow==2.12.0) (1.26.18)\r\n",
      "Requirement already satisfied: certifi>=2017.4.17 in /opt/conda/lib/python3.10/site-packages (from requests<3,>=2.21.0->tensorboard<2.13,>=2.12->tensorflow==2.12.0) (2024.8.30)\r\n",
      "Requirement already satisfied: MarkupSafe>=2.1.1 in /opt/conda/lib/python3.10/site-packages (from werkzeug>=1.0.1->tensorboard<2.13,>=2.12->tensorflow==2.12.0) (2.1.5)\r\n",
      "Requirement already satisfied: pyasn1<0.7.0,>=0.4.6 in /opt/conda/lib/python3.10/site-packages (from pyasn1-modules>=0.2.1->google-auth<3,>=1.6.3->tensorboard<2.13,>=2.12->tensorflow==2.12.0) (0.6.0)\r\n",
      "Requirement already satisfied: oauthlib>=3.0.0 in /opt/conda/lib/python3.10/site-packages (from requests-oauthlib>=0.7.0->google-auth-oauthlib<1.1,>=0.5->tensorboard<2.13,>=2.12->tensorflow==2.12.0) (3.2.2)\r\n",
      "Downloading tensorflow-2.12.0-cp310-cp310-manylinux_2_17_x86_64.manylinux2014_x86_64.whl (585.9 MB)\r\n",
      "\u001b[2K   \u001b[90m━━━━━━━━━━━━━━━━━━━━━━━━━━━━━━━━━━━━━━━━\u001b[0m \u001b[32m585.9/585.9 MB\u001b[0m \u001b[31m2.9 MB/s\u001b[0m eta \u001b[36m0:00:00\u001b[0m\r\n",
      "\u001b[?25hDownloading gast-0.4.0-py3-none-any.whl (9.8 kB)\r\n",
      "Downloading keras-2.12.0-py2.py3-none-any.whl (1.7 MB)\r\n",
      "\u001b[2K   \u001b[90m━━━━━━━━━━━━━━━━━━━━━━━━━━━━━━━━━━━━━━━━\u001b[0m \u001b[32m1.7/1.7 MB\u001b[0m \u001b[31m69.3 MB/s\u001b[0m eta \u001b[36m0:00:00\u001b[0m\r\n",
      "\u001b[?25hDownloading numpy-1.23.5-cp310-cp310-manylinux_2_17_x86_64.manylinux2014_x86_64.whl (17.1 MB)\r\n",
      "\u001b[2K   \u001b[90m━━━━━━━━━━━━━━━━━━━━━━━━━━━━━━━━━━━━━━━━\u001b[0m \u001b[32m17.1/17.1 MB\u001b[0m \u001b[31m95.1 MB/s\u001b[0m eta \u001b[36m0:00:00\u001b[0m\r\n",
      "\u001b[?25hDownloading tensorboard-2.12.3-py3-none-any.whl (5.6 MB)\r\n",
      "\u001b[2K   \u001b[90m━━━━━━━━━━━━━━━━━━━━━━━━━━━━━━━━━━━━━━━━\u001b[0m \u001b[32m5.6/5.6 MB\u001b[0m \u001b[31m96.6 MB/s\u001b[0m eta \u001b[36m0:00:00\u001b[0m\r\n",
      "\u001b[?25hDownloading tensorflow_estimator-2.12.0-py2.py3-none-any.whl (440 kB)\r\n",
      "\u001b[2K   \u001b[90m━━━━━━━━━━━━━━━━━━━━━━━━━━━━━━━━━━━━━━━━\u001b[0m \u001b[32m440.7/440.7 kB\u001b[0m \u001b[31m23.3 MB/s\u001b[0m eta \u001b[36m0:00:00\u001b[0m\r\n",
      "\u001b[?25hDownloading wrapt-1.14.1-cp310-cp310-manylinux_2_5_x86_64.manylinux1_x86_64.manylinux_2_17_x86_64.manylinux2014_x86_64.whl (77 kB)\r\n",
      "\u001b[2K   \u001b[90m━━━━━━━━━━━━━━━━━━━━━━━━━━━━━━━━━━━━━━━━\u001b[0m \u001b[32m77.9/77.9 kB\u001b[0m \u001b[31m4.9 MB/s\u001b[0m eta \u001b[36m0:00:00\u001b[0m\r\n",
      "\u001b[?25hDownloading google_auth_oauthlib-1.0.0-py2.py3-none-any.whl (18 kB)\r\n",
      "Installing collected packages: wrapt, tensorflow-estimator, numpy, keras, gast, google-auth-oauthlib, tensorboard, tensorflow\r\n",
      "  Attempting uninstall: wrapt\r\n",
      "    Found existing installation: wrapt 1.16.0\r\n",
      "    Uninstalling wrapt-1.16.0:\r\n",
      "      Successfully uninstalled wrapt-1.16.0\r\n",
      "  Attempting uninstall: tensorflow-estimator\r\n",
      "    Found existing installation: tensorflow-estimator 2.15.0\r\n",
      "    Uninstalling tensorflow-estimator-2.15.0:\r\n",
      "      Successfully uninstalled tensorflow-estimator-2.15.0\r\n",
      "  Attempting uninstall: numpy\r\n",
      "    Found existing installation: numpy 1.26.4\r\n",
      "    Uninstalling numpy-1.26.4:\r\n",
      "      Successfully uninstalled numpy-1.26.4\r\n",
      "  Attempting uninstall: keras\r\n",
      "    Found existing installation: keras 3.3.3\r\n",
      "    Uninstalling keras-3.3.3:\r\n",
      "      Successfully uninstalled keras-3.3.3\r\n",
      "  Attempting uninstall: gast\r\n",
      "    Found existing installation: gast 0.5.4\r\n",
      "    Uninstalling gast-0.5.4:\r\n",
      "      Successfully uninstalled gast-0.5.4\r\n",
      "  Attempting uninstall: google-auth-oauthlib\r\n",
      "    Found existing installation: google-auth-oauthlib 1.2.0\r\n",
      "    Uninstalling google-auth-oauthlib-1.2.0:\r\n",
      "      Successfully uninstalled google-auth-oauthlib-1.2.0\r\n",
      "  Attempting uninstall: tensorboard\r\n",
      "    Found existing installation: tensorboard 2.16.2\r\n",
      "    Uninstalling tensorboard-2.16.2:\r\n",
      "      Successfully uninstalled tensorboard-2.16.2\r\n",
      "  Attempting uninstall: tensorflow\r\n",
      "    Found existing installation: tensorflow 2.16.1\r\n",
      "    Uninstalling tensorflow-2.16.1:\r\n",
      "      Successfully uninstalled tensorflow-2.16.1\r\n",
      "\u001b[31mERROR: pip's dependency resolver does not currently take into account all the packages that are installed. This behaviour is the source of the following dependency conflicts.\r\n",
      "cudf 24.8.3 requires cubinlinker, which is not installed.\r\n",
      "cudf 24.8.3 requires cupy-cuda11x>=12.0.0, which is not installed.\r\n",
      "cudf 24.8.3 requires ptxcompiler, which is not installed.\r\n",
      "cuml 24.8.0 requires cupy-cuda11x>=12.0.0, which is not installed.\r\n",
      "dask-cudf 24.8.3 requires cupy-cuda11x>=12.0.0, which is not installed.\r\n",
      "ucxx 0.39.1 requires libucx>=1.15.0, which is not installed.\r\n",
      "albucore 0.0.17 requires numpy>=1.24, but you have numpy 1.23.5 which is incompatible.\r\n",
      "albumentations 1.4.17 requires numpy>=1.24.4, but you have numpy 1.23.5 which is incompatible.\r\n",
      "apache-beam 2.46.0 requires cloudpickle~=2.2.1, but you have cloudpickle 3.0.0 which is incompatible.\r\n",
      "apache-beam 2.46.0 requires dill<0.3.2,>=0.3.1.1, but you have dill 0.3.8 which is incompatible.\r\n",
      "apache-beam 2.46.0 requires pyarrow<10.0.0,>=3.0.0, but you have pyarrow 16.1.0 which is incompatible.\r\n",
      "bayesian-optimization 1.5.1 requires numpy>=1.25, but you have numpy 1.23.5 which is incompatible.\r\n",
      "cesium 0.12.3 requires numpy<3.0,>=2.0, but you have numpy 1.23.5 which is incompatible.\r\n",
      "chex 0.1.86 requires numpy>=1.24.1, but you have numpy 1.23.5 which is incompatible.\r\n",
      "cudf 24.8.3 requires cuda-python<12.0a0,>=11.7.1, but you have cuda-python 12.6.0 which is incompatible.\r\n",
      "featuretools 1.31.0 requires numpy>=1.25.0, but you have numpy 1.23.5 which is incompatible.\r\n",
      "gensim 4.3.3 requires scipy<1.14.0,>=1.7.0, but you have scipy 1.14.1 which is incompatible.\r\n",
      "ibis-framework 7.1.0 requires pyarrow<15,>=2, but you have pyarrow 16.1.0 which is incompatible.\r\n",
      "libpysal 4.9.2 requires packaging>=22, but you have packaging 21.3 which is incompatible.\r\n",
      "libpysal 4.9.2 requires shapely>=2.0.1, but you have shapely 1.8.5.post1 which is incompatible.\r\n",
      "pyldavis 3.4.1 requires numpy>=1.24.2, but you have numpy 1.23.5 which is incompatible.\r\n",
      "rmm 24.8.2 requires cuda-python<12.0a0,>=11.7.1, but you have cuda-python 12.6.0 which is incompatible.\r\n",
      "tensorflow-decision-forests 1.9.1 requires tensorflow~=2.16.1, but you have tensorflow 2.12.0 which is incompatible.\r\n",
      "tensorflow-serving-api 2.16.1 requires tensorflow<3,>=2.16.1, but you have tensorflow 2.12.0 which is incompatible.\r\n",
      "tensorflow-text 2.16.1 requires tensorflow<2.17,>=2.16.1; platform_machine != \"arm64\" or platform_system != \"Darwin\", but you have tensorflow 2.12.0 which is incompatible.\r\n",
      "tf-keras 2.16.0 requires tensorflow<2.17,>=2.16, but you have tensorflow 2.12.0 which is incompatible.\r\n",
      "woodwork 0.31.0 requires numpy>=1.25.0, but you have numpy 1.23.5 which is incompatible.\r\n",
      "xarray 2024.9.0 requires numpy>=1.24, but you have numpy 1.23.5 which is incompatible.\r\n",
      "xarray 2024.9.0 requires packaging>=23.1, but you have packaging 21.3 which is incompatible.\r\n",
      "ydata-profiling 4.10.0 requires scipy<1.14,>=1.4.1, but you have scipy 1.14.1 which is incompatible.\u001b[0m\u001b[31m\r\n",
      "\u001b[0mSuccessfully installed gast-0.4.0 google-auth-oauthlib-1.0.0 keras-2.12.0 numpy-1.23.5 tensorboard-2.12.3 tensorflow-2.12.0 tensorflow-estimator-2.12.0 wrapt-1.14.1\r\n",
      "Collecting tensorflow-addons==0.19.0\r\n",
      "  Downloading tensorflow_addons-0.19.0-cp310-cp310-manylinux_2_17_x86_64.manylinux2014_x86_64.whl.metadata (1.8 kB)\r\n",
      "Requirement already satisfied: packaging in /opt/conda/lib/python3.10/site-packages (from tensorflow-addons==0.19.0) (21.3)\r\n",
      "Requirement already satisfied: typeguard>=2.7 in /opt/conda/lib/python3.10/site-packages (from tensorflow-addons==0.19.0) (4.3.0)\r\n",
      "Requirement already satisfied: typing-extensions>=4.10.0 in /opt/conda/lib/python3.10/site-packages (from typeguard>=2.7->tensorflow-addons==0.19.0) (4.12.2)\r\n",
      "Requirement already satisfied: pyparsing!=3.0.5,>=2.0.2 in /opt/conda/lib/python3.10/site-packages (from packaging->tensorflow-addons==0.19.0) (3.1.2)\r\n",
      "Downloading tensorflow_addons-0.19.0-cp310-cp310-manylinux_2_17_x86_64.manylinux2014_x86_64.whl (1.1 MB)\r\n",
      "\u001b[2K   \u001b[90m━━━━━━━━━━━━━━━━━━━━━━━━━━━━━━━━━━━━━━━━\u001b[0m \u001b[32m1.1/1.1 MB\u001b[0m \u001b[31m1.1 MB/s\u001b[0m eta \u001b[36m0:00:00\u001b[0m\r\n",
      "\u001b[?25hInstalling collected packages: tensorflow-addons\r\n",
      "Successfully installed tensorflow-addons-0.19.0\r\n"
     ]
    }
   ],
   "source": [
    "!pip install tensorflow==2.12.0\n",
    "!pip install tensorflow-addons==0.19.0"
   ]
  },
  {
   "cell_type": "code",
   "execution_count": 2,
   "id": "736cde85",
   "metadata": {
    "execution": {
     "iopub.execute_input": "2024-12-25T13:38:22.043032Z",
     "iopub.status.busy": "2024-12-25T13:38:22.042723Z",
     "iopub.status.idle": "2024-12-25T13:38:22.046938Z",
     "shell.execute_reply": "2024-12-25T13:38:22.046251Z"
    },
    "id": "GitBDng_36xV",
    "papermill": {
     "duration": 0.020438,
     "end_time": "2024-12-25T13:38:22.048506",
     "exception": false,
     "start_time": "2024-12-25T13:38:22.028068",
     "status": "completed"
    },
    "tags": []
   },
   "outputs": [],
   "source": [
    "import zipfile"
   ]
  },
  {
   "cell_type": "code",
   "execution_count": 3,
   "id": "c6ffdbd7",
   "metadata": {
    "execution": {
     "iopub.execute_input": "2024-12-25T13:38:22.077083Z",
     "iopub.status.busy": "2024-12-25T13:38:22.076805Z",
     "iopub.status.idle": "2024-12-25T13:38:29.114167Z",
     "shell.execute_reply": "2024-12-25T13:38:29.113257Z"
    },
    "id": "z3FHA2tYbNfx",
    "papermill": {
     "duration": 7.053747,
     "end_time": "2024-12-25T13:38:29.116235",
     "exception": false,
     "start_time": "2024-12-25T13:38:22.062488",
     "status": "completed"
    },
    "tags": []
   },
   "outputs": [],
   "source": [
    "import os\n",
    "import zipfile\n",
    "import numpy as np\n",
    "import pandas as pd\n",
    "import matplotlib.pyplot as plt\n",
    "import seaborn as sns\n",
    "import shutil\n",
    "from sklearn.model_selection import train_test_split\n",
    "from sklearn.metrics import confusion_matrix, classification_report\n",
    "\n",
    "import tensorflow as tf\n",
    "from tensorflow.keras.models import Sequential\n",
    "from tensorflow.keras.layers import GlobalAveragePooling2D, Dense\n",
    "from tensorflow.keras.optimizers import Adam\n",
    "from tensorflow.keras.callbacks import ModelCheckpoint, EarlyStopping\n",
    "from tensorflow.keras.preprocessing.image import ImageDataGenerator"
   ]
  },
  {
   "cell_type": "markdown",
   "id": "c1b065d9",
   "metadata": {
    "id": "PO_UpS4vaBi8",
    "papermill": {
     "duration": 0.013129,
     "end_time": "2024-12-25T13:38:29.143398",
     "exception": false,
     "start_time": "2024-12-25T13:38:29.130269",
     "status": "completed"
    },
    "tags": []
   },
   "source": [
    "Try 3"
   ]
  },
  {
   "cell_type": "code",
   "execution_count": 4,
   "id": "be4bfd73",
   "metadata": {
    "execution": {
     "iopub.execute_input": "2024-12-25T13:38:29.172186Z",
     "iopub.status.busy": "2024-12-25T13:38:29.171338Z",
     "iopub.status.idle": "2024-12-25T13:38:29.710889Z",
     "shell.execute_reply": "2024-12-25T13:38:29.710002Z"
    },
    "id": "BQQxaR_xkNEi",
    "outputId": "b9644aab-228e-42f2-9354-b2969bdaa8ff",
    "papermill": {
     "duration": 0.55616,
     "end_time": "2024-12-25T13:38:29.712938",
     "exception": false,
     "start_time": "2024-12-25T13:38:29.156778",
     "status": "completed"
    },
    "tags": []
   },
   "outputs": [
    {
     "name": "stderr",
     "output_type": "stream",
     "text": [
      "/opt/conda/lib/python3.10/site-packages/tensorflow_addons/utils/ensure_tf_install.py:53: UserWarning: Tensorflow Addons supports using Python ops for all Tensorflow versions above or equal to 2.9.0 and strictly below 2.12.0 (nightly versions are not supported). \n",
      " The versions of TensorFlow you are currently using is 2.12.0 and is not supported. \n",
      "Some things might work, some things might not.\n",
      "If you were to encounter a bug, do not file an issue.\n",
      "If you want to make sure you're using a tested and supported configuration, either change the TensorFlow version or the TensorFlow Addons's version. \n",
      "You can find the compatibility matrix in TensorFlow Addon's readme:\n",
      "https://github.com/tensorflow/addons\n",
      "  warnings.warn(\n"
     ]
    }
   ],
   "source": [
    "import tensorflow_addons as tfa"
   ]
  },
  {
   "cell_type": "code",
   "execution_count": 5,
   "id": "2eeb491f",
   "metadata": {
    "execution": {
     "iopub.execute_input": "2024-12-25T13:38:29.741255Z",
     "iopub.status.busy": "2024-12-25T13:38:29.740920Z",
     "iopub.status.idle": "2024-12-25T13:38:38.189429Z",
     "shell.execute_reply": "2024-12-25T13:38:38.188271Z"
    },
    "papermill": {
     "duration": 8.465018,
     "end_time": "2024-12-25T13:38:38.191612",
     "exception": false,
     "start_time": "2024-12-25T13:38:29.726594",
     "status": "completed"
    },
    "tags": []
   },
   "outputs": [
    {
     "name": "stderr",
     "output_type": "stream",
     "text": [
      "/opt/conda/lib/python3.10/pty.py:89: RuntimeWarning: os.fork() was called. os.fork() is incompatible with multithreaded code, and JAX is multithreaded, so this will likely lead to a deadlock.\n",
      "  pid, fd = os.forkpty()\n"
     ]
    },
    {
     "name": "stdout",
     "output_type": "stream",
     "text": [
      "Collecting gdown\r\n",
      "  Downloading gdown-5.2.0-py3-none-any.whl.metadata (5.8 kB)\r\n",
      "Requirement already satisfied: beautifulsoup4 in /opt/conda/lib/python3.10/site-packages (from gdown) (4.12.3)\r\n",
      "Requirement already satisfied: filelock in /opt/conda/lib/python3.10/site-packages (from gdown) (3.15.1)\r\n",
      "Requirement already satisfied: requests[socks] in /opt/conda/lib/python3.10/site-packages (from gdown) (2.32.3)\r\n",
      "Requirement already satisfied: tqdm in /opt/conda/lib/python3.10/site-packages (from gdown) (4.66.4)\r\n",
      "Requirement already satisfied: soupsieve>1.2 in /opt/conda/lib/python3.10/site-packages (from beautifulsoup4->gdown) (2.5)\r\n",
      "Requirement already satisfied: charset-normalizer<4,>=2 in /opt/conda/lib/python3.10/site-packages (from requests[socks]->gdown) (3.3.2)\r\n",
      "Requirement already satisfied: idna<4,>=2.5 in /opt/conda/lib/python3.10/site-packages (from requests[socks]->gdown) (3.7)\r\n",
      "Requirement already satisfied: urllib3<3,>=1.21.1 in /opt/conda/lib/python3.10/site-packages (from requests[socks]->gdown) (1.26.18)\r\n",
      "Requirement already satisfied: certifi>=2017.4.17 in /opt/conda/lib/python3.10/site-packages (from requests[socks]->gdown) (2024.8.30)\r\n",
      "Requirement already satisfied: PySocks!=1.5.7,>=1.5.6 in /opt/conda/lib/python3.10/site-packages (from requests[socks]->gdown) (1.7.1)\r\n",
      "Downloading gdown-5.2.0-py3-none-any.whl (18 kB)\r\n",
      "Installing collected packages: gdown\r\n",
      "Successfully installed gdown-5.2.0\r\n"
     ]
    }
   ],
   "source": [
    "!pip install gdown"
   ]
  },
  {
   "cell_type": "code",
   "execution_count": 6,
   "id": "b9ab1017",
   "metadata": {
    "execution": {
     "iopub.execute_input": "2024-12-25T13:38:38.221607Z",
     "iopub.status.busy": "2024-12-25T13:38:38.221263Z",
     "iopub.status.idle": "2024-12-25T13:38:38.225391Z",
     "shell.execute_reply": "2024-12-25T13:38:38.224576Z"
    },
    "papermill": {
     "duration": 0.020793,
     "end_time": "2024-12-25T13:38:38.227127",
     "exception": false,
     "start_time": "2024-12-25T13:38:38.206334",
     "status": "completed"
    },
    "tags": []
   },
   "outputs": [],
   "source": [
    "# !gdown \"https://drive.google.com/uc?id=1QAkYNXInCNX35b2lI8dXHFvVjor9AIVk\"\n"
   ]
  },
  {
   "cell_type": "code",
   "execution_count": 7,
   "id": "f8438b54",
   "metadata": {
    "execution": {
     "iopub.execute_input": "2024-12-25T13:38:38.256215Z",
     "iopub.status.busy": "2024-12-25T13:38:38.255931Z",
     "iopub.status.idle": "2024-12-25T13:38:38.259515Z",
     "shell.execute_reply": "2024-12-25T13:38:38.258730Z"
    },
    "id": "QyN8qV0huMwD",
    "papermill": {
     "duration": 0.020236,
     "end_time": "2024-12-25T13:38:38.261070",
     "exception": false,
     "start_time": "2024-12-25T13:38:38.240834",
     "status": "completed"
    },
    "tags": []
   },
   "outputs": [],
   "source": [
    "# zip_path = \"/kaggle/working/Copy of Copy of train.zip\"  # Path to the ZIP file\n",
    "# extracted_path = \"/kaggle/working/chest_ctscan_images\"  # Path to extract the files\n",
    "# with zipfile.ZipFile(zip_path, 'r') as zip_ref:\n",
    "#     zip_ref.extractall(extracted_path)"
   ]
  },
  {
   "cell_type": "code",
   "execution_count": 8,
   "id": "61fde8db",
   "metadata": {
    "execution": {
     "iopub.execute_input": "2024-12-25T13:38:38.290184Z",
     "iopub.status.busy": "2024-12-25T13:38:38.289926Z",
     "iopub.status.idle": "2024-12-25T13:38:45.173997Z",
     "shell.execute_reply": "2024-12-25T13:38:45.173052Z"
    },
    "papermill": {
     "duration": 6.900986,
     "end_time": "2024-12-25T13:38:45.175788",
     "exception": false,
     "start_time": "2024-12-25T13:38:38.274802",
     "status": "completed"
    },
    "tags": []
   },
   "outputs": [
    {
     "name": "stdout",
     "output_type": "stream",
     "text": [
      "Dataset successfully split into train, valid, and test sets.\n"
     ]
    }
   ],
   "source": [
    "def split_dataset(source_dir, output_dir, train_ratio=0.7, valid_ratio=0.2):\n",
    "    \"\"\"\n",
    "    Splits data into train, validation, and test sets.\n",
    "    \n",
    "    Parameters:\n",
    "    - source_dir: Path to the source dataset directory.\n",
    "    - output_dir: Path to the output directory for train, valid, and test sets.\n",
    "    - train_ratio: Proportion of data to allocate to training.\n",
    "    - valid_ratio: Proportion of data to allocate to validation.\n",
    "    \n",
    "    Remaining proportion will be allocated to the test set.\n",
    "    \"\"\"\n",
    "    if not os.path.exists(source_dir):\n",
    "        raise FileNotFoundError(f\"Source directory not found: {source_dir}\")\n",
    "    if not os.path.exists(output_dir):\n",
    "        os.makedirs(output_dir)\n",
    "\n",
    "    # Create train, valid, and test directories\n",
    "    train_dir = os.path.join(output_dir, 'train')\n",
    "    valid_dir = os.path.join(output_dir, 'valid')\n",
    "    test_dir = os.path.join(output_dir, 'test')\n",
    "\n",
    "    for dir_path in [train_dir, valid_dir, test_dir]:\n",
    "        if not os.path.exists(dir_path):\n",
    "            os.makedirs(dir_path)\n",
    "\n",
    "    # Iterate over classes\n",
    "    for class_name in os.listdir(source_dir):\n",
    "        class_source_path = os.path.join(source_dir, class_name)\n",
    "        if not os.path.isdir(class_source_path):\n",
    "            continue\n",
    "        \n",
    "        files = os.listdir(class_source_path)\n",
    "        train_files, temp_files = train_test_split(files, test_size=(1 - train_ratio), random_state=42)\n",
    "        valid_files, test_files = train_test_split(temp_files, test_size=(1 - valid_ratio / (1 - train_ratio)), random_state=42)\n",
    "\n",
    "        # Create class subdirectories in train, valid, and test\n",
    "        for split_dir, split_files in zip([train_dir, valid_dir, test_dir], [train_files, valid_files, test_files]):\n",
    "            class_split_path = os.path.join(split_dir, class_name)\n",
    "            if not os.path.exists(class_split_path):\n",
    "                os.makedirs(class_split_path)\n",
    "\n",
    "            # Copy files to respective directories\n",
    "            for file in split_files:\n",
    "                shutil.copy2(os.path.join(class_source_path, file), os.path.join(class_split_path, file))\n",
    "\n",
    "    print(\"Dataset successfully split into train, valid, and test sets.\")\n",
    "\n",
    "# Example usage\n",
    "source_dir = '/kaggle/input/iqothnccd-lung-cancer-dataset/The IQ-OTHNCCD lung cancer dataset/The IQ-OTHNCCD lung cancer dataset'\n",
    "output_dir = '/kaggle/working/split_dataset'\n",
    "\n",
    "split_dataset(source_dir, output_dir, train_ratio=0.7, valid_ratio=0.2)\n"
   ]
  },
  {
   "cell_type": "code",
   "execution_count": 9,
   "id": "c3810fbf",
   "metadata": {
    "execution": {
     "iopub.execute_input": "2024-12-25T13:38:45.205174Z",
     "iopub.status.busy": "2024-12-25T13:38:45.204890Z",
     "iopub.status.idle": "2024-12-25T13:38:45.208500Z",
     "shell.execute_reply": "2024-12-25T13:38:45.207737Z"
    },
    "id": "TwEwT2nCuPYv",
    "papermill": {
     "duration": 0.019961,
     "end_time": "2024-12-25T13:38:45.210132",
     "exception": false,
     "start_time": "2024-12-25T13:38:45.190171",
     "status": "completed"
    },
    "tags": []
   },
   "outputs": [],
   "source": [
    "# train_dir = os.path.join(extracted_path, \"train\")\n",
    "# valid_dir = \"/kaggle/working/chest_ctscan_images/valid\"\n",
    "# test_dir = \"/kaggle/working/chest_ctscan_images/test\""
   ]
  },
  {
   "cell_type": "code",
   "execution_count": 10,
   "id": "145903a4",
   "metadata": {
    "execution": {
     "iopub.execute_input": "2024-12-25T13:38:45.239399Z",
     "iopub.status.busy": "2024-12-25T13:38:45.238909Z",
     "iopub.status.idle": "2024-12-25T13:38:45.242784Z",
     "shell.execute_reply": "2024-12-25T13:38:45.242042Z"
    },
    "id": "cUjh_ksquT_w",
    "papermill": {
     "duration": 0.020165,
     "end_time": "2024-12-25T13:38:45.244356",
     "exception": false,
     "start_time": "2024-12-25T13:38:45.224191",
     "status": "completed"
    },
    "tags": []
   },
   "outputs": [],
   "source": [
    "# # Create a validation set from a portion of the training set\n",
    "# def create_validation_set(source_dir, validation_dir, validation_ratio=0.2):\n",
    "#     if not os.path.exists(validation_dir):\n",
    "#         os.makedirs(validation_dir)\n",
    "\n",
    "#     for class_name in os.listdir(source_dir):\n",
    "#         class_source_path = os.path.join(source_dir, class_name)\n",
    "#         class_valid_path = os.path.join(validation_dir, class_name)\n",
    "\n",
    "#         if not os.path.exists(class_valid_path):\n",
    "#             os.makedirs(class_valid_path)\n",
    "\n",
    "#         all_files = os.listdir(class_source_path)\n",
    "#         train_files, valid_files = train_test_split(all_files, test_size=validation_ratio, random_state=42)\n",
    "\n",
    "#         for file in valid_files:\n",
    "#             shutil.move(os.path.join(class_source_path, file), os.path.join(class_valid_path, file))\n",
    "\n",
    "# create_validation_set(train_dir, valid_dir, validation_ratio=0.2)  # Split 20% for validation"
   ]
  },
  {
   "cell_type": "code",
   "execution_count": 11,
   "id": "88962e74",
   "metadata": {
    "execution": {
     "iopub.execute_input": "2024-12-25T13:38:45.274418Z",
     "iopub.status.busy": "2024-12-25T13:38:45.273560Z",
     "iopub.status.idle": "2024-12-25T13:38:45.278172Z",
     "shell.execute_reply": "2024-12-25T13:38:45.277410Z"
    },
    "id": "xPSkhXLkn0-0",
    "papermill": {
     "duration": 0.021404,
     "end_time": "2024-12-25T13:38:45.279720",
     "exception": false,
     "start_time": "2024-12-25T13:38:45.258316",
     "status": "completed"
    },
    "tags": []
   },
   "outputs": [],
   "source": [
    "# # Example code to create a test set from a portion of the training set\n",
    "# def create_test_set(source_dir, test_dir, test_ratio=0.1):\n",
    "#     # Create test directory if it doesn't exist\n",
    "#     if not os.path.exists(test_dir):\n",
    "#         os.makedirs(test_dir)\n",
    "\n",
    "#     for class_name in os.listdir(source_dir):\n",
    "#         class_source_path = os.path.join(source_dir, class_name)\n",
    "#         class_test_path = os.path.join(test_dir, class_name)\n",
    "\n",
    "#         if not os.path.exists(class_test_path):\n",
    "#             os.makedirs(class_test_path)\n",
    "\n",
    "#         all_files = os.listdir(class_source_path)\n",
    "#         train_files, test_files = train_test_split(all_files, test_size=test_ratio, random_state=42)\n",
    "\n",
    "#         for file in test_files:\n",
    "#             shutil.move(os.path.join(class_source_path, file), os.path.join(class_test_path, file))\n",
    "\n",
    "# create_test_set(train_dir, test_dir, test_ratio=0.18)  # Split 10% for test"
   ]
  },
  {
   "cell_type": "code",
   "execution_count": 12,
   "id": "8e4ac7b5",
   "metadata": {
    "execution": {
     "iopub.execute_input": "2024-12-25T13:38:45.308748Z",
     "iopub.status.busy": "2024-12-25T13:38:45.308478Z",
     "iopub.status.idle": "2024-12-25T13:38:45.312438Z",
     "shell.execute_reply": "2024-12-25T13:38:45.311674Z"
    },
    "id": "OBHrYqxLuU5C",
    "papermill": {
     "duration": 0.020229,
     "end_time": "2024-12-25T13:38:45.314010",
     "exception": false,
     "start_time": "2024-12-25T13:38:45.293781",
     "status": "completed"
    },
    "tags": []
   },
   "outputs": [],
   "source": [
    "train_datagen = ImageDataGenerator(\n",
    "    # rescale=1.0/255,\n",
    "    # rotation_range=20,\n",
    "    # width_shift_range=0.2,\n",
    "    # height_shift_range=0.2,\n",
    "    # shear_range=0.2,\n",
    "    # zoom_range=0.2,\n",
    "    # horizontal_flip=True\n",
    ")"
   ]
  },
  {
   "cell_type": "code",
   "execution_count": 13,
   "id": "0c457e04",
   "metadata": {
    "execution": {
     "iopub.execute_input": "2024-12-25T13:38:45.343615Z",
     "iopub.status.busy": "2024-12-25T13:38:45.343312Z",
     "iopub.status.idle": "2024-12-25T13:38:45.347097Z",
     "shell.execute_reply": "2024-12-25T13:38:45.346327Z"
    },
    "id": "5OZi-BPsuYkQ",
    "papermill": {
     "duration": 0.02055,
     "end_time": "2024-12-25T13:38:45.348651",
     "exception": false,
     "start_time": "2024-12-25T13:38:45.328101",
     "status": "completed"
    },
    "tags": []
   },
   "outputs": [],
   "source": [
    "valid_datagen = ImageDataGenerator()\n",
    "test_datagen = ImageDataGenerator()"
   ]
  },
  {
   "cell_type": "code",
   "execution_count": 14,
   "id": "caba1294",
   "metadata": {
    "execution": {
     "iopub.execute_input": "2024-12-25T13:38:45.378159Z",
     "iopub.status.busy": "2024-12-25T13:38:45.377550Z",
     "iopub.status.idle": "2024-12-25T13:38:45.397607Z",
     "shell.execute_reply": "2024-12-25T13:38:45.396972Z"
    },
    "id": "s58bw8FiuczT",
    "outputId": "57fc1147-6596-4efe-fddc-33e11f87bdbb",
    "papermill": {
     "duration": 0.036434,
     "end_time": "2024-12-25T13:38:45.399103",
     "exception": false,
     "start_time": "2024-12-25T13:38:45.362669",
     "status": "completed"
    },
    "tags": []
   },
   "outputs": [
    {
     "name": "stdout",
     "output_type": "stream",
     "text": [
      "Found 766 images belonging to 3 classes.\n"
     ]
    }
   ],
   "source": [
    "train_generator = train_datagen.flow_from_directory(\n",
    "    \"/kaggle/working/split_dataset/train\",\n",
    "    target_size=(224,224),\n",
    "    batch_size=6,\n",
    "    class_mode='categorical'\n",
    ")"
   ]
  },
  {
   "cell_type": "code",
   "execution_count": 15,
   "id": "2064801e",
   "metadata": {
    "execution": {
     "iopub.execute_input": "2024-12-25T13:38:45.428953Z",
     "iopub.status.busy": "2024-12-25T13:38:45.428357Z",
     "iopub.status.idle": "2024-12-25T13:38:45.439361Z",
     "shell.execute_reply": "2024-12-25T13:38:45.438595Z"
    },
    "id": "_VAT1nn6ufRV",
    "outputId": "aa94d728-21ca-4d9f-da3a-99aea8fcc481",
    "papermill": {
     "duration": 0.027377,
     "end_time": "2024-12-25T13:38:45.440911",
     "exception": false,
     "start_time": "2024-12-25T13:38:45.413534",
     "status": "completed"
    },
    "tags": []
   },
   "outputs": [
    {
     "name": "stdout",
     "output_type": "stream",
     "text": [
      "Found 219 images belonging to 3 classes.\n"
     ]
    }
   ],
   "source": [
    "validation_generator = valid_datagen.flow_from_directory(\n",
    "    \"/kaggle/working/split_dataset/valid\",\n",
    "    target_size=(224,224),\n",
    "    batch_size=6,\n",
    "    class_mode='categorical'\n",
    ")"
   ]
  },
  {
   "cell_type": "code",
   "execution_count": 16,
   "id": "135c5719",
   "metadata": {
    "execution": {
     "iopub.execute_input": "2024-12-25T13:38:45.470103Z",
     "iopub.status.busy": "2024-12-25T13:38:45.469618Z",
     "iopub.status.idle": "2024-12-25T13:38:45.478814Z",
     "shell.execute_reply": "2024-12-25T13:38:45.478239Z"
    },
    "id": "79higThAuhq_",
    "outputId": "99c57cfc-10bd-4748-e13d-cc86f208ba90",
    "papermill": {
     "duration": 0.025397,
     "end_time": "2024-12-25T13:38:45.480304",
     "exception": false,
     "start_time": "2024-12-25T13:38:45.454907",
     "status": "completed"
    },
    "tags": []
   },
   "outputs": [
    {
     "name": "stdout",
     "output_type": "stream",
     "text": [
      "Found 112 images belonging to 3 classes.\n"
     ]
    }
   ],
   "source": [
    "test_generator = test_datagen.flow_from_directory(\n",
    "    \"/kaggle/working/split_dataset/test\",\n",
    "    target_size=(224,224),\n",
    "    batch_size=6,\n",
    "    class_mode='categorical'\n",
    ")"
   ]
  },
  {
   "cell_type": "code",
   "execution_count": 17,
   "id": "43a2b99c",
   "metadata": {
    "execution": {
     "iopub.execute_input": "2024-12-25T13:38:45.509432Z",
     "iopub.status.busy": "2024-12-25T13:38:45.509148Z",
     "iopub.status.idle": "2024-12-25T13:38:45.512433Z",
     "shell.execute_reply": "2024-12-25T13:38:45.511739Z"
    },
    "id": "wJy_CEHicRgM",
    "papermill": {
     "duration": 0.019547,
     "end_time": "2024-12-25T13:38:45.513966",
     "exception": false,
     "start_time": "2024-12-25T13:38:45.494419",
     "status": "completed"
    },
    "tags": []
   },
   "outputs": [],
   "source": [
    "# os.makedirs(test_dir, exist_ok=True)"
   ]
  },
  {
   "cell_type": "code",
   "execution_count": 18,
   "id": "039f0237",
   "metadata": {
    "execution": {
     "iopub.execute_input": "2024-12-25T13:38:45.543098Z",
     "iopub.status.busy": "2024-12-25T13:38:45.542856Z",
     "iopub.status.idle": "2024-12-25T13:38:45.546020Z",
     "shell.execute_reply": "2024-12-25T13:38:45.545272Z"
    },
    "id": "d4p9qKimcXnV",
    "outputId": "1197ff8c-cd32-4f07-a2ee-9c0317e77f40",
    "papermill": {
     "duration": 0.019516,
     "end_time": "2024-12-25T13:38:45.547537",
     "exception": false,
     "start_time": "2024-12-25T13:38:45.528021",
     "status": "completed"
    },
    "tags": []
   },
   "outputs": [],
   "source": [
    "# # Example to list files in the test directory\n",
    "# test_files = os.listdir(test_dir)\n",
    "# print(\"Number of files in test directory:\", len(test_files))"
   ]
  },
  {
   "cell_type": "code",
   "execution_count": 19,
   "id": "b18872c7",
   "metadata": {
    "execution": {
     "iopub.execute_input": "2024-12-25T13:38:45.576613Z",
     "iopub.status.busy": "2024-12-25T13:38:45.576377Z",
     "iopub.status.idle": "2024-12-25T13:38:45.579713Z",
     "shell.execute_reply": "2024-12-25T13:38:45.578969Z"
    },
    "id": "gL6e9ixdcBKR",
    "outputId": "f8655ef4-3333-456e-dcb4-2e6bc9b8ea4e",
    "papermill": {
     "duration": 0.019506,
     "end_time": "2024-12-25T13:38:45.581181",
     "exception": false,
     "start_time": "2024-12-25T13:38:45.561675",
     "status": "completed"
    },
    "tags": []
   },
   "outputs": [],
   "source": [
    "# print(\"Test directory:\", test_dir)"
   ]
  },
  {
   "cell_type": "code",
   "execution_count": 20,
   "id": "e17c5461",
   "metadata": {
    "execution": {
     "iopub.execute_input": "2024-12-25T13:38:45.611284Z",
     "iopub.status.busy": "2024-12-25T13:38:45.610824Z",
     "iopub.status.idle": "2024-12-25T13:38:45.615650Z",
     "shell.execute_reply": "2024-12-25T13:38:45.614886Z"
    },
    "id": "JVXysXnmD-9z",
    "papermill": {
     "duration": 0.021382,
     "end_time": "2024-12-25T13:38:45.617240",
     "exception": false,
     "start_time": "2024-12-25T13:38:45.595858",
     "status": "completed"
    },
    "tags": []
   },
   "outputs": [],
   "source": [
    "def f1_score(y_true, y_pred):\n",
    "    true_positives = K.sum(K.round(K.clip(y_true * y_pred, 0, 1)))\n",
    "    possible_positives = K.sum(K.round(K.clip(y_true, 0, 1)))\n",
    "    predicted_positives = K.sum(K.round(K.clip(y_pred, 0, 1)))\n",
    "    precision = true_positives / (predicted_positives + K.epsilon())\n",
    "    recall = true_positives / (possible_positives + K.epsilon())\n",
    "    f1_val = 2 * (precision * recall) / (precision + recall + K.epsilon())\n",
    "    return f1_val"
   ]
  },
  {
   "cell_type": "code",
   "execution_count": 21,
   "id": "f4245b10",
   "metadata": {
    "execution": {
     "iopub.execute_input": "2024-12-25T13:38:45.646784Z",
     "iopub.status.busy": "2024-12-25T13:38:45.646152Z",
     "iopub.status.idle": "2024-12-25T13:38:45.907354Z",
     "shell.execute_reply": "2024-12-25T13:38:45.906690Z"
    },
    "id": "aJPN14HlEZe-",
    "papermill": {
     "duration": 0.277926,
     "end_time": "2024-12-25T13:38:45.909254",
     "exception": false,
     "start_time": "2024-12-25T13:38:45.631328",
     "status": "completed"
    },
    "tags": []
   },
   "outputs": [],
   "source": [
    "METRICS = [\n",
    "    tf.keras.metrics.CategoricalAccuracy(name='accuracy'),\n",
    "    tf.keras.metrics.Precision(name='precision'),\n",
    "    tf.keras.metrics.Recall(name='recall'),\n",
    "    tf.keras.metrics.AUC(name='auc'),\n",
    "    tfa.metrics.F1Score(num_classes=4, average=\"micro\", name='f1_score')\n",
    "]"
   ]
  },
  {
   "cell_type": "code",
   "execution_count": 22,
   "id": "ab40cf82",
   "metadata": {
    "execution": {
     "iopub.execute_input": "2024-12-25T13:38:45.939705Z",
     "iopub.status.busy": "2024-12-25T13:38:45.939058Z",
     "iopub.status.idle": "2024-12-25T13:38:49.020375Z",
     "shell.execute_reply": "2024-12-25T13:38:49.019666Z"
    },
    "id": "3pu77guMwmjn",
    "outputId": "96cf5587-b873-465a-bc91-10f6b925ee2a",
    "papermill": {
     "duration": 3.098369,
     "end_time": "2024-12-25T13:38:49.022306",
     "exception": false,
     "start_time": "2024-12-25T13:38:45.923937",
     "status": "completed"
    },
    "tags": []
   },
   "outputs": [
    {
     "name": "stdout",
     "output_type": "stream",
     "text": [
      "Downloading data from https://storage.googleapis.com/tensorflow/keras-applications/convnext/convnext_tiny_notop.h5\n",
      "111650432/111650432 [==============================] - 1s 0us/step\n"
     ]
    }
   ],
   "source": [
    "base_model = tf.keras.applications.ConvNeXtTiny(\n",
    "    input_shape=(224, 224, 3),\n",
    "    include_top=False,\n",
    "    weights=\"imagenet\"\n",
    ")"
   ]
  },
  {
   "cell_type": "code",
   "execution_count": 23,
   "id": "dfa738f0",
   "metadata": {
    "execution": {
     "iopub.execute_input": "2024-12-25T13:38:49.055621Z",
     "iopub.status.busy": "2024-12-25T13:38:49.054845Z",
     "iopub.status.idle": "2024-12-25T13:38:49.059225Z",
     "shell.execute_reply": "2024-12-25T13:38:49.058397Z"
    },
    "id": "aSsNkIQCwpXA",
    "papermill": {
     "duration": 0.02285,
     "end_time": "2024-12-25T13:38:49.060724",
     "exception": false,
     "start_time": "2024-12-25T13:38:49.037874",
     "status": "completed"
    },
    "tags": []
   },
   "outputs": [],
   "source": [
    "total_layers = len(base_model.layers)"
   ]
  },
  {
   "cell_type": "code",
   "execution_count": 24,
   "id": "ee613b42",
   "metadata": {
    "execution": {
     "iopub.execute_input": "2024-12-25T13:38:49.095803Z",
     "iopub.status.busy": "2024-12-25T13:38:49.095052Z",
     "iopub.status.idle": "2024-12-25T13:38:49.098917Z",
     "shell.execute_reply": "2024-12-25T13:38:49.098189Z"
    },
    "id": "Ff-9hCJ3wts6",
    "papermill": {
     "duration": 0.022094,
     "end_time": "2024-12-25T13:38:49.100531",
     "exception": false,
     "start_time": "2024-12-25T13:38:49.078437",
     "status": "completed"
    },
    "tags": []
   },
   "outputs": [],
   "source": [
    "num_layers_to_freeze = 0"
   ]
  },
  {
   "cell_type": "code",
   "execution_count": 25,
   "id": "25afb3cb",
   "metadata": {
    "execution": {
     "iopub.execute_input": "2024-12-25T13:38:49.133366Z",
     "iopub.status.busy": "2024-12-25T13:38:49.132725Z",
     "iopub.status.idle": "2024-12-25T13:38:49.136529Z",
     "shell.execute_reply": "2024-12-25T13:38:49.135859Z"
    },
    "id": "sKFHPjmTwu3K",
    "papermill": {
     "duration": 0.022335,
     "end_time": "2024-12-25T13:38:49.138132",
     "exception": false,
     "start_time": "2024-12-25T13:38:49.115797",
     "status": "completed"
    },
    "tags": []
   },
   "outputs": [],
   "source": [
    "for layer in base_model.layers[:num_layers_to_freeze]:\n",
    "    layer.trainable = True"
   ]
  },
  {
   "cell_type": "code",
   "execution_count": 26,
   "id": "8fb279aa",
   "metadata": {
    "execution": {
     "iopub.execute_input": "2024-12-25T13:38:49.170604Z",
     "iopub.status.busy": "2024-12-25T13:38:49.170362Z",
     "iopub.status.idle": "2024-12-25T13:38:49.176280Z",
     "shell.execute_reply": "2024-12-25T13:38:49.175467Z"
    },
    "id": "h7_3xPFowxTo",
    "outputId": "6b8134d7-acd4-4c41-e0c1-261c8d44abff",
    "papermill": {
     "duration": 0.023583,
     "end_time": "2024-12-25T13:38:49.178396",
     "exception": false,
     "start_time": "2024-12-25T13:38:49.154813",
     "status": "completed"
    },
    "tags": []
   },
   "outputs": [
    {
     "name": "stdout",
     "output_type": "stream",
     "text": [
      "Layer 0: input_1, Trainable: True\n",
      "Layer 1: convnext_tiny_prestem_normalization, Trainable: True\n",
      "Layer 2: convnext_tiny_stem, Trainable: True\n",
      "Layer 3: convnext_tiny_stage_0_block_0_depthwise_conv, Trainable: True\n",
      "Layer 4: convnext_tiny_stage_0_block_0_layernorm, Trainable: True\n",
      "Layer 5: convnext_tiny_stage_0_block_0_pointwise_conv_1, Trainable: True\n",
      "Layer 6: convnext_tiny_stage_0_block_0_gelu, Trainable: True\n",
      "Layer 7: convnext_tiny_stage_0_block_0_pointwise_conv_2, Trainable: True\n",
      "Layer 8: convnext_tiny_stage_0_block_0_layer_scale, Trainable: True\n",
      "Layer 9: convnext_tiny_stage_0_block_0_identity, Trainable: True\n",
      "Layer 10: tf.__operators__.add, Trainable: True\n",
      "Layer 11: convnext_tiny_stage_0_block_1_depthwise_conv, Trainable: True\n",
      "Layer 12: convnext_tiny_stage_0_block_1_layernorm, Trainable: True\n",
      "Layer 13: convnext_tiny_stage_0_block_1_pointwise_conv_1, Trainable: True\n",
      "Layer 14: convnext_tiny_stage_0_block_1_gelu, Trainable: True\n",
      "Layer 15: convnext_tiny_stage_0_block_1_pointwise_conv_2, Trainable: True\n",
      "Layer 16: convnext_tiny_stage_0_block_1_layer_scale, Trainable: True\n",
      "Layer 17: convnext_tiny_stage_0_block_1_identity, Trainable: True\n",
      "Layer 18: tf.__operators__.add_1, Trainable: True\n",
      "Layer 19: convnext_tiny_stage_0_block_2_depthwise_conv, Trainable: True\n",
      "Layer 20: convnext_tiny_stage_0_block_2_layernorm, Trainable: True\n",
      "Layer 21: convnext_tiny_stage_0_block_2_pointwise_conv_1, Trainable: True\n",
      "Layer 22: convnext_tiny_stage_0_block_2_gelu, Trainable: True\n",
      "Layer 23: convnext_tiny_stage_0_block_2_pointwise_conv_2, Trainable: True\n",
      "Layer 24: convnext_tiny_stage_0_block_2_layer_scale, Trainable: True\n",
      "Layer 25: convnext_tiny_stage_0_block_2_identity, Trainable: True\n",
      "Layer 26: tf.__operators__.add_2, Trainable: True\n",
      "Layer 27: convnext_tiny_downsampling_block_0, Trainable: True\n",
      "Layer 28: convnext_tiny_stage_1_block_0_depthwise_conv, Trainable: True\n",
      "Layer 29: convnext_tiny_stage_1_block_0_layernorm, Trainable: True\n",
      "Layer 30: convnext_tiny_stage_1_block_0_pointwise_conv_1, Trainable: True\n",
      "Layer 31: convnext_tiny_stage_1_block_0_gelu, Trainable: True\n",
      "Layer 32: convnext_tiny_stage_1_block_0_pointwise_conv_2, Trainable: True\n",
      "Layer 33: convnext_tiny_stage_1_block_0_layer_scale, Trainable: True\n",
      "Layer 34: convnext_tiny_stage_1_block_0_identity, Trainable: True\n",
      "Layer 35: tf.__operators__.add_3, Trainable: True\n",
      "Layer 36: convnext_tiny_stage_1_block_1_depthwise_conv, Trainable: True\n",
      "Layer 37: convnext_tiny_stage_1_block_1_layernorm, Trainable: True\n",
      "Layer 38: convnext_tiny_stage_1_block_1_pointwise_conv_1, Trainable: True\n",
      "Layer 39: convnext_tiny_stage_1_block_1_gelu, Trainable: True\n",
      "Layer 40: convnext_tiny_stage_1_block_1_pointwise_conv_2, Trainable: True\n",
      "Layer 41: convnext_tiny_stage_1_block_1_layer_scale, Trainable: True\n",
      "Layer 42: convnext_tiny_stage_1_block_1_identity, Trainable: True\n",
      "Layer 43: tf.__operators__.add_4, Trainable: True\n",
      "Layer 44: convnext_tiny_stage_1_block_2_depthwise_conv, Trainable: True\n",
      "Layer 45: convnext_tiny_stage_1_block_2_layernorm, Trainable: True\n",
      "Layer 46: convnext_tiny_stage_1_block_2_pointwise_conv_1, Trainable: True\n",
      "Layer 47: convnext_tiny_stage_1_block_2_gelu, Trainable: True\n",
      "Layer 48: convnext_tiny_stage_1_block_2_pointwise_conv_2, Trainable: True\n",
      "Layer 49: convnext_tiny_stage_1_block_2_layer_scale, Trainable: True\n",
      "Layer 50: convnext_tiny_stage_1_block_2_identity, Trainable: True\n",
      "Layer 51: tf.__operators__.add_5, Trainable: True\n",
      "Layer 52: convnext_tiny_downsampling_block_1, Trainable: True\n",
      "Layer 53: convnext_tiny_stage_2_block_0_depthwise_conv, Trainable: True\n",
      "Layer 54: convnext_tiny_stage_2_block_0_layernorm, Trainable: True\n",
      "Layer 55: convnext_tiny_stage_2_block_0_pointwise_conv_1, Trainable: True\n",
      "Layer 56: convnext_tiny_stage_2_block_0_gelu, Trainable: True\n",
      "Layer 57: convnext_tiny_stage_2_block_0_pointwise_conv_2, Trainable: True\n",
      "Layer 58: convnext_tiny_stage_2_block_0_layer_scale, Trainable: True\n",
      "Layer 59: convnext_tiny_stage_2_block_0_identity, Trainable: True\n",
      "Layer 60: tf.__operators__.add_6, Trainable: True\n",
      "Layer 61: convnext_tiny_stage_2_block_1_depthwise_conv, Trainable: True\n",
      "Layer 62: convnext_tiny_stage_2_block_1_layernorm, Trainable: True\n",
      "Layer 63: convnext_tiny_stage_2_block_1_pointwise_conv_1, Trainable: True\n",
      "Layer 64: convnext_tiny_stage_2_block_1_gelu, Trainable: True\n",
      "Layer 65: convnext_tiny_stage_2_block_1_pointwise_conv_2, Trainable: True\n",
      "Layer 66: convnext_tiny_stage_2_block_1_layer_scale, Trainable: True\n",
      "Layer 67: convnext_tiny_stage_2_block_1_identity, Trainable: True\n",
      "Layer 68: tf.__operators__.add_7, Trainable: True\n",
      "Layer 69: convnext_tiny_stage_2_block_2_depthwise_conv, Trainable: True\n",
      "Layer 70: convnext_tiny_stage_2_block_2_layernorm, Trainable: True\n",
      "Layer 71: convnext_tiny_stage_2_block_2_pointwise_conv_1, Trainable: True\n",
      "Layer 72: convnext_tiny_stage_2_block_2_gelu, Trainable: True\n",
      "Layer 73: convnext_tiny_stage_2_block_2_pointwise_conv_2, Trainable: True\n",
      "Layer 74: convnext_tiny_stage_2_block_2_layer_scale, Trainable: True\n",
      "Layer 75: convnext_tiny_stage_2_block_2_identity, Trainable: True\n",
      "Layer 76: tf.__operators__.add_8, Trainable: True\n",
      "Layer 77: convnext_tiny_stage_2_block_3_depthwise_conv, Trainable: True\n",
      "Layer 78: convnext_tiny_stage_2_block_3_layernorm, Trainable: True\n",
      "Layer 79: convnext_tiny_stage_2_block_3_pointwise_conv_1, Trainable: True\n",
      "Layer 80: convnext_tiny_stage_2_block_3_gelu, Trainable: True\n",
      "Layer 81: convnext_tiny_stage_2_block_3_pointwise_conv_2, Trainable: True\n",
      "Layer 82: convnext_tiny_stage_2_block_3_layer_scale, Trainable: True\n",
      "Layer 83: convnext_tiny_stage_2_block_3_identity, Trainable: True\n",
      "Layer 84: tf.__operators__.add_9, Trainable: True\n",
      "Layer 85: convnext_tiny_stage_2_block_4_depthwise_conv, Trainable: True\n",
      "Layer 86: convnext_tiny_stage_2_block_4_layernorm, Trainable: True\n",
      "Layer 87: convnext_tiny_stage_2_block_4_pointwise_conv_1, Trainable: True\n",
      "Layer 88: convnext_tiny_stage_2_block_4_gelu, Trainable: True\n",
      "Layer 89: convnext_tiny_stage_2_block_4_pointwise_conv_2, Trainable: True\n",
      "Layer 90: convnext_tiny_stage_2_block_4_layer_scale, Trainable: True\n",
      "Layer 91: convnext_tiny_stage_2_block_4_identity, Trainable: True\n",
      "Layer 92: tf.__operators__.add_10, Trainable: True\n",
      "Layer 93: convnext_tiny_stage_2_block_5_depthwise_conv, Trainable: True\n",
      "Layer 94: convnext_tiny_stage_2_block_5_layernorm, Trainable: True\n",
      "Layer 95: convnext_tiny_stage_2_block_5_pointwise_conv_1, Trainable: True\n",
      "Layer 96: convnext_tiny_stage_2_block_5_gelu, Trainable: True\n",
      "Layer 97: convnext_tiny_stage_2_block_5_pointwise_conv_2, Trainable: True\n",
      "Layer 98: convnext_tiny_stage_2_block_5_layer_scale, Trainable: True\n",
      "Layer 99: convnext_tiny_stage_2_block_5_identity, Trainable: True\n",
      "Layer 100: tf.__operators__.add_11, Trainable: True\n",
      "Layer 101: convnext_tiny_stage_2_block_6_depthwise_conv, Trainable: True\n",
      "Layer 102: convnext_tiny_stage_2_block_6_layernorm, Trainable: True\n",
      "Layer 103: convnext_tiny_stage_2_block_6_pointwise_conv_1, Trainable: True\n",
      "Layer 104: convnext_tiny_stage_2_block_6_gelu, Trainable: True\n",
      "Layer 105: convnext_tiny_stage_2_block_6_pointwise_conv_2, Trainable: True\n",
      "Layer 106: convnext_tiny_stage_2_block_6_layer_scale, Trainable: True\n",
      "Layer 107: convnext_tiny_stage_2_block_6_identity, Trainable: True\n",
      "Layer 108: tf.__operators__.add_12, Trainable: True\n",
      "Layer 109: convnext_tiny_stage_2_block_7_depthwise_conv, Trainable: True\n",
      "Layer 110: convnext_tiny_stage_2_block_7_layernorm, Trainable: True\n",
      "Layer 111: convnext_tiny_stage_2_block_7_pointwise_conv_1, Trainable: True\n",
      "Layer 112: convnext_tiny_stage_2_block_7_gelu, Trainable: True\n",
      "Layer 113: convnext_tiny_stage_2_block_7_pointwise_conv_2, Trainable: True\n",
      "Layer 114: convnext_tiny_stage_2_block_7_layer_scale, Trainable: True\n",
      "Layer 115: convnext_tiny_stage_2_block_7_identity, Trainable: True\n",
      "Layer 116: tf.__operators__.add_13, Trainable: True\n",
      "Layer 117: convnext_tiny_stage_2_block_8_depthwise_conv, Trainable: True\n",
      "Layer 118: convnext_tiny_stage_2_block_8_layernorm, Trainable: True\n",
      "Layer 119: convnext_tiny_stage_2_block_8_pointwise_conv_1, Trainable: True\n",
      "Layer 120: convnext_tiny_stage_2_block_8_gelu, Trainable: True\n",
      "Layer 121: convnext_tiny_stage_2_block_8_pointwise_conv_2, Trainable: True\n",
      "Layer 122: convnext_tiny_stage_2_block_8_layer_scale, Trainable: True\n",
      "Layer 123: convnext_tiny_stage_2_block_8_identity, Trainable: True\n",
      "Layer 124: tf.__operators__.add_14, Trainable: True\n",
      "Layer 125: convnext_tiny_downsampling_block_2, Trainable: True\n",
      "Layer 126: convnext_tiny_stage_3_block_0_depthwise_conv, Trainable: True\n",
      "Layer 127: convnext_tiny_stage_3_block_0_layernorm, Trainable: True\n",
      "Layer 128: convnext_tiny_stage_3_block_0_pointwise_conv_1, Trainable: True\n",
      "Layer 129: convnext_tiny_stage_3_block_0_gelu, Trainable: True\n",
      "Layer 130: convnext_tiny_stage_3_block_0_pointwise_conv_2, Trainable: True\n",
      "Layer 131: convnext_tiny_stage_3_block_0_layer_scale, Trainable: True\n",
      "Layer 132: convnext_tiny_stage_3_block_0_identity, Trainable: True\n",
      "Layer 133: tf.__operators__.add_15, Trainable: True\n",
      "Layer 134: convnext_tiny_stage_3_block_1_depthwise_conv, Trainable: True\n",
      "Layer 135: convnext_tiny_stage_3_block_1_layernorm, Trainable: True\n",
      "Layer 136: convnext_tiny_stage_3_block_1_pointwise_conv_1, Trainable: True\n",
      "Layer 137: convnext_tiny_stage_3_block_1_gelu, Trainable: True\n",
      "Layer 138: convnext_tiny_stage_3_block_1_pointwise_conv_2, Trainable: True\n",
      "Layer 139: convnext_tiny_stage_3_block_1_layer_scale, Trainable: True\n",
      "Layer 140: convnext_tiny_stage_3_block_1_identity, Trainable: True\n",
      "Layer 141: tf.__operators__.add_16, Trainable: True\n",
      "Layer 142: convnext_tiny_stage_3_block_2_depthwise_conv, Trainable: True\n",
      "Layer 143: convnext_tiny_stage_3_block_2_layernorm, Trainable: True\n",
      "Layer 144: convnext_tiny_stage_3_block_2_pointwise_conv_1, Trainable: True\n",
      "Layer 145: convnext_tiny_stage_3_block_2_gelu, Trainable: True\n",
      "Layer 146: convnext_tiny_stage_3_block_2_pointwise_conv_2, Trainable: True\n",
      "Layer 147: convnext_tiny_stage_3_block_2_layer_scale, Trainable: True\n",
      "Layer 148: convnext_tiny_stage_3_block_2_identity, Trainable: True\n",
      "Layer 149: tf.__operators__.add_17, Trainable: True\n",
      "Layer 150: layer_normalization, Trainable: True\n"
     ]
    }
   ],
   "source": [
    "for i, layer in enumerate(base_model.layers):\n",
    "    print(f\"Layer {i}: {layer.name}, Trainable: {layer.trainable}\")"
   ]
  },
  {
   "cell_type": "code",
   "execution_count": 27,
   "id": "ef17939a",
   "metadata": {
    "execution": {
     "iopub.execute_input": "2024-12-25T13:38:49.211005Z",
     "iopub.status.busy": "2024-12-25T13:38:49.210763Z",
     "iopub.status.idle": "2024-12-25T13:38:50.085676Z",
     "shell.execute_reply": "2024-12-25T13:38:50.084713Z"
    },
    "id": "le6O7kGIw6h6",
    "outputId": "39222857-cd5c-416d-de52-239f14a0ade8",
    "papermill": {
     "duration": 0.892912,
     "end_time": "2024-12-25T13:38:50.087454",
     "exception": false,
     "start_time": "2024-12-25T13:38:49.194542",
     "status": "completed"
    },
    "tags": []
   },
   "outputs": [
    {
     "name": "stdout",
     "output_type": "stream",
     "text": [
      "Model: \"sequential\"\n",
      "_________________________________________________________________\n",
      " Layer (type)                Output Shape              Param #   \n",
      "=================================================================\n",
      " convnext_tiny (Functional)  (None, 7, 7, 768)         27820128  \n",
      "                                                                 \n",
      " global_average_pooling2d (G  (None, 768)              0         \n",
      " lobalAveragePooling2D)                                          \n",
      "                                                                 \n",
      " dense (Dense)               (None, 3)                 2307      \n",
      "                                                                 \n",
      "=================================================================\n",
      "Total params: 27,822,435\n",
      "Trainable params: 27,822,435\n",
      "Non-trainable params: 0\n",
      "_________________________________________________________________\n"
     ]
    }
   ],
   "source": [
    "model = Sequential([\n",
    "    base_model,\n",
    "    GlobalAveragePooling2D(),\n",
    "    Dense(3, activation='softmax')\n",
    "])\n",
    "model.summary()"
   ]
  },
  {
   "cell_type": "code",
   "execution_count": 28,
   "id": "6737a19c",
   "metadata": {
    "execution": {
     "iopub.execute_input": "2024-12-25T13:38:50.122030Z",
     "iopub.status.busy": "2024-12-25T13:38:50.121348Z",
     "iopub.status.idle": "2024-12-25T13:38:50.317908Z",
     "shell.execute_reply": "2024-12-25T13:38:50.317102Z"
    },
    "id": "kIpnFMMF2scs",
    "outputId": "1d6ca13b-3a9f-47ca-8997-9951c60a8f7b",
    "papermill": {
     "duration": 0.215467,
     "end_time": "2024-12-25T13:38:50.320063",
     "exception": false,
     "start_time": "2024-12-25T13:38:50.104596",
     "status": "completed"
    },
    "tags": []
   },
   "outputs": [
    {
     "data": {
      "image/png": "[encoded data removed]",
      "text/plain": [
       "<IPython.core.display.Image object>"
      ]
     },
     "execution_count": 28,
     "metadata": {},
     "output_type": "execute_result"
    }
   ],
   "source": [
    "from tensorflow.keras.utils import plot_model\n",
    "from IPython.display import Image\n",
    "plot_model(model, to_file='convnet.png', show_shapes=True,show_layer_names=True)\n",
    "Image(filename='convnet.png')"
   ]
  },
  {
   "cell_type": "code",
   "execution_count": 29,
   "id": "9e65fb0c",
   "metadata": {
    "execution": {
     "iopub.execute_input": "2024-12-25T13:38:50.355755Z",
     "iopub.status.busy": "2024-12-25T13:38:50.355451Z",
     "iopub.status.idle": "2024-12-25T13:38:50.370049Z",
     "shell.execute_reply": "2024-12-25T13:38:50.369450Z"
    },
    "id": "CMtjjQwmaBjC",
    "papermill": {
     "duration": 0.033698,
     "end_time": "2024-12-25T13:38:50.371560",
     "exception": false,
     "start_time": "2024-12-25T13:38:50.337862",
     "status": "completed"
    },
    "tags": []
   },
   "outputs": [],
   "source": [
    "model.compile(\n",
    "    loss=\"categorical_crossentropy\",\n",
    "    optimizer=Adam(learning_rate=0.0005),\n",
    "    metrics=METRICS\n",
    ")"
   ]
  },
  {
   "cell_type": "code",
   "execution_count": 30,
   "id": "c893fe73",
   "metadata": {
    "execution": {
     "iopub.execute_input": "2024-12-25T13:38:50.424457Z",
     "iopub.status.busy": "2024-12-25T13:38:50.423479Z",
     "iopub.status.idle": "2024-12-25T13:38:50.428978Z",
     "shell.execute_reply": "2024-12-25T13:38:50.428006Z"
    },
    "id": "9Zjmg5poaBjC",
    "papermill": {
     "duration": 0.043585,
     "end_time": "2024-12-25T13:38:50.431757",
     "exception": false,
     "start_time": "2024-12-25T13:38:50.388172",
     "status": "completed"
    },
    "tags": []
   },
   "outputs": [],
   "source": [
    "callbacks = [\n",
    "    ModelCheckpoint(\"best_model.keras\", monitor=\"val_accuracy\", save_best_only=True, verbose=1),\n",
    "     EarlyStopping(monitor=\"val_loss\", patience=5, verbose=1, restore_best_weights=True)\n",
    "]"
   ]
  },
  {
   "cell_type": "code",
   "execution_count": 31,
   "id": "87eebf45",
   "metadata": {
    "execution": {
     "iopub.execute_input": "2024-12-25T13:38:50.475672Z",
     "iopub.status.busy": "2024-12-25T13:38:50.475342Z",
     "iopub.status.idle": "2024-12-25T20:47:39.431175Z",
     "shell.execute_reply": "2024-12-25T20:47:39.430247Z"
    },
    "id": "zgcn2wlOaBjD",
    "outputId": "caddf458-0b0d-45d5-dc62-368147491d47",
    "papermill": {
     "duration": 25729.009388,
     "end_time": "2024-12-25T20:47:39.461798",
     "exception": false,
     "start_time": "2024-12-25T13:38:50.452410",
     "status": "completed"
    },
    "tags": []
   },
   "outputs": [
    {
     "name": "stdout",
     "output_type": "stream",
     "text": [
      "Epoch 1/35\n",
      "128/128 [==============================] - ETA: 0s - loss: 0.4568 - accuracy: 0.8264 - precision: 0.8395 - recall: 0.7990 - auc: 0.9453 - f1_score: 0.8264 \n",
      "Epoch 1: val_accuracy improved from -inf to 0.90411, saving model to best_model.keras\n",
      "128/128 [==============================] - 2607s 20s/step - loss: 0.4568 - accuracy: 0.8264 - precision: 0.8395 - recall: 0.7990 - auc: 0.9453 - f1_score: 0.8264 - val_loss: 0.1816 - val_accuracy: 0.9041 - val_precision: 0.9041 - val_recall: 0.9041 - val_auc: 0.9916 - val_f1_score: 0.9041\n",
      "Epoch 2/35\n",
      "128/128 [==============================] - ETA: 0s - loss: 0.2036 - accuracy: 0.9178 - precision: 0.9221 - recall: 0.9112 - auc: 0.9879 - f1_score: 0.9178 \n",
      "Epoch 2: val_accuracy improved from 0.90411 to 0.92694, saving model to best_model.keras\n",
      "128/128 [==============================] - 2602s 20s/step - loss: 0.2036 - accuracy: 0.9178 - precision: 0.9221 - recall: 0.9112 - auc: 0.9879 - f1_score: 0.9178 - val_loss: 0.1824 - val_accuracy: 0.9269 - val_precision: 0.9269 - val_recall: 0.9269 - val_auc: 0.9904 - val_f1_score: 0.9269\n",
      "Epoch 3/35\n",
      "128/128 [==============================] - ETA: 0s - loss: 0.1528 - accuracy: 0.9386 - precision: 0.9410 - recall: 0.9373 - auc: 0.9920 - f1_score: 0.9386 \n",
      "Epoch 3: val_accuracy improved from 0.92694 to 0.98174, saving model to best_model.keras\n",
      "128/128 [==============================] - 2538s 20s/step - loss: 0.1528 - accuracy: 0.9386 - precision: 0.9410 - recall: 0.9373 - auc: 0.9920 - f1_score: 0.9386 - val_loss: 0.1184 - val_accuracy: 0.9817 - val_precision: 0.9817 - val_recall: 0.9817 - val_auc: 0.9965 - val_f1_score: 0.9817\n",
      "Epoch 4/35\n",
      "128/128 [==============================] - ETA: 0s - loss: 0.0821 - accuracy: 0.9713 - precision: 0.9738 - recall: 0.9700 - auc: 0.9981 - f1_score: 0.9713 \n",
      "Epoch 4: val_accuracy did not improve from 0.98174\n",
      "128/128 [==============================] - 2584s 20s/step - loss: 0.0821 - accuracy: 0.9713 - precision: 0.9738 - recall: 0.9700 - auc: 0.9981 - f1_score: 0.9713 - val_loss: 0.1486 - val_accuracy: 0.9361 - val_precision: 0.9447 - val_recall: 0.9361 - val_auc: 0.9939 - val_f1_score: 0.9361\n",
      "Epoch 5/35\n",
      "128/128 [==============================] - ETA: 0s - loss: 0.0517 - accuracy: 0.9791 - precision: 0.9791 - recall: 0.9791 - auc: 0.9992 - f1_score: 0.9791 \n",
      "Epoch 5: val_accuracy improved from 0.98174 to 0.99543, saving model to best_model.keras\n",
      "128/128 [==============================] - 2616s 20s/step - loss: 0.0517 - accuracy: 0.9791 - precision: 0.9791 - recall: 0.9791 - auc: 0.9992 - f1_score: 0.9791 - val_loss: 0.0243 - val_accuracy: 0.9954 - val_precision: 0.9954 - val_recall: 0.9954 - val_auc: 0.9998 - val_f1_score: 0.9954\n",
      "Epoch 6/35\n",
      "128/128 [==============================] - ETA: 0s - loss: 0.1058 - accuracy: 0.9608 - precision: 0.9607 - recall: 0.9582 - auc: 0.9963 - f1_score: 0.9608 \n",
      "Epoch 6: val_accuracy did not improve from 0.99543\n",
      "128/128 [==============================] - 2631s 21s/step - loss: 0.1058 - accuracy: 0.9608 - precision: 0.9607 - recall: 0.9582 - auc: 0.9963 - f1_score: 0.9608 - val_loss: 0.0883 - val_accuracy: 0.9772 - val_precision: 0.9772 - val_recall: 0.9772 - val_auc: 0.9974 - val_f1_score: 0.9772\n",
      "Epoch 7/35\n",
      "128/128 [==============================] - ETA: 0s - loss: 0.0392 - accuracy: 0.9883 - precision: 0.9883 - recall: 0.9883 - auc: 0.9995 - f1_score: 0.9883 \n",
      "Epoch 7: val_accuracy did not improve from 0.99543\n",
      "128/128 [==============================] - 2562s 20s/step - loss: 0.0392 - accuracy: 0.9883 - precision: 0.9883 - recall: 0.9883 - auc: 0.9995 - f1_score: 0.9883 - val_loss: 0.0374 - val_accuracy: 0.9817 - val_precision: 0.9817 - val_recall: 0.9817 - val_auc: 0.9996 - val_f1_score: 0.9817\n",
      "Epoch 8/35\n",
      "128/128 [==============================] - ETA: 0s - loss: 0.0131 - accuracy: 0.9961 - precision: 0.9961 - recall: 0.9961 - auc: 1.0000 - f1_score: 0.9961 \n",
      "Epoch 8: val_accuracy did not improve from 0.99543\n",
      "128/128 [==============================] - 2534s 20s/step - loss: 0.0131 - accuracy: 0.9961 - precision: 0.9961 - recall: 0.9961 - auc: 1.0000 - f1_score: 0.9961 - val_loss: 0.0246 - val_accuracy: 0.9909 - val_precision: 0.9909 - val_recall: 0.9909 - val_auc: 0.9999 - val_f1_score: 0.9909\n",
      "Epoch 9/35\n",
      "128/128 [==============================] - ETA: 0s - loss: 0.0047 - accuracy: 0.9987 - precision: 0.9987 - recall: 0.9987 - auc: 1.0000 - f1_score: 0.9987 \n",
      "Epoch 9: val_accuracy did not improve from 0.99543\n",
      "128/128 [==============================] - 2522s 20s/step - loss: 0.0047 - accuracy: 0.9987 - precision: 0.9987 - recall: 0.9987 - auc: 1.0000 - f1_score: 0.9987 - val_loss: 0.0259 - val_accuracy: 0.9909 - val_precision: 0.9909 - val_recall: 0.9909 - val_auc: 0.9999 - val_f1_score: 0.9909\n",
      "Epoch 10/35\n",
      "128/128 [==============================] - ETA: 0s - loss: 4.5297e-04 - accuracy: 1.0000 - precision: 1.0000 - recall: 1.0000 - auc: 1.0000 - f1_score: 1.0000 \n",
      "Epoch 10: val_accuracy did not improve from 0.99543\n",
      "Restoring model weights from the end of the best epoch: 5.\n",
      "128/128 [==============================] - 2532s 20s/step - loss: 4.5297e-04 - accuracy: 1.0000 - precision: 1.0000 - recall: 1.0000 - auc: 1.0000 - f1_score: 1.0000 - val_loss: 0.0278 - val_accuracy: 0.9909 - val_precision: 0.9909 - val_recall: 0.9909 - val_auc: 0.9999 - val_f1_score: 0.9909\n",
      "Epoch 10: early stopping\n"
     ]
    }
   ],
   "source": [
    "history = model.fit(\n",
    "    train_generator,\n",
    "    validation_data=validation_generator,\n",
    "    epochs=35,\n",
    "    callbacks=callbacks,\n",
    "        verbose=1\n",
    "    #  , class_weight=class_weights\n",
    ")"
   ]
  },
  {
   "cell_type": "code",
   "execution_count": 32,
   "id": "acc1007b",
   "metadata": {
    "execution": {
     "iopub.execute_input": "2024-12-25T20:47:39.612906Z",
     "iopub.status.busy": "2024-12-25T20:47:39.612582Z",
     "iopub.status.idle": "2024-12-25T20:47:40.397585Z",
     "shell.execute_reply": "2024-12-25T20:47:40.396703Z"
    },
    "id": "kE8Q1PqGaBjD",
    "papermill": {
     "duration": 0.862808,
     "end_time": "2024-12-25T20:47:40.399538",
     "exception": false,
     "start_time": "2024-12-25T20:47:39.536730",
     "status": "completed"
    },
    "tags": []
   },
   "outputs": [
    {
     "data": {
      "image/png": "[encoded data removed]",
      "text/plain": [
       "<Figure size 2200x500 with 5 Axes>"
      ]
     },
     "metadata": {},
     "output_type": "display_data"
    }
   ],
   "source": [
    "def Train_Val_Plot(acc, val_acc, loss, val_loss, auc, val_auc, precision, val_precision, f1, val_f1):\n",
    "\n",
    "    fig, (ax1, ax2, ax3, ax4, ax5) = plt.subplots(1, 5, figsize=(22, 5))\n",
    "    fig.suptitle(\" MODEL'S METRICS VISUALIZATION \")\n",
    "\n",
    "    # Rescale the y-axis for accuracy, auc, precision, and f1\n",
    "    rescale_factor = 0  # Adjust this factor to control the rescaling\n",
    "\n",
    "    ax1.plot(range(1, len(acc) + 1), acc)\n",
    "    ax1.plot(range(1, len(val_acc) + 1), val_acc)\n",
    "    ax1.set_title('History of Accuracy')\n",
    "    ax1.set_xlabel('Epochs')\n",
    "    ax1.set_ylabel('Accuracy')\n",
    "    ax1.set_ylim([0, 1.0])\n",
    "    ax1.legend(['training', 'validation'])\n",
    "\n",
    "    ax2.plot(range(1, len(loss) + 1), loss)\n",
    "    ax2.plot(range(1, len(val_loss) + 1), val_loss)\n",
    "    ax2.set_title('History of Loss')\n",
    "    ax2.set_xlabel('Epochs')\n",
    "    ax2.set_ylabel('Loss')\n",
    "    ax2.legend(['training', 'validation'])\n",
    "\n",
    "    ax3.plot(range(1, len(auc) + 1), auc)\n",
    "    ax3.plot(range(1, len(val_auc) + 1), val_auc)\n",
    "    ax3.set_title('History of AUC')\n",
    "    ax3.set_xlabel('Epochs')\n",
    "    ax3.set_ylabel('AUC')\n",
    "    ax3.set_ylim([rescale_factor, 1.0])\n",
    "    ax3.legend(['training', 'validation'])\n",
    "\n",
    "    ax4.plot(range(1, len(precision) + 1), precision)\n",
    "    ax4.plot(range(1, len(val_precision) + 1), val_precision)\n",
    "    ax4.set_title('History of Precision')\n",
    "    ax4.set_xlabel('Epochs')\n",
    "    ax4.set_ylabel('Precision')\n",
    "    ax4.set_ylim([rescale_factor, 1.0])\n",
    "    ax4.legend(['training', 'validation'])\n",
    "\n",
    "    ax5.plot(range(1, len(f1) + 1), f1)\n",
    "    ax5.plot(range(1, len(val_f1) + 1), val_f1)\n",
    "    ax5.set_title('History of F1-score')\n",
    "    ax5.set_xlabel('Epochs')\n",
    "    ax5.set_ylabel('F1 score')\n",
    "    ax5.set_ylim([rescale_factor, 1.0])\n",
    "    ax5.legend(['training', 'validation'])\n",
    "\n",
    "    plt.show()\n",
    "\n",
    "# Example usage:\n",
    "Train_Val_Plot(history.history['accuracy'], history.history['val_accuracy'],\n",
    "               history.history['loss'], history.history['val_loss']\n",
    "               ,\n",
    "               history.history['auc'], history.history['val_auc'],\n",
    "               history.history['precision'], history.history['val_precision'],\n",
    "               history.history['f1_score'], history.history['val_f1_score'])"
   ]
  },
  {
   "cell_type": "code",
   "execution_count": 33,
   "id": "f6c86914",
   "metadata": {
    "execution": {
     "iopub.execute_input": "2024-12-25T20:47:40.555801Z",
     "iopub.status.busy": "2024-12-25T20:47:40.555527Z",
     "iopub.status.idle": "2024-12-25T20:49:37.843735Z",
     "shell.execute_reply": "2024-12-25T20:49:37.843039Z"
    },
    "id": "utE8sko2aBjD",
    "papermill": {
     "duration": 117.366862,
     "end_time": "2024-12-25T20:49:37.845294",
     "exception": false,
     "start_time": "2024-12-25T20:47:40.478432",
     "status": "completed"
    },
    "tags": []
   },
   "outputs": [
    {
     "name": "stdout",
     "output_type": "stream",
     "text": [
      "19/19 [==============================] - 117s 6s/step - loss: 0.0066 - accuracy: 1.0000 - precision: 1.0000 - recall: 1.0000 - auc: 1.0000 - f1_score: 1.0000\n"
     ]
    },
    {
     "data": {
      "text/plain": [
       "[0.006649371236562729, 1.0, 1.0, 1.0, 1.0, 1.0]"
      ]
     },
     "execution_count": 33,
     "metadata": {},
     "output_type": "execute_result"
    }
   ],
   "source": [
    "model.evaluate(test_generator)"
   ]
  },
  {
   "cell_type": "code",
   "execution_count": 34,
   "id": "76128bff",
   "metadata": {
    "execution": {
     "iopub.execute_input": "2024-12-25T20:49:38.000952Z",
     "iopub.status.busy": "2024-12-25T20:49:38.000665Z",
     "iopub.status.idle": "2024-12-25T20:52:47.821157Z",
     "shell.execute_reply": "2024-12-25T20:52:47.820272Z"
    },
    "id": "z0kvictcppHg",
    "papermill": {
     "duration": 189.898952,
     "end_time": "2024-12-25T20:52:47.822741",
     "exception": false,
     "start_time": "2024-12-25T20:49:37.923789",
     "status": "completed"
    },
    "tags": []
   },
   "outputs": [
    {
     "name": "stdout",
     "output_type": "stream",
     "text": [
      "7/7 [==============================] - 189s 27s/step\n",
      "              precision    recall  f1-score   support\n",
      "\n",
      "           0       1.00      0.96      0.98        24\n",
      "           1       1.00      1.00      1.00       112\n",
      "           2       0.99      1.00      0.99        83\n",
      "\n",
      "    accuracy                           1.00       219\n",
      "   macro avg       1.00      0.99      0.99       219\n",
      "weighted avg       1.00      1.00      1.00       219\n",
      "\n"
     ]
    }
   ],
   "source": [
    "# Load the test dataset\n",
    "X_test, y_test = [], []\n",
    "for i in range(len(validation_generator)):\n",
    "    batch_X, batch_y = validation_generator[i]\n",
    "    X_test.append(batch_X)\n",
    "    y_test.append(batch_y)\n",
    "X_test = np.concatenate(X_test)\n",
    "y_test = np.concatenate(y_test)\n",
    "\n",
    "# Make predictions on the test set\n",
    "y_pred = model.predict(X_test)\n",
    "\n",
    "# Convert the one-hot encoded predictions to class labels\n",
    "y_pred_classes = np.argmax(y_pred, axis=1)\n",
    "\n",
    "# Convert the one-hot encoded true labels to class labels\n",
    "y_true_classes = np.argmax(y_test, axis=1)\n",
    "\n",
    "# Create a classification report\n",
    "report = classification_report(y_true_classes, y_pred_classes)\n",
    "\n",
    "print(report)"
   ]
  },
  {
   "cell_type": "code",
   "execution_count": 35,
   "id": "de72459d",
   "metadata": {
    "execution": {
     "iopub.execute_input": "2024-12-25T20:52:47.979856Z",
     "iopub.status.busy": "2024-12-25T20:52:47.979550Z",
     "iopub.status.idle": "2024-12-25T20:52:48.255516Z",
     "shell.execute_reply": "2024-12-25T20:52:48.254711Z"
    },
    "id": "1oDQrOfqpz_i",
    "papermill": {
     "duration": 0.355157,
     "end_time": "2024-12-25T20:52:48.257164",
     "exception": false,
     "start_time": "2024-12-25T20:52:47.902007",
     "status": "completed"
    },
    "tags": []
   },
   "outputs": [
    {
     "data": {
      "image/png": "[encoded data removed]",
      "text/plain": [
       "<Figure size 800x600 with 2 Axes>"
      ]
     },
     "metadata": {},
     "output_type": "display_data"
    }
   ],
   "source": [
    "class_names = ['adenocarcinoma', 'large.cell.carcinoma', 'normal', 'squamous.cell.carcinoma']\n",
    "cm = confusion_matrix(y_true_classes, y_pred_classes)\n",
    "\n",
    "# Plotting the Confusion Matrix\n",
    "plt.figure(figsize=(8, 6))\n",
    "sns.heatmap(cm, annot=True, fmt='d', cmap='Blues', xticklabels=class_names, yticklabels=class_names)\n",
    "plt.xlabel('Predicted')\n",
    "plt.ylabel('True')\n",
    "plt.title('Confusion Matrix')\n",
    "plt.show()"
   ]
  }
 ],
 "metadata": {
  "accelerator": "GPU",
  "colab": {
   "gpuType": "T4",
   "provenance": []
  },
  "kaggle": {
   "accelerator": "gpu",
   "dataSources": [
    {
     "datasetId": 1748489,
     "sourceId": 2882784,
     "sourceType": "datasetVersion"
    }
   ],
   "dockerImageVersionId": 30787,
   "isGpuEnabled": true,
   "isInternetEnabled": true,
   "language": "python",
   "sourceType": "notebook"
  },
  "kernelspec": {
   "display_name": "Python 3",
   "language": "python",
   "name": "python3"
  },
  "language_info": {
   "codemirror_mode": {
    "name": "ipython",
    "version": 3
   },
   "file_extension": ".py",
   "mimetype": "text/x-python",
   "name": "python",
   "nbconvert_exporter": "python",
   "pygments_lexer": "ipython3",
   "version": "3.10.14"
  },
  "papermill": {
   "default_parameters": {},
   "duration": 26153.935806,
   "end_time": "2024-12-25T20:52:51.294862",
   "environment_variables": {},
   "exception": null,
   "input_path": "__notebook__.ipynb",
   "output_path": "__notebook__.ipynb",
   "parameters": {},
   "start_time": "2024-12-25T13:36:57.359056",
   "version": "2.6.0"
  }
 },
 "nbformat": 4,
 "nbformat_minor": 5
}
