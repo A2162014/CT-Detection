{
 "cells": [
  {
   "cell_type": "code",
   "execution_count": 1,
   "id": "eb3eb7db",
   "metadata": {
    "execution": {
     "iopub.execute_input": "2024-12-27T06:51:29.411728Z",
     "iopub.status.busy": "2024-12-27T06:51:29.411427Z",
     "iopub.status.idle": "2024-12-27T06:51:29.749412Z",
     "shell.execute_reply": "2024-12-27T06:51:29.748407Z"
    },
    "id": "vEOfs7HCDSNK",
    "outputId": "bd074747-44a5-45ca-fe66-3c826bd465d6",
    "papermill": {
     "duration": 0.345403,
     "end_time": "2024-12-27T06:51:29.750884",
     "exception": false,
     "start_time": "2024-12-27T06:51:29.405481",
     "status": "completed"
    },
    "tags": []
   },
   "outputs": [
    {
     "name": "stdout",
     "output_type": "stream",
     "text": [
      "The virtual environment was not created successfully because ensurepip is not\r\n",
      "available.  On Debian/Ubuntu systems, you need to install the python3-venv\r\n",
      "package using the following command.\r\n",
      "\r\n",
      "    apt install python3.10-venv\r\n",
      "\r\n",
      "You may need to use sudo with that command.  After installing the python3-venv\r\n",
      "package, recreate your virtual environment.\r\n",
      "\r\n",
      "Failing command: /kaggle/working/clean_env/bin/python3\r\n",
      "\r\n",
      "/bin/bash: line 1: clean_env/bin/activate: No such file or directory\r\n"
     ]
    }
   ],
   "source": [
    "!python3 -m venv clean_env\n",
    "!source clean_env/bin/activate  # Activate the environment"
   ]
  },
  {
   "cell_type": "code",
   "execution_count": 2,
   "id": "5f429ab9",
   "metadata": {
    "execution": {
     "iopub.execute_input": "2024-12-27T06:51:29.760964Z",
     "iopub.status.busy": "2024-12-27T06:51:29.760731Z",
     "iopub.status.idle": "2024-12-27T06:52:43.079064Z",
     "shell.execute_reply": "2024-12-27T06:52:43.077987Z"
    },
    "id": "ybL5Ldy84Ilt",
    "outputId": "e1dd61b9-614c-4540-8e43-d8f5d98e5dd2",
    "papermill": {
     "duration": 73.324879,
     "end_time": "2024-12-27T06:52:43.080664",
     "exception": false,
     "start_time": "2024-12-27T06:51:29.755785",
     "status": "completed"
    },
    "tags": []
   },
   "outputs": [
    {
     "name": "stdout",
     "output_type": "stream",
     "text": [
      "Found existing installation: tensorflow 2.17.0\r\n",
      "Uninstalling tensorflow-2.17.0:\r\n",
      "  Successfully uninstalled tensorflow-2.17.0\r\n",
      "\u001b[33mWARNING: Skipping tensorflow-addons as it is not installed.\u001b[0m\u001b[33m\r\n",
      "\u001b[0mFound existing installation: keras 3.4.1\r\n",
      "Uninstalling keras-3.4.1:\r\n",
      "  Successfully uninstalled keras-3.4.1\r\n",
      "Collecting tensorflow==2.9.0\r\n",
      "  Downloading tensorflow-2.9.0-cp310-cp310-manylinux_2_17_x86_64.manylinux2014_x86_64.whl.metadata (3.0 kB)\r\n",
      "Collecting keras==2.9.0\r\n",
      "  Downloading keras-2.9.0-py2.py3-none-any.whl.metadata (1.3 kB)\r\n",
      "Collecting tensorflow-addons==0.18.0\r\n",
      "  Downloading tensorflow_addons-0.18.0-cp310-cp310-manylinux_2_17_x86_64.manylinux2014_x86_64.whl.metadata (1.8 kB)\r\n",
      "Requirement already satisfied: absl-py>=1.0.0 in /usr/local/lib/python3.10/dist-packages (from tensorflow==2.9.0) (1.4.0)\r\n",
      "Requirement already satisfied: astunparse>=1.6.0 in /usr/local/lib/python3.10/dist-packages (from tensorflow==2.9.0) (1.6.3)\r\n",
      "Collecting flatbuffers<2,>=1.12 (from tensorflow==2.9.0)\r\n",
      "  Downloading flatbuffers-1.12-py2.py3-none-any.whl.metadata (872 bytes)\r\n",
      "Collecting gast<=0.4.0,>=0.2.1 (from tensorflow==2.9.0)\r\n",
      "  Downloading gast-0.4.0-py3-none-any.whl.metadata (1.1 kB)\r\n",
      "Requirement already satisfied: google-pasta>=0.1.1 in /usr/local/lib/python3.10/dist-packages (from tensorflow==2.9.0) (0.2.0)\r\n",
      "Requirement already satisfied: grpcio<2.0,>=1.24.3 in /usr/local/lib/python3.10/dist-packages (from tensorflow==2.9.0) (1.64.1)\r\n",
      "Requirement already satisfied: h5py>=2.9.0 in /usr/local/lib/python3.10/dist-packages (from tensorflow==2.9.0) (3.11.0)\r\n",
      "Collecting keras-preprocessing>=1.1.1 (from tensorflow==2.9.0)\r\n",
      "  Downloading Keras_Preprocessing-1.1.2-py2.py3-none-any.whl.metadata (1.9 kB)\r\n",
      "Requirement already satisfied: libclang>=13.0.0 in /usr/local/lib/python3.10/dist-packages (from tensorflow==2.9.0) (18.1.1)\r\n",
      "Requirement already satisfied: numpy>=1.20 in /usr/local/lib/python3.10/dist-packages (from tensorflow==2.9.0) (1.26.4)\r\n",
      "Requirement already satisfied: opt-einsum>=2.3.2 in /usr/local/lib/python3.10/dist-packages (from tensorflow==2.9.0) (3.3.0)\r\n",
      "Requirement already satisfied: packaging in /usr/local/lib/python3.10/dist-packages (from tensorflow==2.9.0) (24.1)\r\n",
      "Requirement already satisfied: protobuf>=3.9.2 in /usr/local/lib/python3.10/dist-packages (from tensorflow==2.9.0) (3.20.3)\r\n",
      "Requirement already satisfied: setuptools in /usr/local/lib/python3.10/dist-packages (from tensorflow==2.9.0) (71.0.4)\r\n",
      "Requirement already satisfied: six>=1.12.0 in /usr/local/lib/python3.10/dist-packages (from tensorflow==2.9.0) (1.16.0)\r\n",
      "Collecting tensorboard<2.10,>=2.9 (from tensorflow==2.9.0)\r\n",
      "  Downloading tensorboard-2.9.1-py3-none-any.whl.metadata (1.9 kB)\r\n",
      "Requirement already satisfied: tensorflow-io-gcs-filesystem>=0.23.1 in /usr/local/lib/python3.10/dist-packages (from tensorflow==2.9.0) (0.37.1)\r\n",
      "Collecting tensorflow-estimator<2.10.0,>=2.9.0rc0 (from tensorflow==2.9.0)\r\n",
      "  Downloading tensorflow_estimator-2.9.0-py2.py3-none-any.whl.metadata (1.3 kB)\r\n",
      "Requirement already satisfied: termcolor>=1.1.0 in /usr/local/lib/python3.10/dist-packages (from tensorflow==2.9.0) (2.4.0)\r\n",
      "Requirement already satisfied: typing-extensions>=3.6.6 in /usr/local/lib/python3.10/dist-packages (from tensorflow==2.9.0) (4.12.2)\r\n",
      "Requirement already satisfied: wrapt>=1.11.0 in /usr/local/lib/python3.10/dist-packages (from tensorflow==2.9.0) (1.16.0)\r\n",
      "Requirement already satisfied: typeguard>=2.7 in /usr/local/lib/python3.10/dist-packages (from tensorflow-addons==0.18.0) (4.3.0)\r\n",
      "Requirement already satisfied: wheel<1.0,>=0.23.0 in /usr/local/lib/python3.10/dist-packages (from astunparse>=1.6.0->tensorflow==2.9.0) (0.44.0)\r\n",
      "Requirement already satisfied: google-auth<3,>=1.6.3 in /usr/local/lib/python3.10/dist-packages (from tensorboard<2.10,>=2.9->tensorflow==2.9.0) (2.27.0)\r\n",
      "Collecting google-auth-oauthlib<0.5,>=0.4.1 (from tensorboard<2.10,>=2.9->tensorflow==2.9.0)\r\n",
      "  Downloading google_auth_oauthlib-0.4.6-py2.py3-none-any.whl.metadata (2.7 kB)\r\n",
      "Requirement already satisfied: markdown>=2.6.8 in /usr/local/lib/python3.10/dist-packages (from tensorboard<2.10,>=2.9->tensorflow==2.9.0) (3.7)\r\n",
      "Collecting protobuf>=3.9.2 (from tensorflow==2.9.0)\r\n",
      "  Downloading protobuf-3.19.6-cp310-cp310-manylinux_2_17_x86_64.manylinux2014_x86_64.whl.metadata (787 bytes)\r\n",
      "Requirement already satisfied: requests<3,>=2.21.0 in /usr/local/lib/python3.10/dist-packages (from tensorboard<2.10,>=2.9->tensorflow==2.9.0) (2.32.3)\r\n",
      "Collecting tensorboard-data-server<0.7.0,>=0.6.0 (from tensorboard<2.10,>=2.9->tensorflow==2.9.0)\r\n",
      "  Downloading tensorboard_data_server-0.6.1-py3-none-manylinux2010_x86_64.whl.metadata (1.1 kB)\r\n",
      "Collecting tensorboard-plugin-wit>=1.6.0 (from tensorboard<2.10,>=2.9->tensorflow==2.9.0)\r\n",
      "  Downloading tensorboard_plugin_wit-1.8.1-py3-none-any.whl.metadata (873 bytes)\r\n",
      "Requirement already satisfied: werkzeug>=1.0.1 in /usr/local/lib/python3.10/dist-packages (from tensorboard<2.10,>=2.9->tensorflow==2.9.0) (3.0.4)\r\n",
      "Requirement already satisfied: cachetools<6.0,>=2.0.0 in /usr/local/lib/python3.10/dist-packages (from google-auth<3,>=1.6.3->tensorboard<2.10,>=2.9->tensorflow==2.9.0) (5.5.0)\r\n",
      "Requirement already satisfied: pyasn1-modules>=0.2.1 in /usr/local/lib/python3.10/dist-packages (from google-auth<3,>=1.6.3->tensorboard<2.10,>=2.9->tensorflow==2.9.0) (0.4.1)\r\n",
      "Requirement already satisfied: rsa<5,>=3.1.4 in /usr/local/lib/python3.10/dist-packages (from google-auth<3,>=1.6.3->tensorboard<2.10,>=2.9->tensorflow==2.9.0) (4.9)\r\n",
      "Requirement already satisfied: requests-oauthlib>=0.7.0 in /usr/local/lib/python3.10/dist-packages (from google-auth-oauthlib<0.5,>=0.4.1->tensorboard<2.10,>=2.9->tensorflow==2.9.0) (1.3.1)\r\n",
      "Requirement already satisfied: charset-normalizer<4,>=2 in /usr/local/lib/python3.10/dist-packages (from requests<3,>=2.21.0->tensorboard<2.10,>=2.9->tensorflow==2.9.0) (3.3.2)\r\n",
      "Requirement already satisfied: idna<4,>=2.5 in /usr/local/lib/python3.10/dist-packages (from requests<3,>=2.21.0->tensorboard<2.10,>=2.9->tensorflow==2.9.0) (3.10)\r\n",
      "Requirement already satisfied: urllib3<3,>=1.21.1 in /usr/local/lib/python3.10/dist-packages (from requests<3,>=2.21.0->tensorboard<2.10,>=2.9->tensorflow==2.9.0) (2.2.3)\r\n",
      "Requirement already satisfied: certifi>=2017.4.17 in /usr/local/lib/python3.10/dist-packages (from requests<3,>=2.21.0->tensorboard<2.10,>=2.9->tensorflow==2.9.0) (2024.8.30)\r\n",
      "Requirement already satisfied: MarkupSafe>=2.1.1 in /usr/local/lib/python3.10/dist-packages (from werkzeug>=1.0.1->tensorboard<2.10,>=2.9->tensorflow==2.9.0) (2.1.5)\r\n",
      "Requirement already satisfied: pyasn1<0.7.0,>=0.4.6 in /usr/local/lib/python3.10/dist-packages (from pyasn1-modules>=0.2.1->google-auth<3,>=1.6.3->tensorboard<2.10,>=2.9->tensorflow==2.9.0) (0.6.1)\r\n",
      "Requirement already satisfied: oauthlib>=3.0.0 in /usr/local/lib/python3.10/dist-packages (from requests-oauthlib>=0.7.0->google-auth-oauthlib<0.5,>=0.4.1->tensorboard<2.10,>=2.9->tensorflow==2.9.0) (3.2.2)\r\n",
      "Downloading tensorflow-2.9.0-cp310-cp310-manylinux_2_17_x86_64.manylinux2014_x86_64.whl (511.7 MB)\r\n",
      "\u001b[2K   \u001b[90m━━━━━━━━━━━━━━━━━━━━━━━━━━━━━━━━━━━━━━━━\u001b[0m \u001b[32m511.7/511.7 MB\u001b[0m \u001b[31m3.3 MB/s\u001b[0m eta \u001b[36m0:00:00\u001b[0m\r\n",
      "\u001b[?25hDownloading keras-2.9.0-py2.py3-none-any.whl (1.6 MB)\r\n",
      "\u001b[2K   \u001b[90m━━━━━━━━━━━━━━━━━━━━━━━━━━━━━━━━━━━━━━━━\u001b[0m \u001b[32m1.6/1.6 MB\u001b[0m \u001b[31m63.7 MB/s\u001b[0m eta \u001b[36m0:00:00\u001b[0m\r\n",
      "\u001b[?25hDownloading tensorflow_addons-0.18.0-cp310-cp310-manylinux_2_17_x86_64.manylinux2014_x86_64.whl (1.1 MB)\r\n",
      "\u001b[2K   \u001b[90m━━━━━━━━━━━━━━━━━━━━━━━━━━━━━━━━━━━━━━━━\u001b[0m \u001b[32m1.1/1.1 MB\u001b[0m \u001b[31m47.6 MB/s\u001b[0m eta \u001b[36m0:00:00\u001b[0m\r\n",
      "\u001b[?25hDownloading flatbuffers-1.12-py2.py3-none-any.whl (15 kB)\r\n",
      "Downloading gast-0.4.0-py3-none-any.whl (9.8 kB)\r\n",
      "Downloading Keras_Preprocessing-1.1.2-py2.py3-none-any.whl (42 kB)\r\n",
      "\u001b[2K   \u001b[90m━━━━━━━━━━━━━━━━━━━━━━━━━━━━━━━━━━━━━━━━\u001b[0m \u001b[32m42.6/42.6 kB\u001b[0m \u001b[31m2.5 MB/s\u001b[0m eta \u001b[36m0:00:00\u001b[0m\r\n",
      "\u001b[?25hDownloading tensorboard-2.9.1-py3-none-any.whl (5.8 MB)\r\n",
      "\u001b[2K   \u001b[90m━━━━━━━━━━━━━━━━━━━━━━━━━━━━━━━━━━━━━━━━\u001b[0m \u001b[32m5.8/5.8 MB\u001b[0m \u001b[31m97.0 MB/s\u001b[0m eta \u001b[36m0:00:00\u001b[0m\r\n",
      "\u001b[?25hDownloading protobuf-3.19.6-cp310-cp310-manylinux_2_17_x86_64.manylinux2014_x86_64.whl (1.1 MB)\r\n",
      "\u001b[2K   \u001b[90m━━━━━━━━━━━━━━━━━━━━━━━━━━━━━━━━━━━━━━━━\u001b[0m \u001b[32m1.1/1.1 MB\u001b[0m \u001b[31m47.8 MB/s\u001b[0m eta \u001b[36m0:00:00\u001b[0m\r\n",
      "\u001b[?25hDownloading tensorflow_estimator-2.9.0-py2.py3-none-any.whl (438 kB)\r\n",
      "\u001b[2K   \u001b[90m━━━━━━━━━━━━━━━━━━━━━━━━━━━━━━━━━━━━━━━━\u001b[0m \u001b[32m438.7/438.7 kB\u001b[0m \u001b[31m29.9 MB/s\u001b[0m eta \u001b[36m0:00:00\u001b[0m\r\n",
      "\u001b[?25hDownloading google_auth_oauthlib-0.4.6-py2.py3-none-any.whl (18 kB)\r\n",
      "Downloading tensorboard_data_server-0.6.1-py3-none-manylinux2010_x86_64.whl (4.9 MB)\r\n",
      "\u001b[2K   \u001b[90m━━━━━━━━━━━━━━━━━━━━━━━━━━━━━━━━━━━━━━━━\u001b[0m \u001b[32m4.9/4.9 MB\u001b[0m \u001b[31m93.5 MB/s\u001b[0m eta \u001b[36m0:00:00\u001b[0m\r\n",
      "\u001b[?25hDownloading tensorboard_plugin_wit-1.8.1-py3-none-any.whl (781 kB)\r\n",
      "\u001b[2K   \u001b[90m━━━━━━━━━━━━━━━━━━━━━━━━━━━━━━━━━━━━━━━━\u001b[0m \u001b[32m781.3/781.3 kB\u001b[0m \u001b[31m40.3 MB/s\u001b[0m eta \u001b[36m0:00:00\u001b[0m\r\n",
      "\u001b[?25hInstalling collected packages: tensorboard-plugin-wit, keras, flatbuffers, tensorflow-estimator, tensorboard-data-server, protobuf, keras-preprocessing, gast, tensorflow-addons, google-auth-oauthlib, tensorboard, tensorflow\r\n",
      "  Attempting uninstall: flatbuffers\r\n",
      "    Found existing installation: flatbuffers 24.3.25\r\n",
      "    Uninstalling flatbuffers-24.3.25:\r\n",
      "      Successfully uninstalled flatbuffers-24.3.25\r\n",
      "  Attempting uninstall: tensorboard-data-server\r\n",
      "    Found existing installation: tensorboard-data-server 0.7.2\r\n",
      "    Uninstalling tensorboard-data-server-0.7.2:\r\n",
      "      Successfully uninstalled tensorboard-data-server-0.7.2\r\n",
      "  Attempting uninstall: protobuf\r\n",
      "    Found existing installation: protobuf 3.20.3\r\n",
      "    Uninstalling protobuf-3.20.3:\r\n",
      "      Successfully uninstalled protobuf-3.20.3\r\n",
      "  Attempting uninstall: gast\r\n",
      "    Found existing installation: gast 0.6.0\r\n",
      "    Uninstalling gast-0.6.0:\r\n",
      "      Successfully uninstalled gast-0.6.0\r\n",
      "  Attempting uninstall: google-auth-oauthlib\r\n",
      "    Found existing installation: google-auth-oauthlib 1.2.1\r\n",
      "    Uninstalling google-auth-oauthlib-1.2.1:\r\n",
      "      Successfully uninstalled google-auth-oauthlib-1.2.1\r\n",
      "  Attempting uninstall: tensorboard\r\n",
      "    Found existing installation: tensorboard 2.17.0\r\n",
      "    Uninstalling tensorboard-2.17.0:\r\n",
      "      Successfully uninstalled tensorboard-2.17.0\r\n",
      "\u001b[31mERROR: pip's dependency resolver does not currently take into account all the packages that are installed. This behaviour is the source of the following dependency conflicts.\r\n",
      "cudf-cu12 24.4.1 requires protobuf<5,>=3.20, but you have protobuf 3.19.6 which is incompatible.\r\n",
      "cudf-cu12 24.4.1 requires pyarrow<15.0.0a0,>=14.0.1, but you have pyarrow 18.1.0 which is incompatible.\r\n",
      "google-cloud-aiplatform 1.67.1 requires protobuf!=4.21.0,!=4.21.1,!=4.21.2,!=4.21.3,!=4.21.4,!=4.21.5,<6.0.0dev,>=3.20.2, but you have protobuf 3.19.6 which is incompatible.\r\n",
      "google-cloud-bigquery-connection 1.15.5 requires protobuf!=4.21.0,!=4.21.1,!=4.21.2,!=4.21.3,!=4.21.4,!=4.21.5,<6.0.0dev,>=3.20.2, but you have protobuf 3.19.6 which is incompatible.\r\n",
      "google-cloud-bigtable 2.26.0 requires google-api-core[grpc]<3.0.0dev,>=2.16.0, but you have google-api-core 1.34.1 which is incompatible.\r\n",
      "google-cloud-bigtable 2.26.0 requires protobuf!=4.21.0,!=4.21.1,!=4.21.2,!=4.21.3,!=4.21.4,!=4.21.5,<6.0.0dev,>=3.20.2, but you have protobuf 3.19.6 which is incompatible.\r\n",
      "google-cloud-functions 1.16.5 requires protobuf!=4.21.0,!=4.21.1,!=4.21.2,!=4.21.3,!=4.21.4,!=4.21.5,<6.0.0dev,>=3.20.2, but you have protobuf 3.19.6 which is incompatible.\r\n",
      "google-cloud-iam 2.15.2 requires protobuf!=4.21.0,!=4.21.1,!=4.21.2,!=4.21.3,!=4.21.4,!=4.21.5,<6.0.0dev,>=3.20.2, but you have protobuf 3.19.6 which is incompatible.\r\n",
      "google-cloud-language 2.13.4 requires protobuf!=4.21.0,!=4.21.1,!=4.21.2,!=4.21.3,!=4.21.4,!=4.21.5,<6.0.0dev,>=3.20.2, but you have protobuf 3.19.6 which is incompatible.\r\n",
      "google-cloud-pubsub 2.23.1 requires protobuf!=4.21.0,!=4.21.1,!=4.21.2,!=4.21.3,!=4.21.4,!=4.21.5,<6.0.0dev,>=3.20.2, but you have protobuf 3.19.6 which is incompatible.\r\n",
      "google-cloud-resource-manager 1.12.5 requires protobuf!=4.21.0,!=4.21.1,!=4.21.2,!=4.21.3,!=4.21.4,!=4.21.5,<6.0.0dev,>=3.20.2, but you have protobuf 3.19.6 which is incompatible.\r\n",
      "google-cloud-videointelligence 2.15.0 requires protobuf!=4.21.0,!=4.21.1,!=4.21.2,!=4.21.3,!=4.21.4,!=4.21.5,<6.0.0dev,>=3.20.2, but you have protobuf 3.19.6 which is incompatible.\r\n",
      "google-cloud-vision 3.9.0 requires protobuf!=4.21.0,!=4.21.1,!=4.21.2,!=4.21.3,!=4.21.4,!=4.21.5,<6.0.0dev,>=3.20.2, but you have protobuf 3.19.6 which is incompatible.\r\n",
      "googleapis-common-protos 1.65.0 requires protobuf!=3.20.0,!=3.20.1,!=4.21.1,!=4.21.2,!=4.21.3,!=4.21.4,!=4.21.5,<6.0.0.dev0,>=3.20.2, but you have protobuf 3.19.6 which is incompatible.\r\n",
      "grpc-google-iam-v1 0.13.1 requires protobuf!=4.21.1,!=4.21.2,!=4.21.3,!=4.21.4,!=4.21.5,<6.0.0dev,>=3.20.2, but you have protobuf 3.19.6 which is incompatible.\r\n",
      "onnx 1.17.0 requires protobuf>=3.20.2, but you have protobuf 3.19.6 which is incompatible.\r\n",
      "pandas-gbq 0.23.1 requires google-api-core<3.0.0dev,>=2.10.2, but you have google-api-core 1.34.1 which is incompatible.\r\n",
      "pandas-gbq 0.23.1 requires google-auth-oauthlib>=0.7.0, but you have google-auth-oauthlib 0.4.6 which is incompatible.\r\n",
      "tensorflow-datasets 4.9.6 requires protobuf>=3.20, but you have protobuf 3.19.6 which is incompatible.\r\n",
      "tensorflow-decision-forests 1.10.0 requires tensorflow==2.17.0, but you have tensorflow 2.9.0 which is incompatible.\r\n",
      "tensorflow-metadata 1.15.0 requires protobuf<4.21,>=3.20.3; python_version < \"3.11\", but you have protobuf 3.19.6 which is incompatible.\r\n",
      "tensorflow-text 2.17.0 requires tensorflow<2.18,>=2.17.0, but you have tensorflow 2.9.0 which is incompatible.\r\n",
      "tf-keras 2.17.0 requires tensorflow<2.18,>=2.17, but you have tensorflow 2.9.0 which is incompatible.\u001b[0m\u001b[31m\r\n",
      "\u001b[0mSuccessfully installed flatbuffers-1.12 gast-0.4.0 google-auth-oauthlib-0.4.6 keras-2.9.0 keras-preprocessing-1.1.2 protobuf-3.19.6 tensorboard-2.9.1 tensorboard-data-server-0.6.1 tensorboard-plugin-wit-1.8.1 tensorflow-2.9.0 tensorflow-addons-0.18.0 tensorflow-estimator-2.9.0\r\n"
     ]
    }
   ],
   "source": [
    "!pip uninstall tensorflow tensorflow-addons keras -y\n",
    "!pip install tensorflow==2.9.0 keras==2.9.0 tensorflow-addons==0.18.0\n"
   ]
  },
  {
   "cell_type": "code",
   "execution_count": 3,
   "id": "10b13386",
   "metadata": {
    "execution": {
     "iopub.execute_input": "2024-12-27T06:52:43.108710Z",
     "iopub.status.busy": "2024-12-27T06:52:43.108431Z",
     "iopub.status.idle": "2024-12-27T06:52:43.111917Z",
     "shell.execute_reply": "2024-12-27T06:52:43.111293Z"
    },
    "id": "GitBDng_36xV",
    "papermill": {
     "duration": 0.018583,
     "end_time": "2024-12-27T06:52:43.113168",
     "exception": false,
     "start_time": "2024-12-27T06:52:43.094585",
     "status": "completed"
    },
    "tags": []
   },
   "outputs": [],
   "source": [
    "import zipfile"
   ]
  },
  {
   "cell_type": "code",
   "execution_count": 4,
   "id": "45919bf1",
   "metadata": {
    "execution": {
     "iopub.execute_input": "2024-12-27T06:52:43.139714Z",
     "iopub.status.busy": "2024-12-27T06:52:43.139511Z",
     "iopub.status.idle": "2024-12-27T06:52:49.121105Z",
     "shell.execute_reply": "2024-12-27T06:52:49.120381Z"
    },
    "id": "z3FHA2tYbNfx",
    "papermill": {
     "duration": 5.996529,
     "end_time": "2024-12-27T06:52:49.122602",
     "exception": false,
     "start_time": "2024-12-27T06:52:43.126073",
     "status": "completed"
    },
    "tags": []
   },
   "outputs": [],
   "source": [
    "import zipfile\n",
    "import os\n",
    "import random\n",
    "import shutil\n",
    "import numpy as np\n",
    "import pandas as pd\n",
    "import matplotlib.pyplot as plt\n",
    "import seaborn as sns\n",
    "import skimage.io\n",
    "import keras.backend as K\n",
    "import tensorflow as tf\n",
    "import tensorflow_addons as tfa\n",
    "from tensorflow.keras.models import Sequential, Model\n",
    "from tensorflow.keras.applications import(InceptionV3, MobileNetV2, DenseNet121, ResNet50, EfficientNetV2B0, Xception)\n",
    "from tensorflow.keras.layers import (Conv2D, MaxPooling2D, Flatten, Dense, Dropout,BatchNormalization, Activation, GlobalAveragePooling2D,DepthwiseConv2D, Input, Add, Concatenate)\n",
    "from tensorflow.keras.optimizers import Adam\n",
    "from tensorflow.keras.losses import CategoricalCrossentropy\n",
    "from tensorflow.keras.preprocessing.image import ImageDataGenerator\n",
    "from tensorflow.keras.callbacks import ReduceLROnPlateau, ModelCheckpoint, EarlyStopping, LearningRateScheduler\n",
    "from sklearn.metrics import confusion_matrix, classification_report, accuracy_score\n",
    "from sklearn.model_selection import train_test_split\n",
    "from tensorflow.keras.utils import plot_model\n",
    "from IPython.display import Image\n"
   ]
  },
  {
   "cell_type": "markdown",
   "id": "b07315f5",
   "metadata": {
    "id": "PO_UpS4vaBi8",
    "papermill": {
     "duration": 0.012712,
     "end_time": "2024-12-27T06:52:49.148561",
     "exception": false,
     "start_time": "2024-12-27T06:52:49.135849",
     "status": "completed"
    },
    "tags": []
   },
   "source": [
    "Try 3"
   ]
  },
  {
   "cell_type": "code",
   "execution_count": 5,
   "id": "bb048877",
   "metadata": {
    "execution": {
     "iopub.execute_input": "2024-12-27T06:52:49.175194Z",
     "iopub.status.busy": "2024-12-27T06:52:49.174608Z",
     "iopub.status.idle": "2024-12-27T06:52:49.178057Z",
     "shell.execute_reply": "2024-12-27T06:52:49.177250Z"
    },
    "id": "QyN8qV0huMwD",
    "papermill": {
     "duration": 0.018192,
     "end_time": "2024-12-27T06:52:49.179410",
     "exception": false,
     "start_time": "2024-12-27T06:52:49.161218",
     "status": "completed"
    },
    "tags": []
   },
   "outputs": [],
   "source": [
    "# zip_path = \"/content/drive/MyDrive/iq-oth.zip\"  # Path to the ZIP file\n",
    "# extracted_path = \"/content/chest_ctscan_images\"  # Path to extract the files\n",
    "# with zipfile.ZipFile(zip_path, 'r') as zip_ref:\n",
    "#     zip_ref.extractall(extracted_path)"
   ]
  },
  {
   "cell_type": "code",
   "execution_count": 6,
   "id": "a3186daa",
   "metadata": {
    "execution": {
     "iopub.execute_input": "2024-12-27T06:52:49.205749Z",
     "iopub.status.busy": "2024-12-27T06:52:49.205537Z",
     "iopub.status.idle": "2024-12-27T06:52:49.208616Z",
     "shell.execute_reply": "2024-12-27T06:52:49.207980Z"
    },
    "id": "psN1jH926Z7t",
    "papermill": {
     "duration": 0.017639,
     "end_time": "2024-12-27T06:52:49.209787",
     "exception": false,
     "start_time": "2024-12-27T06:52:49.192148",
     "status": "completed"
    },
    "tags": []
   },
   "outputs": [],
   "source": [
    "main_dir = \"/kaggle/input/iq-oth/The IQ-OTHNCCD lung cancer dataset/The IQ-OTHNCCD lung cancer dataset\""
   ]
  },
  {
   "cell_type": "code",
   "execution_count": 7,
   "id": "57f65074",
   "metadata": {
    "execution": {
     "iopub.execute_input": "2024-12-27T06:52:49.235703Z",
     "iopub.status.busy": "2024-12-27T06:52:49.235494Z",
     "iopub.status.idle": "2024-12-27T06:52:49.238365Z",
     "shell.execute_reply": "2024-12-27T06:52:49.237758Z"
    },
    "id": "TwEwT2nCuPYv",
    "papermill": {
     "duration": 0.016998,
     "end_time": "2024-12-27T06:52:49.239464",
     "exception": false,
     "start_time": "2024-12-27T06:52:49.222466",
     "status": "completed"
    },
    "tags": []
   },
   "outputs": [],
   "source": [
    "train_dir = \"/kaggle/working/ct-scan/train\"\n",
    "valid_dir = \"/kaggle/working/ct-scan/valid\"\n",
    "test_dir = \"/kaggle/working/ct-scan/test\""
   ]
  },
  {
   "cell_type": "code",
   "execution_count": 8,
   "id": "23eea12a",
   "metadata": {
    "execution": {
     "iopub.execute_input": "2024-12-27T06:52:49.265451Z",
     "iopub.status.busy": "2024-12-27T06:52:49.265223Z",
     "iopub.status.idle": "2024-12-27T06:52:57.420961Z",
     "shell.execute_reply": "2024-12-27T06:52:57.420246Z"
    },
    "id": "cUjh_ksquT_w",
    "papermill": {
     "duration": 8.170555,
     "end_time": "2024-12-27T06:52:57.422747",
     "exception": false,
     "start_time": "2024-12-27T06:52:49.252192",
     "status": "completed"
    },
    "tags": []
   },
   "outputs": [],
   "source": [
    "def split_data(source_dir, train_dir, valid_dir, test_dir, train_ratio=0.7, valid_ratio=0.2, test_ratio=0.1):\n",
    "\n",
    "    for class_name in os.listdir(source_dir):\n",
    "        class_source_path = os.path.join(source_dir, class_name)\n",
    "        class_train_path = os.path.join(train_dir, class_name)\n",
    "        class_valid_path = os.path.join(valid_dir, class_name)\n",
    "        class_test_path = os.path.join(test_dir, class_name)\n",
    "\n",
    "        # Create subdirectories for each class if they don't exist\n",
    "        os.makedirs(class_train_path, exist_ok=True)\n",
    "        os.makedirs(class_valid_path, exist_ok=True)\n",
    "        os.makedirs(class_test_path, exist_ok=True)\n",
    "\n",
    "        all_files = os.listdir(class_source_path)\n",
    "        random.shuffle(all_files)  # Shuffle the files randomly\n",
    "\n",
    "        # Calculate split indices\n",
    "        train_end = int(len(all_files) * train_ratio)\n",
    "        valid_end = train_end + int(len(all_files) * valid_ratio)\n",
    "\n",
    "        # Split the files\n",
    "        train_files = all_files[:train_end]\n",
    "        valid_files = all_files[train_end:valid_end]\n",
    "        test_files = all_files[valid_end:]\n",
    "\n",
    "        # Move files to respective directories\n",
    "        for file in train_files:\n",
    "            shutil.copy(os.path.join(class_source_path, file), os.path.join(class_train_path, file))\n",
    "        for file in valid_files:\n",
    "            shutil.copy(os.path.join(class_source_path, file), os.path.join(class_valid_path, file))\n",
    "        for file in test_files:\n",
    "            shutil.copy(os.path.join(class_source_path, file), os.path.join(class_test_path, file))\n",
    "\n",
    "\n",
    "# Call the function to split the data\n",
    "split_data(main_dir, train_dir, valid_dir, test_dir)"
   ]
  },
  {
   "cell_type": "code",
   "execution_count": 9,
   "id": "7ea1c1c4",
   "metadata": {
    "execution": {
     "iopub.execute_input": "2024-12-27T06:52:57.450167Z",
     "iopub.status.busy": "2024-12-27T06:52:57.449866Z",
     "iopub.status.idle": "2024-12-27T06:52:57.453212Z",
     "shell.execute_reply": "2024-12-27T06:52:57.452477Z"
    },
    "id": "OBHrYqxLuU5C",
    "papermill": {
     "duration": 0.017969,
     "end_time": "2024-12-27T06:52:57.454486",
     "exception": false,
     "start_time": "2024-12-27T06:52:57.436517",
     "status": "completed"
    },
    "tags": []
   },
   "outputs": [],
   "source": [
    "train_datagen = ImageDataGenerator(\n",
    "    # rescale=1.0/255,\n",
    "    # rotation_range=20,\n",
    "    # width_shift_range=0.2,\n",
    "    # height_shift_range=0.2,\n",
    "    # shear_range=0.2,\n",
    "    # zoom_range=0.2,\n",
    "    # horizontal_flip=True\n",
    ")"
   ]
  },
  {
   "cell_type": "code",
   "execution_count": 10,
   "id": "d9e9a9a2",
   "metadata": {
    "execution": {
     "iopub.execute_input": "2024-12-27T06:52:57.480798Z",
     "iopub.status.busy": "2024-12-27T06:52:57.480551Z",
     "iopub.status.idle": "2024-12-27T06:52:57.483993Z",
     "shell.execute_reply": "2024-12-27T06:52:57.483201Z"
    },
    "id": "5OZi-BPsuYkQ",
    "papermill": {
     "duration": 0.017916,
     "end_time": "2024-12-27T06:52:57.485222",
     "exception": false,
     "start_time": "2024-12-27T06:52:57.467306",
     "status": "completed"
    },
    "tags": []
   },
   "outputs": [],
   "source": [
    "valid_datagen = ImageDataGenerator()\n",
    "test_datagen = ImageDataGenerator()"
   ]
  },
  {
   "cell_type": "code",
   "execution_count": 11,
   "id": "6b3b3e3d",
   "metadata": {
    "execution": {
     "iopub.execute_input": "2024-12-27T06:52:57.511688Z",
     "iopub.status.busy": "2024-12-27T06:52:57.511486Z",
     "iopub.status.idle": "2024-12-27T06:52:57.530484Z",
     "shell.execute_reply": "2024-12-27T06:52:57.529747Z"
    },
    "id": "s58bw8FiuczT",
    "outputId": "7aadd13e-a4ca-42d6-c4e1-8a8c09885c90",
    "papermill": {
     "duration": 0.033506,
     "end_time": "2024-12-27T06:52:57.531700",
     "exception": false,
     "start_time": "2024-12-27T06:52:57.498194",
     "status": "completed"
    },
    "tags": []
   },
   "outputs": [
    {
     "name": "stdout",
     "output_type": "stream",
     "text": [
      "Found 767 images belonging to 3 classes.\n"
     ]
    }
   ],
   "source": [
    "train_generator = train_datagen.flow_from_directory(\n",
    "    train_dir,\n",
    "    target_size=(224,224),\n",
    "    batch_size=16,\n",
    "    class_mode='categorical'\n",
    ")"
   ]
  },
  {
   "cell_type": "code",
   "execution_count": 12,
   "id": "be0c41d6",
   "metadata": {
    "execution": {
     "iopub.execute_input": "2024-12-27T06:52:57.558538Z",
     "iopub.status.busy": "2024-12-27T06:52:57.558288Z",
     "iopub.status.idle": "2024-12-27T06:52:57.568641Z",
     "shell.execute_reply": "2024-12-27T06:52:57.567885Z"
    },
    "id": "_VAT1nn6ufRV",
    "outputId": "e94fa4a2-fb97-4b45-9ffa-1de86e63561c",
    "papermill": {
     "duration": 0.024971,
     "end_time": "2024-12-27T06:52:57.569848",
     "exception": false,
     "start_time": "2024-12-27T06:52:57.544877",
     "status": "completed"
    },
    "tags": []
   },
   "outputs": [
    {
     "name": "stdout",
     "output_type": "stream",
     "text": [
      "Found 219 images belonging to 3 classes.\n"
     ]
    }
   ],
   "source": [
    "validation_generator = valid_datagen.flow_from_directory(\n",
    "    valid_dir,\n",
    "    target_size=(224,224),\n",
    "    batch_size=16,\n",
    "    class_mode='categorical'\n",
    ")"
   ]
  },
  {
   "cell_type": "code",
   "execution_count": 13,
   "id": "0b1e79a5",
   "metadata": {
    "execution": {
     "iopub.execute_input": "2024-12-27T06:52:57.597313Z",
     "iopub.status.busy": "2024-12-27T06:52:57.597072Z",
     "iopub.status.idle": "2024-12-27T06:52:57.605654Z",
     "shell.execute_reply": "2024-12-27T06:52:57.604948Z"
    },
    "id": "79higThAuhq_",
    "outputId": "0195383a-337c-4a15-f3a4-1ae961e06629",
    "papermill": {
     "duration": 0.023251,
     "end_time": "2024-12-27T06:52:57.606798",
     "exception": false,
     "start_time": "2024-12-27T06:52:57.583547",
     "status": "completed"
    },
    "tags": []
   },
   "outputs": [
    {
     "name": "stdout",
     "output_type": "stream",
     "text": [
      "Found 111 images belonging to 3 classes.\n"
     ]
    }
   ],
   "source": [
    "test_generator = test_datagen.flow_from_directory(\n",
    "    test_dir,\n",
    "    target_size=(224,224),\n",
    "    batch_size=16,\n",
    "    class_mode='categorical'\n",
    ")"
   ]
  },
  {
   "cell_type": "code",
   "execution_count": 14,
   "id": "6c28144c",
   "metadata": {
    "execution": {
     "iopub.execute_input": "2024-12-27T06:52:57.634414Z",
     "iopub.status.busy": "2024-12-27T06:52:57.634187Z",
     "iopub.status.idle": "2024-12-27T06:52:57.637228Z",
     "shell.execute_reply": "2024-12-27T06:52:57.636592Z"
    },
    "id": "wJy_CEHicRgM",
    "papermill": {
     "duration": 0.018126,
     "end_time": "2024-12-27T06:52:57.638490",
     "exception": false,
     "start_time": "2024-12-27T06:52:57.620364",
     "status": "completed"
    },
    "tags": []
   },
   "outputs": [],
   "source": [
    "os.makedirs(test_dir, exist_ok=True)\n"
   ]
  },
  {
   "cell_type": "code",
   "execution_count": 15,
   "id": "51c0acad",
   "metadata": {
    "execution": {
     "iopub.execute_input": "2024-12-27T06:52:57.665811Z",
     "iopub.status.busy": "2024-12-27T06:52:57.665606Z",
     "iopub.status.idle": "2024-12-27T06:52:57.669769Z",
     "shell.execute_reply": "2024-12-27T06:52:57.668966Z"
    },
    "id": "d4p9qKimcXnV",
    "outputId": "f03bfaf9-2fd8-470d-e955-f41f5a9dab9e",
    "papermill": {
     "duration": 0.019112,
     "end_time": "2024-12-27T06:52:57.670918",
     "exception": false,
     "start_time": "2024-12-27T06:52:57.651806",
     "status": "completed"
    },
    "tags": []
   },
   "outputs": [
    {
     "name": "stdout",
     "output_type": "stream",
     "text": [
      "Number of files in test directory: 3\n"
     ]
    }
   ],
   "source": [
    "# Example to list files in the test directory\n",
    "test_files = os.listdir(test_dir)\n",
    "print(\"Number of files in test directory:\", len(test_files))"
   ]
  },
  {
   "cell_type": "code",
   "execution_count": 16,
   "id": "15bb5c76",
   "metadata": {
    "execution": {
     "iopub.execute_input": "2024-12-27T06:52:57.697966Z",
     "iopub.status.busy": "2024-12-27T06:52:57.697754Z",
     "iopub.status.idle": "2024-12-27T06:52:57.701685Z",
     "shell.execute_reply": "2024-12-27T06:52:57.700978Z"
    },
    "id": "gL6e9ixdcBKR",
    "outputId": "a8260ec8-6a70-4ef9-a8cb-b21399ad5a8d",
    "papermill": {
     "duration": 0.018711,
     "end_time": "2024-12-27T06:52:57.702916",
     "exception": false,
     "start_time": "2024-12-27T06:52:57.684205",
     "status": "completed"
    },
    "tags": []
   },
   "outputs": [
    {
     "name": "stdout",
     "output_type": "stream",
     "text": [
      "Test directory: /kaggle/working/ct-scan/test\n"
     ]
    }
   ],
   "source": [
    "print(\"Test directory:\", test_dir)\n"
   ]
  },
  {
   "cell_type": "code",
   "execution_count": 17,
   "id": "25c3cf68",
   "metadata": {
    "execution": {
     "iopub.execute_input": "2024-12-27T06:52:57.730204Z",
     "iopub.status.busy": "2024-12-27T06:52:57.729937Z",
     "iopub.status.idle": "2024-12-27T06:52:57.734370Z",
     "shell.execute_reply": "2024-12-27T06:52:57.733585Z"
    },
    "id": "JVXysXnmD-9z",
    "papermill": {
     "duration": 0.019421,
     "end_time": "2024-12-27T06:52:57.735565",
     "exception": false,
     "start_time": "2024-12-27T06:52:57.716144",
     "status": "completed"
    },
    "tags": []
   },
   "outputs": [],
   "source": [
    "def f1_score(y_true, y_pred):\n",
    "    true_positives = K.sum(K.round(K.clip(y_true * y_pred, 0, 1)))\n",
    "    possible_positives = K.sum(K.round(K.clip(y_true, 0, 1)))\n",
    "    predicted_positives = K.sum(K.round(K.clip(y_pred, 0, 1)))\n",
    "    precision = true_positives / (predicted_positives + K.epsilon())\n",
    "    recall = true_positives / (possible_positives + K.epsilon())\n",
    "    f1_val = 2 * (precision * recall) / (precision + recall + K.epsilon())\n",
    "    return f1_val"
   ]
  },
  {
   "cell_type": "code",
   "execution_count": 18,
   "id": "89de9ccb",
   "metadata": {
    "execution": {
     "iopub.execute_input": "2024-12-27T06:52:57.762689Z",
     "iopub.status.busy": "2024-12-27T06:52:57.762448Z",
     "iopub.status.idle": "2024-12-27T06:52:58.209892Z",
     "shell.execute_reply": "2024-12-27T06:52:58.209212Z"
    },
    "id": "aJPN14HlEZe-",
    "papermill": {
     "duration": 0.46261,
     "end_time": "2024-12-27T06:52:58.211473",
     "exception": false,
     "start_time": "2024-12-27T06:52:57.748863",
     "status": "completed"
    },
    "tags": []
   },
   "outputs": [],
   "source": [
    "METRICS = [\n",
    "    tf.keras.metrics.CategoricalAccuracy(name='accuracy'),\n",
    "    tf.keras.metrics.Precision(name='precision'),\n",
    "    tf.keras.metrics.Recall(name='recall'),\n",
    "    tf.keras.metrics.AUC(name='auc'),\n",
    "    tfa.metrics.F1Score(num_classes=3, average=\"micro\", name='f1_score')\n",
    "]"
   ]
  },
  {
   "cell_type": "code",
   "execution_count": 19,
   "id": "f9941cd1",
   "metadata": {
    "execution": {
     "iopub.execute_input": "2024-12-27T06:52:58.239782Z",
     "iopub.status.busy": "2024-12-27T06:52:58.239549Z",
     "iopub.status.idle": "2024-12-27T06:53:02.699490Z",
     "shell.execute_reply": "2024-12-27T06:53:02.698740Z"
    },
    "id": "3pu77guMwmjn",
    "outputId": "db96ba0b-7a93-4303-ca9c-96d5d0010d27",
    "papermill": {
     "duration": 4.475433,
     "end_time": "2024-12-27T06:53:02.701032",
     "exception": false,
     "start_time": "2024-12-27T06:52:58.225599",
     "status": "completed"
    },
    "tags": []
   },
   "outputs": [
    {
     "name": "stdout",
     "output_type": "stream",
     "text": [
      "Downloading data from https://storage.googleapis.com/tensorflow/keras-applications/efficientnet_v2/efficientnetv2-b0_notop.h5\n",
      "24274472/24274472 [==============================] - 2s 0us/step\n"
     ]
    }
   ],
   "source": [
    "base_model = tf.keras.applications.EfficientNetV2B0(input_shape=(224,224,3),include_top=False,weights=\"imagenet\")"
   ]
  },
  {
   "cell_type": "code",
   "execution_count": 20,
   "id": "c1688022",
   "metadata": {
    "execution": {
     "iopub.execute_input": "2024-12-27T06:53:02.731798Z",
     "iopub.status.busy": "2024-12-27T06:53:02.731569Z",
     "iopub.status.idle": "2024-12-27T06:53:02.734740Z",
     "shell.execute_reply": "2024-12-27T06:53:02.734155Z"
    },
    "id": "aSsNkIQCwpXA",
    "papermill": {
     "duration": 0.019399,
     "end_time": "2024-12-27T06:53:02.735913",
     "exception": false,
     "start_time": "2024-12-27T06:53:02.716514",
     "status": "completed"
    },
    "tags": []
   },
   "outputs": [],
   "source": [
    "total_layers = len(base_model.layers)"
   ]
  },
  {
   "cell_type": "code",
   "execution_count": 21,
   "id": "0fac6ed5",
   "metadata": {
    "execution": {
     "iopub.execute_input": "2024-12-27T06:53:02.765970Z",
     "iopub.status.busy": "2024-12-27T06:53:02.765759Z",
     "iopub.status.idle": "2024-12-27T06:53:02.768565Z",
     "shell.execute_reply": "2024-12-27T06:53:02.767930Z"
    },
    "id": "Ff-9hCJ3wts6",
    "papermill": {
     "duration": 0.01897,
     "end_time": "2024-12-27T06:53:02.769728",
     "exception": false,
     "start_time": "2024-12-27T06:53:02.750758",
     "status": "completed"
    },
    "tags": []
   },
   "outputs": [],
   "source": [
    "num_layers_to_freeze = 0"
   ]
  },
  {
   "cell_type": "code",
   "execution_count": 22,
   "id": "54dd1839",
   "metadata": {
    "execution": {
     "iopub.execute_input": "2024-12-27T06:53:02.799991Z",
     "iopub.status.busy": "2024-12-27T06:53:02.799782Z",
     "iopub.status.idle": "2024-12-27T06:53:02.802938Z",
     "shell.execute_reply": "2024-12-27T06:53:02.802356Z"
    },
    "id": "sKFHPjmTwu3K",
    "papermill": {
     "duration": 0.019563,
     "end_time": "2024-12-27T06:53:02.804260",
     "exception": false,
     "start_time": "2024-12-27T06:53:02.784697",
     "status": "completed"
    },
    "tags": []
   },
   "outputs": [],
   "source": [
    "for layer in base_model.layers[:num_layers_to_freeze]:\n",
    "    layer.trainable = True"
   ]
  },
  {
   "cell_type": "code",
   "execution_count": 23,
   "id": "059e9887",
   "metadata": {
    "execution": {
     "iopub.execute_input": "2024-12-27T06:53:02.834498Z",
     "iopub.status.busy": "2024-12-27T06:53:02.834292Z",
     "iopub.status.idle": "2024-12-27T06:53:02.867113Z",
     "shell.execute_reply": "2024-12-27T06:53:02.866420Z"
    },
    "id": "h7_3xPFowxTo",
    "outputId": "4df73297-1e89-4884-aaf0-4ec506792941",
    "papermill": {
     "duration": 0.050966,
     "end_time": "2024-12-27T06:53:02.869669",
     "exception": false,
     "start_time": "2024-12-27T06:53:02.818703",
     "status": "completed"
    },
    "tags": []
   },
   "outputs": [
    {
     "name": "stdout",
     "output_type": "stream",
     "text": [
      "Layer 0: input_1, Trainable: True\n",
      "Layer 1: rescaling, Trainable: True\n",
      "Layer 2: normalization, Trainable: True\n",
      "Layer 3: stem_conv, Trainable: True\n",
      "Layer 4: stem_bn, Trainable: True\n",
      "Layer 5: stem_activation, Trainable: True\n",
      "Layer 6: block1a_project_conv, Trainable: True\n",
      "Layer 7: block1a_project_bn, Trainable: True\n",
      "Layer 8: block1a_project_activation, Trainable: True\n",
      "Layer 9: block2a_expand_conv, Trainable: True\n",
      "Layer 10: block2a_expand_bn, Trainable: True\n",
      "Layer 11: block2a_expand_activation, Trainable: True\n",
      "Layer 12: block2a_project_conv, Trainable: True\n",
      "Layer 13: block2a_project_bn, Trainable: True\n",
      "Layer 14: block2b_expand_conv, Trainable: True\n",
      "Layer 15: block2b_expand_bn, Trainable: True\n",
      "Layer 16: block2b_expand_activation, Trainable: True\n",
      "Layer 17: block2b_project_conv, Trainable: True\n",
      "Layer 18: block2b_project_bn, Trainable: True\n",
      "Layer 19: block2b_drop, Trainable: True\n",
      "Layer 20: block2b_add, Trainable: True\n",
      "Layer 21: block3a_expand_conv, Trainable: True\n",
      "Layer 22: block3a_expand_bn, Trainable: True\n",
      "Layer 23: block3a_expand_activation, Trainable: True\n",
      "Layer 24: block3a_project_conv, Trainable: True\n",
      "Layer 25: block3a_project_bn, Trainable: True\n",
      "Layer 26: block3b_expand_conv, Trainable: True\n",
      "Layer 27: block3b_expand_bn, Trainable: True\n",
      "Layer 28: block3b_expand_activation, Trainable: True\n",
      "Layer 29: block3b_project_conv, Trainable: True\n",
      "Layer 30: block3b_project_bn, Trainable: True\n",
      "Layer 31: block3b_drop, Trainable: True\n",
      "Layer 32: block3b_add, Trainable: True\n",
      "Layer 33: block4a_expand_conv, Trainable: True\n",
      "Layer 34: block4a_expand_bn, Trainable: True\n",
      "Layer 35: block4a_expand_activation, Trainable: True\n",
      "Layer 36: block4a_dwconv2, Trainable: True\n",
      "Layer 37: block4a_bn, Trainable: True\n",
      "Layer 38: block4a_activation, Trainable: True\n",
      "Layer 39: block4a_se_squeeze, Trainable: True\n",
      "Layer 40: block4a_se_reshape, Trainable: True\n",
      "Layer 41: block4a_se_reduce, Trainable: True\n",
      "Layer 42: block4a_se_expand, Trainable: True\n",
      "Layer 43: block4a_se_excite, Trainable: True\n",
      "Layer 44: block4a_project_conv, Trainable: True\n",
      "Layer 45: block4a_project_bn, Trainable: True\n",
      "Layer 46: block4b_expand_conv, Trainable: True\n",
      "Layer 47: block4b_expand_bn, Trainable: True\n",
      "Layer 48: block4b_expand_activation, Trainable: True\n",
      "Layer 49: block4b_dwconv2, Trainable: True\n",
      "Layer 50: block4b_bn, Trainable: True\n",
      "Layer 51: block4b_activation, Trainable: True\n",
      "Layer 52: block4b_se_squeeze, Trainable: True\n",
      "Layer 53: block4b_se_reshape, Trainable: True\n",
      "Layer 54: block4b_se_reduce, Trainable: True\n",
      "Layer 55: block4b_se_expand, Trainable: True\n",
      "Layer 56: block4b_se_excite, Trainable: True\n",
      "Layer 57: block4b_project_conv, Trainable: True\n",
      "Layer 58: block4b_project_bn, Trainable: True\n",
      "Layer 59: block4b_drop, Trainable: True\n",
      "Layer 60: block4b_add, Trainable: True\n",
      "Layer 61: block4c_expand_conv, Trainable: True\n",
      "Layer 62: block4c_expand_bn, Trainable: True\n",
      "Layer 63: block4c_expand_activation, Trainable: True\n",
      "Layer 64: block4c_dwconv2, Trainable: True\n",
      "Layer 65: block4c_bn, Trainable: True\n",
      "Layer 66: block4c_activation, Trainable: True\n",
      "Layer 67: block4c_se_squeeze, Trainable: True\n",
      "Layer 68: block4c_se_reshape, Trainable: True\n",
      "Layer 69: block4c_se_reduce, Trainable: True\n",
      "Layer 70: block4c_se_expand, Trainable: True\n",
      "Layer 71: block4c_se_excite, Trainable: True\n",
      "Layer 72: block4c_project_conv, Trainable: True\n",
      "Layer 73: block4c_project_bn, Trainable: True\n",
      "Layer 74: block4c_drop, Trainable: True\n",
      "Layer 75: block4c_add, Trainable: True\n",
      "Layer 76: block5a_expand_conv, Trainable: True\n",
      "Layer 77: block5a_expand_bn, Trainable: True\n",
      "Layer 78: block5a_expand_activation, Trainable: True\n",
      "Layer 79: block5a_dwconv2, Trainable: True\n",
      "Layer 80: block5a_bn, Trainable: True\n",
      "Layer 81: block5a_activation, Trainable: True\n",
      "Layer 82: block5a_se_squeeze, Trainable: True\n",
      "Layer 83: block5a_se_reshape, Trainable: True\n",
      "Layer 84: block5a_se_reduce, Trainable: True\n",
      "Layer 85: block5a_se_expand, Trainable: True\n",
      "Layer 86: block5a_se_excite, Trainable: True\n",
      "Layer 87: block5a_project_conv, Trainable: True\n",
      "Layer 88: block5a_project_bn, Trainable: True\n",
      "Layer 89: block5b_expand_conv, Trainable: True\n",
      "Layer 90: block5b_expand_bn, Trainable: True\n",
      "Layer 91: block5b_expand_activation, Trainable: True\n",
      "Layer 92: block5b_dwconv2, Trainable: True\n",
      "Layer 93: block5b_bn, Trainable: True\n",
      "Layer 94: block5b_activation, Trainable: True\n",
      "Layer 95: block5b_se_squeeze, Trainable: True\n",
      "Layer 96: block5b_se_reshape, Trainable: True\n",
      "Layer 97: block5b_se_reduce, Trainable: True\n",
      "Layer 98: block5b_se_expand, Trainable: True\n",
      "Layer 99: block5b_se_excite, Trainable: True\n",
      "Layer 100: block5b_project_conv, Trainable: True\n",
      "Layer 101: block5b_project_bn, Trainable: True\n",
      "Layer 102: block5b_drop, Trainable: True\n",
      "Layer 103: block5b_add, Trainable: True\n",
      "Layer 104: block5c_expand_conv, Trainable: True\n",
      "Layer 105: block5c_expand_bn, Trainable: True\n",
      "Layer 106: block5c_expand_activation, Trainable: True\n",
      "Layer 107: block5c_dwconv2, Trainable: True\n",
      "Layer 108: block5c_bn, Trainable: True\n",
      "Layer 109: block5c_activation, Trainable: True\n",
      "Layer 110: block5c_se_squeeze, Trainable: True\n",
      "Layer 111: block5c_se_reshape, Trainable: True\n",
      "Layer 112: block5c_se_reduce, Trainable: True\n",
      "Layer 113: block5c_se_expand, Trainable: True\n",
      "Layer 114: block5c_se_excite, Trainable: True\n",
      "Layer 115: block5c_project_conv, Trainable: True\n",
      "Layer 116: block5c_project_bn, Trainable: True\n",
      "Layer 117: block5c_drop, Trainable: True\n",
      "Layer 118: block5c_add, Trainable: True\n",
      "Layer 119: block5d_expand_conv, Trainable: True\n",
      "Layer 120: block5d_expand_bn, Trainable: True\n",
      "Layer 121: block5d_expand_activation, Trainable: True\n",
      "Layer 122: block5d_dwconv2, Trainable: True\n",
      "Layer 123: block5d_bn, Trainable: True\n",
      "Layer 124: block5d_activation, Trainable: True\n",
      "Layer 125: block5d_se_squeeze, Trainable: True\n",
      "Layer 126: block5d_se_reshape, Trainable: True\n",
      "Layer 127: block5d_se_reduce, Trainable: True\n",
      "Layer 128: block5d_se_expand, Trainable: True\n",
      "Layer 129: block5d_se_excite, Trainable: True\n",
      "Layer 130: block5d_project_conv, Trainable: True\n",
      "Layer 131: block5d_project_bn, Trainable: True\n",
      "Layer 132: block5d_drop, Trainable: True\n",
      "Layer 133: block5d_add, Trainable: True\n",
      "Layer 134: block5e_expand_conv, Trainable: True\n",
      "Layer 135: block5e_expand_bn, Trainable: True\n",
      "Layer 136: block5e_expand_activation, Trainable: True\n",
      "Layer 137: block5e_dwconv2, Trainable: True\n",
      "Layer 138: block5e_bn, Trainable: True\n",
      "Layer 139: block5e_activation, Trainable: True\n",
      "Layer 140: block5e_se_squeeze, Trainable: True\n",
      "Layer 141: block5e_se_reshape, Trainable: True\n",
      "Layer 142: block5e_se_reduce, Trainable: True\n",
      "Layer 143: block5e_se_expand, Trainable: True\n",
      "Layer 144: block5e_se_excite, Trainable: True\n",
      "Layer 145: block5e_project_conv, Trainable: True\n",
      "Layer 146: block5e_project_bn, Trainable: True\n",
      "Layer 147: block5e_drop, Trainable: True\n",
      "Layer 148: block5e_add, Trainable: True\n",
      "Layer 149: block6a_expand_conv, Trainable: True\n",
      "Layer 150: block6a_expand_bn, Trainable: True\n",
      "Layer 151: block6a_expand_activation, Trainable: True\n",
      "Layer 152: block6a_dwconv2, Trainable: True\n",
      "Layer 153: block6a_bn, Trainable: True\n",
      "Layer 154: block6a_activation, Trainable: True\n",
      "Layer 155: block6a_se_squeeze, Trainable: True\n",
      "Layer 156: block6a_se_reshape, Trainable: True\n",
      "Layer 157: block6a_se_reduce, Trainable: True\n",
      "Layer 158: block6a_se_expand, Trainable: True\n",
      "Layer 159: block6a_se_excite, Trainable: True\n",
      "Layer 160: block6a_project_conv, Trainable: True\n",
      "Layer 161: block6a_project_bn, Trainable: True\n",
      "Layer 162: block6b_expand_conv, Trainable: True\n",
      "Layer 163: block6b_expand_bn, Trainable: True\n",
      "Layer 164: block6b_expand_activation, Trainable: True\n",
      "Layer 165: block6b_dwconv2, Trainable: True\n",
      "Layer 166: block6b_bn, Trainable: True\n",
      "Layer 167: block6b_activation, Trainable: True\n",
      "Layer 168: block6b_se_squeeze, Trainable: True\n",
      "Layer 169: block6b_se_reshape, Trainable: True\n",
      "Layer 170: block6b_se_reduce, Trainable: True\n",
      "Layer 171: block6b_se_expand, Trainable: True\n",
      "Layer 172: block6b_se_excite, Trainable: True\n",
      "Layer 173: block6b_project_conv, Trainable: True\n",
      "Layer 174: block6b_project_bn, Trainable: True\n",
      "Layer 175: block6b_drop, Trainable: True\n",
      "Layer 176: block6b_add, Trainable: True\n",
      "Layer 177: block6c_expand_conv, Trainable: True\n",
      "Layer 178: block6c_expand_bn, Trainable: True\n",
      "Layer 179: block6c_expand_activation, Trainable: True\n",
      "Layer 180: block6c_dwconv2, Trainable: True\n",
      "Layer 181: block6c_bn, Trainable: True\n",
      "Layer 182: block6c_activation, Trainable: True\n",
      "Layer 183: block6c_se_squeeze, Trainable: True\n",
      "Layer 184: block6c_se_reshape, Trainable: True\n",
      "Layer 185: block6c_se_reduce, Trainable: True\n",
      "Layer 186: block6c_se_expand, Trainable: True\n",
      "Layer 187: block6c_se_excite, Trainable: True\n",
      "Layer 188: block6c_project_conv, Trainable: True\n",
      "Layer 189: block6c_project_bn, Trainable: True\n",
      "Layer 190: block6c_drop, Trainable: True\n",
      "Layer 191: block6c_add, Trainable: True\n",
      "Layer 192: block6d_expand_conv, Trainable: True\n",
      "Layer 193: block6d_expand_bn, Trainable: True\n",
      "Layer 194: block6d_expand_activation, Trainable: True\n",
      "Layer 195: block6d_dwconv2, Trainable: True\n",
      "Layer 196: block6d_bn, Trainable: True\n",
      "Layer 197: block6d_activation, Trainable: True\n",
      "Layer 198: block6d_se_squeeze, Trainable: True\n",
      "Layer 199: block6d_se_reshape, Trainable: True\n",
      "Layer 200: block6d_se_reduce, Trainable: True\n",
      "Layer 201: block6d_se_expand, Trainable: True\n",
      "Layer 202: block6d_se_excite, Trainable: True\n",
      "Layer 203: block6d_project_conv, Trainable: True\n",
      "Layer 204: block6d_project_bn, Trainable: True\n",
      "Layer 205: block6d_drop, Trainable: True\n",
      "Layer 206: block6d_add, Trainable: True\n",
      "Layer 207: block6e_expand_conv, Trainable: True\n",
      "Layer 208: block6e_expand_bn, Trainable: True\n",
      "Layer 209: block6e_expand_activation, Trainable: True\n",
      "Layer 210: block6e_dwconv2, Trainable: True\n",
      "Layer 211: block6e_bn, Trainable: True\n",
      "Layer 212: block6e_activation, Trainable: True\n",
      "Layer 213: block6e_se_squeeze, Trainable: True\n",
      "Layer 214: block6e_se_reshape, Trainable: True\n",
      "Layer 215: block6e_se_reduce, Trainable: True\n",
      "Layer 216: block6e_se_expand, Trainable: True\n",
      "Layer 217: block6e_se_excite, Trainable: True\n",
      "Layer 218: block6e_project_conv, Trainable: True\n",
      "Layer 219: block6e_project_bn, Trainable: True\n",
      "Layer 220: block6e_drop, Trainable: True\n",
      "Layer 221: block6e_add, Trainable: True\n",
      "Layer 222: block6f_expand_conv, Trainable: True\n",
      "Layer 223: block6f_expand_bn, Trainable: True\n",
      "Layer 224: block6f_expand_activation, Trainable: True\n",
      "Layer 225: block6f_dwconv2, Trainable: True\n",
      "Layer 226: block6f_bn, Trainable: True\n",
      "Layer 227: block6f_activation, Trainable: True\n",
      "Layer 228: block6f_se_squeeze, Trainable: True\n",
      "Layer 229: block6f_se_reshape, Trainable: True\n",
      "Layer 230: block6f_se_reduce, Trainable: True\n",
      "Layer 231: block6f_se_expand, Trainable: True\n",
      "Layer 232: block6f_se_excite, Trainable: True\n",
      "Layer 233: block6f_project_conv, Trainable: True\n",
      "Layer 234: block6f_project_bn, Trainable: True\n",
      "Layer 235: block6f_drop, Trainable: True\n",
      "Layer 236: block6f_add, Trainable: True\n",
      "Layer 237: block6g_expand_conv, Trainable: True\n",
      "Layer 238: block6g_expand_bn, Trainable: True\n",
      "Layer 239: block6g_expand_activation, Trainable: True\n",
      "Layer 240: block6g_dwconv2, Trainable: True\n",
      "Layer 241: block6g_bn, Trainable: True\n",
      "Layer 242: block6g_activation, Trainable: True\n",
      "Layer 243: block6g_se_squeeze, Trainable: True\n",
      "Layer 244: block6g_se_reshape, Trainable: True\n",
      "Layer 245: block6g_se_reduce, Trainable: True\n",
      "Layer 246: block6g_se_expand, Trainable: True\n",
      "Layer 247: block6g_se_excite, Trainable: True\n",
      "Layer 248: block6g_project_conv, Trainable: True\n",
      "Layer 249: block6g_project_bn, Trainable: True\n",
      "Layer 250: block6g_drop, Trainable: True\n",
      "Layer 251: block6g_add, Trainable: True\n",
      "Layer 252: block6h_expand_conv, Trainable: True\n",
      "Layer 253: block6h_expand_bn, Trainable: True\n",
      "Layer 254: block6h_expand_activation, Trainable: True\n",
      "Layer 255: block6h_dwconv2, Trainable: True\n",
      "Layer 256: block6h_bn, Trainable: True\n",
      "Layer 257: block6h_activation, Trainable: True\n",
      "Layer 258: block6h_se_squeeze, Trainable: True\n",
      "Layer 259: block6h_se_reshape, Trainable: True\n",
      "Layer 260: block6h_se_reduce, Trainable: True\n",
      "Layer 261: block6h_se_expand, Trainable: True\n",
      "Layer 262: block6h_se_excite, Trainable: True\n",
      "Layer 263: block6h_project_conv, Trainable: True\n",
      "Layer 264: block6h_project_bn, Trainable: True\n",
      "Layer 265: block6h_drop, Trainable: True\n",
      "Layer 266: block6h_add, Trainable: True\n",
      "Layer 267: top_conv, Trainable: True\n",
      "Layer 268: top_bn, Trainable: True\n",
      "Layer 269: top_activation, Trainable: True\n"
     ]
    }
   ],
   "source": [
    "for i, layer in enumerate(base_model.layers):\n",
    "    print(f\"Layer {i}: {layer.name}, Trainable: {layer.trainable}\")"
   ]
  },
  {
   "cell_type": "code",
   "execution_count": 24,
   "id": "9085fba3",
   "metadata": {
    "execution": {
     "iopub.execute_input": "2024-12-27T06:53:02.900659Z",
     "iopub.status.busy": "2024-12-27T06:53:02.900448Z",
     "iopub.status.idle": "2024-12-27T06:53:03.661857Z",
     "shell.execute_reply": "2024-12-27T06:53:03.660947Z"
    },
    "id": "le6O7kGIw6h6",
    "outputId": "2817dbec-62eb-45cf-9994-5613dd869bd2",
    "papermill": {
     "duration": 0.778575,
     "end_time": "2024-12-27T06:53:03.663432",
     "exception": false,
     "start_time": "2024-12-27T06:53:02.884857",
     "status": "completed"
    },
    "tags": []
   },
   "outputs": [
    {
     "name": "stdout",
     "output_type": "stream",
     "text": [
      "Model: \"sequential\"\n",
      "_________________________________________________________________\n",
      " Layer (type)                Output Shape              Param #   \n",
      "=================================================================\n",
      " efficientnetv2-b0 (Function  (None, 7, 7, 1280)       5919312   \n",
      " al)                                                             \n",
      "                                                                 \n",
      " flatten (Flatten)           (None, 62720)             0         \n",
      "                                                                 \n",
      " dense (Dense)               (None, 3)                 188163    \n",
      "                                                                 \n",
      "=================================================================\n",
      "Total params: 6,107,475\n",
      "Trainable params: 6,046,867\n",
      "Non-trainable params: 60,608\n",
      "_________________________________________________________________\n"
     ]
    }
   ],
   "source": [
    "model = Sequential([\n",
    "    base_model,\n",
    "    Flatten(),\n",
    "    Dense(3, activation='softmax')\n",
    "])\n",
    "model.summary()"
   ]
  },
  {
   "cell_type": "code",
   "execution_count": 25,
   "id": "532f2b53",
   "metadata": {
    "execution": {
     "iopub.execute_input": "2024-12-27T06:53:03.696682Z",
     "iopub.status.busy": "2024-12-27T06:53:03.696428Z",
     "iopub.status.idle": "2024-12-27T06:53:03.961357Z",
     "shell.execute_reply": "2024-12-27T06:53:03.960651Z"
    },
    "id": "kIpnFMMF2scs",
    "outputId": "12ed09a6-e767-4211-daf8-ac45ffbaeca2",
    "papermill": {
     "duration": 0.283455,
     "end_time": "2024-12-27T06:53:03.963121",
     "exception": false,
     "start_time": "2024-12-27T06:53:03.679666",
     "status": "completed"
    },
    "tags": []
   },
   "outputs": [
    {
     "data": {
      "image/png": "[encoded data removed]",
      "text/plain": [
       "<IPython.core.display.Image object>"
      ]
     },
     "execution_count": 25,
     "metadata": {},
     "output_type": "execute_result"
    }
   ],
   "source": [
    "from tensorflow.keras.utils import plot_model\n",
    "from IPython.display import Image\n",
    "plot_model(model, to_file='convnet.png', show_shapes=True,show_layer_names=True)\n",
    "Image(filename='convnet.png')"
   ]
  },
  {
   "cell_type": "code",
   "execution_count": 26,
   "id": "059a99b8",
   "metadata": {
    "execution": {
     "iopub.execute_input": "2024-12-27T06:53:04.000367Z",
     "iopub.status.busy": "2024-12-27T06:53:04.000097Z",
     "iopub.status.idle": "2024-12-27T06:53:04.015056Z",
     "shell.execute_reply": "2024-12-27T06:53:04.014223Z"
    },
    "id": "CMtjjQwmaBjC",
    "papermill": {
     "duration": 0.035758,
     "end_time": "2024-12-27T06:53:04.016366",
     "exception": false,
     "start_time": "2024-12-27T06:53:03.980608",
     "status": "completed"
    },
    "tags": []
   },
   "outputs": [],
   "source": [
    "model.compile(\n",
    "    loss=\"categorical_crossentropy\",\n",
    "    optimizer=Adam(learning_rate=0.0005),\n",
    "    metrics=METRICS\n",
    ")"
   ]
  },
  {
   "cell_type": "code",
   "execution_count": 27,
   "id": "ddac3859",
   "metadata": {
    "execution": {
     "iopub.execute_input": "2024-12-27T06:53:04.050455Z",
     "iopub.status.busy": "2024-12-27T06:53:04.050210Z",
     "iopub.status.idle": "2024-12-27T06:53:04.053644Z",
     "shell.execute_reply": "2024-12-27T06:53:04.052929Z"
    },
    "id": "9Zjmg5poaBjC",
    "papermill": {
     "duration": 0.021844,
     "end_time": "2024-12-27T06:53:04.054742",
     "exception": false,
     "start_time": "2024-12-27T06:53:04.032898",
     "status": "completed"
    },
    "tags": []
   },
   "outputs": [],
   "source": [
    "callbacks = [\n",
    "    ModelCheckpoint(\"best_model.keras\", monitor=\"val_accuracy\", save_best_only=True, verbose=1),\n",
    "    EarlyStopping(monitor=\"val_loss\", patience=5, verbose=1, restore_best_weights=True)\n",
    "]"
   ]
  },
  {
   "cell_type": "code",
   "execution_count": 28,
   "id": "c0db7ded",
   "metadata": {
    "execution": {
     "iopub.execute_input": "2024-12-27T06:53:04.088475Z",
     "iopub.status.busy": "2024-12-27T06:53:04.088260Z",
     "iopub.status.idle": "2024-12-27T07:07:49.268615Z",
     "shell.execute_reply": "2024-12-27T07:07:49.267644Z"
    },
    "id": "zgcn2wlOaBjD",
    "outputId": "3847af9f-0cc6-453c-fdf3-9bf4f82c2f62",
    "papermill": {
     "duration": 885.198628,
     "end_time": "2024-12-27T07:07:49.269879",
     "exception": false,
     "start_time": "2024-12-27T06:53:04.071251",
     "status": "completed"
    },
    "tags": []
   },
   "outputs": [
    {
     "name": "stdout",
     "output_type": "stream",
     "text": [
      "Epoch 1/35\n",
      "48/48 [==============================] - ETA: 0s - loss: 0.5954 - accuracy: 0.8540 - precision: 0.8543 - recall: 0.8488 - auc: 0.9536 - f1_score: 0.8540\n",
      "Epoch 1: val_accuracy improved from -inf to 0.82648, saving model to best_model.keras\n",
      "48/48 [==============================] - 91s 2s/step - loss: 0.5954 - accuracy: 0.8540 - precision: 0.8543 - recall: 0.8488 - auc: 0.9536 - f1_score: 0.8540 - val_loss: 1.0054 - val_accuracy: 0.8265 - val_precision: 0.8287 - val_recall: 0.8174 - val_auc: 0.9297 - val_f1_score: 0.8265\n",
      "Epoch 2/35\n",
      "48/48 [==============================] - ETA: 0s - loss: 0.1884 - accuracy: 0.9426 - precision: 0.9451 - recall: 0.9426 - auc: 0.9906 - f1_score: 0.9426\n",
      "Epoch 2: val_accuracy improved from 0.82648 to 0.98630, saving model to best_model.keras\n",
      "48/48 [==============================] - 80s 2s/step - loss: 0.1884 - accuracy: 0.9426 - precision: 0.9451 - recall: 0.9426 - auc: 0.9906 - f1_score: 0.9426 - val_loss: 0.0787 - val_accuracy: 0.9863 - val_precision: 0.9863 - val_recall: 0.9863 - val_auc: 0.9963 - val_f1_score: 0.9863\n",
      "Epoch 3/35\n",
      "48/48 [==============================] - ETA: 0s - loss: 0.0384 - accuracy: 0.9870 - precision: 0.9870 - recall: 0.9870 - auc: 0.9988 - f1_score: 0.9870\n",
      "Epoch 3: val_accuracy did not improve from 0.98630\n",
      "48/48 [==============================] - 80s 2s/step - loss: 0.0384 - accuracy: 0.9870 - precision: 0.9870 - recall: 0.9870 - auc: 0.9988 - f1_score: 0.9870 - val_loss: 0.0559 - val_accuracy: 0.9863 - val_precision: 0.9863 - val_recall: 0.9863 - val_auc: 0.9962 - val_f1_score: 0.9863\n",
      "Epoch 4/35\n",
      "48/48 [==============================] - ETA: 0s - loss: 0.0086 - accuracy: 0.9948 - precision: 0.9948 - recall: 0.9948 - auc: 1.0000 - f1_score: 0.9948\n",
      "Epoch 4: val_accuracy did not improve from 0.98630\n",
      "48/48 [==============================] - 79s 2s/step - loss: 0.0086 - accuracy: 0.9948 - precision: 0.9948 - recall: 0.9948 - auc: 1.0000 - f1_score: 0.9948 - val_loss: 0.0998 - val_accuracy: 0.9680 - val_precision: 0.9680 - val_recall: 0.9680 - val_auc: 0.9961 - val_f1_score: 0.9680\n",
      "Epoch 5/35\n",
      "48/48 [==============================] - ETA: 0s - loss: 0.0059 - accuracy: 1.0000 - precision: 1.0000 - recall: 1.0000 - auc: 1.0000 - f1_score: 1.0000\n",
      "Epoch 5: val_accuracy improved from 0.98630 to 0.99087, saving model to best_model.keras\n",
      "48/48 [==============================] - 81s 2s/step - loss: 0.0059 - accuracy: 1.0000 - precision: 1.0000 - recall: 1.0000 - auc: 1.0000 - f1_score: 1.0000 - val_loss: 0.0844 - val_accuracy: 0.9909 - val_precision: 0.9909 - val_recall: 0.9909 - val_auc: 0.9965 - val_f1_score: 0.9909\n",
      "Epoch 6/35\n",
      "48/48 [==============================] - ETA: 0s - loss: 0.0022 - accuracy: 0.9987 - precision: 0.9987 - recall: 0.9987 - auc: 1.0000 - f1_score: 0.9987\n",
      "Epoch 6: val_accuracy did not improve from 0.99087\n",
      "48/48 [==============================] - 80s 2s/step - loss: 0.0022 - accuracy: 0.9987 - precision: 0.9987 - recall: 0.9987 - auc: 1.0000 - f1_score: 0.9987 - val_loss: 0.0517 - val_accuracy: 0.9726 - val_precision: 0.9726 - val_recall: 0.9726 - val_auc: 0.9996 - val_f1_score: 0.9726\n",
      "Epoch 7/35\n",
      "48/48 [==============================] - ETA: 0s - loss: 0.0612 - accuracy: 0.9831 - precision: 0.9831 - recall: 0.9831 - auc: 0.9977 - f1_score: 0.9831\n",
      "Epoch 7: val_accuracy did not improve from 0.99087\n",
      "48/48 [==============================] - 78s 2s/step - loss: 0.0612 - accuracy: 0.9831 - precision: 0.9831 - recall: 0.9831 - auc: 0.9977 - f1_score: 0.9831 - val_loss: 0.3986 - val_accuracy: 0.9452 - val_precision: 0.9452 - val_recall: 0.9452 - val_auc: 0.9676 - val_f1_score: 0.9452\n",
      "Epoch 8/35\n",
      "48/48 [==============================] - ETA: 0s - loss: 0.1372 - accuracy: 0.9752 - precision: 0.9752 - recall: 0.9752 - auc: 0.9910 - f1_score: 0.9752\n",
      "Epoch 8: val_accuracy did not improve from 0.99087\n",
      "48/48 [==============================] - 77s 2s/step - loss: 0.1372 - accuracy: 0.9752 - precision: 0.9752 - recall: 0.9752 - auc: 0.9910 - f1_score: 0.9752 - val_loss: 0.0846 - val_accuracy: 0.9726 - val_precision: 0.9726 - val_recall: 0.9726 - val_auc: 0.9981 - val_f1_score: 0.9726\n",
      "Epoch 9/35\n",
      "48/48 [==============================] - ETA: 0s - loss: 0.0703 - accuracy: 0.9765 - precision: 0.9765 - recall: 0.9765 - auc: 0.9983 - f1_score: 0.9765\n",
      "Epoch 9: val_accuracy did not improve from 0.99087\n",
      "48/48 [==============================] - 77s 2s/step - loss: 0.0703 - accuracy: 0.9765 - precision: 0.9765 - recall: 0.9765 - auc: 0.9983 - f1_score: 0.9765 - val_loss: 0.1897 - val_accuracy: 0.9680 - val_precision: 0.9680 - val_recall: 0.9680 - val_auc: 0.9829 - val_f1_score: 0.9680\n",
      "Epoch 10/35\n",
      "48/48 [==============================] - ETA: 0s - loss: 0.1061 - accuracy: 0.9752 - precision: 0.9752 - recall: 0.9752 - auc: 0.9937 - f1_score: 0.9752\n",
      "Epoch 10: val_accuracy did not improve from 0.99087\n",
      "48/48 [==============================] - 76s 2s/step - loss: 0.1061 - accuracy: 0.9752 - precision: 0.9752 - recall: 0.9752 - auc: 0.9937 - f1_score: 0.9752 - val_loss: 0.2271 - val_accuracy: 0.9726 - val_precision: 0.9726 - val_recall: 0.9726 - val_auc: 0.9891 - val_f1_score: 0.9726\n",
      "Epoch 11/35\n",
      "48/48 [==============================] - ETA: 0s - loss: 0.0888 - accuracy: 0.9791 - precision: 0.9791 - recall: 0.9791 - auc: 0.9948 - f1_score: 0.9791\n",
      "Epoch 11: val_accuracy did not improve from 0.99087\n",
      "Restoring model weights from the end of the best epoch: 6.\n",
      "48/48 [==============================] - 79s 2s/step - loss: 0.0888 - accuracy: 0.9791 - precision: 0.9791 - recall: 0.9791 - auc: 0.9948 - f1_score: 0.9791 - val_loss: 0.2382 - val_accuracy: 0.9498 - val_precision: 0.9498 - val_recall: 0.9498 - val_auc: 0.9932 - val_f1_score: 0.9498\n",
      "Epoch 11: early stopping\n"
     ]
    }
   ],
   "source": [
    "history = model.fit(\n",
    "    train_generator,\n",
    "    validation_data=validation_generator,\n",
    "    epochs=35,\n",
    "    callbacks=callbacks,\n",
    "        verbose=1\n",
    "    #  , class_weight=class_weights\n",
    ")"
   ]
  },
  {
   "cell_type": "code",
   "execution_count": 29,
   "id": "1e7f3d94",
   "metadata": {
    "execution": {
     "iopub.execute_input": "2024-12-27T07:07:49.355625Z",
     "iopub.status.busy": "2024-12-27T07:07:49.355329Z",
     "iopub.status.idle": "2024-12-27T07:07:50.158025Z",
     "shell.execute_reply": "2024-12-27T07:07:50.157177Z"
    },
    "id": "kE8Q1PqGaBjD",
    "papermill": {
     "duration": 0.847217,
     "end_time": "2024-12-27T07:07:50.159556",
     "exception": false,
     "start_time": "2024-12-27T07:07:49.312339",
     "status": "completed"
    },
    "tags": []
   },
   "outputs": [
    {
     "data": {
      "image/png": "[encoded data removed]",
      "text/plain": [
       "<Figure size 2200x500 with 5 Axes>"
      ]
     },
     "metadata": {},
     "output_type": "display_data"
    }
   ],
   "source": [
    "def Train_Val_Plot(acc, val_acc, loss, val_loss, auc, val_auc, precision, val_precision, f1, val_f1):\n",
    "\n",
    "    fig, (ax1, ax2, ax3, ax4, ax5) = plt.subplots(1, 5, figsize=(22, 5))\n",
    "    fig.suptitle(\" MODEL'S METRICS VISUALIZATION \")\n",
    "\n",
    "    # Rescale the y-axis for accuracy, auc, precision, and f1\n",
    "    rescale_factor = 0  # Adjust this factor to control the rescaling\n",
    "\n",
    "    ax1.plot(range(1, len(acc) + 1), acc)\n",
    "    ax1.plot(range(1, len(val_acc) + 1), val_acc)\n",
    "    ax1.set_title('History of Accuracy')\n",
    "    ax1.set_xlabel('Epochs')\n",
    "    ax1.set_ylabel('Accuracy')\n",
    "    ax1.set_ylim([0, 1.0])\n",
    "    ax1.legend(['training', 'validation'])\n",
    "\n",
    "    ax2.plot(range(1, len(loss) + 1), loss)\n",
    "    ax2.plot(range(1, len(val_loss) + 1), val_loss)\n",
    "    ax2.set_title('History of Loss')\n",
    "    ax2.set_xlabel('Epochs')\n",
    "    ax2.set_ylabel('Loss')\n",
    "    ax2.legend(['training', 'validation'])\n",
    "\n",
    "    ax3.plot(range(1, len(auc) + 1), auc)\n",
    "    ax3.plot(range(1, len(val_auc) + 1), val_auc)\n",
    "    ax3.set_title('History of AUC')\n",
    "    ax3.set_xlabel('Epochs')\n",
    "    ax3.set_ylabel('AUC')\n",
    "    ax3.set_ylim([rescale_factor, 1.0])\n",
    "    ax3.legend(['training', 'validation'])\n",
    "\n",
    "    ax4.plot(range(1, len(precision) + 1), precision)\n",
    "    ax4.plot(range(1, len(val_precision) + 1), val_precision)\n",
    "    ax4.set_title('History of Precision')\n",
    "    ax4.set_xlabel('Epochs')\n",
    "    ax4.set_ylabel('Precision')\n",
    "    ax4.set_ylim([rescale_factor, 1.0])\n",
    "    ax4.legend(['training', 'validation'])\n",
    "\n",
    "    ax5.plot(range(1, len(f1) + 1), f1)\n",
    "    ax5.plot(range(1, len(val_f1) + 1), val_f1)\n",
    "    ax5.set_title('History of F1-score')\n",
    "    ax5.set_xlabel('Epochs')\n",
    "    ax5.set_ylabel('F1 score')\n",
    "    ax5.set_ylim([rescale_factor, 1.0])\n",
    "    ax5.legend(['training', 'validation'])\n",
    "\n",
    "    plt.show()\n",
    "\n",
    "# Example usage:\n",
    "Train_Val_Plot(history.history['accuracy'], history.history['val_accuracy'],\n",
    "               history.history['loss'], history.history['val_loss']\n",
    "               ,\n",
    "               history.history['auc'], history.history['val_auc'],\n",
    "               history.history['precision'], history.history['val_precision'],\n",
    "               history.history['f1_score'], history.history['val_f1_score'])\n"
   ]
  },
  {
   "cell_type": "code",
   "execution_count": 30,
   "id": "528bb3a3",
   "metadata": {
    "execution": {
     "iopub.execute_input": "2024-12-27T07:07:50.250916Z",
     "iopub.status.busy": "2024-12-27T07:07:50.250644Z",
     "iopub.status.idle": "2024-12-27T07:07:52.894758Z",
     "shell.execute_reply": "2024-12-27T07:07:52.893971Z"
    },
    "id": "utE8sko2aBjD",
    "papermill": {
     "duration": 2.691809,
     "end_time": "2024-12-27T07:07:52.895960",
     "exception": false,
     "start_time": "2024-12-27T07:07:50.204151",
     "status": "completed"
    },
    "tags": []
   },
   "outputs": [
    {
     "name": "stdout",
     "output_type": "stream",
     "text": [
      "7/7 [==============================] - 2s 294ms/step - loss: 0.0681 - accuracy: 0.9730 - precision: 0.9730 - recall: 0.9730 - auc: 0.9993 - f1_score: 0.9730\n"
     ]
    },
    {
     "data": {
      "text/plain": [
       "[0.06814209371805191,\n",
       " 0.9729729890823364,\n",
       " 0.9729729890823364,\n",
       " 0.9729729890823364,\n",
       " 0.9992696046829224,\n",
       " 0.9729729890823364]"
      ]
     },
     "execution_count": 30,
     "metadata": {},
     "output_type": "execute_result"
    }
   ],
   "source": [
    "model.evaluate(test_generator)"
   ]
  },
  {
   "cell_type": "code",
   "execution_count": 31,
   "id": "fe56383a",
   "metadata": {
    "execution": {
     "iopub.execute_input": "2024-12-27T07:07:52.985260Z",
     "iopub.status.busy": "2024-12-27T07:07:52.984942Z",
     "iopub.status.idle": "2024-12-27T07:07:59.300829Z",
     "shell.execute_reply": "2024-12-27T07:07:59.299910Z"
    },
    "id": "z0kvictcppHg",
    "papermill": {
     "duration": 6.361187,
     "end_time": "2024-12-27T07:07:59.302007",
     "exception": false,
     "start_time": "2024-12-27T07:07:52.940820",
     "status": "completed"
    },
    "tags": []
   },
   "outputs": [
    {
     "name": "stdout",
     "output_type": "stream",
     "text": [
      "7/7 [==============================] - 6s 592ms/step\n",
      "              precision    recall  f1-score   support\n",
      "\n",
      "           0       0.82      0.96      0.88        24\n",
      "           1       1.00      1.00      1.00       112\n",
      "           2       0.99      0.94      0.96        83\n",
      "\n",
      "    accuracy                           0.97       219\n",
      "   macro avg       0.94      0.97      0.95       219\n",
      "weighted avg       0.98      0.97      0.97       219\n",
      "\n"
     ]
    }
   ],
   "source": [
    "# Load the test dataset\n",
    "X_test, y_test = [], []\n",
    "for i in range(len(validation_generator)):\n",
    "    batch_X, batch_y = validation_generator[i]\n",
    "    X_test.append(batch_X)\n",
    "    y_test.append(batch_y)\n",
    "X_test = np.concatenate(X_test)\n",
    "y_test = np.concatenate(y_test)\n",
    "\n",
    "# Make predictions on the test set\n",
    "y_pred = model.predict(X_test)\n",
    "\n",
    "# Convert the one-hot encoded predictions to class labels\n",
    "y_pred_classes = np.argmax(y_pred, axis=1)\n",
    "\n",
    "# Convert the one-hot encoded true labels to class labels\n",
    "y_true_classes = np.argmax(y_test, axis=1)\n",
    "\n",
    "# Create a classification report\n",
    "report = classification_report(y_true_classes, y_pred_classes)\n",
    "\n",
    "print(report)"
   ]
  },
  {
   "cell_type": "code",
   "execution_count": 32,
   "id": "624db375",
   "metadata": {
    "execution": {
     "iopub.execute_input": "2024-12-27T07:07:59.391318Z",
     "iopub.status.busy": "2024-12-27T07:07:59.390973Z",
     "iopub.status.idle": "2024-12-27T07:07:59.574475Z",
     "shell.execute_reply": "2024-12-27T07:07:59.573385Z"
    },
    "id": "1oDQrOfqpz_i",
    "papermill": {
     "duration": 0.230499,
     "end_time": "2024-12-27T07:07:59.577236",
     "exception": false,
     "start_time": "2024-12-27T07:07:59.346737",
     "status": "completed"
    },
    "tags": []
   },
   "outputs": [
    {
     "data": {
      "image/png": "[encoded data removed]",
      "text/plain": [
       "<Figure size 800x600 with 2 Axes>"
      ]
     },
     "metadata": {},
     "output_type": "display_data"
    }
   ],
   "source": [
    "\n",
    "class_names = ['bengin', 'malignant', 'normal']\n",
    "# Create a confusion matrix\n",
    "cm = confusion_matrix(y_true_classes, y_pred_classes)\n",
    "\n",
    "# Plotting the Confusion Matrix\n",
    "plt.figure(figsize=(8, 6))\n",
    "sns.heatmap(cm, annot=True, fmt='d', cmap='Blues', xticklabels=class_names, yticklabels=class_names)\n",
    "plt.xlabel('Predicted')\n",
    "plt.ylabel('True')\n",
    "plt.title('Confusion Matrix')\n",
    "plt.show()\n"
   ]
  }
 ],
 "metadata": {
  "accelerator": "TPU",
  "colab": {
   "gpuType": "V28",
   "provenance": []
  },
  "kaggle": {
   "accelerator": "gpu",
   "dataSources": [
    {
     "datasetId": 6379787,
     "sourceId": 10306236,
     "sourceType": "datasetVersion"
    }
   ],
   "isGpuEnabled": true,
   "isInternetEnabled": true,
   "language": "python",
   "sourceType": "notebook"
  },
  "kernelspec": {
   "display_name": "Python 3",
   "name": "python3"
  },
  "language_info": {
   "codemirror_mode": {
    "name": "ipython",
    "version": 3
   },
   "file_extension": ".py",
   "mimetype": "text/x-python",
   "name": "python",
   "nbconvert_exporter": "python",
   "pygments_lexer": "ipython3",
   "version": "3.10.12"
  },
  "papermill": {
   "default_parameters": {},
   "duration": 994.731255,
   "end_time": "2024-12-27T07:08:02.048675",
   "environment_variables": {},
   "exception": null,
   "input_path": "__notebook__.ipynb",
   "output_path": "__notebook__.ipynb",
   "parameters": {},
   "start_time": "2024-12-27T06:51:27.317420",
   "version": "2.6.0"
  }
 },
 "nbformat": 4,
 "nbformat_minor": 5
}
