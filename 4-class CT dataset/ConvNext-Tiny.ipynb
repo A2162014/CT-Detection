{
 "cells": [
  {
   "cell_type": "code",
   "execution_count": 1,
   "id": "4f6b459f",
   "metadata": {
    "execution": {
     "iopub.execute_input": "2024-12-01T14:11:47.079889Z",
     "iopub.status.busy": "2024-12-01T14:11:47.079544Z",
     "iopub.status.idle": "2024-12-01T14:13:07.225226Z",
     "shell.execute_reply": "2024-12-01T14:13:07.224058Z"
    },
    "id": "Uo5cnMMVkADq",
    "outputId": "231e2f3d-9c2d-4f60-9d2b-76d814d5ad00",
    "papermill": {
     "duration": 80.155538,
     "end_time": "2024-12-01T14:13:07.227357",
     "exception": false,
     "start_time": "2024-12-01T14:11:47.071819",
     "status": "completed"
    },
    "tags": []
   },
   "outputs": [
    {
     "name": "stdout",
     "output_type": "stream",
     "text": [
      "Collecting tensorflow==2.12.0\r\n",
      "  Downloading tensorflow-2.12.0-cp310-cp310-manylinux_2_17_x86_64.manylinux2014_x86_64.whl.metadata (3.4 kB)\r\n",
      "Requirement already satisfied: absl-py>=1.0.0 in /opt/conda/lib/python3.10/site-packages (from tensorflow==2.12.0) (1.4.0)\r\n",
      "Requirement already satisfied: astunparse>=1.6.0 in /opt/conda/lib/python3.10/site-packages (from tensorflow==2.12.0) (1.6.3)\r\n",
      "Requirement already satisfied: flatbuffers>=2.0 in /opt/conda/lib/python3.10/site-packages (from tensorflow==2.12.0) (24.3.25)\r\n",
      "Collecting gast<=0.4.0,>=0.2.1 (from tensorflow==2.12.0)\r\n",
      "  Downloading gast-0.4.0-py3-none-any.whl.metadata (1.1 kB)\r\n",
      "Requirement already satisfied: google-pasta>=0.1.1 in /opt/conda/lib/python3.10/site-packages (from tensorflow==2.12.0) (0.2.0)\r\n",
      "Requirement already satisfied: grpcio<2.0,>=1.24.3 in /opt/conda/lib/python3.10/site-packages (from tensorflow==2.12.0) (1.62.2)\r\n",
      "Requirement already satisfied: h5py>=2.9.0 in /opt/conda/lib/python3.10/site-packages (from tensorflow==2.12.0) (3.11.0)\r\n",
      "Requirement already satisfied: jax>=0.3.15 in /opt/conda/lib/python3.10/site-packages (from tensorflow==2.12.0) (0.4.26)\r\n",
      "Collecting keras<2.13,>=2.12.0 (from tensorflow==2.12.0)\r\n",
      "  Downloading keras-2.12.0-py2.py3-none-any.whl.metadata (1.4 kB)\r\n",
      "Requirement already satisfied: libclang>=13.0.0 in /opt/conda/lib/python3.10/site-packages (from tensorflow==2.12.0) (18.1.1)\r\n",
      "Collecting numpy<1.24,>=1.22 (from tensorflow==2.12.0)\r\n",
      "  Downloading numpy-1.23.5-cp310-cp310-manylinux_2_17_x86_64.manylinux2014_x86_64.whl.metadata (2.3 kB)\r\n",
      "Requirement already satisfied: opt-einsum>=2.3.2 in /opt/conda/lib/python3.10/site-packages (from tensorflow==2.12.0) (3.3.0)\r\n",
      "Requirement already satisfied: packaging in /opt/conda/lib/python3.10/site-packages (from tensorflow==2.12.0) (21.3)\r\n",
      "Requirement already satisfied: protobuf!=4.21.0,!=4.21.1,!=4.21.2,!=4.21.3,!=4.21.4,!=4.21.5,<5.0.0dev,>=3.20.3 in /opt/conda/lib/python3.10/site-packages (from tensorflow==2.12.0) (3.20.3)\r\n",
      "Requirement already satisfied: setuptools in /opt/conda/lib/python3.10/site-packages (from tensorflow==2.12.0) (70.0.0)\r\n",
      "Requirement already satisfied: six>=1.12.0 in /opt/conda/lib/python3.10/site-packages (from tensorflow==2.12.0) (1.16.0)\r\n",
      "Collecting tensorboard<2.13,>=2.12 (from tensorflow==2.12.0)\r\n",
      "  Downloading tensorboard-2.12.3-py3-none-any.whl.metadata (1.8 kB)\r\n",
      "Collecting tensorflow-estimator<2.13,>=2.12.0 (from tensorflow==2.12.0)\r\n",
      "  Downloading tensorflow_estimator-2.12.0-py2.py3-none-any.whl.metadata (1.3 kB)\r\n",
      "Requirement already satisfied: termcolor>=1.1.0 in /opt/conda/lib/python3.10/site-packages (from tensorflow==2.12.0) (2.4.0)\r\n",
      "Requirement already satisfied: typing-extensions>=3.6.6 in /opt/conda/lib/python3.10/site-packages (from tensorflow==2.12.0) (4.12.2)\r\n",
      "Collecting wrapt<1.15,>=1.11.0 (from tensorflow==2.12.0)\r\n",
      "  Downloading wrapt-1.14.1-cp310-cp310-manylinux_2_5_x86_64.manylinux1_x86_64.manylinux_2_17_x86_64.manylinux2014_x86_64.whl.metadata (6.7 kB)\r\n",
      "Requirement already satisfied: tensorflow-io-gcs-filesystem>=0.23.1 in /opt/conda/lib/python3.10/site-packages (from tensorflow==2.12.0) (0.37.0)\r\n",
      "Requirement already satisfied: wheel<1.0,>=0.23.0 in /opt/conda/lib/python3.10/site-packages (from astunparse>=1.6.0->tensorflow==2.12.0) (0.43.0)\r\n",
      "Requirement already satisfied: ml-dtypes>=0.2.0 in /opt/conda/lib/python3.10/site-packages (from jax>=0.3.15->tensorflow==2.12.0) (0.3.2)\r\n",
      "Requirement already satisfied: scipy>=1.9 in /opt/conda/lib/python3.10/site-packages (from jax>=0.3.15->tensorflow==2.12.0) (1.14.1)\r\n",
      "Requirement already satisfied: google-auth<3,>=1.6.3 in /opt/conda/lib/python3.10/site-packages (from tensorboard<2.13,>=2.12->tensorflow==2.12.0) (2.30.0)\r\n",
      "Collecting google-auth-oauthlib<1.1,>=0.5 (from tensorboard<2.13,>=2.12->tensorflow==2.12.0)\r\n",
      "  Downloading google_auth_oauthlib-1.0.0-py2.py3-none-any.whl.metadata (2.7 kB)\r\n",
      "Requirement already satisfied: markdown>=2.6.8 in /opt/conda/lib/python3.10/site-packages (from tensorboard<2.13,>=2.12->tensorflow==2.12.0) (3.6)\r\n",
      "Requirement already satisfied: requests<3,>=2.21.0 in /opt/conda/lib/python3.10/site-packages (from tensorboard<2.13,>=2.12->tensorflow==2.12.0) (2.32.3)\r\n",
      "Requirement already satisfied: tensorboard-data-server<0.8.0,>=0.7.0 in /opt/conda/lib/python3.10/site-packages (from tensorboard<2.13,>=2.12->tensorflow==2.12.0) (0.7.2)\r\n",
      "Requirement already satisfied: werkzeug>=1.0.1 in /opt/conda/lib/python3.10/site-packages (from tensorboard<2.13,>=2.12->tensorflow==2.12.0) (3.0.4)\r\n",
      "Requirement already satisfied: pyparsing!=3.0.5,>=2.0.2 in /opt/conda/lib/python3.10/site-packages (from packaging->tensorflow==2.12.0) (3.1.2)\r\n",
      "Requirement already satisfied: cachetools<6.0,>=2.0.0 in /opt/conda/lib/python3.10/site-packages (from google-auth<3,>=1.6.3->tensorboard<2.13,>=2.12->tensorflow==2.12.0) (4.2.4)\r\n",
      "Requirement already satisfied: pyasn1-modules>=0.2.1 in /opt/conda/lib/python3.10/site-packages (from google-auth<3,>=1.6.3->tensorboard<2.13,>=2.12->tensorflow==2.12.0) (0.4.0)\r\n",
      "Requirement already satisfied: rsa<5,>=3.1.4 in /opt/conda/lib/python3.10/site-packages (from google-auth<3,>=1.6.3->tensorboard<2.13,>=2.12->tensorflow==2.12.0) (4.9)\r\n",
      "Requirement already satisfied: requests-oauthlib>=0.7.0 in /opt/conda/lib/python3.10/site-packages (from google-auth-oauthlib<1.1,>=0.5->tensorboard<2.13,>=2.12->tensorflow==2.12.0) (2.0.0)\r\n",
      "Requirement already satisfied: charset-normalizer<4,>=2 in /opt/conda/lib/python3.10/site-packages (from requests<3,>=2.21.0->tensorboard<2.13,>=2.12->tensorflow==2.12.0) (3.3.2)\r\n",
      "Requirement already satisfied: idna<4,>=2.5 in /opt/conda/lib/python3.10/site-packages (from requests<3,>=2.21.0->tensorboard<2.13,>=2.12->tensorflow==2.12.0) (3.7)\r\n",
      "Requirement already satisfied: urllib3<3,>=1.21.1 in /opt/conda/lib/python3.10/site-packages (from requests<3,>=2.21.0->tensorboard<2.13,>=2.12->tensorflow==2.12.0) (1.26.18)\r\n",
      "Requirement already satisfied: certifi>=2017.4.17 in /opt/conda/lib/python3.10/site-packages (from requests<3,>=2.21.0->tensorboard<2.13,>=2.12->tensorflow==2.12.0) (2024.8.30)\r\n",
      "Requirement already satisfied: MarkupSafe>=2.1.1 in /opt/conda/lib/python3.10/site-packages (from werkzeug>=1.0.1->tensorboard<2.13,>=2.12->tensorflow==2.12.0) (2.1.5)\r\n",
      "Requirement already satisfied: pyasn1<0.7.0,>=0.4.6 in /opt/conda/lib/python3.10/site-packages (from pyasn1-modules>=0.2.1->google-auth<3,>=1.6.3->tensorboard<2.13,>=2.12->tensorflow==2.12.0) (0.6.0)\r\n",
      "Requirement already satisfied: oauthlib>=3.0.0 in /opt/conda/lib/python3.10/site-packages (from requests-oauthlib>=0.7.0->google-auth-oauthlib<1.1,>=0.5->tensorboard<2.13,>=2.12->tensorflow==2.12.0) (3.2.2)\r\n",
      "Downloading tensorflow-2.12.0-cp310-cp310-manylinux_2_17_x86_64.manylinux2014_x86_64.whl (585.9 MB)\r\n",
      "\u001b[2K   \u001b[90m━━━━━━━━━━━━━━━━━━━━━━━━━━━━━━━━━━━━━━━━\u001b[0m \u001b[32m585.9/585.9 MB\u001b[0m \u001b[31m3.0 MB/s\u001b[0m eta \u001b[36m0:00:00\u001b[0m\r\n",
      "\u001b[?25hDownloading gast-0.4.0-py3-none-any.whl (9.8 kB)\r\n",
      "Downloading keras-2.12.0-py2.py3-none-any.whl (1.7 MB)\r\n",
      "\u001b[2K   \u001b[90m━━━━━━━━━━━━━━━━━━━━━━━━━━━━━━━━━━━━━━━━\u001b[0m \u001b[32m1.7/1.7 MB\u001b[0m \u001b[31m63.0 MB/s\u001b[0m eta \u001b[36m0:00:00\u001b[0m\r\n",
      "\u001b[?25hDownloading numpy-1.23.5-cp310-cp310-manylinux_2_17_x86_64.manylinux2014_x86_64.whl (17.1 MB)\r\n",
      "\u001b[2K   \u001b[90m━━━━━━━━━━━━━━━━━━━━━━━━━━━━━━━━━━━━━━━━\u001b[0m \u001b[32m17.1/17.1 MB\u001b[0m \u001b[31m90.0 MB/s\u001b[0m eta \u001b[36m0:00:00\u001b[0m\r\n",
      "\u001b[?25hDownloading tensorboard-2.12.3-py3-none-any.whl (5.6 MB)\r\n",
      "\u001b[2K   \u001b[90m━━━━━━━━━━━━━━━━━━━━━━━━━━━━━━━━━━━━━━━━\u001b[0m \u001b[32m5.6/5.6 MB\u001b[0m \u001b[31m96.0 MB/s\u001b[0m eta \u001b[36m0:00:00\u001b[0m\r\n",
      "\u001b[?25hDownloading tensorflow_estimator-2.12.0-py2.py3-none-any.whl (440 kB)\r\n",
      "\u001b[2K   \u001b[90m━━━━━━━━━━━━━━━━━━━━━━━━━━━━━━━━━━━━━━━━\u001b[0m \u001b[32m440.7/440.7 kB\u001b[0m \u001b[31m26.9 MB/s\u001b[0m eta \u001b[36m0:00:00\u001b[0m\r\n",
      "\u001b[?25hDownloading wrapt-1.14.1-cp310-cp310-manylinux_2_5_x86_64.manylinux1_x86_64.manylinux_2_17_x86_64.manylinux2014_x86_64.whl (77 kB)\r\n",
      "\u001b[2K   \u001b[90m━━━━━━━━━━━━━━━━━━━━━━━━━━━━━━━━━━━━━━━━\u001b[0m \u001b[32m77.9/77.9 kB\u001b[0m \u001b[31m5.2 MB/s\u001b[0m eta \u001b[36m0:00:00\u001b[0m\r\n",
      "\u001b[?25hDownloading google_auth_oauthlib-1.0.0-py2.py3-none-any.whl (18 kB)\r\n",
      "Installing collected packages: wrapt, tensorflow-estimator, numpy, keras, gast, google-auth-oauthlib, tensorboard, tensorflow\r\n",
      "  Attempting uninstall: wrapt\r\n",
      "    Found existing installation: wrapt 1.16.0\r\n",
      "    Uninstalling wrapt-1.16.0:\r\n",
      "      Successfully uninstalled wrapt-1.16.0\r\n",
      "  Attempting uninstall: tensorflow-estimator\r\n",
      "    Found existing installation: tensorflow-estimator 2.15.0\r\n",
      "    Uninstalling tensorflow-estimator-2.15.0:\r\n",
      "      Successfully uninstalled tensorflow-estimator-2.15.0\r\n",
      "  Attempting uninstall: numpy\r\n",
      "    Found existing installation: numpy 1.26.4\r\n",
      "    Uninstalling numpy-1.26.4:\r\n",
      "      Successfully uninstalled numpy-1.26.4\r\n",
      "  Attempting uninstall: keras\r\n",
      "    Found existing installation: keras 3.3.3\r\n",
      "    Uninstalling keras-3.3.3:\r\n",
      "      Successfully uninstalled keras-3.3.3\r\n",
      "  Attempting uninstall: gast\r\n",
      "    Found existing installation: gast 0.5.4\r\n",
      "    Uninstalling gast-0.5.4:\r\n",
      "      Successfully uninstalled gast-0.5.4\r\n",
      "  Attempting uninstall: google-auth-oauthlib\r\n",
      "    Found existing installation: google-auth-oauthlib 1.2.0\r\n",
      "    Uninstalling google-auth-oauthlib-1.2.0:\r\n",
      "      Successfully uninstalled google-auth-oauthlib-1.2.0\r\n",
      "  Attempting uninstall: tensorboard\r\n",
      "    Found existing installation: tensorboard 2.16.2\r\n",
      "    Uninstalling tensorboard-2.16.2:\r\n",
      "      Successfully uninstalled tensorboard-2.16.2\r\n",
      "  Attempting uninstall: tensorflow\r\n",
      "    Found existing installation: tensorflow 2.16.1\r\n",
      "    Uninstalling tensorflow-2.16.1:\r\n",
      "      Successfully uninstalled tensorflow-2.16.1\r\n",
      "\u001b[31mERROR: pip's dependency resolver does not currently take into account all the packages that are installed. This behaviour is the source of the following dependency conflicts.\r\n",
      "cudf 24.8.3 requires cubinlinker, which is not installed.\r\n",
      "cudf 24.8.3 requires cupy-cuda11x>=12.0.0, which is not installed.\r\n",
      "cudf 24.8.3 requires ptxcompiler, which is not installed.\r\n",
      "cuml 24.8.0 requires cupy-cuda11x>=12.0.0, which is not installed.\r\n",
      "dask-cudf 24.8.3 requires cupy-cuda11x>=12.0.0, which is not installed.\r\n",
      "ucxx 0.39.1 requires libucx>=1.15.0, which is not installed.\r\n",
      "albucore 0.0.17 requires numpy>=1.24, but you have numpy 1.23.5 which is incompatible.\r\n",
      "albumentations 1.4.17 requires numpy>=1.24.4, but you have numpy 1.23.5 which is incompatible.\r\n",
      "apache-beam 2.46.0 requires cloudpickle~=2.2.1, but you have cloudpickle 3.0.0 which is incompatible.\r\n",
      "apache-beam 2.46.0 requires dill<0.3.2,>=0.3.1.1, but you have dill 0.3.8 which is incompatible.\r\n",
      "apache-beam 2.46.0 requires pyarrow<10.0.0,>=3.0.0, but you have pyarrow 16.1.0 which is incompatible.\r\n",
      "bayesian-optimization 1.5.1 requires numpy>=1.25, but you have numpy 1.23.5 which is incompatible.\r\n",
      "cesium 0.12.3 requires numpy<3.0,>=2.0, but you have numpy 1.23.5 which is incompatible.\r\n",
      "chex 0.1.86 requires numpy>=1.24.1, but you have numpy 1.23.5 which is incompatible.\r\n",
      "cudf 24.8.3 requires cuda-python<12.0a0,>=11.7.1, but you have cuda-python 12.6.0 which is incompatible.\r\n",
      "featuretools 1.31.0 requires numpy>=1.25.0, but you have numpy 1.23.5 which is incompatible.\r\n",
      "gensim 4.3.3 requires scipy<1.14.0,>=1.7.0, but you have scipy 1.14.1 which is incompatible.\r\n",
      "ibis-framework 7.1.0 requires pyarrow<15,>=2, but you have pyarrow 16.1.0 which is incompatible.\r\n",
      "libpysal 4.9.2 requires packaging>=22, but you have packaging 21.3 which is incompatible.\r\n",
      "libpysal 4.9.2 requires shapely>=2.0.1, but you have shapely 1.8.5.post1 which is incompatible.\r\n",
      "pyldavis 3.4.1 requires numpy>=1.24.2, but you have numpy 1.23.5 which is incompatible.\r\n",
      "rmm 24.8.2 requires cuda-python<12.0a0,>=11.7.1, but you have cuda-python 12.6.0 which is incompatible.\r\n",
      "tensorflow-decision-forests 1.9.1 requires tensorflow~=2.16.1, but you have tensorflow 2.12.0 which is incompatible.\r\n",
      "tensorflow-serving-api 2.16.1 requires tensorflow<3,>=2.16.1, but you have tensorflow 2.12.0 which is incompatible.\r\n",
      "tensorflow-text 2.16.1 requires tensorflow<2.17,>=2.16.1; platform_machine != \"arm64\" or platform_system != \"Darwin\", but you have tensorflow 2.12.0 which is incompatible.\r\n",
      "tf-keras 2.16.0 requires tensorflow<2.17,>=2.16, but you have tensorflow 2.12.0 which is incompatible.\r\n",
      "woodwork 0.31.0 requires numpy>=1.25.0, but you have numpy 1.23.5 which is incompatible.\r\n",
      "xarray 2024.9.0 requires numpy>=1.24, but you have numpy 1.23.5 which is incompatible.\r\n",
      "xarray 2024.9.0 requires packaging>=23.1, but you have packaging 21.3 which is incompatible.\r\n",
      "ydata-profiling 4.10.0 requires scipy<1.14,>=1.4.1, but you have scipy 1.14.1 which is incompatible.\u001b[0m\u001b[31m\r\n",
      "\u001b[0mSuccessfully installed gast-0.4.0 google-auth-oauthlib-1.0.0 keras-2.12.0 numpy-1.23.5 tensorboard-2.12.3 tensorflow-2.12.0 tensorflow-estimator-2.12.0 wrapt-1.14.1\r\n",
      "Collecting tensorflow-addons==0.19.0\r\n",
      "  Downloading tensorflow_addons-0.19.0-cp310-cp310-manylinux_2_17_x86_64.manylinux2014_x86_64.whl.metadata (1.8 kB)\r\n",
      "Requirement already satisfied: packaging in /opt/conda/lib/python3.10/site-packages (from tensorflow-addons==0.19.0) (21.3)\r\n",
      "Requirement already satisfied: typeguard>=2.7 in /opt/conda/lib/python3.10/site-packages (from tensorflow-addons==0.19.0) (4.3.0)\r\n",
      "Requirement already satisfied: typing-extensions>=4.10.0 in /opt/conda/lib/python3.10/site-packages (from typeguard>=2.7->tensorflow-addons==0.19.0) (4.12.2)\r\n",
      "Requirement already satisfied: pyparsing!=3.0.5,>=2.0.2 in /opt/conda/lib/python3.10/site-packages (from packaging->tensorflow-addons==0.19.0) (3.1.2)\r\n",
      "Downloading tensorflow_addons-0.19.0-cp310-cp310-manylinux_2_17_x86_64.manylinux2014_x86_64.whl (1.1 MB)\r\n",
      "\u001b[2K   \u001b[90m━━━━━━━━━━━━━━━━━━━━━━━━━━━━━━━━━━━━━━━━\u001b[0m \u001b[32m1.1/1.1 MB\u001b[0m \u001b[31m27.6 MB/s\u001b[0m eta \u001b[36m0:00:00\u001b[0m\r\n",
      "\u001b[?25hInstalling collected packages: tensorflow-addons\r\n",
      "Successfully installed tensorflow-addons-0.19.0\r\n"
     ]
    }
   ],
   "source": [
    "!pip install tensorflow==2.12.0\n",
    "!pip install tensorflow-addons==0.19.0"
   ]
  },
  {
   "cell_type": "code",
   "execution_count": 2,
   "id": "703df275",
   "metadata": {
    "execution": {
     "iopub.execute_input": "2024-12-01T14:13:07.260442Z",
     "iopub.status.busy": "2024-12-01T14:13:07.260120Z",
     "iopub.status.idle": "2024-12-01T14:13:07.264371Z",
     "shell.execute_reply": "2024-12-01T14:13:07.263651Z"
    },
    "id": "GitBDng_36xV",
    "papermill": {
     "duration": 0.0223,
     "end_time": "2024-12-01T14:13:07.265925",
     "exception": false,
     "start_time": "2024-12-01T14:13:07.243625",
     "status": "completed"
    },
    "tags": []
   },
   "outputs": [],
   "source": [
    "import zipfile"
   ]
  },
  {
   "cell_type": "code",
   "execution_count": 3,
   "id": "65c76099",
   "metadata": {
    "execution": {
     "iopub.execute_input": "2024-12-01T14:13:07.297072Z",
     "iopub.status.busy": "2024-12-01T14:13:07.296818Z",
     "iopub.status.idle": "2024-12-01T14:13:14.286135Z",
     "shell.execute_reply": "2024-12-01T14:13:14.285391Z"
    },
    "id": "z3FHA2tYbNfx",
    "papermill": {
     "duration": 7.007291,
     "end_time": "2024-12-01T14:13:14.288259",
     "exception": false,
     "start_time": "2024-12-01T14:13:07.280968",
     "status": "completed"
    },
    "tags": []
   },
   "outputs": [],
   "source": [
    "import os\n",
    "import zipfile\n",
    "import numpy as np\n",
    "import pandas as pd\n",
    "import matplotlib.pyplot as plt\n",
    "import seaborn as sns\n",
    "import shutil\n",
    "from sklearn.model_selection import train_test_split\n",
    "from sklearn.metrics import confusion_matrix, classification_report\n",
    "\n",
    "import tensorflow as tf\n",
    "from tensorflow.keras.models import Sequential\n",
    "from tensorflow.keras.layers import GlobalAveragePooling2D, Dense\n",
    "from tensorflow.keras.optimizers import Adam\n",
    "from tensorflow.keras.callbacks import ModelCheckpoint, EarlyStopping\n",
    "from tensorflow.keras.preprocessing.image import ImageDataGenerator"
   ]
  },
  {
   "cell_type": "code",
   "execution_count": 4,
   "id": "710c4f24",
   "metadata": {
    "execution": {
     "iopub.execute_input": "2024-12-01T14:13:14.321440Z",
     "iopub.status.busy": "2024-12-01T14:13:14.320539Z",
     "iopub.status.idle": "2024-12-01T14:13:14.864504Z",
     "shell.execute_reply": "2024-12-01T14:13:14.863816Z"
    },
    "id": "BQQxaR_xkNEi",
    "outputId": "b9644aab-228e-42f2-9354-b2969bdaa8ff",
    "papermill": {
     "duration": 0.562274,
     "end_time": "2024-12-01T14:13:14.866625",
     "exception": false,
     "start_time": "2024-12-01T14:13:14.304351",
     "status": "completed"
    },
    "tags": []
   },
   "outputs": [
    {
     "name": "stderr",
     "output_type": "stream",
     "text": [
      "/opt/conda/lib/python3.10/site-packages/tensorflow_addons/utils/ensure_tf_install.py:53: UserWarning: Tensorflow Addons supports using Python ops for all Tensorflow versions above or equal to 2.9.0 and strictly below 2.12.0 (nightly versions are not supported). \n",
      " The versions of TensorFlow you are currently using is 2.12.0 and is not supported. \n",
      "Some things might work, some things might not.\n",
      "If you were to encounter a bug, do not file an issue.\n",
      "If you want to make sure you're using a tested and supported configuration, either change the TensorFlow version or the TensorFlow Addons's version. \n",
      "You can find the compatibility matrix in TensorFlow Addon's readme:\n",
      "https://github.com/tensorflow/addons\n",
      "  warnings.warn(\n"
     ]
    }
   ],
   "source": [
    "import tensorflow_addons as tfa"
   ]
  },
  {
   "cell_type": "markdown",
   "id": "f8cbbda0",
   "metadata": {
    "id": "PO_UpS4vaBi8",
    "papermill": {
     "duration": 0.015082,
     "end_time": "2024-12-01T14:13:14.897445",
     "exception": false,
     "start_time": "2024-12-01T14:13:14.882363",
     "status": "completed"
    },
    "tags": []
   },
   "source": [
    "Try 3"
   ]
  },
  {
   "cell_type": "code",
   "execution_count": 5,
   "id": "79e63b60",
   "metadata": {
    "execution": {
     "iopub.execute_input": "2024-12-01T14:13:14.929119Z",
     "iopub.status.busy": "2024-12-01T14:13:14.928811Z",
     "iopub.status.idle": "2024-12-01T14:13:23.593557Z",
     "shell.execute_reply": "2024-12-01T14:13:23.592419Z"
    },
    "papermill": {
     "duration": 8.682815,
     "end_time": "2024-12-01T14:13:23.595616",
     "exception": false,
     "start_time": "2024-12-01T14:13:14.912801",
     "status": "completed"
    },
    "tags": []
   },
   "outputs": [
    {
     "name": "stderr",
     "output_type": "stream",
     "text": [
      "/opt/conda/lib/python3.10/pty.py:89: RuntimeWarning: os.fork() was called. os.fork() is incompatible with multithreaded code, and JAX is multithreaded, so this will likely lead to a deadlock.\n",
      "  pid, fd = os.forkpty()\n"
     ]
    },
    {
     "name": "stdout",
     "output_type": "stream",
     "text": [
      "Collecting gdown\r\n",
      "  Downloading gdown-5.2.0-py3-none-any.whl.metadata (5.8 kB)\r\n",
      "Requirement already satisfied: beautifulsoup4 in /opt/conda/lib/python3.10/site-packages (from gdown) (4.12.3)\r\n",
      "Requirement already satisfied: filelock in /opt/conda/lib/python3.10/site-packages (from gdown) (3.15.1)\r\n",
      "Requirement already satisfied: requests[socks] in /opt/conda/lib/python3.10/site-packages (from gdown) (2.32.3)\r\n",
      "Requirement already satisfied: tqdm in /opt/conda/lib/python3.10/site-packages (from gdown) (4.66.4)\r\n",
      "Requirement already satisfied: soupsieve>1.2 in /opt/conda/lib/python3.10/site-packages (from beautifulsoup4->gdown) (2.5)\r\n",
      "Requirement already satisfied: charset-normalizer<4,>=2 in /opt/conda/lib/python3.10/site-packages (from requests[socks]->gdown) (3.3.2)\r\n",
      "Requirement already satisfied: idna<4,>=2.5 in /opt/conda/lib/python3.10/site-packages (from requests[socks]->gdown) (3.7)\r\n",
      "Requirement already satisfied: urllib3<3,>=1.21.1 in /opt/conda/lib/python3.10/site-packages (from requests[socks]->gdown) (1.26.18)\r\n",
      "Requirement already satisfied: certifi>=2017.4.17 in /opt/conda/lib/python3.10/site-packages (from requests[socks]->gdown) (2024.8.30)\r\n",
      "Requirement already satisfied: PySocks!=1.5.7,>=1.5.6 in /opt/conda/lib/python3.10/site-packages (from requests[socks]->gdown) (1.7.1)\r\n",
      "Downloading gdown-5.2.0-py3-none-any.whl (18 kB)\r\n",
      "Installing collected packages: gdown\r\n",
      "Successfully installed gdown-5.2.0\r\n"
     ]
    }
   ],
   "source": [
    "!pip install gdown"
   ]
  },
  {
   "cell_type": "code",
   "execution_count": 6,
   "id": "f1365ae1",
   "metadata": {
    "execution": {
     "iopub.execute_input": "2024-12-01T14:13:23.628087Z",
     "iopub.status.busy": "2024-12-01T14:13:23.627754Z",
     "iopub.status.idle": "2024-12-01T14:13:31.464145Z",
     "shell.execute_reply": "2024-12-01T14:13:31.463260Z"
    },
    "papermill": {
     "duration": 7.85475,
     "end_time": "2024-12-01T14:13:31.466101",
     "exception": false,
     "start_time": "2024-12-01T14:13:23.611351",
     "status": "completed"
    },
    "tags": []
   },
   "outputs": [
    {
     "name": "stdout",
     "output_type": "stream",
     "text": [
      "Downloading...\r\n",
      "From (original): https://drive.google.com/uc?id=1QAkYNXInCNX35b2lI8dXHFvVjor9AIVk\r\n",
      "From (redirected): https://drive.google.com/uc?id=1QAkYNXInCNX35b2lI8dXHFvVjor9AIVk&confirm=t&uuid=2abea9cb-e9c7-47bf-b967-41abe5997c79\r\n",
      "To: /kaggle/working/Copy of Copy of train.zip\r\n",
      "100%|████████████████████████████████████████| 124M/124M [00:03<00:00, 31.4MB/s]\r\n"
     ]
    }
   ],
   "source": [
    "!gdown \"https://drive.google.com/uc?id=1QAkYNXInCNX35b2lI8dXHFvVjor9AIVk\"\n"
   ]
  },
  {
   "cell_type": "code",
   "execution_count": 7,
   "id": "1d742d0c",
   "metadata": {
    "execution": {
     "iopub.execute_input": "2024-12-01T14:13:31.501147Z",
     "iopub.status.busy": "2024-12-01T14:13:31.500805Z",
     "iopub.status.idle": "2024-12-01T14:13:32.400867Z",
     "shell.execute_reply": "2024-12-01T14:13:32.399894Z"
    },
    "id": "QyN8qV0huMwD",
    "papermill": {
     "duration": 0.919484,
     "end_time": "2024-12-01T14:13:32.402805",
     "exception": false,
     "start_time": "2024-12-01T14:13:31.483321",
     "status": "completed"
    },
    "tags": []
   },
   "outputs": [],
   "source": [
    "zip_path = \"/kaggle/working/Copy of Copy of train.zip\"  # Path to the ZIP file\n",
    "extracted_path = \"/kaggle/working/chest_ctscan_images\"  # Path to extract the files\n",
    "with zipfile.ZipFile(zip_path, 'r') as zip_ref:\n",
    "    zip_ref.extractall(extracted_path)"
   ]
  },
  {
   "cell_type": "code",
   "execution_count": 8,
   "id": "d9ad6191",
   "metadata": {
    "execution": {
     "iopub.execute_input": "2024-12-01T14:13:32.436598Z",
     "iopub.status.busy": "2024-12-01T14:13:32.436023Z",
     "iopub.status.idle": "2024-12-01T14:13:32.440031Z",
     "shell.execute_reply": "2024-12-01T14:13:32.439240Z"
    },
    "id": "TwEwT2nCuPYv",
    "papermill": {
     "duration": 0.022309,
     "end_time": "2024-12-01T14:13:32.441634",
     "exception": false,
     "start_time": "2024-12-01T14:13:32.419325",
     "status": "completed"
    },
    "tags": []
   },
   "outputs": [],
   "source": [
    "train_dir = os.path.join(extracted_path, \"train\")\n",
    "valid_dir = \"/kaggle/working/chest_ctscan_images/valid\"\n",
    "test_dir = \"/kaggle/working/chest_ctscan_images/test\""
   ]
  },
  {
   "cell_type": "code",
   "execution_count": 9,
   "id": "39c6819c",
   "metadata": {
    "execution": {
     "iopub.execute_input": "2024-12-01T14:13:32.474432Z",
     "iopub.status.busy": "2024-12-01T14:13:32.474162Z",
     "iopub.status.idle": "2024-12-01T14:13:32.488033Z",
     "shell.execute_reply": "2024-12-01T14:13:32.487450Z"
    },
    "id": "cUjh_ksquT_w",
    "papermill": {
     "duration": 0.032171,
     "end_time": "2024-12-01T14:13:32.489620",
     "exception": false,
     "start_time": "2024-12-01T14:13:32.457449",
     "status": "completed"
    },
    "tags": []
   },
   "outputs": [],
   "source": [
    "# Create a validation set from a portion of the training set\n",
    "def create_validation_set(source_dir, validation_dir, validation_ratio=0.2):\n",
    "    if not os.path.exists(validation_dir):\n",
    "        os.makedirs(validation_dir)\n",
    "\n",
    "    for class_name in os.listdir(source_dir):\n",
    "        class_source_path = os.path.join(source_dir, class_name)\n",
    "        class_valid_path = os.path.join(validation_dir, class_name)\n",
    "\n",
    "        if not os.path.exists(class_valid_path):\n",
    "            os.makedirs(class_valid_path)\n",
    "\n",
    "        all_files = os.listdir(class_source_path)\n",
    "        train_files, valid_files = train_test_split(all_files, test_size=validation_ratio, random_state=42)\n",
    "\n",
    "        for file in valid_files:\n",
    "            shutil.move(os.path.join(class_source_path, file), os.path.join(class_valid_path, file))\n",
    "\n",
    "create_validation_set(train_dir, valid_dir, validation_ratio=0.2)  # Split 20% for validation"
   ]
  },
  {
   "cell_type": "code",
   "execution_count": 10,
   "id": "3de39073",
   "metadata": {
    "execution": {
     "iopub.execute_input": "2024-12-01T14:13:32.522996Z",
     "iopub.status.busy": "2024-12-01T14:13:32.522183Z",
     "iopub.status.idle": "2024-12-01T14:13:32.533320Z",
     "shell.execute_reply": "2024-12-01T14:13:32.532722Z"
    },
    "id": "xPSkhXLkn0-0",
    "papermill": {
     "duration": 0.029384,
     "end_time": "2024-12-01T14:13:32.534991",
     "exception": false,
     "start_time": "2024-12-01T14:13:32.505607",
     "status": "completed"
    },
    "tags": []
   },
   "outputs": [],
   "source": [
    "# Example code to create a test set from a portion of the training set\n",
    "def create_test_set(source_dir, test_dir, test_ratio=0.1):\n",
    "    # Create test directory if it doesn't exist\n",
    "    if not os.path.exists(test_dir):\n",
    "        os.makedirs(test_dir)\n",
    "\n",
    "    for class_name in os.listdir(source_dir):\n",
    "        class_source_path = os.path.join(source_dir, class_name)\n",
    "        class_test_path = os.path.join(test_dir, class_name)\n",
    "\n",
    "        if not os.path.exists(class_test_path):\n",
    "            os.makedirs(class_test_path)\n",
    "\n",
    "        all_files = os.listdir(class_source_path)\n",
    "        train_files, test_files = train_test_split(all_files, test_size=test_ratio, random_state=42)\n",
    "\n",
    "        for file in test_files:\n",
    "            shutil.move(os.path.join(class_source_path, file), os.path.join(class_test_path, file))\n",
    "\n",
    "create_test_set(train_dir, test_dir, test_ratio=0.18)  # Split 10% for test"
   ]
  },
  {
   "cell_type": "code",
   "execution_count": 11,
   "id": "4a939df3",
   "metadata": {
    "execution": {
     "iopub.execute_input": "2024-12-01T14:13:32.568238Z",
     "iopub.status.busy": "2024-12-01T14:13:32.567970Z",
     "iopub.status.idle": "2024-12-01T14:13:32.571901Z",
     "shell.execute_reply": "2024-12-01T14:13:32.571192Z"
    },
    "id": "OBHrYqxLuU5C",
    "papermill": {
     "duration": 0.022196,
     "end_time": "2024-12-01T14:13:32.573427",
     "exception": false,
     "start_time": "2024-12-01T14:13:32.551231",
     "status": "completed"
    },
    "tags": []
   },
   "outputs": [],
   "source": [
    "train_datagen = ImageDataGenerator(\n",
    "    # rescale=1.0/255,\n",
    "    # rotation_range=20,\n",
    "    # width_shift_range=0.2,\n",
    "    # height_shift_range=0.2,\n",
    "    # shear_range=0.2,\n",
    "    # zoom_range=0.2,\n",
    "    # horizontal_flip=True\n",
    ")"
   ]
  },
  {
   "cell_type": "code",
   "execution_count": 12,
   "id": "c8df8ecc",
   "metadata": {
    "execution": {
     "iopub.execute_input": "2024-12-01T14:13:32.606493Z",
     "iopub.status.busy": "2024-12-01T14:13:32.606180Z",
     "iopub.status.idle": "2024-12-01T14:13:32.609786Z",
     "shell.execute_reply": "2024-12-01T14:13:32.609137Z"
    },
    "id": "5OZi-BPsuYkQ",
    "papermill": {
     "duration": 0.022177,
     "end_time": "2024-12-01T14:13:32.611403",
     "exception": false,
     "start_time": "2024-12-01T14:13:32.589226",
     "status": "completed"
    },
    "tags": []
   },
   "outputs": [],
   "source": [
    "valid_datagen = ImageDataGenerator()\n",
    "test_datagen = ImageDataGenerator()"
   ]
  },
  {
   "cell_type": "code",
   "execution_count": 13,
   "id": "64649eb2",
   "metadata": {
    "execution": {
     "iopub.execute_input": "2024-12-01T14:13:32.643787Z",
     "iopub.status.busy": "2024-12-01T14:13:32.643481Z",
     "iopub.status.idle": "2024-12-01T14:13:32.665851Z",
     "shell.execute_reply": "2024-12-01T14:13:32.665236Z"
    },
    "id": "s58bw8FiuczT",
    "outputId": "57fc1147-6596-4efe-fddc-33e11f87bdbb",
    "papermill": {
     "duration": 0.04022,
     "end_time": "2024-12-01T14:13:32.667472",
     "exception": false,
     "start_time": "2024-12-01T14:13:32.627252",
     "status": "completed"
    },
    "tags": []
   },
   "outputs": [
    {
     "name": "stdout",
     "output_type": "stream",
     "text": [
      "Found 654 images belonging to 4 classes.\n"
     ]
    }
   ],
   "source": [
    "train_generator = train_datagen.flow_from_directory(\n",
    "    train_dir,\n",
    "    target_size=(224,224),\n",
    "    batch_size=6,\n",
    "    class_mode='categorical'\n",
    ")"
   ]
  },
  {
   "cell_type": "code",
   "execution_count": 14,
   "id": "b6caad25",
   "metadata": {
    "execution": {
     "iopub.execute_input": "2024-12-01T14:13:32.701063Z",
     "iopub.status.busy": "2024-12-01T14:13:32.700797Z",
     "iopub.status.idle": "2024-12-01T14:13:32.713298Z",
     "shell.execute_reply": "2024-12-01T14:13:32.712493Z"
    },
    "id": "_VAT1nn6ufRV",
    "outputId": "aa94d728-21ca-4d9f-da3a-99aea8fcc481",
    "papermill": {
     "duration": 0.031157,
     "end_time": "2024-12-01T14:13:32.714856",
     "exception": false,
     "start_time": "2024-12-01T14:13:32.683699",
     "status": "completed"
    },
    "tags": []
   },
   "outputs": [
    {
     "name": "stdout",
     "output_type": "stream",
     "text": [
      "Found 201 images belonging to 4 classes.\n"
     ]
    }
   ],
   "source": [
    "validation_generator = valid_datagen.flow_from_directory(\n",
    "    valid_dir,\n",
    "    target_size=(224,224),\n",
    "    batch_size=6,\n",
    "    class_mode='categorical'\n",
    ")"
   ]
  },
  {
   "cell_type": "code",
   "execution_count": 15,
   "id": "73860627",
   "metadata": {
    "execution": {
     "iopub.execute_input": "2024-12-01T14:13:32.747364Z",
     "iopub.status.busy": "2024-12-01T14:13:32.747066Z",
     "iopub.status.idle": "2024-12-01T14:13:32.758468Z",
     "shell.execute_reply": "2024-12-01T14:13:32.757874Z"
    },
    "id": "79higThAuhq_",
    "outputId": "99c57cfc-10bd-4748-e13d-cc86f208ba90",
    "papermill": {
     "duration": 0.029701,
     "end_time": "2024-12-01T14:13:32.760204",
     "exception": false,
     "start_time": "2024-12-01T14:13:32.730503",
     "status": "completed"
    },
    "tags": []
   },
   "outputs": [
    {
     "name": "stdout",
     "output_type": "stream",
     "text": [
      "Found 145 images belonging to 4 classes.\n"
     ]
    }
   ],
   "source": [
    "test_generator = test_datagen.flow_from_directory(\n",
    "    test_dir,\n",
    "    target_size=(224,224),\n",
    "    batch_size=6,\n",
    "    class_mode='categorical'\n",
    ")"
   ]
  },
  {
   "cell_type": "code",
   "execution_count": 16,
   "id": "5753fde0",
   "metadata": {
    "execution": {
     "iopub.execute_input": "2024-12-01T14:13:32.793375Z",
     "iopub.status.busy": "2024-12-01T14:13:32.793098Z",
     "iopub.status.idle": "2024-12-01T14:13:32.797055Z",
     "shell.execute_reply": "2024-12-01T14:13:32.796206Z"
    },
    "id": "wJy_CEHicRgM",
    "papermill": {
     "duration": 0.022237,
     "end_time": "2024-12-01T14:13:32.798703",
     "exception": false,
     "start_time": "2024-12-01T14:13:32.776466",
     "status": "completed"
    },
    "tags": []
   },
   "outputs": [],
   "source": [
    "os.makedirs(test_dir, exist_ok=True)"
   ]
  },
  {
   "cell_type": "code",
   "execution_count": 17,
   "id": "85d5922d",
   "metadata": {
    "execution": {
     "iopub.execute_input": "2024-12-01T14:13:32.831894Z",
     "iopub.status.busy": "2024-12-01T14:13:32.831578Z",
     "iopub.status.idle": "2024-12-01T14:13:32.836507Z",
     "shell.execute_reply": "2024-12-01T14:13:32.835523Z"
    },
    "id": "d4p9qKimcXnV",
    "outputId": "1197ff8c-cd32-4f07-a2ee-9c0317e77f40",
    "papermill": {
     "duration": 0.023435,
     "end_time": "2024-12-01T14:13:32.838198",
     "exception": false,
     "start_time": "2024-12-01T14:13:32.814763",
     "status": "completed"
    },
    "tags": []
   },
   "outputs": [
    {
     "name": "stdout",
     "output_type": "stream",
     "text": [
      "Number of files in test directory: 4\n"
     ]
    }
   ],
   "source": [
    "# Example to list files in the test directory\n",
    "test_files = os.listdir(test_dir)\n",
    "print(\"Number of files in test directory:\", len(test_files))"
   ]
  },
  {
   "cell_type": "code",
   "execution_count": 18,
   "id": "f0a9eb0d",
   "metadata": {
    "execution": {
     "iopub.execute_input": "2024-12-01T14:13:32.873204Z",
     "iopub.status.busy": "2024-12-01T14:13:32.872438Z",
     "iopub.status.idle": "2024-12-01T14:13:32.877129Z",
     "shell.execute_reply": "2024-12-01T14:13:32.876213Z"
    },
    "id": "gL6e9ixdcBKR",
    "outputId": "f8655ef4-3333-456e-dcb4-2e6bc9b8ea4e",
    "papermill": {
     "duration": 0.023938,
     "end_time": "2024-12-01T14:13:32.878888",
     "exception": false,
     "start_time": "2024-12-01T14:13:32.854950",
     "status": "completed"
    },
    "tags": []
   },
   "outputs": [
    {
     "name": "stdout",
     "output_type": "stream",
     "text": [
      "Test directory: /kaggle/working/chest_ctscan_images/test\n"
     ]
    }
   ],
   "source": [
    "print(\"Test directory:\", test_dir)"
   ]
  },
  {
   "cell_type": "code",
   "execution_count": 19,
   "id": "ad3eb61b",
   "metadata": {
    "execution": {
     "iopub.execute_input": "2024-12-01T14:13:32.916697Z",
     "iopub.status.busy": "2024-12-01T14:13:32.916360Z",
     "iopub.status.idle": "2024-12-01T14:13:32.921860Z",
     "shell.execute_reply": "2024-12-01T14:13:32.921037Z"
    },
    "id": "JVXysXnmD-9z",
    "papermill": {
     "duration": 0.028375,
     "end_time": "2024-12-01T14:13:32.923415",
     "exception": false,
     "start_time": "2024-12-01T14:13:32.895040",
     "status": "completed"
    },
    "tags": []
   },
   "outputs": [],
   "source": [
    "def f1_score(y_true, y_pred):\n",
    "    true_positives = K.sum(K.round(K.clip(y_true * y_pred, 0, 1)))\n",
    "    possible_positives = K.sum(K.round(K.clip(y_true, 0, 1)))\n",
    "    predicted_positives = K.sum(K.round(K.clip(y_pred, 0, 1)))\n",
    "    precision = true_positives / (predicted_positives + K.epsilon())\n",
    "    recall = true_positives / (possible_positives + K.epsilon())\n",
    "    f1_val = 2 * (precision * recall) / (precision + recall + K.epsilon())\n",
    "    return f1_val"
   ]
  },
  {
   "cell_type": "code",
   "execution_count": 20,
   "id": "b0b16a33",
   "metadata": {
    "execution": {
     "iopub.execute_input": "2024-12-01T14:13:32.957431Z",
     "iopub.status.busy": "2024-12-01T14:13:32.957025Z",
     "iopub.status.idle": "2024-12-01T14:13:33.202099Z",
     "shell.execute_reply": "2024-12-01T14:13:33.201185Z"
    },
    "id": "aJPN14HlEZe-",
    "papermill": {
     "duration": 0.263917,
     "end_time": "2024-12-01T14:13:33.204105",
     "exception": false,
     "start_time": "2024-12-01T14:13:32.940188",
     "status": "completed"
    },
    "tags": []
   },
   "outputs": [],
   "source": [
    "METRICS = [\n",
    "    tf.keras.metrics.CategoricalAccuracy(name='accuracy'),\n",
    "    tf.keras.metrics.Precision(name='precision'),\n",
    "    tf.keras.metrics.Recall(name='recall'),\n",
    "    tf.keras.metrics.AUC(name='auc'),\n",
    "    tfa.metrics.F1Score(num_classes=4, average=\"micro\", name='f1_score')\n",
    "]"
   ]
  },
  {
   "cell_type": "code",
   "execution_count": 21,
   "id": "cc169778",
   "metadata": {
    "execution": {
     "iopub.execute_input": "2024-12-01T14:13:33.239515Z",
     "iopub.status.busy": "2024-12-01T14:13:33.239174Z",
     "iopub.status.idle": "2024-12-01T14:13:39.212401Z",
     "shell.execute_reply": "2024-12-01T14:13:39.211389Z"
    },
    "id": "3pu77guMwmjn",
    "outputId": "96cf5587-b873-465a-bc91-10f6b925ee2a",
    "papermill": {
     "duration": 5.993275,
     "end_time": "2024-12-01T14:13:39.214473",
     "exception": false,
     "start_time": "2024-12-01T14:13:33.221198",
     "status": "completed"
    },
    "tags": []
   },
   "outputs": [
    {
     "name": "stdout",
     "output_type": "stream",
     "text": [
      "Downloading data from https://storage.googleapis.com/tensorflow/keras-applications/convnext/convnext_tiny_notop.h5\n",
      "111650432/111650432 [==============================] - 3s 0us/step\n"
     ]
    }
   ],
   "source": [
    "base_model = tf.keras.applications.ConvNeXtTiny(\n",
    "    input_shape=(224, 224, 3),\n",
    "    include_top=False,\n",
    "    weights=\"imagenet\"\n",
    ")"
   ]
  },
  {
   "cell_type": "code",
   "execution_count": 22,
   "id": "f1ecedbf",
   "metadata": {
    "execution": {
     "iopub.execute_input": "2024-12-01T14:13:39.254631Z",
     "iopub.status.busy": "2024-12-01T14:13:39.254010Z",
     "iopub.status.idle": "2024-12-01T14:13:39.258058Z",
     "shell.execute_reply": "2024-12-01T14:13:39.257327Z"
    },
    "id": "aSsNkIQCwpXA",
    "papermill": {
     "duration": 0.025162,
     "end_time": "2024-12-01T14:13:39.259593",
     "exception": false,
     "start_time": "2024-12-01T14:13:39.234431",
     "status": "completed"
    },
    "tags": []
   },
   "outputs": [],
   "source": [
    "total_layers = len(base_model.layers)"
   ]
  },
  {
   "cell_type": "code",
   "execution_count": 23,
   "id": "07de71e2",
   "metadata": {
    "execution": {
     "iopub.execute_input": "2024-12-01T14:13:39.298360Z",
     "iopub.status.busy": "2024-12-01T14:13:39.297728Z",
     "iopub.status.idle": "2024-12-01T14:13:39.301230Z",
     "shell.execute_reply": "2024-12-01T14:13:39.300598Z"
    },
    "id": "Ff-9hCJ3wts6",
    "papermill": {
     "duration": 0.024543,
     "end_time": "2024-12-01T14:13:39.302835",
     "exception": false,
     "start_time": "2024-12-01T14:13:39.278292",
     "status": "completed"
    },
    "tags": []
   },
   "outputs": [],
   "source": [
    "num_layers_to_freeze = 0"
   ]
  },
  {
   "cell_type": "code",
   "execution_count": 24,
   "id": "b4d4e37a",
   "metadata": {
    "execution": {
     "iopub.execute_input": "2024-12-01T14:13:39.341808Z",
     "iopub.status.busy": "2024-12-01T14:13:39.341155Z",
     "iopub.status.idle": "2024-12-01T14:13:39.345277Z",
     "shell.execute_reply": "2024-12-01T14:13:39.344597Z"
    },
    "id": "sKFHPjmTwu3K",
    "papermill": {
     "duration": 0.025397,
     "end_time": "2024-12-01T14:13:39.346858",
     "exception": false,
     "start_time": "2024-12-01T14:13:39.321461",
     "status": "completed"
    },
    "tags": []
   },
   "outputs": [],
   "source": [
    "for layer in base_model.layers[:num_layers_to_freeze]:\n",
    "    layer.trainable = True"
   ]
  },
  {
   "cell_type": "code",
   "execution_count": 25,
   "id": "ccb4168d",
   "metadata": {
    "execution": {
     "iopub.execute_input": "2024-12-01T14:13:39.385810Z",
     "iopub.status.busy": "2024-12-01T14:13:39.385265Z",
     "iopub.status.idle": "2024-12-01T14:13:39.391355Z",
     "shell.execute_reply": "2024-12-01T14:13:39.390545Z"
    },
    "id": "h7_3xPFowxTo",
    "outputId": "6b8134d7-acd4-4c41-e0c1-261c8d44abff",
    "papermill": {
     "duration": 0.02748,
     "end_time": "2024-12-01T14:13:39.393575",
     "exception": false,
     "start_time": "2024-12-01T14:13:39.366095",
     "status": "completed"
    },
    "tags": []
   },
   "outputs": [
    {
     "name": "stdout",
     "output_type": "stream",
     "text": [
      "Layer 0: input_1, Trainable: True\n",
      "Layer 1: convnext_tiny_prestem_normalization, Trainable: True\n",
      "Layer 2: convnext_tiny_stem, Trainable: True\n",
      "Layer 3: convnext_tiny_stage_0_block_0_depthwise_conv, Trainable: True\n",
      "Layer 4: convnext_tiny_stage_0_block_0_layernorm, Trainable: True\n",
      "Layer 5: convnext_tiny_stage_0_block_0_pointwise_conv_1, Trainable: True\n",
      "Layer 6: convnext_tiny_stage_0_block_0_gelu, Trainable: True\n",
      "Layer 7: convnext_tiny_stage_0_block_0_pointwise_conv_2, Trainable: True\n",
      "Layer 8: convnext_tiny_stage_0_block_0_layer_scale, Trainable: True\n",
      "Layer 9: convnext_tiny_stage_0_block_0_identity, Trainable: True\n",
      "Layer 10: tf.__operators__.add, Trainable: True\n",
      "Layer 11: convnext_tiny_stage_0_block_1_depthwise_conv, Trainable: True\n",
      "Layer 12: convnext_tiny_stage_0_block_1_layernorm, Trainable: True\n",
      "Layer 13: convnext_tiny_stage_0_block_1_pointwise_conv_1, Trainable: True\n",
      "Layer 14: convnext_tiny_stage_0_block_1_gelu, Trainable: True\n",
      "Layer 15: convnext_tiny_stage_0_block_1_pointwise_conv_2, Trainable: True\n",
      "Layer 16: convnext_tiny_stage_0_block_1_layer_scale, Trainable: True\n",
      "Layer 17: convnext_tiny_stage_0_block_1_identity, Trainable: True\n",
      "Layer 18: tf.__operators__.add_1, Trainable: True\n",
      "Layer 19: convnext_tiny_stage_0_block_2_depthwise_conv, Trainable: True\n",
      "Layer 20: convnext_tiny_stage_0_block_2_layernorm, Trainable: True\n",
      "Layer 21: convnext_tiny_stage_0_block_2_pointwise_conv_1, Trainable: True\n",
      "Layer 22: convnext_tiny_stage_0_block_2_gelu, Trainable: True\n",
      "Layer 23: convnext_tiny_stage_0_block_2_pointwise_conv_2, Trainable: True\n",
      "Layer 24: convnext_tiny_stage_0_block_2_layer_scale, Trainable: True\n",
      "Layer 25: convnext_tiny_stage_0_block_2_identity, Trainable: True\n",
      "Layer 26: tf.__operators__.add_2, Trainable: True\n",
      "Layer 27: convnext_tiny_downsampling_block_0, Trainable: True\n",
      "Layer 28: convnext_tiny_stage_1_block_0_depthwise_conv, Trainable: True\n",
      "Layer 29: convnext_tiny_stage_1_block_0_layernorm, Trainable: True\n",
      "Layer 30: convnext_tiny_stage_1_block_0_pointwise_conv_1, Trainable: True\n",
      "Layer 31: convnext_tiny_stage_1_block_0_gelu, Trainable: True\n",
      "Layer 32: convnext_tiny_stage_1_block_0_pointwise_conv_2, Trainable: True\n",
      "Layer 33: convnext_tiny_stage_1_block_0_layer_scale, Trainable: True\n",
      "Layer 34: convnext_tiny_stage_1_block_0_identity, Trainable: True\n",
      "Layer 35: tf.__operators__.add_3, Trainable: True\n",
      "Layer 36: convnext_tiny_stage_1_block_1_depthwise_conv, Trainable: True\n",
      "Layer 37: convnext_tiny_stage_1_block_1_layernorm, Trainable: True\n",
      "Layer 38: convnext_tiny_stage_1_block_1_pointwise_conv_1, Trainable: True\n",
      "Layer 39: convnext_tiny_stage_1_block_1_gelu, Trainable: True\n",
      "Layer 40: convnext_tiny_stage_1_block_1_pointwise_conv_2, Trainable: True\n",
      "Layer 41: convnext_tiny_stage_1_block_1_layer_scale, Trainable: True\n",
      "Layer 42: convnext_tiny_stage_1_block_1_identity, Trainable: True\n",
      "Layer 43: tf.__operators__.add_4, Trainable: True\n",
      "Layer 44: convnext_tiny_stage_1_block_2_depthwise_conv, Trainable: True\n",
      "Layer 45: convnext_tiny_stage_1_block_2_layernorm, Trainable: True\n",
      "Layer 46: convnext_tiny_stage_1_block_2_pointwise_conv_1, Trainable: True\n",
      "Layer 47: convnext_tiny_stage_1_block_2_gelu, Trainable: True\n",
      "Layer 48: convnext_tiny_stage_1_block_2_pointwise_conv_2, Trainable: True\n",
      "Layer 49: convnext_tiny_stage_1_block_2_layer_scale, Trainable: True\n",
      "Layer 50: convnext_tiny_stage_1_block_2_identity, Trainable: True\n",
      "Layer 51: tf.__operators__.add_5, Trainable: True\n",
      "Layer 52: convnext_tiny_downsampling_block_1, Trainable: True\n",
      "Layer 53: convnext_tiny_stage_2_block_0_depthwise_conv, Trainable: True\n",
      "Layer 54: convnext_tiny_stage_2_block_0_layernorm, Trainable: True\n",
      "Layer 55: convnext_tiny_stage_2_block_0_pointwise_conv_1, Trainable: True\n",
      "Layer 56: convnext_tiny_stage_2_block_0_gelu, Trainable: True\n",
      "Layer 57: convnext_tiny_stage_2_block_0_pointwise_conv_2, Trainable: True\n",
      "Layer 58: convnext_tiny_stage_2_block_0_layer_scale, Trainable: True\n",
      "Layer 59: convnext_tiny_stage_2_block_0_identity, Trainable: True\n",
      "Layer 60: tf.__operators__.add_6, Trainable: True\n",
      "Layer 61: convnext_tiny_stage_2_block_1_depthwise_conv, Trainable: True\n",
      "Layer 62: convnext_tiny_stage_2_block_1_layernorm, Trainable: True\n",
      "Layer 63: convnext_tiny_stage_2_block_1_pointwise_conv_1, Trainable: True\n",
      "Layer 64: convnext_tiny_stage_2_block_1_gelu, Trainable: True\n",
      "Layer 65: convnext_tiny_stage_2_block_1_pointwise_conv_2, Trainable: True\n",
      "Layer 66: convnext_tiny_stage_2_block_1_layer_scale, Trainable: True\n",
      "Layer 67: convnext_tiny_stage_2_block_1_identity, Trainable: True\n",
      "Layer 68: tf.__operators__.add_7, Trainable: True\n",
      "Layer 69: convnext_tiny_stage_2_block_2_depthwise_conv, Trainable: True\n",
      "Layer 70: convnext_tiny_stage_2_block_2_layernorm, Trainable: True\n",
      "Layer 71: convnext_tiny_stage_2_block_2_pointwise_conv_1, Trainable: True\n",
      "Layer 72: convnext_tiny_stage_2_block_2_gelu, Trainable: True\n",
      "Layer 73: convnext_tiny_stage_2_block_2_pointwise_conv_2, Trainable: True\n",
      "Layer 74: convnext_tiny_stage_2_block_2_layer_scale, Trainable: True\n",
      "Layer 75: convnext_tiny_stage_2_block_2_identity, Trainable: True\n",
      "Layer 76: tf.__operators__.add_8, Trainable: True\n",
      "Layer 77: convnext_tiny_stage_2_block_3_depthwise_conv, Trainable: True\n",
      "Layer 78: convnext_tiny_stage_2_block_3_layernorm, Trainable: True\n",
      "Layer 79: convnext_tiny_stage_2_block_3_pointwise_conv_1, Trainable: True\n",
      "Layer 80: convnext_tiny_stage_2_block_3_gelu, Trainable: True\n",
      "Layer 81: convnext_tiny_stage_2_block_3_pointwise_conv_2, Trainable: True\n",
      "Layer 82: convnext_tiny_stage_2_block_3_layer_scale, Trainable: True\n",
      "Layer 83: convnext_tiny_stage_2_block_3_identity, Trainable: True\n",
      "Layer 84: tf.__operators__.add_9, Trainable: True\n",
      "Layer 85: convnext_tiny_stage_2_block_4_depthwise_conv, Trainable: True\n",
      "Layer 86: convnext_tiny_stage_2_block_4_layernorm, Trainable: True\n",
      "Layer 87: convnext_tiny_stage_2_block_4_pointwise_conv_1, Trainable: True\n",
      "Layer 88: convnext_tiny_stage_2_block_4_gelu, Trainable: True\n",
      "Layer 89: convnext_tiny_stage_2_block_4_pointwise_conv_2, Trainable: True\n",
      "Layer 90: convnext_tiny_stage_2_block_4_layer_scale, Trainable: True\n",
      "Layer 91: convnext_tiny_stage_2_block_4_identity, Trainable: True\n",
      "Layer 92: tf.__operators__.add_10, Trainable: True\n",
      "Layer 93: convnext_tiny_stage_2_block_5_depthwise_conv, Trainable: True\n",
      "Layer 94: convnext_tiny_stage_2_block_5_layernorm, Trainable: True\n",
      "Layer 95: convnext_tiny_stage_2_block_5_pointwise_conv_1, Trainable: True\n",
      "Layer 96: convnext_tiny_stage_2_block_5_gelu, Trainable: True\n",
      "Layer 97: convnext_tiny_stage_2_block_5_pointwise_conv_2, Trainable: True\n",
      "Layer 98: convnext_tiny_stage_2_block_5_layer_scale, Trainable: True\n",
      "Layer 99: convnext_tiny_stage_2_block_5_identity, Trainable: True\n",
      "Layer 100: tf.__operators__.add_11, Trainable: True\n",
      "Layer 101: convnext_tiny_stage_2_block_6_depthwise_conv, Trainable: True\n",
      "Layer 102: convnext_tiny_stage_2_block_6_layernorm, Trainable: True\n",
      "Layer 103: convnext_tiny_stage_2_block_6_pointwise_conv_1, Trainable: True\n",
      "Layer 104: convnext_tiny_stage_2_block_6_gelu, Trainable: True\n",
      "Layer 105: convnext_tiny_stage_2_block_6_pointwise_conv_2, Trainable: True\n",
      "Layer 106: convnext_tiny_stage_2_block_6_layer_scale, Trainable: True\n",
      "Layer 107: convnext_tiny_stage_2_block_6_identity, Trainable: True\n",
      "Layer 108: tf.__operators__.add_12, Trainable: True\n",
      "Layer 109: convnext_tiny_stage_2_block_7_depthwise_conv, Trainable: True\n",
      "Layer 110: convnext_tiny_stage_2_block_7_layernorm, Trainable: True\n",
      "Layer 111: convnext_tiny_stage_2_block_7_pointwise_conv_1, Trainable: True\n",
      "Layer 112: convnext_tiny_stage_2_block_7_gelu, Trainable: True\n",
      "Layer 113: convnext_tiny_stage_2_block_7_pointwise_conv_2, Trainable: True\n",
      "Layer 114: convnext_tiny_stage_2_block_7_layer_scale, Trainable: True\n",
      "Layer 115: convnext_tiny_stage_2_block_7_identity, Trainable: True\n",
      "Layer 116: tf.__operators__.add_13, Trainable: True\n",
      "Layer 117: convnext_tiny_stage_2_block_8_depthwise_conv, Trainable: True\n",
      "Layer 118: convnext_tiny_stage_2_block_8_layernorm, Trainable: True\n",
      "Layer 119: convnext_tiny_stage_2_block_8_pointwise_conv_1, Trainable: True\n",
      "Layer 120: convnext_tiny_stage_2_block_8_gelu, Trainable: True\n",
      "Layer 121: convnext_tiny_stage_2_block_8_pointwise_conv_2, Trainable: True\n",
      "Layer 122: convnext_tiny_stage_2_block_8_layer_scale, Trainable: True\n",
      "Layer 123: convnext_tiny_stage_2_block_8_identity, Trainable: True\n",
      "Layer 124: tf.__operators__.add_14, Trainable: True\n",
      "Layer 125: convnext_tiny_downsampling_block_2, Trainable: True\n",
      "Layer 126: convnext_tiny_stage_3_block_0_depthwise_conv, Trainable: True\n",
      "Layer 127: convnext_tiny_stage_3_block_0_layernorm, Trainable: True\n",
      "Layer 128: convnext_tiny_stage_3_block_0_pointwise_conv_1, Trainable: True\n",
      "Layer 129: convnext_tiny_stage_3_block_0_gelu, Trainable: True\n",
      "Layer 130: convnext_tiny_stage_3_block_0_pointwise_conv_2, Trainable: True\n",
      "Layer 131: convnext_tiny_stage_3_block_0_layer_scale, Trainable: True\n",
      "Layer 132: convnext_tiny_stage_3_block_0_identity, Trainable: True\n",
      "Layer 133: tf.__operators__.add_15, Trainable: True\n",
      "Layer 134: convnext_tiny_stage_3_block_1_depthwise_conv, Trainable: True\n",
      "Layer 135: convnext_tiny_stage_3_block_1_layernorm, Trainable: True\n",
      "Layer 136: convnext_tiny_stage_3_block_1_pointwise_conv_1, Trainable: True\n",
      "Layer 137: convnext_tiny_stage_3_block_1_gelu, Trainable: True\n",
      "Layer 138: convnext_tiny_stage_3_block_1_pointwise_conv_2, Trainable: True\n",
      "Layer 139: convnext_tiny_stage_3_block_1_layer_scale, Trainable: True\n",
      "Layer 140: convnext_tiny_stage_3_block_1_identity, Trainable: True\n",
      "Layer 141: tf.__operators__.add_16, Trainable: True\n",
      "Layer 142: convnext_tiny_stage_3_block_2_depthwise_conv, Trainable: True\n",
      "Layer 143: convnext_tiny_stage_3_block_2_layernorm, Trainable: True\n",
      "Layer 144: convnext_tiny_stage_3_block_2_pointwise_conv_1, Trainable: True\n",
      "Layer 145: convnext_tiny_stage_3_block_2_gelu, Trainable: True\n",
      "Layer 146: convnext_tiny_stage_3_block_2_pointwise_conv_2, Trainable: True\n",
      "Layer 147: convnext_tiny_stage_3_block_2_layer_scale, Trainable: True\n",
      "Layer 148: convnext_tiny_stage_3_block_2_identity, Trainable: True\n",
      "Layer 149: tf.__operators__.add_17, Trainable: True\n",
      "Layer 150: layer_normalization, Trainable: True\n"
     ]
    }
   ],
   "source": [
    "for i, layer in enumerate(base_model.layers):\n",
    "    print(f\"Layer {i}: {layer.name}, Trainable: {layer.trainable}\")"
   ]
  },
  {
   "cell_type": "code",
   "execution_count": 26,
   "id": "e46b689c",
   "metadata": {
    "execution": {
     "iopub.execute_input": "2024-12-01T14:13:39.433144Z",
     "iopub.status.busy": "2024-12-01T14:13:39.432417Z",
     "iopub.status.idle": "2024-12-01T14:13:40.362895Z",
     "shell.execute_reply": "2024-12-01T14:13:40.361995Z"
    },
    "id": "le6O7kGIw6h6",
    "outputId": "39222857-cd5c-416d-de52-239f14a0ade8",
    "papermill": {
     "duration": 0.952249,
     "end_time": "2024-12-01T14:13:40.364837",
     "exception": false,
     "start_time": "2024-12-01T14:13:39.412588",
     "status": "completed"
    },
    "tags": []
   },
   "outputs": [
    {
     "name": "stdout",
     "output_type": "stream",
     "text": [
      "Model: \"sequential\"\n",
      "_________________________________________________________________\n",
      " Layer (type)                Output Shape              Param #   \n",
      "=================================================================\n",
      " convnext_tiny (Functional)  (None, 7, 7, 768)         27820128  \n",
      "                                                                 \n",
      " global_average_pooling2d (G  (None, 768)              0         \n",
      " lobalAveragePooling2D)                                          \n",
      "                                                                 \n",
      " dense (Dense)               (None, 4)                 3076      \n",
      "                                                                 \n",
      "=================================================================\n",
      "Total params: 27,823,204\n",
      "Trainable params: 27,823,204\n",
      "Non-trainable params: 0\n",
      "_________________________________________________________________\n"
     ]
    }
   ],
   "source": [
    "model = Sequential([\n",
    "    base_model,\n",
    "    GlobalAveragePooling2D(),\n",
    "    Dense(4, activation='softmax')\n",
    "])\n",
    "model.summary()"
   ]
  },
  {
   "cell_type": "code",
   "execution_count": 27,
   "id": "419451a8",
   "metadata": {
    "execution": {
     "iopub.execute_input": "2024-12-01T14:13:40.406795Z",
     "iopub.status.busy": "2024-12-01T14:13:40.406465Z",
     "iopub.status.idle": "2024-12-01T14:13:40.581534Z",
     "shell.execute_reply": "2024-12-01T14:13:40.580635Z"
    },
    "id": "kIpnFMMF2scs",
    "outputId": "1d6ca13b-3a9f-47ca-8997-9951c60a8f7b",
    "papermill": {
     "duration": 0.197815,
     "end_time": "2024-12-01T14:13:40.583457",
     "exception": false,
     "start_time": "2024-12-01T14:13:40.385642",
     "status": "completed"
    },
    "tags": []
   },
   "outputs": [
    {
     "data": {
      "image/png": "[encoded data removed]",
      "text/plain": [
       "<IPython.core.display.Image object>"
      ]
     },
     "execution_count": 27,
     "metadata": {},
     "output_type": "execute_result"
    }
   ],
   "source": [
    "from tensorflow.keras.utils import plot_model\n",
    "from IPython.display import Image\n",
    "plot_model(model, to_file='convnet.png', show_shapes=True,show_layer_names=True)\n",
    "Image(filename='convnet.png')"
   ]
  },
  {
   "cell_type": "code",
   "execution_count": 28,
   "id": "8168d5fd",
   "metadata": {
    "execution": {
     "iopub.execute_input": "2024-12-01T14:13:40.627773Z",
     "iopub.status.busy": "2024-12-01T14:13:40.627419Z",
     "iopub.status.idle": "2024-12-01T14:13:40.649322Z",
     "shell.execute_reply": "2024-12-01T14:13:40.648674Z"
    },
    "id": "CMtjjQwmaBjC",
    "papermill": {
     "duration": 0.045471,
     "end_time": "2024-12-01T14:13:40.651057",
     "exception": false,
     "start_time": "2024-12-01T14:13:40.605586",
     "status": "completed"
    },
    "tags": []
   },
   "outputs": [],
   "source": [
    "model.compile(\n",
    "    loss=\"categorical_crossentropy\",\n",
    "    optimizer=Adam(learning_rate=0.0005),\n",
    "    metrics=METRICS\n",
    ")"
   ]
  },
  {
   "cell_type": "code",
   "execution_count": 29,
   "id": "fa9bcc98",
   "metadata": {
    "execution": {
     "iopub.execute_input": "2024-12-01T14:13:40.695713Z",
     "iopub.status.busy": "2024-12-01T14:13:40.695392Z",
     "iopub.status.idle": "2024-12-01T14:13:40.699619Z",
     "shell.execute_reply": "2024-12-01T14:13:40.698824Z"
    },
    "id": "9Zjmg5poaBjC",
    "papermill": {
     "duration": 0.027473,
     "end_time": "2024-12-01T14:13:40.701230",
     "exception": false,
     "start_time": "2024-12-01T14:13:40.673757",
     "status": "completed"
    },
    "tags": []
   },
   "outputs": [],
   "source": [
    "callbacks = [\n",
    "    ModelCheckpoint(\"best_model.keras\", monitor=\"val_accuracy\", save_best_only=True, verbose=1),\n",
    "     EarlyStopping(monitor=\"val_loss\", patience=5, verbose=1, restore_best_weights=True)\n",
    "]"
   ]
  },
  {
   "cell_type": "code",
   "execution_count": 30,
   "id": "f9d59c6a",
   "metadata": {
    "execution": {
     "iopub.execute_input": "2024-12-01T14:13:40.743766Z",
     "iopub.status.busy": "2024-12-01T14:13:40.743138Z",
     "iopub.status.idle": "2024-12-01T21:36:38.680128Z",
     "shell.execute_reply": "2024-12-01T21:36:38.679257Z"
    },
    "id": "zgcn2wlOaBjD",
    "outputId": "caddf458-0b0d-45d5-dc62-368147491d47",
    "papermill": {
     "duration": 26578.001139,
     "end_time": "2024-12-01T21:36:38.722960",
     "exception": false,
     "start_time": "2024-12-01T14:13:40.721821",
     "status": "completed"
    },
    "tags": []
   },
   "outputs": [
    {
     "name": "stdout",
     "output_type": "stream",
     "text": [
      "Epoch 1/35\n",
      "109/109 [==============================] - ETA: 0s - loss: 1.0150 - accuracy: 0.5138 - precision: 0.6234 - recall: 0.3823 - auc: 0.8022 - f1_score: 0.5138 \n",
      "Epoch 1: val_accuracy improved from -inf to 0.58706, saving model to best_model.keras\n",
      "109/109 [==============================] - 2266s 21s/step - loss: 1.0150 - accuracy: 0.5138 - precision: 0.6234 - recall: 0.3823 - auc: 0.8022 - f1_score: 0.5138 - val_loss: 0.8618 - val_accuracy: 0.5871 - val_precision: 0.9298 - val_recall: 0.2637 - val_auc: 0.8351 - val_f1_score: 0.5871\n",
      "Epoch 2/35\n",
      "109/109 [==============================] - ETA: 0s - loss: 0.7307 - accuracy: 0.6728 - precision: 0.7346 - recall: 0.5841 - auc: 0.9039 - f1_score: 0.6728 \n",
      "Epoch 2: val_accuracy improved from 0.58706 to 0.66667, saving model to best_model.keras\n",
      "109/109 [==============================] - 2225s 20s/step - loss: 0.7307 - accuracy: 0.6728 - precision: 0.7346 - recall: 0.5841 - auc: 0.9039 - f1_score: 0.6728 - val_loss: 0.6878 - val_accuracy: 0.6667 - val_precision: 0.6885 - val_recall: 0.6269 - val_auc: 0.9111 - val_f1_score: 0.6667\n",
      "Epoch 3/35\n",
      "109/109 [==============================] - ETA: 0s - loss: 0.5287 - accuracy: 0.7890 - precision: 0.8081 - recall: 0.7599 - auc: 0.9513 - f1_score: 0.7890 \n",
      "Epoch 3: val_accuracy improved from 0.66667 to 0.67164, saving model to best_model.keras\n",
      "109/109 [==============================] - 2221s 20s/step - loss: 0.5287 - accuracy: 0.7890 - precision: 0.8081 - recall: 0.7599 - auc: 0.9513 - f1_score: 0.7890 - val_loss: 0.7105 - val_accuracy: 0.6716 - val_precision: 0.7635 - val_recall: 0.5622 - val_auc: 0.9066 - val_f1_score: 0.6716\n",
      "Epoch 4/35\n",
      "109/109 [==============================] - ETA: 0s - loss: 0.2965 - accuracy: 0.8945 - precision: 0.9014 - recall: 0.8807 - auc: 0.9837 - f1_score: 0.8945 \n",
      "Epoch 4: val_accuracy improved from 0.67164 to 0.74129, saving model to best_model.keras\n",
      "109/109 [==============================] - 2223s 20s/step - loss: 0.2965 - accuracy: 0.8945 - precision: 0.9014 - recall: 0.8807 - auc: 0.9837 - f1_score: 0.8945 - val_loss: 0.6416 - val_accuracy: 0.7413 - val_precision: 0.7604 - val_recall: 0.7264 - val_auc: 0.9448 - val_f1_score: 0.7413\n",
      "Epoch 5/35\n",
      "109/109 [==============================] - ETA: 0s - loss: 0.1728 - accuracy: 0.9388 - precision: 0.9398 - recall: 0.9312 - auc: 0.9931 - f1_score: 0.9388 \n",
      "Epoch 5: val_accuracy improved from 0.74129 to 0.89055, saving model to best_model.keras\n",
      "109/109 [==============================] - 2205s 20s/step - loss: 0.1728 - accuracy: 0.9388 - precision: 0.9398 - recall: 0.9312 - auc: 0.9931 - f1_score: 0.9388 - val_loss: 0.3401 - val_accuracy: 0.8905 - val_precision: 0.9016 - val_recall: 0.8657 - val_auc: 0.9801 - val_f1_score: 0.8905\n",
      "Epoch 6/35\n",
      "109/109 [==============================] - ETA: 0s - loss: 0.1158 - accuracy: 0.9587 - precision: 0.9602 - recall: 0.9587 - auc: 0.9964 - f1_score: 0.9587 \n",
      "Epoch 6: val_accuracy improved from 0.89055 to 0.91542, saving model to best_model.keras\n",
      "109/109 [==============================] - 2214s 20s/step - loss: 0.1158 - accuracy: 0.9587 - precision: 0.9602 - recall: 0.9587 - auc: 0.9964 - f1_score: 0.9587 - val_loss: 0.2945 - val_accuracy: 0.9154 - val_precision: 0.9150 - val_recall: 0.9104 - val_auc: 0.9833 - val_f1_score: 0.9154\n",
      "Epoch 7/35\n",
      "109/109 [==============================] - ETA: 0s - loss: 0.1334 - accuracy: 0.9495 - precision: 0.9536 - recall: 0.9419 - auc: 0.9967 - f1_score: 0.9495 \n",
      "Epoch 7: val_accuracy improved from 0.91542 to 0.94030, saving model to best_model.keras\n",
      "109/109 [==============================] - 2213s 20s/step - loss: 0.1334 - accuracy: 0.9495 - precision: 0.9536 - recall: 0.9419 - auc: 0.9967 - f1_score: 0.9495 - val_loss: 0.2638 - val_accuracy: 0.9403 - val_precision: 0.9397 - val_recall: 0.9303 - val_auc: 0.9852 - val_f1_score: 0.9403\n",
      "Epoch 8/35\n",
      "109/109 [==============================] - ETA: 0s - loss: 0.0112 - accuracy: 0.9985 - precision: 0.9985 - recall: 0.9985 - auc: 0.9992 - f1_score: 0.9985 \n",
      "Epoch 8: val_accuracy did not improve from 0.94030\n",
      "109/109 [==============================] - 2193s 20s/step - loss: 0.0112 - accuracy: 0.9985 - precision: 0.9985 - recall: 0.9985 - auc: 0.9992 - f1_score: 0.9985 - val_loss: 0.2967 - val_accuracy: 0.9005 - val_precision: 0.9000 - val_recall: 0.8955 - val_auc: 0.9820 - val_f1_score: 0.9005\n",
      "Epoch 9/35\n",
      "109/109 [==============================] - ETA: 0s - loss: 0.0304 - accuracy: 0.9908 - precision: 0.9923 - recall: 0.9908 - auc: 0.9998 - f1_score: 0.9908 \n",
      "Epoch 9: val_accuracy did not improve from 0.94030\n",
      "109/109 [==============================] - 2198s 20s/step - loss: 0.0304 - accuracy: 0.9908 - precision: 0.9923 - recall: 0.9908 - auc: 0.9998 - f1_score: 0.9908 - val_loss: 0.3102 - val_accuracy: 0.9154 - val_precision: 0.9200 - val_recall: 0.9154 - val_auc: 0.9831 - val_f1_score: 0.9154\n",
      "Epoch 10/35\n",
      "109/109 [==============================] - ETA: 0s - loss: 0.0078 - accuracy: 0.9969 - precision: 0.9985 - recall: 0.9969 - auc: 1.0000 - f1_score: 0.9969 \n",
      "Epoch 10: val_accuracy did not improve from 0.94030\n",
      "109/109 [==============================] - 2200s 20s/step - loss: 0.0078 - accuracy: 0.9969 - precision: 0.9985 - recall: 0.9969 - auc: 1.0000 - f1_score: 0.9969 - val_loss: 0.4136 - val_accuracy: 0.8905 - val_precision: 0.8905 - val_recall: 0.8905 - val_auc: 0.9799 - val_f1_score: 0.8905\n",
      "Epoch 11/35\n",
      "109/109 [==============================] - ETA: 0s - loss: 0.0481 - accuracy: 0.9862 - precision: 0.9862 - recall: 0.9847 - auc: 0.9987 - f1_score: 0.9862 \n",
      "Epoch 11: val_accuracy did not improve from 0.94030\n",
      "109/109 [==============================] - 2212s 20s/step - loss: 0.0481 - accuracy: 0.9862 - precision: 0.9862 - recall: 0.9847 - auc: 0.9987 - f1_score: 0.9862 - val_loss: 0.4107 - val_accuracy: 0.8856 - val_precision: 0.8900 - val_recall: 0.8856 - val_auc: 0.9694 - val_f1_score: 0.8856\n",
      "Epoch 12/35\n",
      "109/109 [==============================] - ETA: 0s - loss: 0.1111 - accuracy: 0.9664 - precision: 0.9708 - recall: 0.9648 - auc: 0.9958 - f1_score: 0.9664 \n",
      "Epoch 12: val_accuracy did not improve from 0.94030\n",
      "Restoring model weights from the end of the best epoch: 7.\n",
      "109/109 [==============================] - 2207s 20s/step - loss: 0.1111 - accuracy: 0.9664 - precision: 0.9708 - recall: 0.9648 - auc: 0.9958 - f1_score: 0.9664 - val_loss: 0.4371 - val_accuracy: 0.8358 - val_precision: 0.8601 - val_recall: 0.8259 - val_auc: 0.9643 - val_f1_score: 0.8358\n",
      "Epoch 12: early stopping\n"
     ]
    }
   ],
   "source": [
    "history = model.fit(\n",
    "    train_generator,\n",
    "    validation_data=validation_generator,\n",
    "    epochs=35,\n",
    "    callbacks=callbacks,\n",
    "        verbose=1\n",
    "    #  , class_weight=class_weights\n",
    ")"
   ]
  },
  {
   "cell_type": "code",
   "execution_count": 31,
   "id": "321c9b9b",
   "metadata": {
    "execution": {
     "iopub.execute_input": "2024-12-01T21:36:38.888374Z",
     "iopub.status.busy": "2024-12-01T21:36:38.887589Z",
     "iopub.status.idle": "2024-12-01T21:36:39.691013Z",
     "shell.execute_reply": "2024-12-01T21:36:39.690220Z"
    },
    "id": "kE8Q1PqGaBjD",
    "papermill": {
     "duration": 0.888968,
     "end_time": "2024-12-01T21:36:39.693457",
     "exception": false,
     "start_time": "2024-12-01T21:36:38.804489",
     "status": "completed"
    },
    "tags": []
   },
   "outputs": [
    {
     "data": {
      "image/png": "[encoded data removed]",
      "text/plain": [
       "<Figure size 2200x500 with 5 Axes>"
      ]
     },
     "metadata": {},
     "output_type": "display_data"
    }
   ],
   "source": [
    "def Train_Val_Plot(acc, val_acc, loss, val_loss, auc, val_auc, precision, val_precision, f1, val_f1):\n",
    "\n",
    "    fig, (ax1, ax2, ax3, ax4, ax5) = plt.subplots(1, 5, figsize=(22, 5))\n",
    "    fig.suptitle(\" MODEL'S METRICS VISUALIZATION \")\n",
    "\n",
    "    # Rescale the y-axis for accuracy, auc, precision, and f1\n",
    "    rescale_factor = 0  # Adjust this factor to control the rescaling\n",
    "\n",
    "    ax1.plot(range(1, len(acc) + 1), acc)\n",
    "    ax1.plot(range(1, len(val_acc) + 1), val_acc)\n",
    "    ax1.set_title('History of Accuracy')\n",
    "    ax1.set_xlabel('Epochs')\n",
    "    ax1.set_ylabel('Accuracy')\n",
    "    ax1.set_ylim([0, 1.0])\n",
    "    ax1.legend(['training', 'validation'])\n",
    "\n",
    "    ax2.plot(range(1, len(loss) + 1), loss)\n",
    "    ax2.plot(range(1, len(val_loss) + 1), val_loss)\n",
    "    ax2.set_title('History of Loss')\n",
    "    ax2.set_xlabel('Epochs')\n",
    "    ax2.set_ylabel('Loss')\n",
    "    ax2.legend(['training', 'validation'])\n",
    "\n",
    "    ax3.plot(range(1, len(auc) + 1), auc)\n",
    "    ax3.plot(range(1, len(val_auc) + 1), val_auc)\n",
    "    ax3.set_title('History of AUC')\n",
    "    ax3.set_xlabel('Epochs')\n",
    "    ax3.set_ylabel('AUC')\n",
    "    ax3.set_ylim([rescale_factor, 1.0])\n",
    "    ax3.legend(['training', 'validation'])\n",
    "\n",
    "    ax4.plot(range(1, len(precision) + 1), precision)\n",
    "    ax4.plot(range(1, len(val_precision) + 1), val_precision)\n",
    "    ax4.set_title('History of Precision')\n",
    "    ax4.set_xlabel('Epochs')\n",
    "    ax4.set_ylabel('Precision')\n",
    "    ax4.set_ylim([rescale_factor, 1.0])\n",
    "    ax4.legend(['training', 'validation'])\n",
    "\n",
    "    ax5.plot(range(1, len(f1) + 1), f1)\n",
    "    ax5.plot(range(1, len(val_f1) + 1), val_f1)\n",
    "    ax5.set_title('History of F1-score')\n",
    "    ax5.set_xlabel('Epochs')\n",
    "    ax5.set_ylabel('F1 score')\n",
    "    ax5.set_ylim([rescale_factor, 1.0])\n",
    "    ax5.legend(['training', 'validation'])\n",
    "\n",
    "    plt.show()\n",
    "\n",
    "# Example usage:\n",
    "Train_Val_Plot(history.history['accuracy'], history.history['val_accuracy'],\n",
    "               history.history['loss'], history.history['val_loss']\n",
    "               ,\n",
    "               history.history['auc'], history.history['val_auc'],\n",
    "               history.history['precision'], history.history['val_precision'],\n",
    "               history.history['f1_score'], history.history['val_f1_score'])"
   ]
  },
  {
   "cell_type": "code",
   "execution_count": 32,
   "id": "abe3acfe",
   "metadata": {
    "execution": {
     "iopub.execute_input": "2024-12-01T21:36:39.861681Z",
     "iopub.status.busy": "2024-12-01T21:36:39.860910Z",
     "iopub.status.idle": "2024-12-01T21:39:12.956239Z",
     "shell.execute_reply": "2024-12-01T21:39:12.955541Z"
    },
    "id": "utE8sko2aBjD",
    "papermill": {
     "duration": 153.179783,
     "end_time": "2024-12-01T21:39:12.957794",
     "exception": false,
     "start_time": "2024-12-01T21:36:39.778011",
     "status": "completed"
    },
    "tags": []
   },
   "outputs": [
    {
     "name": "stdout",
     "output_type": "stream",
     "text": [
      "25/25 [==============================] - 153s 6s/step - loss: 0.2044 - accuracy: 0.9379 - precision: 0.9379 - recall: 0.9379 - auc: 0.9911 - f1_score: 0.9379\n"
     ]
    },
    {
     "data": {
      "text/plain": [
       "[0.20436657965183258,\n",
       " 0.9379310607910156,\n",
       " 0.9379310607910156,\n",
       " 0.9379310607910156,\n",
       " 0.9911454319953918,\n",
       " 0.9379310607910156]"
      ]
     },
     "execution_count": 32,
     "metadata": {},
     "output_type": "execute_result"
    }
   ],
   "source": [
    "model.evaluate(test_generator)"
   ]
  },
  {
   "cell_type": "code",
   "execution_count": 33,
   "id": "c077425b",
   "metadata": {
    "execution": {
     "iopub.execute_input": "2024-12-01T21:39:13.147406Z",
     "iopub.status.busy": "2024-12-01T21:39:13.147099Z",
     "iopub.status.idle": "2024-12-01T21:42:10.520410Z",
     "shell.execute_reply": "2024-12-01T21:42:10.519490Z"
    },
    "id": "z0kvictcppHg",
    "papermill": {
     "duration": 177.536171,
     "end_time": "2024-12-01T21:42:10.591083",
     "exception": false,
     "start_time": "2024-12-01T21:39:13.054912",
     "status": "completed"
    },
    "tags": []
   },
   "outputs": [
    {
     "name": "stdout",
     "output_type": "stream",
     "text": [
      "7/7 [==============================] - 177s 25s/step\n",
      "              precision    recall  f1-score   support\n",
      "\n",
      "           0       0.90      0.97      0.94        68\n",
      "           1       0.90      0.95      0.92        38\n",
      "           2       1.00      0.98      0.99        43\n",
      "           3       0.98      0.87      0.92        52\n",
      "\n",
      "    accuracy                           0.94       201\n",
      "   macro avg       0.95      0.94      0.94       201\n",
      "weighted avg       0.94      0.94      0.94       201\n",
      "\n"
     ]
    }
   ],
   "source": [
    "# Load the test dataset\n",
    "X_test, y_test = [], []\n",
    "for i in range(len(validation_generator)):\n",
    "    batch_X, batch_y = validation_generator[i]\n",
    "    X_test.append(batch_X)\n",
    "    y_test.append(batch_y)\n",
    "X_test = np.concatenate(X_test)\n",
    "y_test = np.concatenate(y_test)\n",
    "\n",
    "# Make predictions on the test set\n",
    "y_pred = model.predict(X_test)\n",
    "\n",
    "# Convert the one-hot encoded predictions to class labels\n",
    "y_pred_classes = np.argmax(y_pred, axis=1)\n",
    "\n",
    "# Convert the one-hot encoded true labels to class labels\n",
    "y_true_classes = np.argmax(y_test, axis=1)\n",
    "\n",
    "# Create a classification report\n",
    "report = classification_report(y_true_classes, y_pred_classes)\n",
    "\n",
    "print(report)"
   ]
  },
  {
   "cell_type": "code",
   "execution_count": 34,
   "id": "fb37c8fc",
   "metadata": {
    "execution": {
     "iopub.execute_input": "2024-12-01T21:42:10.759263Z",
     "iopub.status.busy": "2024-12-01T21:42:10.758428Z",
     "iopub.status.idle": "2024-12-01T21:42:11.058255Z",
     "shell.execute_reply": "2024-12-01T21:42:11.057399Z"
    },
    "id": "1oDQrOfqpz_i",
    "papermill": {
     "duration": 0.385822,
     "end_time": "2024-12-01T21:42:11.059930",
     "exception": false,
     "start_time": "2024-12-01T21:42:10.674108",
     "status": "completed"
    },
    "tags": []
   },
   "outputs": [
    {
     "data": {
      "image/png": "[encoded data removed]",
      "text/plain": [
       "<Figure size 800x600 with 2 Axes>"
      ]
     },
     "metadata": {},
     "output_type": "display_data"
    }
   ],
   "source": [
    "class_names = ['adenocarcinoma', 'large.cell.carcinoma', 'normal', 'squamous.cell.carcinoma']\n",
    "cm = confusion_matrix(y_true_classes, y_pred_classes)\n",
    "\n",
    "# Plotting the Confusion Matrix\n",
    "plt.figure(figsize=(8, 6))\n",
    "sns.heatmap(cm, annot=True, fmt='d', cmap='Blues', xticklabels=class_names, yticklabels=class_names)\n",
    "plt.xlabel('Predicted')\n",
    "plt.ylabel('True')\n",
    "plt.title('Confusion Matrix')\n",
    "plt.show()"
   ]
  }
 ],
 "metadata": {
  "accelerator": "GPU",
  "colab": {
   "gpuType": "T4",
   "provenance": []
  },
  "kaggle": {
   "accelerator": "gpu",
   "dataSources": [],
   "dockerImageVersionId": 30787,
   "isGpuEnabled": true,
   "isInternetEnabled": true,
   "language": "python",
   "sourceType": "notebook"
  },
  "kernelspec": {
   "display_name": "Python 3",
   "language": "python",
   "name": "python3"
  },
  "language_info": {
   "codemirror_mode": {
    "name": "ipython",
    "version": 3
   },
   "file_extension": ".py",
   "mimetype": "text/x-python",
   "name": "python",
   "nbconvert_exporter": "python",
   "pygments_lexer": "ipython3",
   "version": "3.10.14"
  },
  "papermill": {
   "default_parameters": {},
   "duration": 27029.872057,
   "end_time": "2024-12-01T21:42:14.549017",
   "environment_variables": {},
   "exception": null,
   "input_path": "__notebook__.ipynb",
   "output_path": "__notebook__.ipynb",
   "parameters": {},
   "start_time": "2024-12-01T14:11:44.676960",
   "version": "2.6.0"
  }
 },
 "nbformat": 4,
 "nbformat_minor": 5
}
