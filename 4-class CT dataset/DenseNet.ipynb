{
  "nbformat": 4,
  "nbformat_minor": 0,
  "metadata": {
    "colab": {
      "provenance": [],
      "gpuType": "T4"
    },
    "kernelspec": {
      "name": "python3",
      "display_name": "Python 3"
    },
    "language_info": {
      "name": "python"
    },
    "accelerator": "GPU"
  },
  "cells": [
    {
      "cell_type": "code",
      "execution_count": 6,
      "metadata": {
        "id": "GitBDng_36xV"
      },
      "outputs": [],
      "source": [
        "import zipfile"
      ]
    },
    {
      "cell_type": "code",
      "execution_count": 7,
      "metadata": {
        "id": "z3FHA2tYbNfx"
      },
      "outputs": [],
      "source": [
        "import zipfile\n",
        "import os\n",
        "import random\n",
        "import shutil\n",
        "import numpy as np\n",
        "import pandas as pd\n",
        "import matplotlib.pyplot as plt\n",
        "import seaborn as sns\n",
        "import skimage.io\n",
        "import keras.backend as K\n",
        "import tensorflow as tf\n",
        "from tensorflow.keras.models import Sequential, Model\n",
        "from tensorflow.keras.applications import(InceptionV3, MobileNetV2, DenseNet121, ResNet50, EfficientNetV2B0, Xception)\n",
        "from tensorflow.keras.layers import (Conv2D, MaxPooling2D, Flatten, Dense, Dropout,BatchNormalization, Activation, GlobalAveragePooling2D,DepthwiseConv2D, Input, Add, Concatenate)\n",
        "from tensorflow.keras.optimizers import Adam\n",
        "from tensorflow.keras.losses import CategoricalCrossentropy\n",
        "from tensorflow.keras.preprocessing.image import ImageDataGenerator\n",
        "from tensorflow.keras.callbacks import ReduceLROnPlateau, ModelCheckpoint, EarlyStopping, LearningRateScheduler\n",
        "from sklearn.metrics import confusion_matrix, classification_report, accuracy_score\n",
        "from sklearn.model_selection import train_test_split\n",
        "from tensorflow.keras.utils import plot_model\n",
        "from IPython.display import Image\n"
      ]
    },
    {
      "cell_type": "code",
      "execution_count": 8,
      "metadata": {
        "colab": {
          "base_uri": "https://localhost:8080/"
        },
        "id": "PvNXi8K2K1HO",
        "outputId": "d7ef4c61-39aa-4b1d-8939-00c7a5878958"
      },
      "outputs": [
        {
          "output_type": "stream",
          "name": "stdout",
          "text": [
            "Requirement already satisfied: tensorflow-addons==0.17.1 in /usr/local/lib/python3.10/dist-packages (0.17.1)\n",
            "Requirement already satisfied: packaging in /usr/local/lib/python3.10/dist-packages (from tensorflow-addons==0.17.1) (24.1)\n",
            "Requirement already satisfied: typeguard>=2.7 in /usr/local/lib/python3.10/dist-packages (from tensorflow-addons==0.17.1) (4.3.0)\n",
            "Requirement already satisfied: typing-extensions>=4.10.0 in /usr/local/lib/python3.10/dist-packages (from typeguard>=2.7->tensorflow-addons==0.17.1) (4.12.2)\n"
          ]
        }
      ],
      "source": [
        "!pip install tensorflow-addons==0.17.1\n",
        "import tensorflow_addons as tfa"
      ]
    },
    {
      "cell_type": "markdown",
      "metadata": {
        "id": "PO_UpS4vaBi8"
      },
      "source": [
        "Try 3"
      ]
    },
    {
      "cell_type": "code",
      "execution_count": 5,
      "metadata": {
        "id": "QyN8qV0huMwD"
      },
      "outputs": [],
      "source": [
        "zip_path = \"/content/drive/MyDrive/Colab Notebooks/Lung Cancer dataset 1 /Copy of train.zip\"  # Path to the ZIP file\n",
        "extracted_path = \"/content/chest_ctscan_images\"  # Path to extract the files\n",
        "with zipfile.ZipFile(zip_path, 'r') as zip_ref:\n",
        "    zip_ref.extractall(extracted_path)"
      ]
    },
    {
      "cell_type": "code",
      "execution_count": 9,
      "metadata": {
        "id": "TwEwT2nCuPYv"
      },
      "outputs": [],
      "source": [
        "train_dir = os.path.join(extracted_path, \"train\")\n",
        "valid_dir = \"/content/chest_ctscan_images/valid\"\n",
        "test_dir = \"/content/chest_ctscan_images/test\""
      ]
    },
    {
      "cell_type": "code",
      "execution_count": 10,
      "metadata": {
        "id": "cUjh_ksquT_w"
      },
      "outputs": [],
      "source": [
        "# Create a validation set from a portion of the training set\n",
        "def create_validation_set(source_dir, validation_dir, validation_ratio=0.2):\n",
        "    if not os.path.exists(validation_dir):\n",
        "        os.makedirs(validation_dir)\n",
        "\n",
        "    for class_name in os.listdir(source_dir):\n",
        "        class_source_path = os.path.join(source_dir, class_name)\n",
        "        class_valid_path = os.path.join(validation_dir, class_name)\n",
        "\n",
        "        if not os.path.exists(class_valid_path):\n",
        "            os.makedirs(class_valid_path)\n",
        "\n",
        "        all_files = os.listdir(class_source_path)\n",
        "        train_files, valid_files = train_test_split(all_files, test_size=validation_ratio, random_state=42)\n",
        "\n",
        "        for file in valid_files:\n",
        "            shutil.move(os.path.join(class_source_path, file), os.path.join(class_valid_path, file))\n",
        "\n",
        "create_validation_set(train_dir, valid_dir, validation_ratio=0.2)  # Split 20% for validation\n"
      ]
    },
    {
      "cell_type": "code",
      "execution_count": 11,
      "metadata": {
        "id": "xPSkhXLkn0-0"
      },
      "outputs": [],
      "source": [
        "# Example code to create a test set from a portion of the training set\n",
        "def create_test_set(source_dir, test_dir, test_ratio=0.1):\n",
        "    # Create test directory if it doesn't exist\n",
        "    if not os.path.exists(test_dir):\n",
        "        os.makedirs(test_dir)\n",
        "\n",
        "    for class_name in os.listdir(source_dir):\n",
        "        class_source_path = os.path.join(source_dir, class_name)\n",
        "        class_test_path = os.path.join(test_dir, class_name)\n",
        "\n",
        "        if not os.path.exists(class_test_path):\n",
        "            os.makedirs(class_test_path)\n",
        "\n",
        "        all_files = os.listdir(class_source_path)\n",
        "        train_files, test_files = train_test_split(all_files, test_size=test_ratio, random_state=42)\n",
        "\n",
        "        for file in test_files:\n",
        "            shutil.move(os.path.join(class_source_path, file), os.path.join(class_test_path, file))\n",
        "\n",
        "create_test_set(train_dir, test_dir, test_ratio=0.18)  # Split 10% for test\n"
      ]
    },
    {
      "cell_type": "code",
      "execution_count": 12,
      "metadata": {
        "id": "OBHrYqxLuU5C"
      },
      "outputs": [],
      "source": [
        "train_datagen = ImageDataGenerator(\n",
        "    # rescale=1.0/255,\n",
        "    # rotation_range=20,\n",
        "    # width_shift_range=0.2,\n",
        "    # height_shift_range=0.2,\n",
        "    # shear_range=0.2,\n",
        "    # zoom_range=0.2,\n",
        "    # horizontal_flip=True\n",
        ")"
      ]
    },
    {
      "cell_type": "code",
      "execution_count": 13,
      "metadata": {
        "id": "5OZi-BPsuYkQ"
      },
      "outputs": [],
      "source": [
        "valid_datagen = ImageDataGenerator()\n",
        "test_datagen = ImageDataGenerator()"
      ]
    },
    {
      "cell_type": "code",
      "execution_count": 14,
      "metadata": {
        "id": "s58bw8FiuczT",
        "colab": {
          "base_uri": "https://localhost:8080/"
        },
        "outputId": "7b582984-3450-4302-cf19-91893c19c707"
      },
      "outputs": [
        {
          "output_type": "stream",
          "name": "stdout",
          "text": [
            "Found 654 images belonging to 4 classes.\n"
          ]
        }
      ],
      "source": [
        "train_generator = train_datagen.flow_from_directory(\n",
        "    train_dir,\n",
        "    target_size=(224,224),\n",
        "    batch_size=16,\n",
        "    class_mode='categorical'\n",
        ")"
      ]
    },
    {
      "cell_type": "code",
      "execution_count": 15,
      "metadata": {
        "id": "_VAT1nn6ufRV",
        "colab": {
          "base_uri": "https://localhost:8080/"
        },
        "outputId": "669bc31b-9e04-47ac-f418-e0044ac5af86"
      },
      "outputs": [
        {
          "output_type": "stream",
          "name": "stdout",
          "text": [
            "Found 201 images belonging to 4 classes.\n"
          ]
        }
      ],
      "source": [
        "validation_generator = valid_datagen.flow_from_directory(\n",
        "    valid_dir,\n",
        "    target_size=(224,224),\n",
        "    batch_size=16,\n",
        "    class_mode='categorical'\n",
        ")"
      ]
    },
    {
      "cell_type": "code",
      "execution_count": 16,
      "metadata": {
        "id": "79higThAuhq_",
        "colab": {
          "base_uri": "https://localhost:8080/"
        },
        "outputId": "9d160d11-43dc-43cd-bf2b-78fa4941cf41"
      },
      "outputs": [
        {
          "output_type": "stream",
          "name": "stdout",
          "text": [
            "Found 145 images belonging to 4 classes.\n"
          ]
        }
      ],
      "source": [
        "test_generator = test_datagen.flow_from_directory(\n",
        "    test_dir,\n",
        "    target_size=(224,224),\n",
        "    batch_size=16,\n",
        "    class_mode='categorical'\n",
        ")"
      ]
    },
    {
      "cell_type": "code",
      "execution_count": 17,
      "metadata": {
        "id": "wJy_CEHicRgM"
      },
      "outputs": [],
      "source": [
        "os.makedirs(test_dir, exist_ok=True)\n"
      ]
    },
    {
      "cell_type": "code",
      "execution_count": 18,
      "metadata": {
        "id": "d4p9qKimcXnV",
        "colab": {
          "base_uri": "https://localhost:8080/"
        },
        "outputId": "4bc0cb17-da08-4381-b590-ecdb77efe00e"
      },
      "outputs": [
        {
          "output_type": "stream",
          "name": "stdout",
          "text": [
            "Number of files in test directory: 4\n"
          ]
        }
      ],
      "source": [
        "# Example to list files in the test directory\n",
        "test_files = os.listdir(test_dir)\n",
        "print(\"Number of files in test directory:\", len(test_files))"
      ]
    },
    {
      "cell_type": "code",
      "execution_count": 19,
      "metadata": {
        "id": "gL6e9ixdcBKR",
        "colab": {
          "base_uri": "https://localhost:8080/"
        },
        "outputId": "dcf8d53d-8074-4243-c424-1dcfb8f2b94f"
      },
      "outputs": [
        {
          "output_type": "stream",
          "name": "stdout",
          "text": [
            "Test directory: /content/chest_ctscan_images/test\n"
          ]
        }
      ],
      "source": [
        "print(\"Test directory:\", test_dir)\n"
      ]
    },
    {
      "cell_type": "code",
      "execution_count": 20,
      "metadata": {
        "id": "JVXysXnmD-9z"
      },
      "outputs": [],
      "source": [
        "def f1_score(y_true, y_pred):\n",
        "    true_positives = K.sum(K.round(K.clip(y_true * y_pred, 0, 1)))\n",
        "    possible_positives = K.sum(K.round(K.clip(y_true, 0, 1)))\n",
        "    predicted_positives = K.sum(K.round(K.clip(y_pred, 0, 1)))\n",
        "    precision = true_positives / (predicted_positives + K.epsilon())\n",
        "    recall = true_positives / (possible_positives + K.epsilon())\n",
        "    f1_val = 2 * (precision * recall) / (precision + recall + K.epsilon())\n",
        "    return f1_val"
      ]
    },
    {
      "cell_type": "code",
      "execution_count": 21,
      "metadata": {
        "id": "aJPN14HlEZe-"
      },
      "outputs": [],
      "source": [
        "METRICS = [\n",
        "    tf.keras.metrics.CategoricalAccuracy(name='accuracy'),\n",
        "    tf.keras.metrics.Precision(name='precision'),\n",
        "    tf.keras.metrics.Recall(name='recall'),\n",
        "    tf.keras.metrics.AUC(name='auc'),\n",
        "    tfa.metrics.F1Score(num_classes=4, average=\"micro\", name='f1_score')\n",
        "]"
      ]
    },
    {
      "cell_type": "code",
      "source": [
        "base_model = tf.keras.applications.DenseNet121(input_shape=(224,224,3),include_top=False,weights=\"imagenet\")"
      ],
      "metadata": {
        "id": "3pu77guMwmjn",
        "colab": {
          "base_uri": "https://localhost:8080/"
        },
        "outputId": "b686ca25-c8e4-4f5d-e002-80693e5ded37"
      },
      "execution_count": 22,
      "outputs": [
        {
          "output_type": "stream",
          "name": "stdout",
          "text": [
            "Downloading data from https://storage.googleapis.com/tensorflow/keras-applications/densenet/densenet121_weights_tf_dim_ordering_tf_kernels_notop.h5\n",
            "29084464/29084464 [==============================] - 2s 0us/step\n"
          ]
        }
      ]
    },
    {
      "cell_type": "code",
      "source": [
        "total_layers = len(base_model.layers)"
      ],
      "metadata": {
        "id": "aSsNkIQCwpXA"
      },
      "execution_count": 23,
      "outputs": []
    },
    {
      "cell_type": "code",
      "source": [
        "num_layers_to_freeze = 0"
      ],
      "metadata": {
        "id": "Ff-9hCJ3wts6"
      },
      "execution_count": 24,
      "outputs": []
    },
    {
      "cell_type": "code",
      "source": [
        "for layer in base_model.layers[:num_layers_to_freeze]:\n",
        "    layer.trainable = True"
      ],
      "metadata": {
        "id": "sKFHPjmTwu3K"
      },
      "execution_count": 25,
      "outputs": []
    },
    {
      "cell_type": "code",
      "source": [
        "for i, layer in enumerate(base_model.layers):\n",
        "    print(f\"Layer {i}: {layer.name}, Trainable: {layer.trainable}\")"
      ],
      "metadata": {
        "colab": {
          "base_uri": "https://localhost:8080/"
        },
        "id": "h7_3xPFowxTo",
        "outputId": "6dd91af9-0fde-4ad8-a64c-b2d2f5d1c8cc"
      },
      "execution_count": 26,
      "outputs": [
        {
          "output_type": "stream",
          "name": "stdout",
          "text": [
            "Layer 0: input_1, Trainable: True\n",
            "Layer 1: zero_padding2d, Trainable: True\n",
            "Layer 2: conv1/conv, Trainable: True\n",
            "Layer 3: conv1/bn, Trainable: True\n",
            "Layer 4: conv1/relu, Trainable: True\n",
            "Layer 5: zero_padding2d_1, Trainable: True\n",
            "Layer 6: pool1, Trainable: True\n",
            "Layer 7: conv2_block1_0_bn, Trainable: True\n",
            "Layer 8: conv2_block1_0_relu, Trainable: True\n",
            "Layer 9: conv2_block1_1_conv, Trainable: True\n",
            "Layer 10: conv2_block1_1_bn, Trainable: True\n",
            "Layer 11: conv2_block1_1_relu, Trainable: True\n",
            "Layer 12: conv2_block1_2_conv, Trainable: True\n",
            "Layer 13: conv2_block1_concat, Trainable: True\n",
            "Layer 14: conv2_block2_0_bn, Trainable: True\n",
            "Layer 15: conv2_block2_0_relu, Trainable: True\n",
            "Layer 16: conv2_block2_1_conv, Trainable: True\n",
            "Layer 17: conv2_block2_1_bn, Trainable: True\n",
            "Layer 18: conv2_block2_1_relu, Trainable: True\n",
            "Layer 19: conv2_block2_2_conv, Trainable: True\n",
            "Layer 20: conv2_block2_concat, Trainable: True\n",
            "Layer 21: conv2_block3_0_bn, Trainable: True\n",
            "Layer 22: conv2_block3_0_relu, Trainable: True\n",
            "Layer 23: conv2_block3_1_conv, Trainable: True\n",
            "Layer 24: conv2_block3_1_bn, Trainable: True\n",
            "Layer 25: conv2_block3_1_relu, Trainable: True\n",
            "Layer 26: conv2_block3_2_conv, Trainable: True\n",
            "Layer 27: conv2_block3_concat, Trainable: True\n",
            "Layer 28: conv2_block4_0_bn, Trainable: True\n",
            "Layer 29: conv2_block4_0_relu, Trainable: True\n",
            "Layer 30: conv2_block4_1_conv, Trainable: True\n",
            "Layer 31: conv2_block4_1_bn, Trainable: True\n",
            "Layer 32: conv2_block4_1_relu, Trainable: True\n",
            "Layer 33: conv2_block4_2_conv, Trainable: True\n",
            "Layer 34: conv2_block4_concat, Trainable: True\n",
            "Layer 35: conv2_block5_0_bn, Trainable: True\n",
            "Layer 36: conv2_block5_0_relu, Trainable: True\n",
            "Layer 37: conv2_block5_1_conv, Trainable: True\n",
            "Layer 38: conv2_block5_1_bn, Trainable: True\n",
            "Layer 39: conv2_block5_1_relu, Trainable: True\n",
            "Layer 40: conv2_block5_2_conv, Trainable: True\n",
            "Layer 41: conv2_block5_concat, Trainable: True\n",
            "Layer 42: conv2_block6_0_bn, Trainable: True\n",
            "Layer 43: conv2_block6_0_relu, Trainable: True\n",
            "Layer 44: conv2_block6_1_conv, Trainable: True\n",
            "Layer 45: conv2_block6_1_bn, Trainable: True\n",
            "Layer 46: conv2_block6_1_relu, Trainable: True\n",
            "Layer 47: conv2_block6_2_conv, Trainable: True\n",
            "Layer 48: conv2_block6_concat, Trainable: True\n",
            "Layer 49: pool2_bn, Trainable: True\n",
            "Layer 50: pool2_relu, Trainable: True\n",
            "Layer 51: pool2_conv, Trainable: True\n",
            "Layer 52: pool2_pool, Trainable: True\n",
            "Layer 53: conv3_block1_0_bn, Trainable: True\n",
            "Layer 54: conv3_block1_0_relu, Trainable: True\n",
            "Layer 55: conv3_block1_1_conv, Trainable: True\n",
            "Layer 56: conv3_block1_1_bn, Trainable: True\n",
            "Layer 57: conv3_block1_1_relu, Trainable: True\n",
            "Layer 58: conv3_block1_2_conv, Trainable: True\n",
            "Layer 59: conv3_block1_concat, Trainable: True\n",
            "Layer 60: conv3_block2_0_bn, Trainable: True\n",
            "Layer 61: conv3_block2_0_relu, Trainable: True\n",
            "Layer 62: conv3_block2_1_conv, Trainable: True\n",
            "Layer 63: conv3_block2_1_bn, Trainable: True\n",
            "Layer 64: conv3_block2_1_relu, Trainable: True\n",
            "Layer 65: conv3_block2_2_conv, Trainable: True\n",
            "Layer 66: conv3_block2_concat, Trainable: True\n",
            "Layer 67: conv3_block3_0_bn, Trainable: True\n",
            "Layer 68: conv3_block3_0_relu, Trainable: True\n",
            "Layer 69: conv3_block3_1_conv, Trainable: True\n",
            "Layer 70: conv3_block3_1_bn, Trainable: True\n",
            "Layer 71: conv3_block3_1_relu, Trainable: True\n",
            "Layer 72: conv3_block3_2_conv, Trainable: True\n",
            "Layer 73: conv3_block3_concat, Trainable: True\n",
            "Layer 74: conv3_block4_0_bn, Trainable: True\n",
            "Layer 75: conv3_block4_0_relu, Trainable: True\n",
            "Layer 76: conv3_block4_1_conv, Trainable: True\n",
            "Layer 77: conv3_block4_1_bn, Trainable: True\n",
            "Layer 78: conv3_block4_1_relu, Trainable: True\n",
            "Layer 79: conv3_block4_2_conv, Trainable: True\n",
            "Layer 80: conv3_block4_concat, Trainable: True\n",
            "Layer 81: conv3_block5_0_bn, Trainable: True\n",
            "Layer 82: conv3_block5_0_relu, Trainable: True\n",
            "Layer 83: conv3_block5_1_conv, Trainable: True\n",
            "Layer 84: conv3_block5_1_bn, Trainable: True\n",
            "Layer 85: conv3_block5_1_relu, Trainable: True\n",
            "Layer 86: conv3_block5_2_conv, Trainable: True\n",
            "Layer 87: conv3_block5_concat, Trainable: True\n",
            "Layer 88: conv3_block6_0_bn, Trainable: True\n",
            "Layer 89: conv3_block6_0_relu, Trainable: True\n",
            "Layer 90: conv3_block6_1_conv, Trainable: True\n",
            "Layer 91: conv3_block6_1_bn, Trainable: True\n",
            "Layer 92: conv3_block6_1_relu, Trainable: True\n",
            "Layer 93: conv3_block6_2_conv, Trainable: True\n",
            "Layer 94: conv3_block6_concat, Trainable: True\n",
            "Layer 95: conv3_block7_0_bn, Trainable: True\n",
            "Layer 96: conv3_block7_0_relu, Trainable: True\n",
            "Layer 97: conv3_block7_1_conv, Trainable: True\n",
            "Layer 98: conv3_block7_1_bn, Trainable: True\n",
            "Layer 99: conv3_block7_1_relu, Trainable: True\n",
            "Layer 100: conv3_block7_2_conv, Trainable: True\n",
            "Layer 101: conv3_block7_concat, Trainable: True\n",
            "Layer 102: conv3_block8_0_bn, Trainable: True\n",
            "Layer 103: conv3_block8_0_relu, Trainable: True\n",
            "Layer 104: conv3_block8_1_conv, Trainable: True\n",
            "Layer 105: conv3_block8_1_bn, Trainable: True\n",
            "Layer 106: conv3_block8_1_relu, Trainable: True\n",
            "Layer 107: conv3_block8_2_conv, Trainable: True\n",
            "Layer 108: conv3_block8_concat, Trainable: True\n",
            "Layer 109: conv3_block9_0_bn, Trainable: True\n",
            "Layer 110: conv3_block9_0_relu, Trainable: True\n",
            "Layer 111: conv3_block9_1_conv, Trainable: True\n",
            "Layer 112: conv3_block9_1_bn, Trainable: True\n",
            "Layer 113: conv3_block9_1_relu, Trainable: True\n",
            "Layer 114: conv3_block9_2_conv, Trainable: True\n",
            "Layer 115: conv3_block9_concat, Trainable: True\n",
            "Layer 116: conv3_block10_0_bn, Trainable: True\n",
            "Layer 117: conv3_block10_0_relu, Trainable: True\n",
            "Layer 118: conv3_block10_1_conv, Trainable: True\n",
            "Layer 119: conv3_block10_1_bn, Trainable: True\n",
            "Layer 120: conv3_block10_1_relu, Trainable: True\n",
            "Layer 121: conv3_block10_2_conv, Trainable: True\n",
            "Layer 122: conv3_block10_concat, Trainable: True\n",
            "Layer 123: conv3_block11_0_bn, Trainable: True\n",
            "Layer 124: conv3_block11_0_relu, Trainable: True\n",
            "Layer 125: conv3_block11_1_conv, Trainable: True\n",
            "Layer 126: conv3_block11_1_bn, Trainable: True\n",
            "Layer 127: conv3_block11_1_relu, Trainable: True\n",
            "Layer 128: conv3_block11_2_conv, Trainable: True\n",
            "Layer 129: conv3_block11_concat, Trainable: True\n",
            "Layer 130: conv3_block12_0_bn, Trainable: True\n",
            "Layer 131: conv3_block12_0_relu, Trainable: True\n",
            "Layer 132: conv3_block12_1_conv, Trainable: True\n",
            "Layer 133: conv3_block12_1_bn, Trainable: True\n",
            "Layer 134: conv3_block12_1_relu, Trainable: True\n",
            "Layer 135: conv3_block12_2_conv, Trainable: True\n",
            "Layer 136: conv3_block12_concat, Trainable: True\n",
            "Layer 137: pool3_bn, Trainable: True\n",
            "Layer 138: pool3_relu, Trainable: True\n",
            "Layer 139: pool3_conv, Trainable: True\n",
            "Layer 140: pool3_pool, Trainable: True\n",
            "Layer 141: conv4_block1_0_bn, Trainable: True\n",
            "Layer 142: conv4_block1_0_relu, Trainable: True\n",
            "Layer 143: conv4_block1_1_conv, Trainable: True\n",
            "Layer 144: conv4_block1_1_bn, Trainable: True\n",
            "Layer 145: conv4_block1_1_relu, Trainable: True\n",
            "Layer 146: conv4_block1_2_conv, Trainable: True\n",
            "Layer 147: conv4_block1_concat, Trainable: True\n",
            "Layer 148: conv4_block2_0_bn, Trainable: True\n",
            "Layer 149: conv4_block2_0_relu, Trainable: True\n",
            "Layer 150: conv4_block2_1_conv, Trainable: True\n",
            "Layer 151: conv4_block2_1_bn, Trainable: True\n",
            "Layer 152: conv4_block2_1_relu, Trainable: True\n",
            "Layer 153: conv4_block2_2_conv, Trainable: True\n",
            "Layer 154: conv4_block2_concat, Trainable: True\n",
            "Layer 155: conv4_block3_0_bn, Trainable: True\n",
            "Layer 156: conv4_block3_0_relu, Trainable: True\n",
            "Layer 157: conv4_block3_1_conv, Trainable: True\n",
            "Layer 158: conv4_block3_1_bn, Trainable: True\n",
            "Layer 159: conv4_block3_1_relu, Trainable: True\n",
            "Layer 160: conv4_block3_2_conv, Trainable: True\n",
            "Layer 161: conv4_block3_concat, Trainable: True\n",
            "Layer 162: conv4_block4_0_bn, Trainable: True\n",
            "Layer 163: conv4_block4_0_relu, Trainable: True\n",
            "Layer 164: conv4_block4_1_conv, Trainable: True\n",
            "Layer 165: conv4_block4_1_bn, Trainable: True\n",
            "Layer 166: conv4_block4_1_relu, Trainable: True\n",
            "Layer 167: conv4_block4_2_conv, Trainable: True\n",
            "Layer 168: conv4_block4_concat, Trainable: True\n",
            "Layer 169: conv4_block5_0_bn, Trainable: True\n",
            "Layer 170: conv4_block5_0_relu, Trainable: True\n",
            "Layer 171: conv4_block5_1_conv, Trainable: True\n",
            "Layer 172: conv4_block5_1_bn, Trainable: True\n",
            "Layer 173: conv4_block5_1_relu, Trainable: True\n",
            "Layer 174: conv4_block5_2_conv, Trainable: True\n",
            "Layer 175: conv4_block5_concat, Trainable: True\n",
            "Layer 176: conv4_block6_0_bn, Trainable: True\n",
            "Layer 177: conv4_block6_0_relu, Trainable: True\n",
            "Layer 178: conv4_block6_1_conv, Trainable: True\n",
            "Layer 179: conv4_block6_1_bn, Trainable: True\n",
            "Layer 180: conv4_block6_1_relu, Trainable: True\n",
            "Layer 181: conv4_block6_2_conv, Trainable: True\n",
            "Layer 182: conv4_block6_concat, Trainable: True\n",
            "Layer 183: conv4_block7_0_bn, Trainable: True\n",
            "Layer 184: conv4_block7_0_relu, Trainable: True\n",
            "Layer 185: conv4_block7_1_conv, Trainable: True\n",
            "Layer 186: conv4_block7_1_bn, Trainable: True\n",
            "Layer 187: conv4_block7_1_relu, Trainable: True\n",
            "Layer 188: conv4_block7_2_conv, Trainable: True\n",
            "Layer 189: conv4_block7_concat, Trainable: True\n",
            "Layer 190: conv4_block8_0_bn, Trainable: True\n",
            "Layer 191: conv4_block8_0_relu, Trainable: True\n",
            "Layer 192: conv4_block8_1_conv, Trainable: True\n",
            "Layer 193: conv4_block8_1_bn, Trainable: True\n",
            "Layer 194: conv4_block8_1_relu, Trainable: True\n",
            "Layer 195: conv4_block8_2_conv, Trainable: True\n",
            "Layer 196: conv4_block8_concat, Trainable: True\n",
            "Layer 197: conv4_block9_0_bn, Trainable: True\n",
            "Layer 198: conv4_block9_0_relu, Trainable: True\n",
            "Layer 199: conv4_block9_1_conv, Trainable: True\n",
            "Layer 200: conv4_block9_1_bn, Trainable: True\n",
            "Layer 201: conv4_block9_1_relu, Trainable: True\n",
            "Layer 202: conv4_block9_2_conv, Trainable: True\n",
            "Layer 203: conv4_block9_concat, Trainable: True\n",
            "Layer 204: conv4_block10_0_bn, Trainable: True\n",
            "Layer 205: conv4_block10_0_relu, Trainable: True\n",
            "Layer 206: conv4_block10_1_conv, Trainable: True\n",
            "Layer 207: conv4_block10_1_bn, Trainable: True\n",
            "Layer 208: conv4_block10_1_relu, Trainable: True\n",
            "Layer 209: conv4_block10_2_conv, Trainable: True\n",
            "Layer 210: conv4_block10_concat, Trainable: True\n",
            "Layer 211: conv4_block11_0_bn, Trainable: True\n",
            "Layer 212: conv4_block11_0_relu, Trainable: True\n",
            "Layer 213: conv4_block11_1_conv, Trainable: True\n",
            "Layer 214: conv4_block11_1_bn, Trainable: True\n",
            "Layer 215: conv4_block11_1_relu, Trainable: True\n",
            "Layer 216: conv4_block11_2_conv, Trainable: True\n",
            "Layer 217: conv4_block11_concat, Trainable: True\n",
            "Layer 218: conv4_block12_0_bn, Trainable: True\n",
            "Layer 219: conv4_block12_0_relu, Trainable: True\n",
            "Layer 220: conv4_block12_1_conv, Trainable: True\n",
            "Layer 221: conv4_block12_1_bn, Trainable: True\n",
            "Layer 222: conv4_block12_1_relu, Trainable: True\n",
            "Layer 223: conv4_block12_2_conv, Trainable: True\n",
            "Layer 224: conv4_block12_concat, Trainable: True\n",
            "Layer 225: conv4_block13_0_bn, Trainable: True\n",
            "Layer 226: conv4_block13_0_relu, Trainable: True\n",
            "Layer 227: conv4_block13_1_conv, Trainable: True\n",
            "Layer 228: conv4_block13_1_bn, Trainable: True\n",
            "Layer 229: conv4_block13_1_relu, Trainable: True\n",
            "Layer 230: conv4_block13_2_conv, Trainable: True\n",
            "Layer 231: conv4_block13_concat, Trainable: True\n",
            "Layer 232: conv4_block14_0_bn, Trainable: True\n",
            "Layer 233: conv4_block14_0_relu, Trainable: True\n",
            "Layer 234: conv4_block14_1_conv, Trainable: True\n",
            "Layer 235: conv4_block14_1_bn, Trainable: True\n",
            "Layer 236: conv4_block14_1_relu, Trainable: True\n",
            "Layer 237: conv4_block14_2_conv, Trainable: True\n",
            "Layer 238: conv4_block14_concat, Trainable: True\n",
            "Layer 239: conv4_block15_0_bn, Trainable: True\n",
            "Layer 240: conv4_block15_0_relu, Trainable: True\n",
            "Layer 241: conv4_block15_1_conv, Trainable: True\n",
            "Layer 242: conv4_block15_1_bn, Trainable: True\n",
            "Layer 243: conv4_block15_1_relu, Trainable: True\n",
            "Layer 244: conv4_block15_2_conv, Trainable: True\n",
            "Layer 245: conv4_block15_concat, Trainable: True\n",
            "Layer 246: conv4_block16_0_bn, Trainable: True\n",
            "Layer 247: conv4_block16_0_relu, Trainable: True\n",
            "Layer 248: conv4_block16_1_conv, Trainable: True\n",
            "Layer 249: conv4_block16_1_bn, Trainable: True\n",
            "Layer 250: conv4_block16_1_relu, Trainable: True\n",
            "Layer 251: conv4_block16_2_conv, Trainable: True\n",
            "Layer 252: conv4_block16_concat, Trainable: True\n",
            "Layer 253: conv4_block17_0_bn, Trainable: True\n",
            "Layer 254: conv4_block17_0_relu, Trainable: True\n",
            "Layer 255: conv4_block17_1_conv, Trainable: True\n",
            "Layer 256: conv4_block17_1_bn, Trainable: True\n",
            "Layer 257: conv4_block17_1_relu, Trainable: True\n",
            "Layer 258: conv4_block17_2_conv, Trainable: True\n",
            "Layer 259: conv4_block17_concat, Trainable: True\n",
            "Layer 260: conv4_block18_0_bn, Trainable: True\n",
            "Layer 261: conv4_block18_0_relu, Trainable: True\n",
            "Layer 262: conv4_block18_1_conv, Trainable: True\n",
            "Layer 263: conv4_block18_1_bn, Trainable: True\n",
            "Layer 264: conv4_block18_1_relu, Trainable: True\n",
            "Layer 265: conv4_block18_2_conv, Trainable: True\n",
            "Layer 266: conv4_block18_concat, Trainable: True\n",
            "Layer 267: conv4_block19_0_bn, Trainable: True\n",
            "Layer 268: conv4_block19_0_relu, Trainable: True\n",
            "Layer 269: conv4_block19_1_conv, Trainable: True\n",
            "Layer 270: conv4_block19_1_bn, Trainable: True\n",
            "Layer 271: conv4_block19_1_relu, Trainable: True\n",
            "Layer 272: conv4_block19_2_conv, Trainable: True\n",
            "Layer 273: conv4_block19_concat, Trainable: True\n",
            "Layer 274: conv4_block20_0_bn, Trainable: True\n",
            "Layer 275: conv4_block20_0_relu, Trainable: True\n",
            "Layer 276: conv4_block20_1_conv, Trainable: True\n",
            "Layer 277: conv4_block20_1_bn, Trainable: True\n",
            "Layer 278: conv4_block20_1_relu, Trainable: True\n",
            "Layer 279: conv4_block20_2_conv, Trainable: True\n",
            "Layer 280: conv4_block20_concat, Trainable: True\n",
            "Layer 281: conv4_block21_0_bn, Trainable: True\n",
            "Layer 282: conv4_block21_0_relu, Trainable: True\n",
            "Layer 283: conv4_block21_1_conv, Trainable: True\n",
            "Layer 284: conv4_block21_1_bn, Trainable: True\n",
            "Layer 285: conv4_block21_1_relu, Trainable: True\n",
            "Layer 286: conv4_block21_2_conv, Trainable: True\n",
            "Layer 287: conv4_block21_concat, Trainable: True\n",
            "Layer 288: conv4_block22_0_bn, Trainable: True\n",
            "Layer 289: conv4_block22_0_relu, Trainable: True\n",
            "Layer 290: conv4_block22_1_conv, Trainable: True\n",
            "Layer 291: conv4_block22_1_bn, Trainable: True\n",
            "Layer 292: conv4_block22_1_relu, Trainable: True\n",
            "Layer 293: conv4_block22_2_conv, Trainable: True\n",
            "Layer 294: conv4_block22_concat, Trainable: True\n",
            "Layer 295: conv4_block23_0_bn, Trainable: True\n",
            "Layer 296: conv4_block23_0_relu, Trainable: True\n",
            "Layer 297: conv4_block23_1_conv, Trainable: True\n",
            "Layer 298: conv4_block23_1_bn, Trainable: True\n",
            "Layer 299: conv4_block23_1_relu, Trainable: True\n",
            "Layer 300: conv4_block23_2_conv, Trainable: True\n",
            "Layer 301: conv4_block23_concat, Trainable: True\n",
            "Layer 302: conv4_block24_0_bn, Trainable: True\n",
            "Layer 303: conv4_block24_0_relu, Trainable: True\n",
            "Layer 304: conv4_block24_1_conv, Trainable: True\n",
            "Layer 305: conv4_block24_1_bn, Trainable: True\n",
            "Layer 306: conv4_block24_1_relu, Trainable: True\n",
            "Layer 307: conv4_block24_2_conv, Trainable: True\n",
            "Layer 308: conv4_block24_concat, Trainable: True\n",
            "Layer 309: pool4_bn, Trainable: True\n",
            "Layer 310: pool4_relu, Trainable: True\n",
            "Layer 311: pool4_conv, Trainable: True\n",
            "Layer 312: pool4_pool, Trainable: True\n",
            "Layer 313: conv5_block1_0_bn, Trainable: True\n",
            "Layer 314: conv5_block1_0_relu, Trainable: True\n",
            "Layer 315: conv5_block1_1_conv, Trainable: True\n",
            "Layer 316: conv5_block1_1_bn, Trainable: True\n",
            "Layer 317: conv5_block1_1_relu, Trainable: True\n",
            "Layer 318: conv5_block1_2_conv, Trainable: True\n",
            "Layer 319: conv5_block1_concat, Trainable: True\n",
            "Layer 320: conv5_block2_0_bn, Trainable: True\n",
            "Layer 321: conv5_block2_0_relu, Trainable: True\n",
            "Layer 322: conv5_block2_1_conv, Trainable: True\n",
            "Layer 323: conv5_block2_1_bn, Trainable: True\n",
            "Layer 324: conv5_block2_1_relu, Trainable: True\n",
            "Layer 325: conv5_block2_2_conv, Trainable: True\n",
            "Layer 326: conv5_block2_concat, Trainable: True\n",
            "Layer 327: conv5_block3_0_bn, Trainable: True\n",
            "Layer 328: conv5_block3_0_relu, Trainable: True\n",
            "Layer 329: conv5_block3_1_conv, Trainable: True\n",
            "Layer 330: conv5_block3_1_bn, Trainable: True\n",
            "Layer 331: conv5_block3_1_relu, Trainable: True\n",
            "Layer 332: conv5_block3_2_conv, Trainable: True\n",
            "Layer 333: conv5_block3_concat, Trainable: True\n",
            "Layer 334: conv5_block4_0_bn, Trainable: True\n",
            "Layer 335: conv5_block4_0_relu, Trainable: True\n",
            "Layer 336: conv5_block4_1_conv, Trainable: True\n",
            "Layer 337: conv5_block4_1_bn, Trainable: True\n",
            "Layer 338: conv5_block4_1_relu, Trainable: True\n",
            "Layer 339: conv5_block4_2_conv, Trainable: True\n",
            "Layer 340: conv5_block4_concat, Trainable: True\n",
            "Layer 341: conv5_block5_0_bn, Trainable: True\n",
            "Layer 342: conv5_block5_0_relu, Trainable: True\n",
            "Layer 343: conv5_block5_1_conv, Trainable: True\n",
            "Layer 344: conv5_block5_1_bn, Trainable: True\n",
            "Layer 345: conv5_block5_1_relu, Trainable: True\n",
            "Layer 346: conv5_block5_2_conv, Trainable: True\n",
            "Layer 347: conv5_block5_concat, Trainable: True\n",
            "Layer 348: conv5_block6_0_bn, Trainable: True\n",
            "Layer 349: conv5_block6_0_relu, Trainable: True\n",
            "Layer 350: conv5_block6_1_conv, Trainable: True\n",
            "Layer 351: conv5_block6_1_bn, Trainable: True\n",
            "Layer 352: conv5_block6_1_relu, Trainable: True\n",
            "Layer 353: conv5_block6_2_conv, Trainable: True\n",
            "Layer 354: conv5_block6_concat, Trainable: True\n",
            "Layer 355: conv5_block7_0_bn, Trainable: True\n",
            "Layer 356: conv5_block7_0_relu, Trainable: True\n",
            "Layer 357: conv5_block7_1_conv, Trainable: True\n",
            "Layer 358: conv5_block7_1_bn, Trainable: True\n",
            "Layer 359: conv5_block7_1_relu, Trainable: True\n",
            "Layer 360: conv5_block7_2_conv, Trainable: True\n",
            "Layer 361: conv5_block7_concat, Trainable: True\n",
            "Layer 362: conv5_block8_0_bn, Trainable: True\n",
            "Layer 363: conv5_block8_0_relu, Trainable: True\n",
            "Layer 364: conv5_block8_1_conv, Trainable: True\n",
            "Layer 365: conv5_block8_1_bn, Trainable: True\n",
            "Layer 366: conv5_block8_1_relu, Trainable: True\n",
            "Layer 367: conv5_block8_2_conv, Trainable: True\n",
            "Layer 368: conv5_block8_concat, Trainable: True\n",
            "Layer 369: conv5_block9_0_bn, Trainable: True\n",
            "Layer 370: conv5_block9_0_relu, Trainable: True\n",
            "Layer 371: conv5_block9_1_conv, Trainable: True\n",
            "Layer 372: conv5_block9_1_bn, Trainable: True\n",
            "Layer 373: conv5_block9_1_relu, Trainable: True\n",
            "Layer 374: conv5_block9_2_conv, Trainable: True\n",
            "Layer 375: conv5_block9_concat, Trainable: True\n",
            "Layer 376: conv5_block10_0_bn, Trainable: True\n",
            "Layer 377: conv5_block10_0_relu, Trainable: True\n",
            "Layer 378: conv5_block10_1_conv, Trainable: True\n",
            "Layer 379: conv5_block10_1_bn, Trainable: True\n",
            "Layer 380: conv5_block10_1_relu, Trainable: True\n",
            "Layer 381: conv5_block10_2_conv, Trainable: True\n",
            "Layer 382: conv5_block10_concat, Trainable: True\n",
            "Layer 383: conv5_block11_0_bn, Trainable: True\n",
            "Layer 384: conv5_block11_0_relu, Trainable: True\n",
            "Layer 385: conv5_block11_1_conv, Trainable: True\n",
            "Layer 386: conv5_block11_1_bn, Trainable: True\n",
            "Layer 387: conv5_block11_1_relu, Trainable: True\n",
            "Layer 388: conv5_block11_2_conv, Trainable: True\n",
            "Layer 389: conv5_block11_concat, Trainable: True\n",
            "Layer 390: conv5_block12_0_bn, Trainable: True\n",
            "Layer 391: conv5_block12_0_relu, Trainable: True\n",
            "Layer 392: conv5_block12_1_conv, Trainable: True\n",
            "Layer 393: conv5_block12_1_bn, Trainable: True\n",
            "Layer 394: conv5_block12_1_relu, Trainable: True\n",
            "Layer 395: conv5_block12_2_conv, Trainable: True\n",
            "Layer 396: conv5_block12_concat, Trainable: True\n",
            "Layer 397: conv5_block13_0_bn, Trainable: True\n",
            "Layer 398: conv5_block13_0_relu, Trainable: True\n",
            "Layer 399: conv5_block13_1_conv, Trainable: True\n",
            "Layer 400: conv5_block13_1_bn, Trainable: True\n",
            "Layer 401: conv5_block13_1_relu, Trainable: True\n",
            "Layer 402: conv5_block13_2_conv, Trainable: True\n",
            "Layer 403: conv5_block13_concat, Trainable: True\n",
            "Layer 404: conv5_block14_0_bn, Trainable: True\n",
            "Layer 405: conv5_block14_0_relu, Trainable: True\n",
            "Layer 406: conv5_block14_1_conv, Trainable: True\n",
            "Layer 407: conv5_block14_1_bn, Trainable: True\n",
            "Layer 408: conv5_block14_1_relu, Trainable: True\n",
            "Layer 409: conv5_block14_2_conv, Trainable: True\n",
            "Layer 410: conv5_block14_concat, Trainable: True\n",
            "Layer 411: conv5_block15_0_bn, Trainable: True\n",
            "Layer 412: conv5_block15_0_relu, Trainable: True\n",
            "Layer 413: conv5_block15_1_conv, Trainable: True\n",
            "Layer 414: conv5_block15_1_bn, Trainable: True\n",
            "Layer 415: conv5_block15_1_relu, Trainable: True\n",
            "Layer 416: conv5_block15_2_conv, Trainable: True\n",
            "Layer 417: conv5_block15_concat, Trainable: True\n",
            "Layer 418: conv5_block16_0_bn, Trainable: True\n",
            "Layer 419: conv5_block16_0_relu, Trainable: True\n",
            "Layer 420: conv5_block16_1_conv, Trainable: True\n",
            "Layer 421: conv5_block16_1_bn, Trainable: True\n",
            "Layer 422: conv5_block16_1_relu, Trainable: True\n",
            "Layer 423: conv5_block16_2_conv, Trainable: True\n",
            "Layer 424: conv5_block16_concat, Trainable: True\n",
            "Layer 425: bn, Trainable: True\n",
            "Layer 426: relu, Trainable: True\n"
          ]
        }
      ]
    },
    {
      "cell_type": "code",
      "source": [
        "model = Sequential([\n",
        "    base_model,\n",
        "    Flatten(),\n",
        "    Dense(4, activation='softmax')\n",
        "])\n",
        "model.summary()"
      ],
      "metadata": {
        "colab": {
          "base_uri": "https://localhost:8080/"
        },
        "id": "le6O7kGIw6h6",
        "outputId": "19382ba7-5796-49de-eacc-4eea5b110dd2"
      },
      "execution_count": 27,
      "outputs": [
        {
          "output_type": "stream",
          "name": "stdout",
          "text": [
            "Model: \"sequential\"\n",
            "_________________________________________________________________\n",
            " Layer (type)                Output Shape              Param #   \n",
            "=================================================================\n",
            " densenet121 (Functional)    (None, 7, 7, 1024)        7037504   \n",
            "                                                                 \n",
            " flatten (Flatten)           (None, 50176)             0         \n",
            "                                                                 \n",
            " dense (Dense)               (None, 4)                 200708    \n",
            "                                                                 \n",
            "=================================================================\n",
            "Total params: 7238212 (27.61 MB)\n",
            "Trainable params: 7154564 (27.29 MB)\n",
            "Non-trainable params: 83648 (326.75 KB)\n",
            "_________________________________________________________________\n"
          ]
        }
      ]
    },
    {
      "cell_type": "code",
      "source": [
        "from tensorflow.keras.utils import plot_model\n",
        "from IPython.display import Image\n",
        "plot_model(model, to_file='convnet.png', show_shapes=True,show_layer_names=True)\n",
        "Image(filename='convnet.png')"
      ],
      "metadata": {
        "id": "kIpnFMMF2scs",
        "colab": {
          "base_uri": "https://localhost:8080/",
          "height": 422
        },
        "outputId": "585baf3b-b857-40b2-f303-993641212d29"
      },
      "execution_count": 28,
      "outputs": [
        {
          "output_type": "execute_result",
          "data": {
            "image/png": "[encoded data removed]",
            "text/plain": [
              "<IPython.core.display.Image object>"
            ]
          },
          "metadata": {},
          "execution_count": 28
        }
      ]
    },
    {
      "cell_type": "code",
      "execution_count": 29,
      "metadata": {
        "id": "CMtjjQwmaBjC"
      },
      "outputs": [],
      "source": [
        "model.compile(\n",
        "    loss=\"categorical_crossentropy\",\n",
        "    optimizer=Adam(learning_rate=0.0005),\n",
        "    metrics=METRICS\n",
        ")"
      ]
    },
    {
      "cell_type": "code",
      "execution_count": 30,
      "metadata": {
        "id": "9Zjmg5poaBjC"
      },
      "outputs": [],
      "source": [
        "callbacks = [\n",
        "    ModelCheckpoint(\"best_model.keras\", monitor=\"val_accuracy\", save_best_only=True, verbose=1),\n",
        "    EarlyStopping(monitor=\"val_loss\", patience=5, verbose=1, restore_best_weights=True)\n",
        "]"
      ]
    },
    {
      "cell_type": "code",
      "execution_count": 31,
      "metadata": {
        "id": "zgcn2wlOaBjD",
        "colab": {
          "base_uri": "https://localhost:8080/"
        },
        "outputId": "0d19b527-c1a1-4c03-8393-67329a860a13"
      },
      "outputs": [
        {
          "output_type": "stream",
          "name": "stdout",
          "text": [
            "Epoch 1/35\n",
            "41/41 [==============================] - ETA: 0s - loss: 2.0499 - accuracy: 0.6223 - precision: 0.6317 - recall: 0.6162 - auc: 0.8408 - f1_score: 0.6223\n",
            "Epoch 1: val_accuracy improved from -inf to 0.21393, saving model to best_model.keras\n",
            "41/41 [==============================] - 106s 618ms/step - loss: 2.0499 - accuracy: 0.6223 - precision: 0.6317 - recall: 0.6162 - auc: 0.8408 - f1_score: 0.6223 - val_loss: 57.5069 - val_accuracy: 0.2139 - val_precision: 0.2139 - val_recall: 0.2139 - val_auc: 0.4760 - val_f1_score: 0.2139\n",
            "Epoch 2/35\n",
            "41/41 [==============================] - ETA: 0s - loss: 0.8291 - accuracy: 0.8578 - precision: 0.8602 - recall: 0.8563 - auc: 0.9613 - f1_score: 0.8578\n",
            "Epoch 2: val_accuracy improved from 0.21393 to 0.48259, saving model to best_model.keras\n",
            "41/41 [==============================] - 12s 285ms/step - loss: 0.8291 - accuracy: 0.8578 - precision: 0.8602 - recall: 0.8563 - auc: 0.9613 - f1_score: 0.8578 - val_loss: 9.2388 - val_accuracy: 0.4826 - val_precision: 0.4850 - val_recall: 0.4826 - val_auc: 0.6793 - val_f1_score: 0.4826\n",
            "Epoch 3/35\n",
            "41/41 [==============================] - ETA: 0s - loss: 0.4260 - accuracy: 0.9144 - precision: 0.9142 - recall: 0.9128 - auc: 0.9803 - f1_score: 0.9144\n",
            "Epoch 3: val_accuracy improved from 0.48259 to 0.86070, saving model to best_model.keras\n",
            "41/41 [==============================] - 13s 304ms/step - loss: 0.4260 - accuracy: 0.9144 - precision: 0.9142 - recall: 0.9128 - auc: 0.9803 - f1_score: 0.9144 - val_loss: 0.6945 - val_accuracy: 0.8607 - val_precision: 0.8643 - val_recall: 0.8557 - val_auc: 0.9531 - val_f1_score: 0.8607\n",
            "Epoch 4/35\n",
            "41/41 [==============================] - ETA: 0s - loss: 0.4562 - accuracy: 0.9083 - precision: 0.9081 - recall: 0.9067 - auc: 0.9736 - f1_score: 0.9083\n",
            "Epoch 4: val_accuracy did not improve from 0.86070\n",
            "41/41 [==============================] - 10s 238ms/step - loss: 0.4562 - accuracy: 0.9083 - precision: 0.9081 - recall: 0.9067 - auc: 0.9736 - f1_score: 0.9083 - val_loss: 5.3497 - val_accuracy: 0.7512 - val_precision: 0.7512 - val_recall: 0.7512 - val_auc: 0.8522 - val_f1_score: 0.7512\n",
            "Epoch 5/35\n",
            "41/41 [==============================] - ETA: 0s - loss: 0.4014 - accuracy: 0.9190 - precision: 0.9187 - recall: 0.9159 - auc: 0.9808 - f1_score: 0.9190\n",
            "Epoch 5: val_accuracy improved from 0.86070 to 0.87065, saving model to best_model.keras\n",
            "41/41 [==============================] - 12s 300ms/step - loss: 0.4014 - accuracy: 0.9190 - precision: 0.9187 - recall: 0.9159 - auc: 0.9808 - f1_score: 0.9190 - val_loss: 1.1180 - val_accuracy: 0.8706 - val_precision: 0.8706 - val_recall: 0.8706 - val_auc: 0.9658 - val_f1_score: 0.8706\n",
            "Epoch 6/35\n",
            "41/41 [==============================] - ETA: 0s - loss: 0.4357 - accuracy: 0.9235 - precision: 0.9263 - recall: 0.9220 - auc: 0.9784 - f1_score: 0.9235\n",
            "Epoch 6: val_accuracy did not improve from 0.87065\n",
            "41/41 [==============================] - 10s 244ms/step - loss: 0.4357 - accuracy: 0.9235 - precision: 0.9263 - recall: 0.9220 - auc: 0.9784 - f1_score: 0.9235 - val_loss: 21.4563 - val_accuracy: 0.2786 - val_precision: 0.2786 - val_recall: 0.2786 - val_auc: 0.5259 - val_f1_score: 0.2786\n",
            "Epoch 7/35\n",
            "41/41 [==============================] - ETA: 0s - loss: 0.9425 - accuracy: 0.8593 - precision: 0.8604 - recall: 0.8578 - auc: 0.9585 - f1_score: 0.8593\n",
            "Epoch 7: val_accuracy did not improve from 0.87065\n",
            "41/41 [==============================] - 10s 244ms/step - loss: 0.9425 - accuracy: 0.8593 - precision: 0.8604 - recall: 0.8578 - auc: 0.9585 - f1_score: 0.8593 - val_loss: 139.7205 - val_accuracy: 0.2935 - val_precision: 0.2935 - val_recall: 0.2935 - val_auc: 0.5283 - val_f1_score: 0.2935\n",
            "Epoch 8/35\n",
            "41/41 [==============================] - ETA: 0s - loss: 0.8742 - accuracy: 0.8777 - precision: 0.8785 - recall: 0.8731 - auc: 0.9653 - f1_score: 0.8777\n",
            "Epoch 8: val_accuracy did not improve from 0.87065\n",
            "Restoring model weights from the end of the best epoch: 3.\n",
            "41/41 [==============================] - 9s 229ms/step - loss: 0.8742 - accuracy: 0.8777 - precision: 0.8785 - recall: 0.8731 - auc: 0.9653 - f1_score: 0.8777 - val_loss: 10535.8447 - val_accuracy: 0.3383 - val_precision: 0.3383 - val_recall: 0.3383 - val_auc: 0.5589 - val_f1_score: 0.3383\n",
            "Epoch 8: early stopping\n"
          ]
        }
      ],
      "source": [
        "history = model.fit(\n",
        "    train_generator,\n",
        "    validation_data=validation_generator,\n",
        "    epochs=35,\n",
        "    callbacks=callbacks,\n",
        "        verbose=1\n",
        "    #  , class_weight=class_weights\n",
        ")"
      ]
    },
    {
      "cell_type": "code",
      "execution_count": 32,
      "metadata": {
        "id": "kE8Q1PqGaBjD",
        "colab": {
          "base_uri": "https://localhost:8080/",
          "height": 515
        },
        "outputId": "2c9a7bf4-34d1-4105-e59c-c9131b697e06"
      },
      "outputs": [
        {
          "output_type": "display_data",
          "data": {
            "text/plain": [
              "<Figure size 2200x500 with 5 Axes>"
            ],
            "image/png": "[encoded data removed]"
          },
          "metadata": {}
        }
      ],
      "source": [
        "def Train_Val_Plot(acc, val_acc, loss, val_loss, auc, val_auc, precision, val_precision, f1, val_f1):\n",
        "\n",
        "    fig, (ax1, ax2, ax3, ax4, ax5) = plt.subplots(1, 5, figsize=(22, 5))\n",
        "    fig.suptitle(\" MODEL'S METRICS VISUALIZATION \")\n",
        "\n",
        "    # Rescale the y-axis for accuracy, auc, precision, and f1\n",
        "    rescale_factor = 0  # Adjust this factor to control the rescaling\n",
        "\n",
        "    ax1.plot(range(1, len(acc) + 1), acc)\n",
        "    ax1.plot(range(1, len(val_acc) + 1), val_acc)\n",
        "    ax1.set_title('History of Accuracy')\n",
        "    ax1.set_xlabel('Epochs')\n",
        "    ax1.set_ylabel('Accuracy')\n",
        "    ax1.set_ylim([0, 1.0])\n",
        "    ax1.legend(['training', 'validation'])\n",
        "\n",
        "    ax2.plot(range(1, len(loss) + 1), loss)\n",
        "    ax2.plot(range(1, len(val_loss) + 1), val_loss)\n",
        "    ax2.set_title('History of Loss')\n",
        "    ax2.set_xlabel('Epochs')\n",
        "    ax2.set_ylabel('Loss')\n",
        "    ax2.legend(['training', 'validation'])\n",
        "\n",
        "    ax3.plot(range(1, len(auc) + 1), auc)\n",
        "    ax3.plot(range(1, len(val_auc) + 1), val_auc)\n",
        "    ax3.set_title('History of AUC')\n",
        "    ax3.set_xlabel('Epochs')\n",
        "    ax3.set_ylabel('AUC')\n",
        "    ax3.set_ylim([rescale_factor, 1.0])\n",
        "    ax3.legend(['training', 'validation'])\n",
        "\n",
        "    ax4.plot(range(1, len(precision) + 1), precision)\n",
        "    ax4.plot(range(1, len(val_precision) + 1), val_precision)\n",
        "    ax4.set_title('History of Precision')\n",
        "    ax4.set_xlabel('Epochs')\n",
        "    ax4.set_ylabel('Precision')\n",
        "    ax4.set_ylim([rescale_factor, 1.0])\n",
        "    ax4.legend(['training', 'validation'])\n",
        "\n",
        "    ax5.plot(range(1, len(f1) + 1), f1)\n",
        "    ax5.plot(range(1, len(val_f1) + 1), val_f1)\n",
        "    ax5.set_title('History of F1-score')\n",
        "    ax5.set_xlabel('Epochs')\n",
        "    ax5.set_ylabel('F1 score')\n",
        "    ax5.set_ylim([rescale_factor, 1.0])\n",
        "    ax5.legend(['training', 'validation'])\n",
        "\n",
        "    plt.show()\n",
        "\n",
        "# Example usage:\n",
        "Train_Val_Plot(history.history['accuracy'], history.history['val_accuracy'],\n",
        "               history.history['loss'], history.history['val_loss']\n",
        "               ,\n",
        "               history.history['auc'], history.history['val_auc'],\n",
        "               history.history['precision'], history.history['val_precision'],\n",
        "               history.history['f1_score'], history.history['val_f1_score'])\n"
      ]
    },
    {
      "cell_type": "code",
      "execution_count": 33,
      "metadata": {
        "id": "utE8sko2aBjD",
        "colab": {
          "base_uri": "https://localhost:8080/"
        },
        "outputId": "a02085a7-ea00-4957-9ccc-90c7e58d9e4c"
      },
      "outputs": [
        {
          "output_type": "stream",
          "name": "stdout",
          "text": [
            "10/10 [==============================] - 3s 354ms/step - loss: 0.8561 - accuracy: 0.8414 - precision: 0.8472 - recall: 0.8414 - auc: 0.9516 - f1_score: 0.8414\n"
          ]
        },
        {
          "output_type": "execute_result",
          "data": {
            "text/plain": [
              "[0.8561273813247681,\n",
              " 0.8413792848587036,\n",
              " 0.8472222089767456,\n",
              " 0.8413792848587036,\n",
              " 0.9515575766563416,\n",
              " 0.8413792848587036]"
            ]
          },
          "metadata": {},
          "execution_count": 33
        }
      ],
      "source": [
        "model.evaluate(test_generator)"
      ]
    },
    {
      "cell_type": "code",
      "source": [
        "# Load the test dataset\n",
        "X_test, y_test = [], []\n",
        "for i in range(len(validation_generator)):\n",
        "    batch_X, batch_y = validation_generator[i]\n",
        "    X_test.append(batch_X)\n",
        "    y_test.append(batch_y)\n",
        "X_test = np.concatenate(X_test)\n",
        "y_test = np.concatenate(y_test)\n",
        "\n",
        "# Make predictions on the test set\n",
        "y_pred = model.predict(X_test)\n",
        "\n",
        "# Convert the one-hot encoded predictions to class labels\n",
        "y_pred_classes = np.argmax(y_pred, axis=1)\n",
        "\n",
        "# Convert the one-hot encoded true labels to class labels\n",
        "y_true_classes = np.argmax(y_test, axis=1)\n",
        "\n",
        "# Create a classification report\n",
        "report = classification_report(y_true_classes, y_pred_classes)\n",
        "\n",
        "print(report)"
      ],
      "metadata": {
        "id": "z0kvictcppHg",
        "colab": {
          "base_uri": "https://localhost:8080/"
        },
        "outputId": "ca60b663-ba99-4d0b-8dc7-c689c8f9c153"
      },
      "execution_count": 34,
      "outputs": [
        {
          "output_type": "stream",
          "name": "stdout",
          "text": [
            "7/7 [==============================] - 6s 79ms/step\n",
            "              precision    recall  f1-score   support\n",
            "\n",
            "           0       0.84      0.85      0.85        68\n",
            "           1       0.77      0.79      0.78        38\n",
            "           2       0.86      1.00      0.92        43\n",
            "           3       0.98      0.81      0.88        52\n",
            "\n",
            "    accuracy                           0.86       201\n",
            "   macro avg       0.86      0.86      0.86       201\n",
            "weighted avg       0.87      0.86      0.86       201\n",
            "\n"
          ]
        }
      ]
    },
    {
      "cell_type": "code",
      "source": [
        "\n",
        "class_names = ['adenocarcinoma', 'large.cell.carcinoma', 'normal', 'squamous.cell.carcinoma']\n",
        "# Create a confusion matrix\n",
        "cm = confusion_matrix(y_true_classes, y_pred_classes)\n",
        "\n",
        "# Plotting the Confusion Matrix\n",
        "plt.figure(figsize=(8, 6))\n",
        "sns.heatmap(cm, annot=True, fmt='d', cmap='Blues', xticklabels=class_names, yticklabels=class_names)\n",
        "plt.xlabel('Predicted')\n",
        "plt.ylabel('True')\n",
        "plt.title('Confusion Matrix')\n",
        "plt.show()\n"
      ],
      "metadata": {
        "id": "1oDQrOfqpz_i",
        "colab": {
          "base_uri": "https://localhost:8080/",
          "height": 727
        },
        "outputId": "17361869-d498-4409-b240-00f620548363"
      },
      "execution_count": 36,
      "outputs": [
        {
          "output_type": "display_data",
          "data": {
            "text/plain": [
              "<Figure size 800x600 with 2 Axes>"
            ],
            "image/png": "[encoded data removed]"
          },
          "metadata": {}
        }
      ]
    }
  ]
}