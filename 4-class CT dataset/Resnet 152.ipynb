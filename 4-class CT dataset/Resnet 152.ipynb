{
  "nbformat": 4,
  "nbformat_minor": 0,
  "metadata": {
    "colab": {
      "provenance": [],
      "gpuType": "T4"
    },
    "kernelspec": {
      "name": "python3",
      "display_name": "Python 3"
    },
    "language_info": {
      "name": "python"
    },
    "accelerator": "GPU"
  },
  "cells": [
    {
      "cell_type": "code",
      "execution_count": null,
      "metadata": {
        "id": "GitBDng_36xV"
      },
      "outputs": [],
      "source": [
        "import zipfile"
      ]
    },
    {
      "cell_type": "code",
      "execution_count": null,
      "metadata": {
        "id": "z3FHA2tYbNfx"
      },
      "outputs": [],
      "source": [
        "import zipfile\n",
        "import os\n",
        "import random\n",
        "import shutil\n",
        "import numpy as np\n",
        "import pandas as pd\n",
        "import matplotlib.pyplot as plt\n",
        "import seaborn as sns\n",
        "import skimage.io\n",
        "import keras.backend as K\n",
        "import tensorflow as tf\n",
        "from tensorflow.keras.models import Sequential, Model\n",
        "from tensorflow.keras.applications import(ResNet152)\n",
        "from tensorflow.keras.layers import (Conv2D, MaxPooling2D, Flatten, Dense, Dropout,BatchNormalization, Activation, GlobalAveragePooling2D,DepthwiseConv2D, Input, Add, Concatenate)\n",
        "from tensorflow.keras.optimizers import Adam\n",
        "from tensorflow.keras.losses import CategoricalCrossentropy\n",
        "from tensorflow.keras.preprocessing.image import ImageDataGenerator\n",
        "from tensorflow.keras.callbacks import ReduceLROnPlateau, ModelCheckpoint, EarlyStopping, LearningRateScheduler\n",
        "from sklearn.metrics import confusion_matrix, classification_report, accuracy_score\n",
        "from sklearn.model_selection import train_test_split\n",
        "from tensorflow.keras.utils import plot_model\n",
        "from IPython.display import Image"
      ]
    },
    {
      "cell_type": "code",
      "execution_count": null,
      "metadata": {
        "colab": {
          "base_uri": "https://localhost:8080/"
        },
        "id": "PvNXi8K2K1HO",
        "outputId": "0c010c6f-f28d-4e73-c264-2907fcf418ad"
      },
      "outputs": [
        {
          "output_type": "stream",
          "name": "stdout",
          "text": [
            "Collecting tensorflow-addons==0.17.1\n",
            "  Downloading tensorflow_addons-0.17.1-cp310-cp310-manylinux_2_17_x86_64.manylinux2014_x86_64.whl (1.1 MB)\n",
            "\u001b[2K     \u001b[90m━━━━━━━━━━━━━━━━━━━━━━━━━━━━━━━━━━━━━━━━\u001b[0m \u001b[32m1.1/1.1 MB\u001b[0m \u001b[31m6.5 MB/s\u001b[0m eta \u001b[36m0:00:00\u001b[0m\n",
            "\u001b[?25hRequirement already satisfied: packaging in /usr/local/lib/python3.10/dist-packages (from tensorflow-addons==0.17.1) (24.1)\n",
            "Collecting typeguard>=2.7 (from tensorflow-addons==0.17.1)\n",
            "  Downloading typeguard-4.3.0-py3-none-any.whl (35 kB)\n",
            "Requirement already satisfied: typing-extensions>=4.10.0 in /usr/local/lib/python3.10/dist-packages (from typeguard>=2.7->tensorflow-addons==0.17.1) (4.12.2)\n",
            "Installing collected packages: typeguard, tensorflow-addons\n",
            "Successfully installed tensorflow-addons-0.17.1 typeguard-4.3.0\n"
          ]
        },
        {
          "output_type": "stream",
          "name": "stderr",
          "text": [
            "/usr/local/lib/python3.10/dist-packages/tensorflow_addons/utils/ensure_tf_install.py:53: UserWarning: Tensorflow Addons supports using Python ops for all Tensorflow versions above or equal to 2.7.0 and strictly below 2.10.0 (nightly versions are not supported). \n",
            " The versions of TensorFlow you are currently using is 2.15.0 and is not supported. \n",
            "Some things might work, some things might not.\n",
            "If you were to encounter a bug, do not file an issue.\n",
            "If you want to make sure you're using a tested and supported configuration, either change the TensorFlow version or the TensorFlow Addons's version. \n",
            "You can find the compatibility matrix in TensorFlow Addon's readme:\n",
            "https://github.com/tensorflow/addons\n",
            "  warnings.warn(\n"
          ]
        }
      ],
      "source": [
        "!pip install tensorflow-addons==0.17.1\n",
        "import tensorflow_addons as tfa"
      ]
    },
    {
      "cell_type": "markdown",
      "metadata": {
        "id": "PO_UpS4vaBi8"
      },
      "source": [
        "Try 3"
      ]
    },
    {
      "cell_type": "code",
      "execution_count": null,
      "metadata": {
        "id": "QyN8qV0huMwD"
      },
      "outputs": [],
      "source": [
        "zip_path = \"/content/drive/MyDrive/train.zip\"  # Path to the ZIP file\n",
        "extracted_path = \"/content/chest_ctscan_images\"  # Path to extract the files\n",
        "with zipfile.ZipFile(zip_path, 'r') as zip_ref:\n",
        "    zip_ref.extractall(extracted_path)"
      ]
    },
    {
      "cell_type": "code",
      "execution_count": null,
      "metadata": {
        "id": "TwEwT2nCuPYv"
      },
      "outputs": [],
      "source": [
        "train_dir = os.path.join(extracted_path, \"train\")\n",
        "valid_dir = \"/content/chest_ctscan_images/valid\"\n",
        "test_dir = \"/content/chest_ctscan_images/test\""
      ]
    },
    {
      "cell_type": "code",
      "execution_count": null,
      "metadata": {
        "id": "cUjh_ksquT_w"
      },
      "outputs": [],
      "source": [
        "# Create a validation set from a portion of the training set\n",
        "def create_validation_set(source_dir, validation_dir, validation_ratio=0.2):\n",
        "    if not os.path.exists(validation_dir):\n",
        "        os.makedirs(validation_dir)\n",
        "\n",
        "    for class_name in os.listdir(source_dir):\n",
        "        class_source_path = os.path.join(source_dir, class_name)\n",
        "        class_valid_path = os.path.join(validation_dir, class_name)\n",
        "\n",
        "        if not os.path.exists(class_valid_path):\n",
        "            os.makedirs(class_valid_path)\n",
        "\n",
        "        all_files = os.listdir(class_source_path)\n",
        "        train_files, valid_files = train_test_split(all_files, test_size=validation_ratio, random_state=42)\n",
        "\n",
        "        for file in valid_files:\n",
        "            shutil.move(os.path.join(class_source_path, file), os.path.join(class_valid_path, file))\n",
        "\n",
        "create_validation_set(train_dir, valid_dir, validation_ratio=0.2)  # Split 20% for validation\n"
      ]
    },
    {
      "cell_type": "code",
      "execution_count": null,
      "metadata": {
        "id": "xPSkhXLkn0-0"
      },
      "outputs": [],
      "source": [
        "# Example code to create a test set from a portion of the training set\n",
        "def create_test_set(source_dir, test_dir, test_ratio=0.1):\n",
        "    # Create test directory if it doesn't exist\n",
        "    if not os.path.exists(test_dir):\n",
        "        os.makedirs(test_dir)\n",
        "\n",
        "    for class_name in os.listdir(source_dir):\n",
        "        class_source_path = os.path.join(source_dir, class_name)\n",
        "        class_test_path = os.path.join(test_dir, class_name)\n",
        "\n",
        "        if not os.path.exists(class_test_path):\n",
        "            os.makedirs(class_test_path)\n",
        "\n",
        "        all_files = os.listdir(class_source_path)\n",
        "        train_files, test_files = train_test_split(all_files, test_size=test_ratio, random_state=42)\n",
        "\n",
        "        for file in test_files:\n",
        "            shutil.move(os.path.join(class_source_path, file), os.path.join(class_test_path, file))\n",
        "\n",
        "create_test_set(train_dir, test_dir, test_ratio=0.18)  # Split 10% for test\n"
      ]
    },
    {
      "cell_type": "code",
      "execution_count": null,
      "metadata": {
        "id": "OBHrYqxLuU5C"
      },
      "outputs": [],
      "source": [
        "train_datagen = ImageDataGenerator(\n",
        "    # rescale=1.0/255,\n",
        "    # rotation_range=20,\n",
        "    # width_shift_range=0.2,\n",
        "    # height_shift_range=0.2,\n",
        "    # shear_range=0.2,\n",
        "    # zoom_range=0.2,\n",
        "    # horizontal_flip=True\n",
        ")"
      ]
    },
    {
      "cell_type": "code",
      "execution_count": null,
      "metadata": {
        "id": "5OZi-BPsuYkQ"
      },
      "outputs": [],
      "source": [
        "valid_datagen = ImageDataGenerator()\n",
        "test_datagen = ImageDataGenerator()"
      ]
    },
    {
      "cell_type": "code",
      "execution_count": null,
      "metadata": {
        "id": "s58bw8FiuczT",
        "colab": {
          "base_uri": "https://localhost:8080/"
        },
        "outputId": "0b4e8e12-df6e-4d75-c8a1-b43e8af4c3b9"
      },
      "outputs": [
        {
          "output_type": "stream",
          "name": "stdout",
          "text": [
            "Found 654 images belonging to 4 classes.\n"
          ]
        }
      ],
      "source": [
        "train_generator = train_datagen.flow_from_directory(\n",
        "    train_dir,\n",
        "    target_size=(224,224),\n",
        "    batch_size=16,\n",
        "    class_mode='categorical'\n",
        ")"
      ]
    },
    {
      "cell_type": "code",
      "execution_count": null,
      "metadata": {
        "id": "_VAT1nn6ufRV",
        "colab": {
          "base_uri": "https://localhost:8080/"
        },
        "outputId": "e8f77135-dfc8-4fd3-889d-4b39744ae2bc"
      },
      "outputs": [
        {
          "output_type": "stream",
          "name": "stdout",
          "text": [
            "Found 201 images belonging to 4 classes.\n"
          ]
        }
      ],
      "source": [
        "validation_generator = valid_datagen.flow_from_directory(\n",
        "    valid_dir,\n",
        "    target_size=(224,224),\n",
        "    batch_size=16,\n",
        "    class_mode='categorical'\n",
        ")"
      ]
    },
    {
      "cell_type": "code",
      "execution_count": null,
      "metadata": {
        "id": "79higThAuhq_",
        "colab": {
          "base_uri": "https://localhost:8080/"
        },
        "outputId": "afdce9f4-bff7-4890-9b32-95d0622b21b9"
      },
      "outputs": [
        {
          "output_type": "stream",
          "name": "stdout",
          "text": [
            "Found 145 images belonging to 4 classes.\n"
          ]
        }
      ],
      "source": [
        "test_generator = test_datagen.flow_from_directory(\n",
        "    test_dir,\n",
        "    target_size=(224,224),\n",
        "    batch_size=16,\n",
        "    class_mode='categorical'\n",
        ")"
      ]
    },
    {
      "cell_type": "code",
      "execution_count": null,
      "metadata": {
        "id": "wJy_CEHicRgM"
      },
      "outputs": [],
      "source": [
        "os.makedirs(test_dir, exist_ok=True)\n"
      ]
    },
    {
      "cell_type": "code",
      "execution_count": null,
      "metadata": {
        "id": "d4p9qKimcXnV",
        "colab": {
          "base_uri": "https://localhost:8080/"
        },
        "outputId": "97916518-cf80-4ced-a4c2-aa3a587752ad"
      },
      "outputs": [
        {
          "output_type": "stream",
          "name": "stdout",
          "text": [
            "Number of files in test directory: 4\n"
          ]
        }
      ],
      "source": [
        "# Example to list files in the test directory\n",
        "test_files = os.listdir(test_dir)\n",
        "print(\"Number of files in test directory:\", len(test_files))"
      ]
    },
    {
      "cell_type": "code",
      "execution_count": null,
      "metadata": {
        "id": "gL6e9ixdcBKR",
        "colab": {
          "base_uri": "https://localhost:8080/"
        },
        "outputId": "ed7f17d2-5f2d-484b-cfa9-996b9c5048d4"
      },
      "outputs": [
        {
          "output_type": "stream",
          "name": "stdout",
          "text": [
            "Test directory: /content/chest_ctscan_images/test\n"
          ]
        }
      ],
      "source": [
        "print(\"Test directory:\", test_dir)\n"
      ]
    },
    {
      "cell_type": "code",
      "execution_count": null,
      "metadata": {
        "id": "JVXysXnmD-9z"
      },
      "outputs": [],
      "source": [
        "def f1_score(y_true, y_pred):\n",
        "    true_positives = K.sum(K.round(K.clip(y_true * y_pred, 0, 1)))\n",
        "    possible_positives = K.sum(K.round(K.clip(y_true, 0, 1)))\n",
        "    predicted_positives = K.sum(K.round(K.clip(y_pred, 0, 1)))\n",
        "    precision = true_positives / (predicted_positives + K.epsilon())\n",
        "    recall = true_positives / (possible_positives + K.epsilon())\n",
        "    f1_val = 2 * (precision * recall) / (precision + recall + K.epsilon())\n",
        "    return f1_val"
      ]
    },
    {
      "cell_type": "code",
      "execution_count": null,
      "metadata": {
        "id": "aJPN14HlEZe-"
      },
      "outputs": [],
      "source": [
        "METRICS = [\n",
        "    tf.keras.metrics.CategoricalAccuracy(name='accuracy'),\n",
        "    tf.keras.metrics.Precision(name='precision'),\n",
        "    tf.keras.metrics.Recall(name='recall'),\n",
        "    tf.keras.metrics.AUC(name='auc'),\n",
        "    tfa.metrics.F1Score(num_classes=4, average=\"micro\", name='f1_score')\n",
        "]"
      ]
    },
    {
      "cell_type": "code",
      "source": [
        "base_model = tf.keras.applications.ResNet152(input_shape=(224,224,3),include_top=False,weights=\"imagenet\")"
      ],
      "metadata": {
        "colab": {
          "base_uri": "https://localhost:8080/"
        },
        "id": "3pu77guMwmjn",
        "outputId": "b20c3b68-b8f7-4d74-89ec-61bf0d8c7850"
      },
      "execution_count": null,
      "outputs": [
        {
          "output_type": "stream",
          "name": "stdout",
          "text": [
            "Downloading data from https://storage.googleapis.com/tensorflow/keras-applications/resnet/resnet152_weights_tf_dim_ordering_tf_kernels_notop.h5\n",
            "234698864/234698864 [==============================] - 3s 0us/step\n"
          ]
        }
      ]
    },
    {
      "cell_type": "code",
      "source": [
        "total_layers = len(base_model.layers)"
      ],
      "metadata": {
        "id": "aSsNkIQCwpXA"
      },
      "execution_count": null,
      "outputs": []
    },
    {
      "cell_type": "code",
      "source": [
        "num_layers_to_freeze = 0"
      ],
      "metadata": {
        "id": "Ff-9hCJ3wts6"
      },
      "execution_count": null,
      "outputs": []
    },
    {
      "cell_type": "code",
      "source": [
        "for layer in base_model.layers[:num_layers_to_freeze]:\n",
        "    layer.trainable = True"
      ],
      "metadata": {
        "id": "sKFHPjmTwu3K"
      },
      "execution_count": null,
      "outputs": []
    },
    {
      "cell_type": "code",
      "source": [
        "for i, layer in enumerate(base_model.layers):\n",
        "    print(f\"Layer {i}: {layer.name}, Trainable: {layer.trainable}\")"
      ],
      "metadata": {
        "colab": {
          "base_uri": "https://localhost:8080/"
        },
        "id": "h7_3xPFowxTo",
        "outputId": "ed02b10f-90eb-43de-ffee-e5f24321b980"
      },
      "execution_count": null,
      "outputs": [
        {
          "output_type": "stream",
          "name": "stdout",
          "text": [
            "Layer 0: input_1, Trainable: True\n",
            "Layer 1: conv1_pad, Trainable: True\n",
            "Layer 2: conv1_conv, Trainable: True\n",
            "Layer 3: conv1_bn, Trainable: True\n",
            "Layer 4: conv1_relu, Trainable: True\n",
            "Layer 5: pool1_pad, Trainable: True\n",
            "Layer 6: pool1_pool, Trainable: True\n",
            "Layer 7: conv2_block1_1_conv, Trainable: True\n",
            "Layer 8: conv2_block1_1_bn, Trainable: True\n",
            "Layer 9: conv2_block1_1_relu, Trainable: True\n",
            "Layer 10: conv2_block1_2_conv, Trainable: True\n",
            "Layer 11: conv2_block1_2_bn, Trainable: True\n",
            "Layer 12: conv2_block1_2_relu, Trainable: True\n",
            "Layer 13: conv2_block1_0_conv, Trainable: True\n",
            "Layer 14: conv2_block1_3_conv, Trainable: True\n",
            "Layer 15: conv2_block1_0_bn, Trainable: True\n",
            "Layer 16: conv2_block1_3_bn, Trainable: True\n",
            "Layer 17: conv2_block1_add, Trainable: True\n",
            "Layer 18: conv2_block1_out, Trainable: True\n",
            "Layer 19: conv2_block2_1_conv, Trainable: True\n",
            "Layer 20: conv2_block2_1_bn, Trainable: True\n",
            "Layer 21: conv2_block2_1_relu, Trainable: True\n",
            "Layer 22: conv2_block2_2_conv, Trainable: True\n",
            "Layer 23: conv2_block2_2_bn, Trainable: True\n",
            "Layer 24: conv2_block2_2_relu, Trainable: True\n",
            "Layer 25: conv2_block2_3_conv, Trainable: True\n",
            "Layer 26: conv2_block2_3_bn, Trainable: True\n",
            "Layer 27: conv2_block2_add, Trainable: True\n",
            "Layer 28: conv2_block2_out, Trainable: True\n",
            "Layer 29: conv2_block3_1_conv, Trainable: True\n",
            "Layer 30: conv2_block3_1_bn, Trainable: True\n",
            "Layer 31: conv2_block3_1_relu, Trainable: True\n",
            "Layer 32: conv2_block3_2_conv, Trainable: True\n",
            "Layer 33: conv2_block3_2_bn, Trainable: True\n",
            "Layer 34: conv2_block3_2_relu, Trainable: True\n",
            "Layer 35: conv2_block3_3_conv, Trainable: True\n",
            "Layer 36: conv2_block3_3_bn, Trainable: True\n",
            "Layer 37: conv2_block3_add, Trainable: True\n",
            "Layer 38: conv2_block3_out, Trainable: True\n",
            "Layer 39: conv3_block1_1_conv, Trainable: True\n",
            "Layer 40: conv3_block1_1_bn, Trainable: True\n",
            "Layer 41: conv3_block1_1_relu, Trainable: True\n",
            "Layer 42: conv3_block1_2_conv, Trainable: True\n",
            "Layer 43: conv3_block1_2_bn, Trainable: True\n",
            "Layer 44: conv3_block1_2_relu, Trainable: True\n",
            "Layer 45: conv3_block1_0_conv, Trainable: True\n",
            "Layer 46: conv3_block1_3_conv, Trainable: True\n",
            "Layer 47: conv3_block1_0_bn, Trainable: True\n",
            "Layer 48: conv3_block1_3_bn, Trainable: True\n",
            "Layer 49: conv3_block1_add, Trainable: True\n",
            "Layer 50: conv3_block1_out, Trainable: True\n",
            "Layer 51: conv3_block2_1_conv, Trainable: True\n",
            "Layer 52: conv3_block2_1_bn, Trainable: True\n",
            "Layer 53: conv3_block2_1_relu, Trainable: True\n",
            "Layer 54: conv3_block2_2_conv, Trainable: True\n",
            "Layer 55: conv3_block2_2_bn, Trainable: True\n",
            "Layer 56: conv3_block2_2_relu, Trainable: True\n",
            "Layer 57: conv3_block2_3_conv, Trainable: True\n",
            "Layer 58: conv3_block2_3_bn, Trainable: True\n",
            "Layer 59: conv3_block2_add, Trainable: True\n",
            "Layer 60: conv3_block2_out, Trainable: True\n",
            "Layer 61: conv3_block3_1_conv, Trainable: True\n",
            "Layer 62: conv3_block3_1_bn, Trainable: True\n",
            "Layer 63: conv3_block3_1_relu, Trainable: True\n",
            "Layer 64: conv3_block3_2_conv, Trainable: True\n",
            "Layer 65: conv3_block3_2_bn, Trainable: True\n",
            "Layer 66: conv3_block3_2_relu, Trainable: True\n",
            "Layer 67: conv3_block3_3_conv, Trainable: True\n",
            "Layer 68: conv3_block3_3_bn, Trainable: True\n",
            "Layer 69: conv3_block3_add, Trainable: True\n",
            "Layer 70: conv3_block3_out, Trainable: True\n",
            "Layer 71: conv3_block4_1_conv, Trainable: True\n",
            "Layer 72: conv3_block4_1_bn, Trainable: True\n",
            "Layer 73: conv3_block4_1_relu, Trainable: True\n",
            "Layer 74: conv3_block4_2_conv, Trainable: True\n",
            "Layer 75: conv3_block4_2_bn, Trainable: True\n",
            "Layer 76: conv3_block4_2_relu, Trainable: True\n",
            "Layer 77: conv3_block4_3_conv, Trainable: True\n",
            "Layer 78: conv3_block4_3_bn, Trainable: True\n",
            "Layer 79: conv3_block4_add, Trainable: True\n",
            "Layer 80: conv3_block4_out, Trainable: True\n",
            "Layer 81: conv3_block5_1_conv, Trainable: True\n",
            "Layer 82: conv3_block5_1_bn, Trainable: True\n",
            "Layer 83: conv3_block5_1_relu, Trainable: True\n",
            "Layer 84: conv3_block5_2_conv, Trainable: True\n",
            "Layer 85: conv3_block5_2_bn, Trainable: True\n",
            "Layer 86: conv3_block5_2_relu, Trainable: True\n",
            "Layer 87: conv3_block5_3_conv, Trainable: True\n",
            "Layer 88: conv3_block5_3_bn, Trainable: True\n",
            "Layer 89: conv3_block5_add, Trainable: True\n",
            "Layer 90: conv3_block5_out, Trainable: True\n",
            "Layer 91: conv3_block6_1_conv, Trainable: True\n",
            "Layer 92: conv3_block6_1_bn, Trainable: True\n",
            "Layer 93: conv3_block6_1_relu, Trainable: True\n",
            "Layer 94: conv3_block6_2_conv, Trainable: True\n",
            "Layer 95: conv3_block6_2_bn, Trainable: True\n",
            "Layer 96: conv3_block6_2_relu, Trainable: True\n",
            "Layer 97: conv3_block6_3_conv, Trainable: True\n",
            "Layer 98: conv3_block6_3_bn, Trainable: True\n",
            "Layer 99: conv3_block6_add, Trainable: True\n",
            "Layer 100: conv3_block6_out, Trainable: True\n",
            "Layer 101: conv3_block7_1_conv, Trainable: True\n",
            "Layer 102: conv3_block7_1_bn, Trainable: True\n",
            "Layer 103: conv3_block7_1_relu, Trainable: True\n",
            "Layer 104: conv3_block7_2_conv, Trainable: True\n",
            "Layer 105: conv3_block7_2_bn, Trainable: True\n",
            "Layer 106: conv3_block7_2_relu, Trainable: True\n",
            "Layer 107: conv3_block7_3_conv, Trainable: True\n",
            "Layer 108: conv3_block7_3_bn, Trainable: True\n",
            "Layer 109: conv3_block7_add, Trainable: True\n",
            "Layer 110: conv3_block7_out, Trainable: True\n",
            "Layer 111: conv3_block8_1_conv, Trainable: True\n",
            "Layer 112: conv3_block8_1_bn, Trainable: True\n",
            "Layer 113: conv3_block8_1_relu, Trainable: True\n",
            "Layer 114: conv3_block8_2_conv, Trainable: True\n",
            "Layer 115: conv3_block8_2_bn, Trainable: True\n",
            "Layer 116: conv3_block8_2_relu, Trainable: True\n",
            "Layer 117: conv3_block8_3_conv, Trainable: True\n",
            "Layer 118: conv3_block8_3_bn, Trainable: True\n",
            "Layer 119: conv3_block8_add, Trainable: True\n",
            "Layer 120: conv3_block8_out, Trainable: True\n",
            "Layer 121: conv4_block1_1_conv, Trainable: True\n",
            "Layer 122: conv4_block1_1_bn, Trainable: True\n",
            "Layer 123: conv4_block1_1_relu, Trainable: True\n",
            "Layer 124: conv4_block1_2_conv, Trainable: True\n",
            "Layer 125: conv4_block1_2_bn, Trainable: True\n",
            "Layer 126: conv4_block1_2_relu, Trainable: True\n",
            "Layer 127: conv4_block1_0_conv, Trainable: True\n",
            "Layer 128: conv4_block1_3_conv, Trainable: True\n",
            "Layer 129: conv4_block1_0_bn, Trainable: True\n",
            "Layer 130: conv4_block1_3_bn, Trainable: True\n",
            "Layer 131: conv4_block1_add, Trainable: True\n",
            "Layer 132: conv4_block1_out, Trainable: True\n",
            "Layer 133: conv4_block2_1_conv, Trainable: True\n",
            "Layer 134: conv4_block2_1_bn, Trainable: True\n",
            "Layer 135: conv4_block2_1_relu, Trainable: True\n",
            "Layer 136: conv4_block2_2_conv, Trainable: True\n",
            "Layer 137: conv4_block2_2_bn, Trainable: True\n",
            "Layer 138: conv4_block2_2_relu, Trainable: True\n",
            "Layer 139: conv4_block2_3_conv, Trainable: True\n",
            "Layer 140: conv4_block2_3_bn, Trainable: True\n",
            "Layer 141: conv4_block2_add, Trainable: True\n",
            "Layer 142: conv4_block2_out, Trainable: True\n",
            "Layer 143: conv4_block3_1_conv, Trainable: True\n",
            "Layer 144: conv4_block3_1_bn, Trainable: True\n",
            "Layer 145: conv4_block3_1_relu, Trainable: True\n",
            "Layer 146: conv4_block3_2_conv, Trainable: True\n",
            "Layer 147: conv4_block3_2_bn, Trainable: True\n",
            "Layer 148: conv4_block3_2_relu, Trainable: True\n",
            "Layer 149: conv4_block3_3_conv, Trainable: True\n",
            "Layer 150: conv4_block3_3_bn, Trainable: True\n",
            "Layer 151: conv4_block3_add, Trainable: True\n",
            "Layer 152: conv4_block3_out, Trainable: True\n",
            "Layer 153: conv4_block4_1_conv, Trainable: True\n",
            "Layer 154: conv4_block4_1_bn, Trainable: True\n",
            "Layer 155: conv4_block4_1_relu, Trainable: True\n",
            "Layer 156: conv4_block4_2_conv, Trainable: True\n",
            "Layer 157: conv4_block4_2_bn, Trainable: True\n",
            "Layer 158: conv4_block4_2_relu, Trainable: True\n",
            "Layer 159: conv4_block4_3_conv, Trainable: True\n",
            "Layer 160: conv4_block4_3_bn, Trainable: True\n",
            "Layer 161: conv4_block4_add, Trainable: True\n",
            "Layer 162: conv4_block4_out, Trainable: True\n",
            "Layer 163: conv4_block5_1_conv, Trainable: True\n",
            "Layer 164: conv4_block5_1_bn, Trainable: True\n",
            "Layer 165: conv4_block5_1_relu, Trainable: True\n",
            "Layer 166: conv4_block5_2_conv, Trainable: True\n",
            "Layer 167: conv4_block5_2_bn, Trainable: True\n",
            "Layer 168: conv4_block5_2_relu, Trainable: True\n",
            "Layer 169: conv4_block5_3_conv, Trainable: True\n",
            "Layer 170: conv4_block5_3_bn, Trainable: True\n",
            "Layer 171: conv4_block5_add, Trainable: True\n",
            "Layer 172: conv4_block5_out, Trainable: True\n",
            "Layer 173: conv4_block6_1_conv, Trainable: True\n",
            "Layer 174: conv4_block6_1_bn, Trainable: True\n",
            "Layer 175: conv4_block6_1_relu, Trainable: True\n",
            "Layer 176: conv4_block6_2_conv, Trainable: True\n",
            "Layer 177: conv4_block6_2_bn, Trainable: True\n",
            "Layer 178: conv4_block6_2_relu, Trainable: True\n",
            "Layer 179: conv4_block6_3_conv, Trainable: True\n",
            "Layer 180: conv4_block6_3_bn, Trainable: True\n",
            "Layer 181: conv4_block6_add, Trainable: True\n",
            "Layer 182: conv4_block6_out, Trainable: True\n",
            "Layer 183: conv4_block7_1_conv, Trainable: True\n",
            "Layer 184: conv4_block7_1_bn, Trainable: True\n",
            "Layer 185: conv4_block7_1_relu, Trainable: True\n",
            "Layer 186: conv4_block7_2_conv, Trainable: True\n",
            "Layer 187: conv4_block7_2_bn, Trainable: True\n",
            "Layer 188: conv4_block7_2_relu, Trainable: True\n",
            "Layer 189: conv4_block7_3_conv, Trainable: True\n",
            "Layer 190: conv4_block7_3_bn, Trainable: True\n",
            "Layer 191: conv4_block7_add, Trainable: True\n",
            "Layer 192: conv4_block7_out, Trainable: True\n",
            "Layer 193: conv4_block8_1_conv, Trainable: True\n",
            "Layer 194: conv4_block8_1_bn, Trainable: True\n",
            "Layer 195: conv4_block8_1_relu, Trainable: True\n",
            "Layer 196: conv4_block8_2_conv, Trainable: True\n",
            "Layer 197: conv4_block8_2_bn, Trainable: True\n",
            "Layer 198: conv4_block8_2_relu, Trainable: True\n",
            "Layer 199: conv4_block8_3_conv, Trainable: True\n",
            "Layer 200: conv4_block8_3_bn, Trainable: True\n",
            "Layer 201: conv4_block8_add, Trainable: True\n",
            "Layer 202: conv4_block8_out, Trainable: True\n",
            "Layer 203: conv4_block9_1_conv, Trainable: True\n",
            "Layer 204: conv4_block9_1_bn, Trainable: True\n",
            "Layer 205: conv4_block9_1_relu, Trainable: True\n",
            "Layer 206: conv4_block9_2_conv, Trainable: True\n",
            "Layer 207: conv4_block9_2_bn, Trainable: True\n",
            "Layer 208: conv4_block9_2_relu, Trainable: True\n",
            "Layer 209: conv4_block9_3_conv, Trainable: True\n",
            "Layer 210: conv4_block9_3_bn, Trainable: True\n",
            "Layer 211: conv4_block9_add, Trainable: True\n",
            "Layer 212: conv4_block9_out, Trainable: True\n",
            "Layer 213: conv4_block10_1_conv, Trainable: True\n",
            "Layer 214: conv4_block10_1_bn, Trainable: True\n",
            "Layer 215: conv4_block10_1_relu, Trainable: True\n",
            "Layer 216: conv4_block10_2_conv, Trainable: True\n",
            "Layer 217: conv4_block10_2_bn, Trainable: True\n",
            "Layer 218: conv4_block10_2_relu, Trainable: True\n",
            "Layer 219: conv4_block10_3_conv, Trainable: True\n",
            "Layer 220: conv4_block10_3_bn, Trainable: True\n",
            "Layer 221: conv4_block10_add, Trainable: True\n",
            "Layer 222: conv4_block10_out, Trainable: True\n",
            "Layer 223: conv4_block11_1_conv, Trainable: True\n",
            "Layer 224: conv4_block11_1_bn, Trainable: True\n",
            "Layer 225: conv4_block11_1_relu, Trainable: True\n",
            "Layer 226: conv4_block11_2_conv, Trainable: True\n",
            "Layer 227: conv4_block11_2_bn, Trainable: True\n",
            "Layer 228: conv4_block11_2_relu, Trainable: True\n",
            "Layer 229: conv4_block11_3_conv, Trainable: True\n",
            "Layer 230: conv4_block11_3_bn, Trainable: True\n",
            "Layer 231: conv4_block11_add, Trainable: True\n",
            "Layer 232: conv4_block11_out, Trainable: True\n",
            "Layer 233: conv4_block12_1_conv, Trainable: True\n",
            "Layer 234: conv4_block12_1_bn, Trainable: True\n",
            "Layer 235: conv4_block12_1_relu, Trainable: True\n",
            "Layer 236: conv4_block12_2_conv, Trainable: True\n",
            "Layer 237: conv4_block12_2_bn, Trainable: True\n",
            "Layer 238: conv4_block12_2_relu, Trainable: True\n",
            "Layer 239: conv4_block12_3_conv, Trainable: True\n",
            "Layer 240: conv4_block12_3_bn, Trainable: True\n",
            "Layer 241: conv4_block12_add, Trainable: True\n",
            "Layer 242: conv4_block12_out, Trainable: True\n",
            "Layer 243: conv4_block13_1_conv, Trainable: True\n",
            "Layer 244: conv4_block13_1_bn, Trainable: True\n",
            "Layer 245: conv4_block13_1_relu, Trainable: True\n",
            "Layer 246: conv4_block13_2_conv, Trainable: True\n",
            "Layer 247: conv4_block13_2_bn, Trainable: True\n",
            "Layer 248: conv4_block13_2_relu, Trainable: True\n",
            "Layer 249: conv4_block13_3_conv, Trainable: True\n",
            "Layer 250: conv4_block13_3_bn, Trainable: True\n",
            "Layer 251: conv4_block13_add, Trainable: True\n",
            "Layer 252: conv4_block13_out, Trainable: True\n",
            "Layer 253: conv4_block14_1_conv, Trainable: True\n",
            "Layer 254: conv4_block14_1_bn, Trainable: True\n",
            "Layer 255: conv4_block14_1_relu, Trainable: True\n",
            "Layer 256: conv4_block14_2_conv, Trainable: True\n",
            "Layer 257: conv4_block14_2_bn, Trainable: True\n",
            "Layer 258: conv4_block14_2_relu, Trainable: True\n",
            "Layer 259: conv4_block14_3_conv, Trainable: True\n",
            "Layer 260: conv4_block14_3_bn, Trainable: True\n",
            "Layer 261: conv4_block14_add, Trainable: True\n",
            "Layer 262: conv4_block14_out, Trainable: True\n",
            "Layer 263: conv4_block15_1_conv, Trainable: True\n",
            "Layer 264: conv4_block15_1_bn, Trainable: True\n",
            "Layer 265: conv4_block15_1_relu, Trainable: True\n",
            "Layer 266: conv4_block15_2_conv, Trainable: True\n",
            "Layer 267: conv4_block15_2_bn, Trainable: True\n",
            "Layer 268: conv4_block15_2_relu, Trainable: True\n",
            "Layer 269: conv4_block15_3_conv, Trainable: True\n",
            "Layer 270: conv4_block15_3_bn, Trainable: True\n",
            "Layer 271: conv4_block15_add, Trainable: True\n",
            "Layer 272: conv4_block15_out, Trainable: True\n",
            "Layer 273: conv4_block16_1_conv, Trainable: True\n",
            "Layer 274: conv4_block16_1_bn, Trainable: True\n",
            "Layer 275: conv4_block16_1_relu, Trainable: True\n",
            "Layer 276: conv4_block16_2_conv, Trainable: True\n",
            "Layer 277: conv4_block16_2_bn, Trainable: True\n",
            "Layer 278: conv4_block16_2_relu, Trainable: True\n",
            "Layer 279: conv4_block16_3_conv, Trainable: True\n",
            "Layer 280: conv4_block16_3_bn, Trainable: True\n",
            "Layer 281: conv4_block16_add, Trainable: True\n",
            "Layer 282: conv4_block16_out, Trainable: True\n",
            "Layer 283: conv4_block17_1_conv, Trainable: True\n",
            "Layer 284: conv4_block17_1_bn, Trainable: True\n",
            "Layer 285: conv4_block17_1_relu, Trainable: True\n",
            "Layer 286: conv4_block17_2_conv, Trainable: True\n",
            "Layer 287: conv4_block17_2_bn, Trainable: True\n",
            "Layer 288: conv4_block17_2_relu, Trainable: True\n",
            "Layer 289: conv4_block17_3_conv, Trainable: True\n",
            "Layer 290: conv4_block17_3_bn, Trainable: True\n",
            "Layer 291: conv4_block17_add, Trainable: True\n",
            "Layer 292: conv4_block17_out, Trainable: True\n",
            "Layer 293: conv4_block18_1_conv, Trainable: True\n",
            "Layer 294: conv4_block18_1_bn, Trainable: True\n",
            "Layer 295: conv4_block18_1_relu, Trainable: True\n",
            "Layer 296: conv4_block18_2_conv, Trainable: True\n",
            "Layer 297: conv4_block18_2_bn, Trainable: True\n",
            "Layer 298: conv4_block18_2_relu, Trainable: True\n",
            "Layer 299: conv4_block18_3_conv, Trainable: True\n",
            "Layer 300: conv4_block18_3_bn, Trainable: True\n",
            "Layer 301: conv4_block18_add, Trainable: True\n",
            "Layer 302: conv4_block18_out, Trainable: True\n",
            "Layer 303: conv4_block19_1_conv, Trainable: True\n",
            "Layer 304: conv4_block19_1_bn, Trainable: True\n",
            "Layer 305: conv4_block19_1_relu, Trainable: True\n",
            "Layer 306: conv4_block19_2_conv, Trainable: True\n",
            "Layer 307: conv4_block19_2_bn, Trainable: True\n",
            "Layer 308: conv4_block19_2_relu, Trainable: True\n",
            "Layer 309: conv4_block19_3_conv, Trainable: True\n",
            "Layer 310: conv4_block19_3_bn, Trainable: True\n",
            "Layer 311: conv4_block19_add, Trainable: True\n",
            "Layer 312: conv4_block19_out, Trainable: True\n",
            "Layer 313: conv4_block20_1_conv, Trainable: True\n",
            "Layer 314: conv4_block20_1_bn, Trainable: True\n",
            "Layer 315: conv4_block20_1_relu, Trainable: True\n",
            "Layer 316: conv4_block20_2_conv, Trainable: True\n",
            "Layer 317: conv4_block20_2_bn, Trainable: True\n",
            "Layer 318: conv4_block20_2_relu, Trainable: True\n",
            "Layer 319: conv4_block20_3_conv, Trainable: True\n",
            "Layer 320: conv4_block20_3_bn, Trainable: True\n",
            "Layer 321: conv4_block20_add, Trainable: True\n",
            "Layer 322: conv4_block20_out, Trainable: True\n",
            "Layer 323: conv4_block21_1_conv, Trainable: True\n",
            "Layer 324: conv4_block21_1_bn, Trainable: True\n",
            "Layer 325: conv4_block21_1_relu, Trainable: True\n",
            "Layer 326: conv4_block21_2_conv, Trainable: True\n",
            "Layer 327: conv4_block21_2_bn, Trainable: True\n",
            "Layer 328: conv4_block21_2_relu, Trainable: True\n",
            "Layer 329: conv4_block21_3_conv, Trainable: True\n",
            "Layer 330: conv4_block21_3_bn, Trainable: True\n",
            "Layer 331: conv4_block21_add, Trainable: True\n",
            "Layer 332: conv4_block21_out, Trainable: True\n",
            "Layer 333: conv4_block22_1_conv, Trainable: True\n",
            "Layer 334: conv4_block22_1_bn, Trainable: True\n",
            "Layer 335: conv4_block22_1_relu, Trainable: True\n",
            "Layer 336: conv4_block22_2_conv, Trainable: True\n",
            "Layer 337: conv4_block22_2_bn, Trainable: True\n",
            "Layer 338: conv4_block22_2_relu, Trainable: True\n",
            "Layer 339: conv4_block22_3_conv, Trainable: True\n",
            "Layer 340: conv4_block22_3_bn, Trainable: True\n",
            "Layer 341: conv4_block22_add, Trainable: True\n",
            "Layer 342: conv4_block22_out, Trainable: True\n",
            "Layer 343: conv4_block23_1_conv, Trainable: True\n",
            "Layer 344: conv4_block23_1_bn, Trainable: True\n",
            "Layer 345: conv4_block23_1_relu, Trainable: True\n",
            "Layer 346: conv4_block23_2_conv, Trainable: True\n",
            "Layer 347: conv4_block23_2_bn, Trainable: True\n",
            "Layer 348: conv4_block23_2_relu, Trainable: True\n",
            "Layer 349: conv4_block23_3_conv, Trainable: True\n",
            "Layer 350: conv4_block23_3_bn, Trainable: True\n",
            "Layer 351: conv4_block23_add, Trainable: True\n",
            "Layer 352: conv4_block23_out, Trainable: True\n",
            "Layer 353: conv4_block24_1_conv, Trainable: True\n",
            "Layer 354: conv4_block24_1_bn, Trainable: True\n",
            "Layer 355: conv4_block24_1_relu, Trainable: True\n",
            "Layer 356: conv4_block24_2_conv, Trainable: True\n",
            "Layer 357: conv4_block24_2_bn, Trainable: True\n",
            "Layer 358: conv4_block24_2_relu, Trainable: True\n",
            "Layer 359: conv4_block24_3_conv, Trainable: True\n",
            "Layer 360: conv4_block24_3_bn, Trainable: True\n",
            "Layer 361: conv4_block24_add, Trainable: True\n",
            "Layer 362: conv4_block24_out, Trainable: True\n",
            "Layer 363: conv4_block25_1_conv, Trainable: True\n",
            "Layer 364: conv4_block25_1_bn, Trainable: True\n",
            "Layer 365: conv4_block25_1_relu, Trainable: True\n",
            "Layer 366: conv4_block25_2_conv, Trainable: True\n",
            "Layer 367: conv4_block25_2_bn, Trainable: True\n",
            "Layer 368: conv4_block25_2_relu, Trainable: True\n",
            "Layer 369: conv4_block25_3_conv, Trainable: True\n",
            "Layer 370: conv4_block25_3_bn, Trainable: True\n",
            "Layer 371: conv4_block25_add, Trainable: True\n",
            "Layer 372: conv4_block25_out, Trainable: True\n",
            "Layer 373: conv4_block26_1_conv, Trainable: True\n",
            "Layer 374: conv4_block26_1_bn, Trainable: True\n",
            "Layer 375: conv4_block26_1_relu, Trainable: True\n",
            "Layer 376: conv4_block26_2_conv, Trainable: True\n",
            "Layer 377: conv4_block26_2_bn, Trainable: True\n",
            "Layer 378: conv4_block26_2_relu, Trainable: True\n",
            "Layer 379: conv4_block26_3_conv, Trainable: True\n",
            "Layer 380: conv4_block26_3_bn, Trainable: True\n",
            "Layer 381: conv4_block26_add, Trainable: True\n",
            "Layer 382: conv4_block26_out, Trainable: True\n",
            "Layer 383: conv4_block27_1_conv, Trainable: True\n",
            "Layer 384: conv4_block27_1_bn, Trainable: True\n",
            "Layer 385: conv4_block27_1_relu, Trainable: True\n",
            "Layer 386: conv4_block27_2_conv, Trainable: True\n",
            "Layer 387: conv4_block27_2_bn, Trainable: True\n",
            "Layer 388: conv4_block27_2_relu, Trainable: True\n",
            "Layer 389: conv4_block27_3_conv, Trainable: True\n",
            "Layer 390: conv4_block27_3_bn, Trainable: True\n",
            "Layer 391: conv4_block27_add, Trainable: True\n",
            "Layer 392: conv4_block27_out, Trainable: True\n",
            "Layer 393: conv4_block28_1_conv, Trainable: True\n",
            "Layer 394: conv4_block28_1_bn, Trainable: True\n",
            "Layer 395: conv4_block28_1_relu, Trainable: True\n",
            "Layer 396: conv4_block28_2_conv, Trainable: True\n",
            "Layer 397: conv4_block28_2_bn, Trainable: True\n",
            "Layer 398: conv4_block28_2_relu, Trainable: True\n",
            "Layer 399: conv4_block28_3_conv, Trainable: True\n",
            "Layer 400: conv4_block28_3_bn, Trainable: True\n",
            "Layer 401: conv4_block28_add, Trainable: True\n",
            "Layer 402: conv4_block28_out, Trainable: True\n",
            "Layer 403: conv4_block29_1_conv, Trainable: True\n",
            "Layer 404: conv4_block29_1_bn, Trainable: True\n",
            "Layer 405: conv4_block29_1_relu, Trainable: True\n",
            "Layer 406: conv4_block29_2_conv, Trainable: True\n",
            "Layer 407: conv4_block29_2_bn, Trainable: True\n",
            "Layer 408: conv4_block29_2_relu, Trainable: True\n",
            "Layer 409: conv4_block29_3_conv, Trainable: True\n",
            "Layer 410: conv4_block29_3_bn, Trainable: True\n",
            "Layer 411: conv4_block29_add, Trainable: True\n",
            "Layer 412: conv4_block29_out, Trainable: True\n",
            "Layer 413: conv4_block30_1_conv, Trainable: True\n",
            "Layer 414: conv4_block30_1_bn, Trainable: True\n",
            "Layer 415: conv4_block30_1_relu, Trainable: True\n",
            "Layer 416: conv4_block30_2_conv, Trainable: True\n",
            "Layer 417: conv4_block30_2_bn, Trainable: True\n",
            "Layer 418: conv4_block30_2_relu, Trainable: True\n",
            "Layer 419: conv4_block30_3_conv, Trainable: True\n",
            "Layer 420: conv4_block30_3_bn, Trainable: True\n",
            "Layer 421: conv4_block30_add, Trainable: True\n",
            "Layer 422: conv4_block30_out, Trainable: True\n",
            "Layer 423: conv4_block31_1_conv, Trainable: True\n",
            "Layer 424: conv4_block31_1_bn, Trainable: True\n",
            "Layer 425: conv4_block31_1_relu, Trainable: True\n",
            "Layer 426: conv4_block31_2_conv, Trainable: True\n",
            "Layer 427: conv4_block31_2_bn, Trainable: True\n",
            "Layer 428: conv4_block31_2_relu, Trainable: True\n",
            "Layer 429: conv4_block31_3_conv, Trainable: True\n",
            "Layer 430: conv4_block31_3_bn, Trainable: True\n",
            "Layer 431: conv4_block31_add, Trainable: True\n",
            "Layer 432: conv4_block31_out, Trainable: True\n",
            "Layer 433: conv4_block32_1_conv, Trainable: True\n",
            "Layer 434: conv4_block32_1_bn, Trainable: True\n",
            "Layer 435: conv4_block32_1_relu, Trainable: True\n",
            "Layer 436: conv4_block32_2_conv, Trainable: True\n",
            "Layer 437: conv4_block32_2_bn, Trainable: True\n",
            "Layer 438: conv4_block32_2_relu, Trainable: True\n",
            "Layer 439: conv4_block32_3_conv, Trainable: True\n",
            "Layer 440: conv4_block32_3_bn, Trainable: True\n",
            "Layer 441: conv4_block32_add, Trainable: True\n",
            "Layer 442: conv4_block32_out, Trainable: True\n",
            "Layer 443: conv4_block33_1_conv, Trainable: True\n",
            "Layer 444: conv4_block33_1_bn, Trainable: True\n",
            "Layer 445: conv4_block33_1_relu, Trainable: True\n",
            "Layer 446: conv4_block33_2_conv, Trainable: True\n",
            "Layer 447: conv4_block33_2_bn, Trainable: True\n",
            "Layer 448: conv4_block33_2_relu, Trainable: True\n",
            "Layer 449: conv4_block33_3_conv, Trainable: True\n",
            "Layer 450: conv4_block33_3_bn, Trainable: True\n",
            "Layer 451: conv4_block33_add, Trainable: True\n",
            "Layer 452: conv4_block33_out, Trainable: True\n",
            "Layer 453: conv4_block34_1_conv, Trainable: True\n",
            "Layer 454: conv4_block34_1_bn, Trainable: True\n",
            "Layer 455: conv4_block34_1_relu, Trainable: True\n",
            "Layer 456: conv4_block34_2_conv, Trainable: True\n",
            "Layer 457: conv4_block34_2_bn, Trainable: True\n",
            "Layer 458: conv4_block34_2_relu, Trainable: True\n",
            "Layer 459: conv4_block34_3_conv, Trainable: True\n",
            "Layer 460: conv4_block34_3_bn, Trainable: True\n",
            "Layer 461: conv4_block34_add, Trainable: True\n",
            "Layer 462: conv4_block34_out, Trainable: True\n",
            "Layer 463: conv4_block35_1_conv, Trainable: True\n",
            "Layer 464: conv4_block35_1_bn, Trainable: True\n",
            "Layer 465: conv4_block35_1_relu, Trainable: True\n",
            "Layer 466: conv4_block35_2_conv, Trainable: True\n",
            "Layer 467: conv4_block35_2_bn, Trainable: True\n",
            "Layer 468: conv4_block35_2_relu, Trainable: True\n",
            "Layer 469: conv4_block35_3_conv, Trainable: True\n",
            "Layer 470: conv4_block35_3_bn, Trainable: True\n",
            "Layer 471: conv4_block35_add, Trainable: True\n",
            "Layer 472: conv4_block35_out, Trainable: True\n",
            "Layer 473: conv4_block36_1_conv, Trainable: True\n",
            "Layer 474: conv4_block36_1_bn, Trainable: True\n",
            "Layer 475: conv4_block36_1_relu, Trainable: True\n",
            "Layer 476: conv4_block36_2_conv, Trainable: True\n",
            "Layer 477: conv4_block36_2_bn, Trainable: True\n",
            "Layer 478: conv4_block36_2_relu, Trainable: True\n",
            "Layer 479: conv4_block36_3_conv, Trainable: True\n",
            "Layer 480: conv4_block36_3_bn, Trainable: True\n",
            "Layer 481: conv4_block36_add, Trainable: True\n",
            "Layer 482: conv4_block36_out, Trainable: True\n",
            "Layer 483: conv5_block1_1_conv, Trainable: True\n",
            "Layer 484: conv5_block1_1_bn, Trainable: True\n",
            "Layer 485: conv5_block1_1_relu, Trainable: True\n",
            "Layer 486: conv5_block1_2_conv, Trainable: True\n",
            "Layer 487: conv5_block1_2_bn, Trainable: True\n",
            "Layer 488: conv5_block1_2_relu, Trainable: True\n",
            "Layer 489: conv5_block1_0_conv, Trainable: True\n",
            "Layer 490: conv5_block1_3_conv, Trainable: True\n",
            "Layer 491: conv5_block1_0_bn, Trainable: True\n",
            "Layer 492: conv5_block1_3_bn, Trainable: True\n",
            "Layer 493: conv5_block1_add, Trainable: True\n",
            "Layer 494: conv5_block1_out, Trainable: True\n",
            "Layer 495: conv5_block2_1_conv, Trainable: True\n",
            "Layer 496: conv5_block2_1_bn, Trainable: True\n",
            "Layer 497: conv5_block2_1_relu, Trainable: True\n",
            "Layer 498: conv5_block2_2_conv, Trainable: True\n",
            "Layer 499: conv5_block2_2_bn, Trainable: True\n",
            "Layer 500: conv5_block2_2_relu, Trainable: True\n",
            "Layer 501: conv5_block2_3_conv, Trainable: True\n",
            "Layer 502: conv5_block2_3_bn, Trainable: True\n",
            "Layer 503: conv5_block2_add, Trainable: True\n",
            "Layer 504: conv5_block2_out, Trainable: True\n",
            "Layer 505: conv5_block3_1_conv, Trainable: True\n",
            "Layer 506: conv5_block3_1_bn, Trainable: True\n",
            "Layer 507: conv5_block3_1_relu, Trainable: True\n",
            "Layer 508: conv5_block3_2_conv, Trainable: True\n",
            "Layer 509: conv5_block3_2_bn, Trainable: True\n",
            "Layer 510: conv5_block3_2_relu, Trainable: True\n",
            "Layer 511: conv5_block3_3_conv, Trainable: True\n",
            "Layer 512: conv5_block3_3_bn, Trainable: True\n",
            "Layer 513: conv5_block3_add, Trainable: True\n",
            "Layer 514: conv5_block3_out, Trainable: True\n"
          ]
        }
      ]
    },
    {
      "cell_type": "code",
      "source": [
        "model = Sequential([\n",
        "    base_model,\n",
        "    Flatten(),\n",
        "    Dense(512, activation='relu'),\n",
        "    Dense(4, activation='softmax')\n",
        "])\n",
        "model.summary()"
      ],
      "metadata": {
        "colab": {
          "base_uri": "https://localhost:8080/"
        },
        "id": "le6O7kGIw6h6",
        "outputId": "1b5f6921-ccdf-44b4-efb9-197f8cb27b59"
      },
      "execution_count": null,
      "outputs": [
        {
          "output_type": "stream",
          "name": "stdout",
          "text": [
            "Model: \"sequential\"\n",
            "_________________________________________________________________\n",
            " Layer (type)                Output Shape              Param #   \n",
            "=================================================================\n",
            " resnet152 (Functional)      (None, 7, 7, 2048)        58370944  \n",
            "                                                                 \n",
            " flatten (Flatten)           (None, 100352)            0         \n",
            "                                                                 \n",
            " dense (Dense)               (None, 512)               51380736  \n",
            "                                                                 \n",
            " dense_1 (Dense)             (None, 4)                 2052      \n",
            "                                                                 \n",
            "=================================================================\n",
            "Total params: 109753732 (418.68 MB)\n",
            "Trainable params: 109602308 (418.10 MB)\n",
            "Non-trainable params: 151424 (591.50 KB)\n",
            "_________________________________________________________________\n"
          ]
        }
      ]
    },
    {
      "cell_type": "code",
      "source": [
        "from tensorflow.keras.utils import plot_model\n",
        "from IPython.display import Image\n",
        "plot_model(model, to_file='convnet.png', show_shapes=True,show_layer_names=True)\n",
        "Image(filename='convnet.png')"
      ],
      "metadata": {
        "id": "kIpnFMMF2scs",
        "colab": {
          "base_uri": "https://localhost:8080/",
          "height": 533
        },
        "outputId": "9af7fcc7-91d8-4b9e-9011-b3ee37a5828f"
      },
      "execution_count": null,
      "outputs": [
        {
          "output_type": "execute_result",
          "data": {
            "image/png": "[encoded data removed]",
            "text/plain": [
              "<IPython.core.display.Image object>"
            ]
          },
          "metadata": {},
          "execution_count": 24
        }
      ]
    },
    {
      "cell_type": "code",
      "execution_count": null,
      "metadata": {
        "id": "CMtjjQwmaBjC"
      },
      "outputs": [],
      "source": [
        "model.compile(\n",
        "    loss=\"categorical_crossentropy\",\n",
        "    optimizer=Adam(learning_rate=0.0005),\n",
        "    metrics=METRICS\n",
        ")"
      ]
    },
    {
      "cell_type": "code",
      "execution_count": null,
      "metadata": {
        "id": "9Zjmg5poaBjC"
      },
      "outputs": [],
      "source": [
        "callbacks = [\n",
        "    ModelCheckpoint(\"best_model.keras\", monitor=\"val_accuracy\", save_best_only=True, verbose=1),\n",
        "    EarlyStopping(monitor=\"val_loss\", patience=5, verbose=1, restore_best_weights=True)\n",
        "]"
      ]
    },
    {
      "cell_type": "code",
      "execution_count": null,
      "metadata": {
        "id": "zgcn2wlOaBjD",
        "colab": {
          "base_uri": "https://localhost:8080/"
        },
        "outputId": "fa3efbc9-d76d-4952-d404-0948c58ffe5d"
      },
      "outputs": [
        {
          "output_type": "stream",
          "name": "stdout",
          "text": [
            "Epoch 1/35\n",
            "41/41 [==============================] - ETA: 0s - loss: 6.1949 - accuracy: 0.4878 - precision: 0.5220 - recall: 0.3807 - auc: 0.7345 - f1_score: 0.4878\n",
            "Epoch 1: val_accuracy improved from -inf to 0.21393, saving model to best_model.keras\n",
            "41/41 [==============================] - 163s 1s/step - loss: 6.1949 - accuracy: 0.4878 - precision: 0.5220 - recall: 0.3807 - auc: 0.7345 - f1_score: 0.4878 - val_loss: 7935.2378 - val_accuracy: 0.2139 - val_precision: 0.2139 - val_recall: 0.2139 - val_auc: 0.4760 - val_f1_score: 0.2139\n",
            "Epoch 2/35\n",
            "41/41 [==============================] - ETA: 0s - loss: 0.8674 - accuracy: 0.6040 - precision: 0.7053 - recall: 0.4465 - auc: 0.8591 - f1_score: 0.6040\n",
            "Epoch 2: val_accuracy improved from 0.21393 to 0.23881, saving model to best_model.keras\n",
            "41/41 [==============================] - 36s 872ms/step - loss: 0.8674 - accuracy: 0.6040 - precision: 0.7053 - recall: 0.4465 - auc: 0.8591 - f1_score: 0.6040 - val_loss: 9.4911 - val_accuracy: 0.2388 - val_precision: 0.2437 - val_recall: 0.2388 - val_auc: 0.5322 - val_f1_score: 0.2388\n",
            "Epoch 3/35\n",
            "41/41 [==============================] - ETA: 0s - loss: 0.6650 - accuracy: 0.7401 - precision: 0.7863 - recall: 0.6865 - auc: 0.9263 - f1_score: 0.7401\n",
            "Epoch 3: val_accuracy improved from 0.23881 to 0.28856, saving model to best_model.keras\n",
            "41/41 [==============================] - 39s 968ms/step - loss: 0.6650 - accuracy: 0.7401 - precision: 0.7863 - recall: 0.6865 - auc: 0.9263 - f1_score: 0.7401 - val_loss: 4.0388 - val_accuracy: 0.2886 - val_precision: 0.2944 - val_recall: 0.2886 - val_auc: 0.5670 - val_f1_score: 0.2886\n",
            "Epoch 4/35\n",
            "41/41 [==============================] - ETA: 0s - loss: 0.4349 - accuracy: 0.8104 - precision: 0.8550 - recall: 0.7752 - auc: 0.9663 - f1_score: 0.8104\n",
            "Epoch 4: val_accuracy improved from 0.28856 to 0.75622, saving model to best_model.keras\n",
            "41/41 [==============================] - 46s 1s/step - loss: 0.4349 - accuracy: 0.8104 - precision: 0.8550 - recall: 0.7752 - auc: 0.9663 - f1_score: 0.8104 - val_loss: 0.6117 - val_accuracy: 0.7562 - val_precision: 0.7944 - val_recall: 0.7114 - val_auc: 0.9348 - val_f1_score: 0.7562\n",
            "Epoch 5/35\n",
            "41/41 [==============================] - ETA: 0s - loss: 0.1865 - accuracy: 0.9297 - precision: 0.9351 - recall: 0.9251 - auc: 0.9935 - f1_score: 0.9297\n",
            "Epoch 5: val_accuracy improved from 0.75622 to 0.84577, saving model to best_model.keras\n",
            "41/41 [==============================] - 39s 956ms/step - loss: 0.1865 - accuracy: 0.9297 - precision: 0.9351 - recall: 0.9251 - auc: 0.9935 - f1_score: 0.9297 - val_loss: 0.4160 - val_accuracy: 0.8458 - val_precision: 0.8848 - val_recall: 0.8408 - val_auc: 0.9717 - val_f1_score: 0.8458\n",
            "Epoch 6/35\n",
            "41/41 [==============================] - ETA: 0s - loss: 0.1099 - accuracy: 0.9602 - precision: 0.9631 - recall: 0.9587 - auc: 0.9979 - f1_score: 0.9602\n",
            "Epoch 6: val_accuracy did not improve from 0.84577\n",
            "41/41 [==============================] - 21s 519ms/step - loss: 0.1099 - accuracy: 0.9602 - precision: 0.9631 - recall: 0.9587 - auc: 0.9979 - f1_score: 0.9602 - val_loss: 0.5123 - val_accuracy: 0.7761 - val_precision: 0.8148 - val_recall: 0.7662 - val_auc: 0.9548 - val_f1_score: 0.7761\n",
            "Epoch 7/35\n",
            "41/41 [==============================] - ETA: 0s - loss: 0.1824 - accuracy: 0.9480 - precision: 0.9478 - recall: 0.9434 - auc: 0.9930 - f1_score: 0.9480\n",
            "Epoch 7: val_accuracy did not improve from 0.84577\n",
            "41/41 [==============================] - 21s 519ms/step - loss: 0.1824 - accuracy: 0.9480 - precision: 0.9478 - recall: 0.9434 - auc: 0.9930 - f1_score: 0.9480 - val_loss: 0.6479 - val_accuracy: 0.8060 - val_precision: 0.8050 - val_recall: 0.8010 - val_auc: 0.9513 - val_f1_score: 0.8060\n",
            "Epoch 8/35\n",
            "41/41 [==============================] - ETA: 0s - loss: 0.0843 - accuracy: 0.9771 - precision: 0.9770 - recall: 0.9740 - auc: 0.9978 - f1_score: 0.9771\n",
            "Epoch 8: val_accuracy improved from 0.84577 to 0.92537, saving model to best_model.keras\n",
            "41/41 [==============================] - 35s 862ms/step - loss: 0.0843 - accuracy: 0.9771 - precision: 0.9770 - recall: 0.9740 - auc: 0.9978 - f1_score: 0.9771 - val_loss: 0.3260 - val_accuracy: 0.9254 - val_precision: 0.9296 - val_recall: 0.9204 - val_auc: 0.9812 - val_f1_score: 0.9254\n",
            "Epoch 9/35\n",
            "41/41 [==============================] - ETA: 0s - loss: 0.0481 - accuracy: 0.9832 - precision: 0.9832 - recall: 0.9832 - auc: 0.9988 - f1_score: 0.9832\n",
            "Epoch 9: val_accuracy improved from 0.92537 to 0.94030, saving model to best_model.keras\n",
            "41/41 [==============================] - 40s 974ms/step - loss: 0.0481 - accuracy: 0.9832 - precision: 0.9832 - recall: 0.9832 - auc: 0.9988 - f1_score: 0.9832 - val_loss: 0.2085 - val_accuracy: 0.9403 - val_precision: 0.9538 - val_recall: 0.9254 - val_auc: 0.9927 - val_f1_score: 0.9403\n",
            "Epoch 10/35\n",
            "41/41 [==============================] - ETA: 0s - loss: 0.0065 - accuracy: 1.0000 - precision: 1.0000 - recall: 1.0000 - auc: 1.0000 - f1_score: 1.0000\n",
            "Epoch 10: val_accuracy did not improve from 0.94030\n",
            "41/41 [==============================] - 22s 532ms/step - loss: 0.0065 - accuracy: 1.0000 - precision: 1.0000 - recall: 1.0000 - auc: 1.0000 - f1_score: 1.0000 - val_loss: 0.1731 - val_accuracy: 0.9403 - val_precision: 0.9497 - val_recall: 0.9403 - val_auc: 0.9952 - val_f1_score: 0.9403\n",
            "Epoch 11/35\n",
            "41/41 [==============================] - ETA: 0s - loss: 0.0020 - accuracy: 0.9985 - precision: 0.9985 - recall: 0.9985 - auc: 1.0000 - f1_score: 0.9985\n",
            "Epoch 11: val_accuracy did not improve from 0.94030\n",
            "41/41 [==============================] - 21s 520ms/step - loss: 0.0020 - accuracy: 0.9985 - precision: 0.9985 - recall: 0.9985 - auc: 1.0000 - f1_score: 0.9985 - val_loss: 0.2471 - val_accuracy: 0.9353 - val_precision: 0.9400 - val_recall: 0.9353 - val_auc: 0.9891 - val_f1_score: 0.9353\n",
            "Epoch 12/35\n",
            "41/41 [==============================] - ETA: 0s - loss: 0.0010 - accuracy: 1.0000 - precision: 1.0000 - recall: 1.0000 - auc: 1.0000 - f1_score: 1.0000\n",
            "Epoch 12: val_accuracy did not improve from 0.94030\n",
            "41/41 [==============================] - 21s 516ms/step - loss: 0.0010 - accuracy: 1.0000 - precision: 1.0000 - recall: 1.0000 - auc: 1.0000 - f1_score: 1.0000 - val_loss: 0.4263 - val_accuracy: 0.9303 - val_precision: 0.9350 - val_recall: 0.9303 - val_auc: 0.9745 - val_f1_score: 0.9303\n",
            "Epoch 13/35\n",
            "41/41 [==============================] - ETA: 0s - loss: 6.4235e-04 - accuracy: 1.0000 - precision: 1.0000 - recall: 1.0000 - auc: 1.0000 - f1_score: 1.0000\n",
            "Epoch 13: val_accuracy did not improve from 0.94030\n",
            "41/41 [==============================] - 21s 515ms/step - loss: 6.4235e-04 - accuracy: 1.0000 - precision: 1.0000 - recall: 1.0000 - auc: 1.0000 - f1_score: 1.0000 - val_loss: 0.2781 - val_accuracy: 0.9403 - val_precision: 0.9450 - val_recall: 0.9403 - val_auc: 0.9827 - val_f1_score: 0.9403\n",
            "Epoch 14/35\n",
            "41/41 [==============================] - ETA: 0s - loss: 1.8110e-04 - accuracy: 1.0000 - precision: 1.0000 - recall: 1.0000 - auc: 1.0000 - f1_score: 1.0000\n",
            "Epoch 14: val_accuracy did not improve from 0.94030\n",
            "41/41 [==============================] - 22s 525ms/step - loss: 1.8110e-04 - accuracy: 1.0000 - precision: 1.0000 - recall: 1.0000 - auc: 1.0000 - f1_score: 1.0000 - val_loss: 0.3074 - val_accuracy: 0.9353 - val_precision: 0.9353 - val_recall: 0.9353 - val_auc: 0.9804 - val_f1_score: 0.9353\n",
            "Epoch 15/35\n",
            "41/41 [==============================] - ETA: 0s - loss: 1.2725e-04 - accuracy: 1.0000 - precision: 1.0000 - recall: 1.0000 - auc: 1.0000 - f1_score: 1.0000\n",
            "Epoch 15: val_accuracy improved from 0.94030 to 0.95025, saving model to best_model.keras\n",
            "Restoring model weights from the end of the best epoch: 10.\n",
            "41/41 [==============================] - 36s 880ms/step - loss: 1.2725e-04 - accuracy: 1.0000 - precision: 1.0000 - recall: 1.0000 - auc: 1.0000 - f1_score: 1.0000 - val_loss: 0.3087 - val_accuracy: 0.9502 - val_precision: 0.9500 - val_recall: 0.9453 - val_auc: 0.9776 - val_f1_score: 0.9502\n",
            "Epoch 15: early stopping\n"
          ]
        }
      ],
      "source": [
        "history = model.fit(\n",
        "    train_generator,\n",
        "    validation_data=validation_generator,\n",
        "    epochs=35,\n",
        "    callbacks=callbacks,\n",
        "        verbose=1\n",
        "    #  , class_weight=class_weights\n",
        ")"
      ]
    },
    {
      "cell_type": "code",
      "execution_count": null,
      "metadata": {
        "id": "kE8Q1PqGaBjD",
        "colab": {
          "base_uri": "https://localhost:8080/",
          "height": 515
        },
        "outputId": "b4c14aa5-47ff-41cd-9c98-6da9b78bc4c6"
      },
      "outputs": [
        {
          "output_type": "display_data",
          "data": {
            "text/plain": [
              "<Figure size 2200x500 with 5 Axes>"
            ],
            "image/png": "[encoded data removed]"
          },
          "metadata": {}
        }
      ],
      "source": [
        "def Train_Val_Plot(acc, val_acc, loss, val_loss, auc, val_auc, precision, val_precision, f1, val_f1):\n",
        "\n",
        "    fig, (ax1, ax2, ax3, ax4, ax5) = plt.subplots(1, 5, figsize=(22, 5))\n",
        "    fig.suptitle(\" MODEL'S METRICS VISUALIZATION \")\n",
        "\n",
        "    # Rescale the y-axis for accuracy, auc, precision, and f1\n",
        "    rescale_factor = 0  # Adjust this factor to control the rescaling\n",
        "\n",
        "    ax1.plot(range(1, len(acc) + 1), acc)\n",
        "    ax1.plot(range(1, len(val_acc) + 1), val_acc)\n",
        "    ax1.set_title('History of Accuracy')\n",
        "    ax1.set_xlabel('Epochs')\n",
        "    ax1.set_ylabel('Accuracy')\n",
        "    ax1.set_ylim([0, 1.0])\n",
        "    ax1.legend(['training', 'validation'])\n",
        "\n",
        "    ax2.plot(range(1, len(loss) + 1), loss)\n",
        "    ax2.plot(range(1, len(val_loss) + 1), val_loss)\n",
        "    ax2.set_title('History of Loss')\n",
        "    ax2.set_xlabel('Epochs')\n",
        "    ax2.set_ylabel('Loss')\n",
        "    ax2.legend(['training', 'validation'])\n",
        "\n",
        "    ax3.plot(range(1, len(auc) + 1), auc)\n",
        "    ax3.plot(range(1, len(val_auc) + 1), val_auc)\n",
        "    ax3.set_title('History of AUC')\n",
        "    ax3.set_xlabel('Epochs')\n",
        "    ax3.set_ylabel('AUC')\n",
        "    ax3.set_ylim([rescale_factor, 1.0])\n",
        "    ax3.legend(['training', 'validation'])\n",
        "\n",
        "    ax4.plot(range(1, len(precision) + 1), precision)\n",
        "    ax4.plot(range(1, len(val_precision) + 1), val_precision)\n",
        "    ax4.set_title('History of Precision')\n",
        "    ax4.set_xlabel('Epochs')\n",
        "    ax4.set_ylabel('Precision')\n",
        "    ax4.set_ylim([rescale_factor, 1.0])\n",
        "    ax4.legend(['training', 'validation'])\n",
        "\n",
        "    ax5.plot(range(1, len(f1) + 1), f1)\n",
        "    ax5.plot(range(1, len(val_f1) + 1), val_f1)\n",
        "    ax5.set_title('History of F1-score')\n",
        "    ax5.set_xlabel('Epochs')\n",
        "    ax5.set_ylabel('F1 score')\n",
        "    ax5.set_ylim([rescale_factor, 1.0])\n",
        "    ax5.legend(['training', 'validation'])\n",
        "\n",
        "    plt.show()\n",
        "\n",
        "# Example usage:\n",
        "Train_Val_Plot(history.history['accuracy'], history.history['val_accuracy'],\n",
        "               history.history['loss'], history.history['val_loss']\n",
        "               ,\n",
        "               history.history['auc'], history.history['val_auc'],\n",
        "               history.history['precision'], history.history['val_precision'],\n",
        "               history.history['f1_score'], history.history['val_f1_score'])\n"
      ]
    },
    {
      "cell_type": "code",
      "execution_count": null,
      "metadata": {
        "id": "utE8sko2aBjD",
        "colab": {
          "base_uri": "https://localhost:8080/"
        },
        "outputId": "04829192-5720-4a0c-fc6a-73eca54ae392"
      },
      "outputs": [
        {
          "output_type": "stream",
          "name": "stdout",
          "text": [
            "10/10 [==============================] - 2s 214ms/step - loss: 0.2488 - accuracy: 0.9448 - precision: 0.9448 - recall: 0.9448 - auc: 0.9851 - f1_score: 0.9448\n"
          ]
        },
        {
          "output_type": "execute_result",
          "data": {
            "text/plain": [
              "[0.2487512230873108,\n",
              " 0.9448275566101074,\n",
              " 0.9448275566101074,\n",
              " 0.9448275566101074,\n",
              " 0.9851367473602295,\n",
              " 0.9448275566101074]"
            ]
          },
          "metadata": {},
          "execution_count": 29
        }
      ],
      "source": [
        "model.evaluate(test_generator)"
      ]
    },
    {
      "cell_type": "code",
      "source": [
        "# Load the test dataset\n",
        "X_test, y_test = [], []\n",
        "for i in range(len(validation_generator)):\n",
        "    batch_X, batch_y = validation_generator[i]\n",
        "    X_test.append(batch_X)\n",
        "    y_test.append(batch_y)\n",
        "X_test = np.concatenate(X_test)\n",
        "y_test = np.concatenate(y_test)\n",
        "\n",
        "# Make predictions on the test set\n",
        "y_pred = model.predict(X_test)\n",
        "\n",
        "# Convert the one-hot encoded predictions to class labels\n",
        "y_pred_classes = np.argmax(y_pred, axis=1)\n",
        "\n",
        "# Convert the one-hot encoded true labels to class labels\n",
        "y_true_classes = np.argmax(y_test, axis=1)\n",
        "\n",
        "# Create a classification report\n",
        "report = classification_report(y_true_classes, y_pred_classes)\n",
        "\n",
        "print(report)"
      ],
      "metadata": {
        "id": "z0kvictcppHg",
        "colab": {
          "base_uri": "https://localhost:8080/"
        },
        "outputId": "f8682a16-2be9-4d99-9227-5652f2bbba23"
      },
      "execution_count": null,
      "outputs": [
        {
          "output_type": "stream",
          "name": "stdout",
          "text": [
            "7/7 [==============================] - 6s 207ms/step\n",
            "              precision    recall  f1-score   support\n",
            "\n",
            "           0       0.95      0.93      0.94        68\n",
            "           1       0.87      0.87      0.87        38\n",
            "           2       0.98      1.00      0.99        43\n",
            "           3       0.94      0.96      0.95        52\n",
            "\n",
            "    accuracy                           0.94       201\n",
            "   macro avg       0.94      0.94      0.94       201\n",
            "weighted avg       0.94      0.94      0.94       201\n",
            "\n"
          ]
        }
      ]
    },
    {
      "cell_type": "code",
      "source": [
        "cm = confusion_matrix(y_true_classes, y_pred_classes)\n",
        "\n",
        "# Plotting the Confusion Matrix\n",
        "plt.figure(figsize=(8, 6))\n",
        "sns.heatmap(cm, annot=True, fmt='d', cmap='Blues', xticklabels=class_names, yticklabels=class_names)\n",
        "plt.xlabel('Predicted')\n",
        "plt.ylabel('True')\n",
        "plt.title('Confusion Matrix')\n",
        "plt.show()\n"
      ],
      "metadata": {
        "id": "1oDQrOfqpz_i",
        "colab": {
          "base_uri": "https://localhost:8080/",
          "height": 727
        },
        "outputId": "d5668cc9-77de-4b0a-d85d-0f88316a1eb9"
      },
      "execution_count": null,
      "outputs": [
        {
          "output_type": "display_data",
          "data": {
            "text/plain": [
              "<Figure size 800x600 with 2 Axes>"
            ],
            "image/png": "[encoded data removed]"
          },
          "metadata": {}
        }
      ]
    }
  ]
}